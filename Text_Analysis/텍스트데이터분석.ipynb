{
 "cells": [
  {
   "cell_type": "markdown",
   "metadata": {},
   "source": [
    "# 웹 크롤링"
   ]
  },
  {
   "cell_type": "code",
   "execution_count": 1,
   "metadata": {},
   "outputs": [],
   "source": [
    "import lxml.html\n",
    "import requests\n",
    "import pandas as pd"
   ]
  },
  {
   "cell_type": "code",
   "execution_count": 2,
   "metadata": {},
   "outputs": [],
   "source": [
    "url='https://search.shopping.naver.com/search/all?frm=NVSCTAB&origQuery=%EB%AC%B4%EB%A6%8E%EB%B3%B4%ED%98%B8%EB%8C%80&pagingIndex=1&pagingSize=40&productSet=total&query=%EB%AC%B4%EB%A6%8E%EB%B3%B4%ED%98%B8%EB%8C%80&sort=review&timestamp=&viewType=list'"
   ]
  },
  {
   "cell_type": "code",
   "execution_count": 6,
   "metadata": {
    "scrolled": false
   },
   "outputs": [],
   "source": [
    "#!pip install webdriver-manager"
   ]
  },
  {
   "cell_type": "code",
   "execution_count": 7,
   "metadata": {},
   "outputs": [],
   "source": [
    "from selenium.webdriver import Chrome\n",
    "from webdriver_manager.chrome import ChromeDriverManager"
   ]
  },
  {
   "cell_type": "code",
   "execution_count": 9,
   "metadata": {
    "scrolled": true
   },
   "outputs": [
    {
     "name": "stderr",
     "output_type": "stream",
     "text": [
      "\n",
      "\n",
      "====== WebDriver manager ======\n",
      "Current google-chrome version is 96.0.4664\n",
      "Get LATEST chromedriver version for 96.0.4664 google-chrome\n",
      "There is no [win32] chromedriver for browser  in cache\n",
      "Trying to download new driver from https://chromedriver.storage.googleapis.com/96.0.4664.45/chromedriver_win32.zip\n",
      "Driver has been saved in cache [C:\\Users\\wpdla\\.wdm\\drivers\\chromedriver\\win32\\96.0.4664.45]\n"
     ]
    }
   ],
   "source": [
    "browser = Chrome(ChromeDriverManager().install())  \n",
    "## ChromeDriverManager를 사용해 최신버전의 크롬드라이버를 자동으로 사용"
   ]
  },
  {
   "cell_type": "code",
   "execution_count": 10,
   "metadata": {},
   "outputs": [],
   "source": [
    "browser.get(url)"
   ]
  },
  {
   "cell_type": "code",
   "execution_count": 30,
   "metadata": {},
   "outputs": [],
   "source": [
    "# 화면 이동 밑으로\n",
    "browser.execute_script('window.scrollTo(0, document.body.scrollHeight);')"
   ]
  },
  {
   "cell_type": "code",
   "execution_count": 31,
   "metadata": {},
   "outputs": [],
   "source": [
    "#쇼핑몰 URL구하기\n",
    "url_links=browser.find_elements_by_css_selector('div.basicList_title__3P9Q7 a.basicList_link__1MaTN')"
   ]
  },
  {
   "cell_type": "code",
   "execution_count": 33,
   "metadata": {},
   "outputs": [],
   "source": [
    "urls = []\n",
    "for link in url_links:\n",
    "    urls.append(link.get_attribute(\"href\"))"
   ]
  },
  {
   "cell_type": "code",
   "execution_count": 34,
   "metadata": {},
   "outputs": [
    {
     "data": {
      "text/plain": [
       "40"
      ]
     },
     "execution_count": 34,
     "metadata": {},
     "output_type": "execute_result"
    }
   ],
   "source": [
    "len(urls)"
   ]
  },
  {
   "cell_type": "code",
   "execution_count": 35,
   "metadata": {},
   "outputs": [],
   "source": [
    "#페이지 넘기기\n",
    "page=browser.find_elements_by_css_selector('div.pagination_pagination__6AcG4 a.pagination_next__1ITTf')"
   ]
  },
  {
   "cell_type": "code",
   "execution_count": 36,
   "metadata": {},
   "outputs": [],
   "source": [
    "page[0].click()"
   ]
  },
  {
   "cell_type": "code",
   "execution_count": 37,
   "metadata": {},
   "outputs": [],
   "source": [
    "url_links=browser.find_elements_by_css_selector('div.basicList_title__3P9Q7 a.basicList_link__1MaTN')"
   ]
  },
  {
   "cell_type": "code",
   "execution_count": 38,
   "metadata": {},
   "outputs": [],
   "source": [
    "for link in url_links:\n",
    "    urls.append(link.get_attribute(\"href\"))"
   ]
  },
  {
   "cell_type": "code",
   "execution_count": 39,
   "metadata": {},
   "outputs": [
    {
     "data": {
      "text/plain": [
       "80"
      ]
     },
     "execution_count": 39,
     "metadata": {},
     "output_type": "execute_result"
    }
   ],
   "source": [
    "len(urls)"
   ]
  },
  {
   "cell_type": "code",
   "execution_count": 40,
   "metadata": {},
   "outputs": [],
   "source": [
    "browser.close()"
   ]
  },
  {
   "cell_type": "markdown",
   "metadata": {},
   "source": [
    "리뷰 읽어보며 제품 리스트 추출"
   ]
  },
  {
   "cell_type": "markdown",
   "metadata": {},
   "source": [
    "- 1.투어게인 https://smartstore.naver.com/two-again/products/4536803159\n",
    "- 2. 에이더 https://smartstore.naver.com/sowonmall/products/447336205\n",
    "- 3. 제로투히어로 https://smartstore.naver.com/zerotohero/products/3407776007\n",
    "- 4. 잠스트 https://smartstore.naver.com/masterwook/products/2171683621\n",
    "- 5. 바디프레임 https://smartstore.naver.com/emporia/products/2101304779\n",
    "- 6. 에스비디 https://smartstore.naver.com/bxg/products/3896309171\n",
    "- 7. 바우어파인트 https://smartstore.naver.com/bauerfeindkorea/products/746315181\n",
    "- 8. 울티모 https://smartstore.naver.com/scrolling/products/4729415562\n",
    "- 9. 에이더 바디바인 https://smartstore.naver.com/sowonmall/products/2160569906\n",
    "- 10. 바우어파인트 NBA https://smartstore.naver.com/bauerfeindkorea/products/2155178936\n",
    "- 11. 슈퍼비스트 https://smartstore.naver.com/seasonon/products/3900178279\n",
    "- 12. 마이짐 https://smartstore.naver.com/myhomegym/products/4217685910\n",
    "- 13. 리밴드 https://smartstore.naver.com/rehband/products/675240213"
   ]
  },
  {
   "cell_type": "code",
   "execution_count": 2,
   "metadata": {},
   "outputs": [],
   "source": [
    "# url 직접 바꿔가면서 리뷰 수집함\n",
    "url = 'https://smartstore.naver.com/two-again/products/4536803159' "
   ]
  },
  {
   "cell_type": "code",
   "execution_count": 3,
   "metadata": {},
   "outputs": [],
   "source": [
    "from selenium.webdriver import Chrome\n",
    "\n",
    "browser = Chrome()\n",
    "browser.get(url)"
   ]
  },
  {
   "cell_type": "code",
   "execution_count": 4,
   "metadata": {},
   "outputs": [],
   "source": [
    "#리뷰 페이지 넘기기\n",
    "links=browser.find_elements_by_css_selector('div._1HJarNZHiI._2UJrM31-Ry._3F77jPGGAN a')"
   ]
  },
  {
   "cell_type": "code",
   "execution_count": 5,
   "metadata": {},
   "outputs": [],
   "source": [
    "re_data = []"
   ]
  },
  {
   "cell_type": "code",
   "execution_count": 9,
   "metadata": {},
   "outputs": [],
   "source": [
    "import time"
   ]
  },
  {
   "cell_type": "code",
   "execution_count": 10,
   "metadata": {},
   "outputs": [],
   "source": [
    "# 긍정리뷰 스크랩\n",
    "for i in range(2,12):\n",
    "    time.sleep(1)\n",
    "    reviews = browser.find_elements_by_css_selector('div.YEtwtZFLDz span._3QDEeS6NLn')\n",
    "    time.sleep(1)\n",
    "    for review in reviews:\n",
    "        re_data.append(review.text)\n",
    "    time.sleep(1)\n",
    "    links[i].click()\n",
    "    time.sleep(1)"
   ]
  },
  {
   "cell_type": "code",
   "execution_count": 8,
   "metadata": {},
   "outputs": [],
   "source": [
    "# 평점 높은 리뷰, 낮은 리뷰 순으로 보기\n",
    "rank=browser.find_elements_by_css_selector('ul.EP5-YthxnX li')"
   ]
  },
  {
   "cell_type": "code",
   "execution_count": 9,
   "metadata": {},
   "outputs": [],
   "source": [
    "#평점 낮은 리뷰\n",
    "rank[3].click()"
   ]
  },
  {
   "cell_type": "code",
   "execution_count": 10,
   "metadata": {},
   "outputs": [],
   "source": [
    "links=browser.find_elements_by_css_selector('div._1HJarNZHiI._2UJrM31-Ry._3F77jPGGAN a')"
   ]
  },
  {
   "cell_type": "code",
   "execution_count": 11,
   "metadata": {},
   "outputs": [],
   "source": [
    "# 부정리뷰 스크랩\n",
    "for i in range(2,12):\n",
    "    time.sleep(1)\n",
    "    reviews = browser.find_elements_by_css_selector('div.YEtwtZFLDz span._3QDEeS6NLn')\n",
    "    time.sleep(1)\n",
    "    for review in reviews:\n",
    "        re_data.append(review.text)\n",
    "    time.sleep(1)\n",
    "    links[i].click()\n",
    "    time.sleep(1)"
   ]
  },
  {
   "cell_type": "code",
   "execution_count": 12,
   "metadata": {},
   "outputs": [
    {
     "data": {
      "text/plain": [
       "400"
      ]
     },
     "execution_count": 12,
     "metadata": {},
     "output_type": "execute_result"
    }
   ],
   "source": [
    "len(re_data)"
   ]
  },
  {
   "cell_type": "code",
   "execution_count": 13,
   "metadata": {},
   "outputs": [],
   "source": [
    "review_data=[]\n",
    "for i in re_data:\n",
    "    a=i.replace(\"\\n\",\" \")\n",
    "    review_data.append(a)"
   ]
  },
  {
   "cell_type": "code",
   "execution_count": 14,
   "metadata": {},
   "outputs": [],
   "source": [
    "la_data = []"
   ]
  },
  {
   "cell_type": "code",
   "execution_count": 15,
   "metadata": {},
   "outputs": [],
   "source": [
    "rank=browser.find_elements_by_css_selector('ul.EP5-YthxnX li')"
   ]
  },
  {
   "cell_type": "code",
   "execution_count": 16,
   "metadata": {
    "scrolled": true
   },
   "outputs": [],
   "source": [
    "#평점 높은 리뷰\n",
    "rank[0].click()"
   ]
  },
  {
   "cell_type": "code",
   "execution_count": 17,
   "metadata": {},
   "outputs": [],
   "source": [
    "links=browser.find_elements_by_css_selector('div._1HJarNZHiI._2UJrM31-Ry._3F77jPGGAN a')"
   ]
  },
  {
   "cell_type": "code",
   "execution_count": 18,
   "metadata": {},
   "outputs": [],
   "source": [
    "# 긍정 리뷰에 대한 평점 스크랩\n",
    "for i in range(2,12):\n",
    "    time.sleep(1)\n",
    "    labels = browser.find_elements_by_css_selector('div._37TlmH3OaI em._15NU42F3kT')\n",
    "    time.sleep(1)\n",
    "    for label in labels:\n",
    "        la_data.append(label.text)\n",
    "    time.sleep(1)\n",
    "    links[i].click()\n",
    "    time.sleep(1)"
   ]
  },
  {
   "cell_type": "code",
   "execution_count": 19,
   "metadata": {},
   "outputs": [],
   "source": [
    "rank=browser.find_elements_by_css_selector('ul.EP5-YthxnX li')"
   ]
  },
  {
   "cell_type": "code",
   "execution_count": 20,
   "metadata": {
    "scrolled": true
   },
   "outputs": [],
   "source": [
    "rank[3].click()"
   ]
  },
  {
   "cell_type": "code",
   "execution_count": 21,
   "metadata": {},
   "outputs": [],
   "source": [
    "links=browser.find_elements_by_css_selector('div._1HJarNZHiI._2UJrM31-Ry._3F77jPGGAN a')"
   ]
  },
  {
   "cell_type": "code",
   "execution_count": 22,
   "metadata": {},
   "outputs": [],
   "source": [
    "# 부정 평점\n",
    "for i in range(2,12):\n",
    "    time.sleep(1)\n",
    "    labels = browser.find_elements_by_css_selector('div._37TlmH3OaI em._15NU42F3kT')\n",
    "    time.sleep(1)\n",
    "    for label in labels:\n",
    "        la_data.append(label.text)\n",
    "    time.sleep(1)\n",
    "    links[i].click()\n",
    "    time.sleep(1)"
   ]
  },
  {
   "cell_type": "code",
   "execution_count": 23,
   "metadata": {
    "scrolled": true
   },
   "outputs": [
    {
     "data": {
      "text/plain": [
       "400"
      ]
     },
     "execution_count": 23,
     "metadata": {},
     "output_type": "execute_result"
    }
   ],
   "source": [
    "len(la_data)"
   ]
  },
  {
   "cell_type": "code",
   "execution_count": 24,
   "metadata": {},
   "outputs": [],
   "source": [
    "col_name = ['review']"
   ]
  },
  {
   "cell_type": "code",
   "execution_count": 25,
   "metadata": {},
   "outputs": [],
   "source": [
    "df = pd.DataFrame(review_data, columns=col_name)"
   ]
  },
  {
   "cell_type": "code",
   "execution_count": 26,
   "metadata": {},
   "outputs": [],
   "source": [
    "df['label']=la_data"
   ]
  },
  {
   "cell_type": "code",
   "execution_count": 27,
   "metadata": {},
   "outputs": [
    {
     "data": {
      "text/html": [
       "<div>\n",
       "<style scoped>\n",
       "    .dataframe tbody tr th:only-of-type {\n",
       "        vertical-align: middle;\n",
       "    }\n",
       "\n",
       "    .dataframe tbody tr th {\n",
       "        vertical-align: top;\n",
       "    }\n",
       "\n",
       "    .dataframe thead th {\n",
       "        text-align: right;\n",
       "    }\n",
       "</style>\n",
       "<table border=\"1\" class=\"dataframe\">\n",
       "  <thead>\n",
       "    <tr style=\"text-align: right;\">\n",
       "      <th></th>\n",
       "      <th>review</th>\n",
       "      <th>label</th>\n",
       "    </tr>\n",
       "  </thead>\n",
       "  <tbody>\n",
       "    <tr>\n",
       "      <th>0</th>\n",
       "      <td>아직까지도 잘 쓰고 있습니다ㅎㅎ 확실히 무릎을 잡아주니 무릎에 가해지는 부담도 줄고...</td>\n",
       "      <td>5</td>\n",
       "    </tr>\n",
       "    <tr>\n",
       "      <th>1</th>\n",
       "      <td>배송은 평일2일만에 빠르게 도착했고 문의응답 매우 친절하십니다.. 가격이 너무 싸서...</td>\n",
       "      <td>5</td>\n",
       "    </tr>\n",
       "    <tr>\n",
       "      <th>2</th>\n",
       "      <td>배송 2일 걸려서 빠르게 받았네요 문의에 응답도 친절해서 좋았어요 사이즈는 7mm라...</td>\n",
       "      <td>5</td>\n",
       "    </tr>\n",
       "    <tr>\n",
       "      <th>3</th>\n",
       "      <td>배송 빠르고 상품 잘 받았습니다 깔끔하게 잘 왔네요 운동할때 보호대가 꼭 필요하다 ...</td>\n",
       "      <td>5</td>\n",
       "    </tr>\n",
       "    <tr>\n",
       "      <th>4</th>\n",
       "      <td>배송 빠르고 상품 잘 받았습니다 깔끔하게 잘 왔네요 운동할때 보호대가 꼭 필요하다 ...</td>\n",
       "      <td>5</td>\n",
       "    </tr>\n",
       "  </tbody>\n",
       "</table>\n",
       "</div>"
      ],
      "text/plain": [
       "                                              review label\n",
       "0  아직까지도 잘 쓰고 있습니다ㅎㅎ 확실히 무릎을 잡아주니 무릎에 가해지는 부담도 줄고...     5\n",
       "1  배송은 평일2일만에 빠르게 도착했고 문의응답 매우 친절하십니다.. 가격이 너무 싸서...     5\n",
       "2  배송 2일 걸려서 빠르게 받았네요 문의에 응답도 친절해서 좋았어요 사이즈는 7mm라...     5\n",
       "3  배송 빠르고 상품 잘 받았습니다 깔끔하게 잘 왔네요 운동할때 보호대가 꼭 필요하다 ...     5\n",
       "4  배송 빠르고 상품 잘 받았습니다 깔끔하게 잘 왔네요 운동할때 보호대가 꼭 필요하다 ...     5"
      ]
     },
     "execution_count": 27,
     "metadata": {},
     "output_type": "execute_result"
    }
   ],
   "source": [
    "df.head()"
   ]
  },
  {
   "cell_type": "markdown",
   "metadata": {},
   "source": [
    "## 전처리"
   ]
  },
  {
   "cell_type": "code",
   "execution_count": 28,
   "metadata": {
    "scrolled": true
   },
   "outputs": [
    {
     "data": {
      "text/plain": [
       "0      False\n",
       "1      False\n",
       "2      False\n",
       "3      False\n",
       "4       True\n",
       "       ...  \n",
       "395    False\n",
       "396    False\n",
       "397    False\n",
       "398    False\n",
       "399    False\n",
       "Length: 400, dtype: bool"
      ]
     },
     "execution_count": 28,
     "metadata": {},
     "output_type": "execute_result"
    }
   ],
   "source": [
    "df.duplicated(['review','label'])"
   ]
  },
  {
   "cell_type": "code",
   "execution_count": 29,
   "metadata": {},
   "outputs": [],
   "source": [
    "df = df.drop_duplicates() "
   ]
  },
  {
   "cell_type": "code",
   "execution_count": 30,
   "metadata": {},
   "outputs": [],
   "source": [
    "df = df.astype({'label': 'int'})"
   ]
  },
  {
   "cell_type": "code",
   "execution_count": 31,
   "metadata": {},
   "outputs": [],
   "source": [
    "# 3점 이하의 점수는 0점으로, 4점이상의 점수는 1점으로 변환\n",
    "df1=df['label'].apply(lambda x : 1 if x>3 else 0)"
   ]
  },
  {
   "cell_type": "code",
   "execution_count": 32,
   "metadata": {},
   "outputs": [],
   "source": [
    "df['label']=df1"
   ]
  },
  {
   "cell_type": "code",
   "execution_count": 33,
   "metadata": {},
   "outputs": [
    {
     "data": {
      "text/html": [
       "<div>\n",
       "<style scoped>\n",
       "    .dataframe tbody tr th:only-of-type {\n",
       "        vertical-align: middle;\n",
       "    }\n",
       "\n",
       "    .dataframe tbody tr th {\n",
       "        vertical-align: top;\n",
       "    }\n",
       "\n",
       "    .dataframe thead th {\n",
       "        text-align: right;\n",
       "    }\n",
       "</style>\n",
       "<table border=\"1\" class=\"dataframe\">\n",
       "  <thead>\n",
       "    <tr style=\"text-align: right;\">\n",
       "      <th></th>\n",
       "      <th>review</th>\n",
       "      <th>label</th>\n",
       "    </tr>\n",
       "  </thead>\n",
       "  <tbody>\n",
       "    <tr>\n",
       "      <th>0</th>\n",
       "      <td>아직까지도 잘 쓰고 있습니다ㅎㅎ 확실히 무릎을 잡아주니 무릎에 가해지는 부담도 줄고...</td>\n",
       "      <td>1</td>\n",
       "    </tr>\n",
       "    <tr>\n",
       "      <th>1</th>\n",
       "      <td>배송은 평일2일만에 빠르게 도착했고 문의응답 매우 친절하십니다.. 가격이 너무 싸서...</td>\n",
       "      <td>1</td>\n",
       "    </tr>\n",
       "    <tr>\n",
       "      <th>2</th>\n",
       "      <td>배송 2일 걸려서 빠르게 받았네요 문의에 응답도 친절해서 좋았어요 사이즈는 7mm라...</td>\n",
       "      <td>1</td>\n",
       "    </tr>\n",
       "    <tr>\n",
       "      <th>3</th>\n",
       "      <td>배송 빠르고 상품 잘 받았습니다 깔끔하게 잘 왔네요 운동할때 보호대가 꼭 필요하다 ...</td>\n",
       "      <td>1</td>\n",
       "    </tr>\n",
       "    <tr>\n",
       "      <th>5</th>\n",
       "      <td>(+사진은 오자마자 대충 착용하고 추천해준 친구에게 보내주는 용도로 썼던거고 저 이...</td>\n",
       "      <td>0</td>\n",
       "    </tr>\n",
       "    <tr>\n",
       "      <th>...</th>\n",
       "      <td>...</td>\n",
       "      <td>...</td>\n",
       "    </tr>\n",
       "    <tr>\n",
       "      <th>395</th>\n",
       "      <td>배송이 조금 느립니다. 상품은 일상활동에는 조금 덥고 답답한 느낌이 있네요</td>\n",
       "      <td>0</td>\n",
       "    </tr>\n",
       "    <tr>\n",
       "      <th>396</th>\n",
       "      <td>두껍긴 한데 냄새가 넘 심해서 ㅠㅠ  계속 냄세 빼는중 ㅠㅠ</td>\n",
       "      <td>0</td>\n",
       "    </tr>\n",
       "    <tr>\n",
       "      <th>397</th>\n",
       "      <td>짱짱해서 좋긴한데 고무 냄새같은게 좀 많이 나기는 하네요 세탁하면 괜찮겠죠..</td>\n",
       "      <td>0</td>\n",
       "    </tr>\n",
       "    <tr>\n",
       "      <th>398</th>\n",
       "      <td>쫀쫀하니 무릎을 잘 잡아주는것 같아요. 근데 화학냄새가 많이 나요;; 제가 보호대를...</td>\n",
       "      <td>0</td>\n",
       "    </tr>\n",
       "    <tr>\n",
       "      <th>399</th>\n",
       "      <td>노인이 쓰기에는 타이트하신가봐요ㅠㅠ</td>\n",
       "      <td>0</td>\n",
       "    </tr>\n",
       "  </tbody>\n",
       "</table>\n",
       "<p>388 rows × 2 columns</p>\n",
       "</div>"
      ],
      "text/plain": [
       "                                                review  label\n",
       "0    아직까지도 잘 쓰고 있습니다ㅎㅎ 확실히 무릎을 잡아주니 무릎에 가해지는 부담도 줄고...      1\n",
       "1    배송은 평일2일만에 빠르게 도착했고 문의응답 매우 친절하십니다.. 가격이 너무 싸서...      1\n",
       "2    배송 2일 걸려서 빠르게 받았네요 문의에 응답도 친절해서 좋았어요 사이즈는 7mm라...      1\n",
       "3    배송 빠르고 상품 잘 받았습니다 깔끔하게 잘 왔네요 운동할때 보호대가 꼭 필요하다 ...      1\n",
       "5    (+사진은 오자마자 대충 착용하고 추천해준 친구에게 보내주는 용도로 썼던거고 저 이...      0\n",
       "..                                                 ...    ...\n",
       "395          배송이 조금 느립니다. 상품은 일상활동에는 조금 덥고 답답한 느낌이 있네요      0\n",
       "396                  두껍긴 한데 냄새가 넘 심해서 ㅠㅠ  계속 냄세 빼는중 ㅠㅠ      0\n",
       "397        짱짱해서 좋긴한데 고무 냄새같은게 좀 많이 나기는 하네요 세탁하면 괜찮겠죠..      0\n",
       "398  쫀쫀하니 무릎을 잘 잡아주는것 같아요. 근데 화학냄새가 많이 나요;; 제가 보호대를...      0\n",
       "399                                노인이 쓰기에는 타이트하신가봐요ㅠㅠ      0\n",
       "\n",
       "[388 rows x 2 columns]"
      ]
     },
     "execution_count": 33,
     "metadata": {},
     "output_type": "execute_result"
    }
   ],
   "source": [
    "df"
   ]
  },
  {
   "cell_type": "code",
   "execution_count": 34,
   "metadata": {},
   "outputs": [],
   "source": [
    " df.to_csv(\"df1.csv\")"
   ]
  },
  {
   "cell_type": "markdown",
   "metadata": {},
   "source": [
    "## 단어문서행렬"
   ]
  },
  {
   "cell_type": "code",
   "execution_count": 41,
   "metadata": {},
   "outputs": [],
   "source": [
    "import stanza"
   ]
  },
  {
   "cell_type": "code",
   "execution_count": 42,
   "metadata": {},
   "outputs": [
    {
     "name": "stderr",
     "output_type": "stream",
     "text": [
      "Downloading https://raw.githubusercontent.com/stanfordnlp/stanza-resources/master/resources_1.2.0.json: 128kB [00:00, 21.4MB/s]\n",
      "2021-04-29 02:27:59 INFO: Downloading default packages for language: ko (Korean)...\n",
      "2021-04-29 02:28:00 INFO: File exists: C:\\Users\\wpdla\\stanza_resources\\ko\\default.zip.\n",
      "2021-04-29 02:28:02 INFO: Finished downloading models and saved to C:\\Users\\wpdla\\stanza_resources.\n"
     ]
    }
   ],
   "source": [
    "stanza.download('ko')"
   ]
  },
  {
   "cell_type": "code",
   "execution_count": 43,
   "metadata": {},
   "outputs": [
    {
     "name": "stderr",
     "output_type": "stream",
     "text": [
      "2021-04-29 02:28:05 INFO: Loading these models for language: ko (Korean):\n",
      "=======================\n",
      "| Processor | Package |\n",
      "-----------------------\n",
      "| tokenize  | kaist   |\n",
      "| pos       | kaist   |\n",
      "| lemma     | kaist   |\n",
      "| depparse  | kaist   |\n",
      "=======================\n",
      "\n",
      "2021-04-29 02:28:05 INFO: Use device: cpu\n",
      "2021-04-29 02:28:05 INFO: Loading: tokenize\n",
      "2021-04-29 02:28:05 INFO: Loading: pos\n",
      "2021-04-29 02:28:05 INFO: Loading: lemma\n",
      "2021-04-29 02:28:06 INFO: Loading: depparse\n",
      "2021-04-29 02:28:06 INFO: Done loading processors!\n"
     ]
    }
   ],
   "source": [
    "nlp = stanza.Pipeline('ko')"
   ]
  },
  {
   "cell_type": "code",
   "execution_count": 51,
   "metadata": {},
   "outputs": [],
   "source": [
    "doc = nlp(df.review[0])"
   ]
  },
  {
   "cell_type": "code",
   "execution_count": 1,
   "metadata": {},
   "outputs": [
    {
     "data": {
      "text/plain": [
       "0"
      ]
     },
     "execution_count": 1,
     "metadata": {},
     "output_type": "execute_result"
    }
   ],
   "source": [
    "from kiwipiepy import Kiwi\n",
    "kiwi = Kiwi()\n",
    "kiwi.prepare()"
   ]
  },
  {
   "cell_type": "code",
   "execution_count": 2,
   "metadata": {},
   "outputs": [],
   "source": [
    "import pandas as pd\n",
    "df = pd.read_csv('df1.csv', index_col = 0)"
   ]
  },
  {
   "cell_type": "code",
   "execution_count": 6,
   "metadata": {},
   "outputs": [],
   "source": [
    "def extract_nouns(text):\n",
    "    result = kiwi.analyze(text)\n",
    "    for token, pos, _, _ in result[0][0]:\n",
    "        if pos[0] in 'N':\n",
    "            yield token"
   ]
  },
  {
   "cell_type": "code",
   "execution_count": 52,
   "metadata": {},
   "outputs": [
    {
     "data": {
      "text/plain": [
       "[\n",
       "  [\n",
       "    {\n",
       "      \"id\": 1,\n",
       "      \"text\": \"아직까지도\",\n",
       "      \"lemma\": \"아직+까지도\",\n",
       "      \"upos\": \"ADV\",\n",
       "      \"xpos\": \"ncn+jxc\",\n",
       "      \"head\": 3,\n",
       "      \"deprel\": \"advcl\",\n",
       "      \"misc\": \"start_char=0|end_char=5\"\n",
       "    },\n",
       "    {\n",
       "      \"id\": 2,\n",
       "      \"text\": \"잘\",\n",
       "      \"lemma\": \"잘\",\n",
       "      \"upos\": \"ADV\",\n",
       "      \"xpos\": \"mag\",\n",
       "      \"head\": 3,\n",
       "      \"deprel\": \"advmod\",\n",
       "      \"misc\": \"start_char=6|end_char=7\"\n",
       "    },\n",
       "    {\n",
       "      \"id\": 3,\n",
       "      \"text\": \"쓰고\",\n",
       "      \"lemma\": \"쓰+고\",\n",
       "      \"upos\": \"VERB\",\n",
       "      \"xpos\": \"pvg+ecx\",\n",
       "      \"head\": 7,\n",
       "      \"deprel\": \"dislocated\",\n",
       "      \"misc\": \"start_char=8|end_char=10\"\n",
       "    },\n",
       "    {\n",
       "      \"id\": 4,\n",
       "      \"text\": \"있습니다ㅎㅎ\",\n",
       "      \"lemma\": \"있+습니다+를+원\",\n",
       "      \"upos\": \"NOUN\",\n",
       "      \"xpos\": \"px+ecs+jxt\",\n",
       "      \"head\": 3,\n",
       "      \"deprel\": \"aux\",\n",
       "      \"misc\": \"start_char=11|end_char=17\"\n",
       "    },\n",
       "    {\n",
       "      \"id\": 5,\n",
       "      \"text\": \"확실히\",\n",
       "      \"lemma\": \"확실+히\",\n",
       "      \"upos\": \"ADV\",\n",
       "      \"xpos\": \"mag+xsa\",\n",
       "      \"head\": 7,\n",
       "      \"deprel\": \"advmod\",\n",
       "      \"misc\": \"start_char=18|end_char=21\"\n",
       "    },\n",
       "    {\n",
       "      \"id\": 6,\n",
       "      \"text\": \"무릎을\",\n",
       "      \"lemma\": \"무릎+을\",\n",
       "      \"upos\": \"NOUN\",\n",
       "      \"xpos\": \"ncn+jco\",\n",
       "      \"head\": 7,\n",
       "      \"deprel\": \"obj\",\n",
       "      \"misc\": \"start_char=22|end_char=25\"\n",
       "    },\n",
       "    {\n",
       "      \"id\": 7,\n",
       "      \"text\": \"잡아주니\",\n",
       "      \"lemma\": \"잡+아+주+니\",\n",
       "      \"upos\": \"SCONJ\",\n",
       "      \"xpos\": \"pvg+ecx+px+ecs\",\n",
       "      \"head\": 11,\n",
       "      \"deprel\": \"ccomp\",\n",
       "      \"misc\": \"start_char=26|end_char=30\"\n",
       "    },\n",
       "    {\n",
       "      \"id\": 8,\n",
       "      \"text\": \"무릎에\",\n",
       "      \"lemma\": \"무릎+에\",\n",
       "      \"upos\": \"ADV\",\n",
       "      \"xpos\": \"ncn+jca\",\n",
       "      \"head\": 9,\n",
       "      \"deprel\": \"obl\",\n",
       "      \"misc\": \"start_char=31|end_char=34\"\n",
       "    },\n",
       "    {\n",
       "      \"id\": 9,\n",
       "      \"text\": \"가해지는\",\n",
       "      \"lemma\": \"가하+어+지+는\",\n",
       "      \"upos\": \"AUX\",\n",
       "      \"xpos\": \"pvg+ecx+px+etm\",\n",
       "      \"head\": 10,\n",
       "      \"deprel\": \"acl\",\n",
       "      \"misc\": \"start_char=35|end_char=39\"\n",
       "    },\n",
       "    {\n",
       "      \"id\": 10,\n",
       "      \"text\": \"부담도\",\n",
       "      \"lemma\": \"부담+도\",\n",
       "      \"upos\": \"ADV\",\n",
       "      \"xpos\": \"ncpa+jxc\",\n",
       "      \"head\": 11,\n",
       "      \"deprel\": \"advcl\",\n",
       "      \"misc\": \"start_char=40|end_char=43\"\n",
       "    },\n",
       "    {\n",
       "      \"id\": 11,\n",
       "      \"text\": \"줄고\",\n",
       "      \"lemma\": \"줄+고\",\n",
       "      \"upos\": \"CCONJ\",\n",
       "      \"xpos\": \"pvg+ecc\",\n",
       "      \"head\": 0,\n",
       "      \"deprel\": \"root\",\n",
       "      \"misc\": \"start_char=44|end_char=46\"\n",
       "    },\n",
       "    {\n",
       "      \"id\": 12,\n",
       "      \"text\": \"원래\",\n",
       "      \"lemma\": \"원래\",\n",
       "      \"upos\": \"NOUN\",\n",
       "      \"xpos\": \"ncn\",\n",
       "      \"head\": 14,\n",
       "      \"deprel\": \"dep\",\n",
       "      \"misc\": \"start_char=47|end_char=49\"\n",
       "    },\n",
       "    {\n",
       "      \"id\": 13,\n",
       "      \"text\": \"통증이\",\n",
       "      \"lemma\": \"통증+이\",\n",
       "      \"upos\": \"NOUN\",\n",
       "      \"xpos\": \"ncpa+jcs\",\n",
       "      \"head\": 14,\n",
       "      \"deprel\": \"nsubj\",\n",
       "      \"misc\": \"start_char=50|end_char=53\"\n",
       "    },\n",
       "    {\n",
       "      \"id\": 14,\n",
       "      \"text\": \"있었는데\",\n",
       "      \"lemma\": \"있+었+는데\",\n",
       "      \"upos\": \"SCONJ\",\n",
       "      \"xpos\": \"paa+ep+ecs\",\n",
       "      \"head\": 11,\n",
       "      \"deprel\": \"conj\",\n",
       "      \"misc\": \"start_char=54|end_char=58\"\n",
       "    },\n",
       "    {\n",
       "      \"id\": 15,\n",
       "      \"text\": \"통증도\",\n",
       "      \"lemma\": \"통증+도\",\n",
       "      \"upos\": \"ADV\",\n",
       "      \"xpos\": \"ncpa+jxc\",\n",
       "      \"head\": 17,\n",
       "      \"deprel\": \"advcl\",\n",
       "      \"misc\": \"start_char=59|end_char=62\"\n",
       "    },\n",
       "    {\n",
       "      \"id\": 16,\n",
       "      \"text\": \"하나도\",\n",
       "      \"lemma\": \"하나+도\",\n",
       "      \"upos\": \"ADV\",\n",
       "      \"xpos\": \"ncn+jxc\",\n",
       "      \"head\": 17,\n",
       "      \"deprel\": \"advcl\",\n",
       "      \"misc\": \"start_char=63|end_char=66\"\n",
       "    },\n",
       "    {\n",
       "      \"id\": 17,\n",
       "      \"text\": \"없어졌어요\",\n",
       "      \"lemma\": \"없+어+지+었+어+요\",\n",
       "      \"upos\": \"AUX\",\n",
       "      \"xpos\": \"pvg+ecx+px+ep+px\",\n",
       "      \"head\": 11,\n",
       "      \"deprel\": \"conj\",\n",
       "      \"misc\": \"start_char=67|end_char=72\"\n",
       "    },\n",
       "    {\n",
       "      \"id\": 18,\n",
       "      \"text\": \".\",\n",
       "      \"lemma\": \".\",\n",
       "      \"upos\": \"PUNCT\",\n",
       "      \"xpos\": \"sf\",\n",
       "      \"head\": 17,\n",
       "      \"deprel\": \"punct\",\n",
       "      \"misc\": \"start_char=72|end_char=73\"\n",
       "    }\n",
       "  ],\n",
       "  [\n",
       "    {\n",
       "      \"id\": 1,\n",
       "      \"text\": \".대박\",\n",
       "      \"lemma\": \".대박\",\n",
       "      \"upos\": \"NOUN\",\n",
       "      \"xpos\": \"ncn+nbu\",\n",
       "      \"head\": 0,\n",
       "      \"deprel\": \"root\",\n",
       "      \"misc\": \"start_char=73|end_char=76\"\n",
       "    },\n",
       "    {\n",
       "      \"id\": 2,\n",
       "      \"text\": \".\",\n",
       "      \"lemma\": \".\",\n",
       "      \"upos\": \"PUNCT\",\n",
       "      \"xpos\": \"sf\",\n",
       "      \"head\": 1,\n",
       "      \"deprel\": \"punct\",\n",
       "      \"misc\": \"start_char=76|end_char=77\"\n",
       "    },\n",
       "    {\n",
       "      \"id\": 3,\n",
       "      \"text\": \".\",\n",
       "      \"lemma\": \".\",\n",
       "      \"upos\": \"PUNCT\",\n",
       "      \"xpos\": \"sf\",\n",
       "      \"head\": 1,\n",
       "      \"deprel\": \"punct\",\n",
       "      \"misc\": \"start_char=77|end_char=78\"\n",
       "    }\n",
       "  ],\n",
       "  [\n",
       "    {\n",
       "      \"id\": 1,\n",
       "      \"text\": \"헬스하시는분들이나\",\n",
       "      \"lemma\": \"헬스하시+는분+들+이나\",\n",
       "      \"upos\": \"CCONJ\",\n",
       "      \"xpos\": \"ncn+ncn+xsn+jcj\",\n",
       "      \"head\": 5,\n",
       "      \"deprel\": \"obj\",\n",
       "      \"misc\": \"start_char=79|end_char=88\"\n",
       "    },\n",
       "    {\n",
       "      \"id\": 2,\n",
       "      \"text\": \"무릎\",\n",
       "      \"lemma\": \"무릎\",\n",
       "      \"upos\": \"NOUN\",\n",
       "      \"xpos\": \"ncn\",\n",
       "      \"head\": 1,\n",
       "      \"deprel\": \"conj\",\n",
       "      \"misc\": \"start_char=89|end_char=91\"\n",
       "    },\n",
       "    {\n",
       "      \"id\": 3,\n",
       "      \"text\": \"꽉\",\n",
       "      \"lemma\": \"꽉\",\n",
       "      \"upos\": \"ADV\",\n",
       "      \"xpos\": \"mag\",\n",
       "      \"head\": 4,\n",
       "      \"deprel\": \"advmod\",\n",
       "      \"misc\": \"start_char=92|end_char=93\"\n",
       "    },\n",
       "    {\n",
       "      \"id\": 4,\n",
       "      \"text\": \"잡아주는거\",\n",
       "      \"lemma\": \"잡+아+주+는거\",\n",
       "      \"upos\": \"CCONJ\",\n",
       "      \"xpos\": \"pvg+ecx+px+ecc\",\n",
       "      \"head\": 5,\n",
       "      \"deprel\": \"ccomp\",\n",
       "      \"misc\": \"start_char=94|end_char=99\"\n",
       "    },\n",
       "    {\n",
       "      \"id\": 5,\n",
       "      \"text\": \"원하시는\",\n",
       "      \"lemma\": \"원하+시+는\",\n",
       "      \"upos\": \"VERB\",\n",
       "      \"xpos\": \"pvg+ep+etm\",\n",
       "      \"head\": 6,\n",
       "      \"deprel\": \"acl\",\n",
       "      \"misc\": \"start_char=100|end_char=104\"\n",
       "    },\n",
       "    {\n",
       "      \"id\": 6,\n",
       "      \"text\": \"분들은\",\n",
       "      \"lemma\": \"분+들+은\",\n",
       "      \"upos\": \"NOUN\",\n",
       "      \"xpos\": \"nbn+xsn+jxt\",\n",
       "      \"head\": 10,\n",
       "      \"deprel\": \"dislocated\",\n",
       "      \"misc\": \"start_char=105|end_char=108\"\n",
       "    },\n",
       "    {\n",
       "      \"id\": 7,\n",
       "      \"text\": \"꼭\",\n",
       "      \"lemma\": \"꼭\",\n",
       "      \"upos\": \"ADV\",\n",
       "      \"xpos\": \"mag\",\n",
       "      \"head\": 9,\n",
       "      \"deprel\": \"advmod\",\n",
       "      \"misc\": \"start_char=109|end_char=110\"\n",
       "    },\n",
       "    {\n",
       "      \"id\": 8,\n",
       "      \"text\": \"7mm\",\n",
       "      \"lemma\": \"7+mm\",\n",
       "      \"upos\": \"NOUN\",\n",
       "      \"xpos\": \"nnc+nbu\",\n",
       "      \"head\": 9,\n",
       "      \"deprel\": \"dep\",\n",
       "      \"misc\": \"start_char=111|end_char=114\"\n",
       "    },\n",
       "    {\n",
       "      \"id\": 9,\n",
       "      \"text\": \"추천드려요\",\n",
       "      \"lemma\": \"추천드리+요\",\n",
       "      \"upos\": \"CCONJ\",\n",
       "      \"xpos\": \"pvg+ecc\",\n",
       "      \"head\": 0,\n",
       "      \"deprel\": \"root\",\n",
       "      \"misc\": \"start_char=115|end_char=120\"\n",
       "    },\n",
       "    {\n",
       "      \"id\": 10,\n",
       "      \"text\": \"~\",\n",
       "      \"lemma\": \"~\",\n",
       "      \"upos\": \"NOUN\",\n",
       "      \"xpos\": \"ncn\",\n",
       "      \"head\": 9,\n",
       "      \"deprel\": \"conj\",\n",
       "      \"misc\": \"start_char=120|end_char=121\"\n",
       "    }\n",
       "  ],\n",
       "  [\n",
       "    {\n",
       "      \"id\": 1,\n",
       "      \"text\": \"5mm도\",\n",
       "      \"lemma\": \"5+mm도\",\n",
       "      \"upos\": \"ADV\",\n",
       "      \"xpos\": \"nnc+nbu+jxc\",\n",
       "      \"head\": 2,\n",
       "      \"deprel\": \"advcl\",\n",
       "      \"misc\": \"start_char=122|end_char=126\"\n",
       "    },\n",
       "    {\n",
       "      \"id\": 2,\n",
       "      \"text\": \"써보니까\",\n",
       "      \"lemma\": \"쓰보+니까\",\n",
       "      \"upos\": \"SCONJ\",\n",
       "      \"xpos\": \"pvg+ecx+px+ecs\",\n",
       "      \"head\": 4,\n",
       "      \"deprel\": \"ccomp\",\n",
       "      \"misc\": \"start_char=127|end_char=131\"\n",
       "    },\n",
       "    {\n",
       "      \"id\": 3,\n",
       "      \"text\": \"잘\",\n",
       "      \"lemma\": \"잘\",\n",
       "      \"upos\": \"ADV\",\n",
       "      \"xpos\": \"mag\",\n",
       "      \"head\": 4,\n",
       "      \"deprel\": \"advmod\",\n",
       "      \"misc\": \"start_char=132|end_char=133\"\n",
       "    },\n",
       "    {\n",
       "      \"id\": 4,\n",
       "      \"text\": \"잡아주고\",\n",
       "      \"lemma\": \"잡+아+주+고\",\n",
       "      \"upos\": \"CCONJ\",\n",
       "      \"xpos\": \"pvg+ecx+px+ecc\",\n",
       "      \"head\": 0,\n",
       "      \"deprel\": \"root\",\n",
       "      \"misc\": \"start_char=134|end_char=138\"\n",
       "    },\n",
       "    {\n",
       "      \"id\": 5,\n",
       "      \"text\": \"편해요\",\n",
       "      \"lemma\": \"편해+이+요\",\n",
       "      \"upos\": \"VERB\",\n",
       "      \"xpos\": \"paa+ef+jxf\",\n",
       "      \"head\": 4,\n",
       "      \"deprel\": \"conj\",\n",
       "      \"misc\": \"start_char=139|end_char=142\"\n",
       "    },\n",
       "    {\n",
       "      \"id\": 6,\n",
       "      \"text\": \"!\",\n",
       "      \"lemma\": \"!\",\n",
       "      \"upos\": \"PUNCT\",\n",
       "      \"xpos\": \"sf\",\n",
       "      \"head\": 5,\n",
       "      \"deprel\": \"punct\",\n",
       "      \"misc\": \"start_char=142|end_char=143\"\n",
       "    }\n",
       "  ],\n",
       "  [\n",
       "    {\n",
       "      \"id\": 1,\n",
       "      \"text\": \"그래도\",\n",
       "      \"lemma\": \"그래도\",\n",
       "      \"upos\": \"CCONJ\",\n",
       "      \"xpos\": \"maj\",\n",
       "      \"head\": 14,\n",
       "      \"deprel\": \"cc\",\n",
       "      \"misc\": \"start_char=144|end_char=147\"\n",
       "    },\n",
       "    {\n",
       "      \"id\": 2,\n",
       "      \"text\": \"7mm랑\",\n",
       "      \"lemma\": \"7+mm랑\",\n",
       "      \"upos\": \"NOUN\",\n",
       "      \"xpos\": \"nnc+nbu+xsn\",\n",
       "      \"head\": 4,\n",
       "      \"deprel\": \"advmod\",\n",
       "      \"misc\": \"start_char=148|end_char=152\"\n",
       "    },\n",
       "    {\n",
       "      \"id\": 3,\n",
       "      \"text\": \"차이가\",\n",
       "      \"lemma\": \"차이+가\",\n",
       "      \"upos\": \"NOUN\",\n",
       "      \"xpos\": \"ncn+jcs\",\n",
       "      \"head\": 4,\n",
       "      \"deprel\": \"nsubj\",\n",
       "      \"misc\": \"start_char=153|end_char=156\"\n",
       "    },\n",
       "    {\n",
       "      \"id\": 4,\n",
       "      \"text\": \"있더라구요\",\n",
       "      \"lemma\": \"있+더라구요\",\n",
       "      \"upos\": \"CCONJ\",\n",
       "      \"xpos\": \"paa+ecc\",\n",
       "      \"head\": 0,\n",
       "      \"deprel\": \"root\",\n",
       "      \"misc\": \"start_char=157|end_char=162\"\n",
       "    },\n",
       "    {\n",
       "      \"id\": 5,\n",
       "      \"text\": \"설명대로\",\n",
       "      \"lemma\": \"설명대+로\",\n",
       "      \"upos\": \"ADV\",\n",
       "      \"xpos\": \"ncpa+jca\",\n",
       "      \"head\": 8,\n",
       "      \"deprel\": \"advcl\",\n",
       "      \"misc\": \"start_char=163|end_char=167\"\n",
       "    },\n",
       "    {\n",
       "      \"id\": 6,\n",
       "      \"text\": \"5mm는\",\n",
       "      \"lemma\": \"5+mm+는\",\n",
       "      \"upos\": \"NUM\",\n",
       "      \"xpos\": \"nnc+nbu+xsn\",\n",
       "      \"head\": 8,\n",
       "      \"deprel\": \"dislocated\",\n",
       "      \"misc\": \"start_char=168|end_char=172\"\n",
       "    },\n",
       "    {\n",
       "      \"id\": 7,\n",
       "      \"text\": \"많이\",\n",
       "      \"lemma\": \"많이\",\n",
       "      \"upos\": \"ADV\",\n",
       "      \"xpos\": \"mag\",\n",
       "      \"head\": 8,\n",
       "      \"deprel\": \"advmod\",\n",
       "      \"misc\": \"start_char=173|end_char=175\"\n",
       "    },\n",
       "    {\n",
       "      \"id\": 8,\n",
       "      \"text\": \"움직이는\",\n",
       "      \"lemma\": \"움직이+는\",\n",
       "      \"upos\": \"VERB\",\n",
       "      \"xpos\": \"pvg+etm\",\n",
       "      \"head\": 9,\n",
       "      \"deprel\": \"acl\",\n",
       "      \"misc\": \"start_char=176|end_char=180\"\n",
       "    },\n",
       "    {\n",
       "      \"id\": 9,\n",
       "      \"text\": \"분들한테\",\n",
       "      \"lemma\": \"분+들+한테\",\n",
       "      \"upos\": \"ADV\",\n",
       "      \"xpos\": \"ncn+xsn+jca\",\n",
       "      \"head\": 10,\n",
       "      \"deprel\": \"advcl\",\n",
       "      \"misc\": \"start_char=181|end_char=185\"\n",
       "    },\n",
       "    {\n",
       "      \"id\": 10,\n",
       "      \"text\": \"맞는거\",\n",
       "      \"lemma\": \"맞+는거\",\n",
       "      \"upos\": \"CCONJ\",\n",
       "      \"xpos\": \"pvg+ecc\",\n",
       "      \"head\": 4,\n",
       "      \"deprel\": \"conj\",\n",
       "      \"misc\": \"start_char=186|end_char=189\"\n",
       "    },\n",
       "    {\n",
       "      \"id\": 11,\n",
       "      \"text\": \"같아요\",\n",
       "      \"lemma\": \"같+아요\",\n",
       "      \"upos\": \"CCONJ\",\n",
       "      \"xpos\": \"paa+ecc\",\n",
       "      \"head\": 10,\n",
       "      \"deprel\": \"conj\",\n",
       "      \"misc\": \"start_char=190|end_char=193\"\n",
       "    },\n",
       "    {\n",
       "      \"id\": 12,\n",
       "      \"text\": \"런닝할때\",\n",
       "      \"lemma\": \"런닝+할때\",\n",
       "      \"upos\": \"NOUN\",\n",
       "      \"xpos\": \"ncn\",\n",
       "      \"head\": 13,\n",
       "      \"deprel\": \"compound\",\n",
       "      \"misc\": \"start_char=194|end_char=198\"\n",
       "    },\n",
       "    {\n",
       "      \"id\": 13,\n",
       "      \"text\": \"5mm\",\n",
       "      \"lemma\": \"5+mm\",\n",
       "      \"upos\": \"NOUN\",\n",
       "      \"xpos\": \"nnc+nbu\",\n",
       "      \"head\": 14,\n",
       "      \"deprel\": \"dep\",\n",
       "      \"misc\": \"start_char=199|end_char=202\"\n",
       "    },\n",
       "    {\n",
       "      \"id\": 14,\n",
       "      \"text\": \"쓰고있어요~\",\n",
       "      \"lemma\": \"쓰고있+어+요+시\",\n",
       "      \"upos\": \"AUX\",\n",
       "      \"xpos\": \"pvg+ecx+px+ecx+px\",\n",
       "      \"head\": 10,\n",
       "      \"deprel\": \"conj\",\n",
       "      \"misc\": \"start_char=203|end_char=209\"\n",
       "    }\n",
       "  ]\n",
       "]"
      ]
     },
     "execution_count": 52,
     "metadata": {},
     "output_type": "execute_result"
    }
   ],
   "source": [
    "doc"
   ]
  },
  {
   "cell_type": "code",
   "execution_count": 7,
   "metadata": {
    "scrolled": true
   },
   "outputs": [
    {
     "data": {
      "text/plain": [
       "['무릎',\n",
       " '무릎',\n",
       " '부담',\n",
       " '원래',\n",
       " '통증',\n",
       " '통증',\n",
       " '하나',\n",
       " '대박',\n",
       " '헬스',\n",
       " '분',\n",
       " '무릎',\n",
       " '거',\n",
       " '분',\n",
       " '추천',\n",
       " '써보',\n",
       " '차이',\n",
       " '설명',\n",
       " '분',\n",
       " '거',\n",
       " '런닝',\n",
       " '때']"
      ]
     },
     "execution_count": 7,
     "metadata": {},
     "output_type": "execute_result"
    }
   ],
   "source": [
    "list(extract_nouns(df.review[0]))"
   ]
  },
  {
   "cell_type": "code",
   "execution_count": 37,
   "metadata": {},
   "outputs": [],
   "source": [
    "from sklearn.feature_extraction.text import CountVectorizer, TfidfVectorizer\n",
    "cv = CountVectorizer(max_features=100, tokenizer=extract_nouns)"
   ]
  },
  {
   "cell_type": "code",
   "execution_count": 38,
   "metadata": {},
   "outputs": [],
   "source": [
    "tdm = cv.fit_transform(df['review'])"
   ]
  },
  {
   "cell_type": "code",
   "execution_count": 39,
   "metadata": {},
   "outputs": [],
   "source": [
    "word_count = pd.DataFrame({\n",
    "    '단어': cv.get_feature_names(),\n",
    "    '빈도': tdm.sum(axis=0).flat\n",
    "})"
   ]
  },
  {
   "cell_type": "code",
   "execution_count": 40,
   "metadata": {
    "scrolled": true
   },
   "outputs": [
    {
     "data": {
      "text/html": [
       "<div>\n",
       "<style scoped>\n",
       "    .dataframe tbody tr th:only-of-type {\n",
       "        vertical-align: middle;\n",
       "    }\n",
       "\n",
       "    .dataframe tbody tr th {\n",
       "        vertical-align: top;\n",
       "    }\n",
       "\n",
       "    .dataframe thead th {\n",
       "        text-align: right;\n",
       "    }\n",
       "</style>\n",
       "<table border=\"1\" class=\"dataframe\">\n",
       "  <thead>\n",
       "    <tr style=\"text-align: right;\">\n",
       "      <th></th>\n",
       "      <th>단어</th>\n",
       "      <th>빈도</th>\n",
       "    </tr>\n",
       "  </thead>\n",
       "  <tbody>\n",
       "    <tr>\n",
       "      <th>33</th>\n",
       "      <td>무릎</td>\n",
       "      <td>159</td>\n",
       "    </tr>\n",
       "    <tr>\n",
       "      <th>5</th>\n",
       "      <td>거</td>\n",
       "      <td>123</td>\n",
       "    </tr>\n",
       "    <tr>\n",
       "      <th>6</th>\n",
       "      <td>것</td>\n",
       "      <td>92</td>\n",
       "    </tr>\n",
       "    <tr>\n",
       "      <th>27</th>\n",
       "      <td>때</td>\n",
       "      <td>86</td>\n",
       "    </tr>\n",
       "    <tr>\n",
       "      <th>83</th>\n",
       "      <td>착용</td>\n",
       "      <td>83</td>\n",
       "    </tr>\n",
       "    <tr>\n",
       "      <th>48</th>\n",
       "      <td>사이즈</td>\n",
       "      <td>69</td>\n",
       "    </tr>\n",
       "    <tr>\n",
       "      <th>17</th>\n",
       "      <td>냄새</td>\n",
       "      <td>67</td>\n",
       "    </tr>\n",
       "    <tr>\n",
       "      <th>61</th>\n",
       "      <td>운동</td>\n",
       "      <td>66</td>\n",
       "    </tr>\n",
       "    <tr>\n",
       "      <th>47</th>\n",
       "      <td>사용</td>\n",
       "      <td>59</td>\n",
       "    </tr>\n",
       "    <tr>\n",
       "      <th>9</th>\n",
       "      <td>구매</td>\n",
       "      <td>56</td>\n",
       "    </tr>\n",
       "  </tbody>\n",
       "</table>\n",
       "</div>"
      ],
      "text/plain": [
       "     단어   빈도\n",
       "33   무릎  159\n",
       "5     거  123\n",
       "6     것   92\n",
       "27    때   86\n",
       "83   착용   83\n",
       "48  사이즈   69\n",
       "17   냄새   67\n",
       "61   운동   66\n",
       "47   사용   59\n",
       "9    구매   56"
      ]
     },
     "execution_count": 40,
     "metadata": {},
     "output_type": "execute_result"
    }
   ],
   "source": [
    "word_count.sort_values('빈도', ascending=False).head(10)"
   ]
  },
  {
   "cell_type": "code",
   "execution_count": 41,
   "metadata": {},
   "outputs": [],
   "source": [
    "word_count.to_csv('df1-count.csv')"
   ]
  },
  {
   "cell_type": "code",
   "execution_count": 42,
   "metadata": {},
   "outputs": [],
   "source": [
    "word_count = pd.read_csv('df1-count.csv')"
   ]
  },
  {
   "cell_type": "code",
   "execution_count": 43,
   "metadata": {},
   "outputs": [],
   "source": [
    "count_dic = word_count.set_index('단어')['빈도'].to_dict()"
   ]
  },
  {
   "cell_type": "code",
   "execution_count": 44,
   "metadata": {},
   "outputs": [],
   "source": [
    "from wordcloud import WordCloud"
   ]
  },
  {
   "cell_type": "code",
   "execution_count": 45,
   "metadata": {},
   "outputs": [],
   "source": [
    "wc = WordCloud(font_path='C:/Windows/Fonts/Malgun.ttf',\n",
    "               background_color='white',\n",
    "               max_words=50,\n",
    "               width=400, height=300)"
   ]
  },
  {
   "cell_type": "code",
   "execution_count": 46,
   "metadata": {},
   "outputs": [],
   "source": [
    "cloud = wc.generate_from_frequencies(count_dic)"
   ]
  },
  {
   "cell_type": "code",
   "execution_count": 47,
   "metadata": {
    "scrolled": true
   },
   "outputs": [
    {
     "data": {
      "image/png": "[encoded data removed]",
      "text/plain": [
       "<PIL.Image.Image image mode=RGB size=400x300 at 0x2435C4EEFD0>"
      ]
     },
     "execution_count": 47,
     "metadata": {},
     "output_type": "execute_result"
    }
   ],
   "source": [
    "cloud.to_image()"
   ]
  },
  {
   "cell_type": "code",
   "execution_count": 48,
   "metadata": {},
   "outputs": [
    {
     "data": {
      "text/plain": [
       "<wordcloud.wordcloud.WordCloud at 0x2435c50b220>"
      ]
     },
     "execution_count": 48,
     "metadata": {},
     "output_type": "execute_result"
    }
   ],
   "source": [
    "cloud.to_file('cloud1.png')"
   ]
  },
  {
   "cell_type": "markdown",
   "metadata": {},
   "source": [
    "## 감성분석"
   ]
  },
  {
   "cell_type": "code",
   "execution_count": 8,
   "metadata": {},
   "outputs": [
    {
     "data": {
      "text/html": [
       "<div>\n",
       "<style scoped>\n",
       "    .dataframe tbody tr th:only-of-type {\n",
       "        vertical-align: middle;\n",
       "    }\n",
       "\n",
       "    .dataframe tbody tr th {\n",
       "        vertical-align: top;\n",
       "    }\n",
       "\n",
       "    .dataframe thead th {\n",
       "        text-align: right;\n",
       "    }\n",
       "</style>\n",
       "<table border=\"1\" class=\"dataframe\">\n",
       "  <thead>\n",
       "    <tr style=\"text-align: right;\">\n",
       "      <th></th>\n",
       "      <th>review</th>\n",
       "      <th>label</th>\n",
       "    </tr>\n",
       "  </thead>\n",
       "  <tbody>\n",
       "    <tr>\n",
       "      <th>0</th>\n",
       "      <td>예전에 사용하던 제품이 낡아서 재구매했어요. 배송 진짜빠르네요. 포장상태도 좋아요</td>\n",
       "      <td>1</td>\n",
       "    </tr>\n",
       "    <tr>\n",
       "      <th>1</th>\n",
       "      <td>하체운동 하면 무릎이 화끈거렸는데 완전 해결됬어요. 이젠 필수품 입니다. 마음 놓고...</td>\n",
       "      <td>1</td>\n",
       "    </tr>\n",
       "    <tr>\n",
       "      <th>2</th>\n",
       "      <td>배송 빠르고 뽁뽁이에 잘 포장돼서 왔어요~~~ 만족합니다~!</td>\n",
       "      <td>1</td>\n",
       "    </tr>\n",
       "    <tr>\n",
       "      <th>3</th>\n",
       "      <td>좋아요 이거 끼면 크로스핏 할 때 무릎 하나도 안파요</td>\n",
       "      <td>1</td>\n",
       "    </tr>\n",
       "    <tr>\n",
       "      <th>4</th>\n",
       "      <td>처음사용하는 무릅보호대 지인 추천으로 구매합니다</td>\n",
       "      <td>1</td>\n",
       "    </tr>\n",
       "  </tbody>\n",
       "</table>\n",
       "</div>"
      ],
      "text/plain": [
       "                                              review  label\n",
       "0      예전에 사용하던 제품이 낡아서 재구매했어요. 배송 진짜빠르네요. 포장상태도 좋아요      1\n",
       "1  하체운동 하면 무릎이 화끈거렸는데 완전 해결됬어요. 이젠 필수품 입니다. 마음 놓고...      1\n",
       "2                  배송 빠르고 뽁뽁이에 잘 포장돼서 왔어요~~~ 만족합니다~!      1\n",
       "3                      좋아요 이거 끼면 크로스핏 할 때 무릎 하나도 안파요      1\n",
       "4                         처음사용하는 무릅보호대 지인 추천으로 구매합니다      1"
      ]
     },
     "execution_count": 8,
     "metadata": {},
     "output_type": "execute_result"
    }
   ],
   "source": [
    "import pandas as pd\n",
    "df=pd.read_csv('df13.csv', index_col = 0)\n",
    "df.head()"
   ]
  },
  {
   "cell_type": "code",
   "execution_count": 9,
   "metadata": {},
   "outputs": [
    {
     "data": {
      "text/plain": [
       "0"
      ]
     },
     "execution_count": 9,
     "metadata": {},
     "output_type": "execute_result"
    }
   ],
   "source": [
    "from kiwipiepy import Kiwi\n",
    "kiwi = Kiwi()\n",
    "kiwi.prepare()"
   ]
  },
  {
   "cell_type": "code",
   "execution_count": 10,
   "metadata": {},
   "outputs": [],
   "source": [
    "def extract_keywords(text):\n",
    "    result = kiwi.analyze(text)\n",
    "    for token, pos, _, _ in result[0][0]:\n",
    "        if pos[0] in 'NV':\n",
    "            yield f'{token}/{pos}'"
   ]
  },
  {
   "cell_type": "code",
   "execution_count": 11,
   "metadata": {},
   "outputs": [],
   "source": [
    "from sklearn.feature_extraction.text import CountVectorizer, TfidfTransformer\n",
    "cv = CountVectorizer(max_features=500, tokenizer=extract_keywords)\n",
    "dtm = cv.fit_transform(df.loc[:, 'review'])"
   ]
  },
  {
   "cell_type": "code",
   "execution_count": 12,
   "metadata": {},
   "outputs": [],
   "source": [
    "trans = TfidfTransformer()\n",
    "dtm2 = trans.fit_transform(dtm)"
   ]
  },
  {
   "cell_type": "code",
   "execution_count": 13,
   "metadata": {},
   "outputs": [],
   "source": [
    "words = cv.get_feature_names()"
   ]
  },
  {
   "cell_type": "code",
   "execution_count": 14,
   "metadata": {},
   "outputs": [
    {
     "data": {
      "text/plain": [
       "['df13.pkl']"
      ]
     },
     "execution_count": 14,
     "metadata": {},
     "output_type": "execute_result"
    }
   ],
   "source": [
    "import joblib\n",
    "joblib.dump({'words': words, 'dtm': dtm, 'dtm2': dtm2}, 'df13.pkl')"
   ]
  },
  {
   "cell_type": "code",
   "execution_count": 15,
   "metadata": {},
   "outputs": [],
   "source": [
    "data = joblib.load('df13.pkl')\n",
    "locals().update(data)\n",
    "import pandas as pd\n",
    "df = pd.read_csv('df13.csv')"
   ]
  },
  {
   "cell_type": "code",
   "execution_count": 16,
   "metadata": {},
   "outputs": [],
   "source": [
    "from sklearn.model_selection import train_test_split"
   ]
  },
  {
   "cell_type": "code",
   "execution_count": 17,
   "metadata": {},
   "outputs": [],
   "source": [
    "x = dtm2\n",
    "y = df.label.values[:] "
   ]
  },
  {
   "cell_type": "code",
   "execution_count": 18,
   "metadata": {},
   "outputs": [],
   "source": [
    "x_train, x_test, y_train, y_test = train_test_split(x, y, test_size=0.2, \n",
    "                                                    random_state=111) "
   ]
  },
  {
   "cell_type": "code",
   "execution_count": 19,
   "metadata": {},
   "outputs": [],
   "source": [
    "import tensorflow as tf\n",
    "model = tf.keras.models.Sequential()\n",
    "model.add(tf.keras.layers.Dense(1, activation='sigmoid'))"
   ]
  },
  {
   "cell_type": "code",
   "execution_count": 20,
   "metadata": {},
   "outputs": [],
   "source": [
    "model.compile(optimizer='adam', loss='binary_crossentropy', metrics=['accuracy'])\n",
    "#모델의 학습방식 정하기"
   ]
  },
  {
   "cell_type": "code",
   "execution_count": 21,
   "metadata": {},
   "outputs": [
    {
     "name": "stdout",
     "output_type": "stream",
     "text": [
      "Epoch 1/100\n",
      "8/8 [==============================] - 3s 259ms/step - loss: 0.6857 - accuracy: 0.5583 - val_loss: 0.6830 - val_accuracy: 0.6296\n",
      "Epoch 2/100\n",
      "8/8 [==============================] - 0s 9ms/step - loss: 0.6808 - accuracy: 0.6662 - val_loss: 0.6761 - val_accuracy: 0.6667\n",
      "Epoch 3/100\n",
      "8/8 [==============================] - 0s 9ms/step - loss: 0.6706 - accuracy: 0.7768 - val_loss: 0.6693 - val_accuracy: 0.7407\n",
      "Epoch 4/100\n",
      "8/8 [==============================] - 0s 10ms/step - loss: 0.6593 - accuracy: 0.8386 - val_loss: 0.6626 - val_accuracy: 0.7407\n"
     ]
    },
    {
     "data": {
      "text/plain": [
       "<tensorflow.python.keras.callbacks.History at 0x28e8cf1da60>"
      ]
     },
     "execution_count": 21,
     "metadata": {},
     "output_type": "execute_result"
    }
   ],
   "source": [
    "# Early Stopping\n",
    "model.fit(x_train.A, y_train, epochs=100, validation_split=0.1, \n",
    "          callbacks=[tf.keras.callbacks.EarlyStopping(monitor='val_accuracy')])"
   ]
  },
  {
   "cell_type": "code",
   "execution_count": 22,
   "metadata": {},
   "outputs": [
    {
     "name": "stdout",
     "output_type": "stream",
     "text": [
      "Epoch 1/4\n",
      "9/9 [==============================] - 0s 1ms/step - loss: 0.6524 - accuracy: 0.8647\n",
      "Epoch 2/4\n",
      "9/9 [==============================] - 0s 1ms/step - loss: 0.6436 - accuracy: 0.9060\n",
      "Epoch 3/4\n",
      "9/9 [==============================] - 0s 2ms/step - loss: 0.6348 - accuracy: 0.9098\n",
      "Epoch 4/4\n",
      "9/9 [==============================] - 0s 2ms/step - loss: 0.6263 - accuracy: 0.9098\n"
     ]
    },
    {
     "data": {
      "text/plain": [
       "<tensorflow.python.keras.callbacks.History at 0x28e8e9e5490>"
      ]
     },
     "execution_count": 22,
     "metadata": {},
     "output_type": "execute_result"
    }
   ],
   "source": [
    "model.fit(x_train.A, y_train, epochs=4)"
   ]
  },
  {
   "cell_type": "code",
   "execution_count": 23,
   "metadata": {},
   "outputs": [
    {
     "name": "stdout",
     "output_type": "stream",
     "text": [
      "3/3 [==============================] - 0s 3ms/step - loss: 0.6363 - accuracy: 0.8657\n"
     ]
    },
    {
     "data": {
      "text/plain": [
       "[0.6363167762756348, 0.8656716346740723]"
      ]
     },
     "execution_count": 23,
     "metadata": {},
     "output_type": "execute_result"
    }
   ],
   "source": [
    "model.evaluate(x_test.A, y_test)"
   ]
  },
  {
   "cell_type": "code",
   "execution_count": 24,
   "metadata": {},
   "outputs": [
    {
     "name": "stdout",
     "output_type": "stream",
     "text": [
      "INFO:tensorflow:Assets written to: df13.krs\\assets\n"
     ]
    }
   ],
   "source": [
    "model.save('df13.krs')"
   ]
  },
  {
   "cell_type": "markdown",
   "metadata": {},
   "source": [
    "### 가중치분석"
   ]
  },
  {
   "cell_type": "code",
   "execution_count": 25,
   "metadata": {},
   "outputs": [],
   "source": [
    "model = tf.keras.models.load_model('df13.krs')"
   ]
  },
  {
   "cell_type": "code",
   "execution_count": 26,
   "metadata": {},
   "outputs": [
    {
     "data": {
      "text/plain": [
       "array([[-5.65158017e-02],\n",
       "       [ 7.08173290e-02],\n",
       "       [-8.54530651e-03],\n",
       "       [ 1.16458043e-01],\n",
       "       [-5.66131435e-02],\n",
       "       [-3.45097743e-02],\n",
       "       [ 4.44155559e-02],\n",
       "       [ 1.49230048e-01],\n",
       "       [-7.49971122e-02],\n",
       "       [ 3.06414887e-02],\n",
       "       [ 1.93617661e-02],\n",
       "       [ 1.03473492e-01],\n",
       "       [ 9.85333100e-02],\n",
       "       [-6.02771640e-02],\n",
       "       [ 1.53118670e-01],\n",
       "       [ 5.84168620e-02],\n",
       "       [ 1.24694206e-01],\n",
       "       [ 4.67616133e-02],\n",
       "       [-4.23276164e-02],\n",
       "       [ 5.22565935e-03],\n",
       "       [-3.88695188e-02],\n",
       "       [ 4.30852436e-02],\n",
       "       [ 9.36819091e-02],\n",
       "       [-2.04174276e-02],\n",
       "       [ 7.10906163e-02],\n",
       "       [ 1.39759039e-04],\n",
       "       [-9.65544656e-02],\n",
       "       [ 1.23719066e-01],\n",
       "       [ 1.63284540e-02],\n",
       "       [-2.00831667e-02],\n",
       "       [ 3.88500988e-02],\n",
       "       [-2.91901864e-02],\n",
       "       [ 6.13200385e-03],\n",
       "       [ 1.18269786e-01],\n",
       "       [-2.64442451e-02],\n",
       "       [ 2.59835627e-02],\n",
       "       [ 8.36453512e-02],\n",
       "       [-1.71344467e-02],\n",
       "       [ 2.68656993e-03],\n",
       "       [-7.29229823e-02],\n",
       "       [ 8.99108127e-02],\n",
       "       [ 1.12082571e-01],\n",
       "       [-4.13501076e-02],\n",
       "       [ 1.81095917e-02],\n",
       "       [ 7.21115991e-02],\n",
       "       [ 2.25450601e-02],\n",
       "       [ 1.20649114e-01],\n",
       "       [ 1.42407641e-02],\n",
       "       [-1.19332023e-01],\n",
       "       [-3.30087505e-02],\n",
       "       [-1.02992177e-01],\n",
       "       [ 1.15067966e-01],\n",
       "       [ 7.61974603e-03],\n",
       "       [ 1.62291415e-02],\n",
       "       [ 6.08896837e-02],\n",
       "       [-3.00404034e-03],\n",
       "       [-1.28386756e-02],\n",
       "       [-1.02343574e-01],\n",
       "       [ 5.18072285e-02],\n",
       "       [ 6.94137216e-02],\n",
       "       [ 9.97665301e-02],\n",
       "       [ 1.41307735e-03],\n",
       "       [-6.63095638e-02],\n",
       "       [-7.32138604e-02],\n",
       "       [ 3.13672498e-02],\n",
       "       [-7.48427808e-02],\n",
       "       [-5.99538758e-02],\n",
       "       [-4.80518155e-02],\n",
       "       [ 4.52322215e-02],\n",
       "       [ 5.88488504e-02],\n",
       "       [ 3.15325707e-02],\n",
       "       [ 8.53398070e-02],\n",
       "       [ 5.01801111e-02],\n",
       "       [-3.89642492e-02],\n",
       "       [-3.52639263e-03],\n",
       "       [-7.01019093e-02],\n",
       "       [ 6.95046484e-02],\n",
       "       [ 6.47588074e-02],\n",
       "       [ 5.84451742e-02],\n",
       "       [-6.66599646e-02],\n",
       "       [ 1.16495360e-02],\n",
       "       [ 5.59782460e-02],\n",
       "       [ 8.06844607e-03],\n",
       "       [ 1.21494956e-01],\n",
       "       [ 6.87540397e-02],\n",
       "       [ 1.15970438e-02],\n",
       "       [ 3.14803347e-02],\n",
       "       [-5.24681360e-02],\n",
       "       [ 7.77835324e-02],\n",
       "       [ 7.20058531e-02],\n",
       "       [-7.39548355e-02],\n",
       "       [ 5.89555241e-02],\n",
       "       [ 5.16950786e-02],\n",
       "       [ 1.52129337e-01],\n",
       "       [ 3.69253010e-03],\n",
       "       [ 7.27309957e-02],\n",
       "       [ 7.32354894e-02],\n",
       "       [-1.98111334e-03],\n",
       "       [-5.18792644e-02],\n",
       "       [ 5.65177873e-02],\n",
       "       [ 5.65993646e-03],\n",
       "       [-3.06162909e-02],\n",
       "       [-2.95748264e-02],\n",
       "       [ 1.13966323e-01],\n",
       "       [ 3.44254598e-02],\n",
       "       [ 1.92138541e-03],\n",
       "       [-1.68665908e-02],\n",
       "       [ 5.80826662e-02],\n",
       "       [-7.62434974e-02],\n",
       "       [ 5.23373149e-02],\n",
       "       [-8.84985924e-02],\n",
       "       [ 1.16806090e-01],\n",
       "       [ 7.97537193e-02],\n",
       "       [ 9.77284461e-02],\n",
       "       [-7.13155717e-02],\n",
       "       [-7.69748986e-02],\n",
       "       [ 1.24470934e-01],\n",
       "       [-5.95639125e-02],\n",
       "       [ 1.08392112e-01],\n",
       "       [ 1.02988407e-01],\n",
       "       [ 1.28197819e-01],\n",
       "       [ 6.77888021e-02],\n",
       "       [-3.52076888e-02],\n",
       "       [-1.97649151e-02],\n",
       "       [-5.70688993e-02],\n",
       "       [-6.86266869e-02],\n",
       "       [-7.71727189e-02],\n",
       "       [-4.51529399e-02],\n",
       "       [-2.08422709e-02],\n",
       "       [ 1.51843447e-02],\n",
       "       [ 4.36070263e-02],\n",
       "       [ 2.99463533e-02],\n",
       "       [-2.49812882e-02],\n",
       "       [ 3.95193808e-02],\n",
       "       [-4.82398607e-02],\n",
       "       [ 9.77321640e-02],\n",
       "       [ 1.10532098e-01],\n",
       "       [-6.31593540e-02],\n",
       "       [ 1.38223708e-01],\n",
       "       [-5.39158843e-02],\n",
       "       [-2.34660637e-02],\n",
       "       [ 1.91416275e-02],\n",
       "       [-2.64620446e-02],\n",
       "       [-5.87203987e-02],\n",
       "       [-4.85772121e-04],\n",
       "       [-1.05153896e-01],\n",
       "       [-3.30345929e-02],\n",
       "       [-2.90525835e-02],\n",
       "       [-1.04455329e-01],\n",
       "       [-3.41670029e-02],\n",
       "       [ 1.07326828e-01],\n",
       "       [ 1.17778666e-02],\n",
       "       [-3.50582525e-02],\n",
       "       [ 2.37605888e-02],\n",
       "       [ 9.16240141e-02],\n",
       "       [-8.38926211e-02],\n",
       "       [ 2.88735088e-02],\n",
       "       [ 3.14840004e-02],\n",
       "       [ 1.23334184e-01],\n",
       "       [-6.92399889e-02],\n",
       "       [ 5.81172034e-02],\n",
       "       [ 5.85843250e-02],\n",
       "       [ 6.02817908e-02],\n",
       "       [ 9.88487452e-02],\n",
       "       [ 3.25320736e-02],\n",
       "       [ 6.36512488e-02],\n",
       "       [ 9.87049192e-02],\n",
       "       [ 2.34489385e-02],\n",
       "       [ 1.24807641e-01],\n",
       "       [-3.65994796e-02],\n",
       "       [ 1.97680015e-02],\n",
       "       [ 9.33599174e-02],\n",
       "       [ 7.65156150e-02],\n",
       "       [ 1.61501482e-01],\n",
       "       [-4.94880974e-02],\n",
       "       [ 1.04939826e-01],\n",
       "       [-1.21415528e-02],\n",
       "       [ 1.32387988e-02],\n",
       "       [ 8.17631781e-02],\n",
       "       [ 8.84319246e-02],\n",
       "       [ 1.12113513e-01],\n",
       "       [ 1.34893045e-01],\n",
       "       [ 1.23469897e-01],\n",
       "       [ 1.06111377e-01],\n",
       "       [ 7.01907203e-02],\n",
       "       [ 1.17087319e-01],\n",
       "       [ 3.26506570e-02],\n",
       "       [ 4.80913371e-03],\n",
       "       [ 1.01239532e-01],\n",
       "       [ 1.00800455e-01],\n",
       "       [ 4.93721105e-02],\n",
       "       [-3.29161389e-03],\n",
       "       [ 1.43070132e-01],\n",
       "       [ 1.02009058e-01],\n",
       "       [ 9.47360843e-02],\n",
       "       [ 2.07566842e-02],\n",
       "       [-2.18501780e-02],\n",
       "       [ 1.27379715e-01],\n",
       "       [-6.58591688e-02],\n",
       "       [ 1.10846246e-02],\n",
       "       [ 1.00109708e-02],\n",
       "       [ 1.10030711e-01],\n",
       "       [-5.47842458e-02],\n",
       "       [-2.60188021e-02],\n",
       "       [ 4.18504886e-03],\n",
       "       [-4.85235676e-02],\n",
       "       [-2.82931868e-02],\n",
       "       [-3.93605195e-02],\n",
       "       [ 1.62318051e-02],\n",
       "       [-1.20773437e-02],\n",
       "       [-9.94514208e-03],\n",
       "       [ 7.01847486e-03],\n",
       "       [ 1.60002932e-01],\n",
       "       [ 1.17174521e-01],\n",
       "       [ 1.23329565e-01],\n",
       "       [ 1.22867122e-01],\n",
       "       [ 7.21358508e-02],\n",
       "       [-9.25499350e-02],\n",
       "       [ 9.13176220e-03],\n",
       "       [ 8.58307183e-02],\n",
       "       [ 6.09401390e-02],\n",
       "       [ 8.67453068e-02],\n",
       "       [ 3.95804942e-02],\n",
       "       [ 1.29647329e-01],\n",
       "       [ 7.20526744e-03],\n",
       "       [-1.36508783e-02],\n",
       "       [ 9.24621895e-02],\n",
       "       [-6.13985956e-02],\n",
       "       [ 2.44227797e-02],\n",
       "       [ 2.90087443e-02],\n",
       "       [ 8.82286802e-02],\n",
       "       [-1.09235514e-02],\n",
       "       [ 1.12268604e-01],\n",
       "       [ 7.05540925e-02],\n",
       "       [-5.42856306e-02],\n",
       "       [ 9.16880965e-02],\n",
       "       [ 8.79085734e-02],\n",
       "       [ 3.32667977e-02],\n",
       "       [ 6.42614663e-02],\n",
       "       [ 1.06962800e-01],\n",
       "       [ 1.24826163e-01],\n",
       "       [ 1.36306146e-02],\n",
       "       [ 8.72303471e-02],\n",
       "       [ 1.19859099e-01],\n",
       "       [-3.71530280e-02],\n",
       "       [ 4.03288603e-02],\n",
       "       [ 1.04349323e-01],\n",
       "       [-3.17181312e-02],\n",
       "       [ 9.25005674e-02],\n",
       "       [ 8.51160511e-02],\n",
       "       [-7.80995488e-02],\n",
       "       [ 4.68946174e-02],\n",
       "       [ 5.03422320e-03],\n",
       "       [-7.14625642e-02],\n",
       "       [ 8.58320147e-02],\n",
       "       [-7.30302706e-02],\n",
       "       [-2.60831788e-02],\n",
       "       [ 2.92178970e-02],\n",
       "       [ 1.12933069e-02],\n",
       "       [ 1.33664638e-01],\n",
       "       [-2.08895467e-03],\n",
       "       [ 9.32096243e-02],\n",
       "       [ 7.61915147e-02],\n",
       "       [-8.02581012e-02],\n",
       "       [-6.78710565e-02],\n",
       "       [ 1.18441187e-01],\n",
       "       [ 1.22910187e-01],\n",
       "       [-7.27392808e-02],\n",
       "       [-4.37762477e-02],\n",
       "       [ 4.41071317e-02],\n",
       "       [-8.10967088e-02],\n",
       "       [-1.81810930e-02],\n",
       "       [-4.55046818e-02],\n",
       "       [ 1.96483862e-02],\n",
       "       [ 1.48993554e-02],\n",
       "       [ 1.00802213e-01],\n",
       "       [ 2.55899373e-02],\n",
       "       [ 8.94696340e-02],\n",
       "       [ 7.57441446e-02],\n",
       "       [ 9.43655800e-03],\n",
       "       [ 2.43476909e-02],\n",
       "       [-4.01695780e-02],\n",
       "       [-3.60738225e-02],\n",
       "       [ 3.74885052e-02],\n",
       "       [-7.77233243e-02],\n",
       "       [-4.83990759e-02],\n",
       "       [ 2.09269971e-02],\n",
       "       [ 3.48699838e-03],\n",
       "       [-6.83869049e-02],\n",
       "       [-2.34095700e-04],\n",
       "       [ 7.96152949e-02],\n",
       "       [ 7.83235207e-02],\n",
       "       [-2.22664587e-02],\n",
       "       [ 1.10866226e-01],\n",
       "       [ 3.83633152e-02],\n",
       "       [ 4.31130156e-02],\n",
       "       [-1.28211945e-01],\n",
       "       [-3.97910997e-02],\n",
       "       [ 2.26000324e-02],\n",
       "       [-3.04106977e-02],\n",
       "       [-9.05304775e-02],\n",
       "       [ 1.21610560e-01],\n",
       "       [ 2.84577836e-03],\n",
       "       [ 1.73661914e-02],\n",
       "       [ 9.90657732e-02],\n",
       "       [ 3.27171274e-02],\n",
       "       [-8.56426209e-02],\n",
       "       [ 5.28849587e-02],\n",
       "       [ 5.61663508e-02],\n",
       "       [ 2.15918645e-02],\n",
       "       [-8.83651301e-02],\n",
       "       [-5.46290725e-03],\n",
       "       [-1.28295198e-02],\n",
       "       [-4.32055183e-02],\n",
       "       [ 6.50455281e-02],\n",
       "       [ 8.70936811e-02],\n",
       "       [-3.60621735e-02],\n",
       "       [ 1.95083432e-02],\n",
       "       [-1.89257227e-02],\n",
       "       [ 6.72833547e-02],\n",
       "       [-6.92606419e-02],\n",
       "       [-3.91182452e-02],\n",
       "       [ 8.28340426e-02],\n",
       "       [ 3.67628550e-03],\n",
       "       [ 5.25126606e-02],\n",
       "       [-1.08049601e-01],\n",
       "       [ 7.37166330e-02],\n",
       "       [ 9.12341326e-02],\n",
       "       [ 4.38078195e-02],\n",
       "       [ 1.06221840e-01],\n",
       "       [-6.16923124e-02],\n",
       "       [-2.06107497e-02],\n",
       "       [ 5.46882600e-02],\n",
       "       [-9.13335979e-02],\n",
       "       [-7.67340064e-02],\n",
       "       [-1.00803770e-01],\n",
       "       [ 8.97177681e-03],\n",
       "       [ 4.08434570e-02],\n",
       "       [-4.19218093e-03],\n",
       "       [-4.94902767e-02],\n",
       "       [ 9.82968230e-03],\n",
       "       [-1.07360169e-01],\n",
       "       [ 2.20605284e-02],\n",
       "       [ 2.98980325e-02],\n",
       "       [-2.83984225e-02],\n",
       "       [ 7.09015727e-02],\n",
       "       [ 1.72762036e-01],\n",
       "       [ 1.22946329e-01],\n",
       "       [-6.01783656e-02],\n",
       "       [-6.73495457e-02],\n",
       "       [ 1.73050575e-02],\n",
       "       [-4.07412276e-02],\n",
       "       [ 9.57723930e-02],\n",
       "       [-4.87985834e-02],\n",
       "       [ 8.55951458e-02],\n",
       "       [ 1.21359341e-01],\n",
       "       [-4.45267297e-02],\n",
       "       [ 1.10801287e-01],\n",
       "       [ 4.89570349e-02],\n",
       "       [ 9.72170830e-02],\n",
       "       [-3.02304253e-02],\n",
       "       [ 5.89041412e-03],\n",
       "       [-4.80393767e-02],\n",
       "       [ 2.41651200e-03],\n",
       "       [-3.71727254e-03],\n",
       "       [-1.14849523e-01],\n",
       "       [ 1.26797616e-01],\n",
       "       [-2.02648044e-02],\n",
       "       [ 7.60592520e-02],\n",
       "       [-1.21546695e-02],\n",
       "       [-5.60975149e-02],\n",
       "       [-9.45692137e-02],\n",
       "       [-3.52268517e-02],\n",
       "       [ 8.10224339e-02],\n",
       "       [ 4.80984412e-02],\n",
       "       [-2.09438950e-02],\n",
       "       [-2.26623490e-02],\n",
       "       [-1.32444836e-02],\n",
       "       [-5.14393598e-02],\n",
       "       [ 4.17012982e-02],\n",
       "       [-3.43822059e-03],\n",
       "       [ 2.47137882e-02],\n",
       "       [ 1.13344043e-02],\n",
       "       [ 3.29906344e-02],\n",
       "       [-2.70313099e-02],\n",
       "       [-8.25932994e-02],\n",
       "       [-3.97692211e-02],\n",
       "       [-4.60237153e-02],\n",
       "       [-2.05580276e-02],\n",
       "       [ 8.24504439e-03],\n",
       "       [ 5.77428117e-02],\n",
       "       [-6.95820078e-02],\n",
       "       [ 9.18847509e-03],\n",
       "       [ 5.10541722e-04],\n",
       "       [ 7.43252188e-02],\n",
       "       [-4.33367267e-02],\n",
       "       [ 5.49838245e-02],\n",
       "       [ 7.69510865e-02],\n",
       "       [ 5.30603193e-02],\n",
       "       [ 1.26971051e-01],\n",
       "       [ 6.30383939e-02],\n",
       "       [ 1.31007463e-01],\n",
       "       [ 9.12606418e-02],\n",
       "       [ 8.48530531e-02],\n",
       "       [-1.71086565e-02],\n",
       "       [-2.60681622e-02],\n",
       "       [ 1.08013354e-01],\n",
       "       [-1.67290606e-02],\n",
       "       [ 1.63787585e-02],\n",
       "       [-5.50048798e-02],\n",
       "       [-5.89208379e-02],\n",
       "       [ 1.17394261e-01],\n",
       "       [ 9.62833539e-02],\n",
       "       [-2.47112252e-02],\n",
       "       [ 3.13368328e-02],\n",
       "       [-2.68765911e-02],\n",
       "       [ 8.03909823e-02],\n",
       "       [-4.13533598e-02],\n",
       "       [ 1.08751401e-01],\n",
       "       [ 4.67120595e-02],\n",
       "       [-9.89519358e-02],\n",
       "       [-2.61891671e-02],\n",
       "       [ 5.17333811e-03],\n",
       "       [ 5.59135526e-03],\n",
       "       [-5.62779158e-02],\n",
       "       [-3.68201137e-02],\n",
       "       [ 1.27745762e-01],\n",
       "       [-1.70792658e-02],\n",
       "       [-2.74292734e-02],\n",
       "       [-1.98788606e-02],\n",
       "       [-4.63009160e-03],\n",
       "       [ 1.26197413e-01],\n",
       "       [ 7.97966868e-02],\n",
       "       [-5.80477305e-02],\n",
       "       [ 1.39565289e-01],\n",
       "       [ 1.34773869e-02],\n",
       "       [ 1.00928202e-01],\n",
       "       [ 1.28562972e-01],\n",
       "       [-2.62298360e-02],\n",
       "       [-1.55929499e-03],\n",
       "       [ 3.46530303e-02],\n",
       "       [ 8.07597637e-02],\n",
       "       [ 1.28115848e-01],\n",
       "       [ 6.60992935e-02],\n",
       "       [ 5.56093059e-04],\n",
       "       [-1.47710815e-02],\n",
       "       [ 3.74209993e-02],\n",
       "       [-3.08337063e-03],\n",
       "       [-2.95523982e-02],\n",
       "       [ 9.75838080e-02],\n",
       "       [-7.93253779e-02],\n",
       "       [ 2.56234151e-03],\n",
       "       [ 9.10066068e-02],\n",
       "       [ 1.04340047e-01],\n",
       "       [-1.56507976e-02],\n",
       "       [ 8.55707843e-03],\n",
       "       [ 4.56173830e-02],\n",
       "       [ 3.08236070e-02],\n",
       "       [-6.24120831e-02],\n",
       "       [-2.64337957e-02],\n",
       "       [ 6.04769699e-02],\n",
       "       [ 6.83039799e-02],\n",
       "       [-9.43277106e-02],\n",
       "       [ 3.71266417e-02],\n",
       "       [ 1.09389126e-02],\n",
       "       [ 2.72801146e-02],\n",
       "       [ 7.75191584e-04],\n",
       "       [-8.19678158e-02],\n",
       "       [ 1.12934848e-02],\n",
       "       [ 9.75033045e-02],\n",
       "       [ 1.65251330e-01],\n",
       "       [-4.23105322e-02],\n",
       "       [-3.77912037e-02],\n",
       "       [-7.63579234e-02],\n",
       "       [ 1.03125289e-01],\n",
       "       [-3.89619842e-02],\n",
       "       [-5.65959811e-02],\n",
       "       [ 7.94825852e-02],\n",
       "       [ 4.14916221e-03],\n",
       "       [ 1.07639670e-01],\n",
       "       [ 9.78982896e-02],\n",
       "       [-1.32389767e-02],\n",
       "       [-6.72373548e-02],\n",
       "       [-5.27074933e-02],\n",
       "       [ 1.29974350e-01],\n",
       "       [-6.01807348e-02],\n",
       "       [ 2.77325995e-02],\n",
       "       [-6.03148751e-02],\n",
       "       [-8.28311816e-02],\n",
       "       [ 1.15271524e-01],\n",
       "       [ 1.00997671e-01],\n",
       "       [ 1.00734644e-01],\n",
       "       [-2.90159173e-02],\n",
       "       [-8.85129813e-03],\n",
       "       [-2.95262560e-02],\n",
       "       [ 1.21753410e-01],\n",
       "       [ 7.58218914e-02],\n",
       "       [-5.00689447e-02],\n",
       "       [ 5.01337051e-02],\n",
       "       [-3.34217958e-02]], dtype=float32)"
      ]
     },
     "execution_count": 26,
     "metadata": {},
     "output_type": "execute_result"
    }
   ],
   "source": [
    "w, b = model.weights\n",
    "w.numpy()"
   ]
  },
  {
   "cell_type": "code",
   "execution_count": 27,
   "metadata": {},
   "outputs": [],
   "source": [
    "import pandas as pd\n",
    "word_sent = pd.DataFrame({'토큰': words, '가중치': w.numpy().flat})"
   ]
  },
  {
   "cell_type": "code",
   "execution_count": 28,
   "metadata": {},
   "outputs": [
    {
     "data": {
      "text/html": [
       "<div>\n",
       "<style scoped>\n",
       "    .dataframe tbody tr th:only-of-type {\n",
       "        vertical-align: middle;\n",
       "    }\n",
       "\n",
       "    .dataframe tbody tr th {\n",
       "        vertical-align: top;\n",
       "    }\n",
       "\n",
       "    .dataframe thead th {\n",
       "        text-align: right;\n",
       "    }\n",
       "</style>\n",
       "<table border=\"1\" class=\"dataframe\">\n",
       "  <thead>\n",
       "    <tr style=\"text-align: right;\">\n",
       "      <th></th>\n",
       "      <th>토큰</th>\n",
       "      <th>가중치</th>\n",
       "    </tr>\n",
       "  </thead>\n",
       "  <tbody>\n",
       "    <tr>\n",
       "      <th>296</th>\n",
       "      <td>임/NNP</td>\n",
       "      <td>-0.128212</td>\n",
       "    </tr>\n",
       "    <tr>\n",
       "      <th>48</th>\n",
       "      <td>높/VA</td>\n",
       "      <td>-0.119332</td>\n",
       "    </tr>\n",
       "    <tr>\n",
       "      <th>365</th>\n",
       "      <td>중고/NNG</td>\n",
       "      <td>-0.114850</td>\n",
       "    </tr>\n",
       "    <tr>\n",
       "      <th>325</th>\n",
       "      <td>전적/NNG</td>\n",
       "      <td>-0.108050</td>\n",
       "    </tr>\n",
       "    <tr>\n",
       "      <th>341</th>\n",
       "      <td>조임/NNP</td>\n",
       "      <td>-0.107360</td>\n",
       "    </tr>\n",
       "  </tbody>\n",
       "</table>\n",
       "</div>"
      ],
      "text/plain": [
       "         토큰       가중치\n",
       "296   임/NNP -0.128212\n",
       "48     높/VA -0.119332\n",
       "365  중고/NNG -0.114850\n",
       "325  전적/NNG -0.108050\n",
       "341  조임/NNP -0.107360"
      ]
     },
     "execution_count": 28,
     "metadata": {},
     "output_type": "execute_result"
    }
   ],
   "source": [
    "word_sent.sort_values('가중치').head()\n",
    "#부정단어"
   ]
  },
  {
   "cell_type": "code",
   "execution_count": 29,
   "metadata": {},
   "outputs": [
    {
     "data": {
      "text/html": [
       "<div>\n",
       "<style scoped>\n",
       "    .dataframe tbody tr th:only-of-type {\n",
       "        vertical-align: middle;\n",
       "    }\n",
       "\n",
       "    .dataframe tbody tr th {\n",
       "        vertical-align: top;\n",
       "    }\n",
       "\n",
       "    .dataframe thead th {\n",
       "        text-align: right;\n",
       "    }\n",
       "</style>\n",
       "<table border=\"1\" class=\"dataframe\">\n",
       "  <thead>\n",
       "    <tr style=\"text-align: right;\">\n",
       "      <th></th>\n",
       "      <th>토큰</th>\n",
       "      <th>가중치</th>\n",
       "    </tr>\n",
       "  </thead>\n",
       "  <tbody>\n",
       "    <tr>\n",
       "      <th>14</th>\n",
       "      <td>거/NNB</td>\n",
       "      <td>0.153119</td>\n",
       "    </tr>\n",
       "    <tr>\n",
       "      <th>212</th>\n",
       "      <td>스쿼트/NNP</td>\n",
       "      <td>0.160003</td>\n",
       "    </tr>\n",
       "    <tr>\n",
       "      <th>173</th>\n",
       "      <td>밴드/NNG</td>\n",
       "      <td>0.161501</td>\n",
       "    </tr>\n",
       "    <tr>\n",
       "      <th>470</th>\n",
       "      <td>하/VV</td>\n",
       "      <td>0.165251</td>\n",
       "    </tr>\n",
       "    <tr>\n",
       "      <th>346</th>\n",
       "      <td>좋/VA</td>\n",
       "      <td>0.172762</td>\n",
       "    </tr>\n",
       "  </tbody>\n",
       "</table>\n",
       "</div>"
      ],
      "text/plain": [
       "          토큰       가중치\n",
       "14     거/NNB  0.153119\n",
       "212  스쿼트/NNP  0.160003\n",
       "173   밴드/NNG  0.161501\n",
       "470     하/VV  0.165251\n",
       "346     좋/VA  0.172762"
      ]
     },
     "execution_count": 29,
     "metadata": {},
     "output_type": "execute_result"
    }
   ],
   "source": [
    "word_sent.sort_values('가중치').tail()\n",
    "#긍정단어"
   ]
  },
  {
   "cell_type": "markdown",
   "metadata": {},
   "source": [
    "## 주제분석 LSA"
   ]
  },
  {
   "cell_type": "code",
   "execution_count": 30,
   "metadata": {},
   "outputs": [
    {
     "data": {
      "text/html": [
       "<div>\n",
       "<style scoped>\n",
       "    .dataframe tbody tr th:only-of-type {\n",
       "        vertical-align: middle;\n",
       "    }\n",
       "\n",
       "    .dataframe tbody tr th {\n",
       "        vertical-align: top;\n",
       "    }\n",
       "\n",
       "    .dataframe thead th {\n",
       "        text-align: right;\n",
       "    }\n",
       "</style>\n",
       "<table border=\"1\" class=\"dataframe\">\n",
       "  <thead>\n",
       "    <tr style=\"text-align: right;\">\n",
       "      <th></th>\n",
       "      <th>review</th>\n",
       "      <th>label</th>\n",
       "    </tr>\n",
       "  </thead>\n",
       "  <tbody>\n",
       "    <tr>\n",
       "      <th>0</th>\n",
       "      <td>예전에 사용하던 제품이 낡아서 재구매했어요. 배송 진짜빠르네요. 포장상태도 좋아요</td>\n",
       "      <td>1</td>\n",
       "    </tr>\n",
       "    <tr>\n",
       "      <th>1</th>\n",
       "      <td>하체운동 하면 무릎이 화끈거렸는데 완전 해결됬어요. 이젠 필수품 입니다. 마음 놓고...</td>\n",
       "      <td>1</td>\n",
       "    </tr>\n",
       "    <tr>\n",
       "      <th>2</th>\n",
       "      <td>배송 빠르고 뽁뽁이에 잘 포장돼서 왔어요~~~ 만족합니다~!</td>\n",
       "      <td>1</td>\n",
       "    </tr>\n",
       "    <tr>\n",
       "      <th>3</th>\n",
       "      <td>좋아요 이거 끼면 크로스핏 할 때 무릎 하나도 안파요</td>\n",
       "      <td>1</td>\n",
       "    </tr>\n",
       "    <tr>\n",
       "      <th>4</th>\n",
       "      <td>처음사용하는 무릅보호대 지인 추천으로 구매합니다</td>\n",
       "      <td>1</td>\n",
       "    </tr>\n",
       "  </tbody>\n",
       "</table>\n",
       "</div>"
      ],
      "text/plain": [
       "                                              review  label\n",
       "0      예전에 사용하던 제품이 낡아서 재구매했어요. 배송 진짜빠르네요. 포장상태도 좋아요      1\n",
       "1  하체운동 하면 무릎이 화끈거렸는데 완전 해결됬어요. 이젠 필수품 입니다. 마음 놓고...      1\n",
       "2                  배송 빠르고 뽁뽁이에 잘 포장돼서 왔어요~~~ 만족합니다~!      1\n",
       "3                      좋아요 이거 끼면 크로스핏 할 때 무릎 하나도 안파요      1\n",
       "4                         처음사용하는 무릅보호대 지인 추천으로 구매합니다      1"
      ]
     },
     "execution_count": 30,
     "metadata": {},
     "output_type": "execute_result"
    }
   ],
   "source": [
    "import pandas as pd\n",
    "df = pd.read_csv('df13.csv', index_col = 0)\n",
    "df.head()"
   ]
  },
  {
   "cell_type": "code",
   "execution_count": 31,
   "metadata": {},
   "outputs": [
    {
     "data": {
      "text/plain": [
       "0"
      ]
     },
     "execution_count": 31,
     "metadata": {},
     "output_type": "execute_result"
    }
   ],
   "source": [
    "from kiwipiepy import Kiwi\n",
    "kiwi = Kiwi()\n",
    "kiwi.prepare()"
   ]
  },
  {
   "cell_type": "code",
   "execution_count": 32,
   "metadata": {},
   "outputs": [],
   "source": [
    "def extract_keywords(text):\n",
    "    result = kiwi.analyze(text)\n",
    "    for token, pos, _, _ in result[0][0]:\n",
    "        if pos[0] in 'NV':\n",
    "            yield f'{token}'"
   ]
  },
  {
   "cell_type": "code",
   "execution_count": 33,
   "metadata": {},
   "outputs": [],
   "source": [
    "from sklearn.feature_extraction.text import CountVectorizer, TfidfVectorizer \n",
    "##비교해보고 결과 좋은 거로 고르기\n",
    "cv = TfidfVectorizer(max_features=1000,tokenizer=extract_keywords)\n",
    "x = cv.fit_transform(df.review)\n",
    "words = cv.get_feature_names()"
   ]
  },
  {
   "cell_type": "code",
   "execution_count": 34,
   "metadata": {},
   "outputs": [
    {
     "data": {
      "text/plain": [
       "(333, 658)"
      ]
     },
     "execution_count": 34,
     "metadata": {},
     "output_type": "execute_result"
    }
   ],
   "source": [
    "from sklearn.decomposition import TruncatedSVD\n",
    "x.shape"
   ]
  },
  {
   "cell_type": "code",
   "execution_count": 35,
   "metadata": {},
   "outputs": [
    {
     "data": {
      "text/plain": [
       "TruncatedSVD(n_components=100, random_state=1234)"
      ]
     },
     "execution_count": 35,
     "metadata": {},
     "output_type": "execute_result"
    }
   ],
   "source": [
    "svd = TruncatedSVD(n_components=100, random_state=1234)\n",
    "# 100차원(주제)으로 줄인다(임의로 줄인거 병렬분석해서 차원크기 결정해아햠)\n",
    "svd.fit(x)"
   ]
  },
  {
   "cell_type": "code",
   "execution_count": 36,
   "metadata": {},
   "outputs": [
    {
     "data": {
      "text/plain": [
       "array([[ 1.38884252e-03,  3.42773724e-03,  1.15586760e-02, ...,\n",
       "         5.49988618e-03,  5.32690267e-03,  9.47753827e-03],\n",
       "       [-1.10053439e-05, -3.23265405e-04, -1.13097511e-02, ...,\n",
       "        -4.90755797e-03, -1.59866471e-03,  3.41735647e-04],\n",
       "       [-3.66817941e-03, -7.02804446e-03,  4.71209488e-04, ...,\n",
       "        -3.08822212e-03, -1.11949258e-02, -1.62683835e-02],\n",
       "       ...,\n",
       "       [-1.67003193e-02, -5.69003802e-03, -1.82756843e-02, ...,\n",
       "        -2.52375547e-02, -5.76101788e-03,  4.32012375e-02],\n",
       "       [ 1.20164939e-02,  1.74522500e-02,  7.49111341e-02, ...,\n",
       "         2.05068743e-02,  2.33358791e-03,  2.61909785e-02],\n",
       "       [ 2.36235093e-02,  4.04446968e-02,  9.38911473e-02, ...,\n",
       "         2.05679774e-02, -7.39092197e-03, -1.09249820e-02]])"
      ]
     },
     "execution_count": 36,
     "metadata": {},
     "output_type": "execute_result"
    }
   ],
   "source": [
    "svd.components_"
   ]
  },
  {
   "cell_type": "code",
   "execution_count": 37,
   "metadata": {},
   "outputs": [
    {
     "data": {
      "text/plain": [
       "array([ 1.56296888e-01, -1.01584963e-01, -1.82168814e-01, -6.32992035e-02,\n",
       "        1.94188956e-01,  4.88683729e-01, -2.64150488e-01,  8.75611869e-02,\n",
       "       -2.65228696e-01,  1.04915030e-01,  1.52656450e-01,  1.59192022e-01,\n",
       "        3.61965471e-04, -1.42232695e-01, -8.81921279e-02, -2.93691160e-02,\n",
       "        6.10623700e-02, -1.12195806e-01,  9.41056424e-02, -1.35596787e-01,\n",
       "       -7.63280352e-02,  1.28578399e-01,  1.40638835e-01, -5.26925096e-02,\n",
       "       -1.75966797e-01,  1.43463645e-02,  1.05633061e-01,  3.41854834e-02,\n",
       "        1.38742144e-01,  7.74051758e-02,  2.91823118e-02, -4.87269105e-02,\n",
       "        2.97595060e-02,  3.51959416e-02,  5.11712610e-02, -6.70984856e-02,\n",
       "       -1.09328253e-01,  5.49008776e-02, -8.76451650e-02, -1.25498529e-02,\n",
       "        4.84189671e-03,  1.01878978e-02,  5.84367082e-03, -5.89852940e-02,\n",
       "        1.31364897e-02,  1.50725853e-02,  1.31759587e-02, -2.59380331e-02,\n",
       "       -6.46223417e-02, -2.18476852e-02,  1.09327590e-02,  4.90395455e-02,\n",
       "       -6.68888423e-02, -5.83928399e-02,  2.58700013e-02, -5.05067006e-03,\n",
       "       -6.53163821e-02, -9.02322757e-03, -1.63864165e-02,  4.23919945e-02,\n",
       "        3.25234429e-03,  6.06778334e-02,  5.09401996e-04, -2.87898954e-02,\n",
       "        3.40804550e-02, -8.98857876e-02, -6.39648714e-02, -1.49207918e-02,\n",
       "       -6.37734020e-02, -3.37665114e-02, -3.11058277e-02,  2.87342923e-02,\n",
       "       -7.06614996e-02,  4.28332524e-02,  8.18804639e-03, -2.42471338e-03,\n",
       "       -7.29635796e-03,  4.73416504e-02, -5.67609415e-03, -2.03218229e-02,\n",
       "       -1.36199712e-02, -3.44819018e-02, -3.32426039e-02,  8.36675151e-02,\n",
       "        6.93759008e-03, -9.18814716e-03, -4.70922446e-02,  2.30081989e-02,\n",
       "        2.13830976e-03,  1.74800184e-02, -8.15308721e-03,  4.10389081e-02,\n",
       "        1.14053230e-02, -2.74791675e-02, -4.58064491e-04,  8.04059143e-03,\n",
       "        1.50737410e-02, -4.65476568e-02,  2.58417667e-02,  3.98908762e-03])"
      ]
     },
     "execution_count": 37,
     "metadata": {},
     "output_type": "execute_result"
    }
   ],
   "source": [
    "word_idx = words.index('운동') \n",
    "svd.components_[:, word_idx] "
   ]
  },
  {
   "cell_type": "code",
   "execution_count": 38,
   "metadata": {},
   "outputs": [
    {
     "data": {
      "text/plain": [
       "[<matplotlib.lines.Line2D at 0x28e8c9cdf10>]"
      ]
     },
     "execution_count": 38,
     "metadata": {},
     "output_type": "execute_result"
    },
    {
     "data": {
      "image/png": "[encoded data removed]",
      "text/plain": [
       "<Figure size 432x288 with 1 Axes>"
      ]
     },
     "metadata": {
      "needs_background": "light"
     },
     "output_type": "display_data"
    }
   ],
   "source": [
    "from matplotlib import pyplot\n",
    "pyplot.plot(svd.components_[:, word_idx])"
   ]
  },
  {
   "cell_type": "code",
   "execution_count": 39,
   "metadata": {},
   "outputs": [
    {
     "data": {
      "text/plain": [
       "5"
      ]
     },
     "execution_count": 39,
     "metadata": {},
     "output_type": "execute_result"
    }
   ],
   "source": [
    "topic_idx = svd.components_[:, word_idx].argmax() \n",
    "topic_idx"
   ]
  },
  {
   "cell_type": "code",
   "execution_count": 40,
   "metadata": {},
   "outputs": [
    {
     "data": {
      "text/html": [
       "<div>\n",
       "<style scoped>\n",
       "    .dataframe tbody tr th:only-of-type {\n",
       "        vertical-align: middle;\n",
       "    }\n",
       "\n",
       "    .dataframe tbody tr th {\n",
       "        vertical-align: top;\n",
       "    }\n",
       "\n",
       "    .dataframe thead th {\n",
       "        text-align: right;\n",
       "    }\n",
       "</style>\n",
       "<table border=\"1\" class=\"dataframe\">\n",
       "  <thead>\n",
       "    <tr style=\"text-align: right;\">\n",
       "      <th></th>\n",
       "      <th>word</th>\n",
       "      <th>loading</th>\n",
       "    </tr>\n",
       "  </thead>\n",
       "  <tbody>\n",
       "    <tr>\n",
       "      <th>223</th>\n",
       "      <td>무릎</td>\n",
       "      <td>0.117765</td>\n",
       "    </tr>\n",
       "    <tr>\n",
       "      <th>616</th>\n",
       "      <td>편하</td>\n",
       "      <td>0.147800</td>\n",
       "    </tr>\n",
       "    <tr>\n",
       "      <th>629</th>\n",
       "      <td>하</td>\n",
       "      <td>0.183231</td>\n",
       "    </tr>\n",
       "    <tr>\n",
       "      <th>175</th>\n",
       "      <td>때</td>\n",
       "      <td>0.406535</td>\n",
       "    </tr>\n",
       "    <tr>\n",
       "      <th>433</th>\n",
       "      <td>운동</td>\n",
       "      <td>0.488684</td>\n",
       "    </tr>\n",
       "  </tbody>\n",
       "</table>\n",
       "</div>"
      ],
      "text/plain": [
       "    word   loading\n",
       "223   무릎  0.117765\n",
       "616   편하  0.147800\n",
       "629    하  0.183231\n",
       "175    때  0.406535\n",
       "433   운동  0.488684"
      ]
     },
     "execution_count": 40,
     "metadata": {},
     "output_type": "execute_result"
    }
   ],
   "source": [
    "topic = pd.DataFrame({'word': words, 'loading': svd.components_[topic_idx]}) \n",
    "topic.sort_values('loading').tail()"
   ]
  },
  {
   "cell_type": "code",
   "execution_count": 41,
   "metadata": {},
   "outputs": [],
   "source": [
    "import numpy as np\n",
    "nrow, ncol = x.shape"
   ]
  },
  {
   "cell_type": "code",
   "execution_count": 42,
   "metadata": {},
   "outputs": [
    {
     "data": {
      "text/plain": [
       "(333, 658)"
      ]
     },
     "execution_count": 42,
     "metadata": {},
     "output_type": "execute_result"
    }
   ],
   "source": [
    "def resample(a):\n",
    "    return np.random.choice(a, size=nrow)\n",
    "\n",
    "\n",
    "np.random.seed(2999)\n",
    "d = np.apply_along_axis(resample, 0, x.A)\n",
    "\n",
    "d.shape"
   ]
  },
  {
   "cell_type": "code",
   "execution_count": 43,
   "metadata": {},
   "outputs": [
    {
     "data": {
      "text/plain": [
       "TruncatedSVD(n_components=100, random_state=1234)"
      ]
     },
     "execution_count": 43,
     "metadata": {},
     "output_type": "execute_result"
    }
   ],
   "source": [
    "svd2 = TruncatedSVD(n_components=100, random_state=1234)\n",
    "svd2.fit(d)"
   ]
  },
  {
   "cell_type": "code",
   "execution_count": 44,
   "metadata": {},
   "outputs": [
    {
     "data": {
      "text/plain": [
       "[<matplotlib.lines.Line2D at 0x28e84719400>]"
      ]
     },
     "execution_count": 44,
     "metadata": {},
     "output_type": "execute_result"
    },
    {
     "data": {
      "image/png": "[encoded data removed]",
      "text/plain": [
       "<Figure size 432x288 with 1 Axes>"
      ]
     },
     "metadata": {
      "needs_background": "light"
     },
     "output_type": "display_data"
    }
   ],
   "source": [
    "pyplot.plot(svd.singular_values_)\n",
    "pyplot.plot(svd2.singular_values_)"
   ]
  },
  {
   "cell_type": "code",
   "execution_count": 45,
   "metadata": {},
   "outputs": [
    {
     "data": {
      "text/plain": [
       "array([0], dtype=int64)"
      ]
     },
     "execution_count": 45,
     "metadata": {},
     "output_type": "execute_result"
    }
   ],
   "source": [
    "np.argwhere(svd.singular_values_ - svd2.singular_values_ <= 0)[0]"
   ]
  },
  {
   "cell_type": "code",
   "execution_count": 46,
   "metadata": {},
   "outputs": [
    {
     "data": {
      "text/plain": [
       "(100, 658)"
      ]
     },
     "execution_count": 46,
     "metadata": {},
     "output_type": "execute_result"
    }
   ],
   "source": [
    "svd.components_.shape"
   ]
  },
  {
   "cell_type": "markdown",
   "metadata": {},
   "source": [
    "## 회전"
   ]
  },
  {
   "cell_type": "code",
   "execution_count": 47,
   "metadata": {},
   "outputs": [],
   "source": [
    "from factor_analyzer.rotator import Rotator\n",
    "rotator = Rotator()"
   ]
  },
  {
   "cell_type": "code",
   "execution_count": 48,
   "metadata": {},
   "outputs": [],
   "source": [
    "rot = rotator.fit_transform(svd.components_.T)"
   ]
  },
  {
   "cell_type": "code",
   "execution_count": 49,
   "metadata": {},
   "outputs": [
    {
     "data": {
      "text/plain": [
       "[<matplotlib.lines.Line2D at 0x28e8f6f5190>]"
      ]
     },
     "execution_count": 49,
     "metadata": {},
     "output_type": "execute_result"
    },
    {
     "data": {
      "image/png": "[encoded data removed]",
      "text/plain": [
       "<Figure size 432x288 with 1 Axes>"
      ]
     },
     "metadata": {
      "needs_background": "light"
     },
     "output_type": "display_data"
    }
   ],
   "source": [
    "loading = rot.T\n",
    "word_idx = words.index('운동')\n",
    "pyplot.plot(loading[:, word_idx])"
   ]
  },
  {
   "cell_type": "code",
   "execution_count": 50,
   "metadata": {},
   "outputs": [
    {
     "data": {
      "text/plain": [
       "5"
      ]
     },
     "execution_count": 50,
     "metadata": {},
     "output_type": "execute_result"
    }
   ],
   "source": [
    "topic_idx = loading[:, word_idx].argmax()\n",
    "topic_idx"
   ]
  },
  {
   "cell_type": "code",
   "execution_count": 51,
   "metadata": {},
   "outputs": [
    {
     "data": {
      "text/html": [
       "<div>\n",
       "<style scoped>\n",
       "    .dataframe tbody tr th:only-of-type {\n",
       "        vertical-align: middle;\n",
       "    }\n",
       "\n",
       "    .dataframe tbody tr th {\n",
       "        vertical-align: top;\n",
       "    }\n",
       "\n",
       "    .dataframe thead th {\n",
       "        text-align: right;\n",
       "    }\n",
       "</style>\n",
       "<table border=\"1\" class=\"dataframe\">\n",
       "  <thead>\n",
       "    <tr style=\"text-align: right;\">\n",
       "      <th></th>\n",
       "      <th>word</th>\n",
       "      <th>loading</th>\n",
       "    </tr>\n",
       "  </thead>\n",
       "  <tbody>\n",
       "    <tr>\n",
       "      <th>221</th>\n",
       "      <td>무릅</td>\n",
       "      <td>0.089831</td>\n",
       "    </tr>\n",
       "    <tr>\n",
       "      <th>175</th>\n",
       "      <td>때</td>\n",
       "      <td>0.111618</td>\n",
       "    </tr>\n",
       "    <tr>\n",
       "      <th>46</th>\n",
       "      <td>괜찬아엻</td>\n",
       "      <td>0.116297</td>\n",
       "    </tr>\n",
       "    <tr>\n",
       "      <th>27</th>\n",
       "      <td>걱정</td>\n",
       "      <td>0.142224</td>\n",
       "    </tr>\n",
       "    <tr>\n",
       "      <th>433</th>\n",
       "      <td>운동</td>\n",
       "      <td>0.837867</td>\n",
       "    </tr>\n",
       "  </tbody>\n",
       "</table>\n",
       "</div>"
      ],
      "text/plain": [
       "     word   loading\n",
       "221    무릅  0.089831\n",
       "175     때  0.111618\n",
       "46   괜찬아엻  0.116297\n",
       "27     걱정  0.142224\n",
       "433    운동  0.837867"
      ]
     },
     "execution_count": 51,
     "metadata": {},
     "output_type": "execute_result"
    }
   ],
   "source": [
    "topic = pd.DataFrame({'word': words, 'loading': loading[topic_idx]})\n",
    "topic.sort_values('loading').tail()"
   ]
  },
  {
   "cell_type": "code",
   "execution_count": 52,
   "metadata": {},
   "outputs": [],
   "source": [
    "from sklearn.decomposition import NMF\n",
    "nmf = NMF(n_components=20, random_state=1234)\n",
    "doc_topics = nmf.fit_transform(x)"
   ]
  },
  {
   "cell_type": "code",
   "execution_count": 53,
   "metadata": {},
   "outputs": [],
   "source": [
    "loading = nmf.components_"
   ]
  },
  {
   "cell_type": "code",
   "execution_count": 54,
   "metadata": {},
   "outputs": [],
   "source": [
    "word_idx =words.index('운동')"
   ]
  },
  {
   "cell_type": "code",
   "execution_count": 55,
   "metadata": {},
   "outputs": [
    {
     "data": {
      "text/plain": [
       "[<matplotlib.lines.Line2D at 0x28e8f735310>]"
      ]
     },
     "execution_count": 55,
     "metadata": {},
     "output_type": "execute_result"
    },
    {
     "data": {
      "image/png": "[encoded data removed]",
      "text/plain": [
       "<Figure size 432x288 with 1 Axes>"
      ]
     },
     "metadata": {
      "needs_background": "light"
     },
     "output_type": "display_data"
    }
   ],
   "source": [
    "pyplot.plot(loading[:, word_idx])"
   ]
  },
  {
   "cell_type": "code",
   "execution_count": 56,
   "metadata": {},
   "outputs": [
    {
     "data": {
      "text/plain": [
       "5"
      ]
     },
     "execution_count": 56,
     "metadata": {},
     "output_type": "execute_result"
    }
   ],
   "source": [
    "topic_idx = loading[:, word_idx].argmax()\n",
    "topic_idx"
   ]
  },
  {
   "cell_type": "code",
   "execution_count": 57,
   "metadata": {},
   "outputs": [
    {
     "data": {
      "text/html": [
       "<div>\n",
       "<style scoped>\n",
       "    .dataframe tbody tr th:only-of-type {\n",
       "        vertical-align: middle;\n",
       "    }\n",
       "\n",
       "    .dataframe tbody tr th {\n",
       "        vertical-align: top;\n",
       "    }\n",
       "\n",
       "    .dataframe thead th {\n",
       "        text-align: right;\n",
       "    }\n",
       "</style>\n",
       "<table border=\"1\" class=\"dataframe\">\n",
       "  <thead>\n",
       "    <tr style=\"text-align: right;\">\n",
       "      <th></th>\n",
       "      <th>word</th>\n",
       "      <th>loading</th>\n",
       "    </tr>\n",
       "  </thead>\n",
       "  <tbody>\n",
       "    <tr>\n",
       "      <th>144</th>\n",
       "      <td>도움</td>\n",
       "      <td>0.118658</td>\n",
       "    </tr>\n",
       "    <tr>\n",
       "      <th>627</th>\n",
       "      <td>필수품</td>\n",
       "      <td>0.125828</td>\n",
       "    </tr>\n",
       "    <tr>\n",
       "      <th>27</th>\n",
       "      <td>걱정</td>\n",
       "      <td>0.138404</td>\n",
       "    </tr>\n",
       "    <tr>\n",
       "      <th>602</th>\n",
       "      <td>통증</td>\n",
       "      <td>0.171550</td>\n",
       "    </tr>\n",
       "    <tr>\n",
       "      <th>632</th>\n",
       "      <td>하체</td>\n",
       "      <td>0.195914</td>\n",
       "    </tr>\n",
       "    <tr>\n",
       "      <th>175</th>\n",
       "      <td>때</td>\n",
       "      <td>0.734138</td>\n",
       "    </tr>\n",
       "    <tr>\n",
       "      <th>433</th>\n",
       "      <td>운동</td>\n",
       "      <td>1.258672</td>\n",
       "    </tr>\n",
       "  </tbody>\n",
       "</table>\n",
       "</div>"
      ],
      "text/plain": [
       "    word   loading\n",
       "144   도움  0.118658\n",
       "627  필수품  0.125828\n",
       "27    걱정  0.138404\n",
       "602   통증  0.171550\n",
       "632   하체  0.195914\n",
       "175    때  0.734138\n",
       "433   운동  1.258672"
      ]
     },
     "execution_count": 57,
     "metadata": {},
     "output_type": "execute_result"
    }
   ],
   "source": [
    "topic = pd.DataFrame({'word': words, 'loading': loading[topic_idx]})\n",
    "topic.sort_values('loading').tail(7)\n",
    "# 번주제와 관련도 높은"
   ]
  },
  {
   "cell_type": "code",
   "execution_count": 60,
   "metadata": {},
   "outputs": [
    {
     "data": {
      "text/html": [
       "<div>\n",
       "<style scoped>\n",
       "    .dataframe tbody tr th:only-of-type {\n",
       "        vertical-align: middle;\n",
       "    }\n",
       "\n",
       "    .dataframe tbody tr th {\n",
       "        vertical-align: top;\n",
       "    }\n",
       "\n",
       "    .dataframe thead th {\n",
       "        text-align: right;\n",
       "    }\n",
       "</style>\n",
       "<table border=\"1\" class=\"dataframe\">\n",
       "  <thead>\n",
       "    <tr style=\"text-align: right;\">\n",
       "      <th></th>\n",
       "      <th>review</th>\n",
       "      <th>label</th>\n",
       "    </tr>\n",
       "  </thead>\n",
       "  <tbody>\n",
       "    <tr>\n",
       "      <th>0</th>\n",
       "      <td>무릎 재활하면서 다시 운동을 시작해야해서 지인추천으로 사보았네요. 기존에 에너스킨같...</td>\n",
       "      <td>1</td>\n",
       "    </tr>\n",
       "    <tr>\n",
       "      <th>1</th>\n",
       "      <td>5일착용하고 한번 세탁했는데 전혀 이상없음  소재가 굉장히 부드럽고 유연한데 개인에...</td>\n",
       "      <td>1</td>\n",
       "    </tr>\n",
       "    <tr>\n",
       "      <th>2</th>\n",
       "      <td>배송도 빠르고 양말도 서비스로 넣어주셔서 감사합니다 무릎보호대중에 다수의 분들이 추...</td>\n",
       "      <td>1</td>\n",
       "    </tr>\n",
       "    <tr>\n",
       "      <th>3</th>\n",
       "      <td>제가 착용해보고 너무좋아서 부모님도 선물해드렸더니 너무좋데요 이거 착용하고 부터 운...</td>\n",
       "      <td>1</td>\n",
       "    </tr>\n",
       "    <tr>\n",
       "      <th>4</th>\n",
       "      <td>배송최고ㅎㅎ 추전받아서 구입한건데 몇일 착용하고 운동햇더니 무릎이 아프지않고 잡아주...</td>\n",
       "      <td>1</td>\n",
       "    </tr>\n",
       "  </tbody>\n",
       "</table>\n",
       "</div>"
      ],
      "text/plain": [
       "                                              review  label\n",
       "0  무릎 재활하면서 다시 운동을 시작해야해서 지인추천으로 사보았네요. 기존에 에너스킨같...      1\n",
       "1  5일착용하고 한번 세탁했는데 전혀 이상없음  소재가 굉장히 부드럽고 유연한데 개인에...      1\n",
       "2  배송도 빠르고 양말도 서비스로 넣어주셔서 감사합니다 무릎보호대중에 다수의 분들이 추...      1\n",
       "3  제가 착용해보고 너무좋아서 부모님도 선물해드렸더니 너무좋데요 이거 착용하고 부터 운...      1\n",
       "4  배송최고ㅎㅎ 추전받아서 구입한건데 몇일 착용하고 운동햇더니 무릎이 아프지않고 잡아주...      1"
      ]
     },
     "execution_count": 60,
     "metadata": {},
     "output_type": "execute_result"
    }
   ],
   "source": [
    "import pandas as pd\n",
    "df = pd.read_csv('df10.csv', index_col = 0)\n",
    "df.head()"
   ]
  },
  {
   "cell_type": "code",
   "execution_count": 61,
   "metadata": {},
   "outputs": [
    {
     "data": {
      "text/plain": [
       "0"
      ]
     },
     "execution_count": 61,
     "metadata": {},
     "output_type": "execute_result"
    }
   ],
   "source": [
    "from kiwipiepy import Kiwi\n",
    "kiwi = Kiwi()\n",
    "kiwi.prepare()"
   ]
  },
  {
   "cell_type": "code",
   "execution_count": 62,
   "metadata": {},
   "outputs": [],
   "source": [
    "def tokenizer(text):\n",
    "    words=[]\n",
    "    result = kiwi.analyze(text)\n",
    "    for token, pos, _, _ in result[0][0]:\n",
    "        if pos[0] in 'NV':\n",
    "            words.append(token)\n",
    "    return words"
   ]
  },
  {
   "cell_type": "code",
   "execution_count": 63,
   "metadata": {},
   "outputs": [],
   "source": [
    "docs = []\n",
    "for text in df.review:\n",
    "    doc = tokenizer(text)\n",
    "    docs.append(doc)"
   ]
  },
  {
   "cell_type": "code",
   "execution_count": 64,
   "metadata": {},
   "outputs": [
    {
     "name": "stderr",
     "output_type": "stream",
     "text": [
      "C:\\ProgramData\\Anaconda3\\lib\\site-packages\\gensim\\similarities\\__init__.py:15: UserWarning: The gensim.similarities.levenshtein submodule is disabled, because the optional Levenshtein package <https://pypi.org/project/python-Levenshtein/> is unavailable. Install Levenhstein (e.g. `pip install python-Levenshtein`) to suppress this warning.\n",
      "  warnings.warn(msg)\n"
     ]
    }
   ],
   "source": [
    "from gensim.corpora.dictionary import Dictionary\n",
    "dic = Dictionary(docs)"
   ]
  },
  {
   "cell_type": "code",
   "execution_count": 65,
   "metadata": {},
   "outputs": [],
   "source": [
    "dic.filter_extremes(no_below=10, no_above=0.9) "
   ]
  },
  {
   "cell_type": "code",
   "execution_count": 66,
   "metadata": {},
   "outputs": [],
   "source": [
    "corpus = []\n",
    "for doc in docs:\n",
    "    bow = dic.doc2bow(doc)\n",
    "    corpus.append(bow)"
   ]
  },
  {
   "cell_type": "markdown",
   "metadata": {},
   "source": [
    "## LDA"
   ]
  },
  {
   "cell_type": "code",
   "execution_count": 67,
   "metadata": {},
   "outputs": [],
   "source": [
    "from gensim.models.ldamodel import LdaModel"
   ]
  },
  {
   "cell_type": "code",
   "execution_count": 68,
   "metadata": {},
   "outputs": [],
   "source": [
    "from sklearn.model_selection import train_test_split\n",
    "train_corpus, valid_corpus = train_test_split(corpus, test_size=0.1, random_state=1234)"
   ]
  },
  {
   "cell_type": "code",
   "execution_count": 69,
   "metadata": {},
   "outputs": [],
   "source": [
    "import warnings #경고무시\n",
    "warnings.filterwarnings(\"ignore\", category=DeprecationWarning)"
   ]
  },
  {
   "cell_type": "code",
   "execution_count": 70,
   "metadata": {},
   "outputs": [],
   "source": [
    "model = LdaModel(\n",
    "    corpus=train_corpus,\n",
    "    id2word=dic,\n",
    "    num_topics=100, #주제개수\n",
    "    random_state=1234)"
   ]
  },
  {
   "cell_type": "code",
   "execution_count": 71,
   "metadata": {},
   "outputs": [
    {
     "data": {
      "text/plain": [
       "-22.444819329276566"
      ]
     },
     "execution_count": 71,
     "metadata": {},
     "output_type": "execute_result"
    }
   ],
   "source": [
    "loss = model.log_perplexity(valid_corpus)#성능검사 0에 가까우면 좋음\n",
    "loss"
   ]
  },
  {
   "cell_type": "code",
   "execution_count": 72,
   "metadata": {},
   "outputs": [],
   "source": [
    "import numpy"
   ]
  },
  {
   "cell_type": "code",
   "execution_count": 73,
   "metadata": {},
   "outputs": [
    {
     "name": "stdout",
     "output_type": "stream",
     "text": [
      "-23.090966516617094\n"
     ]
    }
   ],
   "source": [
    "old_loss = -numpy.inf\n",
    "while loss > old_loss + 0.1:\n",
    "    model.update(train_corpus)\n",
    "    old_loss = loss\n",
    "    loss = model.log_perplexity(valid_corpus)\n",
    "    print(loss)"
   ]
  },
  {
   "cell_type": "code",
   "execution_count": 74,
   "metadata": {},
   "outputs": [],
   "source": [
    "model.save('df10-model')"
   ]
  },
  {
   "cell_type": "code",
   "execution_count": 75,
   "metadata": {},
   "outputs": [],
   "source": [
    "model = LdaModel.load('df10-model')"
   ]
  },
  {
   "cell_type": "code",
   "execution_count": 76,
   "metadata": {},
   "outputs": [
    {
     "data": {
      "text/plain": [
       "<gensim.models.ldamodel.LdaModel at 0x28e8f70df10>"
      ]
     },
     "execution_count": 76,
     "metadata": {},
     "output_type": "execute_result"
    }
   ],
   "source": [
    "model"
   ]
  },
  {
   "cell_type": "markdown",
   "metadata": {},
   "source": [
    "### 결과보기"
   ]
  },
  {
   "cell_type": "code",
   "execution_count": 77,
   "metadata": {},
   "outputs": [
    {
     "data": {
      "text/plain": [
       "[('착용', 0.08380586),\n",
       " ('쓰', 0.083805814),\n",
       " ('하', 0.0838058),\n",
       " ('때', 0.083805785),\n",
       " ('좋', 0.0607726),\n",
       " ('것', 0.057296555),\n",
       " ('빠르', 0.042025164),\n",
       " ('보', 0.04202516),\n",
       " ('모르', 0.04202515),\n",
       " ('불편', 0.04202514)]"
      ]
     },
     "execution_count": 77,
     "metadata": {},
     "output_type": "execute_result"
    }
   ],
   "source": [
    "model.show_topic(2)"
   ]
  },
  {
   "cell_type": "code",
   "execution_count": 78,
   "metadata": {},
   "outputs": [
    {
     "data": {
      "text/plain": [
       "5"
      ]
     },
     "execution_count": 78,
     "metadata": {},
     "output_type": "execute_result"
    }
   ],
   "source": [
    "dic.token2id['무릎']"
   ]
  },
  {
   "cell_type": "code",
   "execution_count": 79,
   "metadata": {},
   "outputs": [
    {
     "data": {
      "text/plain": [
       "[(2, 0.03093666),\n",
       " (3, 0.027467676),\n",
       " (6, 0.14645515),\n",
       " (7, 0.05227013),\n",
       " (8, 0.02113491),\n",
       " (10, 0.033266727),\n",
       " (13, 0.03832792),\n",
       " (14, 0.022511981),\n",
       " (16, 0.06548779),\n",
       " (22, 0.023270067),\n",
       " (24, 0.050642543),\n",
       " (27, 0.020573786),\n",
       " (29, 0.015764302),\n",
       " (30, 0.058638975),\n",
       " (31, 0.06836899),\n",
       " (33, 0.14209433),\n",
       " (34, 0.033741415),\n",
       " (35, 0.04837875),\n",
       " (37, 0.1730184),\n",
       " (38, 0.221568),\n",
       " (41, 0.08771324),\n",
       " (42, 0.15332901),\n",
       " (43, 0.086138286),\n",
       " (44, 0.048580676),\n",
       " (48, 0.06092885),\n",
       " (52, 0.089246444),\n",
       " (54, 0.06715507),\n",
       " (55, 0.09002927),\n",
       " (56, 0.094424084),\n",
       " (57, 0.07405797),\n",
       " (58, 0.02982011),\n",
       " (61, 0.066893645),\n",
       " (64, 0.036206704),\n",
       " (66, 0.037120726),\n",
       " (69, 0.039205197),\n",
       " (71, 0.08930366),\n",
       " (75, 0.07797078),\n",
       " (80, 0.06777826),\n",
       " (81, 0.09306704),\n",
       " (82, 0.029632863),\n",
       " (83, 0.06518195),\n",
       " (85, 0.045157302),\n",
       " (90, 0.071291454),\n",
       " (92, 0.14088461),\n",
       " (95, 0.06939095),\n",
       " (96, 0.10545744)]"
      ]
     },
     "execution_count": 79,
     "metadata": {},
     "output_type": "execute_result"
    }
   ],
   "source": [
    "model.get_term_topics(5, 0.01)"
   ]
  },
  {
   "cell_type": "markdown",
   "metadata": {},
   "source": [
    "## LDAvis를 통한 결과 시각화"
   ]
  },
  {
   "cell_type": "code",
   "execution_count": 80,
   "metadata": {},
   "outputs": [],
   "source": [
    "import pyLDAvis.gensim"
   ]
  },
  {
   "cell_type": "code",
   "execution_count": 81,
   "metadata": {},
   "outputs": [
    {
     "name": "stderr",
     "output_type": "stream",
     "text": [
      "C:\\ProgramData\\Anaconda3\\lib\\site-packages\\ipykernel\\ipkernel.py:287: DeprecationWarning: `should_run_async` will not call `transform_cell` automatically in the future. Please pass the result to `transformed_cell` argument and any exception that happen during thetransform in `preprocessing_exc_tuple` in IPython 7.17 and above.\n",
      "  and should_run_async(code)\n"
     ]
    }
   ],
   "source": [
    "pyLDAvis.enable_notebook()"
   ]
  },
  {
   "cell_type": "code",
   "execution_count": 82,
   "metadata": {},
   "outputs": [
    {
     "name": "stderr",
     "output_type": "stream",
     "text": [
      "C:\\ProgramData\\Anaconda3\\lib\\site-packages\\ipykernel\\ipkernel.py:287: DeprecationWarning: `should_run_async` will not call `transform_cell` automatically in the future. Please pass the result to `transformed_cell` argument and any exception that happen during thetransform in `preprocessing_exc_tuple` in IPython 7.17 and above.\n",
      "  and should_run_async(code)\n"
     ]
    }
   ],
   "source": [
    "p = pyLDAvis.gensim.prepare(model, corpus, dic, sort_topics=False, mds='mmds')"
   ]
  },
  {
   "cell_type": "code",
   "execution_count": 83,
   "metadata": {},
   "outputs": [
    {
     "name": "stderr",
     "output_type": "stream",
     "text": [
      "C:\\ProgramData\\Anaconda3\\lib\\site-packages\\ipykernel\\ipkernel.py:287: DeprecationWarning: `should_run_async` will not call `transform_cell` automatically in the future. Please pass the result to `transformed_cell` argument and any exception that happen during thetransform in `preprocessing_exc_tuple` in IPython 7.17 and above.\n",
      "  and should_run_async(code)\n"
     ]
    },
    {
     "data": {
      "text/html": [
       "\n",
       "<link rel=\"stylesheet\" type=\"text/css\" href=\"https://cdn.rawgit.com/bmabey/pyLDAvis/files/ldavis.v1.0.0.css\">\n",
       "\n",
       "\n",
       "<div id=\"ldavis_el172428113237433601230393511\"></div>\n",
       "<script type=\"text/javascript\">\n",
       "\n",
       "var ldavis_el172428113237433601230393511_data = {\"mdsDat\": {\"x\": [-0.31814004193602613, 0.3473272500006497, -0.05056238685320392, 0.19350289327801712, 0.4121273740422434, -0.09271871843687063, 0.26863309308007355, -0.2139511081279603, 0.05167107355080306, -0.11579030194531115, 0.05274556053282392, 0.12551197612157056, 0.023387909279716235, -0.1508250255580352, 0.13695259378677901, -0.1157903019453111, -0.3195949960133144, -0.002116222111434137, -0.11579030194531122, -0.056618784041260216, 0.09177626382439716, 0.12910913901493015, -0.11268102629453706, 0.1777463623901061, -0.09653271804911452, -0.11579030194531117, 0.20273814401601414, -0.06756055002157689, -0.1157903019453112, -0.03578233881071335, -0.4338215810960475, -0.3643476946259387, -0.1822656636652378, 0.2917200436764415, 0.08613974142712301, -0.08913837407616707, 0.3937731707056203, 0.28794930446900824, 0.06139578332137114, -0.4245280379311969, -0.11579030194531117, 0.1095134345669289, -0.23912821113578328, 0.08196112606520663, 0.20436267966234617, -0.11579030194531115, -0.1157903019453112, 0.24062867655356485, -0.02923784276391297, 0.286274178763385, -0.11579030194531122, -0.11579030194531115, 0.17136408318569568, 0.14340040547901314, 0.21044831705249295, -0.08967792742286523, -0.0405254243010038, -0.18212383496382728, -0.03152041447381785, 0.32081334708072345, -0.1496847459042869, 0.3832412842384807, 0.2631892696694174, 0.09396186651967807, 0.031741284029828315, -0.11579030194531115, -0.1568091127329477, 0.34830286592541254, 0.05525301921016933, 0.14558044867536069, -0.15337683933243768, 0.04795249208746553, -0.33649897644945936, 0.0790250776941345, 0.011714512919159441, 0.07752244922537772, -0.23328873613509601, -0.4654967563324058, -0.21883002625347417, -0.31501119389760746, 0.02038414675193532, -0.1821012217535494, 0.1375454870809915, 0.32521226992211266, 0.187672179893178, -0.36680727673761643, -0.11579030194531113, -0.11579030194531113, -0.3238203232649745, -0.03909166368975194, 0.06584079348107003, 0.3729811191770092, 0.29645761083838684, 0.37710421249316095, -0.12068130666465987, -0.002862147995856648, 0.23370758956971183, -0.11579030194531113, -0.3291322968842391, -0.019408130356521554], \"y\": [0.25975018117586396, -0.039041621654846696, -0.18382567143054448, -0.11524792408697752, 0.21898608102570177, 0.024689013823483492, -0.1254017258495635, -0.05678032967190214, 0.255873209908316, 0.016111128283058464, -0.1403412633753063, 0.24607445350895624, 0.20748097450583586, 0.1970782451818663, 0.03565584450137614, 0.016111128283058464, 0.1327453871075489, -0.015339500130750892, 0.016111128283058468, 0.10071281075845388, 0.2212225764302653, -0.30975809079603517, -0.4021742421017076, 0.3253969217463779, -0.09627992202265352, 0.016111128283058468, -0.323746759138127, -0.08589635850167784, 0.016111128283058468, 0.27035791403382875, 0.05593520709825167, -0.19675637527904927, 0.3389829694316906, -0.20541475664543754, -0.04689264685214467, -0.2781292849450318, 0.14616906461842188, -0.22950119778173544, -0.4272670721108292, -0.1093628388046028, 0.016111128283058468, -0.12356471797060392, -0.31333810429567815, -0.21364213218235514, -0.08692571645627128, 0.01611112828305846, 0.016111128283058468, 0.06269275270649627, 0.06593889523622744, 0.2346434660661407, 0.016111128283058468, 0.016111128283058464, -0.1843766657343358, 0.19484653862190748, -0.060108597279387735, 0.2181467686841871, -0.2544090226344153, -0.11528329995873048, 0.14121823568122943, -0.018723362569971428, 0.3916226424506323, 0.22464519989450638, 0.36628748128452576, 0.47155796936026856, 0.010211964529862408, 0.016111128283058464, -0.12228926962646475, -0.09706585358311305, 0.1297431739558046, -0.04004356009040989, 0.4891730063865287, -0.3297079689457624, -0.010344426927404364, 0.07325023521595876, -0.026164146221837905, -0.29196356658336164, 0.1795852947904459, 0.006168859060635856, -0.36745773869521325, -0.25520881023239733, -0.15760432602918037, -0.21965058393894968, -0.006333133540850813, 0.22214087692287904, 0.1063466807921098, 0.09723384102207479, 0.016111128283058464, 0.016111128283058468, 0.3439831238829799, 0.44804893798576595, -0.27503986202767705, 0.04851806412808969, -0.2942623899952938, -0.11904582277738195, -0.3126785037483519, -0.20729243539943695, -0.15134736209138452, 0.016111128283058468, -0.09878677445522012, 0.35114507569205183], \"topics\": [1, 2, 3, 4, 5, 6, 7, 8, 9, 10, 11, 12, 13, 14, 15, 16, 17, 18, 19, 20, 21, 22, 23, 24, 25, 26, 27, 28, 29, 30, 31, 32, 33, 34, 35, 36, 37, 38, 39, 40, 41, 42, 43, 44, 45, 46, 47, 48, 49, 50, 51, 52, 53, 54, 55, 56, 57, 58, 59, 60, 61, 62, 63, 64, 65, 66, 67, 68, 69, 70, 71, 72, 73, 74, 75, 76, 77, 78, 79, 80, 81, 82, 83, 84, 85, 86, 87, 88, 89, 90, 91, 92, 93, 94, 95, 96, 97, 98, 99, 100], \"cluster\": [1, 1, 1, 1, 1, 1, 1, 1, 1, 1, 1, 1, 1, 1, 1, 1, 1, 1, 1, 1, 1, 1, 1, 1, 1, 1, 1, 1, 1, 1, 1, 1, 1, 1, 1, 1, 1, 1, 1, 1, 1, 1, 1, 1, 1, 1, 1, 1, 1, 1, 1, 1, 1, 1, 1, 1, 1, 1, 1, 1, 1, 1, 1, 1, 1, 1, 1, 1, 1, 1, 1, 1, 1, 1, 1, 1, 1, 1, 1, 1, 1, 1, 1, 1, 1, 1, 1, 1, 1, 1, 1, 1, 1, 1, 1, 1, 1, 1, 1, 1], \"Freq\": [1.1297817497980405, 0.39048522444747713, 0.7451603442162433, 1.3907034264139801, 0.8801601829175896, 0.10791148039065923, 1.911554267198943, 1.435329302749142, 1.4985688632200973, 0.10791148039065923, 1.2149800050938497, 0.806975036746749, 0.6979721676442798, 0.9208661076509094, 0.9207919735754683, 0.10791148039065923, 0.6241439211525862, 0.10791148039065923, 0.10791148039065923, 4.478867744715934, 0.7235262399954521, 1.3713610270600531, 1.3677666765931706, 1.3546000081138296, 2.7204579383307106, 0.10791148039065923, 0.7818989552153682, 1.3310066799941087, 0.10791148039065923, 1.636784070416045, 0.918876194955864, 0.9037433167375662, 1.7817573309959114, 2.3814219940093473, 1.1434301965873486, 2.0088918038959283, 0.9207894228816533, 1.238336182411308, 1.706586591476991, 1.1606159480120586, 0.10791148039065923, 1.0265614277012545, 0.6568742998879253, 0.9430082392194535, 0.9380096312906409, 0.10791148039065923, 0.10791148039065923, 1.186362950485585, 3.5772483565529583, 0.9292753675235, 0.10791148039065923, 0.10791148039065923, 0.333012488923127, 1.5773950398474987, 0.8724798220740065, 0.7398276634948661, 1.5216987531515414, 2.0309938586127347, 0.8257858391396705, 1.6686392182909668, 0.7585694741892132, 1.6263061334631406, 0.8239022754566354, 0.9754311359673745, 1.9395589941006568, 0.10791148039065923, 1.0021689719976932, 0.33301250428687096, 1.282826757110931, 0.7676697039667219, 1.3563229394815999, 0.871594521364021, 0.9704009746072187, 1.070402451549459, 0.10791148039065923, 0.8782072582114278, 0.8940651222134685, 0.5427150141609167, 0.7524572190248235, 0.8080814812294234, 2.2725250581779464, 0.9291431592319072, 0.5881270308678024, 1.7544172659279302, 0.7891041161759794, 1.0691447304244464, 0.10791148039065923, 0.10791148039065923, 0.803444669254595, 0.47889656385110696, 0.9179690130924671, 1.4908893702697452, 0.8706927210155982, 0.6175067904747696, 0.528701392320235, 0.9888439360910485, 1.6481963720026322, 0.10791148039065923, 1.1058333256344348, 0.3330125347448194]}, \"tinfo\": {\"Term\": [\"\\uc88b\", \"\\uc774\", \"\\uc8fc\", \"\\ud558\", \"\\uc7a1\", \"\\ucc29\\uc6a9\", \"\\uc6b4\\ub3d9\", \"\\uc788\", \"\\ubc30\\uc1a1\", \"\\uc0ac\\uc6a9\", \"\\ub54c\", \"\\ubb34\\ub98e\", \"\\ube60\\ub974\", \"\\uac19\", \"\\uac83\", \"\\ubcf4\", \"\\uac70\", \"\\uc81c\\ud488\", \"\\uc4f0\", \"\\uad6c\\ub9e4\", \"\\uc544\\ud504\", \"\\ub290\\ub08c\", \"\\uc0ac\", \"\\uc54a\", \"\\uc0ac\\uc774\\uc988\", \"\\ub9cc\\uc871\", \"\\uac10\", \"\\ud6c4\", \"\\uac10\\uc0ac\", \"\\ub418\", \"\\uad1c\\ucc2e\", \"\\uc0ac\\uc6a9\", \"\\uc6b4\\ub3d9\", \"\\ub54c\", \"\\uad6c\\ub9e4\", \"\\uac70\", \"\\ubc88\", \"\\uc88b\", \"\\uc544\\ud504\", \"\\ubcf4\", \"\\uac19\", \"\\uc54c\", \"\\ub2e4\\ub9ac\", \"\\uc7a1\", \"\\uc555\\ubc15\", \"\\ubb34\\ub98e\\ubcf4\\ud638\\ub300\", \"\\ud6a8\\uacfc\", \"\\ud788\", \"\\ub4f1\\uc0b0\", \"\\ub2ec\", \"\\ubaa8\\ub974\", \"\\ub4e4\", \"\\uadf8\\ub807\", \"\\uc624\", \"\\ubd84\", \"\\uc911\", \"\\uc218\", \"\\ub290\\ub07c\", \"\\uc8fc\\ubb38\", \"\\ub4dc\\ub9ac\", \"\\uc8fc\", \"\\uc81c\\ud488\", \"\\ube60\\ub974\", \"\\ubc30\\uc1a1\", \"\\uad6c\\uc785\", \"\\uac10\\uc0ac\", \"\\uc788\", \"\\uc5c6\", \"\\uc0dd\\uac01\", \"\\ud558\", \"\\ucd94\\ucc9c\", \"\\ucc29\\uc6a9\", \"\\uc774\", \"\\ub54c\", \"\\uc7a1\", \"\\uc8fc\", \"\\uc774\", \"\\uc88b\", \"\\uc54c\", \"\\ub2e4\\ub9ac\", \"\\uc555\\ubc15\", \"\\ubb34\\ub98e\\ubcf4\\ud638\\ub300\", \"\\ud6a8\\uacfc\", \"\\ud788\", \"\\ub4f1\\uc0b0\", \"\\ub2ec\", \"\\ubaa8\\ub974\", \"\\ub4e4\", \"\\uadf8\\ub807\", \"\\uc624\", \"\\ubd84\", \"\\uc911\", \"\\uc218\", \"\\ub290\\ub07c\", \"\\uc8fc\\ubb38\", \"\\ub4dc\\ub9ac\", \"\\ubd80\\ubd84\", \"\\ubc88\", \"\\ub4ef\", \"\\uad1c\\ucc2e\", \"\\ub370\", \"\\ud3b8\\ud558\", \"\\ubc1b\", \"\\uc81c\\ud488\", \"\\uac10\\uc0ac\", \"\\uad6c\\uc785\", \"\\ubc30\\uc1a1\", \"\\ubcf4\", \"\\uc5c6\", \"\\ube60\\ub974\", \"\\uc0ac\\uc6a9\", \"\\uc788\", \"\\uc120\\ubb3c\", \"\\ud558\", \"\\ucd94\\ucc9c\", \"\\ucc29\\uc6a9\", \"\\uc6b4\\ub3d9\", \"\\uc0ac\\uc774\\uc988\", \"\\uc0ac\", \"\\ubb34\\ub98e\", \"\\ub2e4\\ub9ac\", \"\\ubaa8\\ub974\", \"\\ub4ef\", \"\\ubd88\\ud3b8\", \"\\uc4f0\", \"\\ube60\\ub974\", \"\\uac83\", \"\\ub54c\", \"\\uc544\\ud504\", \"\\ub290\\ub08c\", \"\\ucc29\\uc6a9\", \"\\uad6c\\ub9e4\", \"\\ubc30\\uc1a1\", \"\\uac19\", \"\\ubcf4\", \"\\ud558\", \"\\uc88b\", \"\\ubb34\\ub98e\", \"\\uc7a1\", \"\\uc8fc\", \"\\uc774\", \"\\uc54c\", \"\\uc555\\ubc15\", \"\\ubb34\\ub98e\\ubcf4\\ud638\\ub300\", \"\\ud6a8\\uacfc\", \"\\ud788\", \"\\ub4f1\\uc0b0\", \"\\ub2ec\", \"\\ub4e4\", \"\\uadf8\\ub807\", \"\\uad6c\\uc785\", \"\\uc0dd\\uac01\", \"\\uac10\\uc0ac\", \"\\uc81c\\ud488\", \"\\uc788\", \"\\uc5c6\", \"\\uc218\", \"\\ud6a8\\uacfc\", \"\\uac10\", \"\\uc9f1\\uc9f1\", \"\\uac19\", \"\\uac83\", \"\\uc5c6\", \"\\uc7a1\", \"\\ub290\\ub08c\", \"\\uc88b\", \"\\ucc29\\uc6a9\", \"\\uc8fc\", \"\\uc788\", \"\\ubb34\\ub98e\", \"\\uc774\", \"\\ud558\", \"\\uc54c\", \"\\ub2e4\\ub9ac\", \"\\uc555\\ubc15\", \"\\ubb34\\ub98e\\ubcf4\\ud638\\ub300\", \"\\ud788\", \"\\ub4f1\\uc0b0\", \"\\ub2ec\", \"\\ubaa8\\ub974\", \"\\ub4e4\", \"\\uadf8\\ub807\", \"\\uc624\", \"\\ubd84\", \"\\uc911\", \"\\uc218\", \"\\ub290\\ub07c\", \"\\ube60\\ub974\", \"\\uac10\\uc0ac\", \"\\uc0ac\\uc6a9\", \"\\ubcf4\", \"\\ubc30\\uc1a1\", \"\\uad6c\\uc785\", \"\\uc0dd\\uac01\", \"\\uc81c\\ud488\", \"\\ub54c\", \"\\ubc88\", \"\\ube60\\ub974\", \"\\ubc30\\uc1a1\", \"\\uc774\", \"\\uc7a1\", \"\\uc8fc\", \"\\uc54c\", \"\\ub2e4\\ub9ac\", \"\\uc555\\ubc15\", \"\\ubb34\\ub98e\\ubcf4\\ud638\\ub300\", \"\\ud6a8\\uacfc\", \"\\ud788\", \"\\ub4f1\\uc0b0\", \"\\ub2ec\", \"\\ubaa8\\ub974\", \"\\ub4e4\", \"\\uadf8\\ub807\", \"\\uc624\", \"\\ubd84\", \"\\uc911\", \"\\uc218\", \"\\ub290\\ub07c\", \"\\uc8fc\\ubb38\", \"\\ub4dc\\ub9ac\", \"\\ubd80\\ubd84\", \"\\ubc88\", \"\\ub4ef\", \"\\uad1c\\ucc2e\", \"\\ub370\", \"\\ud3b8\\ud558\", \"\\ubc1b\", \"\\uc788\", \"\\uc81c\\ud488\", \"\\uac10\\uc0ac\", \"\\uad6c\\uc785\", \"\\ubcf4\", \"\\uc0ac\\uc6a9\", \"\\uc5c6\", \"\\uc0dd\\uac01\", \"\\uc120\\ubb3c\", \"\\ud558\", \"\\ucd94\\ucc9c\", \"\\ucc29\\uc6a9\", \"\\uc88b\", \"\\uc6b4\\ub3d9\", \"\\uc0ac\\uc774\\uc988\", \"\\uc0ac\", \"\\ubb34\\ub98e\", \"\\ub290\\ub07c\", \"\\uc555\\ubc15\", \"\\ud6a8\\uacfc\", \"\\uc2dc\", \"\\uc8fc\\ubb38\", \"\\ubcf4\\ud638\\ub300\", \"\\ud3b8\\ud558\", \"\\ub418\", \"\\uc9c0\", \"\\ud6c4\", \"\\uc54c\", \"\\ub2e4\\ub9ac\", \"\\uac10\", \"\\uc0ac\\uc774\\uc988\", \"\\ubb34\\ub98e\\ubcf4\\ud638\\ub300\", \"\\ucc29\\uc6a9\", \"\\ud788\", \"\\ub4f1\\uc0b0\", \"\\ub2ec\", \"\\ubcf4\", \"\\ubaa8\\ub974\", \"\\ub4e4\", \"\\uadf8\\ub807\", \"\\uc624\", \"\\uc0ac\\uc6a9\", \"\\ubd84\", \"\\uc911\", \"\\uc218\", \"\\ub4dc\\ub9ac\", \"\\ubd80\\ubd84\", \"\\uc88b\", \"\\uc788\", \"\\uc774\", \"\\ud558\", \"\\ubb34\\ub98e\", \"\\uc81c\\ud488\", \"\\ube60\\ub974\", \"\\uac19\", \"\\ubc30\\uc1a1\", \"\\uad6c\\uc785\", \"\\uac10\\uc0ac\", \"\\uac83\", \"\\uc0ac\", \"\\uad6c\\ub9e4\", \"\\ub2ec\", \"\\ub54c\", \"\\ubb34\\ub98e\", \"\\uc88b\", \"\\uc8fc\", \"\\ubcf4\\ud638\\ub300\", \"\\uc7a1\", \"\\uc54a\", \"\\uc4f0\", \"\\uc81c\\ud488\", \"\\ubcf4\", \"\\uc788\", \"\\ud558\", \"\\uac10\\uc0ac\", \"\\uac19\", \"\\uac70\", \"\\uc54c\", \"\\ub2e4\\ub9ac\", \"\\uc555\\ubc15\", \"\\ubb34\\ub98e\\ubcf4\\ud638\\ub300\", \"\\ud6a8\\uacfc\", \"\\ud788\", \"\\ub4f1\\uc0b0\", \"\\ubaa8\\ub974\", \"\\ub4e4\", \"\\uadf8\\ub807\", \"\\uc624\", \"\\ubd84\", \"\\uc911\", \"\\ube60\\ub974\", \"\\ubc30\\uc1a1\", \"\\uad6c\\uc785\", \"\\uc0ac\\uc6a9\", \"\\uc5c6\", \"\\uc218\", \"\\ubc88\", \"\\ucd94\\ucc9c\", \"\\ud3b8\\ud558\", \"\\uc555\\ubc15\", \"\\uc2dc\", \"\\ud6a8\\uacfc\", \"\\uc218\", \"\\uc8fc\\ubb38\", \"\\ub290\\ub07c\", \"\\ud6c4\", \"\\ubcf4\\ud638\\ub300\", \"\\uc9c0\", \"\\uc0ac\\uc6a9\", \"\\ucc29\\uc6a9\", \"\\uc5c6\", \"\\ub418\", \"\\uac10\", \"\\uc0ac\\uc774\\uc988\", \"\\uc544\\ud504\", \"\\ubcf4\", \"\\uc788\", \"\\uc81c\\ud488\", \"\\ubb34\\ub98e\", \"\\uc88b\", \"\\ud558\", \"\\ub4dc\\ub9ac\", \"\\uc120\\ubb3c\", \"\\uc774\", \"\\uc7a1\", \"\\uc8fc\", \"\\uc54c\", \"\\ub2e4\\ub9ac\", \"\\uac83\", \"\\ub290\\ub08c\", \"\\uc555\\ubc15\", \"\\uc218\", \"\\ub290\\ub08c\", \"\\uc9f1\\uc9f1\", \"\\ub098\", \"\\uadf8\\ub807\", \"\\uc788\", \"\\uc54a\", \"\\uc4f0\", \"\\uc774\", \"\\uc81c\\ud488\", \"\\ud558\", \"\\uc6b4\\ub3d9\", \"\\uc0ac\\uc6a9\", \"\\uc88b\", \"\\uc8fc\", \"\\ubb34\\ub98e\", \"\\uc54c\", \"\\ub2e4\\ub9ac\", \"\\ubb34\\ub98e\\ubcf4\\ud638\\ub300\", \"\\ud6a8\\uacfc\", \"\\ud788\", \"\\ub4f1\\uc0b0\", \"\\ub2ec\", \"\\ubaa8\\ub974\", \"\\ub4e4\", \"\\uc624\", \"\\ubd84\", \"\\uc911\", \"\\ub290\\ub07c\", \"\\uad6c\\uc785\", \"\\uac10\\uc0ac\", \"\\ubcf4\", \"\\ubc30\\uc1a1\", \"\\ube60\\ub974\", \"\\ubc88\", \"\\uc5c6\", \"\\uc0dd\\uac01\", \"\\ub4dc\\ub9ac\", \"\\uc54c\", \"\\ub2e4\\ub9ac\", \"\\uc555\\ubc15\", \"\\ubb34\\ub98e\\ubcf4\\ud638\\ub300\", \"\\ud6a8\\uacfc\", \"\\ud788\", \"\\ub4f1\\uc0b0\", \"\\ub2ec\", \"\\ubaa8\\ub974\", \"\\ub4e4\", \"\\uadf8\\ub807\", \"\\uc624\", \"\\ubd84\", \"\\uc911\", \"\\uc218\", \"\\ub290\\ub07c\", \"\\uc8fc\\ubb38\", \"\\ub4dc\\ub9ac\", \"\\ubd80\\ubd84\", \"\\ubc88\", \"\\ub4ef\", \"\\uad1c\\ucc2e\", \"\\ub370\", \"\\ud3b8\\ud558\", \"\\ubc1b\", \"\\uc120\\ubb3c\", \"\\uc9f1\\uc9f1\", \"\\ubd88\\ud3b8\", \"\\ubcf4\\ud638\\ub300\", \"\\uad6c\\uc785\", \"\\ubcf4\", \"\\uc788\", \"\\uc81c\\ud488\", \"\\uac10\\uc0ac\", \"\\ubc30\\uc1a1\", \"\\ube60\\ub974\", \"\\uc0ac\\uc6a9\", \"\\uc8fc\", \"\\ub54c\", \"\\uc5c6\", \"\\uc0dd\\uac01\", \"\\uc0ac\\uc774\\uc988\", \"\\uac19\", \"\\uac83\", \"\\ubb34\\ub98e\", \"\\uc0ac\", \"\\uc6b4\\ub3d9\", \"\\uc774\", \"\\uc88b\", \"\\uad1c\\ucc2e\", \"\\ub2e4\\ub9ac\", \"\\ubd88\\ud3b8\", \"\\ub4f1\\uc0b0\", \"\\uc218\", \"\\ubd80\\ubd84\", \"\\ud3b8\\ud558\", \"\\uc9f1\\uc9f1\", \"\\uc544\\ud504\", \"\\uc788\", \"\\ud6c4\", \"\\uc6b4\\ub3d9\", \"\\uc7a1\", \"\\uad6c\\ub9e4\", \"\\ub290\\ub08c\", \"\\uac70\", \"\\uc8fc\", \"\\ub54c\", \"\\uc0ac\\uc6a9\", \"\\ud558\", \"\\ubb34\\ub98e\", \"\\uc774\", \"\\uc88b\", \"\\uc54c\", \"\\uc555\\ubc15\", \"\\ubb34\\ub98e\\ubcf4\\ud638\\ub300\", \"\\ud6a8\\uacfc\", \"\\ud788\", \"\\ub2ec\", \"\\ubaa8\\ub974\", \"\\ucc29\\uc6a9\", \"\\uadf8\\ub807\", \"\\uac19\", \"\\ubd84\", \"\\ubcf4\", \"\\uac83\", \"\\ubc30\\uc1a1\", \"\\ub4f1\\uc0b0\", \"\\uc218\", \"\\ubc88\", \"\\uc0dd\\uac01\", \"\\uc5c6\", \"\\uac10\", \"\\ucc29\\uc6a9\", \"\\uc774\", \"\\uc81c\\ud488\", \"\\uc788\", \"\\uc88b\", \"\\uad6c\\ub9e4\", \"\\ub54c\", \"\\uc6b4\\ub3d9\", \"\\uc7a1\", \"\\ubb34\\ub98e\", \"\\uc8fc\", \"\\uc54c\", \"\\ub2e4\\ub9ac\", \"\\uc555\\ubc15\", \"\\ubb34\\ub98e\\ubcf4\\ud638\\ub300\", \"\\ud6a8\\uacfc\", \"\\ud788\", \"\\ub2ec\", \"\\ubaa8\\ub974\", \"\\ub4e4\", \"\\uadf8\\ub807\", \"\\uc624\", \"\\ubd84\", \"\\uc911\", \"\\ub4dc\\ub9ac\", \"\\uc0ac\", \"\\ucd94\\ucc9c\", \"\\uc0ac\\uc6a9\", \"\\ube60\\ub974\", \"\\ud558\", \"\\ubcf4\", \"\\uc120\\ubb3c\", \"\\ubc30\\uc1a1\", \"\\uc911\", \"\\uc8fc\\ubb38\", \"\\ub4dc\\ub9ac\", \"\\ub370\", \"\\uc120\\ubb3c\", \"\\uc0ac\\uc6a9\", \"\\uc2dc\", \"\\ub290\\ub08c\", \"\\uad6c\\ub9e4\", \"\\ubc30\\uc1a1\", \"\\uac10\", \"\\uc0ac\\uc774\\uc988\", \"\\ube60\\ub974\", \"\\uc81c\\ud488\", \"\\ubcf4\", \"\\uc774\", \"\\uc88b\", \"\\uc7a1\", \"\\ucc29\\uc6a9\", \"\\uc788\", \"\\uc0dd\\uac01\", \"\\uad6c\\uc785\", \"\\uc8fc\", \"\\ub4e4\", \"\\ube44\\uc2f8\", \"\\uc54c\", \"\\ub2e4\\ub9ac\", \"\\uc555\\ubc15\", \"\\ubb34\\ub98e\\ubcf4\\ud638\\ub300\", \"\\ud6a8\\uacfc\", \"\\ud558\", \"\\uc5c6\", \"\\uac19\", \"\\uc0ac\", \"\\ubb34\\ub98e\", \"\\ubcf4\\ud638\\ub300\", \"\\uad1c\\ucc2e\", \"\\uc120\\ubb3c\", \"\\ud558\\ub098\", \"\\uc0ac\\uc6a9\", \"\\uad6c\\ub9e4\", \"\\uc54a\", \"\\uc0ac\", \"\\uc788\", \"\\uc81c\\ud488\", \"\\ubcf4\", \"\\ub54c\", \"\\ucc29\\uc6a9\", \"\\ud3b8\\ud558\", \"\\ubb34\\ub98e\", \"\\uc8fc\", \"\\uc54c\", \"\\ube60\\ub974\", \"\\ubc1b\", \"\\ubc30\\uc1a1\", \"\\uac83\", \"\\uac19\", \"\\uadf8\\ub807\", \"\\uc774\", \"\\uc88b\", \"\\ub418\", \"\\uc4f0\", \"\\ub290\\ub08c\", \"\\ub2e4\\ub9ac\", \"\\uc555\\ubc15\", \"\\ud558\", \"\\ubc88\", \"\\uc2dc\", \"\\uc555\\ubc15\", \"\\ub9cc\\uc871\", \"\\uac10\", \"\\ub290\\ub08c\", \"\\ubd88\\ud3b8\", \"\\uac10\\uc0ac\", \"\\ube44\\uc2f8\", \"\\uc6b4\\ub3d9\", \"\\uc7a1\", \"\\uc5c6\", \"\\ub54c\", \"\\uc0ac\\uc6a9\", \"\\uc8fc\", \"\\ub4f1\\uc0b0\", \"\\uc788\", \"\\ucc29\\uc6a9\", \"\\uc4f0\", \"\\uc88b\", \"\\ubcf4\", \"\\uadf8\\ub807\", \"\\ube60\\ub974\", \"\\ubc30\\uc1a1\", \"\\ubb34\\ub98e\", \"\\ubaa8\\ub974\", \"\\uc774\", \"\\ubc1b\", \"\\ub290\\ub07c\", \"\\ub098\", \"\\uc120\\ubb3c\", \"\\ud6c4\", \"\\ub418\", \"\\uac70\", \"\\uc54c\", \"\\ub2e4\\ub9ac\", \"\\uc555\\ubc15\", \"\\ubb34\\ub98e\\ubcf4\\ud638\\ub300\", \"\\ud6a8\\uacfc\", \"\\ud788\", \"\\ub4f1\\uc0b0\", \"\\ub2ec\", \"\\ubaa8\\ub974\", \"\\ub4e4\", \"\\uadf8\\ub807\", \"\\uc624\", \"\\ubd84\", \"\\uc911\", \"\\uc218\", \"\\ub290\\ub07c\", \"\\uc8fc\\ubb38\", \"\\ub4dc\\ub9ac\", \"\\ubd80\\ubd84\", \"\\ubc88\", \"\\ub4ef\", \"\\uad1c\\ucc2e\", \"\\ub370\", \"\\ud3b8\\ud558\", \"\\ubc1b\", \"\\uc120\\ubb3c\", \"\\uc9f1\\uc9f1\", \"\\ubd88\\ud3b8\", \"\\ubcf4\\ud638\\ub300\", \"\\uad6c\\uc785\", \"\\ubcf4\", \"\\uc788\", \"\\uc81c\\ud488\", \"\\uac10\\uc0ac\", \"\\ubc30\\uc1a1\", \"\\ube60\\ub974\", \"\\uc0ac\\uc6a9\", \"\\uc8fc\", \"\\ub54c\", \"\\uc5c6\", \"\\uc0dd\\uac01\", \"\\uc0ac\\uc774\\uc988\", \"\\uac19\", \"\\uac83\", \"\\ubb34\\ub98e\", \"\\uc0ac\", \"\\uc6b4\\ub3d9\", \"\\uc774\", \"\\uc88b\", \"\\uc5c6\", \"\\uc2dc\", \"\\ubc30\\uc1a1\", \"\\ube60\\ub974\", \"\\uc6b4\\ub3d9\", \"\\ub54c\", \"\\uc544\\ud504\", \"\\uad6c\\ub9e4\", \"\\ubcf4\", \"\\ubb34\\ub98e\", \"\\ud558\", \"\\uc88b\", \"\\uc7a1\", \"\\uc8fc\", \"\\uc54c\", \"\\ub2e4\\ub9ac\", \"\\uc555\\ubc15\", \"\\ubb34\\ub98e\\ubcf4\\ud638\\ub300\", \"\\ud6a8\\uacfc\", \"\\ud788\", \"\\ub4f1\\uc0b0\", \"\\ub2ec\", \"\\ubaa8\\ub974\", \"\\ub4e4\", \"\\uadf8\\ub807\", \"\\uc624\", \"\\ubd84\", \"\\uc911\", \"\\uc218\", \"\\ub290\\ub07c\", \"\\uc81c\\ud488\", \"\\uc0ac\\uc6a9\", \"\\uad6c\\uc785\", \"\\uac10\\uc0ac\", \"\\uc788\", \"\\uc0dd\\uac01\", \"\\ubc88\", \"\\ucd94\\ucc9c\", \"\\ucc29\\uc6a9\", \"\\uc774\", \"\\uc0ac\\uc774\\uc988\", \"\\uac83\", \"\\uac19\", \"\\uc7a1\", \"\\uc774\", \"\\uc54c\", \"\\ub2e4\\ub9ac\", \"\\uc555\\ubc15\", \"\\ubb34\\ub98e\\ubcf4\\ud638\\ub300\", \"\\uc8fc\", \"\\ud6a8\\uacfc\", \"\\ud788\", \"\\ub4f1\\uc0b0\", \"\\ub2ec\", \"\\ubaa8\\ub974\", \"\\ub4e4\", \"\\uadf8\\ub807\", \"\\uc624\", \"\\ubd84\", \"\\uc911\", \"\\uc218\", \"\\ub290\\ub07c\", \"\\uc8fc\\ubb38\", \"\\ub4dc\\ub9ac\", \"\\ubd80\\ubd84\", \"\\ubc88\", \"\\ub4ef\", \"\\uad1c\\ucc2e\", \"\\ub370\", \"\\ud3b8\\ud558\", \"\\ubc1b\", \"\\ubcf4\", \"\\uc81c\\ud488\", \"\\uac10\\uc0ac\", \"\\uad6c\\uc785\", \"\\ubc30\\uc1a1\", \"\\ube60\\ub974\", \"\\uc5c6\", \"\\uc0ac\\uc6a9\", \"\\uc788\", \"\\uc0dd\\uac01\", \"\\uc120\\ubb3c\", \"\\ud558\", \"\\ucd94\\ucc9c\", \"\\ucc29\\uc6a9\", \"\\uc88b\", \"\\uc6b4\\ub3d9\", \"\\uc0ac\\uc774\\uc988\", \"\\uc54c\", \"\\ub2e4\\ub9ac\", \"\\uc555\\ubc15\", \"\\ubb34\\ub98e\\ubcf4\\ud638\\ub300\", \"\\ud6a8\\uacfc\", \"\\ud788\", \"\\ub4f1\\uc0b0\", \"\\ub2ec\", \"\\ubaa8\\ub974\", \"\\ub4e4\", \"\\uadf8\\ub807\", \"\\uc624\", \"\\ubd84\", \"\\uc911\", \"\\uc218\", \"\\ub290\\ub07c\", \"\\uc8fc\\ubb38\", \"\\ub4dc\\ub9ac\", \"\\ubd80\\ubd84\", \"\\ubc88\", \"\\ub4ef\", \"\\uad1c\\ucc2e\", \"\\ub370\", \"\\ud3b8\\ud558\", \"\\ubc1b\", \"\\uc120\\ubb3c\", \"\\uc9f1\\uc9f1\", \"\\ubd88\\ud3b8\", \"\\ubcf4\\ud638\\ub300\", \"\\uad6c\\uc785\", \"\\ubcf4\", \"\\uc788\", \"\\uc81c\\ud488\", \"\\uac10\\uc0ac\", \"\\ubc30\\uc1a1\", \"\\ube60\\ub974\", \"\\uc0ac\\uc6a9\", \"\\uc8fc\", \"\\ub54c\", \"\\uc5c6\", \"\\uc0dd\\uac01\", \"\\uc0ac\\uc774\\uc988\", \"\\uac19\", \"\\uac83\", \"\\ubb34\\ub98e\", \"\\uc0ac\", \"\\uc6b4\\ub3d9\", \"\\uc774\", \"\\uc88b\", \"\\ubc1b\", \"\\uc81c\\ud488\", \"\\ubd80\\ubd84\", \"\\ubc88\", \"\\ub290\\ub08c\", \"\\uc5c6\", \"\\ud6a8\\uacfc\", \"\\uac10\\uc0ac\", \"\\ub098\", \"\\uc9c0\", \"\\ubaa8\\ub974\", \"\\ub2e4\\ub9ac\", \"\\uc0ac\\uc6a9\", \"\\uc774\", \"\\ud3b8\\ud558\", \"\\ud6c4\", \"\\ub4ef\", \"\\ud558\", \"\\ubcf4\", \"\\ub2ec\", \"\\ub4dc\\ub9ac\", \"\\ub54c\", \"\\ucc29\\uc6a9\", \"\\uad6c\\ub9e4\", \"\\ub9cc\\uc871\", \"\\uac70\", \"\\uc0ac\\uc774\\uc988\", \"\\ubb34\\ub98e\\ubcf4\\ud638\\ub300\", \"\\uc911\", \"\\uc788\", \"\\ubc30\\uc1a1\", \"\\uc88b\", \"\\uc8fc\", \"\\ubb34\\ub98e\", \"\\ubcf4\", \"\\ucd94\\ucc9c\", \"\\uac10\", \"\\ucc29\\uc6a9\", \"\\uac70\", \"\\uac19\", \"\\uc0ac\\uc6a9\", \"\\uc6b4\\ub3d9\", \"\\uc774\", \"\\ud558\", \"\\uc88b\", \"\\uc54c\", \"\\ub2e4\\ub9ac\", \"\\uc555\\ubc15\", \"\\ubb34\\ub98e\\ubcf4\\ud638\\ub300\", \"\\ud6a8\\uacfc\", \"\\ud788\", \"\\ub4f1\\uc0b0\", \"\\ub2ec\", \"\\ubaa8\\ub974\", \"\\ub4e4\", \"\\uadf8\\ub807\", \"\\uc624\", \"\\ubd84\", \"\\uc911\", \"\\uc218\", \"\\ub290\\ub07c\", \"\\uc8fc\\ubb38\", \"\\ub4dc\\ub9ac\", \"\\ubd80\\ubd84\", \"\\ube60\\ub974\", \"\\uc81c\\ud488\", \"\\uc8fc\", \"\\ubc30\\uc1a1\", \"\\uad6c\\uc785\", \"\\uac10\\uc0ac\", \"\\uc0dd\\uac01\", \"\\uc788\", \"\\uc5c6\", \"\\uc120\\ubb3c\", \"\\ubc88\", \"\\uc0ac\\uc774\\uc988\", \"\\uc0ac\", \"\\ub4ef\", \"\\uc9f1\\uc9f1\", \"\\ub418\", \"\\uac83\", \"\\uc0dd\\uac01\", \"\\ubcf4\", \"\\ud558\", \"\\uc8fc\", \"\\ub54c\", \"\\uc7a1\", \"\\ucc29\\uc6a9\", \"\\uc88b\", \"\\uc54c\", \"\\ub2e4\\ub9ac\", \"\\uc555\\ubc15\", \"\\ubb34\\ub98e\\ubcf4\\ud638\\ub300\", \"\\ud6a8\\uacfc\", \"\\ud788\", \"\\ub4f1\\uc0b0\", \"\\ub2ec\", \"\\ubaa8\\ub974\", \"\\ub4e4\", \"\\uadf8\\ub807\", \"\\uc624\", \"\\ubd84\", \"\\uc911\", \"\\uc218\", \"\\ub290\\ub07c\", \"\\uc8fc\\ubb38\", \"\\ub4dc\\ub9ac\", \"\\uc81c\\ud488\", \"\\ubc30\\uc1a1\", \"\\ube60\\ub974\", \"\\uc0ac\\uc6a9\", \"\\uad6c\\uc785\", \"\\uac10\\uc0ac\", \"\\uc788\", \"\\uc5c6\", \"\\ubc88\", \"\\ucd94\\ucc9c\", \"\\uc774\", \"\\uc6b4\\ub3d9\", \"\\uc0dd\\uac01\", \"\\ubcf4\\ud638\\ub300\", \"\\uad6c\\uc785\", \"\\ub4e4\", \"\\ub9cc\\uc871\", \"\\uac10\", \"\\ucc29\\uc6a9\", \"\\ube44\\uc2f8\", \"\\uc774\", \"\\ubcf4\", \"\\ubb34\\ub98e\", \"\\ud558\", \"\\uc54c\", \"\\ub2e4\\ub9ac\", \"\\uc555\\ubc15\", \"\\ubb34\\ub98e\\ubcf4\\ud638\\ub300\", \"\\ud6a8\\uacfc\", \"\\ud788\", \"\\ub4f1\\uc0b0\", \"\\ub2ec\", \"\\ubaa8\\ub974\", \"\\uadf8\\ub807\", \"\\uc624\", \"\\ubd84\", \"\\uc911\", \"\\uc218\", \"\\ub290\\ub07c\", \"\\uc8fc\\ubb38\", \"\\ub4dc\\ub9ac\", \"\\ubd80\\ubd84\", \"\\ube60\\ub974\", \"\\uc81c\\ud488\", \"\\uc8fc\", \"\\uac10\\uc0ac\", \"\\uc0ac\\uc6a9\", \"\\uc5c6\", \"\\ubc30\\uc1a1\", \"\\uc788\", \"\\ubc88\", \"\\ub54c\", \"\\ucd94\\ucc9c\", \"\\uc88b\", \"\\uc6b4\\ub3d9\", \"\\ube44\\uc2f8\", \"\\uc218\", \"\\uc54a\", \"\\uc774\", \"\\uc88b\", \"\\uc788\", \"\\ud558\", \"\\uac83\", \"\\uc54c\", \"\\ub2e4\\ub9ac\", \"\\uc555\\ubc15\", \"\\ubb34\\ub98e\\ubcf4\\ud638\\ub300\", \"\\ud6a8\\uacfc\", \"\\ud788\", \"\\ub4f1\\uc0b0\", \"\\ub2ec\", \"\\ubaa8\\ub974\", \"\\ub4e4\", \"\\uadf8\\ub807\", \"\\uc624\", \"\\ubd84\", \"\\uc911\", \"\\ub290\\ub07c\", \"\\uc8fc\\ubb38\", \"\\ub4dc\\ub9ac\", \"\\ubd80\\ubd84\", \"\\ubc88\", \"\\ub4ef\", \"\\uad1c\\ucc2e\", \"\\ub370\", \"\\ubc30\\uc1a1\", \"\\uac10\\uc0ac\", \"\\uad6c\\uc785\", \"\\ubcf4\", \"\\ube60\\ub974\", \"\\uc0ac\\uc6a9\", \"\\uc8fc\", \"\\uc81c\\ud488\", \"\\uc0dd\\uac01\", \"\\uc5c6\", \"\\uc120\\ubb3c\", \"\\ucd94\\ucc9c\", \"\\ucc29\\uc6a9\", \"\\uc6b4\\ub3d9\", \"\\uc0ac\\uc774\\uc988\", \"\\uc9c0\", \"\\ubd80\\ubd84\", \"\\ub2e4\\ub9ac\", \"\\ud3b8\\ud558\", \"\\ubd88\\ud3b8\", \"\\uc54c\", \"\\uad6c\\uc785\", \"\\ud558\\ub098\", \"\\uc0ac\\uc774\\uc988\", \"\\uc0dd\\uac01\", \"\\ub2ec\", \"\\ud6a8\\uacfc\", \"\\uac83\", \"\\ub4dc\\ub9ac\", \"\\uc5c6\", \"\\uadf8\\ub807\", \"\\uc218\", \"\\uc8fc\\ubb38\", \"\\ub290\\ub07c\", \"\\uc54a\", \"\\uad1c\\ucc2e\", \"\\ud558\", \"\\ub098\", \"\\uc788\", \"\\ucd94\\ucc9c\", \"\\uc0ac\\uc6a9\", \"\\uac19\", \"\\uc81c\\ud488\", \"\\uac70\", \"\\uac10\", \"\\ubb34\\ub98e\", \"\\ucc29\\uc6a9\", \"\\uc7a1\", \"\\uad6c\\ub9e4\", \"\\uc8fc\", \"\\uc774\", \"\\ubcf4\", \"\\ub54c\", \"\\uc544\\ud504\", \"\\uc54c\", \"\\ub2e4\\ub9ac\", \"\\uc555\\ubc15\", \"\\ubb34\\ub98e\\ubcf4\\ud638\\ub300\", \"\\ud6a8\\uacfc\", \"\\ud788\", \"\\ub4f1\\uc0b0\", \"\\ub2ec\", \"\\ubaa8\\ub974\", \"\\ub4e4\", \"\\uadf8\\ub807\", \"\\uc624\", \"\\ubd84\", \"\\uc911\", \"\\uc218\", \"\\ub290\\ub07c\", \"\\uc8fc\\ubb38\", \"\\ub4dc\\ub9ac\", \"\\ubd80\\ubd84\", \"\\ubc88\", \"\\ub4ef\", \"\\uad1c\\ucc2e\", \"\\ub370\", \"\\ud3b8\\ud558\", \"\\ubc1b\", \"\\uc120\\ubb3c\", \"\\uc9f1\\uc9f1\", \"\\ubd88\\ud3b8\", \"\\ubcf4\\ud638\\ub300\", \"\\uad6c\\uc785\", \"\\ubcf4\", \"\\uc788\", \"\\uc81c\\ud488\", \"\\uac10\\uc0ac\", \"\\ubc30\\uc1a1\", \"\\ube60\\ub974\", \"\\uc0ac\\uc6a9\", \"\\uc8fc\", \"\\ub54c\", \"\\uc5c6\", \"\\uc0dd\\uac01\", \"\\uc0ac\\uc774\\uc988\", \"\\uac19\", \"\\uac83\", \"\\ubb34\\ub98e\", \"\\uc0ac\", \"\\uc6b4\\ub3d9\", \"\\uc774\", \"\\uc88b\", \"\\ub4ef\", \"\\uc0dd\\uac01\", \"\\ud3b8\\ud558\", \"\\ucc29\\uc6a9\", \"\\uc7a1\", \"\\uc8fc\", \"\\ub54c\", \"\\ud558\", \"\\uc88b\", \"\\uc54c\", \"\\ub2e4\\ub9ac\", \"\\uc555\\ubc15\", \"\\ubb34\\ub98e\\ubcf4\\ud638\\ub300\", \"\\ud6a8\\uacfc\", \"\\ud788\", \"\\ub4f1\\uc0b0\", \"\\ub2ec\", \"\\ubaa8\\ub974\", \"\\ub4e4\", \"\\uadf8\\ub807\", \"\\uc624\", \"\\ubd84\", \"\\uc911\", \"\\uc218\", \"\\ub290\\ub07c\", \"\\uc8fc\\ubb38\", \"\\ub4dc\\ub9ac\", \"\\ubd80\\ubd84\", \"\\ubc88\", \"\\uad1c\\ucc2e\", \"\\uad6c\\uc785\", \"\\ubc30\\uc1a1\", \"\\ubcf4\", \"\\uc81c\\ud488\", \"\\ube60\\ub974\", \"\\uc0ac\\uc6a9\", \"\\uac10\\uc0ac\", \"\\uc788\", \"\\uc5c6\", \"\\uc120\\ubb3c\", \"\\ucd94\\ucc9c\", \"\\uc774\", \"\\uc6b4\\ub3d9\", \"\\uc0ac\\uc774\\uc988\", \"\\ud788\", \"\\ub370\", \"\\ub418\", \"\\ubb34\\ub98e\\ubcf4\\ud638\\ub300\", \"\\ubd84\", \"\\uc911\", \"\\uc8fc\\ubb38\", \"\\ub4dc\\ub9ac\", \"\\uc5c6\", \"\\uad6c\\uc785\", \"\\uc0ac\\uc774\\uc988\", \"\\ubd88\\ud3b8\", \"\\uac10\\uc0ac\", \"\\ubcf4\", \"\\ube60\\ub974\", \"\\ucd94\\ucc9c\", \"\\ud558\", \"\\ucc29\\uc6a9\", \"\\ubc30\\uc1a1\", \"\\uc788\", \"\\uc8fc\", \"\\uc6b4\\ub3d9\", \"\\uc88b\", \"\\uad6c\\ub9e4\", \"\\uc81c\\ud488\", \"\\uac83\", \"\\uc0ac\\uc6a9\", \"\\ud1b5\\uc99d\", \"\\ub9cc\\uc871\", \"\\uad1c\\ucc2e\", \"\\ubb34\\ub98e\", \"\\ub290\\ub08c\", \"\\uc54c\", \"\\ub2e4\\ub9ac\", \"\\uc555\\ubc15\", \"\\ubb34\\ub98e\\ubcf4\\ud638\\ub300\", \"\\ud6a8\\uacfc\", \"\\ud788\", \"\\ub4f1\\uc0b0\", \"\\ub2ec\", \"\\ubaa8\\ub974\", \"\\ub4e4\", \"\\uadf8\\ub807\", \"\\uc624\", \"\\ubd84\", \"\\uc911\", \"\\uc218\", \"\\ub290\\ub07c\", \"\\uc8fc\\ubb38\", \"\\ub4dc\\ub9ac\", \"\\ubd80\\ubd84\", \"\\ubc88\", \"\\ub4ef\", \"\\uad1c\\ucc2e\", \"\\ub370\", \"\\ud3b8\\ud558\", \"\\ubc1b\", \"\\uc120\\ubb3c\", \"\\uc9f1\\uc9f1\", \"\\ubd88\\ud3b8\", \"\\ubcf4\\ud638\\ub300\", \"\\uad6c\\uc785\", \"\\ubcf4\", \"\\uc788\", \"\\uc81c\\ud488\", \"\\uac10\\uc0ac\", \"\\ubc30\\uc1a1\", \"\\ube60\\ub974\", \"\\uc0ac\\uc6a9\", \"\\uc8fc\", \"\\ub54c\", \"\\uc5c6\", \"\\uc0dd\\uac01\", \"\\uc0ac\\uc774\\uc988\", \"\\uac19\", \"\\uac83\", \"\\ubb34\\ub98e\", \"\\uc0ac\", \"\\uc6b4\\ub3d9\", \"\\uc774\", \"\\uc88b\", \"\\uc911\", \"\\uac00\\uaca9\", \"\\uc0ac\", \"\\uc4f0\", \"\\ubb34\\ub98e\\ubcf4\\ud638\\ub300\", \"\\uad6c\\uc785\", \"\\ud558\\ub098\", \"\\uc88b\", \"\\ud1b5\\uc99d\", \"\\ube44\\uc2f8\", \"\\uac83\", \"\\uad6c\\ub9e4\", \"\\uac70\", \"\\uc788\", \"\\uc774\", \"\\uc0ac\\uc6a9\", \"\\ubcf4\", \"\\ud558\", \"\\ubb34\\ub98e\", \"\\uc54c\", \"\\ub2e4\\ub9ac\", \"\\uc555\\ubc15\", \"\\ud6a8\\uacfc\", \"\\ud788\", \"\\ub4f1\\uc0b0\", \"\\ub2ec\", \"\\ubaa8\\ub974\", \"\\ub4e4\", \"\\uadf8\\ub807\", \"\\uc624\", \"\\uac10\\uc0ac\", \"\\ubc30\\uc1a1\", \"\\ubd84\", \"\\ube60\\ub974\", \"\\uc0dd\\uac01\", \"\\uc81c\\ud488\", \"\\uc5c6\", \"\\uc218\", \"\\ubc88\", \"\\ud788\", \"\\ubc88\", \"\\uc6b4\\ub3d9\", \"\\uc81c\\ud488\", \"\\ub54c\", \"\\ud558\", \"\\ubb34\\ub98e\", \"\\uc54c\", \"\\ub2e4\\ub9ac\", \"\\uc555\\ubc15\", \"\\ubb34\\ub98e\\ubcf4\\ud638\\ub300\", \"\\ud6a8\\uacfc\", \"\\ub4f1\\uc0b0\", \"\\ub2ec\", \"\\ubaa8\\ub974\", \"\\ub4e4\", \"\\uadf8\\ub807\", \"\\uc624\", \"\\ubd84\", \"\\uc911\", \"\\uc218\", \"\\ub290\\ub07c\", \"\\uc8fc\\ubb38\", \"\\ub4dc\\ub9ac\", \"\\ubd80\\ubd84\", \"\\ub4ef\", \"\\uad1c\\ucc2e\", \"\\ub370\", \"\\ud3b8\\ud558\", \"\\ubc1b\", \"\\uc788\", \"\\uc8fc\", \"\\uc0ac\\uc6a9\", \"\\ube60\\ub974\", \"\\ubcf4\", \"\\ubc30\\uc1a1\", \"\\uad6c\\uc785\", \"\\uac10\\uc0ac\", \"\\uac19\", \"\\uc5c6\", \"\\uc0dd\\uac01\", \"\\uc120\\ubb3c\", \"\\uac83\", \"\\ucd94\\ucc9c\", \"\\ucc29\\uc6a9\", \"\\uc88b\", \"\\ub290\\ub07c\", \"\\ud6c4\", \"\\uc5c6\", \"\\uac83\", \"\\uc81c\\ud488\", \"\\uc6b4\\ub3d9\", \"\\ub54c\", \"\\ucc29\\uc6a9\", \"\\ubb34\\ub98e\", \"\\uc54c\", \"\\ub2e4\\ub9ac\", \"\\uc555\\ubc15\", \"\\ubb34\\ub98e\\ubcf4\\ud638\\ub300\", \"\\ud6a8\\uacfc\", \"\\ud788\", \"\\ub4f1\\uc0b0\", \"\\ub2ec\", \"\\ubaa8\\ub974\", \"\\ub4e4\", \"\\uadf8\\ub807\", \"\\uc624\", \"\\ubd84\", \"\\uc911\", \"\\uc218\", \"\\uc8fc\\ubb38\", \"\\ub4dc\\ub9ac\", \"\\ubd80\\ubd84\", \"\\ubc88\", \"\\ub4ef\", \"\\uad1c\\ucc2e\", \"\\uc8fc\", \"\\uc0ac\\uc6a9\", \"\\ube60\\ub974\", \"\\ubcf4\", \"\\ubc30\\uc1a1\", \"\\uad6c\\uc785\", \"\\uac10\\uc0ac\", \"\\uc788\", \"\\uc0dd\\uac01\", \"\\uc120\\ubb3c\", \"\\ud558\", \"\\ucd94\\ucc9c\", \"\\uc88b\", \"\\uc774\", \"\\uc0ac\", \"\\uc4f0\", \"\\uc81c\\ud488\", \"\\ubcf4\", \"\\ud558\\ub098\", \"\\ub418\", \"\\uc774\", \"\\uc88b\", \"\\ud558\", \"\\uc54c\", \"\\ub2e4\\ub9ac\", \"\\uc555\\ubc15\", \"\\ubb34\\ub98e\\ubcf4\\ud638\\ub300\", \"\\ud6a8\\uacfc\", \"\\ud788\", \"\\ub4f1\\uc0b0\", \"\\ub2ec\", \"\\ubaa8\\ub974\", \"\\ub4e4\", \"\\uadf8\\ub807\", \"\\uc624\", \"\\ubd84\", \"\\uc911\", \"\\uc218\", \"\\ub290\\ub07c\", \"\\uc8fc\\ubb38\", \"\\ub4dc\\ub9ac\", \"\\ubd80\\ubd84\", \"\\ubc88\", \"\\ub4ef\", \"\\uac10\\uc0ac\", \"\\uad6c\\uc785\", \"\\ubc30\\uc1a1\", \"\\ube60\\ub974\", \"\\uc0ac\\uc6a9\", \"\\uc8fc\", \"\\uc788\", \"\\uc0dd\\uac01\", \"\\uc5c6\", \"\\ub54c\", \"\\ucd94\\ucc9c\", \"\\ucc29\\uc6a9\", \"\\uc6b4\\ub3d9\", \"\\uc0ac\\uc774\\uc988\", \"\\ub4e4\", \"\\uc7a1\", \"\\uc9f1\\uc9f1\", \"\\uc8fc\", \"\\ubb34\\ub98e\", \"\\uc6b4\\ub3d9\", \"\\ube60\\ub974\", \"\\ub290\\ub08c\", \"\\uc774\", \"\\uad6c\\ub9e4\", \"\\ubc30\\uc1a1\", \"\\ub54c\", \"\\ubcf4\", \"\\uc54c\", \"\\ub2e4\\ub9ac\", \"\\uc555\\ubc15\", \"\\ubb34\\ub98e\\ubcf4\\ud638\\ub300\", \"\\ud6a8\\uacfc\", \"\\ud788\", \"\\ub4f1\\uc0b0\", \"\\ub2ec\", \"\\ubaa8\\ub974\", \"\\uadf8\\ub807\", \"\\uc624\", \"\\ubd84\", \"\\uc911\", \"\\uc218\", \"\\ub290\\ub07c\", \"\\uc8fc\\ubb38\", \"\\ub4dc\\ub9ac\", \"\\uc788\", \"\\uc0ac\\uc6a9\", \"\\uad6c\\uc785\", \"\\uac10\\uc0ac\", \"\\uc81c\\ud488\", \"\\uc5c6\", \"\\ubc88\", \"\\ud558\", \"\\ucd94\\ucc9c\", \"\\ucc29\\uc6a9\", \"\\uad1c\\ucc2e\", \"\\ub2ec\", \"\\uc4f0\", \"\\uc120\\ubb3c\", \"\\uac19\", \"\\ub290\\ub08c\", \"\\uc624\", \"\\uc8fc\", \"\\uac70\", \"\\uc81c\\ud488\", \"\\uc5c6\", \"\\uc54a\", \"\\ubcf4\", \"\\uc788\", \"\\uc7a1\", \"\\uac83\", \"\\uc9c0\", \"\\ud1b5\\uc99d\", \"\\uc774\", \"\\ud558\\ub098\", \"\\ubc30\\uc1a1\", \"\\ubb34\\ub98e\", \"\\ud558\", \"\\ub54c\", \"\\ucc29\\uc6a9\", \"\\uc88b\", \"\\uc0ac\", \"\\uad6c\\ub9e4\", \"\\uc54c\", \"\\ub2e4\\ub9ac\", \"\\uad6c\\uc785\", \"\\ubb34\\ub98e\\ubcf4\\ud638\\ub300\", \"\\uc4f0\", \"\\uc911\", \"\\ubcf4\\ud638\\ub300\", \"\\ubb34\\ub98e\\ubcf4\\ud638\\ub300\", \"\\uc8fc\\ubb38\", \"\\ub4dc\\ub9ac\", \"\\ub9cc\\uc871\", \"\\ubd88\\ud3b8\", \"\\uac10\\uc0ac\", \"\\ud1b5\\uc99d\", \"\\ubcf4\", \"\\uc54a\", \"\\uc0ac\\uc774\\uc988\", \"\\uc788\", \"\\uc8fc\", \"\\ud558\", \"\\uac83\", \"\\ubb34\\ub98e\", \"\\uc7a1\", \"\\ucc29\\uc6a9\", \"\\ub370\", \"\\ub418\", \"\\uc6b4\\ub3d9\", \"\\uc54c\", \"\\ub2e4\\ub9ac\", \"\\uc555\\ubc15\", \"\\ud6a8\\uacfc\", \"\\ud788\", \"\\ub4f1\\uc0b0\", \"\\ub2ec\", \"\\ubc88\", \"\\uc0dd\\uac01\", \"\\uac19\", \"\\uadf8\\ub807\", \"\\ubd84\", \"\\ub4ef\", \"\\ubc30\\uc1a1\", \"\\uc624\", \"\\uc9f1\\uc9f1\", \"\\ubc30\\uc1a1\", \"\\ubcf4\", \"\\ud6c4\", \"\\ucc29\\uc6a9\", \"\\uc88b\", \"\\uc54c\", \"\\ub2e4\\ub9ac\", \"\\uc555\\ubc15\", \"\\ubb34\\ub98e\\ubcf4\\ud638\\ub300\", \"\\ud6a8\\uacfc\", \"\\ud788\", \"\\ub4f1\\uc0b0\", \"\\ub2ec\", \"\\ubaa8\\ub974\", \"\\ub4e4\", \"\\uadf8\\ub807\", \"\\ubd84\", \"\\uc911\", \"\\uc218\", \"\\ub290\\ub07c\", \"\\uc8fc\\ubb38\", \"\\ub4dc\\ub9ac\", \"\\ubd80\\ubd84\", \"\\ubc88\", \"\\ub4ef\", \"\\uad1c\\ucc2e\", \"\\ub370\", \"\\ud3b8\\ud558\", \"\\uc81c\\ud488\", \"\\uac10\\uc0ac\", \"\\uad6c\\uc785\", \"\\uc5c6\", \"\\ube60\\ub974\", \"\\uc0ac\\uc6a9\", \"\\uc8fc\", \"\\uc788\", \"\\uc0dd\\uac01\", \"\\ub54c\", \"\\ud558\", \"\\ucd94\\ucc9c\", \"\\uc774\", \"\\uc6b4\\ub3d9\", \"\\uc0ac\\uc774\\uc988\", \"\\uc0ac\", \"\\uac10\", \"\\uc7a1\", \"\\uc8fc\", \"\\ubb34\\ub98e\", \"\\ucc29\\uc6a9\", \"\\uc88b\", \"\\uc54c\", \"\\ub2e4\\ub9ac\", \"\\uc555\\ubc15\", \"\\ubb34\\ub98e\\ubcf4\\ud638\\ub300\", \"\\ud6a8\\uacfc\", \"\\ud788\", \"\\ub4f1\\uc0b0\", \"\\ub2ec\", \"\\ubaa8\\ub974\", \"\\ub4e4\", \"\\uadf8\\ub807\", \"\\uc624\", \"\\ubd84\", \"\\uc911\", \"\\uc218\", \"\\ub290\\ub07c\", \"\\uc8fc\\ubb38\", \"\\ub4dc\\ub9ac\", \"\\ubd80\\ubd84\", \"\\ubc88\", \"\\ub4ef\", \"\\uad1c\\ucc2e\", \"\\ub370\", \"\\ud3b8\\ud558\", \"\\uc81c\\ud488\", \"\\uac10\\uc0ac\", \"\\uad6c\\uc785\", \"\\ubc30\\uc1a1\", \"\\ubcf4\", \"\\uc5c6\", \"\\ube60\\ub974\", \"\\uc0ac\\uc6a9\", \"\\uc788\", \"\\uc0dd\\uac01\", \"\\uc120\\ubb3c\", \"\\ud558\", \"\\ucd94\\ucc9c\", \"\\uc774\", \"\\uc6b4\\ub3d9\", \"\\uc0ac\\uc774\\uc988\", \"\\uc0ac\", \"\\uc544\\ud504\", \"\\uad6c\\uc785\", \"\\ud558\\ub098\", \"\\ubb34\\ub98e\", \"\\uc0ac\", \"\\uc7a1\", \"\\ud558\", \"\\uc8fc\", \"\\uc54c\", \"\\ub2e4\\ub9ac\", \"\\uc555\\ubc15\", \"\\ubb34\\ub98e\\ubcf4\\ud638\\ub300\", \"\\ud6a8\\uacfc\", \"\\ud788\", \"\\ub4f1\\uc0b0\", \"\\ub2ec\", \"\\ubaa8\\ub974\", \"\\ub4e4\", \"\\uadf8\\ub807\", \"\\uc624\", \"\\ubd84\", \"\\uc911\", \"\\uc218\", \"\\ub290\\ub07c\", \"\\uc8fc\\ubb38\", \"\\ub4dc\\ub9ac\", \"\\ubd80\\ubd84\", \"\\ubc88\", \"\\ub4ef\", \"\\uad1c\\ucc2e\", \"\\uc0ac\\uc6a9\", \"\\uc788\", \"\\ube60\\ub974\", \"\\ubcf4\", \"\\ubc30\\uc1a1\", \"\\uac10\\uc0ac\", \"\\uc81c\\ud488\", \"\\uc5c6\", \"\\uc120\\ubb3c\", \"\\uc0dd\\uac01\", \"\\ucd94\\ucc9c\", \"\\ucc29\\uc6a9\", \"\\uc88b\", \"\\uc774\", \"\\uc6b4\\ub3d9\", \"\\uc0ac\\uc774\\uc988\", \"\\ud788\", \"\\ud6c4\", \"\\ub418\", \"\\ubc1b\", \"\\uc2dc\", \"\\ub098\", \"\\uc9c0\", \"\\uac70\", \"\\uad6c\\ub9e4\", \"\\ubc30\\uc1a1\", \"\\uac19\", \"\\ud558\", \"\\uc54c\", \"\\ub2e4\\ub9ac\", \"\\uc555\\ubc15\", \"\\ubb34\\ub98e\\ubcf4\\ud638\\ub300\", \"\\ud6a8\\uacfc\", \"\\ub4f1\\uc0b0\", \"\\ub2ec\", \"\\ubaa8\\ub974\", \"\\ub4e4\", \"\\uadf8\\ub807\", \"\\uc624\", \"\\ubd84\", \"\\uc911\", \"\\uc218\", \"\\ub290\\ub07c\", \"\\uc8fc\\ubb38\", \"\\ub4dc\\ub9ac\", \"\\ubcf4\", \"\\ube60\\ub974\", \"\\uad6c\\uc785\", \"\\uac10\\uc0ac\", \"\\uc81c\\ud488\", \"\\uc788\", \"\\uc5c6\", \"\\uc0dd\\uac01\", \"\\ubc88\", \"\\uc8fc\", \"\\ucd94\\ucc9c\", \"\\ucc29\\uc6a9\", \"\\uc54c\", \"\\ub2e4\\ub9ac\", \"\\uc555\\ubc15\", \"\\ubb34\\ub98e\\ubcf4\\ud638\\ub300\", \"\\ud6a8\\uacfc\", \"\\ud788\", \"\\ub4f1\\uc0b0\", \"\\ub2ec\", \"\\ubaa8\\ub974\", \"\\ub4e4\", \"\\uadf8\\ub807\", \"\\uc624\", \"\\ubd84\", \"\\uc911\", \"\\uc218\", \"\\ub290\\ub07c\", \"\\uc8fc\\ubb38\", \"\\ub4dc\\ub9ac\", \"\\ubd80\\ubd84\", \"\\ubc88\", \"\\ub4ef\", \"\\uad1c\\ucc2e\", \"\\ub370\", \"\\ud3b8\\ud558\", \"\\ubc1b\", \"\\uc120\\ubb3c\", \"\\uc9f1\\uc9f1\", \"\\ubd88\\ud3b8\", \"\\ubcf4\\ud638\\ub300\", \"\\uad6c\\uc785\", \"\\ubcf4\", \"\\uc788\", \"\\uc81c\\ud488\", \"\\uac10\\uc0ac\", \"\\ubc30\\uc1a1\", \"\\ube60\\ub974\", \"\\uc0ac\\uc6a9\", \"\\uc8fc\", \"\\ub54c\", \"\\uc5c6\", \"\\uc0dd\\uac01\", \"\\uc0ac\\uc774\\uc988\", \"\\uac19\", \"\\uac83\", \"\\ubb34\\ub98e\", \"\\uc0ac\", \"\\uc6b4\\ub3d9\", \"\\uc774\", \"\\uc88b\", \"\\uc54c\", \"\\ubd88\\ud3b8\", \"\\ub370\", \"\\ucc29\\uc6a9\", \"\\uad6c\\ub9e4\", \"\\uac70\", \"\\uc2dc\", \"\\ubb34\\ub98e\", \"\\uc54a\", \"\\uc81c\\ud488\", \"\\uac83\", \"\\uac19\", \"\\uac00\\uaca9\", \"\\ubcf4\\ud638\\ub300\", \"\\uc88b\", \"\\uc7a1\", \"\\ub290\\ub08c\", \"\\uc774\", \"\\ud558\", \"\\uc8fc\", \"\\uc544\\ud504\", \"\\uc0ac\\uc6a9\", \"\\ub54c\", \"\\uc6b4\\ub3d9\", \"\\ub2e4\\ub9ac\", \"\\uc555\\ubc15\", \"\\ubb34\\ub98e\\ubcf4\\ud638\\ub300\", \"\\ud6a8\\uacfc\", \"\\ud788\", \"\\ub4f1\\uc0b0\", \"\\uc0dd\\uac01\", \"\\uc0ac\", \"\\uadf8\\ub807\", \"\\ubd84\", \"\\ubcf4\", \"\\ubc30\\uc1a1\", \"\\ub098\", \"\\uac00\\uaca9\", \"\\uac83\", \"\\uac19\", \"\\ucc29\\uc6a9\", \"\\ubb34\\ub98e\", \"\\ud558\", \"\\uc54c\", \"\\ub2e4\\ub9ac\", \"\\uc555\\ubc15\", \"\\ubb34\\ub98e\\ubcf4\\ud638\\ub300\", \"\\ud6a8\\uacfc\", \"\\ud788\", \"\\ub4f1\\uc0b0\", \"\\ub2ec\", \"\\ubaa8\\ub974\", \"\\ub4e4\", \"\\uadf8\\ub807\", \"\\uc624\", \"\\ubd84\", \"\\uc911\", \"\\uc218\", \"\\ub290\\ub07c\", \"\\uc8fc\\ubb38\", \"\\ub4dc\\ub9ac\", \"\\ubd80\\ubd84\", \"\\ubc88\", \"\\ub4ef\", \"\\uad1c\\ucc2e\", \"\\ub370\", \"\\uc81c\\ud488\", \"\\uac10\\uc0ac\", \"\\uad6c\\uc785\", \"\\ubc30\\uc1a1\", \"\\ube60\\ub974\", \"\\ubcf4\", \"\\uc5c6\", \"\\uc0ac\\uc6a9\", \"\\uc8fc\", \"\\uc788\", \"\\uc0dd\\uac01\", \"\\uc120\\ubb3c\", \"\\ucd94\\ucc9c\", \"\\uc88b\", \"\\uc774\", \"\\ud1b5\\uc99d\", \"\\uadf8\\ub807\", \"\\uc624\", \"\\ucd94\\ucc9c\", \"\\ub54c\", \"\\ub418\", \"\\ub9cc\\uc871\", \"\\ubb34\\ub98e\", \"\\uc0ac\\uc6a9\", \"\\uc7a1\", \"\\uc788\", \"\\ucc29\\uc6a9\", \"\\uc774\", \"\\uc8fc\", \"\\ud558\", \"\\uc88b\", \"\\uc54c\", \"\\ub2e4\\ub9ac\", \"\\uc555\\ubc15\", \"\\ubb34\\ub98e\\ubcf4\\ud638\\ub300\", \"\\ud6a8\\uacfc\", \"\\ud788\", \"\\ub4f1\\uc0b0\", \"\\ub2ec\", \"\\ubaa8\\ub974\", \"\\ub4e4\", \"\\ubd84\", \"\\uc911\", \"\\uc218\", \"\\ub290\\ub07c\", \"\\uac19\", \"\\uac83\", \"\\ube60\\ub974\", \"\\ub4ef\", \"\\uc0ac\", \"\\ubcf4\", \"\\ubc30\\uc1a1\", \"\\uc0ac\\uc774\\uc988\", \"\\uad6c\\uc785\", \"\\uac10\\uc0ac\", \"\\uc81c\\ud488\", \"\\uac83\", \"\\uac19\", \"\\uc0ac\", \"\\uc7a1\", \"\\uc5c6\", \"\\uc774\", \"\\uc8fc\", \"\\uac70\", \"\\uc544\\ud504\", \"\\ubb34\\ub98e\", \"\\uc4f0\", \"\\uc81c\\ud488\", \"\\ubd80\\ubd84\", \"\\uc88b\", \"\\uc6b4\\ub3d9\", \"\\ub9cc\\uc871\", \"\\ub54c\", \"\\ub4f1\\uc0b0\", \"\\ub290\\ub08c\", \"\\ud6c4\", \"\\uc911\", \"\\ud1b5\\uc99d\", \"\\ucd94\\ucc9c\", \"\\uc788\", \"\\ub418\", \"\\uad6c\\ub9e4\", \"\\uc54c\", \"\\ub2e4\\ub9ac\", \"\\uc555\\ubc15\", \"\\ubb34\\ub98e\\ubcf4\\ud638\\ub300\", \"\\ub4ef\", \"\\ubd84\", \"\\ubcf4\", \"\\ubc30\\uc1a1\", \"\\uc54c\", \"\\ub2e4\\ub9ac\", \"\\uc555\\ubc15\", \"\\ubb34\\ub98e\\ubcf4\\ud638\\ub300\", \"\\ud6a8\\uacfc\", \"\\ud788\", \"\\ub4f1\\uc0b0\", \"\\ub2ec\", \"\\ubaa8\\ub974\", \"\\ub4e4\", \"\\uadf8\\ub807\", \"\\uc624\", \"\\ubd84\", \"\\uc911\", \"\\uc218\", \"\\ub290\\ub07c\", \"\\uc8fc\\ubb38\", \"\\ub4dc\\ub9ac\", \"\\ubd80\\ubd84\", \"\\ubc88\", \"\\ub4ef\", \"\\uad1c\\ucc2e\", \"\\ub370\", \"\\ud3b8\\ud558\", \"\\ubc1b\", \"\\uc120\\ubb3c\", \"\\uc9f1\\uc9f1\", \"\\ubd88\\ud3b8\", \"\\ubcf4\\ud638\\ub300\", \"\\uad6c\\uc785\", \"\\ubcf4\", \"\\uc788\", \"\\uc81c\\ud488\", \"\\uac10\\uc0ac\", \"\\ubc30\\uc1a1\", \"\\ube60\\ub974\", \"\\uc0ac\\uc6a9\", \"\\uc8fc\", \"\\ub54c\", \"\\uc5c6\", \"\\uc0dd\\uac01\", \"\\uc0ac\\uc774\\uc988\", \"\\uac19\", \"\\uac83\", \"\\ubb34\\ub98e\", \"\\uc0ac\", \"\\uc6b4\\ub3d9\", \"\\uc774\", \"\\uc88b\", \"\\uc54c\", \"\\ub2e4\\ub9ac\", \"\\uc555\\ubc15\", \"\\ubb34\\ub98e\\ubcf4\\ud638\\ub300\", \"\\ud6a8\\uacfc\", \"\\ud788\", \"\\ub4f1\\uc0b0\", \"\\ub2ec\", \"\\ubaa8\\ub974\", \"\\ub4e4\", \"\\uadf8\\ub807\", \"\\uc624\", \"\\ubd84\", \"\\uc911\", \"\\uc218\", \"\\ub290\\ub07c\", \"\\uc8fc\\ubb38\", \"\\ub4dc\\ub9ac\", \"\\ubd80\\ubd84\", \"\\ubc88\", \"\\ub4ef\", \"\\uad1c\\ucc2e\", \"\\ub370\", \"\\ud3b8\\ud558\", \"\\ubc1b\", \"\\uc120\\ubb3c\", \"\\uc9f1\\uc9f1\", \"\\ubd88\\ud3b8\", \"\\ubcf4\\ud638\\ub300\", \"\\uad6c\\uc785\", \"\\ubcf4\", \"\\uc788\", \"\\uc81c\\ud488\", \"\\uac10\\uc0ac\", \"\\ubc30\\uc1a1\", \"\\ube60\\ub974\", \"\\uc0ac\\uc6a9\", \"\\uc8fc\", \"\\ub54c\", \"\\uc5c6\", \"\\uc0dd\\uac01\", \"\\uc0ac\\uc774\\uc988\", \"\\uac19\", \"\\uac83\", \"\\ubb34\\ub98e\", \"\\uc0ac\", \"\\uc6b4\\ub3d9\", \"\\uc774\", \"\\uc88b\", \"\\uad6c\\ub9e4\", \"\\uc6b4\\ub3d9\", \"\\ub9cc\\uc871\", \"\\ub54c\", \"\\ube60\\ub974\", \"\\uac70\", \"\\ubc30\\uc1a1\", \"\\ucc29\\uc6a9\", \"\\uc788\", \"\\uc0ac\\uc6a9\", \"\\uc7a1\", \"\\uc2dc\", \"\\uc8fc\", \"\\uc88b\", \"\\ubb34\\ub98e\", \"\\uc54c\", \"\\ub2e4\\ub9ac\", \"\\uc555\\ubc15\", \"\\ubb34\\ub98e\\ubcf4\\ud638\\ub300\", \"\\ud6a8\\uacfc\", \"\\ud788\", \"\\ub4f1\\uc0b0\", \"\\ub2ec\", \"\\ubaa8\\ub974\", \"\\ub4e4\", \"\\uadf8\\ub807\", \"\\uc624\", \"\\ubd84\", \"\\uc911\", \"\\uc218\", \"\\uac10\\uc0ac\", \"\\ubcf4\", \"\\uac19\", \"\\uad6c\\uc785\", \"\\uc81c\\ud488\", \"\\ub4ef\", \"\\uc5c6\", \"\\ub4dc\\ub9ac\", \"\\uc0dd\\uac01\", \"\\ubc88\", \"\\ubb34\\ub98e\\ubcf4\\ud638\\ub300\", \"\\uc54c\", \"\\ubd88\\ud3b8\", \"\\ubd84\", \"\\uc0dd\\uac01\", \"\\ub418\", \"\\ub4e4\", \"\\uc218\", \"\\ub290\\ub07c\", \"\\ubd80\\ubd84\", \"\\uc911\", \"\\uc81c\\ud488\", \"\\ud788\", \"\\ub4f1\\uc0b0\", \"\\uc0ac\\uc6a9\", \"\\uc774\", \"\\ud558\\ub098\", \"\\uad6c\\ub9e4\", \"\\ub370\", \"\\uc788\", \"\\ubcf4\\ud638\\ub300\", \"\\ud558\", \"\\ubb34\\ub98e\", \"\\uac70\", \"\\ubcf4\", \"\\ud1b5\\uc99d\", \"\\uc6b4\\ub3d9\", \"\\ubc1b\", \"\\uc54a\", \"\\uac83\", \"\\uc88b\", \"\\uc8fc\", \"\\ucc29\\uc6a9\", \"\\ub54c\", \"\\uc54a\", \"\\ubd84\", \"\\uc0dd\\uac01\", \"\\ube60\\ub974\", \"\\uc88b\", \"\\ubc30\\uc1a1\", \"\\uc8fc\", \"\\uc774\", \"\\ud558\", \"\\uc54c\", \"\\ub2e4\\ub9ac\", \"\\uc555\\ubc15\", \"\\ubb34\\ub98e\\ubcf4\\ud638\\ub300\", \"\\ud6a8\\uacfc\", \"\\ud788\", \"\\ub4f1\\uc0b0\", \"\\ub2ec\", \"\\ubaa8\\ub974\", \"\\ub4e4\", \"\\uadf8\\ub807\", \"\\uc624\", \"\\uc911\", \"\\uc218\", \"\\ub290\\ub07c\", \"\\uc8fc\\ubb38\", \"\\ub4dc\\ub9ac\", \"\\ubd80\\ubd84\", \"\\ubc88\", \"\\ub4ef\", \"\\uad1c\\ucc2e\", \"\\uc0ac\\uc774\\uc988\", \"\\uac10\\uc0ac\", \"\\ub54c\", \"\\uac19\", \"\\uc0ac\\uc6a9\", \"\\uac83\", \"\\ubcf4\", \"\\uad6c\\uc785\", \"\\uc81c\\ud488\", \"\\uc6b4\\ub3d9\", \"\\uc788\", \"\\uc5c6\", \"\\uc120\\ubb3c\", \"\\uc54c\", \"\\ub2e4\\ub9ac\", \"\\uc555\\ubc15\", \"\\ubb34\\ub98e\\ubcf4\\ud638\\ub300\", \"\\ud6a8\\uacfc\", \"\\ud788\", \"\\ub4f1\\uc0b0\", \"\\ub2ec\", \"\\ubaa8\\ub974\", \"\\ub4e4\", \"\\uadf8\\ub807\", \"\\uc624\", \"\\ubd84\", \"\\uc911\", \"\\uc218\", \"\\ub290\\ub07c\", \"\\uc8fc\\ubb38\", \"\\ub4dc\\ub9ac\", \"\\ubd80\\ubd84\", \"\\ubc88\", \"\\ub4ef\", \"\\uad1c\\ucc2e\", \"\\ub370\", \"\\ud3b8\\ud558\", \"\\ubc1b\", \"\\uc120\\ubb3c\", \"\\uc9f1\\uc9f1\", \"\\ubd88\\ud3b8\", \"\\ubcf4\\ud638\\ub300\", \"\\uad6c\\uc785\", \"\\ubcf4\", \"\\uc788\", \"\\uc81c\\ud488\", \"\\uac10\\uc0ac\", \"\\ubc30\\uc1a1\", \"\\ube60\\ub974\", \"\\uc0ac\\uc6a9\", \"\\uc8fc\", \"\\ub54c\", \"\\uc5c6\", \"\\uc0dd\\uac01\", \"\\uc0ac\\uc774\\uc988\", \"\\uac19\", \"\\uac83\", \"\\ubb34\\ub98e\", \"\\uc0ac\", \"\\uc6b4\\ub3d9\", \"\\uc774\", \"\\uc88b\", \"\\uc54c\", \"\\ub2e4\\ub9ac\", \"\\uc555\\ubc15\", \"\\ubb34\\ub98e\\ubcf4\\ud638\\ub300\", \"\\ud6a8\\uacfc\", \"\\ud788\", \"\\ub4f1\\uc0b0\", \"\\ub2ec\", \"\\ubaa8\\ub974\", \"\\ub4e4\", \"\\uadf8\\ub807\", \"\\uc624\", \"\\ubd84\", \"\\uc911\", \"\\uc218\", \"\\ub290\\ub07c\", \"\\uc8fc\\ubb38\", \"\\ub4dc\\ub9ac\", \"\\ubd80\\ubd84\", \"\\ubc88\", \"\\ub4ef\", \"\\uad1c\\ucc2e\", \"\\ub370\", \"\\ud3b8\\ud558\", \"\\ubc1b\", \"\\uc120\\ubb3c\", \"\\uc9f1\\uc9f1\", \"\\ubd88\\ud3b8\", \"\\ubcf4\\ud638\\ub300\", \"\\uad6c\\uc785\", \"\\ubcf4\", \"\\uc788\", \"\\uc81c\\ud488\", \"\\uac10\\uc0ac\", \"\\ubc30\\uc1a1\", \"\\ube60\\ub974\", \"\\uc0ac\\uc6a9\", \"\\uc8fc\", \"\\ub54c\", \"\\uc5c6\", \"\\uc0dd\\uac01\", \"\\uc0ac\\uc774\\uc988\", \"\\uac19\", \"\\uac83\", \"\\ubb34\\ub98e\", \"\\uc0ac\", \"\\uc6b4\\ub3d9\", \"\\uc774\", \"\\uc88b\", \"\\uc544\\ud504\", \"\\ube60\\ub974\", \"\\ubc30\\uc1a1\", \"\\ub54c\", \"\\ucc29\\uc6a9\", \"\\ubb34\\ub98e\", \"\\uc88b\", \"\\ubc88\", \"\\uac70\", \"\\uc0ac\\uc6a9\", \"\\uac19\", \"\\uad6c\\ub9e4\", \"\\ubcf4\", \"\\uc6b4\\ub3d9\", \"\\uc7a1\", \"\\uc54c\", \"\\ub2e4\\ub9ac\", \"\\uc8fc\", \"\\uc555\\ubc15\", \"\\ubb34\\ub98e\\ubcf4\\ud638\\ub300\", \"\\ud6a8\\uacfc\", \"\\ud788\", \"\\ub4f1\\uc0b0\", \"\\ub2ec\", \"\\ubaa8\\ub974\", \"\\ub4e4\", \"\\uadf8\\ub807\", \"\\uc624\", \"\\ubd84\", \"\\uc911\", \"\\uac10\\uc0ac\", \"\\uad6c\\uc785\", \"\\uc218\", \"\\uc81c\\ud488\", \"\\uc788\", \"\\uc5c6\", \"\\uc0dd\\uac01\", \"\\ud558\", \"\\ucd94\\ucc9c\", \"\\uc774\", \"\\ubc1b\", \"\\uc54a\", \"\\uac00\\uaca9\", \"\\uc54c\", \"\\ubcf4\\ud638\\ub300\", \"\\ud788\", \"\\ub290\\ub08c\", \"\\ube44\\uc2f8\", \"\\uadf8\\ub807\", \"\\ub418\", \"\\uc774\", \"\\uc788\", \"\\uc8fc\", \"\\uc4f0\", \"\\uc81c\\ud488\", \"\\ubcf4\", \"\\uc7a1\", \"\\uc0ac\\uc6a9\", \"\\ud558\", \"\\uc88b\", \"\\ub2e4\\ub9ac\", \"\\uc555\\ubc15\", \"\\ubb34\\ub98e\\ubcf4\\ud638\\ub300\", \"\\ud6a8\\uacfc\", \"\\ub4f1\\uc0b0\", \"\\ub2ec\", \"\\ubaa8\\ub974\", \"\\ub4e4\", \"\\uc624\", \"\\ubd84\", \"\\uac10\\uc0ac\", \"\\ube60\\ub974\", \"\\uc5c6\", \"\\ubc30\\uc1a1\", \"\\uad6c\\uc785\", \"\\uc218\", \"\\uc0dd\\uac01\", \"\\ubd80\\ubd84\", \"\\ub290\\ub08c\", \"\\ucd94\\ucc9c\", \"\\uc0dd\\uac01\", \"\\ub9cc\\uc871\", \"\\uc788\", \"\\uc7a1\", \"\\uac83\", \"\\uac19\", \"\\ucc29\\uc6a9\", \"\\ubb34\\ub98e\", \"\\uc88b\", \"\\uc8fc\", \"\\uc774\", \"\\ud6a8\\uacfc\", \"\\uad6c\\ub9e4\", \"\\ub54c\", \"\\uac10\", \"\\uc5c6\", \"\\uc54c\", \"\\ub2e4\\ub9ac\", \"\\uc555\\ubc15\", \"\\ubb34\\ub98e\\ubcf4\\ud638\\ub300\", \"\\ud788\", \"\\ub4f1\\uc0b0\", \"\\ub2ec\", \"\\ubaa8\\ub974\", \"\\ub4e4\", \"\\uadf8\\ub807\", \"\\uc624\", \"\\uc0ac\\uc6a9\", \"\\ube60\\ub974\", \"\\ubd84\", \"\\ub4ef\", \"\\ubcf4\", \"\\ubc30\\uc1a1\", \"\\uc6b4\\ub3d9\", \"\\uad6c\\uc785\", \"\\ud558\", \"\\ud6a8\\uacfc\", \"\\uc911\", \"\\uc8fc\\ubb38\", \"\\ub370\", \"\\ub418\", \"\\ub9cc\\uc871\", \"\\uc4f0\", \"\\uac70\", \"\\uad6c\\ub9e4\", \"\\uac83\", \"\\uac19\", \"\\ubb34\\ub98e\", \"\\ubcf4\", \"\\uc774\", \"\\uc0ac\\uc6a9\", \"\\uc788\", \"\\uc88b\", \"\\uc54c\", \"\\ub2e4\\ub9ac\", \"\\uc555\\ubc15\", \"\\ubb34\\ub98e\\ubcf4\\ud638\\ub300\", \"\\ud788\", \"\\ub4f1\\uc0b0\", \"\\ub2ec\", \"\\ubaa8\\ub974\", \"\\ub4e4\", \"\\uadf8\\ub807\", \"\\uc624\", \"\\ubd84\", \"\\uc218\", \"\\uad6c\\uc785\", \"\\uac10\\uc0ac\", \"\\ubc30\\uc1a1\", \"\\uc5c6\", \"\\uc81c\\ud488\", \"\\ube60\\ub974\", \"\\uc0dd\\uac01\", \"\\ubc88\", \"\\uc0ac\", \"\\ubaa8\\ub974\", \"\\ub4dc\\ub9ac\", \"\\ud558\", \"\\uc544\\ud504\", \"\\ucd94\\ucc9c\", \"\\ube44\\uc2f8\", \"\\ubb34\\ub98e\", \"\\uac83\", \"\\uc88b\", \"\\uc6b4\\ub3d9\", \"\\uc788\", \"\\ub54c\", \"\\uc8fc\", \"\\uc2dc\", \"\\uc774\", \"\\uc7a1\", \"\\uc54c\", \"\\ub2e4\\ub9ac\", \"\\uc555\\ubc15\", \"\\ubb34\\ub98e\\ubcf4\\ud638\\ub300\", \"\\ud6a8\\uacfc\", \"\\ud788\", \"\\ub4f1\\uc0b0\", \"\\ub2ec\", \"\\ub4e4\", \"\\uadf8\\ub807\", \"\\uc624\", \"\\ubd84\", \"\\uc911\", \"\\uc218\", \"\\uc5c6\", \"\\ub098\", \"\\ud6c4\", \"\\uc0dd\\uac01\", \"\\uac10\\uc0ac\", \"\\uad6c\\uc785\", \"\\ubc30\\uc1a1\", \"\\ubcf4\", \"\\uc81c\\ud488\", \"\\ubc88\", \"\\ubd84\", \"\\ubd88\\ud3b8\", \"\\ubaa8\\ub974\", \"\\ubcf4\\ud638\\ub300\", \"\\ubc1b\", \"\\ub4dc\\ub9ac\", \"\\uc120\\ubb3c\", \"\\ub098\", \"\\ub2ec\", \"\\ub4e4\", \"\\uc8fc\\ubb38\", \"\\ub290\\ub07c\", \"\\uac10\", \"\\uc9f1\\uc9f1\", \"\\uc544\\ud504\", \"\\uc2dc\", \"\\ucc29\\uc6a9\", \"\\uc9c0\", \"\\ud1b5\\uc99d\", \"\\ucd94\\ucc9c\", \"\\ub290\\ub08c\", \"\\ubb34\\ub98e\", \"\\uac70\", \"\\uc0ac\", \"\\ud6c4\", \"\\uc5c6\", \"\\uc788\", \"\\uc88b\", \"\\uc6b4\\ub3d9\", \"\\uac19\", \"\\uc774\", \"\\ud558\", \"\\ub4e4\", \"\\uc624\", \"\\uc81c\\ud488\", \"\\uc0ac\\uc774\\uc988\", \"\\uac00\\uaca9\", \"\\uac10\", \"\\ub290\\ub08c\", \"\\uc4f0\", \"\\uc788\", \"\\uad6c\\ub9e4\", \"\\ubcf4\", \"\\ube60\\ub974\", \"\\ub54c\", \"\\uc7a1\", \"\\ucc29\\uc6a9\", \"\\ubc30\\uc1a1\", \"\\uc8fc\", \"\\ubb34\\ub98e\", \"\\ud558\", \"\\uc774\", \"\\ubc1b\", \"\\ubd80\\ubd84\", \"\\ubc88\", \"\\ub2ec\", \"\\ub2e4\\ub9ac\", \"\\uc5c6\", \"\\uac10\\uc0ac\", \"\\ubd84\", \"\\ubb34\\ub98e\\ubcf4\\ud638\\ub300\", \"\\ub4ef\", \"\\uc0ac\\uc6a9\", \"\\ub098\", \"\\uc9c0\", \"\\ud6c4\", \"\\uac70\", \"\\ub290\\ub08c\", \"\\uc8fc\", \"\\uc7a1\", \"\\uc88b\", \"\\uc774\", \"\\ubc88\", \"\\uac70\", \"\\uc544\\ud504\", \"\\uc0ac\\uc6a9\", \"\\uac19\", \"\\uad6c\\ub9e4\", \"\\ubcf4\", \"\\uc6b4\\ub3d9\", \"\\uc54c\", \"\\ub2e4\\ub9ac\", \"\\ub54c\", \"\\uc555\\ubc15\", \"\\ubb34\\ub98e\\ubcf4\\ud638\\ub300\", \"\\ud6a8\\uacfc\", \"\\ud788\", \"\\ub4f1\\uc0b0\", \"\\ub2ec\", \"\\ubaa8\\ub974\", \"\\ub4e4\", \"\\uadf8\\ub807\", \"\\uc624\", \"\\ubd84\", \"\\uc911\", \"\\uc218\", \"\\ub290\\ub07c\", \"\\ube60\\ub974\", \"\\uc81c\\ud488\", \"\\ubc30\\uc1a1\", \"\\uad6c\\uc785\", \"\\uac10\\uc0ac\", \"\\uc0dd\\uac01\", \"\\uc788\", \"\\uc5c6\", \"\\ud558\", \"\\ucd94\\ucc9c\", \"\\ucc29\\uc6a9\", \"\\uac00\\uaca9\", \"\\uc0ac\\uc6a9\", \"\\ud558\", \"\\uc788\", \"\\uc774\", \"\\uc54c\", \"\\ub2e4\\ub9ac\", \"\\uc555\\ubc15\", \"\\ubb34\\ub98e\\ubcf4\\ud638\\ub300\", \"\\ud6a8\\uacfc\", \"\\ud788\", \"\\ub4f1\\uc0b0\", \"\\ub2ec\", \"\\ubaa8\\ub974\", \"\\ub4e4\", \"\\uadf8\\ub807\", \"\\uc624\", \"\\ubd84\", \"\\uc911\", \"\\uc218\", \"\\ub290\\ub07c\", \"\\uc8fc\\ubb38\", \"\\ub4dc\\ub9ac\", \"\\ubd80\\ubd84\", \"\\ubc88\", \"\\ub4ef\", \"\\uad1c\\ucc2e\", \"\\ub370\", \"\\ud3b8\\ud558\", \"\\ubc1b\", \"\\uc5c6\", \"\\uc81c\\ud488\", \"\\uac10\\uc0ac\", \"\\uad6c\\uc785\", \"\\ubcf4\", \"\\ube60\\ub974\", \"\\uc8fc\", \"\\ubc30\\uc1a1\", \"\\uc0dd\\uac01\", \"\\uc120\\ubb3c\", \"\\ucd94\\ucc9c\", \"\\ucc29\\uc6a9\", \"\\uc88b\", \"\\uc6b4\\ub3d9\", \"\\uc0ac\\uc774\\uc988\", \"\\uc0ac\", \"\\ubb34\\ub98e\", \"\\uadf8\\ub807\", \"\\ubc30\\uc1a1\", \"\\ube60\\ub974\", \"\\uc88b\", \"\\uc544\\ud504\", \"\\ubb34\\ub98e\", \"\\uc7a1\", \"\\ub54c\", \"\\uc8fc\", \"\\uc6b4\\ub3d9\", \"\\uc54c\", \"\\ub2e4\\ub9ac\", \"\\uc555\\ubc15\", \"\\ubb34\\ub98e\\ubcf4\\ud638\\ub300\", \"\\ud6a8\\uacfc\", \"\\ud788\", \"\\ub4f1\\uc0b0\", \"\\ub2ec\", \"\\ubaa8\\ub974\", \"\\ub4e4\", \"\\uc624\", \"\\ubd84\", \"\\uc911\", \"\\uc218\", \"\\ub290\\ub07c\", \"\\uc8fc\\ubb38\", \"\\ub4dc\\ub9ac\", \"\\ubd80\\ubd84\", \"\\ubc88\", \"\\ub4ef\", \"\\uc774\", \"\\uac19\", \"\\uac83\", \"\\uc0ac\\uc6a9\", \"\\ubcf4\", \"\\uc0ac\", \"\\uad6c\\uc785\", \"\\uac10\\uc0ac\", \"\\uc81c\\ud488\", \"\\uc788\", \"\\uc5c6\", \"\\uc120\\ubb3c\", \"\\ub2ec\", \"\\uac10\", \"\\ud6c4\", \"\\ucc29\\uc6a9\", \"\\uc88b\", \"\\uc54c\", \"\\ub2e4\\ub9ac\", \"\\uc555\\ubc15\", \"\\ubb34\\ub98e\\ubcf4\\ud638\\ub300\", \"\\ud6a8\\uacfc\", \"\\ud788\", \"\\ub4f1\\uc0b0\", \"\\ubaa8\\ub974\", \"\\ub4e4\", \"\\uadf8\\ub807\", \"\\uc624\", \"\\ubd84\", \"\\uc911\", \"\\uc218\", \"\\ub290\\ub07c\", \"\\uc8fc\\ubb38\", \"\\ub4dc\\ub9ac\", \"\\ubd80\\ubd84\", \"\\ubc88\", \"\\ub4ef\", \"\\uad1c\\ucc2e\", \"\\ub370\", \"\\ud3b8\\ud558\", \"\\ubc1b\", \"\\uc120\\ubb3c\", \"\\uc0ac\\uc6a9\", \"\\ube60\\ub974\", \"\\ubcf4\", \"\\ubc30\\uc1a1\", \"\\uc8fc\", \"\\uad6c\\uc785\", \"\\uac10\\uc0ac\", \"\\uc81c\\ud488\", \"\\uc788\", \"\\uc5c6\", \"\\uc0dd\\uac01\", \"\\ud558\", \"\\ucd94\\ucc9c\", \"\\uc774\", \"\\uc6b4\\ub3d9\", \"\\uc0ac\\uc774\\uc988\", \"\\uc0ac\", \"\\uc624\", \"\\uc120\\ubb3c\", \"\\ubc88\", \"\\ubc30\\uc1a1\", \"\\uc774\", \"\\uc788\", \"\\uc54c\", \"\\ub2e4\\ub9ac\", \"\\uc555\\ubc15\", \"\\ubb34\\ub98e\\ubcf4\\ud638\\ub300\", \"\\ud6a8\\uacfc\", \"\\ud788\", \"\\ub4f1\\uc0b0\", \"\\ub2ec\", \"\\ubaa8\\ub974\", \"\\ub4e4\", \"\\uadf8\\ub807\", \"\\ubd84\", \"\\uc911\", \"\\uc218\", \"\\ub290\\ub07c\", \"\\uc8fc\\ubb38\", \"\\ub4dc\\ub9ac\", \"\\ubd80\\ubd84\", \"\\ub4ef\", \"\\uad1c\\ucc2e\", \"\\ub370\", \"\\ud3b8\\ud558\", \"\\ubc1b\", \"\\uc9f1\\uc9f1\", \"\\ube60\\ub974\", \"\\ubcf4\", \"\\uc5c6\", \"\\uc0ac\\uc6a9\", \"\\uc8fc\", \"\\uad6c\\uc785\", \"\\uac10\\uc0ac\", \"\\uc81c\\ud488\", \"\\uc0dd\\uac01\", \"\\ud558\", \"\\ucd94\\ucc9c\", \"\\ucc29\\uc6a9\", \"\\uc88b\", \"\\uc6b4\\ub3d9\", \"\\uc0ac\\uc774\\uc988\", \"\\uc0ac\", \"\\ubb34\\ub98e\", \"\\uc54c\", \"\\ud788\", \"\\uad1c\\ucc2e\", \"\\uac70\", \"\\uc9f1\\uc9f1\", \"\\uc120\\ubb3c\", \"\\ubcf4\", \"\\uc774\", \"\\ub4e4\", \"\\uc911\", \"\\uc8fc\\ubb38\", \"\\ub290\\ub07c\", \"\\uac19\", \"\\uc4f0\", \"\\uc0ac\\uc774\\uc988\", \"\\uc6b4\\ub3d9\", \"\\ud3b8\\ud558\", \"\\uc0ac\\uc6a9\", \"\\uc8fc\", \"\\uc0ac\", \"\\ub54c\", \"\\ud558\", \"\\ud558\\ub098\", \"\\uc0dd\\uac01\", \"\\ubaa8\\ub974\", \"\\ubc1b\", \"\\ubb34\\ub98e\", \"\\uc7a1\", \"\\uad6c\\ub9e4\", \"\\ub290\\ub08c\", \"\\uc88b\", \"\\uc788\", \"\\uc54c\", \"\\ub2e4\\ub9ac\", \"\\uc555\\ubc15\", \"\\ubb34\\ub98e\\ubcf4\\ud638\\ub300\", \"\\ud6a8\\uacfc\", \"\\ud788\", \"\\ub4f1\\uc0b0\", \"\\ub2ec\", \"\\ubaa8\\ub974\", \"\\ub4e4\", \"\\uadf8\\ub807\", \"\\uc624\", \"\\ubd84\", \"\\uc911\", \"\\uc218\", \"\\ub290\\ub07c\", \"\\uc8fc\\ubb38\", \"\\ub4dc\\ub9ac\", \"\\ubd80\\ubd84\", \"\\ubc88\", \"\\ub4ef\", \"\\uad1c\\ucc2e\", \"\\ub370\", \"\\ud3b8\\ud558\", \"\\ubc1b\", \"\\uc120\\ubb3c\", \"\\uc9f1\\uc9f1\", \"\\ubd88\\ud3b8\", \"\\ubcf4\\ud638\\ub300\", \"\\uad6c\\uc785\", \"\\ubcf4\", \"\\uc788\", \"\\uc81c\\ud488\", \"\\uac10\\uc0ac\", \"\\ubc30\\uc1a1\", \"\\ube60\\ub974\", \"\\uc0ac\\uc6a9\", \"\\uc8fc\", \"\\ub54c\", \"\\uc5c6\", \"\\uc0dd\\uac01\", \"\\uc0ac\\uc774\\uc988\", \"\\uac19\", \"\\uac83\", \"\\ubb34\\ub98e\", \"\\uc0ac\", \"\\uc6b4\\ub3d9\", \"\\uc774\", \"\\uc88b\", \"\\ub4dc\\ub9ac\", \"\\ubaa8\\ub974\", \"\\uadf8\\ub807\", \"\\ubcf4\\ud638\\ub300\", \"\\uad6c\\uc785\", \"\\uc0ac\\uc6a9\", \"\\uc0ac\", \"\\uc4f0\", \"\\uc788\", \"\\uac70\", \"\\uac83\", \"\\uac19\", \"\\uc774\", \"\\ube60\\ub974\", \"\\ubc30\\uc1a1\", \"\\ubb34\\ub98e\", \"\\uc88b\", \"\\uc54a\", \"\\ud558\", \"\\ubd88\\ud3b8\", \"\\ub370\", \"\\uac00\\uaca9\", \"\\uc7a1\", \"\\ucc29\\uc6a9\", \"\\uc8fc\", \"\\uc54c\", \"\\ub2e4\\ub9ac\", \"\\uc555\\ubc15\", \"\\ubb34\\ub98e\\ubcf4\\ud638\\ub300\", \"\\ud6a8\\uacfc\", \"\\ubd84\", \"\\ubcf4\", \"\\uc6b4\\ub3d9\", \"\\uac10\\uc0ac\", \"\\uac10\\uc0ac\", \"\\uac70\", \"\\uad6c\\ub9e4\", \"\\uac19\", \"\\uc7a1\", \"\\uc8fc\", \"\\uc88b\", \"\\uc54c\", \"\\ub2e4\\ub9ac\", \"\\uc555\\ubc15\", \"\\ubb34\\ub98e\\ubcf4\\ud638\\ub300\", \"\\ud6a8\\uacfc\", \"\\ud788\", \"\\ub4f1\\uc0b0\", \"\\ub2ec\", \"\\ubaa8\\ub974\", \"\\ub4e4\", \"\\uadf8\\ub807\", \"\\uc624\", \"\\ubd84\", \"\\uc911\", \"\\uc218\", \"\\ub290\\ub07c\", \"\\uc8fc\\ubb38\", \"\\ub4dc\\ub9ac\", \"\\ubd80\\ubd84\", \"\\ubc88\", \"\\ub4ef\", \"\\uad1c\\ucc2e\", \"\\ub370\", \"\\ubcf4\", \"\\uc81c\\ud488\", \"\\uad6c\\uc785\", \"\\ubc30\\uc1a1\", \"\\uc5c6\", \"\\ube60\\ub974\", \"\\uc0ac\\uc6a9\", \"\\uc788\", \"\\ub54c\", \"\\uc0dd\\uac01\", \"\\ud558\", \"\\ucd94\\ucc9c\", \"\\ucc29\\uc6a9\", \"\\uc774\", \"\\uc6b4\\ub3d9\", \"\\uc0ac\\uc774\\uc988\", \"\\ub2ec\", \"\\uadf8\\ub807\", \"\\uc624\", \"\\ubc88\", \"\\ubc1b\", \"\\uac83\", \"\\uac19\", \"\\ub098\", \"\\uc9c0\", \"\\uc0dd\\uac01\", \"\\uc0ac\\uc6a9\", \"\\uc54a\", \"\\uc0ac\\uc774\\uc988\", \"\\ub290\\ub08c\", \"\\uad6c\\ub9e4\", \"\\ubc30\\uc1a1\", \"\\uc8fc\", \"\\uc774\", \"\\ubcf4\", \"\\ubd88\\ud3b8\", \"\\ubd84\", \"\\uc788\", \"\\ubcf4\\ud638\\ub300\", \"\\uc7a1\", \"\\uc88b\", \"\\ubaa8\\ub974\", \"\\ub4dc\\ub9ac\", \"\\ub4e4\", \"\\ub290\\ub07c\", \"\\uac10\", \"\\ubb34\\ub98e\", \"\\ucc29\\uc6a9\", \"\\uc5c6\", \"\\uac70\", \"\\uc555\\ubc15\", \"\\ud788\", \"\\uad6c\\ub9e4\", \"\\uc544\\ud504\", \"\\uac70\", \"\\uad6c\\uc785\", \"\\ud558\\ub098\", \"\\uac19\", \"\\uc4f0\", \"\\uc88b\", \"\\uc54a\", \"\\uc0ac\", \"\\uc788\", \"\\ubcf4\", \"\\uc7a1\", \"\\ubc30\\uc1a1\", \"\\uc8fc\", \"\\ubb34\\ub98e\", \"\\uc774\", \"\\ub370\", \"\\ucc29\\uc6a9\", \"\\ud6a8\\uacfc\", \"\\uc9c0\", \"\\ud558\", \"\\uc0ac\\uc774\\uc988\", \"\\uc54c\", \"\\ub2e4\\ub9ac\", \"\\ubb34\\ub98e\\ubcf4\\ud638\\ub300\", \"\\ub4f1\\uc0b0\", \"\\ub2ec\", \"\\uc218\", \"\\ube60\\ub974\", \"\\ubd84\", \"\\uc6b4\\ub3d9\", \"\\uac10\\uc0ac\", \"\\ube60\\ub974\", \"\\ubc30\\uc1a1\", \"\\uc8fc\\ubb38\", \"\\uc0ac\\uc6a9\", \"\\ub54c\", \"\\uc54c\", \"\\ub2e4\\ub9ac\", \"\\uc555\\ubc15\", \"\\ubb34\\ub98e\\ubcf4\\ud638\\ub300\", \"\\ud6a8\\uacfc\", \"\\ud788\", \"\\ub4f1\\uc0b0\", \"\\ub2ec\", \"\\ubaa8\\ub974\", \"\\ub4e4\", \"\\uadf8\\ub807\", \"\\uc624\", \"\\ubd84\", \"\\uc911\", \"\\uc218\", \"\\ub290\\ub07c\", \"\\ub4dc\\ub9ac\", \"\\ubd80\\ubd84\", \"\\ubc88\", \"\\ub4ef\", \"\\uad1c\\ucc2e\", \"\\ub370\", \"\\ud3b8\\ud558\", \"\\ubc1b\", \"\\uc5c6\", \"\\uc788\", \"\\uc81c\\ud488\", \"\\uad6c\\uc785\", \"\\ubcf4\", \"\\uc0dd\\uac01\", \"\\uc8fc\", \"\\uc120\\ubb3c\", \"\\ud558\", \"\\ucd94\\ucc9c\", \"\\ucc29\\uc6a9\", \"\\uc88b\", \"\\uc774\", \"\\uc6b4\\ub3d9\", \"\\uc0ac\\uc774\\uc988\", \"\\uc0ac\", \"\\ubb34\\ub98e\", \"\\ud1b5\\uc99d\", \"\\ub4f1\\uc0b0\", \"\\uc911\", \"\\ud6c4\", \"\\ucd94\\ucc9c\", \"\\ub418\", \"\\uc8fc\", \"\\uc7a1\", \"\\uad6c\\ub9e4\", \"\\ubb34\\ub98e\", \"\\uc6b4\\ub3d9\", \"\\uc8fc\\ubb38\", \"\\ub2e4\\ub9ac\", \"\\uac00\\uaca9\", \"\\ube44\\uc2f8\", \"\\ud558\\ub098\", \"\\ubd84\", \"\\ub9cc\\uc871\", \"\\uc4f0\", \"\\ud558\", \"\\uc544\\ud504\", \"\\uc788\", \"\\uac70\", \"\\uc0ac\\uc6a9\", \"\\ubcf4\", \"\\uc54c\", \"\\uc555\\ubc15\", \"\\ubb34\\ub98e\\ubcf4\\ud638\\ub300\", \"\\ud6a8\\uacfc\", \"\\ud788\", \"\\uc218\", \"\\uc5c6\", \"\\uac19\", \"\\uac83\", \"\\uadf8\\ub807\", \"\\uc8fc\\ubb38\", \"\\ubaa8\\ub974\", \"\\ub4f1\\uc0b0\", \"\\ube44\\uc2f8\", \"\\uc0ac\\uc774\\uc988\", \"\\uc218\", \"\\uac83\", \"\\uac19\", \"\\uc4f0\", \"\\uc81c\\ud488\", \"\\uc774\", \"\\ud558\", \"\\ub54c\", \"\\uc788\", \"\\ucc29\\uc6a9\", \"\\uc54c\", \"\\ub2e4\\ub9ac\", \"\\uc555\\ubc15\", \"\\ubb34\\ub98e\\ubcf4\\ud638\\ub300\", \"\\ud6a8\\uacfc\", \"\\ud788\", \"\\ub2ec\", \"\\ub4e4\", \"\\uadf8\\ub807\", \"\\uc624\", \"\\ubd84\", \"\\uc911\", \"\\ub290\\ub07c\", \"\\ub4dc\\ub9ac\", \"\\ubd80\\ubd84\", \"\\uad6c\\uc785\", \"\\uc8fc\", \"\\uc0ac\\uc6a9\", \"\\ubc30\\uc1a1\", \"\\ubcf4\", \"\\uac10\\uc0ac\", \"\\ube60\\ub974\", \"\\ubc88\", \"\\uc5c6\", \"\\uc0dd\\uac01\", \"\\ucd94\\ucc9c\", \"\\uc88b\", \"\\ub290\\ub07c\", \"\\uc2dc\", \"\\uc6b4\\ub3d9\", \"\\uc9c0\", \"\\ub418\", \"\\ud6c4\", \"\\ud558\", \"\\uc0ac\", \"\\uc544\\ud504\", \"\\uac70\", \"\\uad6c\\ub9e4\", \"\\ub54c\", \"\\ucc29\\uc6a9\", \"\\ub098\", \"\\ucd94\\ucc9c\", \"\\uc774\", \"\\uc88b\", \"\\uc7a1\", \"\\ubb34\\ub98e\", \"\\uc8fc\", \"\\uc54c\", \"\\ub2e4\\ub9ac\", \"\\uc555\\ubc15\", \"\\ubb34\\ub98e\\ubcf4\\ud638\\ub300\", \"\\ud6a8\\uacfc\", \"\\ud788\", \"\\ub4f1\\uc0b0\", \"\\ub2ec\", \"\\ubaa8\\ub974\", \"\\ub4e4\", \"\\ubc30\\uc1a1\", \"\\ubcf4\", \"\\ubd84\", \"\\ube60\\ub974\", \"\\uad6c\\uc785\", \"\\ubc88\", \"\\uac10\\uc0ac\", \"\\uc81c\\ud488\", \"\\uc788\", \"\\uac19\", \"\\uac83\", \"\\uc7a1\", \"\\uc8fc\", \"\\uc54c\", \"\\ub2e4\\ub9ac\", \"\\uc774\", \"\\uc555\\ubc15\", \"\\ubb34\\ub98e\\ubcf4\\ud638\\ub300\", \"\\ud6a8\\uacfc\", \"\\ud788\", \"\\ub4f1\\uc0b0\", \"\\ub2ec\", \"\\ubaa8\\ub974\", \"\\ub4e4\", \"\\uadf8\\ub807\", \"\\uc624\", \"\\ubd84\", \"\\uc911\", \"\\uc218\", \"\\ub290\\ub07c\", \"\\uc8fc\\ubb38\", \"\\ub4dc\\ub9ac\", \"\\ubd80\\ubd84\", \"\\ubc88\", \"\\ub4ef\", \"\\uad1c\\ucc2e\", \"\\ub370\", \"\\ud3b8\\ud558\", \"\\ubc1b\", \"\\ubcf4\", \"\\uc81c\\ud488\", \"\\uac10\\uc0ac\", \"\\uad6c\\uc785\", \"\\ubc30\\uc1a1\", \"\\ube60\\ub974\", \"\\uc5c6\", \"\\uc0ac\\uc6a9\", \"\\uc788\", \"\\uc0dd\\uac01\", \"\\uc120\\ubb3c\", \"\\ud558\", \"\\ucd94\\ucc9c\", \"\\ucc29\\uc6a9\", \"\\uc88b\", \"\\uc6b4\\ub3d9\", \"\\uc0ac\\uc774\\uc988\", \"\\ub2e4\\ub9ac\", \"\\uad6c\\uc785\", \"\\ub9cc\\uc871\", \"\\ud6c4\", \"\\ubcf4\", \"\\ub290\\ub08c\", \"\\uc7a1\", \"\\ud558\", \"\\ucc29\\uc6a9\", \"\\uc8fc\", \"\\ubb34\\ub98e\", \"\\uc788\", \"\\uc6b4\\ub3d9\", \"\\uc774\", \"\\uc54c\", \"\\uc555\\ubc15\", \"\\ubb34\\ub98e\\ubcf4\\ud638\\ub300\", \"\\ud6a8\\uacfc\", \"\\ud788\", \"\\ub4f1\\uc0b0\", \"\\ub2ec\", \"\\ubaa8\\ub974\", \"\\ub4e4\", \"\\uadf8\\ub807\", \"\\uc624\", \"\\ubd84\", \"\\uc911\", \"\\uc218\", \"\\ub290\\ub07c\", \"\\uc8fc\\ubb38\", \"\\uac10\\uc0ac\", \"\\ubc30\\uc1a1\", \"\\ube60\\ub974\", \"\\uc0ac\\uc6a9\", \"\\uc81c\\ud488\", \"\\ubc88\", \"\\uc5c6\", \"\\uc0dd\\uac01\", \"\\ub4dc\\ub9ac\", \"\\ucd94\\ucc9c\", \"\\uc88b\", \"\\ubaa8\\ub974\", \"\\uc218\", \"\\ub4dc\\ub9ac\", \"\\uad1c\\ucc2e\", \"\\ub370\", \"\\uc120\\ubb3c\", \"\\uad6c\\uc785\", \"\\uac00\\uaca9\", \"\\ucc29\\uc6a9\", \"\\uc0ac\", \"\\uc6b4\\ub3d9\", \"\\uc788\", \"\\uc81c\\ud488\", \"\\uac83\", \"\\uac19\", \"\\uc774\", \"\\uc0ac\\uc6a9\", \"\\uc8fc\", \"\\uc54c\", \"\\ub2e4\\ub9ac\", \"\\uc555\\ubc15\", \"\\ubb34\\ub98e\\ubcf4\\ud638\\ub300\", \"\\ud6a8\\uacfc\", \"\\ud788\", \"\\ub4f1\\uc0b0\", \"\\ub2ec\", \"\\ub4e4\", \"\\uadf8\\ub807\", \"\\uc624\", \"\\ubd84\", \"\\ubc88\", \"\\uc911\", \"\\ube60\\ub974\", \"\\ubcf4\", \"\\ubc30\\uc1a1\", \"\\uac10\\uc0ac\", \"\\ubb34\\ub98e\", \"\\uc0ac\\uc774\\uc988\", \"\\ud3b8\\ud558\", \"\\ub418\", \"\\ub098\", \"\\uac83\", \"\\uac19\", \"\\uc6b4\\ub3d9\", \"\\ub54c\", \"\\uc54c\", \"\\ub2e4\\ub9ac\", \"\\uc555\\ubc15\", \"\\ubb34\\ub98e\\ubcf4\\ud638\\ub300\", \"\\ud6a8\\uacfc\", \"\\ud788\", \"\\ub4f1\\uc0b0\", \"\\ub2ec\", \"\\ubaa8\\ub974\", \"\\ub4e4\", \"\\uadf8\\ub807\", \"\\uc624\", \"\\ubd84\", \"\\uc911\", \"\\uc218\", \"\\ub290\\ub07c\", \"\\uc8fc\\ubb38\", \"\\ub4dc\\ub9ac\", \"\\ubd80\\ubd84\", \"\\ubc88\", \"\\ub4ef\", \"\\uad1c\\ucc2e\", \"\\ub370\", \"\\ubc30\\uc1a1\", \"\\uc81c\\ud488\", \"\\uac10\\uc0ac\", \"\\uad6c\\uc785\", \"\\ubcf4\", \"\\uc5c6\", \"\\ube60\\ub974\", \"\\uc0ac\\uc6a9\", \"\\uc8fc\", \"\\uc788\", \"\\uc0dd\\uac01\", \"\\ud558\", \"\\ucd94\\ucc9c\", \"\\ucc29\\uc6a9\", \"\\uc88b\", \"\\uc774\", \"\\ud558\\ub098\", \"\\uad6c\\uc785\", \"\\ub9cc\\uc871\", \"\\uad6c\\ub9e4\", \"\\uc0ac\", \"\\uc4f0\", \"\\ud558\", \"\\uc544\\ud504\", \"\\uac70\", \"\\uac19\", \"\\ub54c\", \"\\uc6b4\\ub3d9\", \"\\ubb34\\ub98e\", \"\\uc88b\", \"\\uc54c\", \"\\ub2e4\\ub9ac\", \"\\uc555\\ubc15\", \"\\ubb34\\ub98e\\ubcf4\\ud638\\ub300\", \"\\ud6a8\\uacfc\", \"\\ud788\", \"\\ub4f1\\uc0b0\", \"\\ub2ec\", \"\\ubaa8\\ub974\", \"\\ub4e4\", \"\\uadf8\\ub807\", \"\\uc624\", \"\\ubd84\", \"\\uc911\", \"\\uc218\", \"\\ub290\\ub07c\", \"\\uc8fc\", \"\\uc0ac\\uc6a9\", \"\\ube60\\ub974\", \"\\ubcf4\", \"\\uac83\", \"\\ubc30\\uc1a1\", \"\\uc0ac\\uc774\\uc988\", \"\\uac10\\uc0ac\", \"\\uc788\", \"\\ub4ef\", \"\\uc5c6\", \"\\ub4dc\\ub9ac\", \"\\ud1b5\\uc99d\", \"\\ub290\\ub07c\", \"\\ud6c4\", \"\\uad6c\\uc785\", \"\\uc0ac\\uc774\\uc988\", \"\\uc6b4\\ub3d9\", \"\\ud558\", \"\\uac70\", \"\\ucc29\\uc6a9\", \"\\uc788\", \"\\uc54c\", \"\\ub2e4\\ub9ac\", \"\\uc555\\ubc15\", \"\\ubb34\\ub98e\\ubcf4\\ud638\\ub300\", \"\\ud6a8\\uacfc\", \"\\ud788\", \"\\ub4f1\\uc0b0\", \"\\ub2ec\", \"\\ubaa8\\ub974\", \"\\ub4e4\", \"\\uadf8\\ub807\", \"\\uc624\", \"\\ubd84\", \"\\uc911\", \"\\uc218\", \"\\uc8fc\\ubb38\", \"\\ub4dc\\ub9ac\", \"\\ubd80\\ubd84\", \"\\ubc88\", \"\\ub4ef\", \"\\uac10\\uc0ac\", \"\\ubc30\\uc1a1\", \"\\ubcf4\", \"\\ube60\\ub974\", \"\\uc0ac\\uc6a9\", \"\\uc8fc\", \"\\uc81c\\ud488\", \"\\uc5c6\", \"\\uc0dd\\uac01\", \"\\ub54c\", \"\\ucd94\\ucc9c\", \"\\uc88b\", \"\\uc774\", \"\\ub4dc\\ub9ac\", \"\\uc120\\ubb3c\", \"\\uc544\\ud504\", \"\\ub54c\", \"\\ud558\", \"\\ub4f1\\uc0b0\", \"\\uc54a\", \"\\uc6b4\\ub3d9\", \"\\uc4f0\", \"\\uc9f1\\uc9f1\", \"\\uc88b\", \"\\ubb34\\ub98e\", \"\\uc8fc\", \"\\ubd80\\ubd84\", \"\\uc9c0\", \"\\ucc29\\uc6a9\", \"\\uc0ac\", \"\\uc218\", \"\\uc555\\ubc15\", \"\\uc5c6\", \"\\uc0ac\\uc6a9\", \"\\ubcf4\", \"\\uc7a1\", \"\\ub4ef\", \"\\ub370\", \"\\uc774\", \"\\uc2dc\", \"\\uac00\\uaca9\", \"\\uc788\", \"\\ube44\\uc2f8\", \"\\ub290\\ub08c\", \"\\uc81c\\ud488\", \"\\uadf8\\ub807\", \"\\ub4ef\", \"\\uc0ac\\uc774\\uc988\", \"\\ucd94\\ucc9c\", \"\\uac10\", \"\\uc0ac\", \"\\ud558\", \"\\uac19\", \"\\uac83\", \"\\ubb34\\ub98e\", \"\\uc6b4\\ub3d9\", \"\\ucc29\\uc6a9\", \"\\uc774\", \"\\ud6a8\\uacfc\", \"\\uc88b\", \"\\uac70\", \"\\uc54c\", \"\\ub2e4\\ub9ac\", \"\\uc555\\ubc15\", \"\\ubb34\\ub98e\\ubcf4\\ud638\\ub300\", \"\\ud788\", \"\\ub4f1\\uc0b0\", \"\\ub2ec\", \"\\ubaa8\\ub974\", \"\\ub4e4\", \"\\uc624\", \"\\ubd84\", \"\\uc911\", \"\\uc218\", \"\\ub290\\ub07c\", \"\\ub4dc\\ub9ac\", \"\\uc8fc\", \"\\uc0ac\\uc6a9\", \"\\ube60\\ub974\", \"\\ubcf4\", \"\\ubc30\\uc1a1\", \"\\uad6c\\uc785\", \"\\uac10\\uc0ac\", \"\\uc81c\\ud488\", \"\\uc788\", \"\\uc8fc\\ubb38\", \"\\ub2e4\\ub9ac\", \"\\ud558\\ub098\", \"\\ub290\\ub07c\", \"\\ubd84\", \"\\uac70\", \"\\ud6c4\", \"\\ub418\", \"\\ub9cc\\uc871\", \"\\uc544\\ud504\", \"\\ud558\", \"\\ubcf4\", \"\\uc774\", \"\\uc6b4\\ub3d9\", \"\\uc0ac\\uc6a9\", \"\\uc7a1\", \"\\ubb34\\ub98e\", \"\\uc8fc\", \"\\uc88b\", \"\\uc54c\", \"\\uc555\\ubc15\", \"\\ubb34\\ub98e\\ubcf4\\ud638\\ub300\", \"\\ud6a8\\uacfc\", \"\\ud788\", \"\\ub4f1\\uc0b0\", \"\\ub2ec\", \"\\ubaa8\\ub974\", \"\\ub4e4\", \"\\uadf8\\ub807\", \"\\uc624\", \"\\uc0ac\\uc774\\uc988\", \"\\ube60\\ub974\", \"\\uac19\", \"\\uac83\", \"\\ub4ef\", \"\\uc0ac\", \"\\ubc30\\uc1a1\", \"\\ucd94\\ucc9c\", \"\\ucc29\\uc6a9\", \"\\ucd94\\ucc9c\", \"\\uc2dc\", \"\\ub4f1\\uc0b0\", \"\\ubd84\", \"\\uc6b4\\ub3d9\", \"\\uc88b\", \"\\ubb34\\ub98e\", \"\\ubcf4\", \"\\ud558\", \"\\uc54c\", \"\\ub2e4\\ub9ac\", \"\\uc555\\ubc15\", \"\\ubb34\\ub98e\\ubcf4\\ud638\\ub300\", \"\\ud6a8\\uacfc\", \"\\ud788\", \"\\ub2ec\", \"\\ubaa8\\ub974\", \"\\ub4e4\", \"\\uadf8\\ub807\", \"\\uc624\", \"\\uc911\", \"\\uc218\", \"\\ub290\\ub07c\", \"\\uc8fc\\ubb38\", \"\\ub4dc\\ub9ac\", \"\\ubd80\\ubd84\", \"\\ubc88\", \"\\ub4ef\", \"\\uad1c\\ucc2e\", \"\\ub370\", \"\\uad6c\\uc785\", \"\\ubc30\\uc1a1\", \"\\uc81c\\ud488\", \"\\ube60\\ub974\", \"\\uc0ac\\uc6a9\", \"\\uc8fc\", \"\\uac10\\uc0ac\", \"\\uc0dd\\uac01\", \"\\uc788\", \"\\uc5c6\", \"\\uc120\\ubb3c\", \"\\ucc29\\uc6a9\", \"\\uc774\", \"\\uc0ac\\uc774\\uc988\", \"\\uc0ac\", \"\\ub4e4\", \"\\uadf8\\ub807\", \"\\uc0ac\\uc774\\uc988\", \"\\ubd88\\ud3b8\", \"\\ub098\", \"\\uc54a\", \"\\ub290\\ub08c\", \"\\uac83\", \"\\uac19\", \"\\uc88b\", \"\\ubcf4\", \"\\ub54c\", \"\\uc6b4\\ub3d9\", \"\\uc7a1\", \"\\uc788\", \"\\uc8fc\", \"\\uc774\", \"\\uc54c\", \"\\ub2e4\\ub9ac\", \"\\uc555\\ubc15\", \"\\ubb34\\ub98e\\ubcf4\\ud638\\ub300\", \"\\ud6a8\\uacfc\", \"\\ud788\", \"\\ub4f1\\uc0b0\", \"\\ub2ec\", \"\\ubaa8\\ub974\", \"\\uc624\", \"\\ubd84\", \"\\uc911\", \"\\uc218\", \"\\uc81c\\ud488\", \"\\uc0ac\\uc6a9\", \"\\ube60\\ub974\", \"\\ubc30\\uc1a1\", \"\\uad6c\\uc785\", \"\\uac10\\uc0ac\", \"\\uc5c6\", \"\\uc0dd\\uac01\", \"\\ubc88\", \"\\ub2e4\\ub9ac\", \"\\uc6b4\\ub3d9\", \"\\ub4ef\", \"\\uad1c\\ucc2e\", \"\\ub54c\", \"\\uc2dc\", \"\\ucd94\\ucc9c\", \"\\uc544\\ud504\", \"\\ub418\", \"\\uc0ac\\uc774\\uc988\", \"\\uc0ac\\uc6a9\", \"\\uc0ac\", \"\\uac19\", \"\\ubb34\\ub98e\", \"\\uc774\", \"\\uc54c\", \"\\uc555\\ubc15\", \"\\ubb34\\ub98e\\ubcf4\\ud638\\ub300\", \"\\ud6a8\\uacfc\", \"\\ud788\", \"\\ub4f1\\uc0b0\", \"\\ub2ec\", \"\\ubaa8\\ub974\", \"\\ub4e4\", \"\\uadf8\\ub807\", \"\\uc624\", \"\\ubd84\", \"\\uc911\", \"\\uc218\", \"\\ub290\\ub07c\", \"\\ubc30\\uc1a1\", \"\\ubcf4\", \"\\ube60\\ub974\", \"\\uac10\\uc0ac\", \"\\uc8fc\", \"\\uad6c\\uc785\", \"\\uc0dd\\uac01\", \"\\uc81c\\ud488\", \"\\uc788\", \"\\uc5c6\", \"\\ubc88\", \"\\uc54c\", \"\\ub2e4\\ub9ac\", \"\\uc555\\ubc15\", \"\\ubb34\\ub98e\\ubcf4\\ud638\\ub300\", \"\\ud6a8\\uacfc\", \"\\ud788\", \"\\ub4f1\\uc0b0\", \"\\ub2ec\", \"\\ubaa8\\ub974\", \"\\ub4e4\", \"\\uadf8\\ub807\", \"\\uc624\", \"\\ubd84\", \"\\uc911\", \"\\uc218\", \"\\ub290\\ub07c\", \"\\uc8fc\\ubb38\", \"\\ub4dc\\ub9ac\", \"\\ubd80\\ubd84\", \"\\ubc88\", \"\\ub4ef\", \"\\uad1c\\ucc2e\", \"\\ub370\", \"\\ud3b8\\ud558\", \"\\ubc1b\", \"\\uc120\\ubb3c\", \"\\uc9f1\\uc9f1\", \"\\ubd88\\ud3b8\", \"\\ubcf4\\ud638\\ub300\", \"\\uad6c\\uc785\", \"\\ubcf4\", \"\\uc788\", \"\\uc81c\\ud488\", \"\\uac10\\uc0ac\", \"\\ubc30\\uc1a1\", \"\\ube60\\ub974\", \"\\uc0ac\\uc6a9\", \"\\uc8fc\", \"\\ub54c\", \"\\uc5c6\", \"\\uc0dd\\uac01\", \"\\uc0ac\\uc774\\uc988\", \"\\uac19\", \"\\uac83\", \"\\ubb34\\ub98e\", \"\\uc0ac\", \"\\uc6b4\\ub3d9\", \"\\uc774\", \"\\uc88b\", \"\\uc54c\", \"\\ub2e4\\ub9ac\", \"\\uc555\\ubc15\", \"\\ubb34\\ub98e\\ubcf4\\ud638\\ub300\", \"\\ud6a8\\uacfc\", \"\\ud788\", \"\\ub4f1\\uc0b0\", \"\\ub2ec\", \"\\ubaa8\\ub974\", \"\\ub4e4\", \"\\uadf8\\ub807\", \"\\uc624\", \"\\ubd84\", \"\\uc911\", \"\\uc218\", \"\\ub290\\ub07c\", \"\\uc8fc\\ubb38\", \"\\ub4dc\\ub9ac\", \"\\ubd80\\ubd84\", \"\\ubc88\", \"\\ub4ef\", \"\\uad1c\\ucc2e\", \"\\ub370\", \"\\ud3b8\\ud558\", \"\\ubc1b\", \"\\uc120\\ubb3c\", \"\\uc9f1\\uc9f1\", \"\\ubd88\\ud3b8\", \"\\ubcf4\\ud638\\ub300\", \"\\uad6c\\uc785\", \"\\ubcf4\", \"\\uc788\", \"\\uc81c\\ud488\", \"\\uac10\\uc0ac\", \"\\ubc30\\uc1a1\", \"\\ube60\\ub974\", \"\\uc0ac\\uc6a9\", \"\\uc8fc\", \"\\ub54c\", \"\\uc5c6\", \"\\uc0dd\\uac01\", \"\\uc0ac\\uc774\\uc988\", \"\\uac19\", \"\\uac83\", \"\\ubb34\\ub98e\", \"\\uc0ac\", \"\\uc6b4\\ub3d9\", \"\\uc774\", \"\\uc88b\", \"\\ubb34\\ub98e\\ubcf4\\ud638\\ub300\", \"\\uc788\", \"\\uc5c6\", \"\\uc0ac\\uc6a9\", \"\\ub54c\", \"\\uc54c\", \"\\ub2e4\\ub9ac\", \"\\uc555\\ubc15\", \"\\ud6a8\\uacfc\", \"\\ud788\", \"\\ub4f1\\uc0b0\", \"\\ub2ec\", \"\\ubaa8\\ub974\", \"\\ub4e4\", \"\\uadf8\\ub807\", \"\\uc624\", \"\\ubd84\", \"\\uc911\", \"\\uc218\", \"\\ub290\\ub07c\", \"\\uc8fc\\ubb38\", \"\\ub4dc\\ub9ac\", \"\\ubd80\\ubd84\", \"\\ubc88\", \"\\ub4ef\", \"\\uad1c\\ucc2e\", \"\\ub370\", \"\\ud3b8\\ud558\", \"\\ubc1b\", \"\\uc120\\ubb3c\", \"\\ubc30\\uc1a1\", \"\\uc81c\\ud488\", \"\\uac10\\uc0ac\", \"\\uad6c\\uc785\", \"\\ubcf4\", \"\\ube60\\ub974\", \"\\uc8fc\", \"\\uc0dd\\uac01\", \"\\uc0ac\\uc774\\uc988\", \"\\uac19\", \"\\uac83\", \"\\ubb34\\ub98e\", \"\\uc0ac\", \"\\uc6b4\\ub3d9\", \"\\uc774\", \"\\uc88b\", \"\\uac10\\uc0ac\", \"\\ub370\", \"\\ubcf4\", \"\\uc0ac\\uc6a9\", \"\\uc774\", \"\\uc54c\", \"\\ub2e4\\ub9ac\", \"\\uc555\\ubc15\", \"\\ubb34\\ub98e\\ubcf4\\ud638\\ub300\", \"\\ud6a8\\uacfc\", \"\\ud788\", \"\\ub4f1\\uc0b0\", \"\\ub2ec\", \"\\ubaa8\\ub974\", \"\\ub4e4\", \"\\uadf8\\ub807\", \"\\uc624\", \"\\ubd84\", \"\\uc911\", \"\\uc218\", \"\\ub290\\ub07c\", \"\\uc8fc\\ubb38\", \"\\ub4dc\\ub9ac\", \"\\ubd80\\ubd84\", \"\\ubc88\", \"\\ub4ef\", \"\\uad1c\\ucc2e\", \"\\ud3b8\\ud558\", \"\\ubc1b\", \"\\uc120\\ubb3c\", \"\\uc788\", \"\\uc81c\\ud488\", \"\\uad6c\\uc785\", \"\\ubc30\\uc1a1\", \"\\ube60\\ub974\", \"\\uc8fc\", \"\\uc5c6\", \"\\uc0dd\\uac01\", \"\\ud558\", \"\\ucd94\\ucc9c\", \"\\ucc29\\uc6a9\", \"\\uc88b\", \"\\uc6b4\\ub3d9\", \"\\uc0ac\\uc774\\uc988\", \"\\uc0ac\", \"\\ubb34\\ub98e\", \"\\ubd80\\ubd84\", \"\\ub2ec\", \"\\ub4e4\", \"\\uc9c0\", \"\\uc0dd\\uac01\", \"\\ud1b5\\uc99d\", \"\\uc5c6\", \"\\uc6b4\\ub3d9\", \"\\uc7a1\", \"\\uc788\", \"\\uac70\", \"\\uac19\", \"\\uc8fc\", \"\\ubb34\\ub98e\", \"\\ubcf4\", \"\\uc0ac\\uc6a9\", \"\\ucc29\\uc6a9\", \"\\uc54c\", \"\\ub2e4\\ub9ac\", \"\\uc555\\ubc15\", \"\\ubb34\\ub98e\\ubcf4\\ud638\\ub300\", \"\\ud6a8\\uacfc\", \"\\ud788\", \"\\ub4f1\\uc0b0\", \"\\ubaa8\\ub974\", \"\\uadf8\\ub807\", \"\\uc624\", \"\\ubd84\", \"\\uc911\", \"\\uc218\", \"\\uc81c\\ud488\", \"\\ubc30\\uc1a1\", \"\\uad6c\\uc785\", \"\\ube60\\ub974\", \"\\uac10\\uc0ac\", \"\\ud558\", \"\\ucd94\\ucc9c\", \"\\ub9cc\\uc871\", \"\\uac70\", \"\\uac19\", \"\\ub2e4\\ub9ac\", \"\\uac83\", \"\\uac00\\uaca9\", \"\\uad6c\\ub9e4\", \"\\uc88b\", \"\\uc0ac\", \"\\uc788\", \"\\uc54c\", \"\\ubd80\\ubd84\", \"\\uc9c0\", \"\\uadf8\\ub807\", \"\\ud6a8\\uacfc\", \"\\uc0dd\\uac01\", \"\\uad1c\\ucc2e\", \"\\ub290\\ub07c\", \"\\ub2ec\", \"\\uc5c6\", \"\\uc218\", \"\\ub098\", \"\\uc0ac\\uc6a9\", \"\\uac10\", \"\\uc81c\\ud488\", \"\\uc54a\", \"\\uc555\\ubc15\", \"\\ubb34\\ub98e\\ubcf4\\ud638\\ub300\", \"\\ud788\", \"\\ub4f1\\uc0b0\", \"\\ubb34\\ub98e\", \"\\ucc29\\uc6a9\", \"\\ud558\", \"\\uc774\", \"\\uc7a1\", \"\\ubc88\", \"\\uac70\", \"\\uc7a1\", \"\\uac19\", \"\\uc8fc\", \"\\ubb34\\ub98e\", \"\\uc54c\", \"\\ub2e4\\ub9ac\", \"\\uc555\\ubc15\", \"\\ubb34\\ub98e\\ubcf4\\ud638\\ub300\", \"\\ud6a8\\uacfc\", \"\\ud788\", \"\\ub4f1\\uc0b0\", \"\\ub2ec\", \"\\ubaa8\\ub974\", \"\\ub4e4\", \"\\uadf8\\ub807\", \"\\uc624\", \"\\ubd84\", \"\\uc911\", \"\\uc218\", \"\\ub290\\ub07c\", \"\\uc8fc\\ubb38\", \"\\ub4dc\\ub9ac\", \"\\ubd80\\ubd84\", \"\\ub4ef\", \"\\uad1c\\ucc2e\", \"\\ub370\", \"\\ud3b8\\ud558\", \"\\ubc1b\", \"\\ubcf4\", \"\\uac10\\uc0ac\", \"\\uad6c\\uc785\", \"\\ubc30\\uc1a1\", \"\\uc0ac\\uc6a9\", \"\\ube60\\ub974\", \"\\uc788\", \"\\uc81c\\ud488\", \"\\uc5c6\", \"\\uc120\\ubb3c\", \"\\uc0dd\\uac01\", \"\\ud558\", \"\\ucd94\\ucc9c\", \"\\ucc29\\uc6a9\", \"\\uc88b\", \"\\uc774\", \"\\uc6b4\\ub3d9\", \"\\ud3b8\\ud558\", \"\\uac70\", \"\\uac19\", \"\\uc8fc\", \"\\uc7a1\", \"\\uc0ac\\uc6a9\", \"\\uc88b\", \"\\uc54c\", \"\\ub2e4\\ub9ac\", \"\\uc555\\ubc15\", \"\\ubb34\\ub98e\\ubcf4\\ud638\\ub300\", \"\\ud6a8\\uacfc\", \"\\ud788\", \"\\ub4f1\\uc0b0\", \"\\ub2ec\", \"\\ubaa8\\ub974\", \"\\ub4e4\", \"\\uadf8\\ub807\", \"\\uc624\", \"\\ubd84\", \"\\uc911\", \"\\uc218\", \"\\ub290\\ub07c\", \"\\uc8fc\\ubb38\", \"\\ub4dc\\ub9ac\", \"\\ubd80\\ubd84\", \"\\ubc88\", \"\\ub4ef\", \"\\uad1c\\ucc2e\", \"\\ub370\", \"\\uc81c\\ud488\", \"\\uac10\\uc0ac\", \"\\uad6c\\uc785\", \"\\ubc30\\uc1a1\", \"\\ubcf4\", \"\\uc5c6\", \"\\ube60\\ub974\", \"\\uc788\", \"\\ub54c\", \"\\uc0dd\\uac01\", \"\\ud558\", \"\\ucd94\\ucc9c\", \"\\ucc29\\uc6a9\", \"\\uc774\", \"\\uc6b4\\ub3d9\", \"\\uc0ac\\uc774\\uc988\", \"\\uac70\", \"\\uc4f0\", \"\\uc81c\\ud488\", \"\\uac10\", \"\\ud558\", \"\\uc788\", \"\\uc88b\", \"\\ucc29\\uc6a9\", \"\\uc8fc\", \"\\uc54c\", \"\\ub2e4\\ub9ac\", \"\\uc555\\ubc15\", \"\\ubb34\\ub98e\\ubcf4\\ud638\\ub300\", \"\\ud6a8\\uacfc\", \"\\ud788\", \"\\ub4f1\\uc0b0\", \"\\ub2ec\", \"\\ubaa8\\ub974\", \"\\ub4e4\", \"\\uadf8\\ub807\", \"\\uc624\", \"\\ubd84\", \"\\uc911\", \"\\uc218\", \"\\ub290\\ub07c\", \"\\uc8fc\\ubb38\", \"\\ub4dc\\ub9ac\", \"\\ubd80\\ubd84\", \"\\ubc88\", \"\\ub4ef\", \"\\ube60\\ub974\", \"\\uc0ac\\uc6a9\", \"\\ubc30\\uc1a1\", \"\\uad6c\\uc785\", \"\\uac10\\uc0ac\", \"\\ubcf4\", \"\\uc5c6\", \"\\uc120\\ubb3c\", \"\\uc0dd\\uac01\", \"\\ucd94\\ucc9c\", \"\\uc774\", \"\\uc6b4\\ub3d9\", \"\\uc0ac\\uc774\\uc988\", \"\\uc0ac\", \"\\uc911\", \"\\uc218\", \"\\ud1b5\\uc99d\", \"\\ube44\\uc2f8\", \"\\ub54c\", \"\\ud6c4\", \"\\ub9cc\\uc871\", \"\\ucc29\\uc6a9\", \"\\uc544\\ud504\", \"\\ud558\", \"\\ubb34\\ub98e\", \"\\ubcf4\", \"\\uc0ac\\uc6a9\", \"\\uc7a1\", \"\\uc788\", \"\\uad6c\\uc785\", \"\\ucd94\\ucc9c\", \"\\uc8fc\", \"\\uc774\", \"\\uc88b\", \"\\uc54c\", \"\\ub2e4\\ub9ac\", \"\\uc555\\ubc15\", \"\\ubb34\\ub98e\\ubcf4\\ud638\\ub300\", \"\\ud6a8\\uacfc\", \"\\ud788\", \"\\ub4f1\\uc0b0\", \"\\ub2ec\", \"\\ubaa8\\ub974\", \"\\ub4e4\", \"\\uadf8\\ub807\", \"\\ubc30\\uc1a1\", \"\\uac19\", \"\\uc0ac\\uc774\\uc988\", \"\\ube60\\ub974\", \"\\uc6b4\\ub3d9\", \"\\ubd84\", \"\\uac83\", \"\\uc9c0\", \"\\ud1b5\\uc99d\", \"\\uc555\\ubc15\", \"\\ubb34\\ub98e\\ubcf4\\ud638\\ub300\", \"\\ub098\", \"\\uc5c6\", \"\\ub290\\ub08c\", \"\\uc774\", \"\\uc54a\", \"\\ubb34\\ub98e\", \"\\uac19\", \"\\uc81c\\ud488\", \"\\uac83\", \"\\uc8fc\", \"\\uc7a1\", \"\\uc88b\", \"\\ucc29\\uc6a9\", \"\\uc54c\", \"\\ub2e4\\ub9ac\", \"\\ud6a8\\uacfc\", \"\\ud788\", \"\\ub4f1\\uc0b0\", \"\\ub2ec\", \"\\ubaa8\\ub974\", \"\\ub4e4\", \"\\uadf8\\ub807\", \"\\uc624\", \"\\ubd84\", \"\\uc911\", \"\\uc218\", \"\\ubc30\\uc1a1\", \"\\uad6c\\uc785\", \"\\ube60\\ub974\", \"\\ubcf4\", \"\\uc0ac\\uc6a9\", \"\\uac10\\uc0ac\", \"\\uc788\", \"\\uc0dd\\uac01\", \"\\uc54c\", \"\\ub2e4\\ub9ac\", \"\\uc555\\ubc15\", \"\\ubb34\\ub98e\\ubcf4\\ud638\\ub300\", \"\\ud6a8\\uacfc\", \"\\ud788\", \"\\ub4f1\\uc0b0\", \"\\ub2ec\", \"\\ubaa8\\ub974\", \"\\ub4e4\", \"\\uadf8\\ub807\", \"\\uc624\", \"\\ubd84\", \"\\uc911\", \"\\uc218\", \"\\ub290\\ub07c\", \"\\uc8fc\\ubb38\", \"\\ub4dc\\ub9ac\", \"\\ubd80\\ubd84\", \"\\ubc88\", \"\\ub4ef\", \"\\uad1c\\ucc2e\", \"\\ub370\", \"\\ud3b8\\ud558\", \"\\ubc1b\", \"\\uc120\\ubb3c\", \"\\uc9f1\\uc9f1\", \"\\ubd88\\ud3b8\", \"\\ubcf4\\ud638\\ub300\", \"\\uad6c\\uc785\", \"\\ubcf4\", \"\\uc788\", \"\\uc81c\\ud488\", \"\\uac10\\uc0ac\", \"\\ubc30\\uc1a1\", \"\\ube60\\ub974\", \"\\uc0ac\\uc6a9\", \"\\uc8fc\", \"\\ub54c\", \"\\uc5c6\", \"\\uc0dd\\uac01\", \"\\uc0ac\\uc774\\uc988\", \"\\uac19\", \"\\uac83\", \"\\ubb34\\ub98e\", \"\\uc0ac\", \"\\uc6b4\\ub3d9\", \"\\uc774\", \"\\uc88b\", \"\\ub370\", \"\\ub4ef\", \"\\uc54c\", \"\\ud6a8\\uacfc\", \"\\ubaa8\\ub974\", \"\\uc5c6\", \"\\uc0ac\\uc774\\uc988\", \"\\uac70\", \"\\ucc29\\uc6a9\", \"\\ubcf4\", \"\\uc774\", \"\\uc88b\", \"\\uc788\", \"\\ub2e4\\ub9ac\", \"\\uc555\\ubc15\", \"\\ubb34\\ub98e\\ubcf4\\ud638\\ub300\", \"\\ud788\", \"\\ub4f1\\uc0b0\", \"\\ub2ec\", \"\\ub4e4\", \"\\uadf8\\ub807\", \"\\uc624\", \"\\ubd84\", \"\\uc911\", \"\\uc218\", \"\\ub290\\ub07c\", \"\\uc8fc\\ubb38\", \"\\ub4dc\\ub9ac\", \"\\ubd80\\ubd84\", \"\\ubc88\", \"\\uc0ac\\uc6a9\", \"\\ube60\\ub974\", \"\\uc8fc\", \"\\ubc30\\uc1a1\", \"\\uad6c\\uc785\", \"\\uac10\\uc0ac\", \"\\uc81c\\ud488\", \"\\uc0dd\\uac01\", \"\\ub54c\", \"\\ud558\", \"\\ucd94\\ucc9c\", \"\\ub098\", \"\\ub290\\ub07c\", \"\\uc54a\", \"\\ube60\\ub974\", \"\\ubc30\\uc1a1\", \"\\uac83\", \"\\uac19\", \"\\ubcf4\", \"\\uc0ac\\uc6a9\", \"\\uc788\", \"\\uc88b\", \"\\uc54c\", \"\\ub2e4\\ub9ac\", \"\\uc555\\ubc15\", \"\\ubb34\\ub98e\\ubcf4\\ud638\\ub300\", \"\\ud6a8\\uacfc\", \"\\ud788\", \"\\ub4f1\\uc0b0\", \"\\ub2ec\", \"\\ubaa8\\ub974\", \"\\ub4e4\", \"\\uadf8\\ub807\", \"\\uc624\", \"\\ubd84\", \"\\uc911\", \"\\uc218\", \"\\uc8fc\\ubb38\", \"\\ub4dc\\ub9ac\", \"\\ubd80\\ubd84\", \"\\ubc88\", \"\\uad6c\\uc785\", \"\\uc81c\\ud488\", \"\\uac10\\uc0ac\", \"\\uc5c6\", \"\\uc8fc\", \"\\uc0dd\\uac01\", \"\\ub54c\", \"\\ud558\", \"\\ucd94\\ucc9c\", \"\\ucc29\\uc6a9\", \"\\uc774\", \"\\uc6b4\\ub3d9\"], \"Freq\": [184.0, 142.0, 132.0, 156.0, 93.0, 102.0, 80.0, 96.0, 52.0, 75.0, 80.0, 132.0, 38.0, 55.0, 53.0, 67.0, 51.0, 52.0, 47.0, 51.0, 40.0, 45.0, 38.0, 30.0, 32.0, 31.0, 28.0, 29.0, 19.0, 28.0, 4.489305019839983, 10.310408111944392, 5.300288679505126, 5.058105346438195, 1.6164218940635418, 0.7963568174903142, 0.17208391494764969, 1.8746599679265854, 0.13587273916650627, 0.1615150630830578, 0.0842334214027689, 0.009876356355680443, 0.009876356355680443, 0.09530156109330645, 0.009876356355680443, 0.009876356355680443, 0.009876356355680443, 0.009876356355680443, 0.009876356355680443, 0.009876356355680443, 0.009876356355680443, 0.009876356355680443, 0.009876356355680443, 0.009876356355680443, 0.009876356355680443, 0.009876356355680443, 0.009876356355680443, 0.009876356355680443, 0.009876356355680443, 0.009876356355680443, 0.08384905487982341, 0.009876356355680443, 0.009876356355680443, 0.009876356355680443, 0.009876356355680443, 0.009876356355680443, 0.009876356355680443, 0.009876356355680443, 0.009876356355680443, 0.009876356355680443, 0.009876356355680443, 0.009876356355680443, 0.009876356355680443, 2.3116383661189204, 2.0330275257231785, 1.8240346823736184, 1.9215512076417063, 2.1778152333608274, 0.0054928105760485985, 0.0054928105760485985, 0.0054928105760485985, 0.0054928105760485985, 0.0054928105760485985, 0.0054928105760485985, 0.0054928105760485985, 0.0054928105760485985, 0.0054928105760485985, 0.0054928105760485985, 0.0054928105760485985, 0.0054928105760485985, 0.0054928105760485985, 0.0054928105760485985, 0.0054928105760485985, 0.0054928105760485985, 0.0054928105760485985, 0.0054928105760485985, 0.0054928105760485985, 0.0054928105760485985, 0.0054928105760485985, 0.0054928105760485985, 0.0054928105760485985, 0.0054928105760485985, 0.0054928105760485985, 0.0054928105760485985, 0.0054928105760485985, 0.0054928105760485985, 0.0054928105760485985, 0.0054928105760485985, 0.0054928105760485985, 0.0054928105760485985, 0.0054928105760485985, 0.0054928105760485985, 0.0054928105760485985, 0.0054928105760485985, 0.0054928105760485985, 0.0054928105760485985, 0.0054928105760485985, 0.0054928105760485985, 0.0054928105760485985, 0.0054928105760485985, 0.8520788466601458, 0.8520940288494312, 0.852093349049911, 0.8520938777828712, 1.6992309595972483, 0.8520943309825513, 1.1617342505928867, 1.6992303553310082, 0.8520938022495911, 0.852093349049911, 1.6992318659966086, 0.8520938777828712, 0.8520924426505506, 0.8520929713835108, 0.8520942554492713, 1.6992306574641283, 1.2322139009864301, 0.8520938022495911, 0.21070168971760686, 0.20280026659389905, 0.2031703985493515, 0.0049624196572334725, 0.0049624196572334725, 0.0049624196572334725, 0.0049624196572334725, 0.0049624196572334725, 0.0049624196572334725, 0.0049624196572334725, 0.0049624196572334725, 0.0049624196572334725, 0.0049624196572334725, 0.0049624196572334725, 0.0049624196572334725, 0.0049624196572334725, 0.0049624196572334725, 0.0049624196572334725, 0.0049624196572334725, 4.1208260200003615, 2.9157369520125562, 1.5189745221843525, 3.1138979819311863, 2.8795336157708595, 1.4463156564413886, 2.9432061406989294, 1.4223837989246098, 5.382733425847013, 2.8323741810753758, 2.9478617776975753, 1.441882327307663, 1.4398439178423805, 1.429950442524783, 1.5189753679974085, 0.008846194106900804, 0.008846194106900804, 0.008846194106900804, 0.008846194106900804, 0.008846194106900804, 0.008846194106900804, 0.008846194106900804, 0.008846194106900804, 0.008846194106900804, 0.008846194106900804, 0.008846194106900804, 0.008846194106900804, 0.008846194106900804, 0.008846194106900804, 0.008846194106900804, 0.008846194106900804, 0.008846194106900804, 0.008846194106900804, 0.008846194106900804, 0.008846194106900804, 0.008846194106900804, 0.008846194106900804, 0.008846194106900804, 0.008846194106900804, 0.008846194106900804, 8.35787791021155, 7.724759434131362, 4.11233233880077, 1.6392917807583953, 1.6039543123038231, 0.007860535870428804, 0.007860535870428804, 0.007860535870428804, 0.007860535870428804, 0.007860535870428804, 0.007860535870428804, 0.007860535870428804, 0.007860535870428804, 0.007860535870428804, 0.007860535870428804, 0.007860535870428804, 0.007860535870428804, 0.007860535870428804, 0.007860535870428804, 0.007860535870428804, 0.007860535870428804, 0.007860535870428804, 0.007860535870428804, 0.007860535870428804, 0.007860535870428804, 0.007860535870428804, 0.007860535870428804, 0.007860535870428804, 0.007860535870428804, 0.007860535870428804, 0.007860535870428804, 0.007860535870428804, 0.007860535870428804, 0.007860535870428804, 0.007860535870428804, 0.007860535870428804, 0.007860535870428804, 0.007860535870428804, 0.007860535870428804, 0.007860535870428804, 0.007860535870428804, 0.007860535870428804, 0.007860535870428804, 0.007860535870428804, 0.007860535870428804, 0.007860535870428804, 0.007860535870428804, 0.10473318068665133, 0.07214739864371712, 0.07275937277402991, 0.11696199829251293, 0.07035615440058404, 0.09019259024918552, 0.07297367912041289, 0.09869227287874506, 0.07183750654764716, 0.07762304502303725, 0.022207849276640965, 0.022207849276640965, 0.0683375268798154, 0.07666798603388914, 0.022207849276640965, 0.19921910084068564, 0.022207849276640965, 0.022207849276640965, 0.022207849276640965, 0.12018964307335525, 0.022207849276640965, 0.022207849276640965, 0.022207849276640965, 0.022207849276640965, 0.12313922121315014, 0.022207849276640965, 0.022207849276640965, 0.022207849276640965, 0.022207849276640965, 0.022207849276640965, 0.12854442936678973, 0.06676967337570877, 0.06865450709922429, 0.06996076181673833, 0.056118892982022536, 0.022207849276640965, 0.022207849276640965, 0.022207849276640965, 0.022207849276640965, 0.022207849276640965, 0.022207849276640965, 0.022207849276640965, 0.022207849276640965, 8.457264602941684, 0.953241055765635, 5.225772358880146, 7.852894643643191, 10.679881221070403, 7.58684760395877, 0.9532406682357164, 3.192786724621346, 0.9532405713532368, 1.0288141371248063, 0.9532412495305942, 1.0288148153021637, 1.1042087609564843, 1.6178129159688872, 0.05040071219031784, 0.04253663415984383, 0.0381507612790524, 0.005551478103626616, 0.005551478103626616, 0.005551478103626616, 0.005551478103626616, 0.005551478103626616, 0.005551478103626616, 0.005551478103626616, 0.005551478103626616, 0.005551478103626616, 0.005551478103626616, 0.005551478103626616, 0.005551478103626616, 0.005551478103626616, 0.005551478103626616, 0.005551478103626616, 0.005551478103626616, 0.005551478103626616, 0.005551478103626616, 0.005551478103626616, 0.005551478103626616, 0.005551478103626616, 1.965574014901935, 0.9792800598288176, 1.9541279861771528, 0.9791210366894628, 0.9922757275812931, 0.9797464355591031, 0.970799383450569, 1.964363664036159, 0.9745838577317486, 0.9793611718143532, 2.9390263786220068, 3.905734007946641, 0.9922758003274684, 0.9723719375235033, 0.9802718084376122, 0.9781034631884125, 1.1615364361957288, 1.9532858764510905, 1.9671872340869, 0.9922744181501365, 2.308475770334427, 2.9376174306974754, 2.3048711973449327, 0.17503408151672545, 0.17503295395100724, 0.9801889505438678, 0.17503399058400623, 0.1750337541589363, 0.005778830002101348, 0.005778830002101348, 0.005778830002101348, 0.005778830002101348, 5.15798894305394, 1.935039393023097, 5.447691577031139, 2.143150259558948, 2.1431501076563104, 1.1752299957925294, 4.341751665491337, 1.1752293881819798, 1.6127209842527952, 3.3115473709151626, 1.1752302995978043, 3.1105036226825242, 1.4806705025193703, 1.1752292362793424, 2.553804457164023, 1.2991418380183983, 1.1752284767661552, 0.006844293748472196, 0.006844293748472196, 0.006844293748472196, 0.006844293748472196, 0.006844293748472196, 0.006844293748472196, 0.006844293748472196, 0.006844293748472196, 0.006844293748472196, 0.006844293748472196, 0.006844293748472196, 0.006844293748472196, 0.006844293748472196, 0.006844293748472196, 0.006844293748472196, 0.006844293748472196, 0.006844293748472196, 0.006844293748472196, 0.006844293748472196, 0.006844293748472196, 0.006844293748472196, 0.006844293748472196, 0.04194673455432897, 0.04194673455432897, 0.04194673455432897, 0.04194673455432897, 0.04194673455432897, 0.04194673455432897, 0.04194673455432897, 0.04194673455432897, 0.04194673455432897, 0.04194673455432897, 0.04194673455432897, 0.04194673455432897, 0.04194673455432897, 0.04194673455432897, 0.04194673455432897, 0.04194673455432897, 0.04194673455432897, 0.04194673455432897, 0.04194673455432897, 0.04194673455432897, 0.04194673455432897, 0.04194673455432897, 0.04194673455432897, 0.04194673455432897, 0.04194673455432897, 0.04194673455432897, 0.04194673455432897, 0.04194673455432897, 0.04194673455432897, 0.04194673455432897, 0.04194673455432897, 0.04194673455432897, 0.04194673455432897, 0.04194673455432897, 0.04194673455432897, 0.04194673455432897, 0.04194673455432897, 0.04194673455432897, 0.04194673455432897, 0.04194673455432897, 0.04194673455432897, 0.04194673455432897, 0.04194673455432897, 0.04194673455432897, 0.04194673455432897, 0.04194673455432897, 0.04194673455432897, 0.04194673455432897, 0.04194673455432897, 1.8000522685136222, 0.9870883773631287, 1.8000520222003942, 0.987087576845137, 0.9870883773631287, 0.9870892394594273, 0.9870886852546639, 0.9870886852546639, 1.9684358091601901, 3.762755753070732, 0.987087638423444, 2.1368086351813314, 2.2380551950028837, 1.1554633586250167, 0.9870878231583652, 0.9870878231583652, 2.238055441316112, 1.1554607723361208, 0.9870885620980498, 1.9684342081242068, 1.3653839305076139, 1.155462373372104, 0.17411731233986394, 0.005748605811247937, 0.005748605811247937, 0.005748605811247937, 0.005748605811247937, 0.005748605811247937, 0.005748605811247937, 0.005748605811247937, 0.005748605811247937, 0.005748605811247937, 0.005748605811247937, 0.005748605811247937, 0.005748605811247937, 0.005748605811247937, 0.005748605811247937, 1.1956664601139728, 1.1956662147165684, 1.195666705511377, 1.1956666237122424, 1.3996159156515626, 1.1956667873105118, 3.7417149182481446, 5.19614181654002, 1.1956666237122424, 1.1956660511182988, 1.2802978899304, 0.3427952455550662, 0.41485776796831314, 0.21090937581947528, 0.2109102960597415, 0.21091074595498274, 0.2109099688632024, 0.006963309194476839, 0.006963309194476839, 0.006963309194476839, 0.006963309194476839, 0.006963309194476839, 0.006963309194476839, 0.006963309194476839, 0.006963309194476839, 0.006963309194476839, 0.006963309194476839, 0.006963309194476839, 0.006963309194476839, 0.006963309194476839, 0.006963309194476839, 0.006963309194476839, 0.006963309194476839, 0.006963309194476839, 0.006963309194476839, 0.006963309194476839, 0.006963309194476839, 0.006963309194476839, 0.006963309194476839, 0.6333511399793891, 0.6333507862291687, 0.63334993722864, 0.6333493004782433, 0.633350007978684, 2.5223528370340493, 0.6333511399793891, 1.2630176176638057, 1.2630186081644228, 1.2630181836641583, 0.6333512107294331, 0.6333512107294331, 0.6333507862291687, 0.6333508569792128, 0.6818210754186306, 1.3102015295520544, 1.2630179006639821, 0.6333509984793009, 0.68490924409208, 0.6333508569792128, 0.10880017832811242, 0.0915410234533396, 0.6333511399793891, 0.04897976467866093, 0.049203830068218865, 0.0036885101577204967, 0.0036885101577204967, 0.0036885101577204967, 0.0036885101577204967, 0.0036885101577204967, 0.046086512376614125, 0.0036885101577204967, 0.0036885101577204967, 0.0036885101577204967, 0.0036885101577204967, 2.987892858695792, 1.0603719499863231, 1.060371669955167, 1.0603714832677296, 3.3897495158090036, 2.1145772405387047, 1.1432938425169337, 1.060371296580292, 2.155003845056802, 1.0603721366737606, 1.108172614940089, 1.2412463140117462, 1.2412476208238084, 0.18704548062193407, 1.241246687386621, 1.0603713899240108, 0.04304187090848876, 0.18704529393449662, 0.07763292658190578, 0.187045410614145, 0.18704579565698476, 0.18704464052846553, 0.042317681168697135, 0.28385309140656717, 0.2730197360908279, 0.03878895022985828, 0.04643310071566119, 0.03730481135502918, 0.00617539728111201, 0.00617539728111201, 0.04129589998564086, 0.00617539728111201, 1.6331186838781013, 0.5845399122827646, 1.6795054706167645, 1.1656836934425738, 1.4827809398744358, 0.5845405189680913, 0.584539492269846, 0.5845407989767036, 1.6954346005559726, 1.9266866199420192, 0.5845411256534181, 1.2912601825201717, 1.1982980699105314, 2.0124876056270837, 0.17260579057836822, 1.194210690859895, 1.2513345011752162, 0.5845398189465604, 1.989395108694401, 0.6103664133064052, 0.10311133977385369, 0.2912347876355857, 0.29123460096317744, 0.7221018900032722, 0.03460892448180877, 0.3902569399698483, 0.033634021996307155, 0.02510856185833878, 0.030475037750715413, 0.024774777008639014, 0.03473354873159793, 0.030538016354442508, 0.03572780681242805, 0.04194673455432897, 0.04194673455432897, 0.04194673455432897, 0.04194673455432897, 0.04194673455432897, 0.04194673455432897, 0.04194673455432897, 0.04194673455432897, 0.04194673455432897, 0.04194673455432897, 0.04194673455432897, 0.04194673455432897, 0.04194673455432897, 0.04194673455432897, 0.04194673455432897, 0.04194673455432897, 0.04194673455432897, 0.04194673455432897, 0.04194673455432897, 0.04194673455432897, 0.04194673455432897, 0.04194673455432897, 0.04194673455432897, 0.04194673455432897, 0.04194673455432897, 0.04194673455432897, 0.04194673455432897, 0.04194673455432897, 0.04194673455432897, 0.04194673455432897, 0.04194673455432897, 0.04194673455432897, 0.04194673455432897, 0.04194673455432897, 0.04194673455432897, 0.04194673455432897, 0.04194673455432897, 0.04194673455432897, 0.04194673455432897, 0.04194673455432897, 0.04194673455432897, 0.04194673455432897, 0.04194673455432897, 0.04194673455432897, 0.04194673455432897, 0.04194673455432897, 0.04194673455432897, 0.04194673455432897, 0.04194673455432897, 3.917887285338098, 0.8356266635662455, 2.00776951293954, 1.0199069808248096, 1.9217560124911766, 1.7846186783645288, 0.8356257778361725, 0.8356259676354738, 0.8356266002998117, 1.330784128009937, 0.8834846839327546, 0.27072918567099136, 0.10996641743528283, 0.12102521607750968, 0.004866507467488442, 0.004866507467488442, 0.004866507467488442, 0.004866507467488442, 0.004866507467488442, 0.004866507467488442, 0.004866507467488442, 0.004866507467488442, 0.004866507467488442, 0.004866507467488442, 0.004866507467488442, 0.004866507467488442, 0.004866507467488442, 0.004866507467488442, 0.004866507467488442, 0.004866507467488442, 0.004866507467488442, 0.004866507467488442, 0.004866507467488442, 0.004866507467488442, 0.004866507467488442, 0.004866507467488442, 0.004866507467488442, 0.004866507467488442, 0.004866507467488442, 0.004866507467488442, 0.004866507467488442, 0.3478803461818252, 0.3002041628503332, 0.29471537390898883, 0.349554652797559, 0.021067826365271377, 0.021067826365271377, 0.021067826365271377, 0.021067826365271377, 0.2745079218389811, 0.021067826365271377, 0.021067826365271377, 0.021067826365271377, 0.021067826365271377, 0.021067826365271377, 0.021067826365271377, 0.021067826365271377, 0.021067826365271377, 0.021067826365271377, 0.021067826365271377, 0.021067826365271377, 0.021067826365271377, 0.021067826365271377, 0.021067826365271377, 0.021067826365271377, 0.021067826365271377, 0.021067826365271377, 0.021067826365271377, 0.021067826365271377, 0.021067826365271377, 0.021067826365271377, 0.021067826365271377, 0.021067826365271377, 0.021067826365271377, 0.021067826365271377, 0.021067826365271377, 0.021067826365271377, 0.021067826365271377, 0.021067826365271377, 0.021067826365271377, 0.021067826365271377, 0.021067826365271377, 0.021067826365271377, 0.021067826365271377, 0.021067826365271377, 0.021067826365271377, 0.021067826365271377, 0.021067826365271377, 0.04194673455432897, 0.04194673455432897, 0.04194673455432897, 0.04194673455432897, 0.04194673455432897, 0.04194673455432897, 0.04194673455432897, 0.04194673455432897, 0.04194673455432897, 0.04194673455432897, 0.04194673455432897, 0.04194673455432897, 0.04194673455432897, 0.04194673455432897, 0.04194673455432897, 0.04194673455432897, 0.04194673455432897, 0.04194673455432897, 0.04194673455432897, 0.04194673455432897, 0.04194673455432897, 0.04194673455432897, 0.04194673455432897, 0.04194673455432897, 0.04194673455432897, 0.04194673455432897, 0.04194673455432897, 0.04194673455432897, 0.04194673455432897, 0.04194673455432897, 0.04194673455432897, 0.04194673455432897, 0.04194673455432897, 0.04194673455432897, 0.04194673455432897, 0.04194673455432897, 0.04194673455432897, 0.04194673455432897, 0.04194673455432897, 0.04194673455432897, 0.04194673455432897, 0.04194673455432897, 0.04194673455432897, 0.04194673455432897, 0.04194673455432897, 0.04194673455432897, 0.04194673455432897, 0.04194673455432897, 0.04194673455432897, 7.249298841243896, 11.551443572484255, 3.225567751045069, 2.2629995121240176, 6.767911096045892, 3.5030813350239347, 1.2647429324158692, 1.9937868831684802, 1.981027183927032, 1.985721327684618, 1.13170939104243, 0.7934526243581967, 6.617313048919812, 11.73306214870019, 1.282894461513793, 2.232442745096966, 1.1318536498730287, 11.676342890716466, 5.025108246058411, 0.8782321543977468, 1.0327068596579774, 5.2114284570491005, 4.468264619937896, 2.2559874660544867, 1.382336919906428, 2.0805991461164512, 1.2141573419886922, 0.37285079471349025, 0.49403360367856386, 3.0011193976759807, 1.6159356642454998, 3.9872123815087734, 2.381269734164306, 1.381987793106333, 4.106638141377366, 1.3742120540839966, 1.3742117607226523, 2.7404244376676563, 1.374210880638619, 1.374210880638619, 1.3742114673613077, 1.3742105872772745, 1.374210880638619, 1.3742114673613077, 1.374210880638619, 0.008003103744820555, 0.008003103744820555, 0.008003103744820555, 0.008003103744820555, 0.008003103744820555, 0.008003103744820555, 0.008003103744820555, 0.008003103744820555, 0.008003103744820555, 0.008003103744820555, 0.008003103744820555, 0.008003103744820555, 0.008003103744820555, 0.008003103744820555, 0.008003103744820555, 0.008003103744820555, 0.008003103744820555, 0.008003103744820555, 0.008003103744820555, 0.008003103744820555, 0.008003103744820555, 0.008003103744820555, 0.008003103744820555, 0.008003103744820555, 0.008003103744820555, 0.008003103744820555, 0.008003103744820555, 0.008003103744820555, 0.008003103744820555, 0.008003103744820555, 0.008003103744820555, 0.008003103744820555, 3.1535063338930405, 3.153533857516192, 3.153534413548983, 4.872759445496208, 1.7292863062912798, 4.8727611135945805, 5.592821909777364, 3.1535327454506104, 1.729287279348664, 1.7292876963732573, 1.729286862324071, 1.8610204830577377, 0.010070990799876726, 0.010070990799876726, 0.010070990799876726, 0.010070990799876726, 0.010070990799876726, 0.010070990799876726, 0.010070990799876726, 0.010070990799876726, 0.010070990799876726, 0.010070990799876726, 0.010070990799876726, 0.010070990799876726, 0.010070990799876726, 0.010070990799876726, 0.010070990799876726, 0.010070990799876726, 0.010070990799876726, 0.010070990799876726, 0.010070990799876726, 0.010070990799876726, 0.010070990799876726, 0.010070990799876726, 0.010070990799876726, 0.010070990799876726, 0.010070990799876726, 0.010070990799876726, 0.010070990799876726, 0.010070990799876726, 0.010070990799876726, 0.010070990799876726, 4.098787374605185, 3.1237287054325193, 3.1613325238960717, 2.067486017279812, 4.60244806047072, 4.09560743912599, 6.994027400754692, 1.095208890466378, 4.208981511283938, 1.089705838537524, 1.1800143562847658, 1.1010178600633014, 0.00687214430023428, 0.00687214430023428, 0.00687214430023428, 0.00687214430023428, 0.00687214430023428, 0.00687214430023428, 0.00687214430023428, 0.00687214430023428, 0.00687214430023428, 0.00687214430023428, 0.00687214430023428, 0.00687214430023428, 0.00687214430023428, 0.00687214430023428, 0.00687214430023428, 0.00687214430023428, 0.00687214430023428, 0.00687214430023428, 0.00687214430023428, 0.00687214430023428, 0.00687214430023428, 0.00687214430023428, 0.00687214430023428, 0.00687214430023428, 0.00687214430023428, 0.00687214430023428, 0.00687214430023428, 0.00687214430023428, 0.00687214430023428, 0.00687214430023428, 0.00687214430023428, 12.355782872208382, 1.4929423584357573, 1.4929420838173277, 5.109800951799587, 6.543615628101385, 3.0124570707310414, 4.819120090328842, 1.492943044981831, 0.008694565369886768, 0.008694565369886768, 0.008694565369886768, 0.008694565369886768, 0.008694565369886768, 0.008694565369886768, 0.008694565369886768, 0.008694565369886768, 0.008694565369886768, 0.008694565369886768, 0.008694565369886768, 0.008694565369886768, 0.008694565369886768, 0.008694565369886768, 0.008694565369886768, 0.008694565369886768, 0.008694565369886768, 0.008694565369886768, 0.008694565369886768, 0.008694565369886768, 0.008694565369886768, 0.008694565369886768, 0.008694565369886768, 0.008694565369886768, 0.008694565369886768, 0.008694565369886768, 0.008694565369886768, 0.008694565369886768, 0.008694565369886768, 0.008694565369886768, 0.008694565369886768, 0.008694565369886768, 0.008694565369886768, 0.008694565369886768, 0.008694565369886768, 0.008694565369886768, 0.008694565369886768, 2.9363424425654925, 1.8735283053747298, 1.0498884579128183, 1.8345620964619236, 1.8433199452914895, 0.8706466545098128, 1.7693078636819266, 1.94703753937131, 2.7565739383449404, 1.8327507695927838, 1.019741178578838, 0.874470474869244, 3.7453256678009037, 0.9867867355551075, 1.9037802354732436, 0.8708249330849668, 0.8778022022397158, 0.887229457474829, 0.8739944448764219, 1.757073375817166, 0.8718853665896141, 8.222588985854134, 0.9493957343622134, 4.272052406749262, 0.8872295953546241, 2.787741941802559, 2.0237803303242017, 1.8497801652143535, 1.8077585400405947, 0.8736354058898009, 3.9910511781174307, 2.7161098033374143, 1.755480036904189, 1.3237526147072989, 1.8220139320631525, 1.8036669571189448, 0.9251173085096158, 0.9019808031206108, 0.8872298021743169, 0.04194673455432897, 0.04194673455432897, 0.04194673455432897, 0.04194673455432897, 0.04194673455432897, 0.04194673455432897, 0.04194673455432897, 0.04194673455432897, 0.04194673455432897, 0.04194673455432897, 0.04194673455432897, 0.04194673455432897, 0.04194673455432897, 0.04194673455432897, 0.04194673455432897, 0.04194673455432897, 0.04194673455432897, 0.04194673455432897, 0.04194673455432897, 0.04194673455432897, 0.04194673455432897, 0.04194673455432897, 0.04194673455432897, 0.04194673455432897, 0.04194673455432897, 0.04194673455432897, 0.04194673455432897, 0.04194673455432897, 0.04194673455432897, 0.04194673455432897, 0.04194673455432897, 0.04194673455432897, 0.04194673455432897, 0.04194673455432897, 0.04194673455432897, 0.04194673455432897, 0.04194673455432897, 0.04194673455432897, 0.04194673455432897, 0.04194673455432897, 0.04194673455432897, 0.04194673455432897, 0.04194673455432897, 0.04194673455432897, 0.04194673455432897, 0.04194673455432897, 0.04194673455432897, 0.04194673455432897, 0.04194673455432897, 3.184624028924221, 3.184609762611239, 1.2030141339143239, 4.585843853453547, 2.1938182888463293, 2.8871425535854547, 1.203013024312203, 1.2030141339143239, 1.203013262084086, 0.007006082280471578, 0.007006082280471578, 0.007006082280471578, 0.007006082280471578, 0.007006082280471578, 0.007006082280471578, 0.007006082280471578, 0.007006082280471578, 0.007006082280471578, 0.007006082280471578, 0.007006082280471578, 0.007006082280471578, 0.007006082280471578, 0.007006082280471578, 0.007006082280471578, 0.007006082280471578, 0.007006082280471578, 0.007006082280471578, 0.007006082280471578, 0.007006082280471578, 0.007006082280471578, 0.007006082280471578, 0.007006082280471578, 0.007006082280471578, 0.007006082280471578, 0.007006082280471578, 0.007006082280471578, 0.007006082280471578, 0.007006082280471578, 0.007006082280471578, 0.007006082280471578, 0.007006082280471578, 0.007006082280471578, 0.007006082280471578, 0.007006082280471578, 1.3010489057667811, 1.7208920643459824, 2.328066794036912, 0.6107202987005506, 0.6107213105831043, 0.6107211082065935, 0.610718207476606, 0.6107141599463909, 1.1337517997139261, 0.7148999487432484, 1.217896714862403, 0.6107188820649753, 0.6107213105831043, 2.157343318739272, 1.0832130557298538, 0.6107213105831043, 4.0675112527946595, 2.068368890538096, 0.9683958216934131, 1.6822342381789055, 1.711121596241995, 1.0319238996438955, 2.3367339054042535, 0.6107210407477566, 0.6107214455007781, 0.6107210407477566, 0.8190732576552757, 0.21190301397700134, 0.29027240707324714, 0.107729747226747, 0.9123521667814098, 0.29027237334382866, 0.04194673455432897, 0.04194673455432897, 0.04194673455432897, 0.04194673455432897, 0.04194673455432897, 0.04194673455432897, 0.04194673455432897, 0.04194673455432897, 0.04194673455432897, 0.04194673455432897, 0.04194673455432897, 0.04194673455432897, 0.04194673455432897, 0.04194673455432897, 0.04194673455432897, 0.04194673455432897, 0.04194673455432897, 0.04194673455432897, 0.04194673455432897, 0.04194673455432897, 0.04194673455432897, 0.04194673455432897, 0.04194673455432897, 0.04194673455432897, 0.04194673455432897, 0.04194673455432897, 0.04194673455432897, 0.04194673455432897, 0.04194673455432897, 0.04194673455432897, 0.04194673455432897, 0.04194673455432897, 0.04194673455432897, 0.04194673455432897, 0.04194673455432897, 0.04194673455432897, 0.04194673455432897, 0.04194673455432897, 0.04194673455432897, 0.04194673455432897, 0.04194673455432897, 0.04194673455432897, 0.04194673455432897, 0.04194673455432897, 0.04194673455432897, 0.04194673455432897, 0.04194673455432897, 0.04194673455432897, 0.04194673455432897, 2.867284809086934, 3.1587674560826193, 5.392860508719004, 5.420842372965425, 0.9594823367438392, 1.74970885489386, 1.186883637686562, 8.587090507212467, 0.9594810094411131, 0.9594815071796354, 1.9133841950885395, 1.2056078972439639, 1.005506392859276, 1.749705370724204, 2.5514859761486957, 1.2245272703021057, 0.9594818390053169, 1.4408329011493919, 0.9594815071796354, 0.005587834300477449, 0.005587834300477449, 0.005587834300477449, 0.005587834300477449, 0.005587834300477449, 0.005587834300477449, 0.005587834300477449, 0.005587834300477449, 0.005587834300477449, 0.005587834300477449, 0.005587834300477449, 0.005587834300477449, 0.005587834300477449, 0.005587834300477449, 0.005587834300477449, 0.005587834300477449, 0.005587834300477449, 0.005587834300477449, 0.005587834300477449, 0.005587834300477449, 3.7625814400759836, 2.064270622250199, 7.3709361030054055, 2.9002663690033876, 2.8116003905274107, 3.687504135862166, 1.855689334339021, 0.008726468457270252, 0.008726468457270252, 0.008726468457270252, 0.008726468457270252, 0.008726468457270252, 0.008726468457270252, 0.008726468457270252, 0.008726468457270252, 0.008726468457270252, 0.008726468457270252, 0.008726468457270252, 0.008726468457270252, 0.008726468457270252, 0.008726468457270252, 0.008726468457270252, 0.008726468457270252, 0.008726468457270252, 0.008726468457270252, 0.008726468457270252, 0.008726468457270252, 0.008726468457270252, 0.008726468457270252, 0.008726468457270252, 0.008726468457270252, 0.008726468457270252, 0.008726468457270252, 0.008726468457270252, 0.008726468457270252, 0.008726468457270252, 0.008726468457270252, 0.008726468457270252, 0.008726468457270252, 0.008726468457270252, 0.008726468457270252, 0.008726468457270252, 0.008726468457270252, 0.008726468457270252, 0.008726468457270252, 0.008726468457270252, 3.968543076666436, 5.130564994107741, 2.031849652457829, 2.2318392184776257, 2.031850751754605, 2.146202533878495, 2.097593279377759, 2.0318500188900877, 2.1987436065156287, 0.011833043058923113, 0.011833043058923113, 0.011833043058923113, 0.011833043058923113, 0.011833043058923113, 0.011833043058923113, 0.011833043058923113, 0.011833043058923113, 0.011833043058923113, 0.011833043058923113, 0.011833043058923113, 0.011833043058923113, 0.011833043058923113, 0.011833043058923113, 0.011833043058923113, 0.011833043058923113, 0.011833043058923113, 0.011833043058923113, 0.011833043058923113, 0.011833043058923113, 0.011833043058923113, 0.011833043058923113, 0.011833043058923113, 0.011833043058923113, 0.011833043058923113, 0.011833043058923113, 0.011833043058923113, 0.011833043058923113, 0.011833043058923113, 0.011833043058923113, 0.011833043058923113, 0.011833043058923113, 0.011833043058923113, 0.011833043058923113, 0.011833043058923113, 10.203240808632117, 9.09571308067115, 9.108719029376466, 5.330296596193003, 1.4304684215715557, 1.4304689633957812, 4.960961390550428, 3.782489365818946, 2.6310805581033536, 0.008330733011343521, 0.008330733011343521, 0.008330733011343521, 0.008330733011343521, 0.008330733011343521, 0.008330733011343521, 0.008330733011343521, 0.008330733011343521, 0.008330733011343521, 0.008330733011343521, 0.008330733011343521, 0.008330733011343521, 0.008330733011343521, 0.008330733011343521, 0.008330733011343521, 0.008330733011343521, 0.008330733011343521, 0.008330733011343521, 0.008330733011343521, 0.008330733011343521, 0.008330733011343521, 0.008330733011343521, 0.008330733011343521, 0.008330733011343521, 0.008330733011343521, 0.008330733011343521, 0.008330733011343521, 0.008330733011343521, 0.008330733011343521, 0.008330733011343521, 0.008330733011343521, 0.008330733011343521, 0.008330733011343521, 0.008330733011343521, 0.008330733011343521, 2.6572241025261056, 16.449096126463832, 3.1921279422578235, 15.363150348310416, 9.56830174219754, 3.491190659242793, 1.4571312209632632, 1.4571295312111043, 4.206490266918212, 1.4571240998648793, 1.4571312209632632, 2.101545725573602, 1.457131341659846, 0.008486019263745679, 0.008486019263745679, 0.008486019263745679, 0.008486019263745679, 0.008486019263745679, 0.008486019263745679, 0.008486019263745679, 0.008486019263745679, 0.008486019263745679, 0.008486019263745679, 0.008486019263745679, 0.008486019263745679, 0.008486019263745679, 0.008486019263745679, 0.008486019263745679, 0.008486019263745679, 0.008486019263745679, 0.008486019263745679, 0.008486019263745679, 0.008486019263745679, 0.008486019263745679, 0.008486019263745679, 0.008486019263745679, 0.008486019263745679, 0.008486019263745679, 0.008486019263745679, 0.008486019263745679, 2.513749380670078, 0.6903242055831138, 2.0629485857378476, 0.7000191660049383, 1.9580538811034978, 1.3766376706040184, 0.400641560601671, 3.8597487672116912, 1.3766367433723545, 1.3766366274683965, 0.6903251907667567, 0.6903253066707147, 1.3766367433723545, 1.3766348889090267, 1.2224602553213921, 0.6903236260633239, 0.27563070989891025, 0.2756296957392778, 1.7328727739258956, 0.23952245444323025, 0.5319995728277478, 1.237672070287498, 1.3766360479486066, 0.6903247851029037, 0.6903243794390508, 1.2224594439936862, 0.18692331140507565, 0.12177056721328071, 0.004020326634484318, 0.004020326634484318, 0.004020326634484318, 0.004020326634484318, 10.214383019049215, 2.5750373468706615, 2.3547545959907588, 1.2912735381755114, 1.628514333852448, 1.2912740472544912, 2.687760261817847, 1.2912741490702873, 1.2912733345439193, 1.2912749635966552, 3.6385373424239624, 1.5455580813882404, 1.6285160647209798, 3.8206589220734046, 4.5967143950823655, 5.0353934537741365, 1.2912735381755114, 2.993419223000961, 1.6467258198331387, 1.5115350095540532, 0.22777580802367142, 0.2277759607473654, 0.2277765716421413, 0.007520123441346888, 0.007520123441346888, 0.007520123441346888, 0.007520123441346888, 0.007520123441346888, 0.007520123441346888, 0.007520123441346888, 0.007520123441346888, 0.007520123441346888, 0.007520123441346888, 0.007520123441346888, 0.007520123441346888, 0.007520123441346888, 0.007520123441346888, 2.7340668927727036, 3.4184988215801106, 3.455627860725593, 4.224604422384607, 1.4992651872097302, 3.968866918288657, 5.203663023694896, 0.008731384472966335, 0.008731384472966335, 0.008731384472966335, 0.008731384472966335, 0.008731384472966335, 0.008731384472966335, 0.008731384472966335, 0.008731384472966335, 0.008731384472966335, 0.008731384472966335, 0.008731384472966335, 0.008731384472966335, 0.008731384472966335, 0.008731384472966335, 0.008731384472966335, 0.008731384472966335, 0.008731384472966335, 0.008731384472966335, 0.008731384472966335, 0.008731384472966335, 0.008731384472966335, 0.008731384472966335, 0.008731384472966335, 0.008731384472966335, 0.008731384472966335, 0.008731384472966335, 0.008731384472966335, 0.008731384472966335, 0.008731384472966335, 0.008731384472966335, 0.008731384472966335, 0.008731384472966335, 0.008731384472966335, 0.008731384472966335, 0.008731384472966335, 0.008731384472966335, 0.008731384472966335, 0.008731384472966335, 0.008731384472966335, 3.9214981610028032, 5.568338163529294, 7.0729706395736995, 6.397947633438156, 3.9215039351121486, 5.912043277538516, 0.014075281965420785, 0.014075281965420785, 0.014075281965420785, 0.014075281965420785, 0.014075281965420785, 0.014075281965420785, 0.014075281965420785, 0.014075281965420785, 0.014075281965420785, 0.014075281965420785, 0.014075281965420785, 0.014075281965420785, 0.014075281965420785, 0.014075281965420785, 0.014075281965420785, 0.014075281965420785, 0.014075281965420785, 0.014075281965420785, 0.014075281965420785, 0.014075281965420785, 0.014075281965420785, 0.014075281965420785, 0.014075281965420785, 0.014075281965420785, 0.014075281965420785, 0.014075281965420785, 0.014075281965420785, 0.014075281965420785, 0.014075281965420785, 0.014075281965420785, 0.014075281965420785, 0.014075281965420785, 0.014075281965420785, 0.014075281965420785, 0.014075281965420785, 0.014075281965420785, 0.014075281965420785, 0.014075281965420785, 0.014075281965420785, 0.014075281965420785, 0.014075281965420785, 13.54837956497295, 3.7004415502263863, 3.700446393901106, 10.74328990275628, 2.0291935180718594, 3.391210630847829, 5.4818229822944256, 3.108750701644463, 0.011817574335549197, 0.011817574335549197, 0.011817574335549197, 0.011817574335549197, 0.011817574335549197, 0.011817574335549197, 0.011817574335549197, 0.011817574335549197, 0.011817574335549197, 0.011817574335549197, 0.011817574335549197, 0.011817574335549197, 0.011817574335549197, 0.011817574335549197, 0.011817574335549197, 0.011817574335549197, 0.011817574335549197, 0.011817574335549197, 0.011817574335549197, 0.011817574335549197, 0.011817574335549197, 0.011817574335549197, 0.011817574335549197, 0.011817574335549197, 0.011817574335549197, 0.011817574335549197, 0.011817574335549197, 0.011817574335549197, 0.011817574335549197, 0.011817574335549197, 0.011817574335549197, 0.011817574335549197, 0.011817574335549197, 0.011817574335549197, 0.011817574335549197, 0.011817574335549197, 0.011817574335549197, 7.3691097738811155, 1.589689023727822, 3.170128013529255, 2.898960114888051, 1.5896899648957743, 1.5896900825417684, 1.589687964913876, 1.589689023727822, 1.6651224586381774, 1.5896867884539356, 1.5896903178337565, 1.6513855241455815, 3.1701233076894937, 0.009258004442484707, 0.009258004442484707, 0.009258004442484707, 0.009258004442484707, 0.009258004442484707, 0.009258004442484707, 0.009258004442484707, 0.009258004442484707, 0.009258004442484707, 0.009258004442484707, 0.009258004442484707, 0.009258004442484707, 0.009258004442484707, 0.009258004442484707, 0.009258004442484707, 0.009258004442484707, 0.009258004442484707, 0.009258004442484707, 0.009258004442484707, 0.009258004442484707, 0.009258004442484707, 0.009258004442484707, 0.009258004442484707, 0.009258004442484707, 0.009258004442484707, 0.009258004442484707, 0.009258004442484707, 0.009258004442484707, 0.009258004442484707, 0.04194673455432897, 0.04194673455432897, 0.04194673455432897, 0.04194673455432897, 0.04194673455432897, 0.04194673455432897, 0.04194673455432897, 0.04194673455432897, 0.04194673455432897, 0.04194673455432897, 0.04194673455432897, 0.04194673455432897, 0.04194673455432897, 0.04194673455432897, 0.04194673455432897, 0.04194673455432897, 0.04194673455432897, 0.04194673455432897, 0.04194673455432897, 0.04194673455432897, 0.04194673455432897, 0.04194673455432897, 0.04194673455432897, 0.04194673455432897, 0.04194673455432897, 0.04194673455432897, 0.04194673455432897, 0.04194673455432897, 0.04194673455432897, 0.04194673455432897, 0.04194673455432897, 0.04194673455432897, 0.04194673455432897, 0.04194673455432897, 0.04194673455432897, 0.04194673455432897, 0.04194673455432897, 0.04194673455432897, 0.04194673455432897, 0.04194673455432897, 0.04194673455432897, 0.04194673455432897, 0.04194673455432897, 0.04194673455432897, 0.04194673455432897, 0.04194673455432897, 0.04194673455432897, 0.04194673455432897, 0.04194673455432897, 0.9262792159442813, 1.7537295758482578, 0.8537992897111744, 5.196492409306881, 2.507892627071903, 1.847173870461304, 0.4238015397387904, 2.691203301867607, 0.5551185122883646, 0.9262795281168992, 0.9262793200018206, 0.9262796321744384, 0.30864496318227486, 0.24054091661947652, 2.3637906249594614, 1.097009022069174, 0.42380091539355474, 1.1946821110207653, 1.0842803916925934, 0.7839415094102262, 0.16339270903070185, 0.1633923708436992, 0.16339203265669655, 0.16339272203789426, 0.005394470469025741, 0.005394470469025741, 0.005394470469025741, 0.005394470469025741, 0.005394470469025741, 0.005394470469025741, 0.005394470469025741, 0.005394470469025741, 0.005394470469025741, 0.005394470469025741, 0.005394470469025741, 0.005394470469025741, 2.8466858802299635, 1.561028315240896, 2.499185582282037, 2.499186381291874, 2.8466949356747837, 3.112962300516128, 1.9350657274028977, 0.009091073584426547, 0.009091073584426547, 0.009091073584426547, 0.009091073584426547, 0.009091073584426547, 0.009091073584426547, 0.009091073584426547, 0.009091073584426547, 0.009091073584426547, 0.009091073584426547, 0.009091073584426547, 0.009091073584426547, 0.009091073584426547, 0.009091073584426547, 0.009091073584426547, 0.009091073584426547, 0.009091073584426547, 0.009091073584426547, 0.009091073584426547, 0.009091073584426547, 0.009091073584426547, 0.009091073584426547, 0.009091073584426547, 0.009091073584426547, 0.009091073584426547, 0.009091073584426547, 0.009091073584426547, 0.009091073584426547, 0.009091073584426547, 0.009091073584426547, 0.009091073584426547, 0.009091073584426547, 0.009091073584426547, 0.009091073584426547, 0.009091073584426547, 0.009091073584426547, 0.009091073584426547, 0.009091073584426547, 4.313882523647679, 1.131670603109194, 1.1316704119328764, 1.1316694560512872, 3.3818406213224033, 1.131670603109194, 1.1316704119328764, 2.5032349851232407, 1.1316703163447175, 1.131670794285512, 1.1316705075210352, 1.1316694560512872, 1.4004044766168775, 1.131670603109194, 1.2303008551825823, 1.1569962078731646, 0.006590610140585307, 0.006590610140585307, 0.006590610140585307, 0.006590610140585307, 0.006590610140585307, 0.006590610140585307, 0.006590610140585307, 0.006590610140585307, 0.006590610140585307, 0.006590610140585307, 0.006590610140585307, 0.006590610140585307, 0.006590610140585307, 0.006590610140585307, 0.006590610140585307, 0.006590610140585307, 0.006590610140585307, 0.006590610140585307, 0.006590610140585307, 0.006590610140585307, 0.006590610140585307, 0.006590610140585307, 0.006590610140585307, 0.006590610140585307, 0.006590610140585307, 3.9769522896514196, 3.4131168648554833, 1.3008063226039785, 2.8925216421454825, 0.7551574166496177, 3.4596847283803958, 2.9644062793542565, 0.755157796975515, 0.49385141871849664, 1.4426947903775922, 0.4777146187600218, 0.4777159023599254, 0.1332073865440929, 1.2978586067364672, 0.5494246388411688, 0.13320701810337984, 0.2810346907457657, 0.03687923659606009, 0.1332064476145338, 0.06250892044068054, 0.028446356641417845, 0.04293052172400779, 0.031962300198662016, 0.13320662589229817, 0.02984304110226569, 0.02623805077300535, 0.00439789702850827, 0.00439789702850827, 0.00439789702850827, 0.00439789702850827, 0.00439789702850827, 0.00439789702850827, 0.00439789702850827, 0.00439789702850827, 0.04194673455432897, 0.04194673455432897, 0.04194673455432897, 0.04194673455432897, 0.04194673455432897, 0.04194673455432897, 0.04194673455432897, 0.04194673455432897, 0.04194673455432897, 0.04194673455432897, 0.04194673455432897, 0.04194673455432897, 0.04194673455432897, 0.04194673455432897, 0.04194673455432897, 0.04194673455432897, 0.04194673455432897, 0.04194673455432897, 0.04194673455432897, 0.04194673455432897, 0.04194673455432897, 0.04194673455432897, 0.04194673455432897, 0.04194673455432897, 0.04194673455432897, 0.04194673455432897, 0.04194673455432897, 0.04194673455432897, 0.04194673455432897, 0.04194673455432897, 0.04194673455432897, 0.04194673455432897, 0.04194673455432897, 0.04194673455432897, 0.04194673455432897, 0.04194673455432897, 0.04194673455432897, 0.04194673455432897, 0.04194673455432897, 0.04194673455432897, 0.04194673455432897, 0.04194673455432897, 0.04194673455432897, 0.04194673455432897, 0.04194673455432897, 0.04194673455432897, 0.04194673455432897, 0.04194673455432897, 0.04194673455432897, 0.04194673455432897, 0.04194673455432897, 0.04194673455432897, 0.04194673455432897, 0.04194673455432897, 0.04194673455432897, 0.04194673455432897, 0.04194673455432897, 0.04194673455432897, 0.04194673455432897, 0.04194673455432897, 0.04194673455432897, 0.04194673455432897, 0.04194673455432897, 0.04194673455432897, 0.04194673455432897, 0.04194673455432897, 0.04194673455432897, 0.04194673455432897, 0.04194673455432897, 0.04194673455432897, 0.04194673455432897, 0.04194673455432897, 0.04194673455432897, 0.04194673455432897, 0.04194673455432897, 0.04194673455432897, 0.04194673455432897, 0.04194673455432897, 0.04194673455432897, 0.04194673455432897, 0.04194673455432897, 0.04194673455432897, 0.04194673455432897, 0.04194673455432897, 0.04194673455432897, 0.04194673455432897, 0.04194673455432897, 0.04194673455432897, 0.04194673455432897, 0.04194673455432897, 0.04194673455432897, 0.04194673455432897, 0.04194673455432897, 0.04194673455432897, 0.04194673455432897, 0.04194673455432897, 0.04194673455432897, 0.04194673455432897, 5.396417434778691, 7.304134954348851, 2.3235607796859674, 3.377098164206261, 1.1625630148656367, 1.1625608502604727, 1.162563616144849, 2.2406515916684726, 2.1200547036510775, 1.1625637364006913, 1.4192037741187418, 0.20507084505682616, 1.2310453499763048, 1.3619688476964125, 0.2790984476384268, 0.0067705194881829255, 0.0067705194881829255, 0.0067705194881829255, 0.0067705194881829255, 0.0067705194881829255, 0.0067705194881829255, 0.0067705194881829255, 0.0067705194881829255, 0.0067705194881829255, 0.0067705194881829255, 0.0067705194881829255, 0.0067705194881829255, 0.0067705194881829255, 0.0067705194881829255, 0.0067705194881829255, 0.0067705194881829255, 0.0067705194881829255, 0.0067705194881829255, 0.0067705194881829255, 0.0067705194881829255, 0.0067705194881829255, 0.0067705194881829255, 0.0067705194881829255, 0.0067705194881829255, 0.0067705194881829255, 2.4896239489733922, 1.8500745227067645, 3.54665660293631, 2.539115444959959, 3.4186972216543943, 4.380382575443862, 1.8500754292274348, 1.8500752479233007, 1.8500754292274348, 1.6000956461819917, 1.4798813962016613, 4.945829557354291, 0.9277257297048314, 0.9277260923130994, 5.611752389477448, 9.513045317698502, 1.3199303565579266, 3.144934868827697, 0.9277263642693004, 5.033944091708921, 0.9277252764444963, 7.406877980459239, 6.182267184542255, 2.2397395319024485, 2.827276246894703, 0.9277256390527643, 2.772421412015291, 0.5809156693216491, 0.9277248231841612, 1.2277337596256335, 3.838677369884531, 1.850878062628781, 1.327147076960884, 1.1090604134804154, 8.623108860590454, 1.4577700857611775, 1.4577698973689284, 1.4577698973689284, 5.35943394232922, 1.4577693321921814, 2.038542414123284, 1.457769991565053, 1.457769803172804, 0.008489728178566438, 0.008489728178566438, 0.008489728178566438, 0.008489728178566438, 0.008489728178566438, 0.008489728178566438, 0.008489728178566438, 0.008489728178566438, 0.008489728178566438, 0.008489728178566438, 0.008489728178566438, 0.008489728178566438, 0.008489728178566438, 0.008489728178566438, 0.008489728178566438, 0.008489728178566438, 0.008489728178566438, 0.008489728178566438, 0.008489728178566438, 0.008489728178566438, 0.008489728178566438, 0.008489728178566438, 0.008489728178566438, 0.008489728178566438, 0.008489728178566438, 0.008489728178566438, 0.008489728178566438, 0.008489728178566438, 0.008489728178566438, 0.008489728178566438, 0.008489728178566438, 0.008489728178566438, 0.008489728178566438, 0.008489728178566438, 0.04194673455432897, 0.04194673455432897, 0.04194673455432897, 0.04194673455432897, 0.04194673455432897, 0.04194673455432897, 0.04194673455432897, 0.04194673455432897, 0.04194673455432897, 0.04194673455432897, 0.04194673455432897, 0.04194673455432897, 0.04194673455432897, 0.04194673455432897, 0.04194673455432897, 0.04194673455432897, 0.04194673455432897, 0.04194673455432897, 0.04194673455432897, 0.04194673455432897, 0.04194673455432897, 0.04194673455432897, 0.04194673455432897, 0.04194673455432897, 0.04194673455432897, 0.04194673455432897, 0.04194673455432897, 0.04194673455432897, 0.04194673455432897, 0.04194673455432897, 0.04194673455432897, 0.04194673455432897, 0.04194673455432897, 0.04194673455432897, 0.04194673455432897, 0.04194673455432897, 0.04194673455432897, 0.04194673455432897, 0.04194673455432897, 0.04194673455432897, 0.04194673455432897, 0.04194673455432897, 0.04194673455432897, 0.04194673455432897, 0.04194673455432897, 0.04194673455432897, 0.04194673455432897, 0.04194673455432897, 0.04194673455432897, 0.04194673455432897, 0.04194673455432897, 0.04194673455432897, 0.04194673455432897, 0.04194673455432897, 0.04194673455432897, 0.04194673455432897, 0.04194673455432897, 0.04194673455432897, 0.04194673455432897, 0.04194673455432897, 0.04194673455432897, 0.04194673455432897, 0.04194673455432897, 0.04194673455432897, 0.04194673455432897, 0.04194673455432897, 0.04194673455432897, 0.04194673455432897, 0.04194673455432897, 0.04194673455432897, 0.04194673455432897, 0.04194673455432897, 0.04194673455432897, 0.04194673455432897, 0.04194673455432897, 0.04194673455432897, 0.04194673455432897, 0.04194673455432897, 0.04194673455432897, 0.04194673455432897, 0.04194673455432897, 0.04194673455432897, 0.04194673455432897, 0.04194673455432897, 0.04194673455432897, 0.04194673455432897, 0.04194673455432897, 0.04194673455432897, 0.04194673455432897, 0.04194673455432897, 0.04194673455432897, 0.04194673455432897, 0.04194673455432897, 0.04194673455432897, 0.04194673455432897, 0.04194673455432897, 0.04194673455432897, 0.04194673455432897, 1.1445683296122358, 1.07396788842872, 1.0739688335926993, 1.1572117881640005, 1.0739679559404327, 1.0739673483350176, 1.2229818338076226, 0.09408009505199477, 0.15533515143901078, 0.12710762666058517, 0.0928840997426607, 0.08091630685166971, 0.09197633725220784, 0.08100716073918472, 0.09187177848699225, 0.0062545540667651766, 0.0062545540667651766, 0.08770949573500157, 0.0062545540667651766, 0.0062545540667651766, 0.0062545540667651766, 0.0062545540667651766, 0.0062545540667651766, 0.0062545540667651766, 0.0062545540667651766, 0.0062545540667651766, 0.0062545540667651766, 0.0062545540667651766, 0.0062545540667651766, 0.0062545540667651766, 0.0062545540667651766, 0.0062545540667651766, 0.0062545540667651766, 0.0062545540667651766, 0.0062545540667651766, 0.0062545540667651766, 0.0062545540667651766, 0.0062545540667651766, 0.0062545540667651766, 0.0062545540667651766, 2.821823473415626, 3.717502362580566, 2.172760938633297, 0.8724183149437406, 1.4839322492159537, 0.903845017439791, 3.4190383487913363, 1.6482528659673967, 0.8730361409685881, 1.7746331446929693, 7.953916547601965, 3.2702500445931375, 3.3892819670946053, 1.0415036590832383, 0.9094901149346806, 0.8630985596582078, 1.1595248987940585, 0.8696652796187343, 1.7724966562499018, 1.741246235635941, 0.005263816722579934, 0.005263816722579934, 0.005263816722579934, 0.005263816722579934, 0.005263816722579934, 0.005263816722579934, 0.005263816722579934, 0.005263816722579934, 0.005263816722579934, 0.005263816722579934, 0.005263816722579934, 0.005263816722579934, 0.005263816722579934, 0.005263816722579934, 0.005263816722579934, 0.005263816722579934, 0.005263816722579934, 2.293729020832352, 2.4966304567022606, 1.1361185484345608, 0.8664724371991251, 1.1537531153912806, 2.846930581173639, 1.8518557575103745, 0.9517990384780337, 0.9452464134017678, 1.6923315464003135, 1.8230127808513166, 1.9471774733528573, 1.3266797318157835, 1.2621814964108757, 0.09591041028749937, 0.32880514936139593, 0.3479750400977442, 0.06972027307053981, 0.04649169386158269, 0.005046154532224544, 0.005046154532224544, 0.005046154532224544, 0.005046154532224544, 0.005046154532224544, 0.005046154532224544, 0.005046154532224544, 0.005046154532224544, 0.005046154532224544, 0.005046154532224544, 0.005046154532224544, 0.005046154532224544, 0.005046154532224544, 0.005046154532224544, 0.005046154532224544, 0.005046154532224544, 0.005046154532224544, 0.005046154532224544, 0.005046154532224544, 0.005046154532224544, 1.0432025235599394, 1.043202823530868, 1.0432031984945285, 1.0432031984945285, 1.0432034984654568, 1.0432031235017962, 1.0432032734872605, 1.043203648450921, 1.0432030485090642, 1.043202823530868, 1.0432031984945285, 2.0803352853677404, 1.0432031984945285, 2.0803342354694907, 1.0432033484799927, 1.0432025235599394, 1.0432024485672073, 0.006075392065854165, 0.006075392065854165, 0.006075392065854165, 0.006075392065854165, 0.006075392065854165, 0.006075392065854165, 0.006075392065854165, 0.006075392065854165, 0.006075392065854165, 0.006075392065854165, 0.006075392065854165, 0.006075392065854165, 0.006075392065854165, 0.006075392065854165, 0.006075392065854165, 0.006075392065854165, 0.006075392065854165, 0.006075392065854165, 0.006075392065854165, 0.006075392065854165, 0.006075392065854165, 4.570152090850048, 1.421928447411809, 1.4259498262117176, 11.125318826409048, 2.5375895121875756, 1.2724952235902096, 1.2724940667361955, 4.239383157186032, 1.2724944523542001, 4.00238264000978, 1.4895493409804623, 1.5868386040980718, 1.2724940667361955, 1.708512961606244, 0.22446372878820123, 1.2724949922194067, 0.31811165893040527, 0.007410752586230973, 0.007410752586230973, 0.007410752586230973, 0.007410752586230973, 0.007410752586230973, 0.007410752586230973, 0.007410752586230973, 0.007410752586230973, 0.007410752586230973, 0.007410752586230973, 0.007410752586230973, 0.007410752586230973, 0.007410752586230973, 0.007410752586230973, 0.007410752586230973, 0.007410752586230973, 0.007410752586230973, 0.007410752586230973, 0.007410752586230973, 0.007410752586230973, 0.007410752586230973, 0.007410752586230973, 0.007410752586230973, 0.007410752586230973, 2.3912595436310973, 3.174348960198343, 1.9031268097159282, 2.3686992696961906, 1.9796319217607545, 1.5395351916152487, 1.858040230721127, 1.75948149565899, 0.850738894364568, 0.8043858939477472, 0.8507383282166511, 0.8410276562107138, 1.6085874295465683, 0.9201962368643959, 1.6965345968630694, 0.8036355935539327, 4.104935143632921, 0.8507378135367267, 0.8000736482010229, 0.8072858579818724, 1.5857603455388445, 4.319579729775247, 1.661409544869366, 1.1834337104546035, 0.864984565588517, 0.788655216737879, 2.499629725028372, 4.107392019720116, 1.6960049912208448, 0.7938241472187947, 1.6246791032554224, 1.2430675116410697, 0.8934952150556147, 0.893501158174112, 3.448984522340917, 1.800655249948424, 0.893500907056429, 0.8935001537033801, 0.9584139910485515, 0.893500907056429, 1.798708083434575, 0.931568924796425, 0.9561795459053702, 0.4905302266735497, 0.9195187079549157, 0.8935010744682177, 0.9556602345369617, 0.4667372447403966, 0.9128248312914307, 0.9063716927800318, 1.0007194522770944, 0.6230290401577813, 0.06115293151303176, 0.040532913057688864, 0.03898859947095591, 0.027359520062854924, 0.019394292118230037, 0.060768151211662895, 0.03704514479035851, 0.024768636910962184, 0.017741116400114814, 0.02400526531278631, 0.101777934133527, 0.031176477454483823, 0.032592540532060885, 0.03383328422977795, 0.028638302857925502, 7.061990574191954, 10.108214178242156, 6.875937254064844, 10.67418916829951, 7.061988544489848, 0.18182084152481154, 0.3540185270807073, 0.26120227946882263, 0.4824974018358418, 0.22806007720133842, 0.20220630262698636, 0.22985799155550735, 0.2288389753845714, 0.022552844667852852, 0.022552844667852852, 0.18987723660962583, 0.022552844667852852, 0.022552844667852852, 0.022552844667852852, 0.022552844667852852, 0.022552844667852852, 0.022552844667852852, 0.022552844667852852, 0.022552844667852852, 0.022552844667852852, 0.022552844667852852, 0.022552844667852852, 0.022552844667852852, 0.022552844667852852, 0.022552844667852852, 0.022552844667852852, 0.022552844667852852, 0.022552844667852852, 0.022552844667852852, 0.022552844667852852, 0.022552844667852852, 0.022552844667852852, 0.022552844667852852, 0.022552844667852852, 0.022552844667852852, 0.022552844667852852, 8.177582400901443, 2.8089866146248883, 4.358193295405773, 2.1719368796145537, 2.5577655971120055, 0.008710856780290984, 0.008710856780290984, 0.008710856780290984, 0.008710856780290984, 0.008710856780290984, 0.008710856780290984, 0.008710856780290984, 0.008710856780290984, 0.008710856780290984, 0.008710856780290984, 0.008710856780290984, 0.008710856780290984, 0.008710856780290984, 0.008710856780290984, 0.008710856780290984, 0.008710856780290984, 0.008710856780290984, 0.008710856780290984, 0.008710856780290984, 0.008710856780290984, 0.008710856780290984, 0.008710856780290984, 0.008710856780290984, 0.008710856780290984, 0.008710856780290984, 0.008710856780290984, 0.008710856780290984, 0.008710856780290984, 0.008710856780290984, 0.008710856780290984, 0.008710856780290984, 0.008710856780290984, 0.008710856780290984, 0.008710856780290984, 0.008710856780290984, 0.008710856780290984, 0.008710856780290984, 0.008710856780290984, 0.008710856780290984, 0.008710856780290984, 0.008710856780290984, 0.008710856780290984, 3.120181780729708, 10.438203994282446, 7.519226831815367, 16.83772699193718, 2.149428011383843, 3.2738065180709692, 0.16479849587303186, 0.12177432706055809, 0.1426454511706748, 0.0721172752583144, 0.006864323774077365, 0.006864323774077365, 0.006864323774077365, 0.006864323774077365, 0.006864323774077365, 0.006864323774077365, 0.006864323774077365, 0.006864323774077365, 0.006864323774077365, 0.006864323774077365, 0.006864323774077365, 0.006864323774077365, 0.006864323774077365, 0.006864323774077365, 0.006864323774077365, 0.006864323774077365, 0.006864323774077365, 0.006864323774077365, 0.006864323774077365, 0.006864323774077365, 0.006864323774077365, 0.006864323774077365, 0.006864323774077365, 0.006864323774077365, 0.006864323774077365, 0.006864323774077365, 0.006864323774077365, 0.006864323774077365, 0.006864323774077365, 0.006864323774077365, 0.006864323774077365, 0.006864323774077365, 4.358991192665002, 5.715189733715414, 3.0028307344393763, 4.359016915274727, 4.359015244975393, 0.00958969216898609, 0.00958969216898609, 0.00958969216898609, 0.00958969216898609, 0.00958969216898609, 0.00958969216898609, 0.00958969216898609, 0.00958969216898609, 0.00958969216898609, 0.00958969216898609, 0.00958969216898609, 0.00958969216898609, 0.00958969216898609, 0.00958969216898609, 0.00958969216898609, 0.00958969216898609, 0.00958969216898609, 0.00958969216898609, 0.00958969216898609, 0.00958969216898609, 0.00958969216898609, 0.00958969216898609, 0.00958969216898609, 0.00958969216898609, 0.00958969216898609, 0.00958969216898609, 0.00958969216898609, 0.00958969216898609, 0.00958969216898609, 0.00958969216898609, 0.00958969216898609, 0.00958969216898609, 0.00958969216898609, 0.00958969216898609, 0.00958969216898609, 0.00958969216898609, 0.00958969216898609, 0.00958969216898609, 0.00958969216898609, 0.00958969216898609, 0.00958969216898609, 0.00958969216898609, 6.017605436351363, 7.956190861291994, 2.687728651256184, 2.2850718743952396, 5.043309070293054, 1.8587656510833228, 0.010825037335489925, 0.010825037335489925, 0.010825037335489925, 0.010825037335489925, 0.010825037335489925, 0.010825037335489925, 0.010825037335489925, 0.010825037335489925, 0.010825037335489925, 0.010825037335489925, 0.010825037335489925, 0.010825037335489925, 0.010825037335489925, 0.010825037335489925, 0.010825037335489925, 0.010825037335489925, 0.010825037335489925, 0.010825037335489925, 0.010825037335489925, 0.010825037335489925, 0.010825037335489925, 0.010825037335489925, 0.010825037335489925, 0.010825037335489925, 0.010825037335489925, 0.010825037335489925, 0.010825037335489925, 0.010825037335489925, 0.010825037335489925, 0.010825037335489925, 0.010825037335489925, 0.010825037335489925, 0.010825037335489925, 0.010825037335489925, 0.010825037335489925, 0.010825037335489925, 0.010825037335489925, 0.010825037335489925, 0.010825037335489925, 0.010825037335489925, 0.010825037335489925, 1.5662357026128213, 1.108445746213669, 1.1084462377228246, 3.201423062025151, 1.0442067774999304, 0.9825998403144552, 3.29875897935351, 6.226386079834376, 0.5558339418170758, 0.5566181446748433, 0.5558341875716536, 0.5361867971891708, 2.0136892214696056, 1.6610557811773021, 1.1097182634175298, 2.715532642483594, 0.5566671972885726, 2.2815619078778666, 3.9232284392812096, 1.1084454513081756, 2.285414356639497, 4.070226245088212, 0.5564415454352344, 0.5565735647944299, 0.2950599255395521, 0.31396334308865376, 2.0645362368242433, 1.2032599266682824, 0.6537713680500642, 0.5595164758636134, 1.6975727487984518, 0.9384045166644479, 0.04194673455432897, 0.04194673455432897, 0.04194673455432897, 0.04194673455432897, 0.04194673455432897, 0.04194673455432897, 0.04194673455432897, 0.04194673455432897, 0.04194673455432897, 0.04194673455432897, 0.04194673455432897, 0.04194673455432897, 0.04194673455432897, 0.04194673455432897, 0.04194673455432897, 0.04194673455432897, 0.04194673455432897, 0.04194673455432897, 0.04194673455432897, 0.04194673455432897, 0.04194673455432897, 0.04194673455432897, 0.04194673455432897, 0.04194673455432897, 0.04194673455432897, 0.04194673455432897, 0.04194673455432897, 0.04194673455432897, 0.04194673455432897, 0.04194673455432897, 0.04194673455432897, 0.04194673455432897, 0.04194673455432897, 0.04194673455432897, 0.04194673455432897, 0.04194673455432897, 0.04194673455432897, 0.04194673455432897, 0.04194673455432897, 0.04194673455432897, 0.04194673455432897, 0.04194673455432897, 0.04194673455432897, 0.04194673455432897, 0.04194673455432897, 0.04194673455432897, 0.04194673455432897, 0.04194673455432897, 0.04194673455432897, 2.223261359082644, 1.2191702818450332, 1.219170383430028, 1.3392723925147432, 1.2191709929399959, 2.4312507437419826, 1.219170383430028, 1.2191705866000173, 2.431249727892036, 1.2191698755050546, 1.219170383430028, 1.219170383430028, 2.4312505405719933, 0.6186126946439512, 0.6186134057389139, 1.334048688918767, 1.6350902334517958, 0.241262152870173, 1.219170688185012, 0.1300825189430348, 0.10246185094882874, 0.11253170480996155, 0.11143675824677503, 0.09645000017169708, 0.12010250431156422, 0.007100205426523359, 0.007100205426523359, 0.007100205426523359, 0.007100205426523359, 0.007100205426523359, 0.007100205426523359, 0.007100205426523359, 0.007100205426523359, 0.007100205426523359, 1.2262641748355325, 1.242800629557734, 1.2032159450654616, 1.2368798520710755, 1.2319903835568937, 1.2187761803753816, 1.2292138967277455, 0.007494077371242742, 0.007494077371242742, 0.007494077371242742, 0.007494077371242742, 0.007494077371242742, 0.007494077371242742, 0.007494077371242742, 0.007494077371242742, 0.007494077371242742, 0.007494077371242742, 0.007494077371242742, 0.007494077371242742, 0.007494077371242742, 0.007494077371242742, 0.007494077371242742, 0.007494077371242742, 0.007494077371242742, 0.007494077371242742, 0.007494077371242742, 0.007494077371242742, 0.007494077371242742, 0.007494077371242742, 0.007494077371242742, 0.007494077371242742, 0.007494077371242742, 0.007494077371242742, 0.007494077371242742, 0.007494077371242742, 0.007494077371242742, 0.007494077371242742, 0.007494077371242742, 0.007494077371242742, 0.007494077371242742, 0.007494077371242742, 0.007494077371242742, 0.007494077371242742, 0.007494077371242742, 0.007494077371242742, 0.007494077371242742, 1.0620669737518702, 1.062067168802734, 1.0620667136840514, 1.0620669737518702, 1.1245359790030054, 3.1738510157295, 3.25303438464107, 1.135144535431696, 1.0620661285314592, 1.062066583650142, 3.173850755661681, 1.062066193548414, 1.0620664536162325, 1.2003570611198187, 1.0620671037857794, 1.062065738429731, 2.1179587671813436, 2.2396744073753467, 1.0620671037857794, 0.27305768616478787, 0.19477733773688516, 1.2796968608243693, 0.22293962671103826, 1.0620669087349155, 1.1982583138224765, 0.06726127901086901, 0.074100741622877, 0.0640439475165899, 0.059947773718668086, 0.11597387914579807, 0.19779048348496528, 0.16720577655879237, 0.0836737405057679, 0.08829546260267487, 0.4754156550230502, 0.47541538267074496, 1.698322365819249, 1.3248419145406074, 1.3786602863528579, 0.4754153437632728, 0.47541553830063366, 1.2351583236170622, 1.029160844624402, 3.08655840359409, 0.47541569393052235, 0.5565109661684303, 1.3396225519603606, 0.8460481960608505, 1.1491270549215902, 0.47541522704085626, 1.1499954697005508, 0.9480664672583541, 0.9480661559985767, 0.08386181722756185, 0.47541526594832845, 0.04968771139438209, 0.08386183668129794, 0.47541538267074496, 0.052817841848083504, 0.002768729279459064, 0.002768729279459064, 0.002768729279459064, 0.002768729279459064, 0.002768729279459064, 0.002768729279459064, 0.002768729279459064, 0.002768729279459064, 0.002768729279459064, 8.084410072147099, 9.589411240946474, 9.589409041204714, 1.5795972990079379, 3.765900148177483, 3.7080716870107153, 0.009199215849127567, 0.009199215849127567, 0.009199215849127567, 0.009199215849127567, 0.009199215849127567, 0.009199215849127567, 0.009199215849127567, 0.009199215849127567, 0.009199215849127567, 0.009199215849127567, 0.009199215849127567, 0.009199215849127567, 0.009199215849127567, 0.009199215849127567, 0.009199215849127567, 0.009199215849127567, 0.009199215849127567, 0.009199215849127567, 0.009199215849127567, 0.009199215849127567, 0.009199215849127567, 0.009199215849127567, 0.009199215849127567, 0.009199215849127567, 0.009199215849127567, 0.009199215849127567, 0.009199215849127567, 0.009199215849127567, 0.009199215849127567, 0.009199215849127567, 0.009199215849127567, 0.009199215849127567, 0.009199215849127567, 0.009199215849127567, 0.009199215849127567, 0.009199215849127567, 0.009199215849127567, 0.009199215849127567, 0.009199215849127567, 0.009199215849127567, 0.009199215849127567, 2.4583623217207955, 1.2107175712391665, 1.2248471860639085, 2.4255615847746292, 1.2189562315948368, 1.3281375868430894, 3.559077596037895, 2.410002036567333, 1.2285477847455057, 2.4428114317446696, 1.2117909268563827, 0.19924511519937885, 0.11242622616521825, 0.22316517953113668, 0.22316451691140426, 0.16901979341085624, 0.10191917550491904, 0.22316511326916344, 0.22316590841284234, 0.5242301435375454, 0.11416390223883051, 0.22316438438745778, 0.106669993331409, 0.12006302901793527, 0.10215887819312054, 0.007367906243471492, 0.007367906243471492, 0.007367906243471492, 0.007367906243471492, 0.007367906243471492, 0.007367906243471492, 0.007367906243471492, 0.007367906243471492, 0.007367906243471492, 0.007367906243471492, 2.718573455548308, 1.9391244655753141, 1.0633484724506885, 1.9391242688456596, 2.7185718817110716, 1.063348570815516, 2.1205111743731506, 2.120510977643496, 1.063348669180343, 1.0633484724506885, 2.5722429875442057, 2.4058122572747345, 1.0633477838968977, 1.1494460253895074, 1.0633488659099977, 0.00619271831262852, 0.00619271831262852, 0.00619271831262852, 0.00619271831262852, 0.00619271831262852, 0.00619271831262852, 0.00619271831262852, 0.00619271831262852, 0.00619271831262852, 0.00619271831262852, 0.00619271831262852, 0.00619271831262852, 0.00619271831262852, 0.00619271831262852, 0.00619271831262852, 0.00619271831262852, 0.00619271831262852, 0.00619271831262852, 0.00619271831262852, 0.00619271831262852, 0.00619271831262852, 0.00619271831262852, 0.00619271831262852, 0.00619271831262852, 0.00619271831262852, 0.00619271831262852, 0.00619271831262852, 1.3055663204497383, 1.3055653439363226, 5.199474760692656, 1.3055656694407944, 1.3055651269333413, 1.3055657779422851, 5.422172334210791, 1.3055656694407944, 1.3055666459542103, 1.3055668629571915, 1.3055656694407944, 1.3055648014288694, 1.3055670799601728, 0.23029625841224194, 0.23029623128686927, 1.305566103446757, 1.3055657779422851, 0.2302965025405959, 0.23029492926898157, 0.2302966924182045, 0.007603347067532647, 0.007603347067532647, 0.007603347067532647, 0.007603347067532647, 0.007603347067532647, 0.007603347067532647, 0.007603347067532647, 0.007603347067532647, 0.007603347067532647, 0.007603347067532647, 0.007603347067532647, 0.007603347067532647, 0.007603347067532647, 0.007603347067532647, 0.007603347067532647, 0.007603347067532647, 0.007603347067532647, 0.007603347067532647, 0.007603347067532647, 0.3401897542360183, 0.29501007795065126, 0.3453916273206036, 0.3645396455976051, 0.019964901247580727, 0.019964901247580727, 0.29342155075347276, 0.019964901247580727, 0.019964901247580727, 0.019964901247580727, 0.019964901247580727, 0.019964901247580727, 0.019964901247580727, 0.019964901247580727, 0.019964901247580727, 0.019964901247580727, 0.019964901247580727, 0.019964901247580727, 0.019964901247580727, 0.019964901247580727, 0.019964901247580727, 0.019964901247580727, 0.019964901247580727, 0.019964901247580727, 0.019964901247580727, 0.019964901247580727, 0.019964901247580727, 0.019964901247580727, 0.019964901247580727, 0.019964901247580727, 0.019964901247580727, 0.019964901247580727, 0.019964901247580727, 0.019964901247580727, 0.019964901247580727, 0.019964901247580727, 0.019964901247580727, 0.019964901247580727, 0.019964901247580727, 0.019964901247580727, 0.019964901247580727, 0.019964901247580727, 0.019964901247580727, 0.019964901247580727, 0.019964901247580727, 0.019964901247580727, 0.019964901247580727, 0.9930414858390464, 0.9930415748586451, 1.5140962526896737, 0.9930427321134272, 2.264282926411397, 1.5140960746504764, 2.6553171808379217, 4.209699787004667, 2.4025752289596896, 2.33497249948657, 2.122360938748612, 1.2252925504264984, 0.17516882706458592, 0.1751684709861914, 0.00578326776075664, 0.00578326776075664, 0.00578326776075664, 0.00578326776075664, 0.00578326776075664, 0.00578326776075664, 0.00578326776075664, 0.00578326776075664, 0.00578326776075664, 0.00578326776075664, 0.00578326776075664, 0.00578326776075664, 0.00578326776075664, 0.00578326776075664, 0.00578326776075664, 0.00578326776075664, 0.00578326776075664, 0.00578326776075664, 0.00578326776075664, 0.00578326776075664, 0.00578326776075664, 0.00578326776075664, 0.00578326776075664, 0.00578326776075664, 0.00578326776075664, 0.00578326776075664, 0.00578326776075664, 1.0452768847116656, 1.0452776097279308, 1.0452768847116656, 1.0452776097279308, 1.0452775191008978, 1.045276612830566, 1.0452770659657318, 1.0452774284738646, 3.1236676906391496, 1.0452772472197982, 2.0844726954970567, 2.0844734205133224, 1.0452768847116656, 1.0452772472197982, 1.0452765222035327, 2.084472151734858, 1.0452768847116656, 1.0452763409494665, 0.00608747658456349, 0.00608747658456349, 0.00608747658456349, 0.00608747658456349, 0.00608747658456349, 0.00608747658456349, 0.00608747658456349, 0.00608747658456349, 0.00608747658456349, 0.00608747658456349, 0.00608747658456349, 0.00608747658456349, 0.00608747658456349, 0.00608747658456349, 0.00608747658456349, 0.00608747658456349, 0.00608747658456349, 0.00608747658456349, 0.00608747658456349, 0.00608747658456349, 2.336741784940124, 3.1381485156552724, 1.9418312233551778, 2.07968873061789, 1.7759490886559304, 1.5747365722313307, 1.4500373664763795, 0.007462524963447239, 0.007462524963447239, 0.007462524963447239, 0.007462524963447239, 0.007462524963447239, 0.007462524963447239, 0.007462524963447239, 0.007462524963447239, 0.007462524963447239, 0.007462524963447239, 0.007462524963447239, 0.007462524963447239, 0.007462524963447239, 0.007462524963447239, 0.007462524963447239, 0.007462524963447239, 0.007462524963447239, 0.007462524963447239, 0.007462524963447239, 0.007462524963447239, 0.007462524963447239, 0.007462524963447239, 0.007462524963447239, 0.007462524963447239, 0.007462524963447239, 0.007462524963447239, 0.007462524963447239, 0.007462524963447239, 0.007462524963447239, 0.007462524963447239, 0.007462524963447239, 0.007462524963447239, 0.007462524963447239, 0.007462524963447239, 0.007462524963447239, 0.007462524963447239, 0.007462524963447239, 0.007462524963447239, 0.007462524963447239, 6.5093086917156135, 1.5395730327735597, 2.3798155992612813, 2.412635840497344, 1.8163087610094846, 1.8740170114386905, 1.5395739480487045, 0.27157473958108447, 0.2715746633081557, 0.27157424380704764, 0.2715751781504247, 0.27157338573659934, 0.2715733094636706, 0.27157437728467293, 0.008966147344901037, 0.008966147344901037, 0.008966147344901037, 0.008966147344901037, 0.008966147344901037, 0.008966147344901037, 0.008966147344901037, 0.008966147344901037, 0.008966147344901037, 0.008966147344901037, 0.008966147344901037, 0.008966147344901037, 0.008966147344901037, 0.008966147344901037, 0.008966147344901037, 0.008966147344901037, 0.008966147344901037, 0.008966147344901037, 0.008966147344901037, 0.008966147344901037, 0.008966147344901037, 0.008966147344901037, 0.008966147344901037, 0.008966147344901037, 0.008966147344901037, 0.008966147344901037, 0.008966147344901037, 0.008966147344901037, 3.408695725783692, 1.2212308989371305, 2.2270370719107575, 1.2212306532032615, 1.221231226582289, 2.7070960416881897, 4.44697210736189, 1.221230735114551, 2.2270408398300825, 1.6593964215236725, 0.00711217746124576, 0.00711217746124576, 0.00711217746124576, 0.00711217746124576, 0.00711217746124576, 0.00711217746124576, 0.00711217746124576, 0.00711217746124576, 0.00711217746124576, 0.00711217746124576, 0.00711217746124576, 0.00711217746124576, 0.00711217746124576, 0.00711217746124576, 0.00711217746124576, 0.00711217746124576, 0.00711217746124576, 0.00711217746124576, 0.00711217746124576, 0.00711217746124576, 0.00711217746124576, 0.00711217746124576, 0.00711217746124576, 0.00711217746124576, 0.00711217746124576, 0.00711217746124576, 0.00711217746124576, 0.00711217746124576, 0.00711217746124576, 0.00711217746124576, 0.00711217746124576, 0.00711217746124576, 0.00711217746124576, 2.200175714561925, 2.2001741020782353, 4.87538497766539, 7.3355674675800495, 10.580325549975763, 0.7808111341304994, 1.5570926863997727, 3.6829903764013077, 2.0427026306381824, 0.78080105610744, 6.683756871448451, 4.401000568986282, 4.027471486570204, 0.4059396014542056, 0.535743847394919, 2.333370322637229, 0.7808124010819697, 0.2760012890124505, 0.19713193310383217, 0.41698212011474856, 0.9146644417929661, 0.7808119979610473, 0.8998027555138306, 0.137733504909272, 0.1377334041290414, 1.0480163822054034, 0.13773305859682222, 0.1377336200866784, 0.6332693948391215, 0.1377337496612606, 0.25467267930785203, 0.21528972320760129, 1.3536699147784899, 1.3536698205957667, 2.787857393073875, 1.3536697264130435, 1.3536698205957667, 1.3536701973266594, 4.045255329313866, 1.4363479357826399, 1.3536702915093826, 2.6994640818783875, 1.3536709507884448, 1.3536702915093826, 1.3536698205957667, 0.10518718561441695, 1.5153180771575239, 0.08382175833530851, 0.007883486849549223, 0.007883486849549223, 0.007883486849549223, 0.007883486849549223, 0.007883486849549223, 0.007883486849549223, 0.007883486849549223, 0.007883486849549223, 0.007883486849549223, 0.007883486849549223, 0.007883486849549223, 0.007883486849549223, 0.007883486849549223, 0.007883486849549223, 0.007883486849549223, 0.007883486849549223, 0.007883486849549223, 0.007883486849549223, 0.007883486849549223, 0.007883486849549223, 0.007883486849549223, 0.007883486849549223, 0.007883486849549223, 0.007883486849549223, 1.1875247624772256, 0.5909871569083521, 1.2029228698037215, 0.6445135390604301, 0.5963409933966533, 1.7655111332481346, 0.6445132409825461, 0.5906983194388532, 0.6445133602136998, 0.5901012098218251, 1.7726629755321193, 0.5962189006954078, 1.17533659626687, 0.6445134794448533, 0.5870944982069279, 0.6445135390604301, 0.644513300598123, 0.6445138967538907, 0.644513002520239, 0.0037535077946526905, 0.0037535077946526905, 0.0037535077946526905, 0.0037535077946526905, 0.0037535077946526905, 0.0037535077946526905, 0.0037535077946526905, 0.0037535077946526905, 0.0037535077946526905, 0.0037535077946526905, 0.0037535077946526905, 0.0037535077946526905, 0.0037535077946526905, 0.0037535077946526905, 0.0037535077946526905, 0.0037535077946526905, 0.0037535077946526905, 0.0037535077946526905, 0.0037535077946526905, 0.0037535077946526905, 10.389807410346332, 7.825070761170111, 4.07014995424789, 4.261539993998882, 5.1699329363640505, 8.439151002890517, 3.5381200302532796, 1.6098276605882758, 1.8621996988033365, 0.00937527119473777, 0.00937527119473777, 0.00937527119473777, 0.00937527119473777, 0.00937527119473777, 0.00937527119473777, 0.00937527119473777, 0.00937527119473777, 0.00937527119473777, 0.00937527119473777, 0.00937527119473777, 0.00937527119473777, 0.00937527119473777, 0.00937527119473777, 0.00937527119473777, 0.00937527119473777, 0.00937527119473777, 0.00937527119473777, 0.00937527119473777, 0.00937527119473777, 0.00937527119473777, 0.00937527119473777, 0.00937527119473777, 0.00937527119473777, 0.00937527119473777, 0.00937527119473777, 0.00937527119473777, 0.00937527119473777, 0.00937527119473777, 0.00937527119473777, 0.00937527119473777, 0.00937527119473777, 0.00937527119473777, 0.00937527119473777, 0.00937527119473777, 0.00937527119473777, 1.8695135068046516, 1.0251759887881848, 2.04438649890254, 1.0251767086770032, 1.0251766286893567, 1.0251767086770032, 1.0251757488252453, 1.0251763087387706, 1.0251762287511244, 2.888727296412512, 1.0251766286893567, 1.0251759887881848, 1.0251764687140636, 1.0251757488252453, 1.0251755888499525, 1.0251766286893567, 1.0251759088005383, 0.005970407287640151, 0.005970407287640151, 0.005970407287640151, 0.005970407287640151, 0.005970407287640151, 0.005970407287640151, 0.005970407287640151, 0.005970407287640151, 0.005970407287640151, 0.005970407287640151, 0.005970407287640151, 0.005970407287640151, 0.005970407287640151, 0.005970407287640151, 0.005970407287640151, 0.005970407287640151, 0.005970407287640151, 0.005970407287640151, 0.005970407287640151, 0.005970407287640151, 0.005970407287640151, 0.005970407287640151, 1.099184828140455, 6.721442276454687, 1.099184611392452, 1.099183310904433, 5.264321746667147, 1.099184611392452, 1.09918515326246, 1.6517012811469916, 1.0991842862704473, 1.0991842862704473, 2.1919740729523705, 1.09918515326246, 1.3156108521179921, 1.6065118150951307, 1.1943103247648563, 0.00640141943785855, 0.00640141943785855, 0.00640141943785855, 0.00640141943785855, 0.00640141943785855, 0.00640141943785855, 0.00640141943785855, 0.00640141943785855, 0.00640141943785855, 0.00640141943785855, 0.00640141943785855, 0.00640141943785855, 0.00640141943785855, 0.00640141943785855, 0.00640141943785855, 0.00640141943785855, 0.00640141943785855, 0.00640141943785855, 0.00640141943785855, 0.00640141943785855, 0.00640141943785855, 0.00640141943785855, 0.00640141943785855, 0.00640141943785855, 0.00640141943785855, 0.00640141943785855, 0.04194673455432897, 0.04194673455432897, 0.04194673455432897, 0.04194673455432897, 0.04194673455432897, 0.04194673455432897, 0.04194673455432897, 0.04194673455432897, 0.04194673455432897, 0.04194673455432897, 0.04194673455432897, 0.04194673455432897, 0.04194673455432897, 0.04194673455432897, 0.04194673455432897, 0.04194673455432897, 0.04194673455432897, 0.04194673455432897, 0.04194673455432897, 0.04194673455432897, 0.04194673455432897, 0.04194673455432897, 0.04194673455432897, 0.04194673455432897, 0.04194673455432897, 0.04194673455432897, 0.04194673455432897, 0.04194673455432897, 0.04194673455432897, 0.04194673455432897, 0.04194673455432897, 0.04194673455432897, 0.04194673455432897, 0.04194673455432897, 0.04194673455432897, 0.04194673455432897, 0.04194673455432897, 0.04194673455432897, 0.04194673455432897, 0.04194673455432897, 0.04194673455432897, 0.04194673455432897, 0.04194673455432897, 0.04194673455432897, 0.04194673455432897, 0.04194673455432897, 0.04194673455432897, 0.04194673455432897, 0.04194673455432897, 0.04194673455432897, 0.04194673455432897, 0.04194673455432897, 0.04194673455432897, 0.04194673455432897, 0.04194673455432897, 0.04194673455432897, 0.04194673455432897, 0.04194673455432897, 0.04194673455432897, 0.04194673455432897, 0.04194673455432897, 0.04194673455432897, 0.04194673455432897, 0.04194673455432897, 0.04194673455432897, 0.04194673455432897, 0.04194673455432897, 0.04194673455432897, 0.04194673455432897, 0.04194673455432897, 0.04194673455432897, 0.04194673455432897, 0.04194673455432897, 0.04194673455432897, 0.04194673455432897, 0.04194673455432897, 0.04194673455432897, 0.04194673455432897, 0.04194673455432897, 0.04194673455432897, 0.04194673455432897, 0.04194673455432897, 0.04194673455432897, 0.04194673455432897, 0.04194673455432897, 0.04194673455432897, 0.04194673455432897, 0.04194673455432897, 0.04194673455432897, 0.04194673455432897, 0.04194673455432897, 0.04194673455432897, 0.04194673455432897, 0.04194673455432897, 0.04194673455432897, 0.04194673455432897, 0.04194673455432897, 0.04194673455432897, 1.9246709521616785, 11.65826560496756, 2.952554522758576, 2.672986159259066, 1.9246719294570216, 0.011208845886416989, 0.011208845886416989, 0.011208845886416989, 0.011208845886416989, 0.011208845886416989, 0.011208845886416989, 0.011208845886416989, 0.011208845886416989, 0.011208845886416989, 0.011208845886416989, 0.011208845886416989, 0.011208845886416989, 0.011208845886416989, 0.011208845886416989, 0.011208845886416989, 0.011208845886416989, 0.011208845886416989, 0.011208845886416989, 0.011208845886416989, 0.011208845886416989, 0.011208845886416989, 0.011208845886416989, 0.011208845886416989, 0.011208845886416989, 0.011208845886416989, 0.011208845886416989, 0.011208845886416989, 0.011208845886416989, 0.011208845886416989, 0.011208845886416989, 0.011208845886416989, 0.011208845886416989, 0.011208845886416989, 0.011208845886416989, 0.011208845886416989, 0.011208845886416989, 0.011208845886416989, 0.011208845886416989, 0.011208845886416989, 0.011208845886416989, 0.011208845886416989, 3.7571644439287533, 1.4192960740746525, 2.5765942081140536, 1.900497438187446, 2.83995116961182, 0.008265659547850806, 0.008265659547850806, 0.008265659547850806, 0.008265659547850806, 0.008265659547850806, 0.008265659547850806, 0.008265659547850806, 0.008265659547850806, 0.008265659547850806, 0.008265659547850806, 0.008265659547850806, 0.008265659547850806, 0.008265659547850806, 0.008265659547850806, 0.008265659547850806, 0.008265659547850806, 0.008265659547850806, 0.008265659547850806, 0.008265659547850806, 0.008265659547850806, 0.008265659547850806, 0.008265659547850806, 0.008265659547850806, 0.008265659547850806, 0.008265659547850806, 0.008265659547850806, 0.008265659547850806, 0.008265659547850806, 0.008265659547850806, 0.008265659547850806, 0.008265659547850806, 0.008265659547850806, 0.008265659547850806, 0.008265659547850806, 0.008265659547850806, 0.008265659547850806, 0.008265659547850806, 0.008265659547850806, 0.008265659547850806, 0.008265659547850806, 0.008265659547850806, 2.897254133588028, 1.0282058919692647, 1.028205426718993, 1.0282039379181236, 1.0282049614687214, 1.02820514756883, 1.0282060780693736, 2.0504288515445146, 2.152911948194346, 2.0504284793442973, 1.0282049614687214, 1.02820514756883, 2.148862595929536, 2.050425687842667, 1.028206171119428, 1.028205705869156, 1.0282050545187758, 0.005988051237434278, 0.005988051237434278, 0.005988051237434278, 0.005988051237434278, 0.005988051237434278, 0.005988051237434278, 0.005988051237434278, 0.005988051237434278, 0.005988051237434278, 0.005988051237434278, 0.005988051237434278, 0.005988051237434278, 0.005988051237434278, 0.005988051237434278, 0.005988051237434278, 0.005988051237434278, 0.005988051237434278, 0.005988051237434278, 0.005988051237434278, 0.005988051237434278, 7.9914781622983595, 7.15714016829007, 6.949425994082095, 1.091690726696468, 4.27579852782183, 1.0916906511343656, 1.9908059952531685, 6.59187640252452, 1.0916906511343656, 1.3256096868520078, 0.026758786029662186, 0.041486167987514255, 0.044522645235653587, 0.026539072688064286, 0.022073449257078423, 0.039307918013158936, 0.025234835382923062, 0.02264392187747433, 0.01915836842954608, 0.04084144379504675, 0.017956193092090168, 0.02035347398780714, 0.06067260419608495, 0.02308166258126294, 0.03714057495600504, 0.02140984634561863, 0.006357782889190074, 0.006357782889190074, 0.006357782889190074, 0.006357782889190074, 0.06782666347077863, 0.052622293380948995, 0.07396512086447393, 0.04398781667569402, 0.023377381952494822, 3.745598687859906, 3.1830545690947534, 4.668547416626748, 2.78918186245399, 4.672096795791843, 3.846821657932671, 0.012285019283144133, 0.012285019283144133, 0.012285019283144133, 0.012285019283144133, 0.012285019283144133, 0.012285019283144133, 0.012285019283144133, 0.012285019283144133, 0.012285019283144133, 0.012285019283144133, 0.012285019283144133, 0.012285019283144133, 0.012285019283144133, 0.012285019283144133, 0.012285019283144133, 0.012285019283144133, 0.012285019283144133, 0.012285019283144133, 0.012285019283144133, 0.012285019283144133, 0.012285019283144133, 0.012285019283144133, 0.012285019283144133, 0.012285019283144133, 0.012285019283144133, 0.012285019283144133, 0.012285019283144133, 0.012285019283144133, 0.012285019283144133, 0.012285019283144133, 0.012285019283144133, 0.012285019283144133, 0.012285019283144133, 0.012285019283144133, 0.012285019283144133, 0.012285019283144133, 0.012285019283144133, 0.012285019283144133, 0.012285019283144133, 0.012285019283144133, 0.012285019283144133, 4.917035957529545, 1.4166839370146778, 1.4166846881385993, 2.9203893359529194, 1.9029725802677957, 1.4166841873893183, 2.2921280061790084, 0.008250447846307197, 0.008250447846307197, 0.008250447846307197, 0.008250447846307197, 0.008250447846307197, 0.008250447846307197, 0.008250447846307197, 0.008250447846307197, 0.008250447846307197, 0.008250447846307197, 0.008250447846307197, 0.008250447846307197, 0.008250447846307197, 0.008250447846307197, 0.008250447846307197, 0.008250447846307197, 0.008250447846307197, 0.008250447846307197, 0.008250447846307197, 0.008250447846307197, 0.008250447846307197, 0.008250447846307197, 0.008250447846307197, 0.008250447846307197, 0.008250447846307197, 0.008250447846307197, 0.008250447846307197, 0.008250447846307197, 0.008250447846307197, 0.008250447846307197, 0.008250447846307197, 0.008250447846307197, 0.008250447846307197, 0.008250447846307197, 0.008250447846307197, 0.008250447846307197, 0.008250447846307197, 0.008250447846307197, 0.008250447846307197, 3.849550390789462, 1.9544751770735034, 1.3898227833646457, 0.5245831854226572, 2.7715523340479606, 1.3898225689970904, 0.963258465890614, 0.5245779870094421, 0.5245824351362138, 0.008094018137451496, 0.008094018137451496, 0.008094018137451496, 0.008094018137451496, 0.008094018137451496, 0.008094018137451496, 0.008094018137451496, 0.008094018137451496, 0.008094018137451496, 0.008094018137451496, 0.008094018137451496, 0.008094018137451496, 0.008094018137451496, 0.008094018137451496, 0.008094018137451496, 0.008094018137451496, 0.008094018137451496, 0.008094018137451496, 0.008094018137451496, 0.008094018137451496, 0.008094018137451496, 0.008094018137451496, 0.008094018137451496, 0.008094018137451496, 0.008094018137451496, 0.008094018137451496, 0.008094018137451496, 0.008094018137451496, 0.008094018137451496, 0.008094018137451496, 0.008094018137451496, 0.008094018137451496, 0.008094018137451496, 0.008094018137451496, 0.008094018137451496, 1.078405804872099, 1.0784050029976944, 1.0784049027633937, 1.078404100888989, 3.222661865656149, 1.0784042011232895, 1.0784054039348967, 3.2226690825257913, 1.0784055041691971, 3.2226684811199875, 2.150537944870448, 1.078405804872099, 1.0784051032319948, 1.0784047022947925, 1.0784052034662954, 0.190226134110234, 0.19022598375878313, 1.0784042011232895, 1.078405303700596, 0.3741709855398735, 0.006280411503567988, 0.006280411503567988, 0.006280411503567988, 0.006280411503567988, 0.006280411503567988, 0.006280411503567988, 0.006280411503567988, 0.006280411503567988, 0.006280411503567988, 0.006280411503567988, 0.006280411503567988, 0.006280411503567988, 0.006280411503567988, 0.006280411503567988, 0.006280411503567988, 0.006280411503567988, 0.006280411503567988, 0.006280411503567988, 7.414659340278733, 4.122640094411463, 1.2590049741591547, 1.2590038882064278, 1.2590043894153786, 1.7302812252281756, 2.5106834429448583, 6.355034785547222, 1.2590043894153786, 5.0527288664997885, 1.450305905299564, 1.2590036376019524, 1.2590032199278267, 2.773997407860628, 1.5401870381716931, 2.6952675058656648, 1.2590042223457285, 0.00733217725755476, 0.00733217725755476, 0.00733217725755476, 0.00733217725755476, 0.00733217725755476, 0.00733217725755476, 0.00733217725755476, 0.00733217725755476, 0.00733217725755476, 0.00733217725755476, 0.00733217725755476, 0.00733217725755476, 0.00733217725755476, 0.00733217725755476, 0.00733217725755476, 0.00733217725755476, 0.00733217725755476, 0.00733217725755476, 0.00733217725755476, 0.00733217725755476, 0.00733217725755476, 0.04194673455432897, 0.04194673455432897, 0.04194673455432897, 0.04194673455432897, 0.04194673455432897, 0.04194673455432897, 0.04194673455432897, 0.04194673455432897, 0.04194673455432897, 0.04194673455432897, 0.04194673455432897, 0.04194673455432897, 0.04194673455432897, 0.04194673455432897, 0.04194673455432897, 0.04194673455432897, 0.04194673455432897, 0.04194673455432897, 0.04194673455432897, 0.04194673455432897, 0.04194673455432897, 0.04194673455432897, 0.04194673455432897, 0.04194673455432897, 0.04194673455432897, 0.04194673455432897, 0.04194673455432897, 0.04194673455432897, 0.04194673455432897, 0.04194673455432897, 0.04194673455432897, 0.04194673455432897, 0.04194673455432897, 0.04194673455432897, 0.04194673455432897, 0.04194673455432897, 0.04194673455432897, 0.04194673455432897, 0.04194673455432897, 0.04194673455432897, 0.04194673455432897, 0.04194673455432897, 0.04194673455432897, 0.04194673455432897, 0.04194673455432897, 0.04194673455432897, 0.04194673455432897, 0.04194673455432897, 0.04194673455432897, 6.62244587102607, 2.704757950539815, 1.4831941335183152, 1.4831942456112612, 1.4831944697971533, 1.4831943577042073, 1.4831922279382328, 1.4831944697971533, 2.7047480863605644, 1.4831941335183152, 2.704757726353923, 2.9951051346943163, 1.483193236774747, 0.00863779747568189, 0.00863779747568189, 0.00863779747568189, 0.00863779747568189, 0.00863779747568189, 0.00863779747568189, 0.00863779747568189, 0.00863779747568189, 0.00863779747568189, 0.00863779747568189, 0.00863779747568189, 0.00863779747568189, 0.00863779747568189, 0.00863779747568189, 0.00863779747568189, 0.00863779747568189, 0.00863779747568189, 0.00863779747568189, 0.00863779747568189, 0.00863779747568189, 0.00863779747568189, 0.00863779747568189, 0.00863779747568189, 0.00863779747568189, 0.00863779747568189, 0.00863779747568189, 0.00863779747568189, 0.00863779747568189, 1.4645913328576012, 0.7344328850153253, 0.7344322098981043, 0.7344328175036032, 0.7344320748746601, 0.7344331550622137, 0.7344323449215485, 0.734432682480159, 0.7344322774098264, 0.7344327499918811, 0.7344319398512159, 0.004277174562406379, 0.004277174562406379, 0.004277174562406379, 0.004277174562406379, 0.004277174562406379, 0.004277174562406379, 0.004277174562406379, 0.004277174562406379, 0.004277174562406379, 0.004277174562406379, 0.004277174562406379, 0.004277174562406379, 0.004277174562406379, 0.004277174562406379, 0.004277174562406379, 0.004277174562406379, 0.004277174562406379, 0.004277174562406379, 0.004277174562406379, 0.004277174562406379, 0.004277174562406379, 0.004277174562406379, 0.004277174562406379, 0.004277174562406379, 0.004277174562406379, 0.004277174562406379, 0.004277174562406379, 0.004277174562406379, 0.004277174562406379, 0.004277174562406379, 0.004277174562406379], \"Total\": [184.0, 142.0, 132.0, 156.0, 93.0, 102.0, 80.0, 96.0, 52.0, 75.0, 80.0, 132.0, 38.0, 55.0, 53.0, 67.0, 51.0, 52.0, 47.0, 51.0, 40.0, 45.0, 38.0, 30.0, 32.0, 31.0, 28.0, 29.0, 19.0, 28.0, 15.476890227362496, 75.35219928330214, 80.61863722420617, 80.22034465429945, 51.5978943223491, 51.420908333727574, 14.817057626191968, 184.32113600010626, 40.3635141087678, 67.98364529923687, 55.982659262637654, 8.847048190097636, 8.945407860542785, 93.63092391367763, 10.021472022981916, 10.127214311660515, 11.279075768609728, 11.500307125121559, 11.64562743861828, 12.2869222706446, 12.676273158904753, 13.037290054117928, 13.183223488354527, 13.452031402812603, 13.666910637715269, 13.796813125810381, 13.991848222921861, 14.315564319383704, 14.325701180157946, 14.487762375649686, 132.63378145230007, 52.272868594304434, 38.89488123346102, 52.55442549250665, 19.04441368524358, 19.18532503157831, 96.92920160851949, 28.51801494875681, 21.99450939983406, 156.36017404945915, 22.952071441108295, 102.18308311896148, 142.94454612551908, 80.22034465429945, 93.63092391367763, 132.63378145230007, 142.94454612551908, 184.32113600010626, 8.847048190097636, 8.945407860542785, 10.021472022981916, 10.127214311660515, 11.279075768609728, 11.500307125121559, 11.64562743861828, 12.2869222706446, 12.676273158904753, 13.037290054117928, 13.183223488354527, 13.452031402812603, 13.666910637715269, 13.796813125810381, 13.991848222921861, 14.315564319383704, 14.325701180157946, 14.487762375649686, 14.699578982813062, 14.817057626191968, 14.910772384141504, 15.476890227362496, 16.002812568832034, 16.59398305148057, 17.02986381136527, 52.272868594304434, 19.18532503157831, 19.04441368524358, 52.55442549250665, 67.98364529923687, 28.51801494875681, 38.89488123346102, 75.35219928330214, 96.92920160851949, 17.8371468122081, 156.36017404945915, 22.952071441108295, 102.18308311896148, 80.61863722420617, 32.44763316728335, 38.85602553419659, 132.45136863085125, 8.945407860542785, 12.676273158904753, 14.910772384141504, 18.379524933316834, 47.87647191995549, 38.89488123346102, 53.537500030487394, 80.22034465429945, 40.3635141087678, 45.9952151976854, 102.18308311896148, 51.5978943223491, 52.55442549250665, 55.982659262637654, 67.98364529923687, 156.36017404945915, 184.32113600010626, 132.45136863085125, 93.63092391367763, 132.63378145230007, 142.94454612551908, 8.847048190097636, 10.021472022981916, 10.127214311660515, 11.279075768609728, 11.500307125121559, 11.64562743861828, 12.2869222706446, 13.037290054117928, 13.183223488354527, 19.04441368524358, 21.99450939983406, 19.18532503157831, 52.272868594304434, 96.92920160851949, 28.51801494875681, 13.991848222921861, 11.279075768609728, 28.859754394601325, 18.370976064742223, 55.982659262637654, 53.537500030487394, 28.51801494875681, 93.63092391367763, 45.9952151976854, 184.32113600010626, 102.18308311896148, 132.63378145230007, 96.92920160851949, 132.45136863085125, 142.94454612551908, 156.36017404945915, 8.847048190097636, 8.945407860542785, 10.021472022981916, 10.127214311660515, 11.500307125121559, 11.64562743861828, 12.2869222706446, 12.676273158904753, 13.037290054117928, 13.183223488354527, 13.452031402812603, 13.666910637715269, 13.796813125810381, 13.991848222921861, 14.315564319383704, 38.89488123346102, 19.18532503157831, 75.35219928330214, 67.98364529923687, 52.55442549250665, 19.04441368524358, 21.99450939983406, 52.272868594304434, 80.22034465429945, 14.817057626191968, 38.89488123346102, 52.55442549250665, 142.94454612551908, 93.63092391367763, 132.63378145230007, 8.847048190097636, 8.945407860542785, 10.021472022981916, 10.127214311660515, 11.279075768609728, 11.500307125121559, 11.64562743861828, 12.2869222706446, 12.676273158904753, 13.037290054117928, 13.183223488354527, 13.452031402812603, 13.666910637715269, 13.796813125810381, 13.991848222921861, 14.315564319383704, 14.325701180157946, 14.487762375649686, 14.699578982813062, 14.817057626191968, 14.910772384141504, 15.476890227362496, 16.002812568832034, 16.59398305148057, 17.02986381136527, 96.92920160851949, 52.272868594304434, 19.18532503157831, 19.04441368524358, 67.98364529923687, 75.35219928330214, 28.51801494875681, 21.99450939983406, 17.8371468122081, 156.36017404945915, 22.952071441108295, 102.18308311896148, 184.32113600010626, 80.61863722420617, 32.44763316728335, 38.85602553419659, 132.45136863085125, 14.315564319383704, 10.021472022981916, 11.279075768609728, 19.99857112501684, 14.325701180157946, 18.448865236237314, 16.59398305148057, 28.613528783743526, 21.774612858002552, 29.380211803645576, 8.847048190097636, 8.945407860542785, 28.859754394601325, 32.44763316728335, 10.127214311660515, 102.18308311896148, 11.500307125121559, 11.64562743861828, 12.2869222706446, 67.98364529923687, 12.676273158904753, 13.037290054117928, 13.183223488354527, 13.452031402812603, 75.35219928330214, 13.666910637715269, 13.796813125810381, 13.991848222921861, 14.487762375649686, 14.699578982813062, 184.32113600010626, 96.92920160851949, 142.94454612551908, 156.36017404945915, 132.45136863085125, 52.272868594304434, 38.89488123346102, 55.982659262637654, 52.55442549250665, 19.04441368524358, 19.18532503157831, 53.537500030487394, 38.85602553419659, 51.5978943223491, 12.2869222706446, 80.22034465429945, 132.45136863085125, 184.32113600010626, 132.63378145230007, 18.448865236237314, 93.63092391367763, 30.313682331582662, 47.87647191995549, 52.272868594304434, 67.98364529923687, 96.92920160851949, 156.36017404945915, 19.18532503157831, 55.982659262637654, 51.420908333727574, 8.847048190097636, 8.945407860542785, 10.021472022981916, 10.127214311660515, 11.279075768609728, 11.500307125121559, 11.64562743861828, 12.676273158904753, 13.037290054117928, 13.183223488354527, 13.452031402812603, 13.666910637715269, 13.796813125810381, 38.89488123346102, 52.55442549250665, 19.04441368524358, 75.35219928330214, 28.51801494875681, 13.991848222921861, 14.817057626191968, 22.952071441108295, 16.59398305148057, 10.021472022981916, 19.99857112501684, 11.279075768609728, 13.991848222921861, 14.325701180157946, 14.315564319383704, 29.380211803645576, 18.448865236237314, 21.774612858002552, 75.35219928330214, 102.18308311896148, 28.51801494875681, 28.613528783743526, 28.859754394601325, 32.44763316728335, 40.3635141087678, 67.98364529923687, 96.92920160851949, 52.272868594304434, 132.45136863085125, 184.32113600010626, 156.36017404945915, 14.487762375649686, 17.8371468122081, 142.94454612551908, 93.63092391367763, 132.63378145230007, 8.847048190097636, 8.945407860542785, 53.537500030487394, 45.9952151976854, 10.021472022981916, 13.991848222921861, 45.9952151976854, 18.370976064742223, 20.018062480741694, 13.183223488354527, 96.92920160851949, 30.313682331582662, 47.87647191995549, 142.94454612551908, 52.272868594304434, 156.36017404945915, 80.61863722420617, 75.35219928330214, 184.32113600010626, 132.63378145230007, 132.45136863085125, 8.847048190097636, 8.945407860542785, 10.127214311660515, 11.279075768609728, 11.500307125121559, 11.64562743861828, 12.2869222706446, 12.676273158904753, 13.037290054117928, 13.452031402812603, 13.666910637715269, 13.796813125810381, 14.315564319383704, 19.04441368524358, 19.18532503157831, 67.98364529923687, 52.55442549250665, 38.89488123346102, 14.817057626191968, 28.51801494875681, 21.99450939983406, 14.487762375649686, 8.847048190097636, 8.945407860542785, 10.021472022981916, 10.127214311660515, 11.279075768609728, 11.500307125121559, 11.64562743861828, 12.2869222706446, 12.676273158904753, 13.037290054117928, 13.183223488354527, 13.452031402812603, 13.666910637715269, 13.796813125810381, 13.991848222921861, 14.315564319383704, 14.325701180157946, 14.487762375649686, 14.699578982813062, 14.817057626191968, 14.910772384141504, 15.476890227362496, 16.002812568832034, 16.59398305148057, 17.02986381136527, 17.8371468122081, 18.370976064742223, 18.379524933316834, 18.448865236237314, 19.04441368524358, 67.98364529923687, 96.92920160851949, 52.272868594304434, 19.18532503157831, 52.55442549250665, 38.89488123346102, 75.35219928330214, 132.63378145230007, 80.22034465429945, 28.51801494875681, 21.99450939983406, 32.44763316728335, 55.982659262637654, 53.537500030487394, 132.45136863085125, 38.85602553419659, 80.61863722420617, 142.94454612551908, 184.32113600010626, 15.476890227362496, 8.945407860542785, 18.379524933316834, 11.64562743861828, 13.991848222921861, 14.699578982813062, 16.59398305148057, 18.370976064742223, 40.3635141087678, 96.92920160851949, 29.380211803645576, 80.61863722420617, 93.63092391367763, 51.5978943223491, 45.9952151976854, 51.420908333727574, 132.63378145230007, 80.22034465429945, 75.35219928330214, 156.36017404945915, 132.45136863085125, 142.94454612551908, 184.32113600010626, 8.847048190097636, 10.021472022981916, 10.127214311660515, 11.279075768609728, 11.500307125121559, 12.2869222706446, 12.676273158904753, 102.18308311896148, 13.183223488354527, 55.982659262637654, 13.666910637715269, 67.98364529923687, 53.537500030487394, 52.55442549250665, 11.64562743861828, 13.991848222921861, 14.817057626191968, 21.99450939983406, 28.51801494875681, 28.859754394601325, 102.18308311896148, 142.94454612551908, 52.272868594304434, 96.92920160851949, 184.32113600010626, 51.5978943223491, 80.22034465429945, 80.61863722420617, 93.63092391367763, 132.45136863085125, 132.63378145230007, 8.847048190097636, 8.945407860542785, 10.021472022981916, 10.127214311660515, 11.279075768609728, 11.500307125121559, 12.2869222706446, 12.676273158904753, 13.037290054117928, 13.183223488354527, 13.452031402812603, 13.666910637715269, 13.796813125810381, 14.487762375649686, 38.85602553419659, 22.952071441108295, 75.35219928330214, 38.89488123346102, 156.36017404945915, 67.98364529923687, 17.8371468122081, 52.55442549250665, 13.796813125810381, 14.325701180157946, 14.487762375649686, 16.002812568832034, 17.8371468122081, 75.35219928330214, 19.99857112501684, 45.9952151976854, 51.5978943223491, 52.55442549250665, 28.859754394601325, 32.44763316728335, 38.89488123346102, 52.272868594304434, 67.98364529923687, 142.94454612551908, 184.32113600010626, 93.63092391367763, 102.18308311896148, 96.92920160851949, 21.99450939983406, 19.04441368524358, 132.63378145230007, 13.037290054117928, 23.135977061277426, 8.847048190097636, 8.945407860542785, 10.021472022981916, 10.127214311660515, 11.279075768609728, 156.36017404945915, 28.51801494875681, 55.982659262637654, 38.85602553419659, 132.45136863085125, 18.448865236237314, 15.476890227362496, 17.8371468122081, 21.441209684319663, 75.35219928330214, 51.5978943223491, 30.313682331582662, 38.85602553419659, 96.92920160851949, 52.272868594304434, 67.98364529923687, 80.22034465429945, 102.18308311896148, 16.59398305148057, 132.45136863085125, 132.63378145230007, 8.847048190097636, 38.89488123346102, 17.02986381136527, 52.55442549250665, 53.537500030487394, 55.982659262637654, 13.183223488354527, 142.94454612551908, 184.32113600010626, 28.613528783743526, 47.87647191995549, 45.9952151976854, 8.945407860542785, 10.021472022981916, 156.36017404945915, 14.817057626191968, 19.99857112501684, 10.021472022981916, 31.744609410024175, 28.859754394601325, 45.9952151976854, 18.379524933316834, 19.18532503157831, 23.135977061277426, 80.61863722420617, 93.63092391367763, 28.51801494875681, 80.22034465429945, 75.35219928330214, 132.63378145230007, 11.64562743861828, 96.92920160851949, 102.18308311896148, 47.87647191995549, 184.32113600010626, 67.98364529923687, 13.183223488354527, 38.89488123346102, 52.55442549250665, 132.45136863085125, 12.676273158904753, 142.94454612551908, 17.02986381136527, 14.315564319383704, 20.018062480741694, 17.8371468122081, 29.380211803645576, 28.613528783743526, 51.420908333727574, 8.847048190097636, 8.945407860542785, 10.021472022981916, 10.127214311660515, 11.279075768609728, 11.500307125121559, 11.64562743861828, 12.2869222706446, 12.676273158904753, 13.037290054117928, 13.183223488354527, 13.452031402812603, 13.666910637715269, 13.796813125810381, 13.991848222921861, 14.315564319383704, 14.325701180157946, 14.487762375649686, 14.699578982813062, 14.817057626191968, 14.910772384141504, 15.476890227362496, 16.002812568832034, 16.59398305148057, 17.02986381136527, 17.8371468122081, 18.370976064742223, 18.379524933316834, 18.448865236237314, 19.04441368524358, 67.98364529923687, 96.92920160851949, 52.272868594304434, 19.18532503157831, 52.55442549250665, 38.89488123346102, 75.35219928330214, 132.63378145230007, 80.22034465429945, 28.51801494875681, 21.99450939983406, 32.44763316728335, 55.982659262637654, 53.537500030487394, 132.45136863085125, 38.85602553419659, 80.61863722420617, 142.94454612551908, 184.32113600010626, 28.51801494875681, 19.99857112501684, 52.55442549250665, 38.89488123346102, 80.61863722420617, 80.22034465429945, 40.3635141087678, 51.5978943223491, 67.98364529923687, 132.45136863085125, 156.36017404945915, 184.32113600010626, 93.63092391367763, 132.63378145230007, 8.847048190097636, 8.945407860542785, 10.021472022981916, 10.127214311660515, 11.279075768609728, 11.500307125121559, 11.64562743861828, 12.2869222706446, 12.676273158904753, 13.037290054117928, 13.183223488354527, 13.452031402812603, 13.666910637715269, 13.796813125810381, 13.991848222921861, 14.315564319383704, 52.272868594304434, 75.35219928330214, 19.04441368524358, 19.18532503157831, 96.92920160851949, 21.99450939983406, 14.817057626191968, 22.952071441108295, 102.18308311896148, 142.94454612551908, 32.44763316728335, 53.537500030487394, 55.982659262637654, 93.63092391367763, 142.94454612551908, 8.847048190097636, 8.945407860542785, 10.021472022981916, 10.127214311660515, 132.63378145230007, 11.279075768609728, 11.500307125121559, 11.64562743861828, 12.2869222706446, 12.676273158904753, 13.037290054117928, 13.183223488354527, 13.452031402812603, 13.666910637715269, 13.796813125810381, 13.991848222921861, 14.315564319383704, 14.325701180157946, 14.487762375649686, 14.699578982813062, 14.817057626191968, 14.910772384141504, 15.476890227362496, 16.002812568832034, 16.59398305148057, 17.02986381136527, 67.98364529923687, 52.272868594304434, 19.18532503157831, 19.04441368524358, 52.55442549250665, 38.89488123346102, 28.51801494875681, 75.35219928330214, 96.92920160851949, 21.99450939983406, 17.8371468122081, 156.36017404945915, 22.952071441108295, 102.18308311896148, 184.32113600010626, 80.61863722420617, 32.44763316728335, 8.847048190097636, 8.945407860542785, 10.021472022981916, 10.127214311660515, 11.279075768609728, 11.500307125121559, 11.64562743861828, 12.2869222706446, 12.676273158904753, 13.037290054117928, 13.183223488354527, 13.452031402812603, 13.666910637715269, 13.796813125810381, 13.991848222921861, 14.315564319383704, 14.325701180157946, 14.487762375649686, 14.699578982813062, 14.817057626191968, 14.910772384141504, 15.476890227362496, 16.002812568832034, 16.59398305148057, 17.02986381136527, 17.8371468122081, 18.370976064742223, 18.379524933316834, 18.448865236237314, 19.04441368524358, 67.98364529923687, 96.92920160851949, 52.272868594304434, 19.18532503157831, 52.55442549250665, 38.89488123346102, 75.35219928330214, 132.63378145230007, 80.22034465429945, 28.51801494875681, 21.99450939983406, 32.44763316728335, 55.982659262637654, 53.537500030487394, 132.45136863085125, 38.85602553419659, 80.61863722420617, 142.94454612551908, 184.32113600010626, 17.02986381136527, 52.272868594304434, 14.699578982813062, 14.817057626191968, 45.9952151976854, 28.51801494875681, 11.279075768609728, 19.18532503157831, 20.018062480741694, 21.774612858002552, 12.676273158904753, 8.945407860542785, 75.35219928330214, 142.94454612551908, 16.59398305148057, 29.380211803645576, 14.910772384141504, 156.36017404945915, 67.98364529923687, 12.2869222706446, 14.487762375649686, 80.22034465429945, 102.18308311896148, 51.5978943223491, 31.744609410024175, 51.420908333727574, 32.44763316728335, 10.127214311660515, 13.796813125810381, 96.92920160851949, 52.55442549250665, 184.32113600010626, 132.63378145230007, 132.45136863085125, 67.98364529923687, 22.952071441108295, 28.859754394601325, 102.18308311896148, 51.420908333727574, 55.982659262637654, 75.35219928330214, 80.61863722420617, 142.94454612551908, 156.36017404945915, 184.32113600010626, 8.847048190097636, 8.945407860542785, 10.021472022981916, 10.127214311660515, 11.279075768609728, 11.500307125121559, 11.64562743861828, 12.2869222706446, 12.676273158904753, 13.037290054117928, 13.183223488354527, 13.452031402812603, 13.666910637715269, 13.796813125810381, 13.991848222921861, 14.315564319383704, 14.325701180157946, 14.487762375649686, 14.699578982813062, 38.89488123346102, 52.272868594304434, 132.63378145230007, 52.55442549250665, 19.04441368524358, 19.18532503157831, 21.99450939983406, 96.92920160851949, 28.51801494875681, 17.8371468122081, 14.817057626191968, 32.44763316728335, 38.85602553419659, 14.910772384141504, 18.370976064742223, 28.613528783743526, 53.537500030487394, 21.99450939983406, 67.98364529923687, 156.36017404945915, 132.63378145230007, 80.22034465429945, 93.63092391367763, 102.18308311896148, 184.32113600010626, 8.847048190097636, 8.945407860542785, 10.021472022981916, 10.127214311660515, 11.279075768609728, 11.500307125121559, 11.64562743861828, 12.2869222706446, 12.676273158904753, 13.037290054117928, 13.183223488354527, 13.452031402812603, 13.666910637715269, 13.796813125810381, 13.991848222921861, 14.315564319383704, 14.325701180157946, 14.487762375649686, 52.272868594304434, 52.55442549250665, 38.89488123346102, 75.35219928330214, 19.04441368524358, 19.18532503157831, 96.92920160851949, 28.51801494875681, 14.817057626191968, 22.952071441108295, 142.94454612551908, 80.61863722420617, 21.99450939983406, 18.448865236237314, 19.04441368524358, 13.037290054117928, 31.744609410024175, 28.859754394601325, 102.18308311896148, 23.135977061277426, 142.94454612551908, 67.98364529923687, 132.45136863085125, 156.36017404945915, 8.847048190097636, 8.945407860542785, 10.021472022981916, 10.127214311660515, 11.279075768609728, 11.500307125121559, 11.64562743861828, 12.2869222706446, 12.676273158904753, 13.183223488354527, 13.452031402812603, 13.666910637715269, 13.796813125810381, 13.991848222921861, 14.315564319383704, 14.325701180157946, 14.487762375649686, 14.699578982813062, 38.89488123346102, 52.272868594304434, 132.63378145230007, 19.18532503157831, 75.35219928330214, 28.51801494875681, 52.55442549250665, 96.92920160851949, 14.817057626191968, 80.22034465429945, 22.952071441108295, 184.32113600010626, 80.61863722420617, 23.135977061277426, 13.991848222921861, 30.313682331582662, 142.94454612551908, 184.32113600010626, 96.92920160851949, 156.36017404945915, 53.537500030487394, 8.847048190097636, 8.945407860542785, 10.021472022981916, 10.127214311660515, 11.279075768609728, 11.500307125121559, 11.64562743861828, 12.2869222706446, 12.676273158904753, 13.037290054117928, 13.183223488354527, 13.452031402812603, 13.666910637715269, 13.796813125810381, 14.315564319383704, 14.325701180157946, 14.487762375649686, 14.699578982813062, 14.817057626191968, 14.910772384141504, 15.476890227362496, 16.002812568832034, 52.55442549250665, 19.18532503157831, 19.04441368524358, 67.98364529923687, 38.89488123346102, 75.35219928330214, 132.63378145230007, 52.272868594304434, 21.99450939983406, 28.51801494875681, 17.8371468122081, 22.952071441108295, 102.18308311896148, 80.61863722420617, 32.44763316728335, 21.774612858002552, 14.699578982813062, 8.945407860542785, 16.59398305148057, 18.379524933316834, 8.847048190097636, 19.04441368524358, 21.441209684319663, 32.44763316728335, 21.99450939983406, 12.2869222706446, 11.279075768609728, 53.537500030487394, 14.487762375649686, 28.51801494875681, 13.183223488354527, 13.991848222921861, 14.325701180157946, 14.315564319383704, 30.313682331582662, 15.476890227362496, 156.36017404945915, 20.018062480741694, 96.92920160851949, 22.952071441108295, 75.35219928330214, 55.982659262637654, 52.272868594304434, 51.420908333727574, 28.859754394601325, 132.45136863085125, 102.18308311896148, 93.63092391367763, 51.5978943223491, 132.63378145230007, 142.94454612551908, 67.98364529923687, 80.22034465429945, 40.3635141087678, 8.847048190097636, 8.945407860542785, 10.021472022981916, 10.127214311660515, 11.279075768609728, 11.500307125121559, 11.64562743861828, 12.2869222706446, 12.676273158904753, 13.037290054117928, 13.183223488354527, 13.452031402812603, 13.666910637715269, 13.796813125810381, 13.991848222921861, 14.315564319383704, 14.325701180157946, 14.487762375649686, 14.699578982813062, 14.817057626191968, 14.910772384141504, 15.476890227362496, 16.002812568832034, 16.59398305148057, 17.02986381136527, 17.8371468122081, 18.370976064742223, 18.379524933316834, 18.448865236237314, 19.04441368524358, 67.98364529923687, 96.92920160851949, 52.272868594304434, 19.18532503157831, 52.55442549250665, 38.89488123346102, 75.35219928330214, 132.63378145230007, 80.22034465429945, 28.51801494875681, 21.99450939983406, 32.44763316728335, 55.982659262637654, 53.537500030487394, 132.45136863085125, 38.85602553419659, 80.61863722420617, 142.94454612551908, 184.32113600010626, 14.910772384141504, 21.99450939983406, 16.59398305148057, 102.18308311896148, 93.63092391367763, 132.63378145230007, 80.22034465429945, 156.36017404945915, 184.32113600010626, 8.847048190097636, 8.945407860542785, 10.021472022981916, 10.127214311660515, 11.279075768609728, 11.500307125121559, 11.64562743861828, 12.2869222706446, 12.676273158904753, 13.037290054117928, 13.183223488354527, 13.452031402812603, 13.666910637715269, 13.796813125810381, 13.991848222921861, 14.315564319383704, 14.325701180157946, 14.487762375649686, 14.699578982813062, 14.817057626191968, 15.476890227362496, 19.04441368524358, 52.55442549250665, 67.98364529923687, 52.272868594304434, 38.89488123346102, 75.35219928330214, 19.18532503157831, 96.92920160851949, 28.51801494875681, 17.8371468122081, 22.952071441108295, 142.94454612551908, 80.61863722420617, 32.44763316728335, 11.500307125121559, 16.002812568832034, 28.613528783743526, 10.127214311660515, 13.666910637715269, 13.796813125810381, 14.325701180157946, 14.487762375649686, 28.51801494875681, 19.04441368524358, 32.44763316728335, 18.379524933316834, 19.18532503157831, 67.98364529923687, 38.89488123346102, 22.952071441108295, 156.36017404945915, 102.18308311896148, 52.55442549250665, 96.92920160851949, 132.63378145230007, 80.61863722420617, 184.32113600010626, 51.5978943223491, 52.272868594304434, 53.537500030487394, 75.35219928330214, 22.376107071639968, 31.744609410024175, 15.476890227362496, 132.45136863085125, 45.9952151976854, 8.847048190097636, 8.945407860542785, 10.021472022981916, 10.127214311660515, 11.279075768609728, 11.500307125121559, 11.64562743861828, 12.2869222706446, 12.676273158904753, 13.037290054117928, 13.183223488354527, 13.452031402812603, 13.666910637715269, 13.796813125810381, 13.991848222921861, 14.315564319383704, 14.325701180157946, 14.487762375649686, 14.699578982813062, 14.817057626191968, 14.910772384141504, 15.476890227362496, 16.002812568832034, 16.59398305148057, 17.02986381136527, 17.8371468122081, 18.370976064742223, 18.379524933316834, 18.448865236237314, 19.04441368524358, 67.98364529923687, 96.92920160851949, 52.272868594304434, 19.18532503157831, 52.55442549250665, 38.89488123346102, 75.35219928330214, 132.63378145230007, 80.22034465429945, 28.51801494875681, 21.99450939983406, 32.44763316728335, 55.982659262637654, 53.537500030487394, 132.45136863085125, 38.85602553419659, 80.61863722420617, 142.94454612551908, 184.32113600010626, 13.796813125810381, 20.066006669302016, 38.85602553419659, 47.87647191995549, 10.127214311660515, 19.04441368524358, 21.441209684319663, 184.32113600010626, 22.376107071639968, 23.135977061277426, 53.537500030487394, 51.5978943223491, 51.420908333727574, 96.92920160851949, 142.94454612551908, 75.35219928330214, 67.98364529923687, 156.36017404945915, 132.45136863085125, 8.847048190097636, 8.945407860542785, 10.021472022981916, 11.279075768609728, 11.500307125121559, 11.64562743861828, 12.2869222706446, 12.676273158904753, 13.037290054117928, 13.183223488354527, 13.452031402812603, 19.18532503157831, 52.55442549250665, 13.666910637715269, 38.89488123346102, 21.99450939983406, 52.272868594304434, 28.51801494875681, 13.991848222921861, 14.817057626191968, 11.500307125121559, 14.817057626191968, 80.61863722420617, 52.272868594304434, 80.22034465429945, 156.36017404945915, 132.45136863085125, 8.847048190097636, 8.945407860542785, 10.021472022981916, 10.127214311660515, 11.279075768609728, 11.64562743861828, 12.2869222706446, 12.676273158904753, 13.037290054117928, 13.183223488354527, 13.452031402812603, 13.666910637715269, 13.796813125810381, 13.991848222921861, 14.315564319383704, 14.325701180157946, 14.487762375649686, 14.699578982813062, 14.910772384141504, 15.476890227362496, 16.002812568832034, 16.59398305148057, 17.02986381136527, 96.92920160851949, 132.63378145230007, 75.35219928330214, 38.89488123346102, 67.98364529923687, 52.55442549250665, 19.04441368524358, 19.18532503157831, 55.982659262637654, 28.51801494875681, 21.99450939983406, 17.8371468122081, 53.537500030487394, 22.952071441108295, 102.18308311896148, 184.32113600010626, 14.315564319383704, 29.380211803645576, 28.51801494875681, 53.537500030487394, 52.272868594304434, 80.61863722420617, 80.22034465429945, 102.18308311896148, 132.45136863085125, 8.847048190097636, 8.945407860542785, 10.021472022981916, 10.127214311660515, 11.279075768609728, 11.500307125121559, 11.64562743861828, 12.2869222706446, 12.676273158904753, 13.037290054117928, 13.183223488354527, 13.452031402812603, 13.666910637715269, 13.796813125810381, 13.991848222921861, 14.325701180157946, 14.487762375649686, 14.699578982813062, 14.817057626191968, 14.910772384141504, 15.476890227362496, 132.63378145230007, 75.35219928330214, 38.89488123346102, 67.98364529923687, 52.55442549250665, 19.04441368524358, 19.18532503157831, 96.92920160851949, 21.99450939983406, 17.8371468122081, 156.36017404945915, 22.952071441108295, 184.32113600010626, 142.94454612551908, 38.85602553419659, 47.87647191995549, 52.272868594304434, 67.98364529923687, 21.441209684319663, 28.613528783743526, 142.94454612551908, 184.32113600010626, 156.36017404945915, 8.847048190097636, 8.945407860542785, 10.021472022981916, 10.127214311660515, 11.279075768609728, 11.500307125121559, 11.64562743861828, 12.2869222706446, 12.676273158904753, 13.037290054117928, 13.183223488354527, 13.452031402812603, 13.666910637715269, 13.796813125810381, 13.991848222921861, 14.315564319383704, 14.325701180157946, 14.487762375649686, 14.699578982813062, 14.817057626191968, 14.910772384141504, 19.18532503157831, 19.04441368524358, 52.55442549250665, 38.89488123346102, 75.35219928330214, 132.63378145230007, 96.92920160851949, 21.99450939983406, 28.51801494875681, 80.22034465429945, 22.952071441108295, 102.18308311896148, 80.61863722420617, 32.44763316728335, 13.037290054117928, 93.63092391367763, 18.370976064742223, 132.63378145230007, 132.45136863085125, 80.61863722420617, 38.89488123346102, 45.9952151976854, 142.94454612551908, 51.5978943223491, 52.55442549250665, 80.22034465429945, 67.98364529923687, 8.847048190097636, 8.945407860542785, 10.021472022981916, 10.127214311660515, 11.279075768609728, 11.500307125121559, 11.64562743861828, 12.2869222706446, 12.676273158904753, 13.183223488354527, 13.452031402812603, 13.666910637715269, 13.796813125810381, 13.991848222921861, 14.315564319383704, 14.325701180157946, 14.487762375649686, 96.92920160851949, 75.35219928330214, 19.04441368524358, 19.18532503157831, 52.272868594304434, 28.51801494875681, 14.817057626191968, 156.36017404945915, 22.952071441108295, 102.18308311896148, 15.476890227362496, 12.2869222706446, 47.87647191995549, 17.8371468122081, 55.982659262637654, 45.9952151976854, 13.452031402812603, 132.63378145230007, 51.420908333727574, 52.272868594304434, 28.51801494875681, 30.313682331582662, 67.98364529923687, 96.92920160851949, 93.63092391367763, 53.537500030487394, 21.774612858002552, 22.376107071639968, 142.94454612551908, 21.441209684319663, 52.55442549250665, 132.45136863085125, 156.36017404945915, 80.22034465429945, 102.18308311896148, 184.32113600010626, 38.85602553419659, 51.5978943223491, 8.847048190097636, 8.945407860542785, 19.04441368524358, 10.127214311660515, 47.87647191995549, 13.796813125810381, 18.448865236237314, 10.127214311660515, 14.325701180157946, 14.487762375649686, 31.744609410024175, 18.379524933316834, 19.18532503157831, 22.376107071639968, 67.98364529923687, 30.313682331582662, 32.44763316728335, 96.92920160851949, 132.63378145230007, 156.36017404945915, 53.537500030487394, 132.45136863085125, 93.63092391367763, 102.18308311896148, 16.002812568832034, 28.613528783743526, 80.61863722420617, 8.847048190097636, 8.945407860542785, 10.021472022981916, 11.279075768609728, 11.500307125121559, 11.64562743861828, 12.2869222706446, 14.817057626191968, 21.99450939983406, 55.982659262637654, 13.183223488354527, 13.666910637715269, 14.910772384141504, 52.55442549250665, 13.452031402812603, 18.370976064742223, 52.55442549250665, 67.98364529923687, 29.380211803645576, 102.18308311896148, 184.32113600010626, 8.847048190097636, 8.945407860542785, 10.021472022981916, 10.127214311660515, 11.279075768609728, 11.500307125121559, 11.64562743861828, 12.2869222706446, 12.676273158904753, 13.037290054117928, 13.183223488354527, 13.666910637715269, 13.796813125810381, 13.991848222921861, 14.315564319383704, 14.325701180157946, 14.487762375649686, 14.699578982813062, 14.817057626191968, 14.910772384141504, 15.476890227362496, 16.002812568832034, 16.59398305148057, 52.272868594304434, 19.18532503157831, 19.04441368524358, 28.51801494875681, 38.89488123346102, 75.35219928330214, 132.63378145230007, 96.92920160851949, 21.99450939983406, 80.22034465429945, 156.36017404945915, 22.952071441108295, 142.94454612551908, 80.61863722420617, 32.44763316728335, 38.85602553419659, 28.859754394601325, 93.63092391367763, 132.63378145230007, 132.45136863085125, 102.18308311896148, 184.32113600010626, 8.847048190097636, 8.945407860542785, 10.021472022981916, 10.127214311660515, 11.279075768609728, 11.500307125121559, 11.64562743861828, 12.2869222706446, 12.676273158904753, 13.037290054117928, 13.183223488354527, 13.452031402812603, 13.666910637715269, 13.796813125810381, 13.991848222921861, 14.315564319383704, 14.325701180157946, 14.487762375649686, 14.699578982813062, 14.817057626191968, 14.910772384141504, 15.476890227362496, 16.002812568832034, 16.59398305148057, 52.272868594304434, 19.18532503157831, 19.04441368524358, 52.55442549250665, 67.98364529923687, 28.51801494875681, 38.89488123346102, 75.35219928330214, 96.92920160851949, 21.99450939983406, 17.8371468122081, 156.36017404945915, 22.952071441108295, 142.94454612551908, 80.61863722420617, 32.44763316728335, 38.85602553419659, 40.3635141087678, 19.04441368524358, 21.441209684319663, 132.45136863085125, 38.85602553419659, 93.63092391367763, 156.36017404945915, 132.63378145230007, 8.847048190097636, 8.945407860542785, 10.021472022981916, 10.127214311660515, 11.279075768609728, 11.500307125121559, 11.64562743861828, 12.2869222706446, 12.676273158904753, 13.037290054117928, 13.183223488354527, 13.452031402812603, 13.666910637715269, 13.796813125810381, 13.991848222921861, 14.315564319383704, 14.325701180157946, 14.487762375649686, 14.699578982813062, 14.817057626191968, 14.910772384141504, 15.476890227362496, 75.35219928330214, 96.92920160851949, 38.89488123346102, 67.98364529923687, 52.55442549250665, 19.18532503157831, 52.272868594304434, 28.51801494875681, 17.8371468122081, 21.99450939983406, 22.952071441108295, 102.18308311896148, 184.32113600010626, 142.94454612551908, 80.61863722420617, 32.44763316728335, 11.500307125121559, 29.380211803645576, 28.613528783743526, 17.02986381136527, 19.99857112501684, 20.018062480741694, 21.774612858002552, 51.420908333727574, 51.5978943223491, 52.55442549250665, 55.982659262637654, 156.36017404945915, 8.847048190097636, 8.945407860542785, 10.021472022981916, 10.127214311660515, 11.279075768609728, 11.64562743861828, 12.2869222706446, 12.676273158904753, 13.037290054117928, 13.183223488354527, 13.452031402812603, 13.666910637715269, 13.796813125810381, 13.991848222921861, 14.315564319383704, 14.325701180157946, 14.487762375649686, 67.98364529923687, 38.89488123346102, 19.04441368524358, 19.18532503157831, 52.272868594304434, 96.92920160851949, 28.51801494875681, 21.99450939983406, 14.817057626191968, 132.63378145230007, 22.952071441108295, 102.18308311896148, 8.847048190097636, 8.945407860542785, 10.021472022981916, 10.127214311660515, 11.279075768609728, 11.500307125121559, 11.64562743861828, 12.2869222706446, 12.676273158904753, 13.037290054117928, 13.183223488354527, 13.452031402812603, 13.666910637715269, 13.796813125810381, 13.991848222921861, 14.315564319383704, 14.325701180157946, 14.487762375649686, 14.699578982813062, 14.817057626191968, 14.910772384141504, 15.476890227362496, 16.002812568832034, 16.59398305148057, 17.02986381136527, 17.8371468122081, 18.370976064742223, 18.379524933316834, 18.448865236237314, 19.04441368524358, 67.98364529923687, 96.92920160851949, 52.272868594304434, 19.18532503157831, 52.55442549250665, 38.89488123346102, 75.35219928330214, 132.63378145230007, 80.22034465429945, 28.51801494875681, 21.99450939983406, 32.44763316728335, 55.982659262637654, 53.537500030487394, 132.45136863085125, 38.85602553419659, 80.61863722420617, 142.94454612551908, 184.32113600010626, 8.847048190097636, 18.379524933316834, 16.002812568832034, 102.18308311896148, 51.5978943223491, 51.420908333727574, 19.99857112501684, 132.45136863085125, 30.313682331582662, 52.272868594304434, 53.537500030487394, 55.982659262637654, 20.066006669302016, 18.448865236237314, 184.32113600010626, 93.63092391367763, 45.9952151976854, 142.94454612551908, 156.36017404945915, 132.63378145230007, 40.3635141087678, 75.35219928330214, 80.22034465429945, 80.61863722420617, 8.945407860542785, 10.021472022981916, 10.127214311660515, 11.279075768609728, 11.500307125121559, 11.64562743861828, 21.99450939983406, 38.85602553419659, 13.183223488354527, 13.666910637715269, 67.98364529923687, 52.55442549250665, 20.018062480741694, 20.066006669302016, 53.537500030487394, 55.982659262637654, 102.18308311896148, 132.45136863085125, 156.36017404945915, 8.847048190097636, 8.945407860542785, 10.021472022981916, 10.127214311660515, 11.279075768609728, 11.500307125121559, 11.64562743861828, 12.2869222706446, 12.676273158904753, 13.037290054117928, 13.183223488354527, 13.452031402812603, 13.666910637715269, 13.796813125810381, 13.991848222921861, 14.315564319383704, 14.325701180157946, 14.487762375649686, 14.699578982813062, 14.817057626191968, 14.910772384141504, 15.476890227362496, 16.002812568832034, 52.272868594304434, 19.18532503157831, 19.04441368524358, 52.55442549250665, 38.89488123346102, 67.98364529923687, 28.51801494875681, 75.35219928330214, 132.63378145230007, 96.92920160851949, 21.99450939983406, 17.8371468122081, 22.952071441108295, 184.32113600010626, 142.94454612551908, 22.376107071639968, 13.183223488354527, 13.452031402812603, 22.952071441108295, 80.22034465429945, 28.613528783743526, 31.744609410024175, 132.45136863085125, 75.35219928330214, 93.63092391367763, 96.92920160851949, 102.18308311896148, 142.94454612551908, 132.63378145230007, 156.36017404945915, 184.32113600010626, 8.847048190097636, 8.945407860542785, 10.021472022981916, 10.127214311660515, 11.279075768609728, 11.500307125121559, 11.64562743861828, 12.2869222706446, 12.676273158904753, 13.037290054117928, 13.666910637715269, 13.796813125810381, 13.991848222921861, 14.315564319383704, 55.982659262637654, 53.537500030487394, 38.89488123346102, 14.910772384141504, 38.85602553419659, 67.98364529923687, 52.55442549250665, 32.44763316728335, 19.04441368524358, 19.18532503157831, 52.272868594304434, 53.537500030487394, 55.982659262637654, 38.85602553419659, 93.63092391367763, 28.51801494875681, 142.94454612551908, 132.63378145230007, 51.420908333727574, 40.3635141087678, 132.45136863085125, 47.87647191995549, 52.272868594304434, 14.699578982813062, 184.32113600010626, 80.61863722420617, 31.744609410024175, 80.22034465429945, 11.64562743861828, 45.9952151976854, 29.380211803645576, 13.796813125810381, 22.376107071639968, 22.952071441108295, 96.92920160851949, 28.613528783743526, 51.5978943223491, 8.847048190097636, 8.945407860542785, 10.021472022981916, 10.127214311660515, 14.910772384141504, 13.666910637715269, 67.98364529923687, 52.55442549250665, 8.847048190097636, 8.945407860542785, 10.021472022981916, 10.127214311660515, 11.279075768609728, 11.500307125121559, 11.64562743861828, 12.2869222706446, 12.676273158904753, 13.037290054117928, 13.183223488354527, 13.452031402812603, 13.666910637715269, 13.796813125810381, 13.991848222921861, 14.315564319383704, 14.325701180157946, 14.487762375649686, 14.699578982813062, 14.817057626191968, 14.910772384141504, 15.476890227362496, 16.002812568832034, 16.59398305148057, 17.02986381136527, 17.8371468122081, 18.370976064742223, 18.379524933316834, 18.448865236237314, 19.04441368524358, 67.98364529923687, 96.92920160851949, 52.272868594304434, 19.18532503157831, 52.55442549250665, 38.89488123346102, 75.35219928330214, 132.63378145230007, 80.22034465429945, 28.51801494875681, 21.99450939983406, 32.44763316728335, 55.982659262637654, 53.537500030487394, 132.45136863085125, 38.85602553419659, 80.61863722420617, 142.94454612551908, 184.32113600010626, 8.847048190097636, 8.945407860542785, 10.021472022981916, 10.127214311660515, 11.279075768609728, 11.500307125121559, 11.64562743861828, 12.2869222706446, 12.676273158904753, 13.037290054117928, 13.183223488354527, 13.452031402812603, 13.666910637715269, 13.796813125810381, 13.991848222921861, 14.315564319383704, 14.325701180157946, 14.487762375649686, 14.699578982813062, 14.817057626191968, 14.910772384141504, 15.476890227362496, 16.002812568832034, 16.59398305148057, 17.02986381136527, 17.8371468122081, 18.370976064742223, 18.379524933316834, 18.448865236237314, 19.04441368524358, 67.98364529923687, 96.92920160851949, 52.272868594304434, 19.18532503157831, 52.55442549250665, 38.89488123346102, 75.35219928330214, 132.63378145230007, 80.22034465429945, 28.51801494875681, 21.99450939983406, 32.44763316728335, 55.982659262637654, 53.537500030487394, 132.45136863085125, 38.85602553419659, 80.61863722420617, 142.94454612551908, 184.32113600010626, 51.5978943223491, 80.61863722420617, 31.744609410024175, 80.22034465429945, 38.89488123346102, 51.420908333727574, 52.55442549250665, 102.18308311896148, 96.92920160851949, 75.35219928330214, 93.63092391367763, 19.99857112501684, 132.63378145230007, 184.32113600010626, 132.45136863085125, 8.847048190097636, 8.945407860542785, 10.021472022981916, 10.127214311660515, 11.279075768609728, 11.500307125121559, 11.64562743861828, 12.2869222706446, 12.676273158904753, 13.037290054117928, 13.183223488354527, 13.452031402812603, 13.666910637715269, 13.796813125810381, 13.991848222921861, 19.18532503157831, 67.98364529923687, 55.982659262637654, 19.04441368524358, 52.272868594304434, 14.910772384141504, 28.51801494875681, 14.487762375649686, 21.99450939983406, 14.817057626191968, 10.127214311660515, 8.847048190097636, 18.379524933316834, 13.666910637715269, 21.99450939983406, 28.613528783743526, 13.037290054117928, 13.991848222921861, 14.315564319383704, 14.699578982813062, 13.796813125810381, 52.272868594304434, 11.500307125121559, 11.64562743861828, 75.35219928330214, 142.94454612551908, 21.441209684319663, 51.5978943223491, 16.002812568832034, 96.92920160851949, 18.448865236237314, 156.36017404945915, 132.45136863085125, 51.420908333727574, 67.98364529923687, 22.376107071639968, 80.61863722420617, 17.02986381136527, 30.313682331582662, 53.537500030487394, 184.32113600010626, 132.63378145230007, 102.18308311896148, 80.22034465429945, 30.313682331582662, 13.666910637715269, 21.99450939983406, 38.89488123346102, 184.32113600010626, 52.55442549250665, 132.63378145230007, 142.94454612551908, 156.36017404945915, 8.847048190097636, 8.945407860542785, 10.021472022981916, 10.127214311660515, 11.279075768609728, 11.500307125121559, 11.64562743861828, 12.2869222706446, 12.676273158904753, 13.037290054117928, 13.183223488354527, 13.452031402812603, 13.796813125810381, 13.991848222921861, 14.315564319383704, 14.325701180157946, 14.487762375649686, 14.699578982813062, 14.817057626191968, 14.910772384141504, 15.476890227362496, 32.44763316728335, 19.18532503157831, 80.22034465429945, 55.982659262637654, 75.35219928330214, 53.537500030487394, 67.98364529923687, 19.04441368524358, 52.272868594304434, 80.61863722420617, 96.92920160851949, 28.51801494875681, 17.8371468122081, 8.847048190097636, 8.945407860542785, 10.021472022981916, 10.127214311660515, 11.279075768609728, 11.500307125121559, 11.64562743861828, 12.2869222706446, 12.676273158904753, 13.037290054117928, 13.183223488354527, 13.452031402812603, 13.666910637715269, 13.796813125810381, 13.991848222921861, 14.315564319383704, 14.325701180157946, 14.487762375649686, 14.699578982813062, 14.817057626191968, 14.910772384141504, 15.476890227362496, 16.002812568832034, 16.59398305148057, 17.02986381136527, 17.8371468122081, 18.370976064742223, 18.379524933316834, 18.448865236237314, 19.04441368524358, 67.98364529923687, 96.92920160851949, 52.272868594304434, 19.18532503157831, 52.55442549250665, 38.89488123346102, 75.35219928330214, 132.63378145230007, 80.22034465429945, 28.51801494875681, 21.99450939983406, 32.44763316728335, 55.982659262637654, 53.537500030487394, 132.45136863085125, 38.85602553419659, 80.61863722420617, 142.94454612551908, 184.32113600010626, 8.847048190097636, 8.945407860542785, 10.021472022981916, 10.127214311660515, 11.279075768609728, 11.500307125121559, 11.64562743861828, 12.2869222706446, 12.676273158904753, 13.037290054117928, 13.183223488354527, 13.452031402812603, 13.666910637715269, 13.796813125810381, 13.991848222921861, 14.315564319383704, 14.325701180157946, 14.487762375649686, 14.699578982813062, 14.817057626191968, 14.910772384141504, 15.476890227362496, 16.002812568832034, 16.59398305148057, 17.02986381136527, 17.8371468122081, 18.370976064742223, 18.379524933316834, 18.448865236237314, 19.04441368524358, 67.98364529923687, 96.92920160851949, 52.272868594304434, 19.18532503157831, 52.55442549250665, 38.89488123346102, 75.35219928330214, 132.63378145230007, 80.22034465429945, 28.51801494875681, 21.99450939983406, 32.44763316728335, 55.982659262637654, 53.537500030487394, 132.45136863085125, 38.85602553419659, 80.61863722420617, 142.94454612551908, 184.32113600010626, 40.3635141087678, 38.89488123346102, 52.55442549250665, 80.22034465429945, 102.18308311896148, 132.45136863085125, 184.32113600010626, 14.817057626191968, 51.420908333727574, 75.35219928330214, 55.982659262637654, 51.5978943223491, 67.98364529923687, 80.61863722420617, 93.63092391367763, 8.847048190097636, 8.945407860542785, 132.63378145230007, 10.021472022981916, 10.127214311660515, 11.279075768609728, 11.500307125121559, 11.64562743861828, 12.2869222706446, 12.676273158904753, 13.037290054117928, 13.183223488354527, 13.452031402812603, 13.666910637715269, 13.796813125810381, 19.18532503157831, 19.04441368524358, 13.991848222921861, 52.272868594304434, 96.92920160851949, 28.51801494875681, 21.99450939983406, 156.36017404945915, 22.952071441108295, 142.94454612551908, 17.02986381136527, 30.313682331582662, 20.066006669302016, 8.847048190097636, 18.448865236237314, 11.500307125121559, 45.9952151976854, 23.135977061277426, 13.183223488354527, 28.613528783743526, 142.94454612551908, 96.92920160851949, 132.63378145230007, 47.87647191995549, 52.272868594304434, 67.98364529923687, 93.63092391367763, 75.35219928330214, 156.36017404945915, 184.32113600010626, 8.945407860542785, 10.021472022981916, 10.127214311660515, 11.279075768609728, 11.64562743861828, 12.2869222706446, 12.676273158904753, 13.037290054117928, 13.452031402812603, 13.666910637715269, 19.18532503157831, 38.89488123346102, 28.51801494875681, 52.55442549250665, 19.04441368524358, 13.991848222921861, 21.99450939983406, 14.699578982813062, 45.9952151976854, 22.952071441108295, 21.99450939983406, 31.744609410024175, 96.92920160851949, 93.63092391367763, 53.537500030487394, 55.982659262637654, 102.18308311896148, 132.45136863085125, 184.32113600010626, 132.63378145230007, 142.94454612551908, 11.279075768609728, 51.5978943223491, 80.22034465429945, 28.859754394601325, 28.51801494875681, 8.847048190097636, 8.945407860542785, 10.021472022981916, 10.127214311660515, 11.500307125121559, 11.64562743861828, 12.2869222706446, 12.676273158904753, 13.037290054117928, 13.183223488354527, 13.452031402812603, 75.35219928330214, 38.89488123346102, 13.666910637715269, 14.910772384141504, 67.98364529923687, 52.55442549250665, 80.61863722420617, 19.04441368524358, 156.36017404945915, 11.279075768609728, 13.796813125810381, 14.325701180157946, 16.002812568832034, 28.613528783743526, 31.744609410024175, 47.87647191995549, 51.420908333727574, 51.5978943223491, 53.537500030487394, 55.982659262637654, 132.45136863085125, 67.98364529923687, 142.94454612551908, 75.35219928330214, 96.92920160851949, 184.32113600010626, 8.847048190097636, 8.945407860542785, 10.021472022981916, 10.127214311660515, 11.500307125121559, 11.64562743861828, 12.2869222706446, 12.676273158904753, 13.037290054117928, 13.183223488354527, 13.452031402812603, 13.666910637715269, 13.991848222921861, 19.04441368524358, 19.18532503157831, 52.55442549250665, 28.51801494875681, 52.272868594304434, 38.89488123346102, 21.99450939983406, 14.817057626191968, 38.85602553419659, 12.676273158904753, 14.487762375649686, 156.36017404945915, 40.3635141087678, 22.952071441108295, 23.135977061277426, 132.45136863085125, 53.537500030487394, 184.32113600010626, 80.61863722420617, 96.92920160851949, 80.22034465429945, 132.63378145230007, 19.99857112501684, 142.94454612551908, 93.63092391367763, 8.847048190097636, 8.945407860542785, 10.021472022981916, 10.127214311660515, 11.279075768609728, 11.500307125121559, 11.64562743861828, 12.2869222706446, 13.037290054117928, 13.183223488354527, 13.452031402812603, 13.666910637715269, 13.796813125810381, 13.991848222921861, 28.51801494875681, 20.018062480741694, 29.380211803645576, 21.99450939983406, 19.18532503157831, 19.04441368524358, 52.55442549250665, 67.98364529923687, 52.272868594304434, 14.817057626191968, 13.666910637715269, 18.379524933316834, 12.676273158904753, 18.448865236237314, 17.02986381136527, 14.487762375649686, 17.8371468122081, 20.018062480741694, 12.2869222706446, 13.037290054117928, 14.325701180157946, 14.315564319383704, 28.859754394601325, 18.370976064742223, 40.3635141087678, 19.99857112501684, 102.18308311896148, 21.774612858002552, 22.376107071639968, 22.952071441108295, 45.9952151976854, 132.45136863085125, 51.420908333727574, 38.85602553419659, 29.380211803645576, 28.51801494875681, 96.92920160851949, 184.32113600010626, 80.61863722420617, 55.982659262637654, 142.94454612551908, 156.36017404945915, 13.037290054117928, 13.452031402812603, 52.272868594304434, 32.44763316728335, 20.066006669302016, 28.859754394601325, 45.9952151976854, 47.87647191995549, 96.92920160851949, 51.5978943223491, 67.98364529923687, 38.89488123346102, 80.22034465429945, 93.63092391367763, 102.18308311896148, 52.55442549250665, 132.63378145230007, 132.45136863085125, 156.36017404945915, 142.94454612551908, 17.02986381136527, 14.699578982813062, 14.817057626191968, 12.2869222706446, 8.945407860542785, 28.51801494875681, 19.18532503157831, 13.666910637715269, 10.127214311660515, 14.910772384141504, 75.35219928330214, 20.018062480741694, 21.774612858002552, 29.380211803645576, 51.420908333727574, 45.9952151976854, 132.63378145230007, 93.63092391367763, 184.32113600010626, 142.94454612551908, 14.817057626191968, 51.420908333727574, 40.3635141087678, 75.35219928330214, 55.982659262637654, 51.5978943223491, 67.98364529923687, 80.61863722420617, 8.847048190097636, 8.945407860542785, 80.22034465429945, 10.021472022981916, 10.127214311660515, 11.279075768609728, 11.500307125121559, 11.64562743861828, 12.2869222706446, 12.676273158904753, 13.037290054117928, 13.183223488354527, 13.452031402812603, 13.666910637715269, 13.796813125810381, 13.991848222921861, 14.315564319383704, 38.89488123346102, 52.272868594304434, 52.55442549250665, 19.04441368524358, 19.18532503157831, 21.99450939983406, 96.92920160851949, 28.51801494875681, 156.36017404945915, 22.952071441108295, 102.18308311896148, 20.066006669302016, 75.35219928330214, 156.36017404945915, 96.92920160851949, 142.94454612551908, 8.847048190097636, 8.945407860542785, 10.021472022981916, 10.127214311660515, 11.279075768609728, 11.500307125121559, 11.64562743861828, 12.2869222706446, 12.676273158904753, 13.037290054117928, 13.183223488354527, 13.452031402812603, 13.666910637715269, 13.796813125810381, 13.991848222921861, 14.315564319383704, 14.325701180157946, 14.487762375649686, 14.699578982813062, 14.817057626191968, 14.910772384141504, 15.476890227362496, 16.002812568832034, 16.59398305148057, 17.02986381136527, 28.51801494875681, 52.272868594304434, 19.18532503157831, 19.04441368524358, 67.98364529923687, 38.89488123346102, 132.63378145230007, 52.55442549250665, 21.99450939983406, 17.8371468122081, 22.952071441108295, 102.18308311896148, 184.32113600010626, 80.61863722420617, 32.44763316728335, 38.85602553419659, 132.45136863085125, 13.183223488354527, 52.55442549250665, 38.89488123346102, 184.32113600010626, 40.3635141087678, 132.45136863085125, 93.63092391367763, 80.22034465429945, 132.63378145230007, 80.61863722420617, 8.847048190097636, 8.945407860542785, 10.021472022981916, 10.127214311660515, 11.279075768609728, 11.500307125121559, 11.64562743861828, 12.2869222706446, 12.676273158904753, 13.037290054117928, 13.452031402812603, 13.666910637715269, 13.796813125810381, 13.991848222921861, 14.315564319383704, 14.325701180157946, 14.487762375649686, 14.699578982813062, 14.817057626191968, 14.910772384141504, 142.94454612551908, 55.982659262637654, 53.537500030487394, 75.35219928330214, 67.98364529923687, 38.85602553419659, 19.04441368524358, 19.18532503157831, 52.272868594304434, 96.92920160851949, 28.51801494875681, 17.8371468122081, 12.2869222706446, 28.859754394601325, 29.380211803645576, 102.18308311896148, 184.32113600010626, 8.847048190097636, 8.945407860542785, 10.021472022981916, 10.127214311660515, 11.279075768609728, 11.500307125121559, 11.64562743861828, 12.676273158904753, 13.037290054117928, 13.183223488354527, 13.452031402812603, 13.666910637715269, 13.796813125810381, 13.991848222921861, 14.315564319383704, 14.325701180157946, 14.487762375649686, 14.699578982813062, 14.817057626191968, 14.910772384141504, 15.476890227362496, 16.002812568832034, 16.59398305148057, 17.02986381136527, 17.8371468122081, 75.35219928330214, 38.89488123346102, 67.98364529923687, 52.55442549250665, 132.63378145230007, 19.04441368524358, 19.18532503157831, 52.272868594304434, 96.92920160851949, 28.51801494875681, 21.99450939983406, 156.36017404945915, 22.952071441108295, 142.94454612551908, 80.61863722420617, 32.44763316728335, 38.85602553419659, 13.452031402812603, 17.8371468122081, 14.817057626191968, 52.55442549250665, 142.94454612551908, 96.92920160851949, 8.847048190097636, 8.945407860542785, 10.021472022981916, 10.127214311660515, 11.279075768609728, 11.500307125121559, 11.64562743861828, 12.2869222706446, 12.676273158904753, 13.037290054117928, 13.183223488354527, 13.666910637715269, 13.796813125810381, 13.991848222921861, 14.315564319383704, 14.325701180157946, 14.487762375649686, 14.699578982813062, 14.910772384141504, 15.476890227362496, 16.002812568832034, 16.59398305148057, 17.02986381136527, 18.370976064742223, 38.89488123346102, 67.98364529923687, 28.51801494875681, 75.35219928330214, 132.63378145230007, 19.04441368524358, 19.18532503157831, 52.272868594304434, 21.99450939983406, 156.36017404945915, 22.952071441108295, 102.18308311896148, 184.32113600010626, 80.61863722420617, 32.44763316728335, 38.85602553419659, 132.45136863085125, 8.847048190097636, 11.500307125121559, 15.476890227362496, 51.420908333727574, 18.370976064742223, 17.8371468122081, 67.98364529923687, 142.94454612551908, 13.037290054117928, 13.796813125810381, 14.325701180157946, 14.315564319383704, 55.982659262637654, 47.87647191995549, 32.44763316728335, 80.61863722420617, 16.59398305148057, 75.35219928330214, 132.63378145230007, 38.85602553419659, 80.22034465429945, 156.36017404945915, 21.441209684319663, 21.99450939983406, 12.676273158904753, 17.02986381136527, 132.45136863085125, 93.63092391367763, 51.5978943223491, 45.9952151976854, 184.32113600010626, 96.92920160851949, 8.847048190097636, 8.945407860542785, 10.021472022981916, 10.127214311660515, 11.279075768609728, 11.500307125121559, 11.64562743861828, 12.2869222706446, 12.676273158904753, 13.037290054117928, 13.183223488354527, 13.452031402812603, 13.666910637715269, 13.796813125810381, 13.991848222921861, 14.315564319383704, 14.325701180157946, 14.487762375649686, 14.699578982813062, 14.817057626191968, 14.910772384141504, 15.476890227362496, 16.002812568832034, 16.59398305148057, 17.02986381136527, 17.8371468122081, 18.370976064742223, 18.379524933316834, 18.448865236237314, 19.04441368524358, 67.98364529923687, 96.92920160851949, 52.272868594304434, 19.18532503157831, 52.55442549250665, 38.89488123346102, 75.35219928330214, 132.63378145230007, 80.22034465429945, 28.51801494875681, 21.99450939983406, 32.44763316728335, 55.982659262637654, 53.537500030487394, 132.45136863085125, 38.85602553419659, 80.61863722420617, 142.94454612551908, 184.32113600010626, 14.487762375649686, 12.676273158904753, 13.183223488354527, 18.448865236237314, 19.04441368524358, 75.35219928330214, 38.85602553419659, 47.87647191995549, 96.92920160851949, 51.420908333727574, 53.537500030487394, 55.982659262637654, 142.94454612551908, 38.89488123346102, 52.55442549250665, 132.45136863085125, 184.32113600010626, 30.313682331582662, 156.36017404945915, 18.379524933316834, 16.002812568832034, 20.066006669302016, 93.63092391367763, 102.18308311896148, 132.63378145230007, 8.847048190097636, 8.945407860542785, 10.021472022981916, 10.127214311660515, 11.279075768609728, 13.666910637715269, 67.98364529923687, 80.61863722420617, 19.18532503157831, 19.18532503157831, 51.420908333727574, 51.5978943223491, 55.982659262637654, 93.63092391367763, 132.63378145230007, 184.32113600010626, 8.847048190097636, 8.945407860542785, 10.021472022981916, 10.127214311660515, 11.279075768609728, 11.500307125121559, 11.64562743861828, 12.2869222706446, 12.676273158904753, 13.037290054117928, 13.183223488354527, 13.452031402812603, 13.666910637715269, 13.796813125810381, 13.991848222921861, 14.315564319383704, 14.325701180157946, 14.487762375649686, 14.699578982813062, 14.817057626191968, 14.910772384141504, 15.476890227362496, 16.002812568832034, 67.98364529923687, 52.272868594304434, 19.04441368524358, 52.55442549250665, 28.51801494875681, 38.89488123346102, 75.35219928330214, 96.92920160851949, 80.22034465429945, 21.99450939983406, 156.36017404945915, 22.952071441108295, 102.18308311896148, 142.94454612551908, 80.61863722420617, 32.44763316728335, 12.2869222706446, 13.183223488354527, 13.452031402812603, 14.817057626191968, 17.02986381136527, 53.537500030487394, 55.982659262637654, 20.018062480741694, 21.774612858002552, 21.99450939983406, 75.35219928330214, 30.313682331582662, 32.44763316728335, 45.9952151976854, 51.5978943223491, 52.55442549250665, 132.63378145230007, 142.94454612551908, 67.98364529923687, 18.379524933316834, 13.666910637715269, 96.92920160851949, 18.448865236237314, 93.63092391367763, 184.32113600010626, 12.676273158904753, 14.487762375649686, 13.037290054117928, 14.315564319383704, 28.859754394601325, 132.45136863085125, 102.18308311896148, 28.51801494875681, 51.420908333727574, 10.021472022981916, 11.500307125121559, 51.5978943223491, 40.3635141087678, 51.420908333727574, 19.04441368524358, 21.441209684319663, 55.982659262637654, 47.87647191995549, 184.32113600010626, 30.313682331582662, 38.85602553419659, 96.92920160851949, 67.98364529923687, 93.63092391367763, 52.55442549250665, 132.63378145230007, 132.45136863085125, 142.94454612551908, 16.002812568832034, 102.18308311896148, 11.279075768609728, 21.774612858002552, 156.36017404945915, 32.44763316728335, 8.847048190097636, 8.945407860542785, 10.127214311660515, 11.64562743861828, 12.2869222706446, 13.991848222921861, 38.89488123346102, 13.666910637715269, 80.61863722420617, 19.18532503157831, 38.89488123346102, 52.55442549250665, 14.325701180157946, 75.35219928330214, 80.22034465429945, 8.847048190097636, 8.945407860542785, 10.021472022981916, 10.127214311660515, 11.279075768609728, 11.500307125121559, 11.64562743861828, 12.2869222706446, 12.676273158904753, 13.037290054117928, 13.183223488354527, 13.452031402812603, 13.666910637715269, 13.796813125810381, 13.991848222921861, 14.315564319383704, 14.487762375649686, 14.699578982813062, 14.817057626191968, 14.910772384141504, 15.476890227362496, 16.002812568832034, 16.59398305148057, 17.02986381136527, 28.51801494875681, 96.92920160851949, 52.272868594304434, 19.04441368524358, 67.98364529923687, 21.99450939983406, 132.63378145230007, 17.8371468122081, 156.36017404945915, 22.952071441108295, 102.18308311896148, 184.32113600010626, 142.94454612551908, 80.61863722420617, 32.44763316728335, 38.85602553419659, 132.45136863085125, 22.376107071639968, 11.64562743861828, 13.796813125810381, 29.380211803645576, 22.952071441108295, 28.613528783743526, 132.63378145230007, 93.63092391367763, 51.5978943223491, 132.45136863085125, 80.61863722420617, 14.325701180157946, 8.945407860542785, 20.066006669302016, 23.135977061277426, 21.441209684319663, 13.666910637715269, 31.744609410024175, 47.87647191995549, 156.36017404945915, 40.3635141087678, 96.92920160851949, 51.420908333727574, 75.35219928330214, 67.98364529923687, 8.847048190097636, 10.021472022981916, 10.127214311660515, 11.279075768609728, 11.500307125121559, 13.991848222921861, 28.51801494875681, 55.982659262637654, 53.537500030487394, 13.183223488354527, 14.325701180157946, 12.676273158904753, 11.64562743861828, 23.135977061277426, 32.44763316728335, 13.991848222921861, 53.537500030487394, 55.982659262637654, 47.87647191995549, 52.272868594304434, 142.94454612551908, 156.36017404945915, 80.22034465429945, 96.92920160851949, 102.18308311896148, 8.847048190097636, 8.945407860542785, 10.021472022981916, 10.127214311660515, 11.279075768609728, 11.500307125121559, 12.2869222706446, 13.037290054117928, 13.183223488354527, 13.452031402812603, 13.666910637715269, 13.796813125810381, 14.315564319383704, 14.487762375649686, 14.699578982813062, 19.04441368524358, 132.63378145230007, 75.35219928330214, 52.55442549250665, 67.98364529923687, 19.18532503157831, 38.89488123346102, 14.817057626191968, 28.51801494875681, 21.99450939983406, 22.952071441108295, 184.32113600010626, 14.315564319383704, 19.99857112501684, 80.61863722420617, 21.774612858002552, 28.613528783743526, 29.380211803645576, 156.36017404945915, 38.85602553419659, 40.3635141087678, 51.420908333727574, 51.5978943223491, 80.22034465429945, 102.18308311896148, 20.018062480741694, 22.952071441108295, 142.94454612551908, 184.32113600010626, 93.63092391367763, 132.45136863085125, 132.63378145230007, 8.847048190097636, 8.945407860542785, 10.021472022981916, 10.127214311660515, 11.279075768609728, 11.500307125121559, 11.64562743861828, 12.2869222706446, 12.676273158904753, 13.037290054117928, 52.55442549250665, 67.98364529923687, 13.666910637715269, 38.89488123346102, 19.04441368524358, 14.817057626191968, 19.18532503157831, 52.272868594304434, 96.92920160851949, 55.982659262637654, 53.537500030487394, 93.63092391367763, 132.63378145230007, 8.847048190097636, 8.945407860542785, 142.94454612551908, 10.021472022981916, 10.127214311660515, 11.279075768609728, 11.500307125121559, 11.64562743861828, 12.2869222706446, 12.676273158904753, 13.037290054117928, 13.183223488354527, 13.452031402812603, 13.666910637715269, 13.796813125810381, 13.991848222921861, 14.315564319383704, 14.325701180157946, 14.487762375649686, 14.699578982813062, 14.817057626191968, 14.910772384141504, 15.476890227362496, 16.002812568832034, 16.59398305148057, 17.02986381136527, 67.98364529923687, 52.272868594304434, 19.18532503157831, 19.04441368524358, 52.55442549250665, 38.89488123346102, 28.51801494875681, 75.35219928330214, 96.92920160851949, 21.99450939983406, 17.8371468122081, 156.36017404945915, 22.952071441108295, 102.18308311896148, 184.32113600010626, 80.61863722420617, 32.44763316728335, 8.945407860542785, 19.04441368524358, 31.744609410024175, 29.380211803645576, 67.98364529923687, 45.9952151976854, 93.63092391367763, 156.36017404945915, 102.18308311896148, 132.63378145230007, 132.45136863085125, 96.92920160851949, 80.61863722420617, 142.94454612551908, 8.847048190097636, 10.021472022981916, 10.127214311660515, 11.279075768609728, 11.500307125121559, 11.64562743861828, 12.2869222706446, 12.676273158904753, 13.037290054117928, 13.183223488354527, 13.452031402812603, 13.666910637715269, 13.796813125810381, 13.991848222921861, 14.315564319383704, 14.325701180157946, 19.18532503157831, 52.55442549250665, 38.89488123346102, 75.35219928330214, 52.272868594304434, 14.817057626191968, 28.51801494875681, 21.99450939983406, 14.487762375649686, 22.952071441108295, 184.32113600010626, 12.676273158904753, 13.991848222921861, 14.487762375649686, 15.476890227362496, 16.002812568832034, 17.8371468122081, 19.04441368524358, 20.066006669302016, 102.18308311896148, 38.85602553419659, 80.61863722420617, 96.92920160851949, 52.272868594304434, 53.537500030487394, 55.982659262637654, 142.94454612551908, 75.35219928330214, 132.63378145230007, 8.847048190097636, 8.945407860542785, 10.021472022981916, 10.127214311660515, 11.279075768609728, 11.500307125121559, 11.64562743861828, 12.2869222706446, 13.037290054117928, 13.183223488354527, 13.452031402812603, 13.666910637715269, 14.817057626191968, 13.796813125810381, 38.89488123346102, 67.98364529923687, 52.55442549250665, 19.18532503157831, 132.45136863085125, 32.44763316728335, 16.59398305148057, 28.613528783743526, 20.018062480741694, 53.537500030487394, 55.982659262637654, 80.61863722420617, 80.22034465429945, 8.847048190097636, 8.945407860542785, 10.021472022981916, 10.127214311660515, 11.279075768609728, 11.500307125121559, 11.64562743861828, 12.2869222706446, 12.676273158904753, 13.037290054117928, 13.183223488354527, 13.452031402812603, 13.666910637715269, 13.796813125810381, 13.991848222921861, 14.315564319383704, 14.325701180157946, 14.487762375649686, 14.699578982813062, 14.817057626191968, 14.910772384141504, 15.476890227362496, 16.002812568832034, 52.55442549250665, 52.272868594304434, 19.18532503157831, 19.04441368524358, 67.98364529923687, 28.51801494875681, 38.89488123346102, 75.35219928330214, 132.63378145230007, 96.92920160851949, 21.99450939983406, 156.36017404945915, 22.952071441108295, 102.18308311896148, 184.32113600010626, 142.94454612551908, 21.441209684319663, 19.04441368524358, 31.744609410024175, 51.5978943223491, 38.85602553419659, 47.87647191995549, 156.36017404945915, 40.3635141087678, 51.420908333727574, 55.982659262637654, 80.22034465429945, 80.61863722420617, 132.45136863085125, 184.32113600010626, 8.847048190097636, 8.945407860542785, 10.021472022981916, 10.127214311660515, 11.279075768609728, 11.500307125121559, 11.64562743861828, 12.2869222706446, 12.676273158904753, 13.037290054117928, 13.183223488354527, 13.452031402812603, 13.666910637715269, 13.796813125810381, 13.991848222921861, 14.315564319383704, 132.63378145230007, 75.35219928330214, 38.89488123346102, 67.98364529923687, 53.537500030487394, 52.55442549250665, 32.44763316728335, 19.18532503157831, 96.92920160851949, 14.910772384141504, 28.51801494875681, 14.487762375649686, 22.376107071639968, 14.315564319383704, 29.380211803645576, 19.04441368524358, 32.44763316728335, 80.61863722420617, 156.36017404945915, 51.420908333727574, 102.18308311896148, 96.92920160851949, 8.847048190097636, 8.945407860542785, 10.021472022981916, 10.127214311660515, 11.279075768609728, 11.500307125121559, 11.64562743861828, 12.2869222706446, 12.676273158904753, 13.037290054117928, 13.183223488354527, 13.452031402812603, 13.666910637715269, 13.796813125810381, 13.991848222921861, 14.325701180157946, 14.487762375649686, 14.699578982813062, 14.817057626191968, 14.910772384141504, 19.18532503157831, 52.55442549250665, 67.98364529923687, 38.89488123346102, 75.35219928330214, 132.63378145230007, 52.272868594304434, 28.51801494875681, 21.99450939983406, 80.22034465429945, 22.952071441108295, 184.32113600010626, 142.94454612551908, 14.487762375649686, 17.8371468122081, 40.3635141087678, 80.22034465429945, 156.36017404945915, 11.64562743861828, 30.313682331582662, 80.61863722420617, 47.87647191995549, 18.370976064742223, 184.32113600010626, 132.45136863085125, 132.63378145230007, 14.699578982813062, 21.774612858002552, 102.18308311896148, 38.85602553419659, 13.991848222921861, 10.021472022981916, 28.51801494875681, 75.35219928330214, 67.98364529923687, 93.63092391367763, 14.910772384141504, 16.002812568832034, 142.94454612551908, 19.99857112501684, 20.066006669302016, 96.92920160851949, 23.135977061277426, 45.9952151976854, 52.272868594304434, 13.183223488354527, 14.910772384141504, 32.44763316728335, 22.952071441108295, 28.859754394601325, 38.85602553419659, 156.36017404945915, 55.982659262637654, 53.537500030487394, 132.45136863085125, 80.61863722420617, 102.18308311896148, 142.94454612551908, 11.279075768609728, 184.32113600010626, 51.420908333727574, 8.847048190097636, 8.945407860542785, 10.021472022981916, 10.127214311660515, 11.500307125121559, 11.64562743861828, 12.2869222706446, 12.676273158904753, 13.037290054117928, 13.452031402812603, 13.666910637715269, 13.796813125810381, 13.991848222921861, 14.315564319383704, 14.487762375649686, 132.63378145230007, 75.35219928330214, 38.89488123346102, 67.98364529923687, 52.55442549250665, 19.04441368524358, 19.18532503157831, 52.272868594304434, 96.92920160851949, 14.325701180157946, 8.945407860542785, 21.441209684319663, 14.315564319383704, 13.666910637715269, 51.420908333727574, 29.380211803645576, 28.613528783743526, 31.744609410024175, 40.3635141087678, 156.36017404945915, 67.98364529923687, 142.94454612551908, 80.61863722420617, 75.35219928330214, 93.63092391367763, 132.45136863085125, 132.63378145230007, 184.32113600010626, 8.847048190097636, 10.021472022981916, 10.127214311660515, 11.279075768609728, 11.500307125121559, 11.64562743861828, 12.2869222706446, 12.676273158904753, 13.037290054117928, 13.183223488354527, 13.452031402812603, 32.44763316728335, 38.89488123346102, 55.982659262637654, 53.537500030487394, 14.910772384141504, 38.85602553419659, 52.55442549250665, 22.952071441108295, 102.18308311896148, 22.952071441108295, 19.99857112501684, 11.64562743861828, 13.666910637715269, 80.61863722420617, 184.32113600010626, 132.45136863085125, 67.98364529923687, 156.36017404945915, 8.847048190097636, 8.945407860542785, 10.021472022981916, 10.127214311660515, 11.279075768609728, 11.500307125121559, 12.2869222706446, 12.676273158904753, 13.037290054117928, 13.183223488354527, 13.452031402812603, 13.796813125810381, 13.991848222921861, 14.315564319383704, 14.325701180157946, 14.487762375649686, 14.699578982813062, 14.817057626191968, 14.910772384141504, 15.476890227362496, 16.002812568832034, 19.04441368524358, 52.55442549250665, 52.272868594304434, 38.89488123346102, 75.35219928330214, 132.63378145230007, 19.18532503157831, 21.99450939983406, 96.92920160851949, 28.51801494875681, 17.8371468122081, 102.18308311896148, 142.94454612551908, 32.44763316728335, 38.85602553419659, 13.037290054117928, 13.183223488354527, 32.44763316728335, 18.379524933316834, 20.018062480741694, 30.313682331582662, 45.9952151976854, 53.537500030487394, 55.982659262637654, 184.32113600010626, 67.98364529923687, 80.22034465429945, 80.61863722420617, 93.63092391367763, 96.92920160851949, 132.63378145230007, 142.94454612551908, 8.847048190097636, 8.945407860542785, 10.021472022981916, 10.127214311660515, 11.279075768609728, 11.500307125121559, 11.64562743861828, 12.2869222706446, 12.676273158904753, 13.452031402812603, 13.666910637715269, 13.796813125810381, 13.991848222921861, 52.272868594304434, 75.35219928330214, 38.89488123346102, 52.55442549250665, 19.04441368524358, 19.18532503157831, 28.51801494875681, 21.99450939983406, 14.817057626191968, 8.945407860542785, 80.61863722420617, 14.910772384141504, 15.476890227362496, 80.22034465429945, 19.99857112501684, 22.952071441108295, 40.3635141087678, 28.613528783743526, 32.44763316728335, 75.35219928330214, 38.85602553419659, 55.982659262637654, 132.45136863085125, 142.94454612551908, 8.847048190097636, 10.021472022981916, 10.127214311660515, 11.279075768609728, 11.500307125121559, 11.64562743861828, 12.2869222706446, 12.676273158904753, 13.037290054117928, 13.183223488354527, 13.452031402812603, 13.666910637715269, 13.796813125810381, 13.991848222921861, 14.315564319383704, 52.55442549250665, 67.98364529923687, 38.89488123346102, 19.18532503157831, 132.63378145230007, 19.04441368524358, 21.99450939983406, 52.272868594304434, 96.92920160851949, 28.51801494875681, 14.817057626191968, 8.847048190097636, 8.945407860542785, 10.021472022981916, 10.127214311660515, 11.279075768609728, 11.500307125121559, 11.64562743861828, 12.2869222706446, 12.676273158904753, 13.037290054117928, 13.183223488354527, 13.452031402812603, 13.666910637715269, 13.796813125810381, 13.991848222921861, 14.315564319383704, 14.325701180157946, 14.487762375649686, 14.699578982813062, 14.817057626191968, 14.910772384141504, 15.476890227362496, 16.002812568832034, 16.59398305148057, 17.02986381136527, 17.8371468122081, 18.370976064742223, 18.379524933316834, 18.448865236237314, 19.04441368524358, 67.98364529923687, 96.92920160851949, 52.272868594304434, 19.18532503157831, 52.55442549250665, 38.89488123346102, 75.35219928330214, 132.63378145230007, 80.22034465429945, 28.51801494875681, 21.99450939983406, 32.44763316728335, 55.982659262637654, 53.537500030487394, 132.45136863085125, 38.85602553419659, 80.61863722420617, 142.94454612551908, 184.32113600010626, 8.847048190097636, 8.945407860542785, 10.021472022981916, 10.127214311660515, 11.279075768609728, 11.500307125121559, 11.64562743861828, 12.2869222706446, 12.676273158904753, 13.037290054117928, 13.183223488354527, 13.452031402812603, 13.666910637715269, 13.796813125810381, 13.991848222921861, 14.315564319383704, 14.325701180157946, 14.487762375649686, 14.699578982813062, 14.817057626191968, 14.910772384141504, 15.476890227362496, 16.002812568832034, 16.59398305148057, 17.02986381136527, 17.8371468122081, 18.370976064742223, 18.379524933316834, 18.448865236237314, 19.04441368524358, 67.98364529923687, 96.92920160851949, 52.272868594304434, 19.18532503157831, 52.55442549250665, 38.89488123346102, 75.35219928330214, 132.63378145230007, 80.22034465429945, 28.51801494875681, 21.99450939983406, 32.44763316728335, 55.982659262637654, 53.537500030487394, 132.45136863085125, 38.85602553419659, 80.61863722420617, 142.94454612551908, 184.32113600010626, 10.127214311660515, 96.92920160851949, 28.51801494875681, 75.35219928330214, 80.22034465429945, 8.847048190097636, 8.945407860542785, 10.021472022981916, 11.279075768609728, 11.500307125121559, 11.64562743861828, 12.2869222706446, 12.676273158904753, 13.037290054117928, 13.183223488354527, 13.452031402812603, 13.666910637715269, 13.796813125810381, 13.991848222921861, 14.315564319383704, 14.325701180157946, 14.487762375649686, 14.699578982813062, 14.817057626191968, 14.910772384141504, 15.476890227362496, 16.002812568832034, 16.59398305148057, 17.02986381136527, 17.8371468122081, 52.55442549250665, 52.272868594304434, 19.18532503157831, 19.04441368524358, 67.98364529923687, 38.89488123346102, 132.63378145230007, 21.99450939983406, 32.44763316728335, 55.982659262637654, 53.537500030487394, 132.45136863085125, 38.85602553419659, 80.61863722420617, 142.94454612551908, 184.32113600010626, 19.18532503157831, 16.002812568832034, 67.98364529923687, 75.35219928330214, 142.94454612551908, 8.847048190097636, 8.945407860542785, 10.021472022981916, 10.127214311660515, 11.279075768609728, 11.500307125121559, 11.64562743861828, 12.2869222706446, 12.676273158904753, 13.037290054117928, 13.183223488354527, 13.452031402812603, 13.666910637715269, 13.796813125810381, 13.991848222921861, 14.315564319383704, 14.325701180157946, 14.487762375649686, 14.699578982813062, 14.817057626191968, 14.910772384141504, 15.476890227362496, 16.59398305148057, 17.02986381136527, 17.8371468122081, 96.92920160851949, 52.272868594304434, 19.04441368524358, 52.55442549250665, 38.89488123346102, 132.63378145230007, 28.51801494875681, 21.99450939983406, 156.36017404945915, 22.952071441108295, 102.18308311896148, 184.32113600010626, 80.61863722420617, 32.44763316728335, 38.85602553419659, 132.45136863085125, 14.699578982813062, 12.2869222706446, 13.037290054117928, 21.774612858002552, 21.99450939983406, 22.376107071639968, 28.51801494875681, 80.61863722420617, 93.63092391367763, 96.92920160851949, 51.420908333727574, 55.982659262637654, 132.63378145230007, 132.45136863085125, 67.98364529923687, 75.35219928330214, 102.18308311896148, 8.847048190097636, 8.945407860542785, 10.021472022981916, 10.127214311660515, 11.279075768609728, 11.500307125121559, 11.64562743861828, 12.676273158904753, 13.183223488354527, 13.452031402812603, 13.666910637715269, 13.796813125810381, 13.991848222921861, 52.272868594304434, 52.55442549250665, 19.04441368524358, 38.89488123346102, 19.18532503157831, 156.36017404945915, 22.952071441108295, 31.744609410024175, 51.420908333727574, 55.982659262637654, 8.945407860542785, 53.537500030487394, 20.066006669302016, 51.5978943223491, 184.32113600010626, 38.85602553419659, 96.92920160851949, 8.847048190097636, 14.699578982813062, 21.774612858002552, 13.183223488354527, 11.279075768609728, 21.99450939983406, 15.476890227362496, 14.315564319383704, 12.2869222706446, 28.51801494875681, 13.991848222921861, 20.018062480741694, 75.35219928330214, 28.859754394601325, 52.272868594304434, 30.313682331582662, 10.021472022981916, 10.127214311660515, 11.500307125121559, 11.64562743861828, 132.45136863085125, 102.18308311896148, 156.36017404945915, 142.94454612551908, 93.63092391367763, 14.817057626191968, 51.420908333727574, 93.63092391367763, 55.982659262637654, 132.63378145230007, 132.45136863085125, 8.847048190097636, 8.945407860542785, 10.021472022981916, 10.127214311660515, 11.279075768609728, 11.500307125121559, 11.64562743861828, 12.2869222706446, 12.676273158904753, 13.037290054117928, 13.183223488354527, 13.452031402812603, 13.666910637715269, 13.796813125810381, 13.991848222921861, 14.315564319383704, 14.325701180157946, 14.487762375649686, 14.699578982813062, 14.910772384141504, 15.476890227362496, 16.002812568832034, 16.59398305148057, 17.02986381136527, 67.98364529923687, 19.18532503157831, 19.04441368524358, 52.55442549250665, 75.35219928330214, 38.89488123346102, 96.92920160851949, 52.272868594304434, 28.51801494875681, 17.8371468122081, 21.99450939983406, 156.36017404945915, 22.952071441108295, 102.18308311896148, 184.32113600010626, 142.94454612551908, 80.61863722420617, 16.59398305148057, 51.420908333727574, 55.982659262637654, 132.63378145230007, 93.63092391367763, 75.35219928330214, 184.32113600010626, 8.847048190097636, 8.945407860542785, 10.021472022981916, 10.127214311660515, 11.279075768609728, 11.500307125121559, 11.64562743861828, 12.2869222706446, 12.676273158904753, 13.037290054117928, 13.183223488354527, 13.452031402812603, 13.666910637715269, 13.796813125810381, 13.991848222921861, 14.315564319383704, 14.325701180157946, 14.487762375649686, 14.699578982813062, 14.817057626191968, 14.910772384141504, 15.476890227362496, 16.002812568832034, 52.272868594304434, 19.18532503157831, 19.04441368524358, 52.55442549250665, 67.98364529923687, 28.51801494875681, 38.89488123346102, 96.92920160851949, 80.22034465429945, 21.99450939983406, 156.36017404945915, 22.952071441108295, 102.18308311896148, 142.94454612551908, 80.61863722420617, 32.44763316728335, 51.420908333727574, 47.87647191995549, 52.272868594304434, 28.859754394601325, 156.36017404945915, 96.92920160851949, 184.32113600010626, 102.18308311896148, 132.63378145230007, 8.847048190097636, 8.945407860542785, 10.021472022981916, 10.127214311660515, 11.279075768609728, 11.500307125121559, 11.64562743861828, 12.2869222706446, 12.676273158904753, 13.037290054117928, 13.183223488354527, 13.452031402812603, 13.666910637715269, 13.796813125810381, 13.991848222921861, 14.315564319383704, 14.325701180157946, 14.487762375649686, 14.699578982813062, 14.817057626191968, 14.910772384141504, 38.89488123346102, 75.35219928330214, 52.55442549250665, 19.04441368524358, 19.18532503157831, 67.98364529923687, 28.51801494875681, 17.8371468122081, 21.99450939983406, 22.952071441108295, 142.94454612551908, 80.61863722420617, 32.44763316728335, 38.85602553419659, 13.796813125810381, 13.991848222921861, 22.376107071639968, 23.135977061277426, 80.22034465429945, 29.380211803645576, 31.744609410024175, 102.18308311896148, 40.3635141087678, 156.36017404945915, 132.45136863085125, 67.98364529923687, 75.35219928330214, 93.63092391367763, 96.92920160851949, 19.04441368524358, 22.952071441108295, 132.63378145230007, 142.94454612551908, 184.32113600010626, 8.847048190097636, 8.945407860542785, 10.021472022981916, 10.127214311660515, 11.279075768609728, 11.500307125121559, 11.64562743861828, 12.2869222706446, 12.676273158904753, 13.037290054117928, 13.183223488354527, 52.55442549250665, 55.982659262637654, 32.44763316728335, 38.89488123346102, 80.61863722420617, 13.666910637715269, 53.537500030487394, 21.774612858002552, 22.376107071639968, 10.021472022981916, 10.127214311660515, 20.018062480741694, 28.51801494875681, 45.9952151976854, 142.94454612551908, 30.313682331582662, 132.45136863085125, 55.982659262637654, 52.272868594304434, 53.537500030487394, 132.63378145230007, 93.63092391367763, 184.32113600010626, 102.18308311896148, 8.847048190097636, 8.945407860542785, 11.279075768609728, 11.500307125121559, 11.64562743861828, 12.2869222706446, 12.676273158904753, 13.037290054117928, 13.183223488354527, 13.452031402812603, 13.666910637715269, 13.796813125810381, 13.991848222921861, 52.55442549250665, 19.04441368524358, 38.89488123346102, 67.98364529923687, 75.35219928330214, 19.18532503157831, 96.92920160851949, 21.99450939983406, 8.847048190097636, 8.945407860542785, 10.021472022981916, 10.127214311660515, 11.279075768609728, 11.500307125121559, 11.64562743861828, 12.2869222706446, 12.676273158904753, 13.037290054117928, 13.183223488354527, 13.452031402812603, 13.666910637715269, 13.796813125810381, 13.991848222921861, 14.315564319383704, 14.325701180157946, 14.487762375649686, 14.699578982813062, 14.817057626191968, 14.910772384141504, 15.476890227362496, 16.002812568832034, 16.59398305148057, 17.02986381136527, 17.8371468122081, 18.370976064742223, 18.379524933316834, 18.448865236237314, 19.04441368524358, 67.98364529923687, 96.92920160851949, 52.272868594304434, 19.18532503157831, 52.55442549250665, 38.89488123346102, 75.35219928330214, 132.63378145230007, 80.22034465429945, 28.51801494875681, 21.99450939983406, 32.44763316728335, 55.982659262637654, 53.537500030487394, 132.45136863085125, 38.85602553419659, 80.61863722420617, 142.94454612551908, 184.32113600010626, 16.002812568832034, 14.910772384141504, 8.847048190097636, 11.279075768609728, 12.676273158904753, 28.51801494875681, 32.44763316728335, 51.420908333727574, 102.18308311896148, 67.98364529923687, 142.94454612551908, 184.32113600010626, 96.92920160851949, 8.945407860542785, 10.021472022981916, 10.127214311660515, 11.500307125121559, 11.64562743861828, 12.2869222706446, 13.037290054117928, 13.183223488354527, 13.452031402812603, 13.666910637715269, 13.796813125810381, 13.991848222921861, 14.315564319383704, 14.325701180157946, 14.487762375649686, 14.699578982813062, 14.817057626191968, 75.35219928330214, 38.89488123346102, 132.63378145230007, 52.55442549250665, 19.04441368524358, 19.18532503157831, 52.272868594304434, 21.99450939983406, 80.22034465429945, 156.36017404945915, 22.952071441108295, 20.018062480741694, 14.315564319383704, 30.313682331582662, 38.89488123346102, 52.55442549250665, 53.537500030487394, 55.982659262637654, 67.98364529923687, 75.35219928330214, 96.92920160851949, 184.32113600010626, 8.847048190097636, 8.945407860542785, 10.021472022981916, 10.127214311660515, 11.279075768609728, 11.500307125121559, 11.64562743861828, 12.2869222706446, 12.676273158904753, 13.037290054117928, 13.183223488354527, 13.452031402812603, 13.666910637715269, 13.796813125810381, 13.991848222921861, 14.325701180157946, 14.487762375649686, 14.699578982813062, 14.817057626191968, 19.04441368524358, 52.272868594304434, 19.18532503157831, 28.51801494875681, 132.63378145230007, 21.99450939983406, 80.22034465429945, 156.36017404945915, 22.952071441108295, 102.18308311896148, 142.94454612551908, 80.61863722420617], \"Category\": [\"Default\", \"Default\", \"Default\", \"Default\", \"Default\", \"Default\", \"Default\", \"Default\", \"Default\", \"Default\", \"Default\", \"Default\", \"Default\", \"Default\", \"Default\", \"Default\", \"Default\", \"Default\", \"Default\", \"Default\", \"Default\", \"Default\", \"Default\", \"Default\", \"Default\", \"Default\", \"Default\", \"Default\", \"Default\", \"Default\", \"Topic1\", \"Topic1\", \"Topic1\", \"Topic1\", \"Topic1\", \"Topic1\", \"Topic1\", \"Topic1\", \"Topic1\", \"Topic1\", \"Topic1\", \"Topic1\", \"Topic1\", \"Topic1\", \"Topic1\", \"Topic1\", \"Topic1\", \"Topic1\", \"Topic1\", \"Topic1\", \"Topic1\", \"Topic1\", \"Topic1\", \"Topic1\", \"Topic1\", \"Topic1\", \"Topic1\", \"Topic1\", \"Topic1\", \"Topic1\", \"Topic1\", \"Topic1\", \"Topic1\", \"Topic1\", \"Topic1\", \"Topic1\", \"Topic1\", \"Topic1\", \"Topic1\", \"Topic1\", \"Topic1\", \"Topic1\", \"Topic1\", \"Topic2\", \"Topic2\", \"Topic2\", \"Topic2\", \"Topic2\", \"Topic2\", \"Topic2\", \"Topic2\", \"Topic2\", \"Topic2\", \"Topic2\", \"Topic2\", \"Topic2\", \"Topic2\", \"Topic2\", \"Topic2\", \"Topic2\", \"Topic2\", \"Topic2\", \"Topic2\", \"Topic2\", \"Topic2\", \"Topic2\", \"Topic2\", \"Topic2\", \"Topic2\", \"Topic2\", \"Topic2\", \"Topic2\", \"Topic2\", \"Topic2\", \"Topic2\", \"Topic2\", \"Topic2\", \"Topic2\", \"Topic2\", \"Topic2\", \"Topic2\", \"Topic2\", \"Topic2\", \"Topic2\", \"Topic2\", \"Topic2\", \"Topic2\", \"Topic2\", \"Topic2\", \"Topic2\", \"Topic3\", \"Topic3\", \"Topic3\", \"Topic3\", \"Topic3\", \"Topic3\", \"Topic3\", \"Topic3\", \"Topic3\", \"Topic3\", \"Topic3\", \"Topic3\", \"Topic3\", \"Topic3\", \"Topic3\", \"Topic3\", \"Topic3\", \"Topic3\", \"Topic3\", \"Topic3\", \"Topic3\", \"Topic3\", \"Topic3\", \"Topic3\", \"Topic3\", \"Topic3\", \"Topic3\", \"Topic3\", \"Topic3\", \"Topic3\", \"Topic3\", \"Topic3\", \"Topic3\", \"Topic3\", \"Topic3\", \"Topic3\", \"Topic3\", \"Topic4\", \"Topic4\", \"Topic4\", \"Topic4\", \"Topic4\", \"Topic4\", \"Topic4\", \"Topic4\", \"Topic4\", \"Topic4\", \"Topic4\", \"Topic4\", \"Topic4\", \"Topic4\", \"Topic4\", \"Topic4\", \"Topic4\", \"Topic4\", \"Topic4\", \"Topic4\", \"Topic4\", \"Topic4\", \"Topic4\", \"Topic4\", \"Topic4\", \"Topic4\", \"Topic4\", \"Topic4\", \"Topic4\", \"Topic4\", \"Topic4\", \"Topic4\", \"Topic4\", \"Topic4\", \"Topic4\", \"Topic4\", \"Topic4\", \"Topic4\", \"Topic4\", \"Topic4\", \"Topic5\", \"Topic5\", \"Topic5\", \"Topic5\", \"Topic5\", \"Topic5\", \"Topic5\", \"Topic5\", \"Topic5\", \"Topic5\", \"Topic5\", \"Topic5\", \"Topic5\", \"Topic5\", \"Topic5\", \"Topic5\", \"Topic5\", \"Topic5\", \"Topic5\", \"Topic5\", \"Topic5\", \"Topic5\", \"Topic5\", \"Topic5\", \"Topic5\", \"Topic5\", \"Topic5\", \"Topic5\", \"Topic5\", \"Topic5\", \"Topic5\", \"Topic5\", \"Topic5\", \"Topic5\", \"Topic5\", \"Topic5\", \"Topic5\", \"Topic5\", \"Topic5\", \"Topic5\", \"Topic5\", \"Topic5\", \"Topic5\", \"Topic5\", \"Topic5\", \"Topic5\", \"Topic5\", \"Topic6\", \"Topic6\", \"Topic6\", \"Topic6\", \"Topic6\", \"Topic6\", \"Topic6\", \"Topic6\", \"Topic6\", \"Topic6\", \"Topic6\", \"Topic6\", \"Topic6\", \"Topic6\", \"Topic6\", \"Topic6\", \"Topic6\", \"Topic6\", \"Topic6\", \"Topic6\", \"Topic6\", \"Topic6\", \"Topic6\", \"Topic6\", \"Topic6\", \"Topic6\", \"Topic6\", \"Topic6\", \"Topic6\", \"Topic6\", \"Topic6\", \"Topic6\", \"Topic6\", \"Topic6\", \"Topic6\", \"Topic6\", \"Topic6\", \"Topic6\", \"Topic6\", \"Topic6\", \"Topic6\", \"Topic6\", \"Topic6\", \"Topic7\", \"Topic7\", \"Topic7\", \"Topic7\", \"Topic7\", \"Topic7\", \"Topic7\", \"Topic7\", \"Topic7\", \"Topic7\", \"Topic7\", \"Topic7\", \"Topic7\", \"Topic7\", \"Topic7\", \"Topic7\", \"Topic7\", \"Topic7\", \"Topic7\", \"Topic7\", \"Topic7\", \"Topic7\", \"Topic7\", \"Topic7\", \"Topic7\", \"Topic7\", \"Topic7\", \"Topic7\", \"Topic7\", \"Topic7\", \"Topic7\", \"Topic7\", \"Topic7\", \"Topic7\", \"Topic7\", \"Topic7\", \"Topic7\", \"Topic7\", \"Topic8\", \"Topic8\", \"Topic8\", \"Topic8\", \"Topic8\", \"Topic8\", \"Topic8\", \"Topic8\", \"Topic8\", \"Topic8\", \"Topic8\", \"Topic8\", \"Topic8\", \"Topic8\", \"Topic8\", \"Topic8\", \"Topic8\", \"Topic8\", \"Topic8\", \"Topic8\", \"Topic8\", \"Topic8\", \"Topic8\", \"Topic8\", \"Topic8\", \"Topic8\", \"Topic8\", \"Topic8\", \"Topic8\", \"Topic8\", \"Topic8\", \"Topic8\", \"Topic9\", \"Topic9\", \"Topic9\", \"Topic9\", \"Topic9\", \"Topic9\", \"Topic9\", \"Topic9\", \"Topic9\", \"Topic9\", \"Topic9\", \"Topic9\", \"Topic9\", \"Topic9\", \"Topic9\", \"Topic9\", \"Topic9\", \"Topic9\", \"Topic9\", \"Topic9\", \"Topic9\", \"Topic9\", \"Topic9\", \"Topic9\", \"Topic9\", \"Topic9\", \"Topic9\", \"Topic9\", \"Topic9\", \"Topic9\", \"Topic9\", \"Topic9\", \"Topic9\", \"Topic9\", \"Topic9\", \"Topic9\", \"Topic9\", \"Topic9\", \"Topic9\", \"Topic10\", \"Topic10\", \"Topic10\", \"Topic10\", \"Topic10\", \"Topic10\", \"Topic10\", \"Topic10\", \"Topic10\", \"Topic10\", \"Topic10\", \"Topic10\", \"Topic10\", \"Topic10\", \"Topic10\", \"Topic10\", \"Topic10\", \"Topic10\", \"Topic10\", \"Topic10\", \"Topic10\", \"Topic10\", \"Topic10\", \"Topic10\", \"Topic10\", \"Topic10\", \"Topic10\", \"Topic10\", \"Topic10\", \"Topic10\", \"Topic10\", \"Topic10\", \"Topic10\", \"Topic10\", \"Topic10\", \"Topic10\", \"Topic10\", \"Topic10\", \"Topic10\", \"Topic10\", \"Topic10\", \"Topic10\", \"Topic10\", \"Topic10\", \"Topic10\", \"Topic10\", \"Topic10\", \"Topic10\", \"Topic10\", \"Topic11\", \"Topic11\", \"Topic11\", \"Topic11\", \"Topic11\", \"Topic11\", \"Topic11\", \"Topic11\", \"Topic11\", \"Topic11\", \"Topic11\", \"Topic11\", \"Topic11\", \"Topic11\", \"Topic11\", \"Topic11\", \"Topic11\", \"Topic11\", \"Topic11\", \"Topic11\", \"Topic11\", \"Topic11\", \"Topic11\", \"Topic11\", \"Topic11\", \"Topic11\", \"Topic11\", \"Topic11\", \"Topic11\", \"Topic11\", \"Topic11\", \"Topic11\", \"Topic11\", \"Topic11\", \"Topic11\", \"Topic11\", \"Topic11\", \"Topic12\", \"Topic12\", \"Topic12\", \"Topic12\", \"Topic12\", \"Topic12\", \"Topic12\", \"Topic12\", \"Topic12\", \"Topic12\", \"Topic12\", \"Topic12\", \"Topic12\", \"Topic12\", \"Topic12\", \"Topic12\", \"Topic12\", \"Topic12\", \"Topic12\", \"Topic12\", \"Topic12\", \"Topic12\", \"Topic12\", \"Topic12\", \"Topic12\", \"Topic12\", \"Topic12\", \"Topic12\", \"Topic12\", \"Topic12\", \"Topic12\", \"Topic12\", \"Topic12\", \"Topic12\", \"Topic12\", \"Topic12\", \"Topic12\", \"Topic12\", \"Topic12\", \"Topic13\", \"Topic13\", \"Topic13\", \"Topic13\", \"Topic13\", \"Topic13\", \"Topic13\", \"Topic13\", \"Topic13\", \"Topic13\", \"Topic13\", \"Topic13\", \"Topic13\", \"Topic13\", \"Topic13\", \"Topic13\", \"Topic13\", \"Topic13\", \"Topic13\", \"Topic13\", \"Topic13\", \"Topic13\", \"Topic13\", \"Topic13\", \"Topic13\", \"Topic13\", \"Topic13\", \"Topic13\", \"Topic13\", \"Topic13\", \"Topic13\", \"Topic13\", \"Topic13\", \"Topic13\", \"Topic13\", \"Topic14\", \"Topic14\", \"Topic14\", \"Topic14\", \"Topic14\", \"Topic14\", \"Topic14\", \"Topic14\", \"Topic14\", \"Topic14\", \"Topic14\", \"Topic14\", \"Topic14\", \"Topic14\", \"Topic14\", \"Topic14\", \"Topic14\", \"Topic14\", \"Topic14\", \"Topic14\", \"Topic14\", \"Topic14\", \"Topic14\", \"Topic14\", \"Topic14\", \"Topic14\", \"Topic14\", \"Topic14\", \"Topic14\", \"Topic14\", \"Topic14\", \"Topic14\", \"Topic15\", \"Topic15\", \"Topic15\", \"Topic15\", \"Topic15\", \"Topic15\", \"Topic15\", \"Topic15\", \"Topic15\", \"Topic15\", \"Topic15\", \"Topic15\", \"Topic15\", \"Topic15\", \"Topic15\", \"Topic15\", \"Topic15\", \"Topic15\", \"Topic15\", \"Topic15\", \"Topic15\", \"Topic15\", \"Topic15\", \"Topic15\", \"Topic15\", \"Topic15\", \"Topic15\", \"Topic15\", \"Topic15\", \"Topic15\", \"Topic15\", \"Topic15\", \"Topic15\", \"Topic16\", \"Topic16\", \"Topic16\", \"Topic16\", \"Topic16\", \"Topic16\", \"Topic16\", \"Topic16\", \"Topic16\", \"Topic16\", \"Topic16\", \"Topic16\", \"Topic16\", \"Topic16\", \"Topic16\", \"Topic16\", \"Topic16\", \"Topic16\", \"Topic16\", \"Topic16\", \"Topic16\", \"Topic16\", \"Topic16\", \"Topic16\", \"Topic16\", \"Topic16\", \"Topic16\", \"Topic16\", \"Topic16\", \"Topic16\", \"Topic16\", \"Topic16\", \"Topic16\", \"Topic16\", \"Topic16\", \"Topic16\", \"Topic16\", \"Topic16\", \"Topic16\", \"Topic16\", \"Topic16\", \"Topic16\", \"Topic16\", \"Topic16\", \"Topic16\", \"Topic16\", \"Topic16\", \"Topic16\", \"Topic16\", \"Topic17\", \"Topic17\", \"Topic17\", \"Topic17\", \"Topic17\", \"Topic17\", \"Topic17\", \"Topic17\", \"Topic17\", \"Topic17\", \"Topic17\", \"Topic17\", \"Topic17\", \"Topic17\", \"Topic17\", \"Topic17\", \"Topic17\", \"Topic17\", \"Topic17\", \"Topic17\", \"Topic17\", \"Topic17\", \"Topic17\", \"Topic17\", \"Topic17\", \"Topic17\", \"Topic17\", \"Topic17\", \"Topic17\", \"Topic17\", \"Topic17\", \"Topic17\", \"Topic17\", \"Topic17\", \"Topic17\", \"Topic17\", \"Topic17\", \"Topic17\", \"Topic17\", \"Topic17\", \"Topic17\", \"Topic18\", \"Topic18\", \"Topic18\", \"Topic18\", \"Topic18\", \"Topic18\", \"Topic18\", \"Topic18\", \"Topic18\", \"Topic18\", \"Topic18\", \"Topic18\", \"Topic18\", \"Topic18\", \"Topic18\", \"Topic18\", \"Topic18\", \"Topic18\", \"Topic18\", \"Topic18\", \"Topic18\", \"Topic18\", \"Topic18\", \"Topic18\", \"Topic18\", \"Topic18\", \"Topic18\", \"Topic18\", \"Topic18\", \"Topic18\", \"Topic18\", \"Topic18\", \"Topic18\", \"Topic18\", \"Topic18\", \"Topic18\", \"Topic18\", \"Topic18\", \"Topic18\", \"Topic18\", \"Topic18\", \"Topic18\", \"Topic18\", \"Topic18\", \"Topic18\", \"Topic18\", \"Topic18\", \"Topic19\", \"Topic19\", \"Topic19\", \"Topic19\", \"Topic19\", \"Topic19\", \"Topic19\", \"Topic19\", \"Topic19\", \"Topic19\", \"Topic19\", \"Topic19\", \"Topic19\", \"Topic19\", \"Topic19\", \"Topic19\", \"Topic19\", \"Topic19\", \"Topic19\", \"Topic19\", \"Topic19\", \"Topic19\", \"Topic19\", \"Topic19\", \"Topic19\", \"Topic19\", \"Topic19\", \"Topic19\", \"Topic19\", \"Topic19\", \"Topic19\", \"Topic19\", \"Topic19\", \"Topic19\", \"Topic19\", \"Topic19\", \"Topic19\", \"Topic19\", \"Topic19\", \"Topic19\", \"Topic19\", \"Topic19\", \"Topic19\", \"Topic19\", \"Topic19\", \"Topic19\", \"Topic19\", \"Topic19\", \"Topic19\", \"Topic20\", \"Topic20\", \"Topic20\", \"Topic20\", \"Topic20\", \"Topic20\", \"Topic20\", \"Topic20\", \"Topic20\", \"Topic20\", \"Topic20\", \"Topic20\", \"Topic20\", \"Topic20\", \"Topic20\", \"Topic20\", \"Topic20\", \"Topic20\", \"Topic20\", \"Topic20\", \"Topic20\", \"Topic20\", \"Topic20\", \"Topic20\", \"Topic20\", \"Topic20\", \"Topic20\", \"Topic20\", \"Topic20\", \"Topic20\", \"Topic20\", \"Topic20\", \"Topic20\", \"Topic20\", \"Topic21\", \"Topic21\", \"Topic21\", \"Topic21\", \"Topic21\", \"Topic21\", \"Topic21\", \"Topic21\", \"Topic21\", \"Topic21\", \"Topic21\", \"Topic21\", \"Topic21\", \"Topic21\", \"Topic21\", \"Topic21\", \"Topic21\", \"Topic21\", \"Topic21\", \"Topic21\", \"Topic21\", \"Topic21\", \"Topic21\", \"Topic21\", \"Topic21\", \"Topic21\", \"Topic21\", \"Topic21\", \"Topic21\", \"Topic21\", \"Topic21\", \"Topic21\", \"Topic21\", \"Topic21\", \"Topic21\", \"Topic21\", \"Topic21\", \"Topic21\", \"Topic21\", \"Topic21\", \"Topic21\", \"Topic21\", \"Topic21\", \"Topic22\", \"Topic22\", \"Topic22\", \"Topic22\", \"Topic22\", \"Topic22\", \"Topic22\", \"Topic22\", \"Topic22\", \"Topic22\", \"Topic22\", \"Topic22\", \"Topic22\", \"Topic22\", \"Topic22\", \"Topic22\", \"Topic22\", \"Topic22\", \"Topic22\", \"Topic22\", \"Topic22\", \"Topic22\", \"Topic22\", \"Topic22\", \"Topic22\", \"Topic22\", \"Topic22\", \"Topic22\", \"Topic22\", \"Topic22\", \"Topic22\", \"Topic22\", \"Topic22\", \"Topic22\", \"Topic22\", \"Topic22\", \"Topic22\", \"Topic22\", \"Topic22\", \"Topic22\", \"Topic22\", \"Topic22\", \"Topic23\", \"Topic23\", \"Topic23\", \"Topic23\", \"Topic23\", \"Topic23\", \"Topic23\", \"Topic23\", \"Topic23\", \"Topic23\", \"Topic23\", \"Topic23\", \"Topic23\", \"Topic23\", \"Topic23\", \"Topic23\", \"Topic23\", \"Topic23\", \"Topic23\", \"Topic23\", \"Topic23\", \"Topic23\", \"Topic23\", \"Topic23\", \"Topic23\", \"Topic23\", \"Topic23\", \"Topic23\", \"Topic23\", \"Topic23\", \"Topic23\", \"Topic23\", \"Topic23\", \"Topic23\", \"Topic23\", \"Topic23\", \"Topic23\", \"Topic23\", \"Topic23\", \"Topic23\", \"Topic23\", \"Topic23\", \"Topic23\", \"Topic24\", \"Topic24\", \"Topic24\", \"Topic24\", \"Topic24\", \"Topic24\", \"Topic24\", \"Topic24\", \"Topic24\", \"Topic24\", \"Topic24\", \"Topic24\", \"Topic24\", \"Topic24\", \"Topic24\", \"Topic24\", \"Topic24\", \"Topic24\", \"Topic24\", \"Topic24\", \"Topic24\", \"Topic24\", \"Topic24\", \"Topic24\", \"Topic24\", \"Topic24\", \"Topic24\", \"Topic24\", \"Topic24\", \"Topic24\", \"Topic24\", \"Topic24\", \"Topic24\", \"Topic24\", \"Topic24\", \"Topic24\", \"Topic24\", \"Topic24\", \"Topic24\", \"Topic24\", \"Topic24\", \"Topic24\", \"Topic24\", \"Topic24\", \"Topic24\", \"Topic25\", \"Topic25\", \"Topic25\", \"Topic25\", \"Topic25\", \"Topic25\", \"Topic25\", \"Topic25\", \"Topic25\", \"Topic25\", \"Topic25\", \"Topic25\", \"Topic25\", \"Topic25\", \"Topic25\", \"Topic25\", \"Topic25\", \"Topic25\", \"Topic25\", \"Topic25\", \"Topic25\", \"Topic25\", \"Topic25\", \"Topic25\", \"Topic25\", \"Topic25\", \"Topic25\", \"Topic25\", \"Topic25\", \"Topic25\", \"Topic25\", \"Topic25\", \"Topic25\", \"Topic25\", \"Topic25\", \"Topic25\", \"Topic25\", \"Topic25\", \"Topic25\", \"Topic26\", \"Topic26\", \"Topic26\", \"Topic26\", \"Topic26\", \"Topic26\", \"Topic26\", \"Topic26\", \"Topic26\", \"Topic26\", \"Topic26\", \"Topic26\", \"Topic26\", \"Topic26\", \"Topic26\", \"Topic26\", \"Topic26\", \"Topic26\", \"Topic26\", \"Topic26\", \"Topic26\", \"Topic26\", \"Topic26\", \"Topic26\", \"Topic26\", \"Topic26\", \"Topic26\", \"Topic26\", \"Topic26\", \"Topic26\", \"Topic26\", \"Topic26\", \"Topic26\", \"Topic26\", \"Topic26\", \"Topic26\", \"Topic26\", \"Topic26\", \"Topic26\", \"Topic26\", \"Topic26\", \"Topic26\", \"Topic26\", \"Topic26\", \"Topic26\", \"Topic26\", \"Topic26\", \"Topic26\", \"Topic26\", \"Topic27\", \"Topic27\", \"Topic27\", \"Topic27\", \"Topic27\", \"Topic27\", \"Topic27\", \"Topic27\", \"Topic27\", \"Topic27\", \"Topic27\", \"Topic27\", \"Topic27\", \"Topic27\", \"Topic27\", \"Topic27\", \"Topic27\", \"Topic27\", \"Topic27\", \"Topic27\", \"Topic27\", \"Topic27\", \"Topic27\", \"Topic27\", \"Topic27\", \"Topic27\", \"Topic27\", \"Topic27\", \"Topic27\", \"Topic27\", \"Topic27\", \"Topic27\", \"Topic27\", \"Topic27\", \"Topic27\", \"Topic27\", \"Topic27\", \"Topic27\", \"Topic27\", \"Topic27\", \"Topic27\", \"Topic27\", \"Topic27\", \"Topic27\", \"Topic28\", \"Topic28\", \"Topic28\", \"Topic28\", \"Topic28\", \"Topic28\", \"Topic28\", \"Topic28\", \"Topic28\", \"Topic28\", \"Topic28\", \"Topic28\", \"Topic28\", \"Topic28\", \"Topic28\", \"Topic28\", \"Topic28\", \"Topic28\", \"Topic28\", \"Topic28\", \"Topic28\", \"Topic28\", \"Topic28\", \"Topic28\", \"Topic28\", \"Topic28\", \"Topic28\", \"Topic28\", \"Topic28\", \"Topic28\", \"Topic28\", \"Topic28\", \"Topic29\", \"Topic29\", \"Topic29\", \"Topic29\", \"Topic29\", \"Topic29\", \"Topic29\", \"Topic29\", \"Topic29\", \"Topic29\", \"Topic29\", \"Topic29\", \"Topic29\", \"Topic29\", \"Topic29\", \"Topic29\", \"Topic29\", \"Topic29\", \"Topic29\", \"Topic29\", \"Topic29\", \"Topic29\", \"Topic29\", \"Topic29\", \"Topic29\", \"Topic29\", \"Topic29\", \"Topic29\", \"Topic29\", \"Topic29\", \"Topic29\", \"Topic29\", \"Topic29\", \"Topic29\", \"Topic29\", \"Topic29\", \"Topic29\", \"Topic29\", \"Topic29\", \"Topic29\", \"Topic29\", \"Topic29\", \"Topic29\", \"Topic29\", \"Topic29\", \"Topic29\", \"Topic29\", \"Topic29\", \"Topic29\", \"Topic30\", \"Topic30\", \"Topic30\", \"Topic30\", \"Topic30\", \"Topic30\", \"Topic30\", \"Topic30\", \"Topic30\", \"Topic30\", \"Topic30\", \"Topic30\", \"Topic30\", \"Topic30\", \"Topic30\", \"Topic30\", \"Topic30\", \"Topic30\", \"Topic30\", \"Topic30\", \"Topic30\", \"Topic30\", \"Topic30\", \"Topic30\", \"Topic30\", \"Topic30\", \"Topic30\", \"Topic30\", \"Topic30\", \"Topic30\", \"Topic30\", \"Topic30\", \"Topic30\", \"Topic30\", \"Topic30\", \"Topic30\", \"Topic30\", \"Topic30\", \"Topic30\", \"Topic31\", \"Topic31\", \"Topic31\", \"Topic31\", \"Topic31\", \"Topic31\", \"Topic31\", \"Topic31\", \"Topic31\", \"Topic31\", \"Topic31\", \"Topic31\", \"Topic31\", \"Topic31\", \"Topic31\", \"Topic31\", \"Topic31\", \"Topic31\", \"Topic31\", \"Topic31\", \"Topic31\", \"Topic31\", \"Topic31\", \"Topic31\", \"Topic31\", \"Topic31\", \"Topic31\", \"Topic31\", \"Topic31\", \"Topic31\", \"Topic31\", \"Topic31\", \"Topic31\", \"Topic31\", \"Topic31\", \"Topic31\", \"Topic31\", \"Topic31\", \"Topic31\", \"Topic31\", \"Topic31\", \"Topic31\", \"Topic31\", \"Topic31\", \"Topic31\", \"Topic31\", \"Topic32\", \"Topic32\", \"Topic32\", \"Topic32\", \"Topic32\", \"Topic32\", \"Topic32\", \"Topic32\", \"Topic32\", \"Topic32\", \"Topic32\", \"Topic32\", \"Topic32\", \"Topic32\", \"Topic32\", \"Topic32\", \"Topic32\", \"Topic32\", \"Topic32\", \"Topic32\", \"Topic32\", \"Topic32\", \"Topic32\", \"Topic32\", \"Topic32\", \"Topic32\", \"Topic32\", \"Topic32\", \"Topic32\", \"Topic32\", \"Topic32\", \"Topic32\", \"Topic32\", \"Topic32\", \"Topic32\", \"Topic32\", \"Topic32\", \"Topic32\", \"Topic32\", \"Topic32\", \"Topic32\", \"Topic32\", \"Topic32\", \"Topic32\", \"Topic33\", \"Topic33\", \"Topic33\", \"Topic33\", \"Topic33\", \"Topic33\", \"Topic33\", \"Topic33\", \"Topic33\", \"Topic33\", \"Topic33\", \"Topic33\", \"Topic33\", \"Topic33\", \"Topic33\", \"Topic33\", \"Topic33\", \"Topic33\", \"Topic33\", \"Topic33\", \"Topic33\", \"Topic33\", \"Topic33\", \"Topic33\", \"Topic33\", \"Topic33\", \"Topic33\", \"Topic33\", \"Topic33\", \"Topic33\", \"Topic33\", \"Topic33\", \"Topic33\", \"Topic33\", \"Topic33\", \"Topic33\", \"Topic33\", \"Topic33\", \"Topic33\", \"Topic33\", \"Topic33\", \"Topic33\", \"Topic33\", \"Topic33\", \"Topic34\", \"Topic34\", \"Topic34\", \"Topic34\", \"Topic34\", \"Topic34\", \"Topic34\", \"Topic34\", \"Topic34\", \"Topic34\", \"Topic34\", \"Topic34\", \"Topic34\", \"Topic34\", \"Topic34\", \"Topic34\", \"Topic34\", \"Topic34\", \"Topic34\", \"Topic34\", \"Topic34\", \"Topic34\", \"Topic34\", \"Topic34\", \"Topic34\", \"Topic34\", \"Topic34\", \"Topic34\", \"Topic34\", \"Topic34\", \"Topic34\", \"Topic34\", \"Topic34\", \"Topic34\", \"Topic34\", \"Topic34\", \"Topic34\", \"Topic34\", \"Topic34\", \"Topic34\", \"Topic35\", \"Topic35\", \"Topic35\", \"Topic35\", \"Topic35\", \"Topic35\", \"Topic35\", \"Topic35\", \"Topic35\", \"Topic35\", \"Topic35\", \"Topic35\", \"Topic35\", \"Topic35\", \"Topic35\", \"Topic35\", \"Topic35\", \"Topic35\", \"Topic35\", \"Topic35\", \"Topic35\", \"Topic35\", \"Topic35\", \"Topic35\", \"Topic35\", \"Topic35\", \"Topic35\", \"Topic35\", \"Topic35\", \"Topic35\", \"Topic35\", \"Topic35\", \"Topic36\", \"Topic36\", \"Topic36\", \"Topic36\", \"Topic36\", \"Topic36\", \"Topic36\", \"Topic36\", \"Topic36\", \"Topic36\", \"Topic36\", \"Topic36\", \"Topic36\", \"Topic36\", \"Topic36\", \"Topic36\", \"Topic36\", \"Topic36\", \"Topic36\", \"Topic36\", \"Topic36\", \"Topic36\", \"Topic36\", \"Topic36\", \"Topic36\", \"Topic36\", \"Topic36\", \"Topic36\", \"Topic36\", \"Topic36\", \"Topic36\", \"Topic36\", \"Topic36\", \"Topic36\", \"Topic36\", \"Topic36\", \"Topic36\", \"Topic37\", \"Topic37\", \"Topic37\", \"Topic37\", \"Topic37\", \"Topic37\", \"Topic37\", \"Topic37\", \"Topic37\", \"Topic37\", \"Topic37\", \"Topic37\", \"Topic37\", \"Topic37\", \"Topic37\", \"Topic37\", \"Topic37\", \"Topic37\", \"Topic37\", \"Topic37\", \"Topic37\", \"Topic37\", \"Topic37\", \"Topic37\", \"Topic37\", \"Topic37\", \"Topic37\", \"Topic37\", \"Topic37\", \"Topic37\", \"Topic37\", \"Topic37\", \"Topic37\", \"Topic37\", \"Topic37\", \"Topic37\", \"Topic37\", \"Topic37\", \"Topic37\", \"Topic37\", \"Topic37\", \"Topic37\", \"Topic37\", \"Topic37\", \"Topic37\", \"Topic37\", \"Topic38\", \"Topic38\", \"Topic38\", \"Topic38\", \"Topic38\", \"Topic38\", \"Topic38\", \"Topic38\", \"Topic38\", \"Topic38\", \"Topic38\", \"Topic38\", \"Topic38\", \"Topic38\", \"Topic38\", \"Topic38\", \"Topic38\", \"Topic38\", \"Topic38\", \"Topic38\", \"Topic38\", \"Topic38\", \"Topic38\", \"Topic38\", \"Topic38\", \"Topic38\", \"Topic38\", \"Topic38\", \"Topic38\", \"Topic38\", \"Topic38\", \"Topic38\", \"Topic38\", \"Topic38\", \"Topic38\", \"Topic38\", \"Topic38\", \"Topic38\", \"Topic38\", \"Topic38\", \"Topic38\", \"Topic38\", \"Topic38\", \"Topic38\", \"Topic38\", \"Topic38\", \"Topic38\", \"Topic39\", \"Topic39\", \"Topic39\", \"Topic39\", \"Topic39\", \"Topic39\", \"Topic39\", \"Topic39\", \"Topic39\", \"Topic39\", \"Topic39\", \"Topic39\", \"Topic39\", \"Topic39\", \"Topic39\", \"Topic39\", \"Topic39\", \"Topic39\", \"Topic39\", \"Topic39\", \"Topic39\", \"Topic39\", \"Topic39\", \"Topic39\", \"Topic39\", \"Topic39\", \"Topic39\", \"Topic39\", \"Topic39\", \"Topic39\", \"Topic39\", \"Topic39\", \"Topic39\", \"Topic39\", \"Topic39\", \"Topic39\", \"Topic39\", \"Topic39\", \"Topic39\", \"Topic39\", \"Topic39\", \"Topic39\", \"Topic39\", \"Topic39\", \"Topic39\", \"Topic40\", \"Topic40\", \"Topic40\", \"Topic40\", \"Topic40\", \"Topic40\", \"Topic40\", \"Topic40\", \"Topic40\", \"Topic40\", \"Topic40\", \"Topic40\", \"Topic40\", \"Topic40\", \"Topic40\", \"Topic40\", \"Topic40\", \"Topic40\", \"Topic40\", \"Topic40\", \"Topic40\", \"Topic40\", \"Topic40\", \"Topic40\", \"Topic40\", \"Topic40\", \"Topic40\", \"Topic40\", \"Topic40\", \"Topic40\", \"Topic40\", \"Topic40\", \"Topic40\", \"Topic40\", \"Topic40\", \"Topic40\", \"Topic40\", \"Topic40\", \"Topic40\", \"Topic40\", \"Topic40\", \"Topic40\", \"Topic41\", \"Topic41\", \"Topic41\", \"Topic41\", \"Topic41\", \"Topic41\", \"Topic41\", \"Topic41\", \"Topic41\", \"Topic41\", \"Topic41\", \"Topic41\", \"Topic41\", \"Topic41\", \"Topic41\", \"Topic41\", \"Topic41\", \"Topic41\", \"Topic41\", \"Topic41\", \"Topic41\", \"Topic41\", \"Topic41\", \"Topic41\", \"Topic41\", \"Topic41\", \"Topic41\", \"Topic41\", \"Topic41\", \"Topic41\", \"Topic41\", \"Topic41\", \"Topic41\", \"Topic41\", \"Topic41\", \"Topic41\", \"Topic41\", \"Topic41\", \"Topic41\", \"Topic41\", \"Topic41\", \"Topic41\", \"Topic41\", \"Topic41\", \"Topic41\", \"Topic41\", \"Topic41\", \"Topic41\", \"Topic41\", \"Topic42\", \"Topic42\", \"Topic42\", \"Topic42\", \"Topic42\", \"Topic42\", \"Topic42\", \"Topic42\", \"Topic42\", \"Topic42\", \"Topic42\", \"Topic42\", \"Topic42\", \"Topic42\", \"Topic42\", \"Topic42\", \"Topic42\", \"Topic42\", \"Topic42\", \"Topic42\", \"Topic42\", \"Topic42\", \"Topic42\", \"Topic42\", \"Topic42\", \"Topic42\", \"Topic42\", \"Topic42\", \"Topic42\", \"Topic42\", \"Topic42\", \"Topic42\", \"Topic42\", \"Topic42\", \"Topic42\", \"Topic42\", \"Topic43\", \"Topic43\", \"Topic43\", \"Topic43\", \"Topic43\", \"Topic43\", \"Topic43\", \"Topic43\", \"Topic43\", \"Topic43\", \"Topic43\", \"Topic43\", \"Topic43\", \"Topic43\", \"Topic43\", \"Topic43\", \"Topic43\", \"Topic43\", \"Topic43\", \"Topic43\", \"Topic43\", \"Topic43\", \"Topic43\", \"Topic43\", \"Topic43\", \"Topic43\", \"Topic43\", \"Topic43\", \"Topic43\", \"Topic43\", \"Topic43\", \"Topic43\", \"Topic43\", \"Topic43\", \"Topic43\", \"Topic43\", \"Topic43\", \"Topic43\", \"Topic43\", \"Topic43\", \"Topic43\", \"Topic43\", \"Topic43\", \"Topic43\", \"Topic43\", \"Topic44\", \"Topic44\", \"Topic44\", \"Topic44\", \"Topic44\", \"Topic44\", \"Topic44\", \"Topic44\", \"Topic44\", \"Topic44\", \"Topic44\", \"Topic44\", \"Topic44\", \"Topic44\", \"Topic44\", \"Topic44\", \"Topic44\", \"Topic44\", \"Topic44\", \"Topic44\", \"Topic44\", \"Topic44\", \"Topic44\", \"Topic44\", \"Topic44\", \"Topic44\", \"Topic44\", \"Topic44\", \"Topic44\", \"Topic44\", \"Topic44\", \"Topic44\", \"Topic44\", \"Topic44\", \"Topic44\", \"Topic44\", \"Topic44\", \"Topic44\", \"Topic44\", \"Topic44\", \"Topic44\", \"Topic45\", \"Topic45\", \"Topic45\", \"Topic45\", \"Topic45\", \"Topic45\", \"Topic45\", \"Topic45\", \"Topic45\", \"Topic45\", \"Topic45\", \"Topic45\", \"Topic45\", \"Topic45\", \"Topic45\", \"Topic45\", \"Topic45\", \"Topic45\", \"Topic45\", \"Topic45\", \"Topic45\", \"Topic45\", \"Topic45\", \"Topic45\", \"Topic45\", \"Topic45\", \"Topic45\", \"Topic45\", \"Topic45\", \"Topic45\", \"Topic45\", \"Topic45\", \"Topic45\", \"Topic45\", \"Topic46\", \"Topic46\", \"Topic46\", \"Topic46\", \"Topic46\", \"Topic46\", \"Topic46\", \"Topic46\", \"Topic46\", \"Topic46\", \"Topic46\", \"Topic46\", \"Topic46\", \"Topic46\", \"Topic46\", \"Topic46\", \"Topic46\", \"Topic46\", \"Topic46\", \"Topic46\", \"Topic46\", \"Topic46\", \"Topic46\", \"Topic46\", \"Topic46\", \"Topic46\", \"Topic46\", \"Topic46\", \"Topic46\", \"Topic46\", \"Topic46\", \"Topic46\", \"Topic46\", \"Topic46\", \"Topic46\", \"Topic46\", \"Topic46\", \"Topic46\", \"Topic46\", \"Topic46\", \"Topic46\", \"Topic46\", \"Topic46\", \"Topic46\", \"Topic46\", \"Topic46\", \"Topic46\", \"Topic46\", \"Topic46\", \"Topic47\", \"Topic47\", \"Topic47\", \"Topic47\", \"Topic47\", \"Topic47\", \"Topic47\", \"Topic47\", \"Topic47\", \"Topic47\", \"Topic47\", \"Topic47\", \"Topic47\", \"Topic47\", \"Topic47\", \"Topic47\", \"Topic47\", \"Topic47\", \"Topic47\", \"Topic47\", \"Topic47\", \"Topic47\", \"Topic47\", \"Topic47\", \"Topic47\", \"Topic47\", \"Topic47\", \"Topic47\", \"Topic47\", \"Topic47\", \"Topic47\", \"Topic47\", \"Topic47\", \"Topic47\", \"Topic47\", \"Topic47\", \"Topic47\", \"Topic47\", \"Topic47\", \"Topic47\", \"Topic47\", \"Topic47\", \"Topic47\", \"Topic47\", \"Topic47\", \"Topic47\", \"Topic47\", \"Topic47\", \"Topic47\", \"Topic48\", \"Topic48\", \"Topic48\", \"Topic48\", \"Topic48\", \"Topic48\", \"Topic48\", \"Topic48\", \"Topic48\", \"Topic48\", \"Topic48\", \"Topic48\", \"Topic48\", \"Topic48\", \"Topic48\", \"Topic48\", \"Topic48\", \"Topic48\", \"Topic48\", \"Topic48\", \"Topic48\", \"Topic48\", \"Topic48\", \"Topic48\", \"Topic48\", \"Topic48\", \"Topic48\", \"Topic48\", \"Topic48\", \"Topic48\", \"Topic48\", \"Topic48\", \"Topic48\", \"Topic48\", \"Topic48\", \"Topic48\", \"Topic48\", \"Topic48\", \"Topic48\", \"Topic48\", \"Topic49\", \"Topic49\", \"Topic49\", \"Topic49\", \"Topic49\", \"Topic49\", \"Topic49\", \"Topic49\", \"Topic49\", \"Topic49\", \"Topic49\", \"Topic49\", \"Topic49\", \"Topic49\", \"Topic49\", \"Topic49\", \"Topic49\", \"Topic49\", \"Topic49\", \"Topic49\", \"Topic49\", \"Topic49\", \"Topic49\", \"Topic49\", \"Topic49\", \"Topic49\", \"Topic49\", \"Topic49\", \"Topic49\", \"Topic49\", \"Topic49\", \"Topic49\", \"Topic49\", \"Topic49\", \"Topic50\", \"Topic50\", \"Topic50\", \"Topic50\", \"Topic50\", \"Topic50\", \"Topic50\", \"Topic50\", \"Topic50\", \"Topic50\", \"Topic50\", \"Topic50\", \"Topic50\", \"Topic50\", \"Topic50\", \"Topic50\", \"Topic50\", \"Topic50\", \"Topic50\", \"Topic50\", \"Topic50\", \"Topic50\", \"Topic50\", \"Topic50\", \"Topic50\", \"Topic50\", \"Topic50\", \"Topic50\", \"Topic50\", \"Topic50\", \"Topic50\", \"Topic50\", \"Topic50\", \"Topic50\", \"Topic50\", \"Topic50\", \"Topic50\", \"Topic50\", \"Topic50\", \"Topic50\", \"Topic50\", \"Topic50\", \"Topic50\", \"Topic51\", \"Topic51\", \"Topic51\", \"Topic51\", \"Topic51\", \"Topic51\", \"Topic51\", \"Topic51\", \"Topic51\", \"Topic51\", \"Topic51\", \"Topic51\", \"Topic51\", \"Topic51\", \"Topic51\", \"Topic51\", \"Topic51\", \"Topic51\", \"Topic51\", \"Topic51\", \"Topic51\", \"Topic51\", \"Topic51\", \"Topic51\", \"Topic51\", \"Topic51\", \"Topic51\", \"Topic51\", \"Topic51\", \"Topic51\", \"Topic51\", \"Topic51\", \"Topic51\", \"Topic51\", \"Topic51\", \"Topic51\", \"Topic51\", \"Topic51\", \"Topic51\", \"Topic51\", \"Topic51\", \"Topic51\", \"Topic51\", \"Topic51\", \"Topic51\", \"Topic51\", \"Topic51\", \"Topic51\", \"Topic51\", \"Topic52\", \"Topic52\", \"Topic52\", \"Topic52\", \"Topic52\", \"Topic52\", \"Topic52\", \"Topic52\", \"Topic52\", \"Topic52\", \"Topic52\", \"Topic52\", \"Topic52\", \"Topic52\", \"Topic52\", \"Topic52\", \"Topic52\", \"Topic52\", \"Topic52\", \"Topic52\", \"Topic52\", \"Topic52\", \"Topic52\", \"Topic52\", \"Topic52\", \"Topic52\", \"Topic52\", \"Topic52\", \"Topic52\", \"Topic52\", \"Topic52\", \"Topic52\", \"Topic52\", \"Topic52\", \"Topic52\", \"Topic52\", \"Topic52\", \"Topic52\", \"Topic52\", \"Topic52\", \"Topic52\", \"Topic52\", \"Topic52\", \"Topic52\", \"Topic52\", \"Topic52\", \"Topic52\", \"Topic52\", \"Topic52\", \"Topic53\", \"Topic53\", \"Topic53\", \"Topic53\", \"Topic53\", \"Topic53\", \"Topic53\", \"Topic53\", \"Topic53\", \"Topic53\", \"Topic53\", \"Topic53\", \"Topic53\", \"Topic53\", \"Topic53\", \"Topic53\", \"Topic53\", \"Topic53\", \"Topic53\", \"Topic53\", \"Topic53\", \"Topic53\", \"Topic53\", \"Topic53\", \"Topic53\", \"Topic53\", \"Topic53\", \"Topic53\", \"Topic53\", \"Topic53\", \"Topic53\", \"Topic53\", \"Topic53\", \"Topic53\", \"Topic53\", \"Topic53\", \"Topic53\", \"Topic53\", \"Topic53\", \"Topic53\", \"Topic54\", \"Topic54\", \"Topic54\", \"Topic54\", \"Topic54\", \"Topic54\", \"Topic54\", \"Topic54\", \"Topic54\", \"Topic54\", \"Topic54\", \"Topic54\", \"Topic54\", \"Topic54\", \"Topic54\", \"Topic54\", \"Topic54\", \"Topic54\", \"Topic54\", \"Topic54\", \"Topic54\", \"Topic54\", \"Topic54\", \"Topic54\", \"Topic54\", \"Topic54\", \"Topic54\", \"Topic54\", \"Topic54\", \"Topic54\", \"Topic54\", \"Topic54\", \"Topic54\", \"Topic54\", \"Topic54\", \"Topic54\", \"Topic54\", \"Topic55\", \"Topic55\", \"Topic55\", \"Topic55\", \"Topic55\", \"Topic55\", \"Topic55\", \"Topic55\", \"Topic55\", \"Topic55\", \"Topic55\", \"Topic55\", \"Topic55\", \"Topic55\", \"Topic55\", \"Topic55\", \"Topic55\", \"Topic55\", \"Topic55\", \"Topic55\", \"Topic55\", \"Topic55\", \"Topic55\", \"Topic55\", \"Topic55\", \"Topic55\", \"Topic55\", \"Topic55\", \"Topic55\", \"Topic55\", \"Topic55\", \"Topic55\", \"Topic55\", \"Topic55\", \"Topic55\", \"Topic55\", \"Topic55\", \"Topic55\", \"Topic55\", \"Topic56\", \"Topic56\", \"Topic56\", \"Topic56\", \"Topic56\", \"Topic56\", \"Topic56\", \"Topic56\", \"Topic56\", \"Topic56\", \"Topic56\", \"Topic56\", \"Topic56\", \"Topic56\", \"Topic56\", \"Topic56\", \"Topic56\", \"Topic56\", \"Topic56\", \"Topic56\", \"Topic56\", \"Topic56\", \"Topic56\", \"Topic56\", \"Topic56\", \"Topic56\", \"Topic56\", \"Topic56\", \"Topic56\", \"Topic56\", \"Topic56\", \"Topic56\", \"Topic56\", \"Topic56\", \"Topic56\", \"Topic56\", \"Topic56\", \"Topic56\", \"Topic57\", \"Topic57\", \"Topic57\", \"Topic57\", \"Topic57\", \"Topic57\", \"Topic57\", \"Topic57\", \"Topic57\", \"Topic57\", \"Topic57\", \"Topic57\", \"Topic57\", \"Topic57\", \"Topic57\", \"Topic57\", \"Topic57\", \"Topic57\", \"Topic57\", \"Topic57\", \"Topic57\", \"Topic57\", \"Topic57\", \"Topic57\", \"Topic57\", \"Topic57\", \"Topic57\", \"Topic57\", \"Topic57\", \"Topic57\", \"Topic57\", \"Topic57\", \"Topic57\", \"Topic57\", \"Topic57\", \"Topic57\", \"Topic57\", \"Topic57\", \"Topic57\", \"Topic57\", \"Topic57\", \"Topic58\", \"Topic58\", \"Topic58\", \"Topic58\", \"Topic58\", \"Topic58\", \"Topic58\", \"Topic58\", \"Topic58\", \"Topic58\", \"Topic58\", \"Topic58\", \"Topic58\", \"Topic58\", \"Topic58\", \"Topic58\", \"Topic58\", \"Topic58\", \"Topic58\", \"Topic58\", \"Topic58\", \"Topic58\", \"Topic58\", \"Topic58\", \"Topic58\", \"Topic58\", \"Topic58\", \"Topic58\", \"Topic58\", \"Topic58\", \"Topic58\", \"Topic58\", \"Topic59\", \"Topic59\", \"Topic59\", \"Topic59\", \"Topic59\", \"Topic59\", \"Topic59\", \"Topic59\", \"Topic59\", \"Topic59\", \"Topic59\", \"Topic59\", \"Topic59\", \"Topic59\", \"Topic59\", \"Topic59\", \"Topic59\", \"Topic59\", \"Topic59\", \"Topic59\", \"Topic59\", \"Topic59\", \"Topic59\", \"Topic59\", \"Topic59\", \"Topic59\", \"Topic59\", \"Topic59\", \"Topic59\", \"Topic59\", \"Topic59\", \"Topic59\", \"Topic59\", \"Topic59\", \"Topic59\", \"Topic60\", \"Topic60\", \"Topic60\", \"Topic60\", \"Topic60\", \"Topic60\", \"Topic60\", \"Topic60\", \"Topic60\", \"Topic60\", \"Topic60\", \"Topic60\", \"Topic60\", \"Topic60\", \"Topic60\", \"Topic60\", \"Topic60\", \"Topic60\", \"Topic60\", \"Topic60\", \"Topic60\", \"Topic60\", \"Topic60\", \"Topic60\", \"Topic60\", \"Topic60\", \"Topic60\", \"Topic60\", \"Topic60\", \"Topic60\", \"Topic60\", \"Topic60\", \"Topic60\", \"Topic60\", \"Topic60\", \"Topic60\", \"Topic60\", \"Topic60\", \"Topic60\", \"Topic60\", \"Topic60\", \"Topic61\", \"Topic61\", \"Topic61\", \"Topic61\", \"Topic61\", \"Topic61\", \"Topic61\", \"Topic61\", \"Topic61\", \"Topic61\", \"Topic61\", \"Topic61\", \"Topic61\", \"Topic61\", \"Topic61\", \"Topic61\", \"Topic61\", \"Topic61\", \"Topic61\", \"Topic61\", \"Topic61\", \"Topic61\", \"Topic61\", \"Topic61\", \"Topic61\", \"Topic61\", \"Topic61\", \"Topic61\", \"Topic61\", \"Topic61\", \"Topic61\", \"Topic61\", \"Topic61\", \"Topic61\", \"Topic61\", \"Topic61\", \"Topic61\", \"Topic61\", \"Topic61\", \"Topic61\", \"Topic61\", \"Topic61\", \"Topic61\", \"Topic61\", \"Topic61\", \"Topic61\", \"Topic61\", \"Topic62\", \"Topic62\", \"Topic62\", \"Topic62\", \"Topic62\", \"Topic62\", \"Topic62\", \"Topic62\", \"Topic62\", \"Topic62\", \"Topic62\", \"Topic62\", \"Topic62\", \"Topic62\", \"Topic62\", \"Topic62\", \"Topic62\", \"Topic62\", \"Topic62\", \"Topic62\", \"Topic62\", \"Topic62\", \"Topic62\", \"Topic62\", \"Topic62\", \"Topic62\", \"Topic62\", \"Topic62\", \"Topic62\", \"Topic62\", \"Topic62\", \"Topic62\", \"Topic62\", \"Topic62\", \"Topic62\", \"Topic62\", \"Topic62\", \"Topic62\", \"Topic62\", \"Topic62\", \"Topic62\", \"Topic62\", \"Topic63\", \"Topic63\", \"Topic63\", \"Topic63\", \"Topic63\", \"Topic63\", \"Topic63\", \"Topic63\", \"Topic63\", \"Topic63\", \"Topic63\", \"Topic63\", \"Topic63\", \"Topic63\", \"Topic63\", \"Topic63\", \"Topic63\", \"Topic63\", \"Topic63\", \"Topic63\", \"Topic63\", \"Topic63\", \"Topic63\", \"Topic63\", \"Topic63\", \"Topic63\", \"Topic63\", \"Topic63\", \"Topic63\", \"Topic63\", \"Topic63\", \"Topic63\", \"Topic63\", \"Topic63\", \"Topic63\", \"Topic63\", \"Topic63\", \"Topic63\", \"Topic63\", \"Topic63\", \"Topic63\", \"Topic63\", \"Topic63\", \"Topic63\", \"Topic63\", \"Topic63\", \"Topic63\", \"Topic64\", \"Topic64\", \"Topic64\", \"Topic64\", \"Topic64\", \"Topic64\", \"Topic64\", \"Topic64\", \"Topic64\", \"Topic64\", \"Topic64\", \"Topic64\", \"Topic64\", \"Topic64\", \"Topic64\", \"Topic64\", \"Topic64\", \"Topic64\", \"Topic64\", \"Topic64\", \"Topic64\", \"Topic64\", \"Topic64\", \"Topic64\", \"Topic64\", \"Topic64\", \"Topic64\", \"Topic64\", \"Topic64\", \"Topic64\", \"Topic64\", \"Topic64\", \"Topic64\", \"Topic64\", \"Topic64\", \"Topic64\", \"Topic64\", \"Topic64\", \"Topic64\", \"Topic64\", \"Topic64\", \"Topic64\", \"Topic64\", \"Topic64\", \"Topic64\", \"Topic64\", \"Topic64\", \"Topic65\", \"Topic65\", \"Topic65\", \"Topic65\", \"Topic65\", \"Topic65\", \"Topic65\", \"Topic65\", \"Topic65\", \"Topic65\", \"Topic65\", \"Topic65\", \"Topic65\", \"Topic65\", \"Topic65\", \"Topic65\", \"Topic65\", \"Topic65\", \"Topic65\", \"Topic65\", \"Topic65\", \"Topic65\", \"Topic65\", \"Topic65\", \"Topic65\", \"Topic65\", \"Topic65\", \"Topic65\", \"Topic65\", \"Topic65\", \"Topic65\", \"Topic65\", \"Topic66\", \"Topic66\", \"Topic66\", \"Topic66\", \"Topic66\", \"Topic66\", \"Topic66\", \"Topic66\", \"Topic66\", \"Topic66\", \"Topic66\", \"Topic66\", \"Topic66\", \"Topic66\", \"Topic66\", \"Topic66\", \"Topic66\", \"Topic66\", \"Topic66\", \"Topic66\", \"Topic66\", \"Topic66\", \"Topic66\", \"Topic66\", \"Topic66\", \"Topic66\", \"Topic66\", \"Topic66\", \"Topic66\", \"Topic66\", \"Topic66\", \"Topic66\", \"Topic66\", \"Topic66\", \"Topic66\", \"Topic66\", \"Topic66\", \"Topic66\", \"Topic66\", \"Topic66\", \"Topic66\", \"Topic66\", \"Topic66\", \"Topic66\", \"Topic66\", \"Topic66\", \"Topic66\", \"Topic66\", \"Topic66\", \"Topic67\", \"Topic67\", \"Topic67\", \"Topic67\", \"Topic67\", \"Topic67\", \"Topic67\", \"Topic67\", \"Topic67\", \"Topic67\", \"Topic67\", \"Topic67\", \"Topic67\", \"Topic67\", \"Topic67\", \"Topic67\", \"Topic67\", \"Topic67\", \"Topic67\", \"Topic67\", \"Topic67\", \"Topic67\", \"Topic67\", \"Topic67\", \"Topic67\", \"Topic67\", \"Topic67\", \"Topic67\", \"Topic67\", \"Topic67\", \"Topic67\", \"Topic67\", \"Topic67\", \"Topic67\", \"Topic68\", \"Topic68\", \"Topic68\", \"Topic68\", \"Topic68\", \"Topic68\", \"Topic68\", \"Topic68\", \"Topic68\", \"Topic68\", \"Topic68\", \"Topic68\", \"Topic68\", \"Topic68\", \"Topic68\", \"Topic68\", \"Topic68\", \"Topic68\", \"Topic68\", \"Topic68\", \"Topic68\", \"Topic68\", \"Topic68\", \"Topic68\", \"Topic68\", \"Topic68\", \"Topic68\", \"Topic68\", \"Topic68\", \"Topic68\", \"Topic68\", \"Topic68\", \"Topic68\", \"Topic68\", \"Topic68\", \"Topic68\", \"Topic68\", \"Topic68\", \"Topic68\", \"Topic68\", \"Topic68\", \"Topic68\", \"Topic68\", \"Topic68\", \"Topic68\", \"Topic68\", \"Topic69\", \"Topic69\", \"Topic69\", \"Topic69\", \"Topic69\", \"Topic69\", \"Topic69\", \"Topic69\", \"Topic69\", \"Topic69\", \"Topic69\", \"Topic69\", \"Topic69\", \"Topic69\", \"Topic69\", \"Topic69\", \"Topic69\", \"Topic69\", \"Topic69\", \"Topic69\", \"Topic69\", \"Topic69\", \"Topic69\", \"Topic69\", \"Topic69\", \"Topic69\", \"Topic69\", \"Topic69\", \"Topic69\", \"Topic69\", \"Topic69\", \"Topic69\", \"Topic69\", \"Topic69\", \"Topic70\", \"Topic70\", \"Topic70\", \"Topic70\", \"Topic70\", \"Topic70\", \"Topic70\", \"Topic70\", \"Topic70\", \"Topic70\", \"Topic70\", \"Topic70\", \"Topic70\", \"Topic70\", \"Topic70\", \"Topic70\", \"Topic70\", \"Topic70\", \"Topic70\", \"Topic70\", \"Topic70\", \"Topic70\", \"Topic70\", \"Topic70\", \"Topic70\", \"Topic70\", \"Topic70\", \"Topic70\", \"Topic70\", \"Topic70\", \"Topic70\", \"Topic70\", \"Topic70\", \"Topic70\", \"Topic71\", \"Topic71\", \"Topic71\", \"Topic71\", \"Topic71\", \"Topic71\", \"Topic71\", \"Topic71\", \"Topic71\", \"Topic71\", \"Topic71\", \"Topic71\", \"Topic71\", \"Topic71\", \"Topic71\", \"Topic71\", \"Topic71\", \"Topic71\", \"Topic71\", \"Topic71\", \"Topic71\", \"Topic71\", \"Topic71\", \"Topic71\", \"Topic71\", \"Topic71\", \"Topic71\", \"Topic71\", \"Topic71\", \"Topic71\", \"Topic71\", \"Topic71\", \"Topic71\", \"Topic71\", \"Topic71\", \"Topic71\", \"Topic71\", \"Topic71\", \"Topic71\", \"Topic71\", \"Topic71\", \"Topic71\", \"Topic71\", \"Topic71\", \"Topic71\", \"Topic71\", \"Topic71\", \"Topic72\", \"Topic72\", \"Topic72\", \"Topic72\", \"Topic72\", \"Topic72\", \"Topic72\", \"Topic72\", \"Topic72\", \"Topic72\", \"Topic72\", \"Topic72\", \"Topic72\", \"Topic72\", \"Topic72\", \"Topic72\", \"Topic72\", \"Topic72\", \"Topic72\", \"Topic72\", \"Topic72\", \"Topic72\", \"Topic72\", \"Topic72\", \"Topic72\", \"Topic72\", \"Topic72\", \"Topic72\", \"Topic72\", \"Topic72\", \"Topic72\", \"Topic72\", \"Topic72\", \"Topic72\", \"Topic72\", \"Topic73\", \"Topic73\", \"Topic73\", \"Topic73\", \"Topic73\", \"Topic73\", \"Topic73\", \"Topic73\", \"Topic73\", \"Topic73\", \"Topic73\", \"Topic73\", \"Topic73\", \"Topic73\", \"Topic73\", \"Topic73\", \"Topic73\", \"Topic73\", \"Topic73\", \"Topic73\", \"Topic73\", \"Topic73\", \"Topic73\", \"Topic73\", \"Topic73\", \"Topic73\", \"Topic73\", \"Topic73\", \"Topic73\", \"Topic73\", \"Topic73\", \"Topic73\", \"Topic73\", \"Topic73\", \"Topic73\", \"Topic73\", \"Topic73\", \"Topic73\", \"Topic73\", \"Topic73\", \"Topic73\", \"Topic73\", \"Topic74\", \"Topic74\", \"Topic74\", \"Topic74\", \"Topic74\", \"Topic74\", \"Topic74\", \"Topic74\", \"Topic74\", \"Topic74\", \"Topic74\", \"Topic74\", \"Topic74\", \"Topic74\", \"Topic74\", \"Topic74\", \"Topic74\", \"Topic74\", \"Topic74\", \"Topic74\", \"Topic74\", \"Topic74\", \"Topic74\", \"Topic74\", \"Topic74\", \"Topic74\", \"Topic74\", \"Topic74\", \"Topic74\", \"Topic74\", \"Topic74\", \"Topic74\", \"Topic74\", \"Topic74\", \"Topic74\", \"Topic74\", \"Topic74\", \"Topic74\", \"Topic74\", \"Topic75\", \"Topic75\", \"Topic75\", \"Topic75\", \"Topic75\", \"Topic75\", \"Topic75\", \"Topic75\", \"Topic75\", \"Topic75\", \"Topic75\", \"Topic75\", \"Topic75\", \"Topic75\", \"Topic75\", \"Topic75\", \"Topic75\", \"Topic75\", \"Topic75\", \"Topic75\", \"Topic75\", \"Topic75\", \"Topic75\", \"Topic75\", \"Topic75\", \"Topic75\", \"Topic75\", \"Topic75\", \"Topic75\", \"Topic75\", \"Topic75\", \"Topic75\", \"Topic75\", \"Topic75\", \"Topic75\", \"Topic75\", \"Topic75\", \"Topic75\", \"Topic75\", \"Topic75\", \"Topic75\", \"Topic75\", \"Topic75\", \"Topic75\", \"Topic75\", \"Topic75\", \"Topic75\", \"Topic76\", \"Topic76\", \"Topic76\", \"Topic76\", \"Topic76\", \"Topic76\", \"Topic76\", \"Topic76\", \"Topic76\", \"Topic76\", \"Topic76\", \"Topic76\", \"Topic76\", \"Topic76\", \"Topic76\", \"Topic76\", \"Topic76\", \"Topic76\", \"Topic76\", \"Topic76\", \"Topic76\", \"Topic76\", \"Topic76\", \"Topic76\", \"Topic76\", \"Topic76\", \"Topic76\", \"Topic76\", \"Topic76\", \"Topic76\", \"Topic76\", \"Topic76\", \"Topic76\", \"Topic76\", \"Topic76\", \"Topic76\", \"Topic76\", \"Topic76\", \"Topic76\", \"Topic76\", \"Topic76\", \"Topic77\", \"Topic77\", \"Topic77\", \"Topic77\", \"Topic77\", \"Topic77\", \"Topic77\", \"Topic77\", \"Topic77\", \"Topic77\", \"Topic77\", \"Topic77\", \"Topic77\", \"Topic77\", \"Topic77\", \"Topic77\", \"Topic77\", \"Topic77\", \"Topic77\", \"Topic77\", \"Topic77\", \"Topic77\", \"Topic77\", \"Topic77\", \"Topic77\", \"Topic77\", \"Topic77\", \"Topic77\", \"Topic77\", \"Topic77\", \"Topic77\", \"Topic77\", \"Topic77\", \"Topic77\", \"Topic77\", \"Topic77\", \"Topic77\", \"Topic77\", \"Topic78\", \"Topic78\", \"Topic78\", \"Topic78\", \"Topic78\", \"Topic78\", \"Topic78\", \"Topic78\", \"Topic78\", \"Topic78\", \"Topic78\", \"Topic78\", \"Topic78\", \"Topic78\", \"Topic78\", \"Topic78\", \"Topic78\", \"Topic78\", \"Topic78\", \"Topic78\", \"Topic78\", \"Topic78\", \"Topic78\", \"Topic78\", \"Topic78\", \"Topic78\", \"Topic78\", \"Topic78\", \"Topic78\", \"Topic78\", \"Topic78\", \"Topic78\", \"Topic78\", \"Topic78\", \"Topic78\", \"Topic78\", \"Topic78\", \"Topic78\", \"Topic78\", \"Topic78\", \"Topic78\", \"Topic78\", \"Topic78\", \"Topic78\", \"Topic78\", \"Topic78\", \"Topic79\", \"Topic79\", \"Topic79\", \"Topic79\", \"Topic79\", \"Topic79\", \"Topic79\", \"Topic79\", \"Topic79\", \"Topic79\", \"Topic79\", \"Topic79\", \"Topic79\", \"Topic79\", \"Topic79\", \"Topic79\", \"Topic79\", \"Topic79\", \"Topic79\", \"Topic79\", \"Topic79\", \"Topic79\", \"Topic79\", \"Topic79\", \"Topic79\", \"Topic79\", \"Topic79\", \"Topic79\", \"Topic79\", \"Topic79\", \"Topic79\", \"Topic79\", \"Topic79\", \"Topic79\", \"Topic79\", \"Topic79\", \"Topic79\", \"Topic79\", \"Topic79\", \"Topic79\", \"Topic79\", \"Topic79\", \"Topic80\", \"Topic80\", \"Topic80\", \"Topic80\", \"Topic80\", \"Topic80\", \"Topic80\", \"Topic80\", \"Topic80\", \"Topic80\", \"Topic80\", \"Topic80\", \"Topic80\", \"Topic80\", \"Topic80\", \"Topic80\", \"Topic80\", \"Topic80\", \"Topic80\", \"Topic80\", \"Topic80\", \"Topic80\", \"Topic80\", \"Topic80\", \"Topic80\", \"Topic80\", \"Topic80\", \"Topic80\", \"Topic80\", \"Topic80\", \"Topic80\", \"Topic80\", \"Topic80\", \"Topic80\", \"Topic80\", \"Topic80\", \"Topic80\", \"Topic80\", \"Topic80\", \"Topic80\", \"Topic80\", \"Topic80\", \"Topic80\", \"Topic81\", \"Topic81\", \"Topic81\", \"Topic81\", \"Topic81\", \"Topic81\", \"Topic81\", \"Topic81\", \"Topic81\", \"Topic81\", \"Topic81\", \"Topic81\", \"Topic81\", \"Topic81\", \"Topic81\", \"Topic81\", \"Topic81\", \"Topic81\", \"Topic81\", \"Topic81\", \"Topic81\", \"Topic81\", \"Topic81\", \"Topic81\", \"Topic81\", \"Topic81\", \"Topic81\", \"Topic81\", \"Topic81\", \"Topic81\", \"Topic81\", \"Topic81\", \"Topic82\", \"Topic82\", \"Topic82\", \"Topic82\", \"Topic82\", \"Topic82\", \"Topic82\", \"Topic82\", \"Topic82\", \"Topic82\", \"Topic82\", \"Topic82\", \"Topic82\", \"Topic82\", \"Topic82\", \"Topic82\", \"Topic82\", \"Topic82\", \"Topic82\", \"Topic82\", \"Topic82\", \"Topic82\", \"Topic82\", \"Topic82\", \"Topic82\", \"Topic82\", \"Topic82\", \"Topic82\", \"Topic82\", \"Topic82\", \"Topic82\", \"Topic82\", \"Topic82\", \"Topic82\", \"Topic82\", \"Topic82\", \"Topic82\", \"Topic82\", \"Topic82\", \"Topic82\", \"Topic83\", \"Topic83\", \"Topic83\", \"Topic83\", \"Topic83\", \"Topic83\", \"Topic83\", \"Topic83\", \"Topic83\", \"Topic83\", \"Topic83\", \"Topic83\", \"Topic83\", \"Topic83\", \"Topic83\", \"Topic83\", \"Topic83\", \"Topic83\", \"Topic83\", \"Topic83\", \"Topic83\", \"Topic83\", \"Topic83\", \"Topic83\", \"Topic83\", \"Topic83\", \"Topic83\", \"Topic83\", \"Topic83\", \"Topic83\", \"Topic83\", \"Topic83\", \"Topic83\", \"Topic83\", \"Topic83\", \"Topic83\", \"Topic83\", \"Topic83\", \"Topic83\", \"Topic84\", \"Topic84\", \"Topic84\", \"Topic84\", \"Topic84\", \"Topic84\", \"Topic84\", \"Topic84\", \"Topic84\", \"Topic84\", \"Topic84\", \"Topic84\", \"Topic84\", \"Topic84\", \"Topic84\", \"Topic84\", \"Topic84\", \"Topic84\", \"Topic84\", \"Topic84\", \"Topic84\", \"Topic84\", \"Topic84\", \"Topic84\", \"Topic84\", \"Topic84\", \"Topic84\", \"Topic84\", \"Topic84\", \"Topic84\", \"Topic84\", \"Topic84\", \"Topic84\", \"Topic84\", \"Topic84\", \"Topic84\", \"Topic84\", \"Topic84\", \"Topic84\", \"Topic84\", \"Topic84\", \"Topic84\", \"Topic84\", \"Topic84\", \"Topic84\", \"Topic85\", \"Topic85\", \"Topic85\", \"Topic85\", \"Topic85\", \"Topic85\", \"Topic85\", \"Topic85\", \"Topic85\", \"Topic85\", \"Topic85\", \"Topic85\", \"Topic85\", \"Topic85\", \"Topic85\", \"Topic85\", \"Topic85\", \"Topic85\", \"Topic85\", \"Topic85\", \"Topic85\", \"Topic85\", \"Topic85\", \"Topic85\", \"Topic85\", \"Topic85\", \"Topic85\", \"Topic85\", \"Topic85\", \"Topic85\", \"Topic85\", \"Topic85\", \"Topic85\", \"Topic85\", \"Topic85\", \"Topic85\", \"Topic85\", \"Topic85\", \"Topic85\", \"Topic86\", \"Topic86\", \"Topic86\", \"Topic86\", \"Topic86\", \"Topic86\", \"Topic86\", \"Topic86\", \"Topic86\", \"Topic86\", \"Topic86\", \"Topic86\", \"Topic86\", \"Topic86\", \"Topic86\", \"Topic86\", \"Topic86\", \"Topic86\", \"Topic86\", \"Topic86\", \"Topic86\", \"Topic86\", \"Topic86\", \"Topic86\", \"Topic86\", \"Topic86\", \"Topic86\", \"Topic86\", \"Topic86\", \"Topic86\", \"Topic86\", \"Topic86\", \"Topic86\", \"Topic86\", \"Topic86\", \"Topic86\", \"Topic86\", \"Topic86\", \"Topic86\", \"Topic86\", \"Topic86\", \"Topic87\", \"Topic87\", \"Topic87\", \"Topic87\", \"Topic87\", \"Topic87\", \"Topic87\", \"Topic87\", \"Topic87\", \"Topic87\", \"Topic87\", \"Topic87\", \"Topic87\", \"Topic87\", \"Topic87\", \"Topic87\", \"Topic87\", \"Topic87\", \"Topic87\", \"Topic87\", \"Topic87\", \"Topic87\", \"Topic87\", \"Topic87\", \"Topic87\", \"Topic87\", \"Topic87\", \"Topic87\", \"Topic87\", \"Topic87\", \"Topic87\", \"Topic87\", \"Topic87\", \"Topic87\", \"Topic87\", \"Topic87\", \"Topic87\", \"Topic87\", \"Topic87\", \"Topic87\", \"Topic87\", \"Topic87\", \"Topic87\", \"Topic87\", \"Topic87\", \"Topic87\", \"Topic87\", \"Topic87\", \"Topic87\", \"Topic88\", \"Topic88\", \"Topic88\", \"Topic88\", \"Topic88\", \"Topic88\", \"Topic88\", \"Topic88\", \"Topic88\", \"Topic88\", \"Topic88\", \"Topic88\", \"Topic88\", \"Topic88\", \"Topic88\", \"Topic88\", \"Topic88\", \"Topic88\", \"Topic88\", \"Topic88\", \"Topic88\", \"Topic88\", \"Topic88\", \"Topic88\", \"Topic88\", \"Topic88\", \"Topic88\", \"Topic88\", \"Topic88\", \"Topic88\", \"Topic88\", \"Topic88\", \"Topic88\", \"Topic88\", \"Topic88\", \"Topic88\", \"Topic88\", \"Topic88\", \"Topic88\", \"Topic88\", \"Topic88\", \"Topic88\", \"Topic88\", \"Topic88\", \"Topic88\", \"Topic88\", \"Topic88\", \"Topic88\", \"Topic88\", \"Topic89\", \"Topic89\", \"Topic89\", \"Topic89\", \"Topic89\", \"Topic89\", \"Topic89\", \"Topic89\", \"Topic89\", \"Topic89\", \"Topic89\", \"Topic89\", \"Topic89\", \"Topic89\", \"Topic89\", \"Topic89\", \"Topic89\", \"Topic89\", \"Topic89\", \"Topic89\", \"Topic89\", \"Topic89\", \"Topic89\", \"Topic89\", \"Topic89\", \"Topic89\", \"Topic89\", \"Topic89\", \"Topic89\", \"Topic89\", \"Topic89\", \"Topic89\", \"Topic89\", \"Topic89\", \"Topic89\", \"Topic89\", \"Topic89\", \"Topic89\", \"Topic89\", \"Topic89\", \"Topic89\", \"Topic89\", \"Topic89\", \"Topic89\", \"Topic89\", \"Topic89\", \"Topic90\", \"Topic90\", \"Topic90\", \"Topic90\", \"Topic90\", \"Topic90\", \"Topic90\", \"Topic90\", \"Topic90\", \"Topic90\", \"Topic90\", \"Topic90\", \"Topic90\", \"Topic90\", \"Topic90\", \"Topic90\", \"Topic90\", \"Topic90\", \"Topic90\", \"Topic90\", \"Topic90\", \"Topic90\", \"Topic90\", \"Topic90\", \"Topic90\", \"Topic90\", \"Topic90\", \"Topic90\", \"Topic90\", \"Topic90\", \"Topic90\", \"Topic90\", \"Topic90\", \"Topic90\", \"Topic90\", \"Topic90\", \"Topic90\", \"Topic90\", \"Topic90\", \"Topic90\", \"Topic90\", \"Topic90\", \"Topic90\", \"Topic90\", \"Topic90\", \"Topic90\", \"Topic91\", \"Topic91\", \"Topic91\", \"Topic91\", \"Topic91\", \"Topic91\", \"Topic91\", \"Topic91\", \"Topic91\", \"Topic91\", \"Topic91\", \"Topic91\", \"Topic91\", \"Topic91\", \"Topic91\", \"Topic91\", \"Topic91\", \"Topic91\", \"Topic91\", \"Topic91\", \"Topic91\", \"Topic91\", \"Topic91\", \"Topic91\", \"Topic91\", \"Topic91\", \"Topic91\", \"Topic91\", \"Topic91\", \"Topic91\", \"Topic91\", \"Topic91\", \"Topic91\", \"Topic91\", \"Topic91\", \"Topic91\", \"Topic91\", \"Topic92\", \"Topic92\", \"Topic92\", \"Topic92\", \"Topic92\", \"Topic92\", \"Topic92\", \"Topic92\", \"Topic92\", \"Topic92\", \"Topic92\", \"Topic92\", \"Topic92\", \"Topic92\", \"Topic92\", \"Topic92\", \"Topic92\", \"Topic92\", \"Topic92\", \"Topic92\", \"Topic92\", \"Topic92\", \"Topic92\", \"Topic92\", \"Topic92\", \"Topic92\", \"Topic92\", \"Topic92\", \"Topic92\", \"Topic92\", \"Topic92\", \"Topic92\", \"Topic92\", \"Topic92\", \"Topic92\", \"Topic93\", \"Topic93\", \"Topic93\", \"Topic93\", \"Topic93\", \"Topic93\", \"Topic93\", \"Topic93\", \"Topic93\", \"Topic93\", \"Topic93\", \"Topic93\", \"Topic93\", \"Topic93\", \"Topic93\", \"Topic93\", \"Topic93\", \"Topic93\", \"Topic93\", \"Topic93\", \"Topic93\", \"Topic93\", \"Topic93\", \"Topic93\", \"Topic93\", \"Topic93\", \"Topic93\", \"Topic93\", \"Topic93\", \"Topic93\", \"Topic93\", \"Topic93\", \"Topic93\", \"Topic93\", \"Topic93\", \"Topic93\", \"Topic93\", \"Topic93\", \"Topic93\", \"Topic93\", \"Topic93\", \"Topic93\", \"Topic93\", \"Topic93\", \"Topic93\", \"Topic93\", \"Topic93\", \"Topic94\", \"Topic94\", \"Topic94\", \"Topic94\", \"Topic94\", \"Topic94\", \"Topic94\", \"Topic94\", \"Topic94\", \"Topic94\", \"Topic94\", \"Topic94\", \"Topic94\", \"Topic94\", \"Topic94\", \"Topic94\", \"Topic94\", \"Topic94\", \"Topic94\", \"Topic94\", \"Topic94\", \"Topic94\", \"Topic94\", \"Topic94\", \"Topic94\", \"Topic94\", \"Topic94\", \"Topic94\", \"Topic94\", \"Topic94\", \"Topic94\", \"Topic94\", \"Topic94\", \"Topic94\", \"Topic94\", \"Topic94\", \"Topic94\", \"Topic94\", \"Topic94\", \"Topic94\", \"Topic94\", \"Topic94\", \"Topic94\", \"Topic94\", \"Topic94\", \"Topic94\", \"Topic95\", \"Topic95\", \"Topic95\", \"Topic95\", \"Topic95\", \"Topic95\", \"Topic95\", \"Topic95\", \"Topic95\", \"Topic95\", \"Topic95\", \"Topic95\", \"Topic95\", \"Topic95\", \"Topic95\", \"Topic95\", \"Topic95\", \"Topic95\", \"Topic95\", \"Topic95\", \"Topic95\", \"Topic95\", \"Topic95\", \"Topic95\", \"Topic95\", \"Topic95\", \"Topic95\", \"Topic95\", \"Topic95\", \"Topic95\", \"Topic95\", \"Topic95\", \"Topic95\", \"Topic95\", \"Topic95\", \"Topic95\", \"Topic95\", \"Topic95\", \"Topic95\", \"Topic95\", \"Topic95\", \"Topic95\", \"Topic95\", \"Topic95\", \"Topic96\", \"Topic96\", \"Topic96\", \"Topic96\", \"Topic96\", \"Topic96\", \"Topic96\", \"Topic96\", \"Topic96\", \"Topic96\", \"Topic96\", \"Topic96\", \"Topic96\", \"Topic96\", \"Topic96\", \"Topic96\", \"Topic96\", \"Topic96\", \"Topic96\", \"Topic96\", \"Topic96\", \"Topic96\", \"Topic96\", \"Topic96\", \"Topic96\", \"Topic96\", \"Topic96\", \"Topic96\", \"Topic96\", \"Topic96\", \"Topic96\", \"Topic96\", \"Topic96\", \"Topic96\", \"Topic96\", \"Topic96\", \"Topic96\", \"Topic96\", \"Topic97\", \"Topic97\", \"Topic97\", \"Topic97\", \"Topic97\", \"Topic97\", \"Topic97\", \"Topic97\", \"Topic97\", \"Topic97\", \"Topic97\", \"Topic97\", \"Topic97\", \"Topic97\", \"Topic97\", \"Topic97\", \"Topic97\", \"Topic97\", \"Topic97\", \"Topic97\", \"Topic97\", \"Topic97\", \"Topic97\", \"Topic97\", \"Topic97\", \"Topic97\", \"Topic97\", \"Topic97\", \"Topic97\", \"Topic97\", \"Topic97\", \"Topic97\", \"Topic97\", \"Topic97\", \"Topic97\", \"Topic97\", \"Topic97\", \"Topic97\", \"Topic98\", \"Topic98\", \"Topic98\", \"Topic98\", \"Topic98\", \"Topic98\", \"Topic98\", \"Topic98\", \"Topic98\", \"Topic98\", \"Topic98\", \"Topic98\", \"Topic98\", \"Topic98\", \"Topic98\", \"Topic98\", \"Topic98\", \"Topic98\", \"Topic98\", \"Topic98\", \"Topic98\", \"Topic98\", \"Topic98\", \"Topic98\", \"Topic98\", \"Topic98\", \"Topic98\", \"Topic98\", \"Topic98\", \"Topic98\", \"Topic98\", \"Topic98\", \"Topic98\", \"Topic98\", \"Topic98\", \"Topic98\", \"Topic98\", \"Topic98\", \"Topic98\", \"Topic98\", \"Topic98\", \"Topic98\", \"Topic98\", \"Topic98\", \"Topic98\", \"Topic98\", \"Topic98\", \"Topic98\", \"Topic98\", \"Topic99\", \"Topic99\", \"Topic99\", \"Topic99\", \"Topic99\", \"Topic99\", \"Topic99\", \"Topic99\", \"Topic99\", \"Topic99\", \"Topic99\", \"Topic99\", \"Topic99\", \"Topic99\", \"Topic99\", \"Topic99\", \"Topic99\", \"Topic99\", \"Topic99\", \"Topic99\", \"Topic99\", \"Topic99\", \"Topic99\", \"Topic99\", \"Topic99\", \"Topic99\", \"Topic99\", \"Topic99\", \"Topic99\", \"Topic99\", \"Topic99\", \"Topic99\", \"Topic99\", \"Topic99\", \"Topic99\", \"Topic99\", \"Topic99\", \"Topic99\", \"Topic99\", \"Topic99\", \"Topic99\", \"Topic100\", \"Topic100\", \"Topic100\", \"Topic100\", \"Topic100\", \"Topic100\", \"Topic100\", \"Topic100\", \"Topic100\", \"Topic100\", \"Topic100\", \"Topic100\", \"Topic100\", \"Topic100\", \"Topic100\", \"Topic100\", \"Topic100\", \"Topic100\", \"Topic100\", \"Topic100\", \"Topic100\", \"Topic100\", \"Topic100\", \"Topic100\", \"Topic100\", \"Topic100\", \"Topic100\", \"Topic100\", \"Topic100\", \"Topic100\", \"Topic100\", \"Topic100\", \"Topic100\", \"Topic100\", \"Topic100\", \"Topic100\", \"Topic100\", \"Topic100\", \"Topic100\", \"Topic100\", \"Topic100\", \"Topic100\"], \"logprob\": [30.0, 29.0, 28.0, 27.0, 26.0, 25.0, 24.0, 23.0, 22.0, 21.0, 20.0, 19.0, 18.0, 17.0, 16.0, 15.0, 14.0, 13.0, 12.0, 11.0, 10.0, 9.0, 8.0, 7.0, 6.0, 5.0, 4.0, 3.0, 2.0, 1.0, -1.9239000082015991, -1.0924999713897705, -1.7577999830245972, -1.8046000003814697, -2.9453999996185303, -3.6533000469207764, -5.185400009155273, -2.7971999645233154, -5.421599864959717, -5.248799800872803, -5.899799823760986, -8.04319953918457, -8.04319953918457, -5.776299953460693, -8.04319953918457, -8.04319953918457, -8.04319953918457, -8.04319953918457, -8.04319953918457, -8.04319953918457, -8.04319953918457, -8.04319953918457, -8.04319953918457, -8.04319953918457, -8.04319953918457, -8.04319953918457, -8.04319953918457, -8.04319953918457, -8.04319953918457, -8.04319953918457, -5.904300212860107, -8.04319953918457, -8.04319953918457, -8.04319953918457, -8.04319953918457, -8.04319953918457, -8.04319953918457, -8.04319953918457, -8.04319953918457, -8.04319953918457, -8.04319953918457, -8.04319953918457, -8.04319953918457, -1.5253000259399414, -1.6536999940872192, -1.7621999979019165, -1.7101000547409058, -1.5849000215530396, -7.567500114440918, -7.567500114440918, -7.567500114440918, -7.567500114440918, -7.567500114440918, -7.567500114440918, -7.567500114440918, -7.567500114440918, -7.567500114440918, -7.567500114440918, -7.567500114440918, -7.567500114440918, -7.567500114440918, -7.567500114440918, -7.567500114440918, -7.567500114440918, -7.567500114440918, -7.567500114440918, -7.567500114440918, -7.567500114440918, -7.567500114440918, -7.567500114440918, -7.567500114440918, -7.567500114440918, -7.567500114440918, -7.567500114440918, -7.567500114440918, -7.567500114440918, -7.567500114440918, -7.567500114440918, -7.567500114440918, -7.567500114440918, -7.567500114440918, -7.567500114440918, -7.567500114440918, -7.567500114440918, -7.567500114440918, -7.567500114440918, -7.567500114440918, -7.567500114440918, -7.567500114440918, -7.567500114440918, -3.1695001125335693, -3.1695001125335693, -3.1695001125335693, -3.1695001125335693, -2.479300022125244, -3.1695001125335693, -2.859499931335449, -2.479300022125244, -3.1695001125335693, -3.1695001125335693, -2.479300022125244, -3.1695001125335693, -3.1695001125335693, -3.1695001125335693, -3.1695001125335693, -2.479300022125244, -2.800600051879883, -3.1695001125335693, -4.566699981689453, -4.605000019073486, -4.603099822998047, -8.315299987792969, -8.315299987792969, -8.315299987792969, -8.315299987792969, -8.315299987792969, -8.315299987792969, -8.315299987792969, -8.315299987792969, -8.315299987792969, -8.315299987792969, -8.315299987792969, -8.315299987792969, -8.315299987792969, -8.315299987792969, -8.315299987792969, -8.315299987792969, -2.2172999382019043, -2.5632998943328857, -3.215399980545044, -2.497499942779541, -2.5757999420166016, -3.264400005340576, -2.5539000034332275, -3.281100034713745, -1.9501999616622925, -2.5922999382019043, -2.552299976348877, -3.267400026321411, -3.268899917602539, -3.2757999897003174, -3.215399980545044, -8.361200332641602, -8.361200332641602, -8.361200332641602, -8.361200332641602, -8.361200332641602, -8.361200332641602, -8.361200332641602, -8.361200332641602, -8.361200332641602, -8.361200332641602, -8.361200332641602, -8.361200332641602, -8.361200332641602, -8.361200332641602, -8.361200332641602, -8.361200332641602, -8.361200332641602, -8.361200332641602, -8.361200332641602, -8.361200332641602, -8.361200332641602, -8.361200332641602, -8.361200332641602, -8.361200332641602, -8.361200332641602, -1.0527000427246094, -1.131500005722046, -1.7618999481201172, -2.6816999912261963, -2.7035000324249268, -8.02180004119873, -8.02180004119873, -8.02180004119873, -8.02180004119873, -8.02180004119873, -8.02180004119873, -8.02180004119873, -8.02180004119873, -8.02180004119873, -8.02180004119873, -8.02180004119873, -8.02180004119873, -8.02180004119873, -8.02180004119873, -8.02180004119873, -8.02180004119873, -8.02180004119873, -8.02180004119873, -8.02180004119873, -8.02180004119873, -8.02180004119873, -8.02180004119873, -8.02180004119873, -8.02180004119873, -8.02180004119873, -8.02180004119873, -8.02180004119873, -8.02180004119873, -8.02180004119873, -8.02180004119873, -8.02180004119873, -8.02180004119873, -8.02180004119873, -8.02180004119873, -8.02180004119873, -8.02180004119873, -8.02180004119873, -8.02180004119873, -8.02180004119873, -8.02180004119873, -8.02180004119873, -8.02180004119873, -3.3334999084472656, -3.706199884414673, -3.697700023651123, -3.2230000495910645, -3.731300115585327, -3.4828999042510986, -3.6947999000549316, -3.392899990081787, -3.7105000019073486, -3.632999897003174, -4.884399890899658, -4.884399890899658, -3.7604000568389893, -3.645400047302246, -4.884399890899658, -2.690500020980835, -4.884399890899658, -4.884399890899658, -4.884399890899658, -3.1958000659942627, -4.884399890899658, -4.884399890899658, -4.884399890899658, -4.884399890899658, -3.171600103378296, -4.884399890899658, -4.884399890899658, -4.884399890899658, -4.884399890899658, -4.884399890899658, -3.1285998821258545, -3.783600091934204, -3.7558000087738037, -3.736999988555908, -3.95740008354187, -4.884399890899658, -4.884399890899658, -4.884399890899658, -4.884399890899658, -4.884399890899658, -4.884399890899658, -4.884399890899658, -4.884399890899658, -1.816499948501587, -3.9993999004364014, -2.2978999614715576, -1.8905999660491943, -1.5830999612808228, -1.9250999689102173, -3.9993999004364014, -2.790600061416626, -3.9993999004364014, -3.923099994659424, -3.9993999004364014, -3.923099994659424, -3.852400064468384, -3.470400094985962, -6.939300060272217, -7.10890007019043, -7.217700004577637, -9.1451997756958, -9.1451997756958, -9.1451997756958, -9.1451997756958, -9.1451997756958, -9.1451997756958, -9.1451997756958, -9.1451997756958, -9.1451997756958, -9.1451997756958, -9.1451997756958, -9.1451997756958, -9.1451997756958, -9.1451997756958, -9.1451997756958, -9.1451997756958, -9.1451997756958, -9.1451997756958, -9.1451997756958, -9.1451997756958, -9.1451997756958, -2.9892001152038574, -3.6858999729156494, -2.994999885559082, -3.6861000061035156, -3.6726999282836914, -3.6854000091552734, -3.6946001052856445, -2.989799976348877, -3.690700054168701, -3.685800075531006, -2.586899995803833, -2.302500009536743, -3.6726999282836914, -3.693000078201294, -3.6849000453948975, -3.6870999336242676, -3.515199899673462, -2.995500087738037, -2.9883999824523926, -3.6726999282836914, -2.828399896621704, -2.587399959564209, -2.8299999237060547, -5.407800197601318, -5.407800197601318, -3.684999942779541, -5.407800197601318, -5.407800197601318, -8.818499565124512, -8.818499565124512, -8.818499565124512, -8.818499565124512, -2.067500114440918, -3.0480000972747803, -2.0129001140594482, -2.9458000659942627, -2.9458000659942627, -3.546600103378296, -2.239799976348877, -3.546600103378296, -3.2302000522613525, -2.510699987411499, -3.546600103378296, -2.5732998847961426, -3.3155999183654785, -3.546600103378296, -2.7704999446868896, -3.4463999271392822, -3.546600103378296, -8.692399978637695, -8.692399978637695, -8.692399978637695, -8.692399978637695, -8.692399978637695, -8.692399978637695, -8.692399978637695, -8.692399978637695, -8.692399978637695, -8.692399978637695, -8.692399978637695, -8.692399978637695, -8.692399978637695, -8.692399978637695, -8.692399978637695, -8.692399978637695, -8.692399978637695, -8.692399978637695, -8.692399978637695, -8.692399978637695, -8.692399978637695, -8.692399978637695, -4.248499870300293, -4.248499870300293, -4.248499870300293, -4.248499870300293, -4.248499870300293, -4.248499870300293, -4.248499870300293, -4.248499870300293, -4.248499870300293, -4.248499870300293, -4.248499870300293, -4.248499870300293, -4.248499870300293, -4.248499870300293, -4.248499870300293, -4.248499870300293, -4.248499870300293, -4.248499870300293, -4.248499870300293, -4.248499870300293, -4.248499870300293, -4.248499870300293, -4.248499870300293, -4.248499870300293, -4.248499870300293, -4.248499870300293, -4.248499870300293, -4.248499870300293, -4.248499870300293, -4.248499870300293, -4.248499870300293, -4.248499870300293, -4.248499870300293, -4.248499870300293, -4.248499870300293, -4.248499870300293, -4.248499870300293, -4.248499870300293, -4.248499870300293, -4.248499870300293, -4.248499870300293, -4.248499870300293, -4.248499870300293, -4.248499870300293, -4.248499870300293, -4.248499870300293, -4.248499870300293, -4.248499870300293, -4.248499870300293, -2.9105000495910645, -3.5113000869750977, -2.9105000495910645, -3.5113000869750977, -3.5113000869750977, -3.5113000869750977, -3.5113000869750977, -3.5113000869750977, -2.8210999965667725, -2.1731998920440674, -3.5113000869750977, -2.739000082015991, -2.692699909210205, -3.353800058364868, -3.5113000869750977, -3.5113000869750977, -2.692699909210205, -3.353800058364868, -3.5113000869750977, -2.8210999965667725, -3.1868999004364014, -3.353800058364868, -5.246300220489502, -8.657099723815918, -8.657099723815918, -8.657099723815918, -8.657099723815918, -8.657099723815918, -8.657099723815918, -8.657099723815918, -8.657099723815918, -8.657099723815918, -8.657099723815918, -8.657099723815918, -8.657099723815918, -8.657099723815918, -8.657099723815918, -2.910399913787842, -2.910399913787842, -2.910399913787842, -2.910399913787842, -2.7528998851776123, -2.910399913787842, -1.7696000337600708, -1.4412000179290771, -2.910399913787842, -2.910399913787842, -2.8420000076293945, -4.1596999168396, -3.968899965286255, -4.645400047302246, -4.645400047302246, -4.645400047302246, -4.645400047302246, -8.05620002746582, -8.05620002746582, -8.05620002746582, -8.05620002746582, -8.05620002746582, -8.05620002746582, -8.05620002746582, -8.05620002746582, -8.05620002746582, -8.05620002746582, -8.05620002746582, -8.05620002746582, -8.05620002746582, -8.05620002746582, -8.05620002746582, -8.05620002746582, -8.05620002746582, -8.05620002746582, -8.05620002746582, -8.05620002746582, -8.05620002746582, -8.05620002746582, -3.400700092315674, -3.400700092315674, -3.400700092315674, -3.400700092315674, -3.400700092315674, -2.0188000202178955, -3.400700092315674, -2.7105000019073486, -2.7105000019073486, -2.7105000019073486, -3.400700092315674, -3.400700092315674, -3.400700092315674, -3.400700092315674, -3.3269999027252197, -2.673799991607666, -2.7105000019073486, -3.400700092315674, -3.322499990463257, -3.400700092315674, -5.162300109863281, -5.335000038146973, -3.400700092315674, -5.960400104522705, -5.9558000564575195, -8.546500205993652, -8.546500205993652, -8.546500205993652, -8.546500205993652, -8.546500205993652, -6.021200180053711, -8.546500205993652, -8.546500205993652, -8.546500205993652, -8.546500205993652, -2.1266000270843506, -3.1624999046325684, -3.1624999046325684, -3.1624999046325684, -2.0004000663757324, -2.4723000526428223, -3.0871999263763428, -3.1624999046325684, -2.453399896621704, -3.1624999046325684, -3.1184000968933105, -3.005000114440918, -3.005000114440918, -4.897500038146973, -3.005000114440918, -3.1624999046325684, -6.366700172424316, -4.897500038146973, -5.776899814605713, -4.897500038146973, -4.897500038146973, -4.897600173950195, -6.383699893951416, -4.480400085449219, -4.519400119781494, -6.470799922943115, -6.290900230407715, -6.509799957275391, -8.308300018310547, -8.308300018310547, -6.408100128173828, -8.308300018310547, -2.730600118637085, -3.757999897003174, -2.7026000022888184, -3.0678000450134277, -2.8271000385284424, -3.757999897003174, -3.757999897003174, -3.757999897003174, -2.6930999755859375, -2.5652999877929688, -3.757999897003174, -2.965399980545044, -3.0401999950408936, -2.521699905395508, -4.977799892425537, -3.043600082397461, -2.9969000816345215, -3.757999897003174, -2.5332000255584717, -3.7147998809814453, -5.493000030517578, -4.454699993133545, -4.454699993133545, -3.5467000007629395, -6.584700107574463, -4.1620001792907715, -6.61329984664917, -6.905600070953369, -6.711900234222412, -6.919000148773193, -6.581099987030029, -6.709799766540527, -6.5528998374938965, -4.248499870300293, -4.248499870300293, -4.248499870300293, -4.248499870300293, -4.248499870300293, -4.248499870300293, -4.248499870300293, -4.248499870300293, -4.248499870300293, -4.248499870300293, -4.248499870300293, -4.248499870300293, -4.248499870300293, -4.248499870300293, -4.248499870300293, -4.248499870300293, -4.248499870300293, -4.248499870300293, -4.248499870300293, -4.248499870300293, -4.248499870300293, -4.248499870300293, -4.248499870300293, -4.248499870300293, -4.248499870300293, -4.248499870300293, -4.248499870300293, -4.248499870300293, -4.248499870300293, -4.248499870300293, -4.248499870300293, -4.248499870300293, -4.248499870300293, -4.248499870300293, -4.248499870300293, -4.248499870300293, -4.248499870300293, -4.248499870300293, -4.248499870300293, -4.248499870300293, -4.248499870300293, -4.248499870300293, -4.248499870300293, -4.248499870300293, -4.248499870300293, -4.248499870300293, -4.248499870300293, -4.248499870300293, -4.248499870300293, -1.4666999578475952, -3.0118000507354736, -2.135200023651123, -2.8125, -2.178999900817871, -2.253000020980835, -3.0118000507354736, -3.0118000507354736, -3.0118000507354736, -2.5464000701904297, -2.9560999870300293, -4.138800144195557, -5.03980016708374, -4.943999767303467, -8.157600402832031, -8.157600402832031, -8.157600402832031, -8.157600402832031, -8.157600402832031, -8.157600402832031, -8.157600402832031, -8.157600402832031, -8.157600402832031, -8.157600402832031, -8.157600402832031, -8.157600402832031, -8.157600402832031, -8.157600402832031, -8.157600402832031, -8.157600402832031, -8.157600402832031, -8.157600402832031, -8.157600402832031, -8.157600402832031, -8.157600402832031, -8.157600402832031, -8.157600402832031, -8.157600402832031, -8.157600402832031, -8.157600402832031, -8.157600402832031, -2.132999897003174, -2.280400037765503, -2.2988998889923096, -2.128200054168701, -4.937099933624268, -4.937099933624268, -4.937099933624268, -4.937099933624268, -2.3698999881744385, -4.937099933624268, -4.937099933624268, -4.937099933624268, -4.937099933624268, -4.937099933624268, -4.937099933624268, -4.937099933624268, -4.937099933624268, -4.937099933624268, -4.937099933624268, -4.937099933624268, -4.937099933624268, -4.937099933624268, -4.937099933624268, -4.937099933624268, -4.937099933624268, -4.937099933624268, -4.937099933624268, -4.937099933624268, -4.937099933624268, -4.937099933624268, -4.937099933624268, -4.937099933624268, -4.937099933624268, -4.937099933624268, -4.937099933624268, -4.937099933624268, -4.937099933624268, -4.937099933624268, -4.937099933624268, -4.937099933624268, -4.937099933624268, -4.937099933624268, -4.937099933624268, -4.937099933624268, -4.937099933624268, -4.937099933624268, -4.937099933624268, -4.248499870300293, -4.248499870300293, -4.248499870300293, -4.248499870300293, -4.248499870300293, -4.248499870300293, -4.248499870300293, -4.248499870300293, -4.248499870300293, -4.248499870300293, -4.248499870300293, -4.248499870300293, -4.248499870300293, -4.248499870300293, -4.248499870300293, -4.248499870300293, -4.248499870300293, -4.248499870300293, -4.248499870300293, -4.248499870300293, -4.248499870300293, -4.248499870300293, -4.248499870300293, -4.248499870300293, -4.248499870300293, -4.248499870300293, -4.248499870300293, -4.248499870300293, -4.248499870300293, -4.248499870300293, -4.248499870300293, -4.248499870300293, -4.248499870300293, -4.248499870300293, -4.248499870300293, -4.248499870300293, -4.248499870300293, -4.248499870300293, -4.248499870300293, -4.248499870300293, -4.248499870300293, -4.248499870300293, -4.248499870300293, -4.248499870300293, -4.248499870300293, -4.248499870300293, -4.248499870300293, -4.248499870300293, -4.248499870300293, -2.822000026702881, -2.356100082397461, -3.6317999362945557, -3.986299991607666, -2.8907999992370605, -3.549299955368042, -4.5680999755859375, -4.1128997802734375, -4.11929988861084, -4.117000102996826, -4.679200172424316, -5.034299850463867, -2.913300037384033, -2.3405001163482666, -4.553800106048584, -3.9999001026153564, -4.679100036621094, -2.345400094985962, -3.188499927520752, -4.932799816131592, -4.7708001136779785, -3.152100086212158, -3.305999994277954, -3.9893999099731445, -4.4791998863220215, -4.070300102233887, -4.60890007019043, -5.7895002365112305, -5.5081000328063965, -3.7039999961853027, -4.322999954223633, -3.4198999404907227, -3.93530011177063, -4.479400157928467, -1.5673999786376953, -2.662100076675415, -2.662100076675415, -1.9718999862670898, -2.662100076675415, -2.662100076675415, -2.662100076675415, -2.662100076675415, -2.662100076675415, -2.662100076675415, -2.662100076675415, -7.8078999519348145, -7.8078999519348145, -7.8078999519348145, -7.8078999519348145, -7.8078999519348145, -7.8078999519348145, -7.8078999519348145, -7.8078999519348145, -7.8078999519348145, -7.8078999519348145, -7.8078999519348145, -7.8078999519348145, -7.8078999519348145, -7.8078999519348145, -7.8078999519348145, -7.8078999519348145, -7.8078999519348145, -7.8078999519348145, -7.8078999519348145, -7.8078999519348145, -7.8078999519348145, -7.8078999519348145, -7.8078999519348145, -7.8078999519348145, -7.8078999519348145, -7.8078999519348145, -7.8078999519348145, -7.8078999519348145, -7.8078999519348145, -7.8078999519348145, -7.8078999519348145, -7.8078999519348145, -2.470900058746338, -2.470900058746338, -2.470900058746338, -2.0357000827789307, -3.071700096130371, -2.0357000827789307, -1.8978999853134155, -2.470900058746338, -3.071700096130371, -3.071700096130371, -3.071700096130371, -2.998300075531006, -8.217499732971191, -8.217499732971191, -8.217499732971191, -8.217499732971191, -8.217499732971191, -8.217499732971191, -8.217499732971191, -8.217499732971191, -8.217499732971191, -8.217499732971191, -8.217499732971191, -8.217499732971191, -8.217499732971191, -8.217499732971191, -8.217499732971191, -8.217499732971191, -8.217499732971191, -8.217499732971191, -8.217499732971191, -8.217499732971191, -8.217499732971191, -8.217499732971191, -8.217499732971191, -8.217499732971191, -8.217499732971191, -8.217499732971191, -8.217499732971191, -8.217499732971191, -8.217499732971191, -8.217499732971191, -2.2060999870300293, -2.4776999950408936, -2.4658000469207764, -2.890399932861328, -2.0901999473571777, -2.2067999839782715, -1.6717000007629395, -3.5257999897003174, -2.179500102996826, -3.530900001525879, -3.451200008392334, -3.5204999446868896, -8.597000122070312, -8.597000122070312, -8.597000122070312, -8.597000122070312, -8.597000122070312, -8.597000122070312, -8.597000122070312, -8.597000122070312, -8.597000122070312, -8.597000122070312, -8.597000122070312, -8.597000122070312, -8.597000122070312, -8.597000122070312, -8.597000122070312, -8.597000122070312, -8.597000122070312, -8.597000122070312, -8.597000122070312, -8.597000122070312, -8.597000122070312, -8.597000122070312, -8.597000122070312, -8.597000122070312, -8.597000122070312, -8.597000122070312, -8.597000122070312, -8.597000122070312, -8.597000122070312, -8.597000122070312, -8.597000122070312, -1.093000054359436, -3.2063000202178955, -3.2063000202178955, -1.9759000539779663, -1.728600025177002, -2.504300117492676, -2.0344998836517334, -3.2063000202178955, -8.352100372314453, -8.352100372314453, -8.352100372314453, -8.352100372314453, -8.352100372314453, -8.352100372314453, -8.352100372314453, -8.352100372314453, -8.352100372314453, -8.352100372314453, -8.352100372314453, -8.352100372314453, -8.352100372314453, -8.352100372314453, -8.352100372314453, -8.352100372314453, -8.352100372314453, -8.352100372314453, -8.352100372314453, -8.352100372314453, -8.352100372314453, -8.352100372314453, -8.352100372314453, -8.352100372314453, -8.352100372314453, -8.352100372314453, -8.352100372314453, -8.352100372314453, -8.352100372314453, -8.352100372314453, -8.352100372314453, -8.352100372314453, -8.352100372314453, -8.352100372314453, -8.352100372314453, -8.352100372314453, -8.352100372314453, -3.2272000312805176, -3.6765999794006348, -4.25570011138916, -3.6975998878479004, -3.6928000450134277, -4.44290018081665, -3.733799934387207, -3.6380999088287354, -3.2904000282287598, -3.6986000537872314, -4.284800052642822, -4.438499927520752, -2.9839000701904297, -4.317699909210205, -3.6605000495910645, -4.442699909210205, -4.434700012207031, -4.423999786376953, -4.4390997886657715, -3.7407000064849854, -4.441500186920166, -2.197499990463257, -4.356299877166748, -2.852299928665161, -4.423999786376953, -3.2792000770568848, -3.599400043487549, -3.689300060272217, -3.7123000621795654, -4.439499855041504, -2.920300006866455, -3.3052000999450684, -3.7416000366210938, -4.023900032043457, -3.704400062561035, -3.714600086212158, -4.382199764251709, -4.40749979019165, -4.423999786376953, -4.248499870300293, -4.248499870300293, -4.248499870300293, -4.248499870300293, -4.248499870300293, -4.248499870300293, -4.248499870300293, -4.248499870300293, -4.248499870300293, -4.248499870300293, -4.248499870300293, -4.248499870300293, -4.248499870300293, -4.248499870300293, -4.248499870300293, -4.248499870300293, -4.248499870300293, -4.248499870300293, -4.248499870300293, -4.248499870300293, -4.248499870300293, -4.248499870300293, -4.248499870300293, -4.248499870300293, -4.248499870300293, -4.248499870300293, -4.248499870300293, -4.248499870300293, -4.248499870300293, -4.248499870300293, -4.248499870300293, -4.248499870300293, -4.248499870300293, -4.248499870300293, -4.248499870300293, -4.248499870300293, -4.248499870300293, -4.248499870300293, -4.248499870300293, -4.248499870300293, -4.248499870300293, -4.248499870300293, -4.248499870300293, -4.248499870300293, -4.248499870300293, -4.248499870300293, -4.248499870300293, -4.248499870300293, -4.248499870300293, -1.8991999626159668, -1.8991999626159668, -2.8726999759674072, -1.534600019454956, -2.271899938583374, -1.9973000288009644, -2.8726999759674072, -2.8726999759674072, -2.8726999759674072, -8.018500328063965, -8.018500328063965, -8.018500328063965, -8.018500328063965, -8.018500328063965, -8.018500328063965, -8.018500328063965, -8.018500328063965, -8.018500328063965, -8.018500328063965, -8.018500328063965, -8.018500328063965, -8.018500328063965, -8.018500328063965, -8.018500328063965, -8.018500328063965, -8.018500328063965, -8.018500328063965, -8.018500328063965, -8.018500328063965, -8.018500328063965, -8.018500328063965, -8.018500328063965, -8.018500328063965, -8.018500328063965, -8.018500328063965, -8.018500328063965, -8.018500328063965, -8.018500328063965, -8.018500328063965, -8.018500328063965, -8.018500328063965, -8.018500328063965, -8.018500328063965, -8.018500328063965, -3.3262999057769775, -3.0467000007629395, -2.744499921798706, -4.082600116729736, -4.082600116729736, -4.082600116729736, -4.082600116729736, -4.082600116729736, -3.4639999866485596, -3.925100088119507, -3.392400026321411, -4.082600116729736, -4.082600116729736, -2.8206000328063965, -3.5095999240875244, -4.082600116729736, -2.186500072479248, -2.862799882888794, -3.6215999126434326, -3.0694000720977783, -3.0524001121520996, -3.5580999851226807, -2.740799903869629, -4.082600116729736, -4.082600116729736, -4.082600116729736, -3.789099931716919, -5.14109992980957, -4.826499938964844, -5.817599773406982, -3.6812000274658203, -4.826499938964844, -4.248499870300293, -4.248499870300293, -4.248499870300293, -4.248499870300293, -4.248499870300293, -4.248499870300293, -4.248499870300293, -4.248499870300293, -4.248499870300293, -4.248499870300293, -4.248499870300293, -4.248499870300293, -4.248499870300293, -4.248499870300293, -4.248499870300293, -4.248499870300293, -4.248499870300293, -4.248499870300293, -4.248499870300293, -4.248499870300293, -4.248499870300293, -4.248499870300293, -4.248499870300293, -4.248499870300293, -4.248499870300293, -4.248499870300293, -4.248499870300293, -4.248499870300293, -4.248499870300293, -4.248499870300293, -4.248499870300293, -4.248499870300293, -4.248499870300293, -4.248499870300293, -4.248499870300293, -4.248499870300293, -4.248499870300293, -4.248499870300293, -4.248499870300293, -4.248499870300293, -4.248499870300293, -4.248499870300293, -4.248499870300293, -4.248499870300293, -4.248499870300293, -4.248499870300293, -4.248499870300293, -4.248499870300293, -4.248499870300293, -2.743000030517578, -2.6461000442504883, -2.1112000942230225, -2.106100082397461, -3.8376998901367188, -3.2369000911712646, -3.625, -1.6461000442504883, -3.8376998901367188, -3.8376998901367188, -3.14739990234375, -3.609299898147583, -3.790800094604492, -3.2369000911712646, -2.859600067138672, -3.5938000679016113, -3.8376998901367188, -3.4310998916625977, -3.8376998901367188, -8.983499526977539, -8.983499526977539, -8.983499526977539, -8.983499526977539, -8.983499526977539, -8.983499526977539, -8.983499526977539, -8.983499526977539, -8.983499526977539, -8.983499526977539, -8.983499526977539, -8.983499526977539, -8.983499526977539, -8.983499526977539, -8.983499526977539, -8.983499526977539, -8.983499526977539, -8.983499526977539, -8.983499526977539, -8.983499526977539, -1.8939000368118286, -2.4941999912261963, -1.2214000225067139, -2.1542000770568848, -2.1851999759674072, -1.9140000343322754, -2.6006999015808105, -7.960400104522705, -7.960400104522705, -7.960400104522705, -7.960400104522705, -7.960400104522705, -7.960400104522705, -7.960400104522705, -7.960400104522705, -7.960400104522705, -7.960400104522705, -7.960400104522705, -7.960400104522705, -7.960400104522705, -7.960400104522705, -7.960400104522705, -7.960400104522705, -7.960400104522705, -7.960400104522705, -7.960400104522705, -7.960400104522705, -7.960400104522705, -7.960400104522705, -7.960400104522705, -7.960400104522705, -7.960400104522705, -7.960400104522705, -7.960400104522705, -7.960400104522705, -7.960400104522705, -7.960400104522705, -7.960400104522705, -7.960400104522705, -7.960400104522705, -7.960400104522705, -7.960400104522705, -7.960400104522705, -7.960400104522705, -7.960400104522705, -7.960400104522705, -1.8240000009536743, -1.567199945449829, -2.4934000968933105, -2.3994998931884766, -2.4934000968933105, -2.438699960708618, -2.4616000652313232, -2.4934000968933105, -2.4144999980926514, -7.639200210571289, -7.639200210571289, -7.639200210571289, -7.639200210571289, -7.639200210571289, -7.639200210571289, -7.639200210571289, -7.639200210571289, -7.639200210571289, -7.639200210571289, -7.639200210571289, -7.639200210571289, -7.639200210571289, -7.639200210571289, -7.639200210571289, -7.639200210571289, -7.639200210571289, -7.639200210571289, -7.639200210571289, -7.639200210571289, -7.639200210571289, -7.639200210571289, -7.639200210571289, -7.639200210571289, -7.639200210571289, -7.639200210571289, -7.639200210571289, -7.639200210571289, -7.639200210571289, -7.639200210571289, -7.639200210571289, -7.639200210571289, -7.639200210571289, -7.639200210571289, -7.639200210571289, -1.558500051498413, -1.6734000444412231, -1.6720000505447388, -2.2077999114990234, -3.523200035095215, -3.523200035095215, -2.279599905014038, -2.550800085067749, -2.913800001144409, -8.668999671936035, -8.668999671936035, -8.668999671936035, -8.668999671936035, -8.668999671936035, -8.668999671936035, -8.668999671936035, -8.668999671936035, -8.668999671936035, -8.668999671936035, -8.668999671936035, -8.668999671936035, -8.668999671936035, -8.668999671936035, -8.668999671936035, -8.668999671936035, -8.668999671936035, -8.668999671936035, -8.668999671936035, -8.668999671936035, -8.668999671936035, -8.668999671936035, -8.668999671936035, -8.668999671936035, -8.668999671936035, -8.668999671936035, -8.668999671936035, -8.668999671936035, -8.668999671936035, -8.668999671936035, -8.668999671936035, -8.668999671936035, -8.668999671936035, -8.668999671936035, -8.668999671936035, -3.194000005722046, -1.371000051498413, -3.0106000900268555, -1.4392999410629272, -1.9127999544143677, -2.9210000038146973, -3.794800043106079, -3.794800043106079, -2.7346999645233154, -3.794800043106079, -3.794800043106079, -3.4286000728607178, -3.794800043106079, -8.940600395202637, -8.940600395202637, -8.940600395202637, -8.940600395202637, -8.940600395202637, -8.940600395202637, -8.940600395202637, -8.940600395202637, -8.940600395202637, -8.940600395202637, -8.940600395202637, -8.940600395202637, -8.940600395202637, -8.940600395202637, -8.940600395202637, -8.940600395202637, -8.940600395202637, -8.940600395202637, -8.940600395202637, -8.940600395202637, -8.940600395202637, -8.940600395202637, -8.940600395202637, -8.940600395202637, -8.940600395202637, -8.940600395202637, -8.940600395202637, -2.5157999992370605, -3.808199882507324, -2.7135000228881836, -3.794300079345703, -2.765700101852417, -3.118000030517578, -4.35230016708374, -2.0869998931884766, -3.118000030517578, -3.118000030517578, -3.808199882507324, -3.808199882507324, -3.118000030517578, -3.118000030517578, -3.236799955368042, -3.808199882507324, -4.72629976272583, -4.72629976272583, -2.8877999782562256, -4.866700172424316, -4.068699836730957, -3.224400043487549, -3.118000030517578, -3.808199882507324, -3.808199882507324, -3.236799955368042, -5.114699840545654, -5.5432000160217285, -8.954000473022461, -8.954000473022461, -8.954000473022461, -8.954000473022461, -1.67739999294281, -3.055299997329712, -3.144700050354004, -3.745500087738037, -3.5134999752044678, -3.745500087738037, -3.012500047683716, -3.745500087738037, -3.745500087738037, -3.745500087738037, -2.7095999717712402, -3.5657999515533447, -3.5134999752044678, -2.6607000827789307, -2.475800037384033, -2.384700059890747, -3.745500087738037, -2.9047999382019043, -3.5023999214172363, -3.5880000591278076, -5.480599880218506, -5.480599880218506, -5.480599880218506, -8.891300201416016, -8.891300201416016, -8.891300201416016, -8.891300201416016, -8.891300201416016, -8.891300201416016, -8.891300201416016, -8.891300201416016, -8.891300201416016, -8.891300201416016, -8.891300201416016, -8.891300201416016, -8.891300201416016, -8.891300201416016, -2.2153000831604004, -1.9918999671936035, -1.9810999631881714, -1.7800999879837036, -2.8160998821258545, -1.8425999879837036, -1.5716999769210815, -7.961900234222412, -7.961900234222412, -7.961900234222412, -7.961900234222412, -7.961900234222412, -7.961900234222412, -7.961900234222412, -7.961900234222412, -7.961900234222412, -7.961900234222412, -7.961900234222412, -7.961900234222412, -7.961900234222412, -7.961900234222412, -7.961900234222412, -7.961900234222412, -7.961900234222412, -7.961900234222412, -7.961900234222412, -7.961900234222412, -7.961900234222412, -7.961900234222412, -7.961900234222412, -7.961900234222412, -7.961900234222412, -7.961900234222412, -7.961900234222412, -7.961900234222412, -7.961900234222412, -7.961900234222412, -7.961900234222412, -7.961900234222412, -7.961900234222412, -7.961900234222412, -7.961900234222412, -7.961900234222412, -7.961900234222412, -7.961900234222412, -7.961900234222412, -2.150899887084961, -1.8003000020980835, -1.5611000061035156, -1.6613999605178833, -2.150899887084961, -1.740399956703186, -7.780700206756592, -7.780700206756592, -7.780700206756592, -7.780700206756592, -7.780700206756592, -7.780700206756592, -7.780700206756592, -7.780700206756592, -7.780700206756592, -7.780700206756592, -7.780700206756592, -7.780700206756592, -7.780700206756592, -7.780700206756592, -7.780700206756592, -7.780700206756592, -7.780700206756592, -7.780700206756592, -7.780700206756592, -7.780700206756592, -7.780700206756592, -7.780700206756592, -7.780700206756592, -7.780700206756592, -7.780700206756592, -7.780700206756592, -7.780700206756592, -7.780700206756592, -7.780700206756592, -7.780700206756592, -7.780700206756592, -7.780700206756592, -7.780700206756592, -7.780700206756592, -7.780700206756592, -7.780700206756592, -7.780700206756592, -7.780700206756592, -7.780700206756592, -7.780700206756592, -7.780700206756592, -1.2317999601364136, -2.529599905014038, -2.529599905014038, -1.4637999534606934, -3.1303999423980713, -2.6168999671936035, -2.1366000175476074, -2.703900098800659, -8.276200294494629, -8.276200294494629, -8.276200294494629, -8.276200294494629, -8.276200294494629, -8.276200294494629, -8.276200294494629, -8.276200294494629, -8.276200294494629, -8.276200294494629, -8.276200294494629, -8.276200294494629, -8.276200294494629, -8.276200294494629, -8.276200294494629, -8.276200294494629, -8.276200294494629, -8.276200294494629, -8.276200294494629, -8.276200294494629, -8.276200294494629, -8.276200294494629, -8.276200294494629, -8.276200294494629, -8.276200294494629, -8.276200294494629, -8.276200294494629, -8.276200294494629, -8.276200294494629, -8.276200294494629, -8.276200294494629, -8.276200294494629, -8.276200294494629, -8.276200294494629, -8.276200294494629, -8.276200294494629, -8.276200294494629, -1.455199956893921, -2.989000082015991, -2.298799991607666, -2.388200044631958, -2.989000082015991, -2.989000082015991, -2.989000082015991, -2.989000082015991, -2.9426000118255615, -2.989000082015991, -2.989000082015991, -2.950900077819824, -2.298799991607666, -8.13479995727539, -8.13479995727539, -8.13479995727539, -8.13479995727539, -8.13479995727539, -8.13479995727539, -8.13479995727539, -8.13479995727539, -8.13479995727539, -8.13479995727539, -8.13479995727539, -8.13479995727539, -8.13479995727539, -8.13479995727539, -8.13479995727539, -8.13479995727539, -8.13479995727539, -8.13479995727539, -8.13479995727539, -8.13479995727539, -8.13479995727539, -8.13479995727539, -8.13479995727539, -8.13479995727539, -8.13479995727539, -8.13479995727539, -8.13479995727539, -8.13479995727539, -8.13479995727539, -4.248499870300293, -4.248499870300293, -4.248499870300293, -4.248499870300293, -4.248499870300293, -4.248499870300293, -4.248499870300293, -4.248499870300293, -4.248499870300293, -4.248499870300293, -4.248499870300293, -4.248499870300293, -4.248499870300293, -4.248499870300293, -4.248499870300293, -4.248499870300293, -4.248499870300293, -4.248499870300293, -4.248499870300293, -4.248499870300293, -4.248499870300293, -4.248499870300293, -4.248499870300293, -4.248499870300293, -4.248499870300293, -4.248499870300293, -4.248499870300293, -4.248499870300293, -4.248499870300293, -4.248499870300293, -4.248499870300293, -4.248499870300293, -4.248499870300293, -4.248499870300293, -4.248499870300293, -4.248499870300293, -4.248499870300293, -4.248499870300293, -4.248499870300293, -4.248499870300293, -4.248499870300293, -4.248499870300293, -4.248499870300293, -4.248499870300293, -4.248499870300293, -4.248499870300293, -4.248499870300293, -4.248499870300293, -4.248499870300293, -3.406399965286255, -2.7681000232696533, -3.4879000186920166, -1.6818000078201294, -2.410399913787842, -2.716099977493286, -4.188300132751465, -2.3397998809814453, -3.9184000492095947, -3.406399965286255, -3.406399965286255, -3.406399965286255, -4.50540018081665, -4.754700183868408, -2.4695000648498535, -3.2372000217437744, -4.188300132751465, -3.151900053024292, -3.2488999366760254, -3.573199987411499, -5.14139986038208, -5.14139986038208, -5.14139986038208, -5.14139986038208, -8.552200317382812, -8.552200317382812, -8.552200317382812, -8.552200317382812, -8.552200317382812, -8.552200317382812, -8.552200317382812, -8.552200317382812, -8.552200317382812, -8.552200317382812, -8.552200317382812, -8.552200317382812, -1.8372000455856323, -2.437999963760376, -1.9673999547958374, -1.9673999547958374, -1.8372000455856323, -1.7476999759674072, -2.2232000827789307, -7.583799839019775, -7.583799839019775, -7.583799839019775, -7.583799839019775, -7.583799839019775, -7.583799839019775, -7.583799839019775, -7.583799839019775, -7.583799839019775, -7.583799839019775, -7.583799839019775, -7.583799839019775, -7.583799839019775, -7.583799839019775, -7.583799839019775, -7.583799839019775, -7.583799839019775, -7.583799839019775, -7.583799839019775, -7.583799839019775, -7.583799839019775, -7.583799839019775, -7.583799839019775, -7.583799839019775, -7.583799839019775, -7.583799839019775, -7.583799839019775, -7.583799839019775, -7.583799839019775, -7.583799839019775, -7.583799839019775, -7.583799839019775, -7.583799839019775, -7.583799839019775, -7.583799839019775, -7.583799839019775, -7.583799839019775, -7.583799839019775, -1.7831000089645386, -3.1212000846862793, -3.1212000846862793, -3.1212000846862793, -2.0264999866485596, -3.1212000846862793, -3.1212000846862793, -2.3273000717163086, -3.1212000846862793, -3.1212000846862793, -3.1212000846862793, -3.1212000846862793, -2.908099889755249, -3.1212000846862793, -3.037600040435791, -3.099100112915039, -8.267000198364258, -8.267000198364258, -8.267000198364258, -8.267000198364258, -8.267000198364258, -8.267000198364258, -8.267000198364258, -8.267000198364258, -8.267000198364258, -8.267000198364258, -8.267000198364258, -8.267000198364258, -8.267000198364258, -8.267000198364258, -8.267000198364258, -8.267000198364258, -8.267000198364258, -8.267000198364258, -8.267000198364258, -8.267000198364258, -8.267000198364258, -8.267000198364258, -8.267000198364258, -8.267000198364258, -8.267000198364258, -1.8590999841690063, -2.01200008392334, -2.976599931716919, -2.177500009536743, -3.520400047302246, -1.9983999729156494, -2.152899980545044, -3.520400047302246, -3.9451000690460205, -2.8731000423431396, -3.978300094604492, -3.978300094604492, -5.25540018081665, -2.9788999557495117, -3.8385000228881836, -5.25540018081665, -4.508900165557861, -6.539700031280518, -5.25540018081665, -6.01200008392334, -6.799300193786621, -6.387800216674805, -6.682799816131592, -5.25540018081665, -6.751399993896484, -6.880099773406982, -8.666199684143066, -8.666199684143066, -8.666199684143066, -8.666199684143066, -8.666199684143066, -8.666199684143066, -8.666199684143066, -8.666199684143066, -4.248499870300293, -4.248499870300293, -4.248499870300293, -4.248499870300293, -4.248499870300293, -4.248499870300293, -4.248499870300293, -4.248499870300293, -4.248499870300293, -4.248499870300293, -4.248499870300293, -4.248499870300293, -4.248499870300293, -4.248499870300293, -4.248499870300293, -4.248499870300293, -4.248499870300293, -4.248499870300293, -4.248499870300293, -4.248499870300293, -4.248499870300293, -4.248499870300293, -4.248499870300293, -4.248499870300293, -4.248499870300293, -4.248499870300293, -4.248499870300293, -4.248499870300293, -4.248499870300293, -4.248499870300293, -4.248499870300293, -4.248499870300293, -4.248499870300293, -4.248499870300293, -4.248499870300293, -4.248499870300293, -4.248499870300293, -4.248499870300293, -4.248499870300293, -4.248499870300293, -4.248499870300293, -4.248499870300293, -4.248499870300293, -4.248499870300293, -4.248499870300293, -4.248499870300293, -4.248499870300293, -4.248499870300293, -4.248499870300293, -4.248499870300293, -4.248499870300293, -4.248499870300293, -4.248499870300293, -4.248499870300293, -4.248499870300293, -4.248499870300293, -4.248499870300293, -4.248499870300293, -4.248499870300293, -4.248499870300293, -4.248499870300293, -4.248499870300293, -4.248499870300293, -4.248499870300293, -4.248499870300293, -4.248499870300293, -4.248499870300293, -4.248499870300293, -4.248499870300293, -4.248499870300293, -4.248499870300293, -4.248499870300293, -4.248499870300293, -4.248499870300293, -4.248499870300293, -4.248499870300293, -4.248499870300293, -4.248499870300293, -4.248499870300293, -4.248499870300293, -4.248499870300293, -4.248499870300293, -4.248499870300293, -4.248499870300293, -4.248499870300293, -4.248499870300293, -4.248499870300293, -4.248499870300293, -4.248499870300293, -4.248499870300293, -4.248499870300293, -4.248499870300293, -4.248499870300293, -4.248499870300293, -4.248499870300293, -4.248499870300293, -4.248499870300293, -4.248499870300293, -1.788699984550476, -1.4859999418258667, -2.6314001083374023, -2.257499933242798, -3.3238000869750977, -3.323899984359741, -3.3238000869750977, -2.6677000522613525, -2.7230000495910645, -3.3238000869750977, -3.1243999004364014, -5.058899879455566, -3.2665998935699463, -3.1654999256134033, -4.750699996948242, -8.46969985961914, -8.46969985961914, -8.46969985961914, -8.46969985961914, -8.46969985961914, -8.46969985961914, -8.46969985961914, -8.46969985961914, -8.46969985961914, -8.46969985961914, -8.46969985961914, -8.46969985961914, -8.46969985961914, -8.46969985961914, -8.46969985961914, -8.46969985961914, -8.46969985961914, -8.46969985961914, -8.46969985961914, -8.46969985961914, -8.46969985961914, -8.46969985961914, -8.46969985961914, -8.46969985961914, -8.46969985961914, -3.6659998893737793, -3.9630000591278076, -3.3122000694274902, -3.646399974822998, -3.348900079727173, -3.1010000705718994, -3.9630000591278076, -3.9630000591278076, -3.9630000591278076, -4.108099937438965, -4.186200141906738, -2.979599952697754, -4.653200149536133, -4.653200149536133, -2.853300094604492, -2.325500011444092, -4.300600051879883, -3.4323999881744385, -4.653200149536133, -2.9619998931884766, -4.653200149536133, -2.5757999420166016, -2.756500005722046, -3.7718000411987305, -3.5388998985290527, -4.653200149536133, -3.558500051498413, -5.121300220489502, -4.653200149536133, -4.373000144958496, -3.233099937438965, -3.9625000953674316, -4.295100212097168, -4.474699974060059, -1.0757999420166016, -2.853300094604492, -2.853300094604492, -2.853300094604492, -1.5513999462127686, -2.853300094604492, -2.5179998874664307, -2.853300094604492, -2.853300094604492, -7.999100208282471, -7.999100208282471, -7.999100208282471, -7.999100208282471, -7.999100208282471, -7.999100208282471, -7.999100208282471, -7.999100208282471, -7.999100208282471, -7.999100208282471, -7.999100208282471, -7.999100208282471, -7.999100208282471, -7.999100208282471, -7.999100208282471, -7.999100208282471, -7.999100208282471, -7.999100208282471, -7.999100208282471, -7.999100208282471, -7.999100208282471, -7.999100208282471, -7.999100208282471, -7.999100208282471, -7.999100208282471, -7.999100208282471, -7.999100208282471, -7.999100208282471, -7.999100208282471, -7.999100208282471, -7.999100208282471, -7.999100208282471, -7.999100208282471, -7.999100208282471, -4.248499870300293, -4.248499870300293, -4.248499870300293, -4.248499870300293, -4.248499870300293, -4.248499870300293, -4.248499870300293, -4.248499870300293, -4.248499870300293, -4.248499870300293, -4.248499870300293, -4.248499870300293, -4.248499870300293, -4.248499870300293, -4.248499870300293, -4.248499870300293, -4.248499870300293, -4.248499870300293, -4.248499870300293, -4.248499870300293, -4.248499870300293, -4.248499870300293, -4.248499870300293, -4.248499870300293, -4.248499870300293, -4.248499870300293, -4.248499870300293, -4.248499870300293, -4.248499870300293, -4.248499870300293, -4.248499870300293, -4.248499870300293, -4.248499870300293, -4.248499870300293, -4.248499870300293, -4.248499870300293, -4.248499870300293, -4.248499870300293, -4.248499870300293, -4.248499870300293, -4.248499870300293, -4.248499870300293, -4.248499870300293, -4.248499870300293, -4.248499870300293, -4.248499870300293, -4.248499870300293, -4.248499870300293, -4.248499870300293, -4.248499870300293, -4.248499870300293, -4.248499870300293, -4.248499870300293, -4.248499870300293, -4.248499870300293, -4.248499870300293, -4.248499870300293, -4.248499870300293, -4.248499870300293, -4.248499870300293, -4.248499870300293, -4.248499870300293, -4.248499870300293, -4.248499870300293, -4.248499870300293, -4.248499870300293, -4.248499870300293, -4.248499870300293, -4.248499870300293, -4.248499870300293, -4.248499870300293, -4.248499870300293, -4.248499870300293, -4.248499870300293, -4.248499870300293, -4.248499870300293, -4.248499870300293, -4.248499870300293, -4.248499870300293, -4.248499870300293, -4.248499870300293, -4.248499870300293, -4.248499870300293, -4.248499870300293, -4.248499870300293, -4.248499870300293, -4.248499870300293, -4.248499870300293, -4.248499870300293, -4.248499870300293, -4.248499870300293, -4.248499870300293, -4.248499870300293, -4.248499870300293, -4.248499870300293, -4.248499870300293, -4.248499870300293, -4.248499870300293, -2.069000005722046, -2.1326000690460205, -2.1326000690460205, -2.058000087738037, -2.1326000690460205, -2.1326000690460205, -2.002700090408325, -4.567599773406982, -4.066199779510498, -4.26669979095459, -4.580399990081787, -4.718299865722656, -4.590199947357178, -4.717199802398682, -4.591400146484375, -7.278500080108643, -7.278500080108643, -4.637700080871582, -7.278500080108643, -7.278500080108643, -7.278500080108643, -7.278500080108643, -7.278500080108643, -7.278500080108643, -7.278500080108643, -7.278500080108643, -7.278500080108643, -7.278500080108643, -7.278500080108643, -7.278500080108643, -7.278500080108643, -7.278500080108643, -7.278500080108643, -7.278500080108643, -7.278500080108643, -7.278500080108643, -7.278500080108643, -7.278500080108643, -7.278500080108643, -7.278500080108643, -2.7219998836517334, -2.4463000297546387, -2.9834001064300537, -3.8958001136779785, -3.3647000789642334, -3.8605000972747803, -2.5299999713897705, -3.2595999240875244, -3.8951001167297363, -3.185800075531006, -1.6857000589370728, -2.57450008392334, -2.5387001037597656, -3.7186999320983887, -3.8541998863220215, -3.906599998474121, -3.611299991607666, -3.8989999294281006, -3.187000036239624, -3.2047998905181885, -9.00629997253418, -9.00629997253418, -9.00629997253418, -9.00629997253418, -9.00629997253418, -9.00629997253418, -9.00629997253418, -9.00629997253418, -9.00629997253418, -9.00629997253418, -9.00629997253418, -9.00629997253418, -9.00629997253418, -9.00629997253418, -9.00629997253418, -9.00629997253418, -9.00629997253418, -2.3369998931884766, -2.25219988822937, -3.039599895477295, -3.310499906539917, -3.0241000652313232, -2.1208999156951904, -2.5510001182556152, -3.216599941253662, -3.2235000133514404, -2.6410999298095703, -2.566699981689453, -2.5007998943328857, -2.884500026702881, -2.934299945831299, -5.511499881744385, -4.2795000076293945, -4.222799777984619, -5.830399990081787, -6.235599994659424, -8.456299781799316, -8.456299781799316, -8.456299781799316, -8.456299781799316, -8.456299781799316, -8.456299781799316, -8.456299781799316, -8.456299781799316, -8.456299781799316, -8.456299781799316, -8.456299781799316, -8.456299781799316, -8.456299781799316, -8.456299781799316, -8.456299781799316, -8.456299781799316, -8.456299781799316, -8.456299781799316, -8.456299781799316, -8.456299781799316, -2.9600000381469727, -2.9600000381469727, -2.9600000381469727, -2.9600000381469727, -2.9600000381469727, -2.9600000381469727, -2.9600000381469727, -2.9600000381469727, -2.9600000381469727, -2.9600000381469727, -2.9600000381469727, -2.269700050354004, -2.9600000381469727, -2.269700050354004, -2.9600000381469727, -2.9600000381469727, -2.9600000381469727, -8.105799674987793, -8.105799674987793, -8.105799674987793, -8.105799674987793, -8.105799674987793, -8.105799674987793, -8.105799674987793, -8.105799674987793, -8.105799674987793, -8.105799674987793, -8.105799674987793, -8.105799674987793, -8.105799674987793, -8.105799674987793, -8.105799674987793, -8.105799674987793, -8.105799674987793, -8.105799674987793, -8.105799674987793, -8.105799674987793, -8.105799674987793, -2.203900098800659, -3.3714001178741455, -3.3685998916625977, -1.3142000436782837, -2.7922000885009766, -3.4823999404907227, -3.4823999404907227, -2.2790000438690186, -3.4823999404907227, -2.3364999294281006, -3.324899911880493, -3.261699914932251, -3.4823999404907227, -3.1877999305725098, -5.21750020980835, -3.4823999404907227, -4.868800163269043, -8.628199577331543, -8.628199577331543, -8.628199577331543, -8.628199577331543, -8.628199577331543, -8.628199577331543, -8.628199577331543, -8.628199577331543, -8.628199577331543, -8.628199577331543, -8.628199577331543, -8.628199577331543, -8.628199577331543, -8.628199577331543, -8.628199577331543, -8.628199577331543, -8.628199577331543, -8.628199577331543, -8.628199577331543, -8.628199577331543, -8.628199577331543, -8.628199577331543, -8.628199577331543, -8.628199577331543, -3.1403000354766846, -2.8570001125335693, -3.3685998916625977, -3.1498000621795654, -3.329200029373169, -3.5806000232696533, -3.3926000595092773, -3.4470999240875244, -4.173799991607666, -4.229800224304199, -4.173799991607666, -4.185200214385986, -3.536799907684326, -4.095300197601318, -3.4835000038146973, -4.2307000160217285, -2.599900007247925, -4.173799991607666, -4.235199928283691, -4.226200103759766, -3.5510001182556152, -2.5490000247955322, -3.5044000148773193, -3.8436999320983887, -4.157199859619141, -4.249499797821045, -3.0959999561309814, -2.599299907684326, -3.483799934387207, -4.243000030517578, -3.5267999172210693, -3.7945001125335693, -3.2248001098632812, -3.2248001098632812, -1.8740999698638916, -2.5239999294281006, -3.2248001098632812, -3.2248001098632812, -3.154599905014038, -3.2248001098632812, -2.525099992752075, -3.183000087738037, -3.1570000648498535, -3.824399948120117, -3.1960999965667725, -3.2248001098632812, -3.1575000286102295, -3.8742001056671143, -3.203399896621704, -3.2105000019073486, -3.1113998889923096, -3.5852999687194824, -5.906499862670898, -6.317800045013428, -6.3566999435424805, -6.710899829864502, -7.054900169372559, -5.912899971008301, -6.407800197601318, -6.810299873352051, -7.144000053405762, -6.841599941253662, -5.39709997177124, -6.5802998542785645, -6.535799980163574, -6.498499870300293, -6.665200233459473, -1.8609000444412231, -1.5022000074386597, -1.8875999450683594, -1.4478000402450562, -1.8609000444412231, -5.520299911499023, -4.854000091552734, -5.158100128173828, -4.544400215148926, -5.293700218200684, -5.414100170135498, -5.285900115966797, -5.290299892425537, -7.607500076293945, -7.607500076293945, -5.4770002365112305, -7.607500076293945, -7.607500076293945, -7.607500076293945, -7.607500076293945, -7.607500076293945, -7.607500076293945, -7.607500076293945, -7.607500076293945, -7.607500076293945, -7.607500076293945, -7.607500076293945, -7.607500076293945, -7.607500076293945, -7.607500076293945, -7.607500076293945, -7.607500076293945, -7.607500076293945, -7.607500076293945, -7.607500076293945, -7.607500076293945, -7.607500076293945, -7.607500076293945, -7.607500076293945, -7.607500076293945, -7.607500076293945, -0.9258999824523926, -1.9944000244140625, -1.5551999807357788, -2.2516000270843506, -2.088099956512451, -7.770400047302246, -7.770400047302246, -7.770400047302246, -7.770400047302246, -7.770400047302246, -7.770400047302246, -7.770400047302246, -7.770400047302246, -7.770400047302246, -7.770400047302246, -7.770400047302246, -7.770400047302246, -7.770400047302246, -7.770400047302246, -7.770400047302246, -7.770400047302246, -7.770400047302246, -7.770400047302246, -7.770400047302246, -7.770400047302246, -7.770400047302246, -7.770400047302246, -7.770400047302246, -7.770400047302246, -7.770400047302246, -7.770400047302246, -7.770400047302246, -7.770400047302246, -7.770400047302246, -7.770400047302246, -7.770400047302246, -7.770400047302246, -7.770400047302246, -7.770400047302246, -7.770400047302246, -7.770400047302246, -7.770400047302246, -7.770400047302246, -7.770400047302246, -7.770400047302246, -7.770400047302246, -7.770400047302246, -2.6519999504089355, -1.4443999528884888, -1.7724000215530396, -0.9663000106811523, -3.0246999263763428, -2.6038999557495117, -5.592899799346924, -5.895500183105469, -5.737299919128418, -6.419400215148926, -8.771300315856934, -8.771300315856934, -8.771300315856934, -8.771300315856934, -8.771300315856934, -8.771300315856934, -8.771300315856934, -8.771300315856934, -8.771300315856934, -8.771300315856934, -8.771300315856934, -8.771300315856934, -8.771300315856934, -8.771300315856934, -8.771300315856934, -8.771300315856934, -8.771300315856934, -8.771300315856934, -8.771300315856934, -8.771300315856934, -8.771300315856934, -8.771300315856934, -8.771300315856934, -8.771300315856934, -8.771300315856934, -8.771300315856934, -8.771300315856934, -8.771300315856934, -8.771300315856934, -8.771300315856934, -8.771300315856934, -8.771300315856934, -1.6375999450683594, -1.3667999505996704, -2.0102999210357666, -1.6375999450683594, -1.6375999450683594, -7.756899833679199, -7.756899833679199, -7.756899833679199, -7.756899833679199, -7.756899833679199, -7.756899833679199, -7.756899833679199, -7.756899833679199, -7.756899833679199, -7.756899833679199, -7.756899833679199, -7.756899833679199, -7.756899833679199, -7.756899833679199, -7.756899833679199, -7.756899833679199, -7.756899833679199, -7.756899833679199, -7.756899833679199, -7.756899833679199, -7.756899833679199, -7.756899833679199, -7.756899833679199, -7.756899833679199, -7.756899833679199, -7.756899833679199, -7.756899833679199, -7.756899833679199, -7.756899833679199, -7.756899833679199, -7.756899833679199, -7.756899833679199, -7.756899833679199, -7.756899833679199, -7.756899833679199, -7.756899833679199, -7.756899833679199, -7.756899833679199, -7.756899833679199, -7.756899833679199, -7.756899833679199, -7.756899833679199, -1.4839999675750732, -1.204800009727478, -2.2899999618530273, -2.4523000717163086, -1.660599946975708, -2.658799886703491, -7.804599761962891, -7.804599761962891, -7.804599761962891, -7.804599761962891, -7.804599761962891, -7.804599761962891, -7.804599761962891, -7.804599761962891, -7.804599761962891, -7.804599761962891, -7.804599761962891, -7.804599761962891, -7.804599761962891, -7.804599761962891, -7.804599761962891, -7.804599761962891, -7.804599761962891, -7.804599761962891, -7.804599761962891, -7.804599761962891, -7.804599761962891, -7.804599761962891, -7.804599761962891, -7.804599761962891, -7.804599761962891, -7.804599761962891, -7.804599761962891, -7.804599761962891, -7.804599761962891, -7.804599761962891, -7.804599761962891, -7.804599761962891, -7.804599761962891, -7.804599761962891, -7.804599761962891, -7.804599761962891, -7.804599761962891, -7.804599761962891, -7.804599761962891, -7.804599761962891, -7.804599761962891, -3.517400026321411, -3.863100051879883, -3.863100051879883, -2.8024001121520996, -3.922800064086914, -3.983599901199341, -2.7725000381469727, -2.137200117111206, -4.553299903869629, -4.5518999099731445, -4.553299903869629, -4.589300155639648, -3.2660999298095703, -3.4586000442504883, -3.8619000911712646, -2.967099905014038, -4.551799774169922, -3.141200065612793, -2.599100112915039, -3.863100051879883, -3.1394999027252197, -2.562299966812134, -4.552199840545654, -4.552000045776367, -5.186600208282471, -5.124499797821045, -3.2411000728607178, -3.7809998989105225, -4.390999794006348, -4.5467000007629395, -3.436800003051758, -4.029600143432617, -4.248499870300293, -4.248499870300293, -4.248499870300293, -4.248499870300293, -4.248499870300293, -4.248499870300293, -4.248499870300293, -4.248499870300293, -4.248499870300293, -4.248499870300293, -4.248499870300293, -4.248499870300293, -4.248499870300293, -4.248499870300293, -4.248499870300293, -4.248499870300293, -4.248499870300293, -4.248499870300293, -4.248499870300293, -4.248499870300293, -4.248499870300293, -4.248499870300293, -4.248499870300293, -4.248499870300293, -4.248499870300293, -4.248499870300293, -4.248499870300293, -4.248499870300293, -4.248499870300293, -4.248499870300293, -4.248499870300293, -4.248499870300293, -4.248499870300293, -4.248499870300293, -4.248499870300293, -4.248499870300293, -4.248499870300293, -4.248499870300293, -4.248499870300293, -4.248499870300293, -4.248499870300293, -4.248499870300293, -4.248499870300293, -4.248499870300293, -4.248499870300293, -4.248499870300293, -4.248499870300293, -4.248499870300293, -4.248499870300293, -2.5067999362945557, -3.107599973678589, -3.107599973678589, -3.0136001110076904, -3.107599973678589, -2.41729998588562, -3.107599973678589, -3.107599973678589, -2.41729998588562, -3.107599973678589, -3.107599973678589, -3.107599973678589, -2.41729998588562, -3.7860000133514404, -3.7860000133514404, -3.0174999237060547, -2.8141000270843506, -4.72760009765625, -3.107599973678589, -5.345300197601318, -5.584000110626221, -5.490300178527832, -5.5, -5.644499778747559, -5.42519998550415, -8.253399848937988, -8.253399848937988, -8.253399848937988, -8.253399848937988, -8.253399848937988, -8.253399848937988, -8.253399848937988, -8.253399848937988, -8.253399848937988, -2.0, -1.9866000413894653, -2.0190000534057617, -1.9914000034332275, -1.9953999519348145, -2.006200075149536, -1.9975999593734741, -7.097700119018555, -7.097700119018555, -7.097700119018555, -7.097700119018555, -7.097700119018555, -7.097700119018555, -7.097700119018555, -7.097700119018555, -7.097700119018555, -7.097700119018555, -7.097700119018555, -7.097700119018555, -7.097700119018555, -7.097700119018555, -7.097700119018555, -7.097700119018555, -7.097700119018555, -7.097700119018555, -7.097700119018555, -7.097700119018555, -7.097700119018555, -7.097700119018555, -7.097700119018555, -7.097700119018555, -7.097700119018555, -7.097700119018555, -7.097700119018555, -7.097700119018555, -7.097700119018555, -7.097700119018555, -7.097700119018555, -7.097700119018555, -7.097700119018555, -7.097700119018555, -7.097700119018555, -7.097700119018555, -7.097700119018555, -7.097700119018555, -7.097700119018555, -3.4923999309539795, -3.4923999309539795, -3.4923999309539795, -3.4923999309539795, -3.43530011177063, -2.397700071334839, -2.3731000423431396, -3.4258999824523926, -3.4923999309539795, -3.4923999309539795, -2.397700071334839, -3.4923999309539795, -3.4923999309539795, -3.369999885559082, -3.4923999309539795, -3.4923999309539795, -2.8022000789642334, -2.746299982070923, -3.4923999309539795, -4.8506999015808105, -5.188499927520752, -3.305999994277954, -5.053500175476074, -3.4923999309539795, -3.371799945831299, -6.251800060272217, -6.15500020980835, -6.30079984664917, -6.3668999671936035, -5.706999778747559, -5.1732001304626465, -5.34119987487793, -6.0335001945495605, -5.979700088500977, -3.7827999591827393, -3.7827999591827393, -2.509500026702881, -2.7578999996185303, -2.718100070953369, -3.7827999591827393, -3.7827999591827393, -2.828000068664551, -3.0104000568389893, -1.9120999574661255, -3.7827999591827393, -3.6252999305725098, -2.746799945831299, -3.206399917602539, -2.9001998901367188, -3.7827999591827393, -2.899399995803833, -3.0924999713897705, -3.0924999713897705, -5.5177998542785645, -3.7827999591827393, -6.041200160980225, -5.5177998542785645, -3.7827999591827393, -5.980100154876709, -8.928600311279297, -8.928600311279297, -8.928600311279297, -8.928600311279297, -8.928600311279297, -8.928600311279297, -8.928600311279297, -8.928600311279297, -8.928600311279297, -1.518399953842163, -1.3476999998092651, -1.3476999998092651, -3.15120005607605, -2.282399892807007, -2.297800064086914, -8.29699993133545, -8.29699993133545, -8.29699993133545, -8.29699993133545, -8.29699993133545, -8.29699993133545, -8.29699993133545, -8.29699993133545, -8.29699993133545, -8.29699993133545, -8.29699993133545, -8.29699993133545, -8.29699993133545, -8.29699993133545, -8.29699993133545, -8.29699993133545, -8.29699993133545, -8.29699993133545, -8.29699993133545, -8.29699993133545, -8.29699993133545, -8.29699993133545, -8.29699993133545, -8.29699993133545, -8.29699993133545, -8.29699993133545, -8.29699993133545, -8.29699993133545, -8.29699993133545, -8.29699993133545, -8.29699993133545, -8.29699993133545, -8.29699993133545, -8.29699993133545, -8.29699993133545, -8.29699993133545, -8.29699993133545, -8.29699993133545, -8.29699993133545, -8.29699993133545, -8.29699993133545, -2.266700029373169, -2.974900007247925, -2.9632999897003174, -2.280100107192993, -2.9681999683380127, -2.8824000358581543, -1.8967000246047974, -2.2864999771118164, -2.9602999687194824, -2.2730000019073486, -2.974100112915039, -4.779399871826172, -5.351600170135498, -4.665999889373779, -4.665999889373779, -4.943900108337402, -5.449699878692627, -4.665999889373779, -4.665999889373779, -3.812000036239624, -5.336299896240234, -4.665999889373779, -5.404200077056885, -5.285900115966797, -5.447400093078613, -8.076800346374512, -8.076800346374512, -8.076800346374512, -8.076800346374512, -8.076800346374512, -8.076800346374512, -8.076800346374512, -8.076800346374512, -8.076800346374512, -8.076800346374512, -2.273400068283081, -2.611299991607666, -3.212100028991699, -2.611299991607666, -2.273400068283081, -3.212100028991699, -2.521899938583374, -2.521899938583374, -3.212100028991699, -3.212100028991699, -2.3287999629974365, -2.395699977874756, -3.212100028991699, -3.1342999935150146, -3.212100028991699, -8.35789966583252, -8.35789966583252, -8.35789966583252, -8.35789966583252, -8.35789966583252, -8.35789966583252, -8.35789966583252, -8.35789966583252, -8.35789966583252, -8.35789966583252, -8.35789966583252, -8.35789966583252, -8.35789966583252, -8.35789966583252, -8.35789966583252, -8.35789966583252, -8.35789966583252, -8.35789966583252, -8.35789966583252, -8.35789966583252, -8.35789966583252, -8.35789966583252, -8.35789966583252, -8.35789966583252, -8.35789966583252, -8.35789966583252, -8.35789966583252, -3.1050000190734863, -3.1050000190734863, -1.723099946975708, -3.1050000190734863, -3.1050000190734863, -3.1050000190734863, -1.6811000108718872, -3.1050000190734863, -3.1050000190734863, -3.1050000190734863, -3.1050000190734863, -3.1050000190734863, -3.1050000190734863, -4.840000152587891, -4.840000152587891, -3.1050000190734863, -3.1050000190734863, -4.840000152587891, -4.840000152587891, -4.840000152587891, -8.250800132751465, -8.250800132751465, -8.250800132751465, -8.250800132751465, -8.250800132751465, -8.250800132751465, -8.250800132751465, -8.250800132751465, -8.250800132751465, -8.250800132751465, -8.250800132751465, -8.250800132751465, -8.250800132751465, -8.250800132751465, -8.250800132751465, -8.250800132751465, -8.250800132751465, -8.250800132751465, -8.250800132751465, -2.155400037765503, -2.2978999614715576, -2.140199899673462, -2.0862998962402344, -4.990900039672852, -4.990900039672852, -2.303299903869629, -4.990900039672852, -4.990900039672852, -4.990900039672852, -4.990900039672852, -4.990900039672852, -4.990900039672852, -4.990900039672852, -4.990900039672852, -4.990900039672852, -4.990900039672852, -4.990900039672852, -4.990900039672852, -4.990900039672852, -4.990900039672852, -4.990900039672852, -4.990900039672852, -4.990900039672852, -4.990900039672852, -4.990900039672852, -4.990900039672852, -4.990900039672852, -4.990900039672852, -4.990900039672852, -4.990900039672852, -4.990900039672852, -4.990900039672852, -4.990900039672852, -4.990900039672852, -4.990900039672852, -4.990900039672852, -4.990900039672852, -4.990900039672852, -4.990900039672852, -4.990900039672852, -4.990900039672852, -4.990900039672852, -4.990900039672852, -4.990900039672852, -4.990900039672852, -4.990900039672852, -3.1807000637054443, -3.1807000637054443, -2.7588999271392822, -3.1807000637054443, -2.3564999103546143, -2.7588999271392822, -2.1970999240875244, -1.736299991607666, -2.2971999645233154, -2.325700044631958, -2.4212000370025635, -2.9704999923706055, -4.9156999588012695, -4.9156999588012695, -8.326499938964844, -8.326499938964844, -8.326499938964844, -8.326499938964844, -8.326499938964844, -8.326499938964844, -8.326499938964844, -8.326499938964844, -8.326499938964844, -8.326499938964844, -8.326499938964844, -8.326499938964844, -8.326499938964844, -8.326499938964844, -8.326499938964844, -8.326499938964844, -8.326499938964844, -8.326499938964844, -8.326499938964844, -8.326499938964844, -8.326499938964844, -8.326499938964844, -8.326499938964844, -8.326499938964844, -8.326499938964844, -8.326499938964844, -8.326499938964844, -3.1473000049591064, -3.1473000049591064, -3.1473000049591064, -3.1473000049591064, -3.1473000049591064, -3.1473000049591064, -3.1473000049591064, -3.1473000049591064, -2.0525999069213867, -3.1473000049591064, -2.4570999145507812, -2.4570999145507812, -3.1473000049591064, -3.1473000049591064, -3.1473000049591064, -2.4570999145507812, -3.1473000049591064, -3.1473000049591064, -8.293100357055664, -8.293100357055664, -8.293100357055664, -8.293100357055664, -8.293100357055664, -8.293100357055664, -8.293100357055664, -8.293100357055664, -8.293100357055664, -8.293100357055664, -8.293100357055664, -8.293100357055664, -8.293100357055664, -8.293100357055664, -8.293100357055664, -8.293100357055664, -8.293100357055664, -8.293100357055664, -8.293100357055664, -8.293100357055664, -1.8437000513076782, -1.548799991607666, -2.0288000106811523, -1.9601999521255493, -2.1180999279022217, -2.238300085067749, -2.3208000659942627, -7.5903000831604, -7.5903000831604, -7.5903000831604, -7.5903000831604, -7.5903000831604, -7.5903000831604, -7.5903000831604, -7.5903000831604, -7.5903000831604, -7.5903000831604, -7.5903000831604, -7.5903000831604, -7.5903000831604, -7.5903000831604, -7.5903000831604, -7.5903000831604, -7.5903000831604, -7.5903000831604, -7.5903000831604, -7.5903000831604, -7.5903000831604, -7.5903000831604, -7.5903000831604, -7.5903000831604, -7.5903000831604, -7.5903000831604, -7.5903000831604, -7.5903000831604, -7.5903000831604, -7.5903000831604, -7.5903000831604, -7.5903000831604, -7.5903000831604, -7.5903000831604, -7.5903000831604, -7.5903000831604, -7.5903000831604, -7.5903000831604, -7.5903000831604, -1.145900011062622, -2.5876998901367188, -2.1521999835968018, -2.1384999752044678, -2.4223999977111816, -2.3910999298095703, -2.5876998901367188, -4.322700023651123, -4.322700023651123, -4.322700023651123, -4.322700023651123, -4.322700023651123, -4.322700023651123, -4.322700023651123, -7.733500003814697, -7.733500003814697, -7.733500003814697, -7.733500003814697, -7.733500003814697, -7.733500003814697, -7.733500003814697, -7.733500003814697, -7.733500003814697, -7.733500003814697, -7.733500003814697, -7.733500003814697, -7.733500003814697, -7.733500003814697, -7.733500003814697, -7.733500003814697, -7.733500003814697, -7.733500003814697, -7.733500003814697, -7.733500003814697, -7.733500003814697, -7.733500003814697, -7.733500003814697, -7.733500003814697, -7.733500003814697, -7.733500003814697, -7.733500003814697, -7.733500003814697, -1.8641999959945679, -2.8905999660491943, -2.289799928665161, -2.8905999660491943, -2.8905999660491943, -2.094599962234497, -1.5982999801635742, -2.8905999660491943, -2.289799928665161, -2.5840001106262207, -8.036399841308594, -8.036399841308594, -8.036399841308594, -8.036399841308594, -8.036399841308594, -8.036399841308594, -8.036399841308594, -8.036399841308594, -8.036399841308594, -8.036399841308594, -8.036399841308594, -8.036399841308594, -8.036399841308594, -8.036399841308594, -8.036399841308594, -8.036399841308594, -8.036399841308594, -8.036399841308594, -8.036399841308594, -8.036399841308594, -8.036399841308594, -8.036399841308594, -8.036399841308594, -8.036399841308594, -8.036399841308594, -8.036399841308594, -8.036399841308594, -8.036399841308594, -8.036399841308594, -8.036399841308594, -8.036399841308594, -8.036399841308594, -8.036399841308594, -3.335900068283081, -3.335900068283081, -2.540299892425537, -2.131700038909912, -1.7654999494552612, -4.3719000816345215, -3.6816999912261963, -2.8208000659942627, -3.4102001190185547, -4.3719000816345215, -2.2248001098632812, -2.6426000595092773, -2.731300115585327, -5.026000022888184, -4.748600006103516, -3.2771999835968018, -4.3719000816345215, -5.411799907684326, -5.7484002113342285, -4.999199867248535, -4.213699817657471, -4.3719000816345215, -4.230100154876709, -6.106900215148926, -6.106900215148926, -4.077600002288818, -6.106900215148926, -6.106900215148926, -4.581299781799316, -6.106900215148926, -5.492300033569336, -5.660200119018555, -2.927299976348877, -2.927299976348877, -2.2047998905181885, -2.927299976348877, -2.927299976348877, -2.927299976348877, -1.8324999809265137, -2.868000030517578, -2.927299976348877, -2.236999988555908, -2.927299976348877, -2.927299976348877, -2.927299976348877, -5.482100009918213, -2.814500093460083, -5.709199905395508, -8.073100090026855, -8.073100090026855, -8.073100090026855, -8.073100090026855, -8.073100090026855, -8.073100090026855, -8.073100090026855, -8.073100090026855, -8.073100090026855, -8.073100090026855, -8.073100090026855, -8.073100090026855, -8.073100090026855, -8.073100090026855, -8.073100090026855, -8.073100090026855, -8.073100090026855, -8.073100090026855, -8.073100090026855, -8.073100090026855, -8.073100090026855, -8.073100090026855, -8.073100090026855, -8.073100090026855, -2.6008999347686768, -3.2987000942230225, -2.5880000591278076, -3.2119998931884766, -3.2897000312805176, -2.2042999267578125, -3.2119998931884766, -3.2992000579833984, -3.2119998931884766, -3.3001999855041504, -2.2002999782562256, -3.289900064468384, -2.6112000942230225, -3.2119998931884766, -3.305299997329712, -3.2119998931884766, -3.2119998931884766, -3.2119998931884766, -3.2119998931884766, -8.357799530029297, -8.357799530029297, -8.357799530029297, -8.357799530029297, -8.357799530029297, -8.357799530029297, -8.357799530029297, -8.357799530029297, -8.357799530029297, -8.357799530029297, -8.357799530029297, -8.357799530029297, -8.357799530029297, -8.357799530029297, -8.357799530029297, -8.357799530029297, -8.357799530029297, -8.357799530029297, -8.357799530029297, -8.357799530029297, -1.524899959564209, -1.80840003490448, -2.4619998931884766, -2.416100025177002, -2.222899913787842, -1.732800006866455, -2.602099895477295, -3.3896000385284424, -3.24399995803833, -8.535400390625, -8.535400390625, -8.535400390625, -8.535400390625, -8.535400390625, -8.535400390625, -8.535400390625, -8.535400390625, -8.535400390625, -8.535400390625, -8.535400390625, -8.535400390625, -8.535400390625, -8.535400390625, -8.535400390625, -8.535400390625, -8.535400390625, -8.535400390625, -8.535400390625, -8.535400390625, -8.535400390625, -8.535400390625, -8.535400390625, -8.535400390625, -8.535400390625, -8.535400390625, -8.535400390625, -8.535400390625, -8.535400390625, -8.535400390625, -8.535400390625, -8.535400390625, -8.535400390625, -8.535400390625, -8.535400390625, -8.535400390625, -2.440999984741211, -3.0418999195098877, -2.351599931716919, -3.0418999195098877, -3.0418999195098877, -3.0418999195098877, -3.0418999195098877, -3.0418999195098877, -3.0418999195098877, -2.0058999061584473, -3.0418999195098877, -3.0418999195098877, -3.0418999195098877, -3.0418999195098877, -3.0418999195098877, -3.0418999195098877, -3.0418999195098877, -8.187700271606445, -8.187700271606445, -8.187700271606445, -8.187700271606445, -8.187700271606445, -8.187700271606445, -8.187700271606445, -8.187700271606445, -8.187700271606445, -8.187700271606445, -8.187700271606445, -8.187700271606445, -8.187700271606445, -8.187700271606445, -8.187700271606445, -8.187700271606445, -8.187700271606445, -8.187700271606445, -8.187700271606445, -8.187700271606445, -8.187700271606445, -8.187700271606445, -3.275899887084961, -1.4651000499725342, -3.275899887084961, -3.275899887084961, -1.7094999551773071, -3.275899887084961, -3.275899887084961, -2.8685998916625977, -3.275899887084961, -3.275899887084961, -2.585599899291992, -3.275899887084961, -3.096100091934204, -2.896399974822998, -3.1928999423980713, -8.421699523925781, -8.421699523925781, -8.421699523925781, -8.421699523925781, -8.421699523925781, -8.421699523925781, -8.421699523925781, -8.421699523925781, -8.421699523925781, -8.421699523925781, -8.421699523925781, -8.421699523925781, -8.421699523925781, -8.421699523925781, -8.421699523925781, -8.421699523925781, -8.421699523925781, -8.421699523925781, -8.421699523925781, -8.421699523925781, -8.421699523925781, -8.421699523925781, -8.421699523925781, -8.421699523925781, -8.421699523925781, -8.421699523925781, -4.248499870300293, -4.248499870300293, -4.248499870300293, -4.248499870300293, -4.248499870300293, -4.248499870300293, -4.248499870300293, -4.248499870300293, -4.248499870300293, -4.248499870300293, -4.248499870300293, -4.248499870300293, -4.248499870300293, -4.248499870300293, -4.248499870300293, -4.248499870300293, -4.248499870300293, -4.248499870300293, -4.248499870300293, -4.248499870300293, -4.248499870300293, -4.248499870300293, -4.248499870300293, -4.248499870300293, -4.248499870300293, -4.248499870300293, -4.248499870300293, -4.248499870300293, -4.248499870300293, -4.248499870300293, -4.248499870300293, -4.248499870300293, -4.248499870300293, -4.248499870300293, -4.248499870300293, -4.248499870300293, -4.248499870300293, -4.248499870300293, -4.248499870300293, -4.248499870300293, -4.248499870300293, -4.248499870300293, -4.248499870300293, -4.248499870300293, -4.248499870300293, -4.248499870300293, -4.248499870300293, -4.248499870300293, -4.248499870300293, -4.248499870300293, -4.248499870300293, -4.248499870300293, -4.248499870300293, -4.248499870300293, -4.248499870300293, -4.248499870300293, -4.248499870300293, -4.248499870300293, -4.248499870300293, -4.248499870300293, -4.248499870300293, -4.248499870300293, -4.248499870300293, -4.248499870300293, -4.248499870300293, -4.248499870300293, -4.248499870300293, -4.248499870300293, -4.248499870300293, -4.248499870300293, -4.248499870300293, -4.248499870300293, -4.248499870300293, -4.248499870300293, -4.248499870300293, -4.248499870300293, -4.248499870300293, -4.248499870300293, -4.248499870300293, -4.248499870300293, -4.248499870300293, -4.248499870300293, -4.248499870300293, -4.248499870300293, -4.248499870300293, -4.248499870300293, -4.248499870300293, -4.248499870300293, -4.248499870300293, -4.248499870300293, -4.248499870300293, -4.248499870300293, -4.248499870300293, -4.248499870300293, -4.248499870300293, -4.248499870300293, -4.248499870300293, -4.248499870300293, -2.430000066757202, -0.6287000179290771, -2.0020999908447266, -2.1015000343322754, -2.430000066757202, -7.575799942016602, -7.575799942016602, -7.575799942016602, -7.575799942016602, -7.575799942016602, -7.575799942016602, -7.575799942016602, -7.575799942016602, -7.575799942016602, -7.575799942016602, -7.575799942016602, -7.575799942016602, -7.575799942016602, -7.575799942016602, -7.575799942016602, -7.575799942016602, -7.575799942016602, -7.575799942016602, -7.575799942016602, -7.575799942016602, -7.575799942016602, -7.575799942016602, -7.575799942016602, -7.575799942016602, -7.575799942016602, -7.575799942016602, -7.575799942016602, -7.575799942016602, -7.575799942016602, -7.575799942016602, -7.575799942016602, -7.575799942016602, -7.575799942016602, -7.575799942016602, -7.575799942016602, -7.575799942016602, -7.575799942016602, -7.575799942016602, -7.575799942016602, -7.575799942016602, -7.575799942016602, -1.2436000108718872, -2.2172000408172607, -1.6208000183105469, -1.9251999855041504, -1.5234999656677246, -7.36299991607666, -7.36299991607666, -7.36299991607666, -7.36299991607666, -7.36299991607666, -7.36299991607666, -7.36299991607666, -7.36299991607666, -7.36299991607666, -7.36299991607666, -7.36299991607666, -7.36299991607666, -7.36299991607666, -7.36299991607666, -7.36299991607666, -7.36299991607666, -7.36299991607666, -7.36299991607666, -7.36299991607666, -7.36299991607666, -7.36299991607666, -7.36299991607666, -7.36299991607666, -7.36299991607666, -7.36299991607666, -7.36299991607666, -7.36299991607666, -7.36299991607666, -7.36299991607666, -7.36299991607666, -7.36299991607666, -7.36299991607666, -7.36299991607666, -7.36299991607666, -7.36299991607666, -7.36299991607666, -7.36299991607666, -7.36299991607666, -7.36299991607666, -7.36299991607666, -7.36299991607666, -2.1542000770568848, -3.190200090408325, -3.190200090408325, -3.190200090408325, -3.190200090408325, -3.190200090408325, -3.190200090408325, -2.4999001026153564, -2.451200008392334, -2.4999001026153564, -3.190200090408325, -3.190200090408325, -2.4530999660491943, -2.4999001026153564, -3.190200090408325, -3.190200090408325, -3.190200090408325, -8.336000442504883, -8.336000442504883, -8.336000442504883, -8.336000442504883, -8.336000442504883, -8.336000442504883, -8.336000442504883, -8.336000442504883, -8.336000442504883, -8.336000442504883, -8.336000442504883, -8.336000442504883, -8.336000442504883, -8.336000442504883, -8.336000442504883, -8.336000442504883, -8.336000442504883, -8.336000442504883, -8.336000442504883, -8.336000442504883, -1.6246000528335571, -1.7347999811172485, -1.764299988746643, -3.6152000427246094, -2.25, -3.6152000427246094, -3.014400005340576, -1.8171000480651855, -3.6152000427246094, -3.421099901199341, -7.323800086975098, -6.88539981842041, -6.814700126647949, -7.332099914550781, -7.516300201416016, -6.939300060272217, -7.382500171661377, -7.490799903869629, -7.6579999923706055, -6.901000022888184, -7.722799777984619, -7.597499847412109, -6.505199909210205, -7.471700191497803, -6.995999813079834, -7.546899795532227, -8.76099967956543, -8.76099967956543, -8.76099967956543, -8.76099967956543, -6.393799781799316, -6.647600173950195, -6.30709981918335, -6.8267998695373535, -7.458899974822998, -1.844499945640564, -2.0072999000549316, -1.6243000030517578, -2.139400005340576, -1.6234999895095825, -1.8178999423980713, -7.564499855041504, -7.564499855041504, -7.564499855041504, -7.564499855041504, -7.564499855041504, -7.564499855041504, -7.564499855041504, -7.564499855041504, -7.564499855041504, -7.564499855041504, -7.564499855041504, -7.564499855041504, -7.564499855041504, -7.564499855041504, -7.564499855041504, -7.564499855041504, -7.564499855041504, -7.564499855041504, -7.564499855041504, -7.564499855041504, -7.564499855041504, -7.564499855041504, -7.564499855041504, -7.564499855041504, -7.564499855041504, -7.564499855041504, -7.564499855041504, -7.564499855041504, -7.564499855041504, -7.564499855041504, -7.564499855041504, -7.564499855041504, -7.564499855041504, -7.564499855041504, -7.564499855041504, -7.564499855041504, -7.564499855041504, -7.564499855041504, -7.564499855041504, -7.564499855041504, -7.564499855041504, -1.2288000583648682, -2.4732000827789307, -2.4732000827789307, -1.7497999668121338, -2.178100109100342, -2.4732000827789307, -1.9919999837875366, -7.61899995803833, -7.61899995803833, -7.61899995803833, -7.61899995803833, -7.61899995803833, -7.61899995803833, -7.61899995803833, -7.61899995803833, -7.61899995803833, -7.61899995803833, -7.61899995803833, -7.61899995803833, -7.61899995803833, -7.61899995803833, -7.61899995803833, -7.61899995803833, -7.61899995803833, -7.61899995803833, -7.61899995803833, -7.61899995803833, -7.61899995803833, -7.61899995803833, -7.61899995803833, -7.61899995803833, -7.61899995803833, -7.61899995803833, -7.61899995803833, -7.61899995803833, -7.61899995803833, -7.61899995803833, -7.61899995803833, -7.61899995803833, -7.61899995803833, -7.61899995803833, -7.61899995803833, -7.61899995803833, -7.61899995803833, -7.61899995803833, -7.61899995803833, -1.3183000087738037, -1.9960999488830566, -2.337100028991699, -3.3113999366760254, -1.6468000411987305, -2.337100028991699, -2.703700065612793, -3.3113999366760254, -3.3113999366760254, -7.482900142669678, -7.482900142669678, -7.482900142669678, -7.482900142669678, -7.482900142669678, -7.482900142669678, -7.482900142669678, -7.482900142669678, -7.482900142669678, -7.482900142669678, -7.482900142669678, -7.482900142669678, -7.482900142669678, -7.482900142669678, -7.482900142669678, -7.482900142669678, -7.482900142669678, -7.482900142669678, -7.482900142669678, -7.482900142669678, -7.482900142669678, -7.482900142669678, -7.482900142669678, -7.482900142669678, -7.482900142669678, -7.482900142669678, -7.482900142669678, -7.482900142669678, -7.482900142669678, -7.482900142669678, -7.482900142669678, -7.482900142669678, -7.482900142669678, -7.482900142669678, -7.482900142669678, -3.216900110244751, -3.216900110244751, -3.216900110244751, -3.216900110244751, -2.1222000122070312, -3.216900110244751, -3.216900110244751, -2.1222000122070312, -3.216900110244751, -2.1222000122070312, -2.526599884033203, -3.216900110244751, -3.216900110244751, -3.216900110244751, -3.216900110244751, -4.951900005340576, -4.951900005340576, -3.216900110244751, -3.216900110244751, -4.275400161743164, -8.362700462341309, -8.362700462341309, -8.362700462341309, -8.362700462341309, -8.362700462341309, -8.362700462341309, -8.362700462341309, -8.362700462341309, -8.362700462341309, -8.362700462341309, -8.362700462341309, -8.362700462341309, -8.362700462341309, -8.362700462341309, -8.362700462341309, -8.362700462341309, -8.362700462341309, -8.362700462341309, -1.7998000383377075, -2.3868000507354736, -3.5729000568389893, -3.5729000568389893, -3.5729000568389893, -3.255000114440918, -2.882699966430664, -1.9539999961853027, -3.5729000568389893, -2.183300018310547, -3.43149995803833, -3.5729000568389893, -3.5729000568389893, -2.7829999923706055, -3.3714001178741455, -2.811800003051758, -3.5729000568389893, -8.718700408935547, -8.718700408935547, -8.718700408935547, -8.718700408935547, -8.718700408935547, -8.718700408935547, -8.718700408935547, -8.718700408935547, -8.718700408935547, -8.718700408935547, -8.718700408935547, -8.718700408935547, -8.718700408935547, -8.718700408935547, -8.718700408935547, -8.718700408935547, -8.718700408935547, -8.718700408935547, -8.718700408935547, -8.718700408935547, -8.718700408935547, -4.248499870300293, -4.248499870300293, -4.248499870300293, -4.248499870300293, -4.248499870300293, -4.248499870300293, -4.248499870300293, -4.248499870300293, -4.248499870300293, -4.248499870300293, -4.248499870300293, -4.248499870300293, -4.248499870300293, -4.248499870300293, -4.248499870300293, -4.248499870300293, -4.248499870300293, -4.248499870300293, -4.248499870300293, -4.248499870300293, -4.248499870300293, -4.248499870300293, -4.248499870300293, -4.248499870300293, -4.248499870300293, -4.248499870300293, -4.248499870300293, -4.248499870300293, -4.248499870300293, -4.248499870300293, -4.248499870300293, -4.248499870300293, -4.248499870300293, -4.248499870300293, -4.248499870300293, -4.248499870300293, -4.248499870300293, -4.248499870300293, -4.248499870300293, -4.248499870300293, -4.248499870300293, -4.248499870300293, -4.248499870300293, -4.248499870300293, -4.248499870300293, -4.248499870300293, -4.248499870300293, -4.248499870300293, -4.248499870300293, -1.513700008392334, -2.4091999530792236, -3.009999990463257, -3.009999990463257, -3.009999990463257, -3.009999990463257, -3.009999990463257, -3.009999990463257, -2.4091999530792236, -3.009999990463257, -2.4091999530792236, -2.3071999549865723, -3.009999990463257, -8.155799865722656, -8.155799865722656, -8.155799865722656, -8.155799865722656, -8.155799865722656, -8.155799865722656, -8.155799865722656, -8.155799865722656, -8.155799865722656, -8.155799865722656, -8.155799865722656, -8.155799865722656, -8.155799865722656, -8.155799865722656, -8.155799865722656, -8.155799865722656, -8.155799865722656, -8.155799865722656, -8.155799865722656, -8.155799865722656, -8.155799865722656, -8.155799865722656, -8.155799865722656, -8.155799865722656, -8.155799865722656, -8.155799865722656, -8.155799865722656, -8.155799865722656, -1.8223999738693237, -2.512700080871582, -2.512700080871582, -2.512700080871582, -2.512700080871582, -2.512700080871582, -2.512700080871582, -2.512700080871582, -2.512700080871582, -2.512700080871582, -2.512700080871582, -7.6585001945495605, -7.6585001945495605, -7.6585001945495605, -7.6585001945495605, -7.6585001945495605, -7.6585001945495605, -7.6585001945495605, -7.6585001945495605, -7.6585001945495605, -7.6585001945495605, -7.6585001945495605, -7.6585001945495605, -7.6585001945495605, -7.6585001945495605, -7.6585001945495605, -7.6585001945495605, -7.6585001945495605, -7.6585001945495605, -7.6585001945495605, -7.6585001945495605, -7.6585001945495605, -7.6585001945495605, -7.6585001945495605, -7.6585001945495605, -7.6585001945495605, -7.6585001945495605, -7.6585001945495605, -7.6585001945495605, -7.6585001945495605, -7.6585001945495605, -7.6585001945495605], \"loglift\": [30.0, 29.0, 28.0, 27.0, 26.0, 25.0, 24.0, 23.0, 22.0, 21.0, 20.0, 19.0, 18.0, 17.0, 16.0, 15.0, 14.0, 13.0, 12.0, 11.0, 10.0, 9.0, 8.0, 7.0, 6.0, 5.0, 4.0, 3.0, 2.0, 1.0, 3.2455, 2.4941, 1.7612, 1.7194, 1.0199, 0.3154, 0.0276, -0.1051, -1.2108, -1.5593, -2.0161, -2.3145, -2.3256, -2.4069, -2.4392, -2.4497, -2.5574, -2.5768, -2.5894, -2.643, -2.6742, -2.7023, -2.7134, -2.7336, -2.7494, -2.7589, -2.7729, -2.7958, -2.7965, -2.8078, -2.8832, -4.0909, -3.7953, -4.0963, -3.0812, -3.0886, -4.7084, -3.485, -3.2253, -5.1866, -3.2679, -4.7612, -5.0969, 1.9987, 1.7157, 1.259, 1.2362, 1.1072, -1.8389, -1.8499, -1.9635, -1.974, -2.0817, -2.1012, -2.1137, -2.1673, -2.1985, -2.2266, -2.2377, -2.2579, -2.2738, -2.2832, -2.2973, -2.3201, -2.3208, -2.3321, -2.3466, -2.3546, -2.3609, -2.3981, -2.4315, -2.4678, -2.4937, -3.6153, -2.6129, -2.6056, -3.6206, -3.878, -3.0093, -3.3196, -3.981, -4.2328, -2.5401, -4.7109, -2.7922, -4.2855, -4.0485, -3.1384, -3.3186, -4.545, 2.5481, 2.1995, 2.0372, 1.828, 1.5609, 1.0784, 1.0689, 1.0447, 1.0413, 0.9107, 0.8027, 0.7958, 0.7774, 0.7142, 0.52, 0.3773, -0.1085, -0.1469, -1.1973, -1.5838, -1.6568, -2.5866, -2.7113, -2.7218, -2.8295, -2.8489, -2.8615, -2.9151, -2.9743, -2.9855, -3.3533, -3.4973, -3.3607, -4.363, -4.9805, -3.7571, -3.045, 3.2685, 1.983, 1.7826, 1.3862, 1.3526, 1.2938, 0.8155, 0.7992, 0.7419, 0.6897, 0.4688, 0.0673, -0.2463, -0.3295, -0.3588, -2.6325, -2.6435, -2.7571, -2.7676, -2.8948, -2.9073, -2.9609, -2.9921, -3.0202, -3.0314, -3.0515, -3.0674, -3.0768, -3.0909, -3.1138, -4.1133, -3.4066, -4.7746, -4.6717, -4.4143, -3.3992, -3.5432, -4.4089, -4.8372, -3.1482, 3.1952, 2.8154, 1.1844, 0.6877, 0.3177, -2.2932, -2.3042, -2.4178, -2.4283, -2.536, -2.5555, -2.568, -2.6216, -2.6528, -2.6809, -2.692, -2.7122, -2.7281, -2.7375, -2.7516, -2.7744, -2.7751, -2.7864, -2.8009, -2.8089, -2.8152, -2.8524, -2.8858, -2.9221, -2.948, -4.6871, -4.0696, -3.0672, -3.0599, -4.3323, -4.4353, -3.4636, -3.2039, -2.9944, -5.1652, -3.2465, -4.7398, -5.3298, -4.5028, -3.5927, -3.7729, -4.9993, 1.9139, 1.8978, 1.7881, 1.69, 1.5154, 1.5108, 1.4049, 1.162, 1.1175, 0.8954, 0.8442, 0.8332, 0.7859, 0.7837, 0.7091, 0.5915, 0.5819, 0.5694, 0.5158, 0.4937, 0.4846, 0.4565, 0.4454, 0.4252, 0.415, 0.4093, 0.3999, 0.3858, 0.351, 0.3365, -0.4365, -0.4489, -0.8095, -0.8804, -0.9349, -0.9322, -0.6366, -1.0007, -0.9375, 0.0775, 0.0702, -0.9561, -0.6356, 2.1488, 1.4008, 1.2261, 1.1319, 1.1089, 1.0961, 0.9944, 0.5788, 0.4978, 0.117, -0.0471, -0.2336, -0.5176, -0.6138, -1.9846, -3.2252, -3.249, -3.4165, -3.4276, -3.5412, -3.5517, -3.6594, -3.6788, -3.6914, -3.7762, -3.8043, -3.8154, -3.8356, -3.8514, -3.8609, -4.8973, -5.1983, -4.1832, -5.5586, -4.587, -3.8749, -3.9322, -4.3698, 2.1105, 1.9181, 1.9181, 1.7997, 1.5975, 1.5613, 1.5528, 1.5386, 1.303, 1.1422, 0.9997, 0.9795, 0.8855, 0.8619, 0.8614, 0.742, 0.6956, 0.694, 0.3464, 0.2795, 0.1941, 0.1047, 0.0266, -0.1723, -0.3803, -0.7387, -2.0384, -2.3866, -3.0899, -3.1009, -4.8902, -4.7383, 3.5365, 2.2223, 2.0673, 2.0522, 1.9663, 1.7832, 1.095, 0.9505, 0.81, 0.4356, 0.4056, 0.2833, 0.2034, 0.0399, -0.0784, -0.4252, -0.5241, -2.9638, -2.9748, -3.0989, -3.2066, -3.2261, -3.2386, -3.2922, -3.3234, -3.3515, -3.3828, -3.3987, -3.4081, -3.445, -3.7305, -3.7378, -5.0029, -4.7455, -4.4445, -3.4795, -4.1342, -3.8745, -3.457, 1.4802, 1.4691, 1.3555, 1.345, 1.2373, 1.2179, 1.2053, 1.1517, 1.1205, 1.0924, 1.0813, 1.0611, 1.0453, 1.0358, 1.0218, 0.9989, 0.9982, 0.987, 0.9724, 0.9645, 0.9582, 0.9209, 0.8875, 0.8512, 0.8253, 0.779, 0.7495, 0.749, 0.7453, 0.7135, -0.559, -0.9137, -0.2962, 0.7061, -0.3016, -0.0006, -0.6619, -1.2273, -0.7245, 0.3097, 0.5695, 0.1806, -0.3648, -0.3201, -1.226, 0.0004, -0.7295, -1.3022, -1.5564, 2.2589, 2.2063, 2.087, 1.9425, 1.759, 1.7096, 1.5884, 1.4867, 1.3898, 1.1616, 1.0171, 0.78, 0.6767, 0.6115, 0.5689, 0.4574, 0.3285, 0.1702, 0.0753, 0.0355, -0.1643, -0.4075, -2.5543, -2.9284, -3.0531, -3.0636, -3.1713, -3.1907, -3.2569, -3.2881, -5.3751, -3.3273, -4.7734, -3.3633, -4.9676, -4.7287, -4.7102, 2.5434, 2.3599, 2.3026, 1.9075, 1.8053, 1.6359, 1.5124, 1.5051, 1.0419, 0.4244, -0.15, -0.1945, -0.445, -1.1264, -1.2761, -1.6229, -1.6243, -2.3276, -2.3386, -2.4522, -2.4627, -2.5704, -2.5898, -2.656, -2.6872, -2.7153, -2.7264, -2.7466, -2.7624, -2.7719, -2.8208, -3.8073, -3.2809, -4.4696, -3.8083, -5.1996, -4.3667, -3.0288, -4.1093, 1.8836, 1.846, 1.8347, 1.7352, 1.6267, 1.5678, 1.5124, 1.3697, 1.2548, 1.2364, 1.1456, 1.0284, 0.8472, 0.5515, 0.3625, 0.2725, -0.0184, -0.0313, -0.0405, -0.066, -0.3443, -0.373, -0.3796, -0.6194, -1.1884, -2.8179, -2.8289, -2.9425, -2.953, -3.0607, -3.1647, -3.9883, -4.6628, -4.2976, -5.524, 2.8672, 2.0069, 1.8649, 1.6809, 1.5862, 1.493, 1.4099, 1.0864, 0.8814, 0.7898, 0.5711, 0.5189, 0.277, 0.2022, 0.0175, -0.1414, -0.6381, -0.6497, -0.7031, -0.9506, -0.9692, -1.0138, -1.0539, -1.5341, -1.8273, -1.9159, -2.2508, -2.4296, -2.5907, -2.7043, -3.5515, -3.0954, 2.1825, 1.846, 1.7485, 1.4786, 1.2531, 1.2395, 1.1966, 1.0094, 0.8259, 0.8041, 0.8002, 0.5585, 0.5464, 0.4995, 0.476, 0.2912, 0.2851, 0.2821, 0.1588, -0.0253, -0.1632, -0.2068, -0.5078, -0.5241, -1.2157, -1.2157, -1.5395, -1.6582, -1.7998, -1.8915, -2.0527, -2.155, -2.5842, 1.4802, 1.4691, 1.3555, 1.345, 1.2373, 1.2179, 1.2053, 1.1517, 1.1205, 1.0924, 1.0813, 1.0611, 1.0453, 1.0358, 1.0218, 0.9989, 0.9982, 0.987, 0.9724, 0.9645, 0.9582, 0.9209, 0.8875, 0.8512, 0.8253, 0.779, 0.7495, 0.749, 0.7453, 0.7135, -0.559, -0.9137, -0.2962, 0.7061, -0.3016, -0.0006, -0.6619, -1.2273, -0.7245, 0.3097, 0.5695, 0.1806, -0.3648, -0.3201, -1.226, 0.0004, -0.7295, -1.3022, -1.5564, 3.0916, 1.9013, 1.8117, 1.4354, 1.3401, 1.271, 1.199, 0.9535, 0.6777, 0.4761, -0.0995, -1.4468, -1.6704, -1.9228, -2.4289, -2.44, -2.5536, -2.5641, -2.6718, -2.6912, -2.7038, -2.7574, -2.7886, -2.8166, -2.8278, -2.848, -2.8638, -2.8733, -2.8873, -2.9102, -4.2053, -4.571, -3.1956, -3.203, -4.8228, -3.3396, -2.9446, -3.3822, -4.8756, -5.2113, -3.7285, 1.7953, 1.6033, 1.0705, 0.8181, 0.7915, 0.7805, 0.6669, 0.6564, 0.6512, 0.5487, 0.5292, 0.5167, 0.4631, 0.4319, 0.4038, 0.3927, 0.3725, 0.3566, 0.3472, 0.3331, 0.3103, 0.3096, 0.2983, 0.2838, 0.2758, 0.2695, 0.2323, 0.1988, 0.1626, 0.1366, -1.2477, -0.9849, 0.0175, 0.0248, -0.9902, -0.6893, -0.3789, -1.3506, -1.6024, -0.1192, 0.0903, -2.0806, -0.1618, -1.6552, -2.2451, -1.4181, -0.508, 1.4802, 1.4691, 1.3555, 1.345, 1.2373, 1.2179, 1.2053, 1.1517, 1.1205, 1.0924, 1.0813, 1.0611, 1.0453, 1.0358, 1.0218, 0.9989, 0.9982, 0.987, 0.9724, 0.9645, 0.9582, 0.9209, 0.8875, 0.8512, 0.8253, 0.779, 0.7495, 0.749, 0.7453, 0.7135, -0.559, -0.9137, -0.2962, 0.7061, -0.3016, -0.0006, -0.6619, -1.2273, -0.7245, 0.3097, 0.5695, 0.1806, -0.3648, -0.3201, -1.226, 0.0004, -0.7295, -1.3022, -1.5564, 2.2517, 1.5961, 1.5891, 1.2267, 1.1895, 1.0089, 0.9177, 0.8417, 0.7928, 0.711, 0.6898, 0.6833, 0.6733, 0.6058, 0.5459, 0.5286, 0.5276, 0.5112, 0.501, 0.4674, 0.4647, 0.3719, -0.024, -0.0241, -0.0281, -0.1016, -0.1798, -0.196, -0.2238, -0.3692, -0.3761, -0.7278, -0.9142, -1.4569, 2.1221, 2.1133, 1.8842, 1.3101, 1.3066, 1.2216, 0.9245, 0.8569, 0.2842, 0.1945, 0.03, -2.0792, -2.0903, -2.2039, -2.2144, -2.3221, -2.3415, -2.3541, -2.4077, -2.4389, -2.467, -2.4781, -2.4983, -2.5141, -2.5236, -2.5376, -2.5605, -2.5612, -2.5724, -2.587, -3.56, -3.8556, -4.7867, -3.861, -2.8459, -2.8533, -2.9899, -4.4731, -3.2497, -2.7804, -2.5949, -3.3788, -3.559, 2.7358, 2.5271, 2.084, 1.8926, 1.7463, 1.6538, 0.9587, 0.5503, 0.4523, 0.2977, 0.2103, -0.3062, -2.4888, -2.4999, -2.6135, -2.624, -2.7317, -2.7511, -2.7637, -2.8173, -2.8485, -2.8765, -2.8877, -2.9079, -2.9237, -2.9332, -2.9472, -2.9701, -2.9708, -2.982, -4.2652, -4.2706, -3.9696, -4.6309, -3.2555, -3.2629, -4.8827, -3.6593, -3.0045, -3.4421, -5.2712, -4.6985, 2.6119, 2.516, 2.4962, 2.4505, 2.3609, 2.3395, 1.6103, 1.2415, 0.7668, 0.1586, -0.4287, -0.6639, -2.8684, -2.8794, -2.993, -3.0035, -3.1112, -3.1307, -3.1432, -3.1968, -3.228, -3.2672, -3.2874, -3.3033, -3.3127, -3.3268, -3.3496, -3.3503, -3.3616, -3.3761, -4.3492, -4.6448, -5.5759, -3.6424, -5.0105, -4.0388, -4.6501, -5.2623, -3.3841, -5.0731, -3.8217, -5.905, -5.078, 3.6744, 2.0639, 1.2908, 0.9704, 0.9635, 0.8304, 0.8221, 0.722, -2.6235, -2.6345, -2.7481, -2.7586, -2.8663, -2.8858, -2.8983, -2.9519, -2.9831, -3.0112, -3.0223, -3.0425, -3.0584, -3.0678, -3.1047, -3.1054, -3.1167, -3.1312, -3.1392, -3.1455, -3.1827, -3.2162, -4.4052, -3.3975, -3.3902, -4.6627, -4.1043, -4.7656, -5.331, -4.3999, -3.5342, -3.7939, -3.3247, -3.5768, -5.0702, -4.8331, -3.923, 1.6008, 1.5444, 1.4619, 1.4021, 1.3047, 1.2858, 1.2282, 1.2054, 1.1387, 1.1194, 1.1154, 1.0473, 0.9445, 0.9178, 0.8977, 0.8871, 0.8356, 0.8227, 0.8083, 0.7564, 0.7279, 0.6591, 0.5558, 0.4825, 0.3513, 0.3074, 0.2843, 0.263, 0.2564, 0.1068, 0.1022, -0.0232, -0.3722, -0.0586, -0.6833, -0.7683, -0.6927, -0.8836, -0.2132, 1.4802, 1.4691, 1.3555, 1.345, 1.2373, 1.2179, 1.2053, 1.1517, 1.1205, 1.0924, 1.0813, 1.0611, 1.0453, 1.0358, 1.0218, 0.9989, 0.9982, 0.987, 0.9724, 0.9645, 0.9582, 0.9209, 0.8875, 0.8512, 0.8253, 0.779, 0.7495, 0.749, 0.7453, 0.7135, -0.559, -0.9137, -0.2962, 0.7061, -0.3016, -0.0006, -0.6619, -1.2273, -0.7245, 0.3097, 0.5695, 0.1806, -0.3648, -0.3201, -1.226, 0.0004, -0.7295, -1.3022, -1.5564, 3.3075, 2.9187, 2.227, 1.7474, 1.0975, 1.0239, 0.6513, -0.0161, -0.1807, -2.2899, -2.3009, -2.4145, -2.425, -2.5327, -2.5522, -2.5647, -2.6183, -2.6495, -2.6776, -2.6887, -2.7089, -2.7248, -2.7342, -2.7483, -2.7711, -2.7718, -2.7831, -2.7976, -2.8056, -2.8491, -3.0566, -4.0716, -4.329, -4.0663, -3.7706, -4.4319, -3.0639, -4.6838, -3.4603, -2.9911, -3.2432, -5.0722, -4.4995, -3.5894, 2.14, 2.0893, 1.8104, 1.5109, 1.2111, 1.2017, 1.1641, 1.1528, 1.0942, 1.0368, 1.0367, 0.9149, 0.872, 0.8688, 0.7383, 0.6927, 0.6701, 0.4192, 0.3253, 0.2654, -0.0312, -0.0391, -0.0487, -0.1174, -0.1304, -0.1543, -0.2025, -0.3404, -0.3754, -0.6482, -0.6587, -0.7462, 1.4802, 1.4691, 1.3555, 1.345, 1.2373, 1.2179, 1.2053, 1.1517, 1.1205, 1.0924, 1.0813, 1.0611, 1.0453, 1.0358, 1.0218, 0.9989, 0.9982, 0.987, 0.9724, 0.9645, 0.9582, 0.9209, 0.8875, 0.8512, 0.8253, 0.779, 0.7495, 0.749, 0.7453, 0.7135, -0.559, -0.9137, -0.2962, 0.7061, -0.3016, -0.0006, -0.6619, -1.2273, -0.7245, 0.3097, 0.5695, 0.1806, -0.3648, -0.3201, -1.226, 0.0004, -0.7295, -1.3022, -1.5564, 2.5414, 2.2636, 2.1376, 1.9341, 1.7558, 1.7251, 1.2185, 1.046, 0.9631, 0.9297, 0.7809, 0.3559, 0.1779, 0.0979, 0.0867, -0.0072, -0.1482, -0.5745, -0.8151, -3.2548, -3.2659, -3.3795, -3.4977, -3.5171, -3.5297, -3.5833, -3.6145, -3.6425, -3.6537, -3.6739, -4.0289, -5.0366, -3.6897, -4.7356, -4.1655, -5.0312, -4.4253, -3.7132, -3.7705, 3.5725, 2.7188, 2.2976, 1.7981, 1.3388, 0.9426, 0.4218, -2.2317, -2.2428, -2.3564, -2.3668, -2.4746, -2.5066, -2.5602, -2.5914, -2.6194, -2.6306, -2.6508, -2.6666, -2.6761, -2.6901, -2.713, -2.7137, -2.7249, -2.7394, -2.7537, -2.791, -2.8244, -2.8607, -2.8866, -4.6256, -4.9392, -4.3738, -3.7125, -4.2709, -4.0135, -2.9984, -3.0058, -4.0767, -3.4022, -3.1424, -2.9329, -4.032, -3.185, -4.6784, -5.2683, 3.4234, 2.9613, 2.0648, 1.5288, 1.4588, 1.0804, 1.0624, 0.7886, 0.6081, -1.9106, -1.9216, -2.0352, -2.0457, -2.1534, -2.1729, -2.1854, -2.239, -2.2702, -2.2983, -2.3094, -2.3296, -2.3455, -2.3549, -2.369, -2.3925, -2.4038, -2.4183, -2.4263, -2.4326, -2.4698, -4.6181, -4.0527, -3.3913, -3.9497, -3.6923, -2.6773, -2.6846, -4.3045, -2.8213, -2.6118, -4.7826, -2.8639, -4.9472, -4.6929, 2.6904, 2.3667, 2.2803, 1.4817, 1.3203, 1.0317, 0.6667, 0.1413, -0.0572, -2.9403, -2.9514, -3.065, -3.0755, -3.1832, -3.2026, -3.2152, -3.2688, -3.3, -3.328, -3.3392, -3.3594, -3.3752, -3.3847, -3.3987, -3.4216, -3.4223, -3.4335, -3.4481, -3.456, -3.4623, -3.7144, -3.707, -4.7221, -4.4211, -5.0824, -5.6478, -5.3342, -3.851, -4.1108, -5.145, -3.8936, -5.387, -5.15, -4.2399, 2.1469, 1.9984, 1.9874, 1.5819, 1.1097, 0.598, 0.4531, 0.2854, 0.2116, 0.1705, 0.1521, 0.0954, -0.1053, -3.2119, -3.223, -3.3366, -3.3471, -3.4548, -3.4742, -3.4868, -3.5404, -3.5716, -3.6108, -3.631, -3.6468, -3.6563, -3.6703, -3.6932, -3.6939, -3.7052, -5.6058, -5.354, -3.9786, -3.986, -4.9883, -4.3824, -3.7276, -6.084, -4.1653, -5.6586, 2.6536, 1.592, 1.3266, 1.2332, 1.118, 0.9622, 0.9573, 0.9341, 0.8507, 0.8343, 0.75, 0.6889, 0.5715, 0.2168, 0.1326, 0.1202, 0.1017, 0.0744, 0.0585, -0.0233, -0.1218, -0.2018, -0.2614, -0.2842, -0.5262, -0.5447, -0.8658, -1.578, -3.2253, -3.2364, -3.992, -3.3605, 2.3628, 2.229, 1.849, 1.848, 1.7332, 1.4899, 1.4386, 1.252, 1.2091, 1.0552, 0.9799, 0.9314, 0.9156, 0.674, 0.5453, 0.4719, 0.1828, 0.1178, -0.133, -0.3061, -0.3446, -0.9257, -1.9615, -3.1627, -3.1737, -3.2873, -3.4055, -3.425, -3.4375, -3.4911, -3.6784, -4.0734, -5.0076, -3.5615, -3.5976, -3.6847, -4.9444, 3.0944, 3.0061, 1.9658, 1.9094, 1.7123, 1.4394, 1.1204, -2.2332, -2.2443, -2.3579, -2.3684, -2.4761, -2.4955, -2.5081, -2.5617, -2.5929, -2.621, -2.6321, -2.6681, -2.6776, -2.6916, -2.7145, -2.7152, -2.7264, -2.741, -2.7489, -2.7552, -2.7925, -2.8259, -2.8622, -4.0096, -3.0073, -2.9999, -3.4037, -3.714, -4.3753, -4.9407, -4.6271, -3.1439, -4.4379, -5.1053, -3.1865, -5.0156, -4.4429, -3.5328, -3.713, 2.3954, 1.5691, 1.4601, 1.3612, 1.1311, 0.9517, -2.052, -2.0631, -2.1767, -2.1872, -2.2949, -2.3143, -2.3269, -2.3805, -2.4117, -2.4397, -2.4509, -2.4711, -2.4869, -2.4964, -2.5104, -2.5333, -2.534, -2.5452, -2.5598, -2.5677, -2.574, -2.6113, -2.6447, -2.681, -3.8284, -2.8261, -2.8187, -3.8338, -4.0912, -3.2225, -3.5328, -4.1941, -4.4459, -2.9627, -2.7532, -4.9241, -3.0053, -4.8344, -4.2617, -3.3516, -3.5318, 2.979, 2.4324, 2.3138, 1.5587, 1.1185, 0.7525, 0.72, 0.3173, -2.5476, -2.5586, -2.6722, -2.6827, -2.7904, -2.8099, -2.8224, -2.876, -2.9072, -2.9353, -2.9464, -2.9666, -2.9825, -2.9919, -3.006, -3.0288, -3.0295, -3.0408, -3.0553, -3.0633, -3.0696, -3.1068, -4.6897, -4.9415, -4.0284, -4.5868, -4.3293, -3.3216, -4.324, -3.718, -3.2488, -3.4583, -3.5009, -4.9943, -5.5842, -5.3299, -4.7572, 2.9739, 2.4774, 2.2297, 2.1667, 2.0848, 1.9241, 1.9231, 1.839, 1.0261, 0.9763, 0.9579, 0.9328, 0.5578, -2.4061, -2.4172, -2.5308, -2.5413, -2.649, -2.681, -2.7346, -2.7658, -2.7939, -2.805, -2.8252, -2.841, -2.8505, -2.8645, -2.8874, -2.8881, -2.8994, -4.4453, -3.8869, -3.1728, -3.1802, -4.1825, -4.8, -3.5766, -3.3168, -2.9218, -5.1136, -3.3595, -4.8528, 1.4802, 1.4691, 1.3555, 1.345, 1.2373, 1.2179, 1.2053, 1.1517, 1.1205, 1.0924, 1.0813, 1.0611, 1.0453, 1.0358, 1.0218, 0.9989, 0.9982, 0.987, 0.9724, 0.9645, 0.9582, 0.9209, 0.8875, 0.8512, 0.8253, 0.779, 0.7495, 0.749, 0.7453, 0.7135, -0.559, -0.9137, -0.2962, 0.7061, -0.3016, -0.0006, -0.6619, -1.2273, -0.7245, 0.3097, 0.5695, 0.1806, -0.3648, -0.3201, -1.226, 0.0004, -0.7295, -1.3022, -1.5564, 2.3223, 2.2295, 1.6481, 1.6002, 1.5549, 1.2526, 0.7248, 0.6827, 0.5788, 0.5459, 0.522, 0.4773, 0.4044, 0.2391, 0.2225, 0.1322, -0.1081, -0.2056, -0.3923, -0.5521, -0.9306, -1.5548, -1.6174, -1.6224, -2.8346, -2.9482, -2.9587, -3.0664, -3.0858, -3.0984, -3.7342, -4.3033, -3.2224, -3.2584, -4.8627, -4.6053, 3.075, 2.4718, 1.961, 1.9164, 1.4448, 1.2748, 0.6334, -1.8551, -1.8662, -1.9798, -1.9903, -2.098, -2.1174, -2.13, -2.1836, -2.2148, -2.2428, -2.254, -2.2742, -2.29, -2.2995, -2.3135, -2.3364, -2.3371, -2.3483, -2.3628, -2.3708, -2.3771, -2.4144, -2.4478, -3.6315, -2.6292, -2.6218, -3.6369, -3.3359, -3.8943, -3.0256, -3.9972, -4.5626, -4.249, -2.7658, -2.5563, -2.8084, -4.8917, -4.6375, 3.0177, 2.2086, 2.1884, 1.6541, 1.4975, 1.4337, 1.3298, 0.6952, 0.4654, 0.2482, 0.2136, 0.1608, 0.0382, -0.1, -0.1811, -0.407, -2.5383, -2.5494, -2.663, -2.6735, -2.7812, -2.8006, -2.8132, -2.8668, -2.898, -2.9261, -2.9732, -2.9827, -2.9967, -3.0196, -4.3833, -4.3386, -4.0191, -3.0603, -4.0181, -4.5775, -4.3201, -3.8379, -3.305, -3.3124, -4.3147, 2.0693, 1.8717, 1.2723, 1.1919, 1.0378, 0.9479, 0.8683, 0.4483, 0.2657, 0.1495, 0.0618, -0.0261, -0.0345, -0.2868, -0.3194, -0.8044, -0.9849, -1.0859, -1.1752, -1.4836, -1.515, -1.587, -1.9074, -1.9207, -2.1965, -2.9149, -2.9375, -2.9486, -3.0622, -3.0727, -3.4595, -3.3724, -4.9767, -4.7193, 1.4802, 1.4691, 1.3555, 1.345, 1.2373, 1.2179, 1.2053, 1.1517, 1.1205, 1.0924, 1.0813, 1.0611, 1.0453, 1.0358, 1.0218, 0.9989, 0.9982, 0.987, 0.9724, 0.9645, 0.9582, 0.9209, 0.8875, 0.8512, 0.8253, 0.779, 0.7495, 0.749, 0.7453, 0.7135, -0.559, -0.9137, -0.2962, 0.7061, -0.3016, -0.0006, -0.6619, -1.2273, -0.7245, 0.3097, 0.5695, 0.1806, -0.3648, -0.3201, -1.226, 0.0004, -0.7295, -1.3022, -1.5564, 1.4802, 1.4691, 1.3555, 1.345, 1.2373, 1.2179, 1.2053, 1.1517, 1.1205, 1.0924, 1.0813, 1.0611, 1.0453, 1.0358, 1.0218, 0.9989, 0.9982, 0.987, 0.9724, 0.9645, 0.9582, 0.9209, 0.8875, 0.8512, 0.8253, 0.779, 0.7495, 0.749, 0.7453, 0.7135, -0.559, -0.9137, -0.2962, 0.7061, -0.3016, -0.0006, -0.6619, -1.2273, -0.7245, 0.3097, 0.5695, 0.1806, -0.3648, -0.3201, -1.226, 0.0004, -0.7295, -1.3022, -1.5564, 2.1765, 2.033, 1.8197, 1.2665, 0.924, 0.6449, 0.6231, 0.6143, 0.6117, 0.2627, 0.245, -0.1458, -0.2455, -0.4735, -1.7281, -2.741, -2.752, -2.8656, -2.8761, -2.9838, -3.0033, -3.0158, -3.0694, -3.1006, -3.1287, -3.1398, -3.16, -3.1759, -3.1853, -3.1994, -3.515, -4.7802, -4.5859, -3.5077, -4.5174, -3.263, -3.9114, -3.2342, -3.6517, -3.2567, 1.9275, 1.7657, 1.6853, 1.6474, 1.469, 1.4538, 1.378, 1.3073, 1.2845, 1.1128, 1.0981, 0.9726, 0.8132, 0.8006, 0.7333, 0.6208, 0.5428, 0.5329, 0.4828, 0.3728, 0.3406, 0.2808, 0.266, 0.1969, 0.1506, 0.1476, -0.0394, -0.0475, -0.156, -0.4446, -0.541, -0.9414, -1.0132, -0.9507, 3.4214, 2.4405, 1.9646, 1.3946, 1.1407, 1.0936, 0.5032, 0.093, 0.0033, -2.2705, -2.2815, -2.3951, -2.4056, -2.5133, -2.5328, -2.5453, -2.5989, -2.6301, -2.6582, -2.6693, -2.6895, -2.7148, -2.7289, -2.7517, -2.7524, -2.7637, -2.7782, -2.7862, -2.7925, -2.8297, -3.57, -3.0445, -4.4752, -4.1154, -4.4126, -4.0708, -4.3096, -3.0372, -4.0469, -4.4801, -4.6644, -3.4409, -2.9717, 1.4802, 1.4691, 1.3555, 1.345, 1.2373, 1.2179, 1.2053, 1.1517, 1.1205, 1.0924, 1.0813, 1.0611, 1.0453, 1.0358, 1.0218, 0.9989, 0.9982, 0.987, 0.9724, 0.9645, 0.9582, 0.9209, 0.8875, 0.8512, 0.8253, 0.779, 0.7495, 0.749, 0.7453, 0.7135, -0.559, -0.9137, -0.2962, 0.7061, -0.3016, -0.0006, -0.6619, -1.2273, -0.7245, 0.3097, 0.5695, 0.1806, -0.3648, -0.3201, -1.226, 0.0004, -0.7295, -1.3022, -1.5564, 1.4802, 1.4691, 1.3555, 1.345, 1.2373, 1.2179, 1.2053, 1.1517, 1.1205, 1.0924, 1.0813, 1.0611, 1.0453, 1.0358, 1.0218, 0.9989, 0.9982, 0.987, 0.9724, 0.9645, 0.9582, 0.9209, 0.8875, 0.8512, 0.8253, 0.779, 0.7495, 0.749, 0.7453, 0.7135, -0.559, -0.9137, -0.2962, 0.7061, -0.3016, -0.0006, -0.6619, -1.2273, -0.7245, 0.3097, 0.5695, 0.1806, -0.3648, -0.3201, -1.226, 0.0004, -0.7295, -1.3022, -1.5564, 2.1418, 2.1152, 1.8143, 1.466, 1.1493, 0.8899, 0.6894, 0.6454, -0.0975, -0.6801, -0.6967, -0.7531, -0.9007, -1.1982, -1.222, -1.5498, -1.5608, -1.6166, -1.6744, -1.6849, -1.7926, -1.8121, -1.8246, -1.8782, -1.9094, -1.9375, -1.9486, -1.9688, -1.9847, -1.9941, -2.3238, -2.3165, -2.0082, -3.3262, -3.9437, -2.7202, -2.4605, -4.4219, -2.5031, -4.3322, 2.3518, 2.0508, 1.9264, 1.8328, 1.6291, 1.6059, 1.5502, 1.5077, 1.4347, 1.3691, 1.2606, 0.7603, 0.4824, 0.3214, 0.098, -0.2171, -0.242, -0.3124, -0.3304, -0.5127, -3.2886, -3.4022, -3.4127, -3.5205, -3.5524, -3.606, -3.6372, -3.6653, -3.6966, -3.7125, -4.0516, -4.7584, -4.448, -5.0594, -4.0443, -3.736, -4.1883, 2.8839, 1.828, 1.7358, 1.5075, 1.4269, 1.2138, 0.8184, 0.7118, 0.6602, 0.6409, 0.4559, 0.1913, 0.1367, 0.012, -0.0257, -0.3142, -0.6988, -1.2841, -1.6774, -2.7276, -2.7387, -2.8523, -2.8628, -2.9899, -3.0025, -3.0561, -3.0873, -3.1154, -3.1265, -3.1467, -4.8697, -4.2084, -3.1625, -3.2496, -4.7668, -4.5094, -4.9373, -3.4943, -5.5997, 2.5259, 2.3244, 2.2867, 2.176, 1.5949, 1.4911, 1.0802, 1.0088, 1.0053, 0.9684, 0.9238, 0.7528, 0.7295, 0.6766, 0.6266, 0.3748, -0.2679, -2.3771, -2.3881, -2.5017, -2.5122, -2.6394, -2.6519, -2.7055, -2.7367, -2.7648, -2.7759, -2.7961, -2.812, -2.8355, -3.1438, -3.1511, -4.1588, -3.5475, -4.1535, -3.8579, -3.2878, -2.8928, 2.045, 1.9976, 1.8669, 1.5424, 1.4186, 1.2929, 1.2849, 0.7435, 0.4459, 0.3556, 0.1941, 0.0731, 0.0415, -0.1666, -0.3044, -0.5361, -1.4994, -2.8996, -2.9106, -3.0242, -3.0347, -3.1424, -3.1619, -3.1744, -3.228, -3.2873, -3.2984, -3.3186, -3.3345, -3.3439, -3.358, -4.07, -3.7161, -4.0998, -3.8103, -3.6736, -3.6663, -4.6813, -4.9387, -4.676, -3.4153, 2.1535, 2.1405, 2.0004, 1.844, 1.7446, 1.6548, 1.6349, 1.465, 1.2265, 1.1112, 1.0729, 1.0622, 1.0096, 0.9027, 0.7273, 0.6824, 0.6821, 0.6542, 0.5656, 0.5492, 0.5292, 0.4736, 0.4643, 0.4052, 0.3713, 0.3087, 0.2388, 0.0928, 0.0352, -0.3593, -0.5805, -0.9379, 2.1162, 2.0849, 2.0782, 1.9051, 1.685, 1.3215, 0.9256, 0.8154, 0.8097, 0.7822, 0.5325, 0.4235, 0.3279, 0.1446, 0.1245, 0.0728, -0.1822, -0.1879, -0.2549, -0.639, -0.8328, -1.0969, -1.1437, -1.3106, -1.3373, -1.3546, -1.4532, -1.5166, -1.5505, -1.635, -1.8105, -1.6681, -1.7078, -1.97, -2.6965, 2.2194, 1.5189, 1.4818, 1.2443, 1.0854, -0.3074, -0.8853, -0.9472, -0.9578, -1.41, -1.4488, -1.5964, -1.7713, -1.8788, -1.8899, -1.953, -2.0035, -2.014, -2.1217, -2.1411, -2.1537, -2.2073, -2.2385, -2.2665, -2.2777, -2.2979, -2.3137, -2.3232, -2.3372, -2.3601, -3.3596, -3.6552, -3.6606, -2.6455, -2.6529, -2.7895, -4.2727, -3.0493, -4.7509, -2.8321, -4.3255, 3.9839, 1.5921, 1.3014, 1.0831, 0.8582, -2.0418, -2.0528, -2.1664, -2.1769, -2.2846, -2.3041, -2.3166, -2.3702, -2.4014, -2.4295, -2.4406, -2.4608, -2.4767, -2.4861, -2.5002, -2.523, -2.5237, -2.535, -2.5495, -2.5575, -2.5638, -2.601, -2.6345, -2.6707, -2.6967, -3.2122, -3.8182, -2.8158, -2.8085, -4.081, -3.5226, -4.7493, -3.8235, -2.9525, -2.743, -2.9951, -4.4885, -5.0784, -4.2514, -3.3413, -3.5216, -4.7479, 2.6778, 2.5025, 2.4755, 1.7258, 1.1861, 0.4186, -2.2235, -2.3715, -2.7161, -2.9003, -3.0426, -3.0537, -3.1673, -3.1778, -3.2855, -3.3049, -3.3175, -3.3711, -3.4023, -3.4304, -3.4617, -3.4775, -3.487, -3.501, -3.5239, -3.5246, -3.5359, -3.5504, -3.5583, -3.5646, -5.825, -4.8876, -4.8429, -5.1847, -5.0818, -4.5224, -3.8093, -3.8167, -4.819, -5.4365, -4.2131, -3.7438, 3.7626, 3.1796, 2.5181, 1.6444, 1.0544, -2.0283, -2.0393, -2.1529, -2.1634, -2.2711, -2.2906, -2.3031, -2.3879, -2.416, -2.4271, -2.4473, -2.4632, -2.4726, -2.4867, -2.5095, -2.5102, -2.5215, -2.536, -2.544, -2.5503, -2.5875, -2.621, -2.6572, -2.6832, -2.7295, -4.1704, -3.5091, -4.0675, -3.81, -4.7358, -2.795, -2.8023, -3.8047, -4.4222, -3.1987, -2.939, -4.9004, -2.9816, -4.8106, -4.2379, -3.3278, -3.5081, 3.8256, 3.8227, 2.923, 1.4946, 1.2857, 0.676, -2.0759, -2.087, -2.2006, -2.2111, -2.3188, -2.3382, -2.3508, -2.4044, -2.4356, -2.4637, -2.4748, -2.5108, -2.5203, -2.5343, -2.5572, -2.5579, -2.5692, -2.5837, -2.5979, -2.6352, -2.6686, -2.7049, -2.7308, -2.8066, -3.5567, -4.1151, -3.2464, -4.218, -4.7834, -2.8426, -2.85, -3.8523, -2.9866, -4.948, -3.0293, -4.5226, -5.1125, -4.2856, -3.3755, -3.5557, -4.7821, 2.2113, 1.6033, 1.3063, 1.1663, 1.0752, 1.0439, 0.917, 0.809, 0.7876, 0.7324, 0.6934, 0.6581, 0.6176, 0.5815, 0.5672, 0.552, 0.5479, 0.4454, 0.422, 0.3858, 0.3845, 0.2942, 0.2912, 0.266, 0.1824, -0.0507, -0.2186, -0.4116, -0.4258, -0.4665, -0.7448, -0.6948, 1.4802, 1.4691, 1.3555, 1.345, 1.2373, 1.2179, 1.2053, 1.1517, 1.1205, 1.0924, 1.0813, 1.0611, 1.0453, 1.0358, 1.0218, 0.9989, 0.9982, 0.987, 0.9724, 0.9645, 0.9582, 0.9209, 0.8875, 0.8512, 0.8253, 0.779, 0.7495, 0.749, 0.7453, 0.7135, -0.559, -0.9137, -0.2962, 0.7061, -0.3016, -0.0006, -0.6619, -1.2273, -0.7245, 0.3097, 0.5695, 0.1806, -0.3648, -0.3201, -1.226, 0.0004, -0.7295, -1.3022, -1.5564, 2.7287, 2.2614, 2.2222, 1.9801, 1.8544, 1.1692, 1.1413, 0.9326, 0.9174, 0.8611, 0.8208, 0.7761, 0.529, 0.4619, 0.1609, 0.005, -0.122, -0.2305, -0.251, -0.3478, -0.448, -0.5805, -2.1307, -2.3625, -2.404, -2.5247, -2.5358, -2.6494, -2.6599, -2.7676, -2.9596, -4.5639, -4.7344, -3.2988, 2.9546, 1.9821, 1.9463, 1.8923, 1.374, 1.015, 0.6944, -1.369, -1.38, -1.4936, -1.5041, -1.6118, -1.6313, -1.6438, -1.6974, -1.7286, -1.7567, -1.7678, -1.788, -1.8039, -1.8133, -1.8274, -1.8502, -1.851, -1.8622, -1.8767, -1.8847, -1.891, -1.9282, -1.9617, -3.4082, -3.1454, -2.1357, -3.1507, -2.5394, -2.8498, -3.5111, -3.7629, -3.5737, -2.2797, -4.2411, -2.3223, -3.8157, -4.1514, -3.5786, -2.6685, 1.9078, 1.8374, 1.8172, 1.7205, 1.6385, 1.5307, 1.5107, 1.4862, 1.3356, 1.3255, 1.1889, 1.0047, 0.9367, 0.7102, 0.4728, 0.4545, 0.219, 0.2, 0.1971, 0.1468, 0.1052, 0.0287, -0.0598, -0.123, -0.6797, -0.8828, -0.9195, -0.9599, -1.1195, -1.1607, -2.1507, -2.0592, -1.4753, -2.011, 1.8213, 1.6836, 1.4557, 1.4529, 1.2506, 1.1792, 1.0607, 1.0557, 1.0297, 0.7799, 0.7144, 0.6236, 0.588, 0.4831, 0.4692, 0.1641, 0.1217, -0.07, -0.1462, -0.3818, -0.5008, -0.5554, -0.6898, -0.9262, -1.551, -3.1999, -3.2109, -3.335, -3.4747, -3.5283, -3.6583, -4.6807, -3.6348, -5.4095, 3.4362, 2.9002, 2.5992, 2.0955, 1.3042, 1.2261, -2.5683, -2.5794, -2.693, -2.7035, -2.8112, -2.8306, -2.8432, -2.8968, -2.928, -2.9561, -2.9672, -2.9874, -3.0032, -3.0127, -3.0267, -3.0496, -3.0615, -3.0761, -3.084, -3.0903, -3.1276, -3.161, -3.1973, -3.2232, -3.7388, -4.9622, -4.3447, -3.335, -4.6075, -3.479, -5.2758, -3.2695, -5.4404, -3.5217, -5.015, -5.6049, -5.3507, -4.778, -3.8679, -4.0481, -5.2745, 2.5341, 2.4789, 2.321, 2.2483, 1.8072, 1.6725, 1.1245, 1.0829, 1.005, 0.7495, 0.545, 0.4673, 0.366, 0.2437, 0.1014, -0.1005, -0.156, -0.215, -0.6259, -0.9554, -1.1254, -1.3312, -1.4355, -1.6993, -1.7579, -2.3481, -2.4728, -2.4832, -2.591, -2.6104, -2.8065, -3.5186, -4.1931, -4.1484, -2.747, 2.9733, 2.7577, 2.2417, 2.1561, 2.1557, 2.0582, 1.4065, 1.3618, 0.828, 0.7402, 0.6175, 0.4609, 0.3119, 0.2005, 0.0699, -2.6292, -2.6403, -2.7539, -2.7644, -2.8721, -2.8915, -2.9577, -3.017, -3.0281, -3.0483, -3.0641, -3.0736, -3.1105, -3.1225, -3.137, -3.3959, -5.3368, -4.7713, -4.411, -4.6684, -3.4033, -4.11, -3.1449, -3.7997, -3.54, -3.5826, -5.6658, 2.1424, 1.8081, 1.796, 1.723, 1.4499, 1.4235, 1.1755, 1.1439, 1.1058, 0.8637, 0.8603, 0.419, 0.177, 0.0721, -0.0647, -0.1587, -0.4129, -1.4706, -1.8175, -1.8188, -2.5221, -2.5332, -2.6468, -2.6573, -2.765, -2.7844, -2.797, -2.8506, -2.8818, -2.9098, -4.3039, -4.5613, -2.957, -4.0029, -3.2888, -3.0378, -3.2962, -4.2985, -4.916, 1.7283, 1.6305, 1.2292, 0.9349, 0.7378, 0.7267, 0.643, 0.6131, 0.6026, 0.4949, 0.4755, 0.4629, 0.4093, 0.3781, 0.35, 0.3389, 0.3187, 0.3029, 0.2934, 0.2794, 0.2565, 0.2558, 0.2445, 0.23, 0.2221, 0.2158, 0.1785, 0.1451, 0.1088, 0.0829, -1.3014, -1.0386, -0.0363, -0.0289, -1.044, -0.743, -0.4327, -1.4043, -1.6561, -0.173, 0.0366, -2.1343, -0.2156, -1.7089, -2.2988, -1.4719, -0.5618, 2.5369, 1.7813, 1.6921, 1.3477, 1.333, 1.3213, 1.1722, 1.1203, 0.9848, 0.6955, 0.6014, 0.3642, -1.3967, -1.9694, -2.5978, -2.7225, -2.733, -2.8407, -2.8601, -2.8727, -2.9263, -2.9575, -2.9856, -2.9967, -3.0169, -3.0327, -3.0422, -3.0562, -3.0791, -3.0798, -3.3719, -4.3796, -4.0786, -4.7399, -4.3742, -3.1135, -3.7683, -3.5085, -3.091, -3.5512, -5.6344, 2.2217, 2.123, 2.0881, 2.0221, 1.9887, 1.8801, 1.8147, 1.7624, 1.2294, 1.1016, 1.0619, 0.8777, 0.805, 0.781, 0.7364, 0.4892, 0.4393, -0.1262, -2.5645, -2.5755, -2.6891, -2.6996, -2.8073, -2.8267, -2.8393, -2.8929, -2.9522, -2.9633, -2.9835, -2.9994, -3.0802, -3.0088, -4.0452, -4.6036, -4.3462, -3.3385, -5.2706, -3.864, 3.2561, 3.0061, 2.8833, 1.9682, 1.7656, 1.2807, 1.2032, -1.8616, -1.8727, -1.9863, -1.9967, -2.1045, -2.1239, -2.1365, -2.1901, -2.2213, -2.2493, -2.2605, -2.2807, -2.2965, -2.306, -2.32, -2.3429, -2.3436, -2.3548, -2.3693, -2.3773, -2.3836, -2.4209, -2.4543, -3.6434, -3.638, -2.6357, -2.6283, -3.9008, -3.0321, -3.3424, -4.0037, -4.5691, -4.2555, -2.7723, -4.7337, -2.8149, -4.3083, -4.8982, -4.644, 3.6975, 2.3743, 2.2989, 1.8268, 1.8265, 1.649, 0.2689, -0.1119, -0.354, -0.439, -0.7987, -0.8037, -1.3002, -1.6306, -2.0048, -2.0159, -2.1294, -2.1399, -2.2477, -2.2671, -2.2796, -2.3333, -2.3644, -2.3925, -2.4037, -2.4238, -2.4397, -2.4492, -2.4632, -2.4861, -4.7123, -4.1469, -3.4856, -4.044, -3.8051, -3.7866, -3.3043, -2.7789, -4.3987, -2.5268, -3.1753, -2.498, 2.9366, 2.3568, 2.2386, 2.0713, 1.5385, 1.4244, 1.2583, 1.0781, 0.9922, 0.7507, -2.3078, -2.3188, -2.4324, -2.4429, -2.5506, -2.5701, -2.5826, -2.6362, -2.6674, -2.6955, -2.7066, -2.7268, -2.7427, -2.7521, -2.7662, -2.7897, -2.801, -2.8155, -2.8235, -2.8298, -3.0818, -4.0895, -4.347, -3.7885, -4.4499, -5.0153, -4.0842, -3.4782, -3.2185, -4.5125, -3.2611, -5.3444, -5.0901, 1.8995, 1.6915, 1.6706, 1.3922, 1.0911, 1.0819, 0.8155, 0.6983, 0.6299, 0.6261, 0.4673, 0.3799, 0.2898, 0.1949, 0.0794, 0.0048, -0.123, -0.1415, -0.1443, -0.441, -0.6271, -0.6824, -0.8607, -0.9002, -0.9709, -1.1313, -1.1938, -1.1972, -1.2466, -1.3395, -1.412, -1.708, 2.4025, 2.2794, 2.2243, 1.8481, 1.619, 1.3216, 1.024, 1.0157, 1.0011, 0.7855, 0.5918, 0.3547, 0.019, 0.0037, -0.1224, -1.7404, -2.3444, -2.3555, -2.4691, -2.4795, -2.6067, -2.6193, -2.6729, -2.7041, -2.7321, -2.7635, -2.7793, -2.7888, -2.8028, -2.8257, -2.8376, -5.0519, -4.4865, -3.8252, -4.3836, -4.1262, -3.1111, -3.1185, -4.1208, -4.7383, 2.6458, 2.4189, 2.2554, 2.0354, 2.0041, 1.7644, 1.3164, 1.2557, 1.239, 0.9106, 0.6563, 0.3996, 0.3351, 0.307, 0.2812, 0.1574, -0.1895, -0.1909, -0.52, -2.6292, -2.7538, -2.7643, -2.872, -2.8915, -2.904, -2.9576, -2.9888, -3.0169, -3.028, -3.0482, -3.9287, -4.1099, -4.4741, -4.4295, -3.1512, -4.1089, -4.4109, -3.5825, -5.0758, 3.2505, 3.1047, 2.9918, 2.8777, 1.2962, 0.9592, 0.4204, 0.2999, -0.3874, -2.8067, -2.8178, -2.9314, -2.9419, -3.0496, -3.069, -3.1352, -3.1664, -3.1945, -3.2056, -3.2258, -3.2511, -3.2651, -3.288, -3.2887, -3.3, -3.3145, -3.3224, -3.3287, -3.366, -3.3994, -3.5734, -4.5885, -4.5831, -4.2875, -4.9488, -5.5142, -3.5808, -3.7174, -5.2006, -3.9772, -3.5079, -5.2534, -5.5891, -4.1063, -4.2865, 2.8999, 2.2879, 2.0775, 1.9557, 1.8703, 1.4553, 1.0384, 0.8865, 0.8418, 0.6862, 0.6476, 0.4821, 0.4772, 0.3275, 0.2929, -0.0207, -0.0956, -2.459, -2.4701, -2.5836, -2.5941, -2.7019, -2.7213, -2.7338, -2.7874, -2.8186, -2.878, -2.8939, -2.9034, -2.9174, -4.2354, -4.6011, -3.9398, -4.2408, -3.2257, -3.2331, -3.6294, -3.3697, -2.9747, 2.4417, 2.0539, 1.9308, 1.8935, 1.8145, 1.6372, 1.4995, 1.3422, 1.279, 1.1533, 1.0009, 0.973, 0.7876, 0.1262, -0.2466, -2.693, -2.8177, -2.8282, -2.9359, -2.9553, -2.9679, -3.0215, -3.0527, -3.0807, -3.0919, -3.1121, -3.1279, -3.1374, -3.1514, -3.1743, -4.4748, -4.7322, -4.1738, -3.4671, -5.4005, -3.4597, -3.6037, -4.4694, -5.0869, -3.8635, -3.2087, 1.4802, 1.4691, 1.3555, 1.345, 1.2373, 1.2179, 1.2053, 1.1517, 1.1205, 1.0924, 1.0813, 1.0611, 1.0453, 1.0358, 1.0218, 0.9989, 0.9982, 0.987, 0.9724, 0.9645, 0.9582, 0.9209, 0.8875, 0.8512, 0.8253, 0.779, 0.7495, 0.749, 0.7453, 0.7135, -0.559, -0.9137, -0.2962, 0.7061, -0.3016, -0.0006, -0.6619, -1.2273, -0.7245, 0.3097, 0.5695, 0.1806, -0.3648, -0.3201, -1.226, 0.0004, -0.7295, -1.3022, -1.5564, 1.4802, 1.4691, 1.3555, 1.345, 1.2373, 1.2179, 1.2053, 1.1517, 1.1205, 1.0924, 1.0813, 1.0611, 1.0453, 1.0358, 1.0218, 0.9989, 0.9982, 0.987, 0.9724, 0.9645, 0.9582, 0.9209, 0.8875, 0.8512, 0.8253, 0.779, 0.7495, 0.749, 0.7453, 0.7135, -0.559, -0.9137, -0.2962, 0.7061, -0.3016, -0.0006, -0.6619, -1.2273, -0.7245, 0.3097, 0.5695, 0.1806, -0.3648, -0.3201, -1.226, 0.0004, -0.7295, -1.3022, -1.5564, 3.1635, 2.7061, 2.5562, 1.485, 1.094, -1.8471, -1.8582, -1.9718, -2.09, -2.1094, -2.122, -2.1756, -2.2068, -2.2348, -2.246, -2.2662, -2.282, -2.2915, -2.3055, -2.3284, -2.3291, -2.3403, -2.3549, -2.3628, -2.3691, -2.4064, -2.4398, -2.4761, -2.502, -2.5483, -3.6289, -3.6235, -2.6212, -2.6138, -3.8863, -3.3279, -4.5546, -2.7578, -3.1467, -3.6921, -3.6474, -4.5533, -3.3269, -4.0568, -4.6295, -4.8837, 3.711, 2.9188, 2.0686, 1.6614, 1.4228, -1.6343, -1.6453, -1.7589, -1.7694, -1.8772, -1.8966, -1.9091, -1.9627, -1.9939, -2.022, -2.0331, -2.0533, -2.0692, -2.0786, -2.0927, -2.1156, -2.1163, -2.1275, -2.142, -2.15, -2.1563, -2.1936, -2.2632, -2.2892, -2.3355, -4.0282, -3.4107, -2.401, -3.4161, -3.1151, -4.3418, -2.8047, -2.545, -4.5064, -2.5876, -4.081, -4.6709, -3.8439, -2.9338, -3.1141, -4.3404, 3.0667, 2.21, 2.1508, 1.6378, 1.6278, 1.6106, 1.368, 1.0191, 0.9182, 0.8348, 0.7785, 0.6935, 0.5681, 0.5226, 0.4993, 0.3964, 0.0918, -2.6073, -2.6184, -2.732, -2.7425, -2.8502, -2.8696, -2.8822, -2.967, -3.0062, -3.0264, -3.0422, -3.0517, -3.0657, -4.3837, -4.3891, -3.374, -4.0881, -3.3814, -5.4794, -3.5606, 2.8265, 2.2339, 2.1194, 2.1024, 1.6784, 1.2945, 0.9509, 0.875, 0.6337, -0.0863, -1.5952, -1.6644, -1.9867, -2.0023, -2.0305, -2.1213, -2.2131, -2.2434, -2.2578, -2.3428, -2.4525, -2.6853, -2.9186, -2.9254, -3.0437, -3.0497, -3.157, -3.1675, -3.2947, -3.3072, -3.3712, -3.3656, -3.4505, -3.8805, -4.0895, 3.3684, 1.9614, 1.7451, 1.7443, 1.3977, 1.2047, -1.8358, -1.8469, -1.9605, -1.971, -2.0787, -2.0981, -2.1107, -2.1643, -2.1955, -2.2236, -2.2347, -2.2549, -2.2707, -2.2802, -2.2942, -2.3171, -2.3178, -2.329, -2.3436, -2.3578, -2.3951, -2.4285, -2.4648, -2.4907, -3.875, -2.6099, -2.6025, -3.6176, -3.9779, -3.3166, -4.2297, -3.6122, -3.0063, -2.537, -2.7465, -4.7079, -2.7891, -4.2825, -4.8724, -4.6182, -4.0455, 3.8709, 1.4955, 1.4105, 1.2714, 1.1913, 1.1134, 0.7, -1.8903, -1.9014, -2.015, -2.0255, -2.1332, -2.1526, -2.1652, -2.2188, -2.25, -2.2781, -2.2892, -2.3094, -2.3252, -2.3347, -2.3487, -2.3716, -2.3723, -2.3836, -2.3981, -2.406, -2.4123, -2.4496, -2.483, -3.6667, -2.6644, -2.657, -3.6721, -3.9295, -3.0608, -3.3711, -4.2842, -4.095, -2.801, -4.7624, -2.8437, -4.337, -4.6727, -4.1, -3.1899, 2.6504, 2.044, 1.6152, 1.2349, 1.2097, 0.9977, -0.0116, -0.0294, -0.2902, -1.7542, -1.7653, -1.8789, -1.8894, -1.9971, -2.0165, -2.0291, -2.0827, -2.1139, -2.1419, -2.1531, -2.1733, -2.1891, -2.1986, -2.2126, -2.2355, -2.2362, -2.2474, -2.2619, -2.2699, -2.2762, -3.235, -3.8963, -3.536, -2.5209, -2.5283, -3.7934, -2.9247, -2.4554, -2.6649, -2.7075, -4.5366, -3.9639, -3.0538, -3.234, 2.0674, 2.0534, 1.5839, 1.5505, 1.4018, 1.3115, 1.2341, 1.1598, 0.9939, 0.7344, 0.4959, 0.4726, 0.3697, 0.1525, 0.1179, 0.0101, -0.1766, -0.1957, -0.2706, -1.5833, -2.634, -2.6451, -2.7587, -2.7692, -2.8769, -2.8963, -2.9089, -2.9625, -2.9937, -3.0217, -3.0329, -4.4158, -4.479, -3.9336, -4.1148, -4.8437, -3.0689, -4.4343, 3.0282, 2.414, 2.0311, 2.0206, 1.3392, 1.3032, 1.1975, 0.9923, 0.9242, 0.8392, 0.4522, 0.3793, 0.3554, 0.2382, -0.002, -0.1197, -0.291, -2.9901, -3.0011, -3.2329, -3.2524, -3.2649, -3.3185, -3.3497, -3.3778, -3.3889, -3.4091, -3.425, -3.4344, -3.4485, -4.7718, -3.7568, -4.4709, -5.0293, -5.1322, -3.7641, -5.384, -3.9008, 1.4802, 1.4691, 1.3555, 1.345, 1.2373, 1.2179, 1.2053, 1.1517, 1.1205, 1.0924, 1.0813, 1.0611, 1.0453, 1.0358, 1.0218, 0.9989, 0.9982, 0.987, 0.9724, 0.9645, 0.9582, 0.9209, 0.8875, 0.8512, 0.8253, 0.779, 0.7495, 0.749, 0.7453, 0.7135, -0.559, -0.9137, -0.2962, 0.7061, -0.3016, -0.0006, -0.6619, -1.2273, -0.7245, 0.3097, 0.5695, 0.1806, -0.3648, -0.3201, -1.226, 0.0004, -0.7295, -1.3022, -1.5564, 3.6223, 2.7975, 2.7187, 2.4758, 2.359, 1.5482, 1.4191, 0.9587, 0.8728, 0.6795, 0.5371, 0.3849, 0.3248, -2.4382, -2.5518, -2.5623, -2.6894, -2.702, -2.7556, -2.8149, -2.826, -2.8462, -2.862, -2.8715, -2.8855, -2.9084, -2.9091, -2.9203, -2.9349, -2.9428, -4.5692, -3.9079, -5.1346, -4.2089, -3.1938, -3.2012, -4.2035, -3.3378, -4.6318, -5.2992, -3.3804, 3.0897, 2.7347, 1.9845, 1.7352, 1.4342, 1.4157, 1.371, 1.1768, 1.0739, 0.8221, 0.1794, -1.9298, -1.9409, -2.0544, -2.0649, -2.1727, -2.1921, -2.2046, -2.2583, -2.2894, -2.3175, -2.3287, -2.3488, -2.3647, -2.3742, -2.3882, -2.4118, -2.423, -2.4375, -2.4455, -2.6965, -3.7062, -2.7039, -3.1003, -4.6373, -2.8405, -4.1345, -4.8019, -2.8831, -4.3765, -4.7122, -4.1394]}, \"token.table\": {\"Topic\": [30, 43, 54, 59, 61, 77, 92, 4, 8, 12, 13, 15, 21, 23, 25, 38, 58, 59, 63, 82, 95, 15, 20, 28, 36, 68, 71, 90, 3, 4, 20, 21, 25, 35, 40, 42, 43, 45, 55, 56, 58, 65, 67, 68, 69, 70, 73, 77, 78, 82, 85, 86, 91, 92, 93, 94, 97, 100, 1, 11, 20, 21, 25, 30, 35, 40, 42, 45, 48, 49, 56, 58, 65, 67, 68, 70, 74, 80, 83, 91, 92, 93, 94, 95, 99, 3, 4, 22, 24, 25, 28, 30, 32, 35, 36, 42, 43, 45, 49, 55, 56, 57, 67, 69, 73, 77, 78, 82, 85, 92, 97, 100, 1, 11, 14, 25, 35, 65, 77, 86, 1, 3, 7, 11, 13, 14, 17, 20, 25, 28, 30, 34, 40, 42, 48, 49, 56, 59, 65, 68, 69, 70, 72, 74, 79, 92, 23, 25, 28, 30, 39, 67, 76, 77, 79, 80, 9, 25, 44, 54, 62, 67, 69, 82, 85, 9, 20, 25, 40, 43, 58, 69, 78, 85, 97, 100, 8, 25, 32, 49, 58, 65, 74, 80, 83, 100, 3, 4, 9, 11, 13, 15, 20, 34, 35, 54, 55, 58, 59, 60, 65, 69, 76, 85, 97, 3, 11, 20, 25, 76, 83, 86, 92, 7, 20, 25, 35, 58, 63, 69, 91, 13, 28, 42, 49, 56, 77, 90, 99, 8, 22, 28, 33, 40, 44, 49, 54, 56, 72, 74, 78, 83, 86, 13, 20, 25, 28, 36, 57, 58, 67, 77, 81, 23, 34, 49, 58, 59, 65, 85, 91, 3, 20, 22, 27, 82, 86, 99, 11, 12, 49, 72, 73, 81, 84, 1, 2, 3, 7, 11, 14, 15, 17, 20, 22, 25, 27, 31, 32, 34, 35, 44, 48, 49, 53, 57, 58, 59, 65, 71, 73, 74, 78, 81, 85, 86, 89, 96, 15, 20, 23, 36, 44, 48, 55, 56, 76, 79, 83, 92, 96, 3, 20, 57, 58, 67, 73, 77, 99, 3, 4, 7, 8, 9, 11, 14, 15, 17, 20, 23, 25, 28, 30, 31, 32, 34, 35, 36, 38, 39, 42, 43, 44, 45, 49, 53, 55, 56, 57, 58, 59, 62, 65, 67, 70, 72, 76, 81, 82, 83, 84, 86, 91, 93, 96, 97, 28, 30, 36, 49, 89, 97, 20, 40, 49, 54, 58, 69, 3, 5, 13, 17, 20, 28, 34, 35, 37, 40, 48, 50, 53, 62, 64, 67, 69, 71, 100, 12, 20, 31, 64, 69, 93, 3, 7, 8, 13, 14, 15, 17, 20, 21, 22, 23, 25, 28, 30, 33, 34, 35, 36, 37, 49, 54, 56, 59, 65, 69, 70, 76, 81, 83, 84, 85, 90, 91, 96, 99, 100, 7, 8, 14, 23, 36, 49, 54, 58, 67, 11, 20, 25, 49, 55, 91, 28, 49, 50, 58, 83, 84, 3, 11, 15, 25, 28, 36, 42, 49, 58, 85, 15, 20, 23, 24, 30, 54, 57, 73, 96, 3, 5, 13, 17, 20, 28, 34, 48, 50, 53, 62, 67, 71, 100, 14, 30, 33, 39, 45, 57, 58, 65, 67, 70, 74, 77, 79, 81, 82, 86, 92, 1, 8, 9, 11, 13, 14, 15, 20, 21, 25, 28, 30, 44, 48, 49, 54, 56, 61, 65, 67, 69, 71, 77, 81, 83, 86, 89, 90, 91, 94, 96, 100, 8, 13, 20, 25, 28, 36, 40, 59, 65, 69, 73, 80, 82, 85, 86, 99, 12, 22, 23, 25, 27, 49, 50, 55, 65, 69, 91, 13, 14, 35, 58, 64, 65, 77, 81, 8, 9, 11, 12, 24, 25, 49, 73, 77, 96, 8, 13, 15, 17, 40, 58, 74, 84, 86, 3, 7, 9, 15, 30, 33, 35, 36, 54, 56, 59, 65, 67, 70, 73, 79, 81, 95, 3, 8, 11, 17, 25, 39, 53, 57, 58, 62, 70, 74, 81, 83, 86, 96, 7, 9, 14, 24, 25, 35, 36, 42, 49, 50, 54, 69, 81, 85, 97, 100, 25, 42, 49, 54, 65, 99, 8, 9, 15, 97, 4, 8, 12, 15, 17, 20, 25, 28, 32, 35, 45, 58, 89, 91, 97, 99, 37, 44, 59, 64, 69, 1, 9, 11, 15, 17, 21, 28, 31, 32, 34, 45, 48, 49, 57, 58, 65, 72, 74, 77, 78, 80, 81, 82, 83, 84, 85, 86, 91, 2, 4, 5, 8, 9, 11, 12, 13, 20, 21, 23, 24, 25, 30, 33, 34, 35, 42, 44, 45, 49, 50, 54, 55, 56, 57, 58, 59, 60, 61, 64, 65, 67, 69, 70, 73, 74, 77, 81, 82, 83, 85, 86, 90, 96, 97, 99, 4, 7, 8, 9, 11, 12, 13, 14, 15, 20, 24, 25, 28, 30, 35, 36, 44, 48, 49, 54, 55, 56, 57, 58, 59, 61, 64, 65, 67, 69, 70, 73, 76, 77, 80, 81, 85, 89, 91, 92, 95, 96, 99, 100, 2, 4, 5, 7, 11, 13, 15, 22, 25, 27, 34, 35, 36, 38, 39, 42, 44, 45, 48, 54, 55, 59, 60, 65, 68, 69, 70, 72, 76, 81, 83, 85, 91, 93, 94, 96, 97, 7, 8, 9, 12, 13, 14, 20, 25, 28, 31, 32, 33, 35, 42, 49, 54, 59, 73, 77, 95, 97, 1, 2, 3, 4, 7, 8, 9, 12, 13, 15, 20, 21, 22, 24, 25, 27, 28, 30, 33, 35, 37, 38, 42, 44, 45, 48, 49, 50, 53, 54, 55, 56, 57, 58, 60, 62, 63, 65, 67, 68, 69, 70, 74, 81, 82, 83, 84, 85, 92, 94, 95, 97, 99, 100, 2, 4, 5, 7, 9, 11, 13, 14, 15, 20, 22, 25, 27, 28, 34, 35, 36, 38, 39, 42, 44, 45, 48, 49, 50, 54, 55, 57, 59, 60, 65, 68, 69, 70, 72, 76, 77, 81, 83, 85, 91, 93, 94, 95, 96, 97, 8, 13, 25, 28, 36, 56, 58, 65, 71, 73, 83, 13, 28, 30, 36, 49, 56, 65, 72, 96, 8, 20, 25, 40, 58, 69, 74, 81, 91, 97, 4, 9, 11, 22, 34, 37, 58, 65, 81, 3, 4, 8, 12, 13, 14, 15, 20, 21, 22, 23, 25, 27, 28, 32, 35, 36, 37, 38, 42, 43, 44, 48, 49, 53, 55, 58, 59, 63, 73, 74, 76, 77, 80, 81, 82, 91, 95, 96, 97, 99, 21, 25, 28, 44, 55, 57, 58, 72, 82, 84, 86, 30, 36, 44, 49, 58, 72, 80, 91, 96, 97, 8, 11, 20, 25, 27, 65, 78, 94, 3, 4, 7, 8, 9, 11, 17, 20, 21, 22, 23, 24, 25, 27, 28, 30, 31, 33, 35, 36, 39, 40, 42, 43, 44, 49, 50, 54, 57, 58, 59, 61, 65, 67, 72, 73, 74, 76, 79, 80, 81, 82, 83, 84, 95, 96, 14, 25, 30, 33, 39, 49, 65, 79, 83, 4, 8, 20, 25, 56, 99, 8, 11, 20, 32, 37, 40, 58, 63, 72, 74, 76, 80, 83, 96, 28, 31, 40, 49, 54, 65], \"Freq\": [0.14950657843593515, 0.09967105229062344, 0.09967105229062344, 0.04983552614531172, 0.39868420916249375, 0.04983552614531172, 0.04983552614531172, 0.1039509885975051, 0.0346503295325017, 0.0346503295325017, 0.0346503295325017, 0.0346503295325017, 0.0346503295325017, 0.1386013181300068, 0.0346503295325017, 0.1386013181300068, 0.0693006590650034, 0.0346503295325017, 0.2079019771950102, 0.0346503295325017, 0.0346503295325017, 0.052123172182594685, 0.10424634436518937, 0.052123172182594685, 0.052123172182594685, 0.052123172182594685, 0.4169853774607575, 0.20849268873037874, 0.01786267414180147, 0.0535880224254044, 0.01786267414180147, 0.01786267414180147, 0.03572534828360294, 0.03572534828360294, 0.03572534828360294, 0.01786267414180147, 0.03572534828360294, 0.0535880224254044, 0.01786267414180147, 0.01786267414180147, 0.01786267414180147, 0.03572534828360294, 0.01786267414180147, 0.01786267414180147, 0.0535880224254044, 0.01786267414180147, 0.03572534828360294, 0.01786267414180147, 0.03572534828360294, 0.01786267414180147, 0.01786267414180147, 0.01786267414180147, 0.01786267414180147, 0.12503871899261026, 0.0535880224254044, 0.01786267414180147, 0.01786267414180147, 0.01786267414180147, 0.019447342188315415, 0.019447342188315415, 0.03889468437663083, 0.019447342188315415, 0.03889468437663083, 0.019447342188315415, 0.019447342188315415, 0.03889468437663083, 0.03889468437663083, 0.019447342188315415, 0.019447342188315415, 0.03889468437663083, 0.019447342188315415, 0.03889468437663083, 0.05834202656494625, 0.019447342188315415, 0.019447342188315415, 0.019447342188315415, 0.019447342188315415, 0.019447342188315415, 0.03889468437663083, 0.019447342188315415, 0.13613139531820792, 0.05834202656494625, 0.019447342188315415, 0.07778936875326166, 0.019447342188315415, 0.018678496370404696, 0.05603548911121408, 0.09339248185202348, 0.018678496370404696, 0.07471398548161878, 0.018678496370404696, 0.03735699274080939, 0.03735699274080939, 0.018678496370404696, 0.018678496370404696, 0.018678496370404696, 0.03735699274080939, 0.07471398548161878, 0.018678496370404696, 0.018678496370404696, 0.018678496370404696, 0.018678496370404696, 0.018678496370404696, 0.05603548911121408, 0.03735699274080939, 0.018678496370404696, 0.03735699274080939, 0.018678496370404696, 0.018678496370404696, 0.07471398548161878, 0.018678496370404696, 0.018678496370404696, 0.25844985273127846, 0.12922492636563923, 0.06461246318281962, 0.06461246318281962, 0.19383738954845886, 0.06461246318281962, 0.06461246318281962, 0.06461246318281962, 0.03876127168107557, 0.019380635840537785, 0.15504508672430228, 0.019380635840537785, 0.019380635840537785, 0.03876127168107557, 0.019380635840537785, 0.03876127168107557, 0.019380635840537785, 0.019380635840537785, 0.019380635840537785, 0.019380635840537785, 0.03876127168107557, 0.058141907521613356, 0.09690317920268893, 0.058141907521613356, 0.019380635840537785, 0.019380635840537785, 0.019380635840537785, 0.019380635840537785, 0.019380635840537785, 0.03876127168107557, 0.019380635840537785, 0.019380635840537785, 0.03876127168107557, 0.03876127168107557, 0.15752650880108363, 0.10501767253405574, 0.05250883626702787, 0.10501767253405574, 0.21003534506811147, 0.05250883626702787, 0.05250883626702787, 0.05250883626702787, 0.10501767253405574, 0.05250883626702787, 0.07585398221333012, 0.07585398221333012, 0.07585398221333012, 0.07585398221333012, 0.22756194663999033, 0.07585398221333012, 0.07585398221333012, 0.07585398221333012, 0.07585398221333012, 0.09990976908599886, 0.09990976908599886, 0.04995488454299943, 0.09990976908599886, 0.14986465362899828, 0.09990976908599886, 0.04995488454299943, 0.09990976908599886, 0.04995488454299943, 0.04995488454299943, 0.04995488454299943, 0.06985403981916172, 0.06985403981916172, 0.27941615927664687, 0.13970807963832343, 0.06985403981916172, 0.06985403981916172, 0.06985403981916172, 0.06985403981916172, 0.06985403981916172, 0.06985403981916172, 0.021741391918747292, 0.021741391918747292, 0.10870695959373647, 0.021741391918747292, 0.021741391918747292, 0.021741391918747292, 0.15218974343123107, 0.021741391918747292, 0.021741391918747292, 0.06522417575624188, 0.043482783837494585, 0.043482783837494585, 0.021741391918747292, 0.15218974343123107, 0.021741391918747292, 0.021741391918747292, 0.043482783837494585, 0.021741391918747292, 0.06522417575624188, 0.11178920129633112, 0.11178920129633112, 0.11178920129633112, 0.11178920129633112, 0.11178920129633112, 0.11178920129633112, 0.11178920129633112, 0.11178920129633112, 0.08138734647887845, 0.08138734647887845, 0.08138734647887845, 0.08138734647887845, 0.08138734647887845, 0.3255493859155138, 0.08138734647887845, 0.08138734647887845, 0.06248901533394545, 0.1249780306678909, 0.06248901533394545, 0.06248901533394545, 0.06248901533394545, 0.06248901533394545, 0.06248901533394545, 0.43742310733761813, 0.03494850312094814, 0.10484550936284441, 0.06989700624189628, 0.03494850312094814, 0.10484550936284441, 0.03494850312094814, 0.13979401248379256, 0.06989700624189628, 0.03494850312094814, 0.03494850312094814, 0.03494850312094814, 0.10484550936284441, 0.03494850312094814, 0.03494850312094814, 0.06902377151634889, 0.06902377151634889, 0.06902377151634889, 0.06902377151634889, 0.06902377151634889, 0.06902377151634889, 0.13804754303269778, 0.13804754303269778, 0.06902377151634889, 0.13804754303269778, 0.15340611367070756, 0.23010917050606133, 0.15340611367070756, 0.07670305683535378, 0.07670305683535378, 0.07670305683535378, 0.15340611367070756, 0.07670305683535378, 0.06706560694760251, 0.06706560694760251, 0.20119682084280752, 0.20119682084280752, 0.06706560694760251, 0.06706560694760251, 0.20119682084280752, 0.08586913889103832, 0.08586913889103832, 0.08586913889103832, 0.08586913889103832, 0.08586913889103832, 0.08586913889103832, 0.3434765555641533, 0.06232832857483893, 0.02493133142993557, 0.02493133142993557, 0.06232832857483893, 0.012465665714967785, 0.012465665714967785, 0.012465665714967785, 0.02493133142993557, 0.06232832857483893, 0.02493133142993557, 0.012465665714967785, 0.012465665714967785, 0.03739699714490336, 0.02493133142993557, 0.02493133142993557, 0.012465665714967785, 0.03739699714490336, 0.03739699714490336, 0.012465665714967785, 0.012465665714967785, 0.012465665714967785, 0.012465665714967785, 0.012465665714967785, 0.02493133142993557, 0.04986266285987114, 0.012465665714967785, 0.012465665714967785, 0.012465665714967785, 0.0872596600047745, 0.012465665714967785, 0.06232832857483893, 0.02493133142993557, 0.03739699714490336, 0.06300282275227645, 0.031501411376138225, 0.1575070568806911, 0.09450423412841466, 0.031501411376138225, 0.06300282275227645, 0.031501411376138225, 0.031501411376138225, 0.06300282275227645, 0.06300282275227645, 0.031501411376138225, 0.2520112910091058, 0.031501411376138225, 0.07888753953661262, 0.07888753953661262, 0.07888753953661262, 0.15777507907322524, 0.07888753953661262, 0.15777507907322524, 0.07888753953661262, 0.07888753953661262, 0.007549940860083155, 0.007549940860083155, 0.06039952688066524, 0.01509988172016631, 0.007549940860083155, 0.007549940860083155, 0.007549940860083155, 0.007549940860083155, 0.007549940860083155, 0.007549940860083155, 0.007549940860083155, 0.03019976344033262, 0.007549940860083155, 0.007549940860083155, 0.01509988172016631, 0.01509988172016631, 0.07549940860083154, 0.007549940860083155, 0.022649822580249463, 0.045299645160498926, 0.0830493494609147, 0.022649822580249463, 0.022649822580249463, 0.022649822580249463, 0.007549940860083155, 0.045299645160498926, 0.007549940860083155, 0.01509988172016631, 0.01509988172016631, 0.03019976344033262, 0.03019976344033262, 0.007549940860083155, 0.022649822580249463, 0.01509988172016631, 0.007549940860083155, 0.007549940860083155, 0.01509988172016631, 0.01509988172016631, 0.03019976344033262, 0.022649822580249463, 0.007549940860083155, 0.03019976344033262, 0.01509988172016631, 0.01509988172016631, 0.03019976344033262, 0.01509988172016631, 0.03774970430041577, 0.09874383707359644, 0.09874383707359644, 0.09874383707359644, 0.19748767414719287, 0.19748767414719287, 0.09874383707359644, 0.4110426294383158, 0.11744075126809024, 0.05872037563404512, 0.17616112690213537, 0.11744075126809024, 0.05872037563404512, 0.019027893286409962, 0.1522231462912797, 0.019027893286409962, 0.038055786572819925, 0.038055786572819925, 0.019027893286409962, 0.019027893286409962, 0.019027893286409962, 0.057083679859229894, 0.038055786572819925, 0.019027893286409962, 0.019027893286409962, 0.019027893286409962, 0.19027893286409964, 0.038055786572819925, 0.019027893286409962, 0.019027893286409962, 0.19027893286409964, 0.019027893286409962, 0.06748978273745185, 0.1349795654749037, 0.1349795654749037, 0.20246934821235557, 0.06748978273745185, 0.2699591309498074, 0.01470942012006563, 0.01470942012006563, 0.02941884024013126, 0.01470942012006563, 0.01470942012006563, 0.01470942012006563, 0.01470942012006563, 0.07354710060032815, 0.05883768048026252, 0.07354710060032815, 0.01470942012006563, 0.01470942012006563, 0.02941884024013126, 0.01470942012006563, 0.07354710060032815, 0.01470942012006563, 0.01470942012006563, 0.05883768048026252, 0.05883768048026252, 0.04412826036019689, 0.01470942012006563, 0.01470942012006563, 0.01470942012006563, 0.04412826036019689, 0.01470942012006563, 0.01470942012006563, 0.02941884024013126, 0.01470942012006563, 0.01470942012006563, 0.02941884024013126, 0.01470942012006563, 0.04412826036019689, 0.01470942012006563, 0.01470942012006563, 0.01470942012006563, 0.01470942012006563, 0.05420387580455611, 0.05420387580455611, 0.16261162741366833, 0.16261162741366833, 0.10840775160911222, 0.05420387580455611, 0.05420387580455611, 0.10840775160911222, 0.05420387580455611, 0.0680291592819912, 0.2040874778459736, 0.1360583185639824, 0.1360583185639824, 0.1360583185639824, 0.2040874778459736, 0.07316942552038026, 0.21950827656114077, 0.07316942552038026, 0.14633885104076053, 0.07316942552038026, 0.29267770208152105, 0.054408370381069285, 0.10881674076213857, 0.054408370381069285, 0.10881674076213857, 0.054408370381069285, 0.054408370381069285, 0.10881674076213857, 0.21763348152427714, 0.16322511114320784, 0.054408370381069285, 0.043222726118349035, 0.043222726118349035, 0.043222726118349035, 0.5186727134201884, 0.043222726118349035, 0.08644545223669807, 0.043222726118349035, 0.08644545223669807, 0.043222726118349035, 0.02571032403975324, 0.2056825923180259, 0.02571032403975324, 0.02571032403975324, 0.02571032403975324, 0.02571032403975324, 0.02571032403975324, 0.02571032403975324, 0.02571032403975324, 0.02571032403975324, 0.2056825923180259, 0.02571032403975324, 0.2571032403975324, 0.02571032403975324, 0.025736034147906234, 0.12868017073953117, 0.25736034147906234, 0.05147206829581247, 0.025736034147906234, 0.12868017073953117, 0.025736034147906234, 0.025736034147906234, 0.025736034147906234, 0.025736034147906234, 0.025736034147906234, 0.025736034147906234, 0.05147206829581247, 0.025736034147906234, 0.025736034147906234, 0.025736034147906234, 0.025736034147906234, 0.13271012784116543, 0.039813038352349624, 0.013271012784116541, 0.013271012784116541, 0.039813038352349624, 0.039813038352349624, 0.013271012784116541, 0.0928970894888158, 0.013271012784116541, 0.039813038352349624, 0.013271012784116541, 0.013271012784116541, 0.013271012784116541, 0.013271012784116541, 0.07962607670469925, 0.013271012784116541, 0.013271012784116541, 0.039813038352349624, 0.026542025568233082, 0.026542025568233082, 0.039813038352349624, 0.053084051136466165, 0.013271012784116541, 0.013271012784116541, 0.013271012784116541, 0.026542025568233082, 0.039813038352349624, 0.026542025568233082, 0.013271012784116541, 0.013271012784116541, 0.013271012784116541, 0.013271012784116541, 0.030818888849134637, 0.030818888849134637, 0.030818888849134637, 0.0924566665474039, 0.030818888849134637, 0.061637777698269273, 0.21573222194394245, 0.061637777698269273, 0.030818888849134637, 0.030818888849134637, 0.0924566665474039, 0.030818888849134637, 0.0924566665474039, 0.061637777698269273, 0.030818888849134637, 0.030818888849134637, 0.04546589250167792, 0.09093178500335584, 0.1818635700067117, 0.09093178500335584, 0.13639767750503376, 0.13639767750503376, 0.04546589250167792, 0.04546589250167792, 0.04546589250167792, 0.04546589250167792, 0.04546589250167792, 0.05606277789425268, 0.05606277789425268, 0.05606277789425268, 0.11212555578850536, 0.44850222315402144, 0.05606277789425268, 0.05606277789425268, 0.11212555578850536, 0.07147018635906659, 0.14294037271813317, 0.07147018635906659, 0.07147018635906659, 0.07147018635906659, 0.07147018635906659, 0.14294037271813317, 0.07147018635906659, 0.07147018635906659, 0.07147018635906659, 0.1000071448853732, 0.0500035724426866, 0.1000071448853732, 0.0500035724426866, 0.1000071448853732, 0.0500035724426866, 0.0500035724426866, 0.4000285795414928, 0.0500035724426866, 0.04177417256943647, 0.020887086284718234, 0.04177417256943647, 0.020887086284718234, 0.10443543142359117, 0.1879837765624641, 0.04177417256943647, 0.20887086284718234, 0.020887086284718234, 0.020887086284718234, 0.020887086284718234, 0.04177417256943647, 0.020887086284718234, 0.020887086284718234, 0.020887086284718234, 0.04177417256943647, 0.04177417256943647, 0.04177417256943647, 0.024774849813752442, 0.024774849813752442, 0.049549699627504884, 0.024774849813752442, 0.024774849813752442, 0.3468478973925342, 0.024774849813752442, 0.07432454944125733, 0.049549699627504884, 0.049549699627504884, 0.024774849813752442, 0.024774849813752442, 0.12387424906876221, 0.024774849813752442, 0.049549699627504884, 0.024774849813752442, 0.03298840401709094, 0.03298840401709094, 0.03298840401709094, 0.03298840401709094, 0.06597680803418188, 0.03298840401709094, 0.06597680803418188, 0.03298840401709094, 0.03298840401709094, 0.2968956361538184, 0.13195361606836375, 0.03298840401709094, 0.06597680803418188, 0.03298840401709094, 0.03298840401709094, 0.03298840401709094, 0.11303205074877794, 0.11303205074877794, 0.22606410149755587, 0.11303205074877794, 0.22606410149755587, 0.11303205074877794, 0.09978573983011003, 0.4989286991505502, 0.09978573983011003, 0.09978573983011003, 0.035065554239903124, 0.035065554239903124, 0.035065554239903124, 0.035065554239903124, 0.1402622169596125, 0.1402622169596125, 0.07013110847980625, 0.035065554239903124, 0.07013110847980625, 0.035065554239903124, 0.035065554239903124, 0.035065554239903124, 0.10519666271970937, 0.035065554239903124, 0.07013110847980625, 0.035065554239903124, 0.22301464441814703, 0.074338214806049, 0.074338214806049, 0.44602928883629406, 0.074338214806049, 0.06202039841103545, 0.012404079682207091, 0.024808159364414183, 0.024808159364414183, 0.024808159364414183, 0.012404079682207091, 0.012404079682207091, 0.08682855777544964, 0.024808159364414183, 0.03721223904662127, 0.012404079682207091, 0.08682855777544964, 0.03721223904662127, 0.012404079682207091, 0.024808159364414183, 0.03721223904662127, 0.012404079682207091, 0.06202039841103545, 0.024808159364414183, 0.024808159364414183, 0.03721223904662127, 0.049616318728828365, 0.012404079682207091, 0.012404079682207091, 0.06202039841103545, 0.012404079682207091, 0.08682855777544964, 0.024808159364414183, 0.01399143971707607, 0.006995719858538035, 0.02798287943415214, 0.006995719858538035, 0.020987159575614107, 0.006995719858538035, 0.03497859929269018, 0.006995719858538035, 0.08394863830245643, 0.006995719858538035, 0.02798287943415214, 0.03497859929269018, 0.01399143971707607, 0.020987159575614107, 0.03497859929269018, 0.02798287943415214, 0.01399143971707607, 0.006995719858538035, 0.006995719858538035, 0.020987159575614107, 0.06995719858538035, 0.006995719858538035, 0.05596575886830428, 0.006995719858538035, 0.01399143971707607, 0.006995719858538035, 0.01399143971707607, 0.006995719858538035, 0.04897003900976624, 0.020987159575614107, 0.03497859929269018, 0.041974319151228213, 0.01399143971707607, 0.01399143971707607, 0.006995719858538035, 0.020987159575614107, 0.006995719858538035, 0.01399143971707607, 0.006995719858538035, 0.006995719858538035, 0.006995719858538035, 0.006995719858538035, 0.006995719858538035, 0.020987159575614107, 0.006995719858538035, 0.041974319151228213, 0.020987159575614107, 0.010316808385968445, 0.010316808385968445, 0.02063361677193689, 0.04126723354387378, 0.04126723354387378, 0.010316808385968445, 0.010316808385968445, 0.02063361677193689, 0.010316808385968445, 0.030950425157905335, 0.030950425157905335, 0.04126723354387378, 0.02063361677193689, 0.02063361677193689, 0.010316808385968445, 0.04126723354387378, 0.010316808385968445, 0.02063361677193689, 0.05158404192984223, 0.030950425157905335, 0.030950425157905335, 0.010316808385968445, 0.02063361677193689, 0.02063361677193689, 0.02063361677193689, 0.02063361677193689, 0.02063361677193689, 0.010316808385968445, 0.02063361677193689, 0.010316808385968445, 0.010316808385968445, 0.010316808385968445, 0.010316808385968445, 0.02063361677193689, 0.02063361677193689, 0.010316808385968445, 0.010316808385968445, 0.12380170063162134, 0.02063361677193689, 0.010316808385968445, 0.010316808385968445, 0.010316808385968445, 0.010316808385968445, 0.010316808385968445, 0.021360464218465748, 0.03204069632769862, 0.021360464218465748, 0.03204069632769862, 0.021360464218465748, 0.010680232109232874, 0.021360464218465748, 0.021360464218465748, 0.021360464218465748, 0.021360464218465748, 0.17088371374772598, 0.010680232109232874, 0.021360464218465748, 0.06408139265539724, 0.03204069632769862, 0.010680232109232874, 0.010680232109232874, 0.03204069632769862, 0.010680232109232874, 0.010680232109232874, 0.021360464218465748, 0.010680232109232874, 0.07476162476463012, 0.010680232109232874, 0.010680232109232874, 0.010680232109232874, 0.010680232109232874, 0.021360464218465748, 0.03204069632769862, 0.010680232109232874, 0.010680232109232874, 0.010680232109232874, 0.021360464218465748, 0.05340116054616437, 0.021360464218465748, 0.010680232109232874, 0.021360464218465748, 0.01913038306279136, 0.01913038306279136, 0.01913038306279136, 0.01913038306279136, 0.01913038306279136, 0.01913038306279136, 0.22956459675349633, 0.03826076612558272, 0.01913038306279136, 0.05739114918837408, 0.03826076612558272, 0.17217344756512226, 0.01913038306279136, 0.01913038306279136, 0.09565191531395681, 0.01913038306279136, 0.05739114918837408, 0.01913038306279136, 0.01913038306279136, 0.01913038306279136, 0.01913038306279136, 0.01085062756991063, 0.01085062756991063, 0.005425313784955315, 0.02712656892477658, 0.059678451634508474, 0.016275941354865948, 0.016275941354865948, 0.005425313784955315, 0.005425313784955315, 0.01085062756991063, 0.02170125513982126, 0.005425313784955315, 0.01085062756991063, 0.03797719649468721, 0.005425313784955315, 0.005425313784955315, 0.01085062756991063, 0.04882782406459784, 0.02170125513982126, 0.005425313784955315, 0.02712656892477658, 0.032551882709731896, 0.01085062756991063, 0.005425313784955315, 0.005425313784955315, 0.005425313784955315, 0.02170125513982126, 0.02712656892477658, 0.005425313784955315, 0.01085062756991063, 0.01085062756991063, 0.005425313784955315, 0.02170125513982126, 0.02170125513982126, 0.059678451634508474, 0.09223033434424037, 0.02170125513982126, 0.01085062756991063, 0.01085062756991063, 0.005425313784955315, 0.005425313784955315, 0.016275941354865948, 0.005425313784955315, 0.03797719649468721, 0.01085062756991063, 0.005425313784955315, 0.04340251027964252, 0.016275941354865948, 0.03797719649468721, 0.01085062756991063, 0.005425313784955315, 0.016275941354865948, 0.016275941354865948, 0.005425313784955315, 0.015079114672752301, 0.02261867200912845, 0.015079114672752301, 0.060316458691009205, 0.007539557336376151, 0.015079114672752301, 0.007539557336376151, 0.007539557336376151, 0.015079114672752301, 0.015079114672752301, 0.02261867200912845, 0.015079114672752301, 0.02261867200912845, 0.015079114672752301, 0.11309336004564226, 0.030158229345504602, 0.03769778668188075, 0.05277690135463305, 0.02261867200912845, 0.007539557336376151, 0.007539557336376151, 0.02261867200912845, 0.007539557336376151, 0.015079114672752301, 0.015079114672752301, 0.02261867200912845, 0.007539557336376151, 0.015079114672752301, 0.007539557336376151, 0.0753955733637615, 0.030158229345504602, 0.007539557336376151, 0.015079114672752301, 0.007539557336376151, 0.030158229345504602, 0.015079114672752301, 0.007539557336376151, 0.030158229345504602, 0.007539557336376151, 0.007539557336376151, 0.015079114672752301, 0.03769778668188075, 0.02261867200912845, 0.007539557336376151, 0.007539557336376151, 0.02261867200912845, 0.06980461112682337, 0.06980461112682337, 0.06980461112682337, 0.06980461112682337, 0.13960922225364675, 0.06980461112682337, 0.06980461112682337, 0.06980461112682337, 0.13960922225364675, 0.2094138333804701, 0.06980461112682337, 0.07248050625033477, 0.07248050625033477, 0.2174415187510043, 0.2174415187510043, 0.07248050625033477, 0.07248050625033477, 0.07248050625033477, 0.07248050625033477, 0.07248050625033477, 0.045925041539027066, 0.09185008307805413, 0.1377751246170812, 0.09185008307805413, 0.045925041539027066, 0.045925041539027066, 0.045925041539027066, 0.045925041539027066, 0.045925041539027066, 0.3214752907731894, 0.10886737824662576, 0.10886737824662576, 0.05443368912331288, 0.16330106736993863, 0.16330106736993863, 0.16330106736993863, 0.05443368912331288, 0.05443368912331288, 0.05443368912331288, 0.01957271144061685, 0.02935906716092528, 0.0391454228812337, 0.0391454228812337, 0.009786355720308426, 0.009786355720308426, 0.009786355720308426, 0.0391454228812337, 0.02935906716092528, 0.01957271144061685, 0.06850449004215899, 0.02935906716092528, 0.04893177860154213, 0.01957271144061685, 0.01957271144061685, 0.009786355720308426, 0.01957271144061685, 0.0391454228812337, 0.0391454228812337, 0.04893177860154213, 0.02935906716092528, 0.009786355720308426, 0.01957271144061685, 0.009786355720308426, 0.009786355720308426, 0.01957271144061685, 0.0391454228812337, 0.009786355720308426, 0.0391454228812337, 0.009786355720308426, 0.009786355720308426, 0.01957271144061685, 0.02935906716092528, 0.01957271144061685, 0.01957271144061685, 0.009786355720308426, 0.009786355720308426, 0.009786355720308426, 0.02935906716092528, 0.009786355720308426, 0.02935906716092528, 0.0435690522559524, 0.0435690522559524, 0.0435690522559524, 0.0435690522559524, 0.0435690522559524, 0.0435690522559524, 0.0435690522559524, 0.0435690522559524, 0.0435690522559524, 0.435690522559524, 0.0435690522559524, 0.04469052622953457, 0.04469052622953457, 0.1787621049181383, 0.04469052622953457, 0.04469052622953457, 0.08938105245906915, 0.13407157868860373, 0.04469052622953457, 0.04469052622953457, 0.1787621049181383, 0.12052561424193774, 0.06026280712096887, 0.06026280712096887, 0.12052561424193774, 0.06026280712096887, 0.06026280712096887, 0.12052561424193774, 0.3013140356048443, 0.012790980901360272, 0.012790980901360272, 0.012790980901360272, 0.012790980901360272, 0.019186471352040407, 0.012790980901360272, 0.006395490450680136, 0.07674588540816163, 0.006395490450680136, 0.038372942704080815, 0.006395490450680136, 0.03197745225340068, 0.051163923605441086, 0.006395490450680136, 0.025581961802720543, 0.006395490450680136, 0.025581961802720543, 0.019186471352040407, 0.006395490450680136, 0.03197745225340068, 0.03197745225340068, 0.019186471352040407, 0.006395490450680136, 0.012790980901360272, 0.006395490450680136, 0.04476843315476095, 0.006395490450680136, 0.012790980901360272, 0.0703503949574815, 0.006395490450680136, 0.006395490450680136, 0.025581961802720543, 0.025581961802720543, 0.006395490450680136, 0.006395490450680136, 0.012790980901360272, 0.03197745225340068, 0.025581961802720543, 0.012790980901360272, 0.025581961802720543, 0.0703503949574815, 0.025581961802720543, 0.012790980901360272, 0.012790980901360272, 0.019186471352040407, 0.019186471352040407, 0.046639159577424295, 0.09327831915484859, 0.046639159577424295, 0.046639159577424295, 0.18655663830969718, 0.046639159577424295, 0.046639159577424295, 0.3264741170419701, 0.046639159577424295, 0.35463898656769505, 0.08865974664192376, 0.08865974664192376, 0.08865974664192376, 0.08865974664192376, 0.08865974664192376, 0.06807302865501584, 0.03403651432750792, 0.06807302865501584, 0.1701825716375396, 0.03403651432750792, 0.10210954298252377, 0.03403651432750792, 0.10210954298252377, 0.06807302865501584, 0.03403651432750792, 0.03403651432750792, 0.06807302865501584, 0.03403651432750792, 0.03403651432750792, 0.0869541994939922, 0.3478167979759688, 0.1739083989879844, 0.0869541994939922, 0.0869541994939922, 0.0869541994939922], \"Term\": [\"\\uac00\\uaca9\", \"\\uac00\\uaca9\", \"\\uac00\\uaca9\", \"\\uac00\\uaca9\", \"\\uac00\\uaca9\", \"\\uac00\\uaca9\", \"\\uac00\\uaca9\", \"\\uac10\", \"\\uac10\", \"\\uac10\", \"\\uac10\", \"\\uac10\", \"\\uac10\", \"\\uac10\", \"\\uac10\", \"\\uac10\", \"\\uac10\", \"\\uac10\", \"\\uac10\", \"\\uac10\", \"\\uac10\", \"\\uac10\\uc0ac\", \"\\uac10\\uc0ac\", \"\\uac10\\uc0ac\", \"\\uac10\\uc0ac\", \"\\uac10\\uc0ac\", \"\\uac10\\uc0ac\", \"\\uac10\\uc0ac\", \"\\uac19\", \"\\uac19\", \"\\uac19\", \"\\uac19\", \"\\uac19\", \"\\uac19\", \"\\uac19\", \"\\uac19\", \"\\uac19\", \"\\uac19\", \"\\uac19\", \"\\uac19\", \"\\uac19\", \"\\uac19\", \"\\uac19\", \"\\uac19\", \"\\uac19\", \"\\uac19\", \"\\uac19\", \"\\uac19\", \"\\uac19\", \"\\uac19\", \"\\uac19\", \"\\uac19\", \"\\uac19\", \"\\uac19\", \"\\uac19\", \"\\uac19\", \"\\uac19\", \"\\uac19\", \"\\uac70\", \"\\uac70\", \"\\uac70\", \"\\uac70\", \"\\uac70\", \"\\uac70\", \"\\uac70\", \"\\uac70\", \"\\uac70\", \"\\uac70\", \"\\uac70\", \"\\uac70\", \"\\uac70\", \"\\uac70\", \"\\uac70\", \"\\uac70\", \"\\uac70\", \"\\uac70\", \"\\uac70\", \"\\uac70\", \"\\uac70\", \"\\uac70\", \"\\uac70\", \"\\uac70\", \"\\uac70\", \"\\uac70\", \"\\uac70\", \"\\uac83\", \"\\uac83\", \"\\uac83\", \"\\uac83\", \"\\uac83\", \"\\uac83\", \"\\uac83\", \"\\uac83\", \"\\uac83\", \"\\uac83\", \"\\uac83\", \"\\uac83\", \"\\uac83\", \"\\uac83\", \"\\uac83\", \"\\uac83\", \"\\uac83\", \"\\uac83\", \"\\uac83\", \"\\uac83\", \"\\uac83\", \"\\uac83\", \"\\uac83\", \"\\uac83\", \"\\uac83\", \"\\uac83\", \"\\uac83\", \"\\uad1c\\ucc2e\", \"\\uad1c\\ucc2e\", \"\\uad1c\\ucc2e\", \"\\uad1c\\ucc2e\", \"\\uad1c\\ucc2e\", \"\\uad1c\\ucc2e\", \"\\uad1c\\ucc2e\", \"\\uad1c\\ucc2e\", \"\\uad6c\\ub9e4\", \"\\uad6c\\ub9e4\", \"\\uad6c\\ub9e4\", \"\\uad6c\\ub9e4\", \"\\uad6c\\ub9e4\", \"\\uad6c\\ub9e4\", \"\\uad6c\\ub9e4\", \"\\uad6c\\ub9e4\", \"\\uad6c\\ub9e4\", \"\\uad6c\\ub9e4\", \"\\uad6c\\ub9e4\", \"\\uad6c\\ub9e4\", \"\\uad6c\\ub9e4\", \"\\uad6c\\ub9e4\", \"\\uad6c\\ub9e4\", \"\\uad6c\\ub9e4\", \"\\uad6c\\ub9e4\", \"\\uad6c\\ub9e4\", \"\\uad6c\\ub9e4\", \"\\uad6c\\ub9e4\", \"\\uad6c\\ub9e4\", \"\\uad6c\\ub9e4\", \"\\uad6c\\ub9e4\", \"\\uad6c\\ub9e4\", \"\\uad6c\\ub9e4\", \"\\uad6c\\ub9e4\", \"\\uad6c\\uc785\", \"\\uad6c\\uc785\", \"\\uad6c\\uc785\", \"\\uad6c\\uc785\", \"\\uad6c\\uc785\", \"\\uad6c\\uc785\", \"\\uad6c\\uc785\", \"\\uad6c\\uc785\", \"\\uad6c\\uc785\", \"\\uad6c\\uc785\", \"\\uadf8\\ub807\", \"\\uadf8\\ub807\", \"\\uadf8\\ub807\", \"\\uadf8\\ub807\", \"\\uadf8\\ub807\", \"\\uadf8\\ub807\", \"\\uadf8\\ub807\", \"\\uadf8\\ub807\", \"\\uadf8\\ub807\", \"\\ub098\", \"\\ub098\", \"\\ub098\", \"\\ub098\", \"\\ub098\", \"\\ub098\", \"\\ub098\", \"\\ub098\", \"\\ub098\", \"\\ub098\", \"\\ub098\", \"\\ub290\\ub07c\", \"\\ub290\\ub07c\", \"\\ub290\\ub07c\", \"\\ub290\\ub07c\", \"\\ub290\\ub07c\", \"\\ub290\\ub07c\", \"\\ub290\\ub07c\", \"\\ub290\\ub07c\", \"\\ub290\\ub07c\", \"\\ub290\\ub07c\", \"\\ub290\\ub08c\", \"\\ub290\\ub08c\", \"\\ub290\\ub08c\", \"\\ub290\\ub08c\", \"\\ub290\\ub08c\", \"\\ub290\\ub08c\", \"\\ub290\\ub08c\", \"\\ub290\\ub08c\", \"\\ub290\\ub08c\", \"\\ub290\\ub08c\", \"\\ub290\\ub08c\", \"\\ub290\\ub08c\", \"\\ub290\\ub08c\", \"\\ub290\\ub08c\", \"\\ub290\\ub08c\", \"\\ub290\\ub08c\", \"\\ub290\\ub08c\", \"\\ub290\\ub08c\", \"\\ub290\\ub08c\", \"\\ub2e4\\ub9ac\", \"\\ub2e4\\ub9ac\", \"\\ub2e4\\ub9ac\", \"\\ub2e4\\ub9ac\", \"\\ub2e4\\ub9ac\", \"\\ub2e4\\ub9ac\", \"\\ub2e4\\ub9ac\", \"\\ub2e4\\ub9ac\", \"\\ub2ec\", \"\\ub2ec\", \"\\ub2ec\", \"\\ub2ec\", \"\\ub2ec\", \"\\ub2ec\", \"\\ub2ec\", \"\\ub2ec\", \"\\ub370\", \"\\ub370\", \"\\ub370\", \"\\ub370\", \"\\ub370\", \"\\ub370\", \"\\ub370\", \"\\ub370\", \"\\ub418\", \"\\ub418\", \"\\ub418\", \"\\ub418\", \"\\ub418\", \"\\ub418\", \"\\ub418\", \"\\ub418\", \"\\ub418\", \"\\ub418\", \"\\ub418\", \"\\ub418\", \"\\ub418\", \"\\ub418\", \"\\ub4dc\\ub9ac\", \"\\ub4dc\\ub9ac\", \"\\ub4dc\\ub9ac\", \"\\ub4dc\\ub9ac\", \"\\ub4dc\\ub9ac\", \"\\ub4dc\\ub9ac\", \"\\ub4dc\\ub9ac\", \"\\ub4dc\\ub9ac\", \"\\ub4dc\\ub9ac\", \"\\ub4dc\\ub9ac\", \"\\ub4e4\", \"\\ub4e4\", \"\\ub4e4\", \"\\ub4e4\", \"\\ub4e4\", \"\\ub4e4\", \"\\ub4e4\", \"\\ub4e4\", \"\\ub4ef\", \"\\ub4ef\", \"\\ub4ef\", \"\\ub4ef\", \"\\ub4ef\", \"\\ub4ef\", \"\\ub4ef\", \"\\ub4f1\\uc0b0\", \"\\ub4f1\\uc0b0\", \"\\ub4f1\\uc0b0\", \"\\ub4f1\\uc0b0\", \"\\ub4f1\\uc0b0\", \"\\ub4f1\\uc0b0\", \"\\ub4f1\\uc0b0\", \"\\ub54c\", \"\\ub54c\", \"\\ub54c\", \"\\ub54c\", \"\\ub54c\", \"\\ub54c\", \"\\ub54c\", \"\\ub54c\", \"\\ub54c\", \"\\ub54c\", \"\\ub54c\", \"\\ub54c\", \"\\ub54c\", \"\\ub54c\", \"\\ub54c\", \"\\ub54c\", \"\\ub54c\", \"\\ub54c\", \"\\ub54c\", \"\\ub54c\", \"\\ub54c\", \"\\ub54c\", \"\\ub54c\", \"\\ub54c\", \"\\ub54c\", \"\\ub54c\", \"\\ub54c\", \"\\ub54c\", \"\\ub54c\", \"\\ub54c\", \"\\ub54c\", \"\\ub54c\", \"\\ub54c\", \"\\ub9cc\\uc871\", \"\\ub9cc\\uc871\", \"\\ub9cc\\uc871\", \"\\ub9cc\\uc871\", \"\\ub9cc\\uc871\", \"\\ub9cc\\uc871\", \"\\ub9cc\\uc871\", \"\\ub9cc\\uc871\", \"\\ub9cc\\uc871\", \"\\ub9cc\\uc871\", \"\\ub9cc\\uc871\", \"\\ub9cc\\uc871\", \"\\ub9cc\\uc871\", \"\\ubaa8\\ub974\", \"\\ubaa8\\ub974\", \"\\ubaa8\\ub974\", \"\\ubaa8\\ub974\", \"\\ubaa8\\ub974\", \"\\ubaa8\\ub974\", \"\\ubaa8\\ub974\", \"\\ubaa8\\ub974\", \"\\ubb34\\ub98e\", \"\\ubb34\\ub98e\", \"\\ubb34\\ub98e\", \"\\ubb34\\ub98e\", \"\\ubb34\\ub98e\", \"\\ubb34\\ub98e\", \"\\ubb34\\ub98e\", \"\\ubb34\\ub98e\", \"\\ubb34\\ub98e\", \"\\ubb34\\ub98e\", \"\\ubb34\\ub98e\", \"\\ubb34\\ub98e\", \"\\ubb34\\ub98e\", \"\\ubb34\\ub98e\", \"\\ubb34\\ub98e\", \"\\ubb34\\ub98e\", \"\\ubb34\\ub98e\", \"\\ubb34\\ub98e\", \"\\ubb34\\ub98e\", \"\\ubb34\\ub98e\", \"\\ubb34\\ub98e\", \"\\ubb34\\ub98e\", \"\\ubb34\\ub98e\", \"\\ubb34\\ub98e\", \"\\ubb34\\ub98e\", \"\\ubb34\\ub98e\", \"\\ubb34\\ub98e\", \"\\ubb34\\ub98e\", \"\\ubb34\\ub98e\", \"\\ubb34\\ub98e\", \"\\ubb34\\ub98e\", \"\\ubb34\\ub98e\", \"\\ubb34\\ub98e\", \"\\ubb34\\ub98e\", \"\\ubb34\\ub98e\", \"\\ubb34\\ub98e\", \"\\ubb34\\ub98e\", \"\\ubb34\\ub98e\", \"\\ubb34\\ub98e\", \"\\ubb34\\ub98e\", \"\\ubb34\\ub98e\", \"\\ubb34\\ub98e\", \"\\ubb34\\ub98e\", \"\\ubb34\\ub98e\", \"\\ubb34\\ub98e\", \"\\ubb34\\ub98e\", \"\\ubb34\\ub98e\", \"\\ubb34\\ub98e\\ubcf4\\ud638\\ub300\", \"\\ubb34\\ub98e\\ubcf4\\ud638\\ub300\", \"\\ubb34\\ub98e\\ubcf4\\ud638\\ub300\", \"\\ubb34\\ub98e\\ubcf4\\ud638\\ub300\", \"\\ubb34\\ub98e\\ubcf4\\ud638\\ub300\", \"\\ubb34\\ub98e\\ubcf4\\ud638\\ub300\", \"\\ubc1b\", \"\\ubc1b\", \"\\ubc1b\", \"\\ubc1b\", \"\\ubc1b\", \"\\ubc1b\", \"\\ubc30\\uc1a1\", \"\\ubc30\\uc1a1\", \"\\ubc30\\uc1a1\", \"\\ubc30\\uc1a1\", \"\\ubc30\\uc1a1\", \"\\ubc30\\uc1a1\", \"\\ubc30\\uc1a1\", \"\\ubc30\\uc1a1\", \"\\ubc30\\uc1a1\", \"\\ubc30\\uc1a1\", \"\\ubc30\\uc1a1\", \"\\ubc30\\uc1a1\", \"\\ubc30\\uc1a1\", \"\\ubc30\\uc1a1\", \"\\ubc30\\uc1a1\", \"\\ubc30\\uc1a1\", \"\\ubc30\\uc1a1\", \"\\ubc30\\uc1a1\", \"\\ubc30\\uc1a1\", \"\\ubc88\", \"\\ubc88\", \"\\ubc88\", \"\\ubc88\", \"\\ubc88\", \"\\ubc88\", \"\\ubcf4\", \"\\ubcf4\", \"\\ubcf4\", \"\\ubcf4\", \"\\ubcf4\", \"\\ubcf4\", \"\\ubcf4\", \"\\ubcf4\", \"\\ubcf4\", \"\\ubcf4\", \"\\ubcf4\", \"\\ubcf4\", \"\\ubcf4\", \"\\ubcf4\", \"\\ubcf4\", \"\\ubcf4\", \"\\ubcf4\", \"\\ubcf4\", \"\\ubcf4\", \"\\ubcf4\", \"\\ubcf4\", \"\\ubcf4\", \"\\ubcf4\", \"\\ubcf4\", \"\\ubcf4\", \"\\ubcf4\", \"\\ubcf4\", \"\\ubcf4\", \"\\ubcf4\", \"\\ubcf4\", \"\\ubcf4\", \"\\ubcf4\", \"\\ubcf4\", \"\\ubcf4\", \"\\ubcf4\", \"\\ubcf4\", \"\\ubcf4\\ud638\\ub300\", \"\\ubcf4\\ud638\\ub300\", \"\\ubcf4\\ud638\\ub300\", \"\\ubcf4\\ud638\\ub300\", \"\\ubcf4\\ud638\\ub300\", \"\\ubcf4\\ud638\\ub300\", \"\\ubcf4\\ud638\\ub300\", \"\\ubcf4\\ud638\\ub300\", \"\\ubcf4\\ud638\\ub300\", \"\\ubd80\\ubd84\", \"\\ubd80\\ubd84\", \"\\ubd80\\ubd84\", \"\\ubd80\\ubd84\", \"\\ubd80\\ubd84\", \"\\ubd80\\ubd84\", \"\\ubd84\", \"\\ubd84\", \"\\ubd84\", \"\\ubd84\", \"\\ubd84\", \"\\ubd84\", \"\\ubd88\\ud3b8\", \"\\ubd88\\ud3b8\", \"\\ubd88\\ud3b8\", \"\\ubd88\\ud3b8\", \"\\ubd88\\ud3b8\", \"\\ubd88\\ud3b8\", \"\\ubd88\\ud3b8\", \"\\ubd88\\ud3b8\", \"\\ubd88\\ud3b8\", \"\\ubd88\\ud3b8\", \"\\ube44\\uc2f8\", \"\\ube44\\uc2f8\", \"\\ube44\\uc2f8\", \"\\ube44\\uc2f8\", \"\\ube44\\uc2f8\", \"\\ube44\\uc2f8\", \"\\ube44\\uc2f8\", \"\\ube44\\uc2f8\", \"\\ube44\\uc2f8\", \"\\ube60\\ub974\", \"\\ube60\\ub974\", \"\\ube60\\ub974\", \"\\ube60\\ub974\", \"\\ube60\\ub974\", \"\\ube60\\ub974\", \"\\ube60\\ub974\", \"\\ube60\\ub974\", \"\\ube60\\ub974\", \"\\ube60\\ub974\", \"\\ube60\\ub974\", \"\\ube60\\ub974\", \"\\ube60\\ub974\", \"\\ube60\\ub974\", \"\\uc0ac\", \"\\uc0ac\", \"\\uc0ac\", \"\\uc0ac\", \"\\uc0ac\", \"\\uc0ac\", \"\\uc0ac\", \"\\uc0ac\", \"\\uc0ac\", \"\\uc0ac\", \"\\uc0ac\", \"\\uc0ac\", \"\\uc0ac\", \"\\uc0ac\", \"\\uc0ac\", \"\\uc0ac\", \"\\uc0ac\", \"\\uc0ac\\uc6a9\", \"\\uc0ac\\uc6a9\", \"\\uc0ac\\uc6a9\", \"\\uc0ac\\uc6a9\", \"\\uc0ac\\uc6a9\", \"\\uc0ac\\uc6a9\", \"\\uc0ac\\uc6a9\", \"\\uc0ac\\uc6a9\", \"\\uc0ac\\uc6a9\", \"\\uc0ac\\uc6a9\", \"\\uc0ac\\uc6a9\", \"\\uc0ac\\uc6a9\", \"\\uc0ac\\uc6a9\", \"\\uc0ac\\uc6a9\", \"\\uc0ac\\uc6a9\", \"\\uc0ac\\uc6a9\", \"\\uc0ac\\uc6a9\", \"\\uc0ac\\uc6a9\", \"\\uc0ac\\uc6a9\", \"\\uc0ac\\uc6a9\", \"\\uc0ac\\uc6a9\", \"\\uc0ac\\uc6a9\", \"\\uc0ac\\uc6a9\", \"\\uc0ac\\uc6a9\", \"\\uc0ac\\uc6a9\", \"\\uc0ac\\uc6a9\", \"\\uc0ac\\uc6a9\", \"\\uc0ac\\uc6a9\", \"\\uc0ac\\uc6a9\", \"\\uc0ac\\uc6a9\", \"\\uc0ac\\uc6a9\", \"\\uc0ac\\uc6a9\", \"\\uc0ac\\uc774\\uc988\", \"\\uc0ac\\uc774\\uc988\", \"\\uc0ac\\uc774\\uc988\", \"\\uc0ac\\uc774\\uc988\", \"\\uc0ac\\uc774\\uc988\", \"\\uc0ac\\uc774\\uc988\", \"\\uc0ac\\uc774\\uc988\", \"\\uc0ac\\uc774\\uc988\", \"\\uc0ac\\uc774\\uc988\", \"\\uc0ac\\uc774\\uc988\", \"\\uc0ac\\uc774\\uc988\", \"\\uc0ac\\uc774\\uc988\", \"\\uc0ac\\uc774\\uc988\", \"\\uc0ac\\uc774\\uc988\", \"\\uc0ac\\uc774\\uc988\", \"\\uc0ac\\uc774\\uc988\", \"\\uc0dd\\uac01\", \"\\uc0dd\\uac01\", \"\\uc0dd\\uac01\", \"\\uc0dd\\uac01\", \"\\uc0dd\\uac01\", \"\\uc0dd\\uac01\", \"\\uc0dd\\uac01\", \"\\uc0dd\\uac01\", \"\\uc0dd\\uac01\", \"\\uc0dd\\uac01\", \"\\uc0dd\\uac01\", \"\\uc120\\ubb3c\", \"\\uc120\\ubb3c\", \"\\uc120\\ubb3c\", \"\\uc120\\ubb3c\", \"\\uc120\\ubb3c\", \"\\uc120\\ubb3c\", \"\\uc120\\ubb3c\", \"\\uc120\\ubb3c\", \"\\uc218\", \"\\uc218\", \"\\uc218\", \"\\uc218\", \"\\uc218\", \"\\uc218\", \"\\uc218\", \"\\uc218\", \"\\uc218\", \"\\uc218\", \"\\uc2dc\", \"\\uc2dc\", \"\\uc2dc\", \"\\uc2dc\", \"\\uc2dc\", \"\\uc2dc\", \"\\uc2dc\", \"\\uc2dc\", \"\\uc2dc\", \"\\uc4f0\", \"\\uc4f0\", \"\\uc4f0\", \"\\uc4f0\", \"\\uc4f0\", \"\\uc4f0\", \"\\uc4f0\", \"\\uc4f0\", \"\\uc4f0\", \"\\uc4f0\", \"\\uc4f0\", \"\\uc4f0\", \"\\uc4f0\", \"\\uc4f0\", \"\\uc4f0\", \"\\uc4f0\", \"\\uc4f0\", \"\\uc4f0\", \"\\uc544\\ud504\", \"\\uc544\\ud504\", \"\\uc544\\ud504\", \"\\uc544\\ud504\", \"\\uc544\\ud504\", \"\\uc544\\ud504\", \"\\uc544\\ud504\", \"\\uc544\\ud504\", \"\\uc544\\ud504\", \"\\uc544\\ud504\", \"\\uc544\\ud504\", \"\\uc544\\ud504\", \"\\uc544\\ud504\", \"\\uc544\\ud504\", \"\\uc544\\ud504\", \"\\uc544\\ud504\", \"\\uc54a\", \"\\uc54a\", \"\\uc54a\", \"\\uc54a\", \"\\uc54a\", \"\\uc54a\", \"\\uc54a\", \"\\uc54a\", \"\\uc54a\", \"\\uc54a\", \"\\uc54a\", \"\\uc54a\", \"\\uc54a\", \"\\uc54a\", \"\\uc54a\", \"\\uc54a\", \"\\uc54c\", \"\\uc54c\", \"\\uc54c\", \"\\uc54c\", \"\\uc54c\", \"\\uc54c\", \"\\uc555\\ubc15\", \"\\uc555\\ubc15\", \"\\uc555\\ubc15\", \"\\uc555\\ubc15\", \"\\uc5c6\", \"\\uc5c6\", \"\\uc5c6\", \"\\uc5c6\", \"\\uc5c6\", \"\\uc5c6\", \"\\uc5c6\", \"\\uc5c6\", \"\\uc5c6\", \"\\uc5c6\", \"\\uc5c6\", \"\\uc5c6\", \"\\uc5c6\", \"\\uc5c6\", \"\\uc5c6\", \"\\uc5c6\", \"\\uc624\", \"\\uc624\", \"\\uc624\", \"\\uc624\", \"\\uc624\", \"\\uc6b4\\ub3d9\", \"\\uc6b4\\ub3d9\", \"\\uc6b4\\ub3d9\", \"\\uc6b4\\ub3d9\", \"\\uc6b4\\ub3d9\", \"\\uc6b4\\ub3d9\", \"\\uc6b4\\ub3d9\", \"\\uc6b4\\ub3d9\", \"\\uc6b4\\ub3d9\", \"\\uc6b4\\ub3d9\", \"\\uc6b4\\ub3d9\", \"\\uc6b4\\ub3d9\", \"\\uc6b4\\ub3d9\", \"\\uc6b4\\ub3d9\", \"\\uc6b4\\ub3d9\", \"\\uc6b4\\ub3d9\", \"\\uc6b4\\ub3d9\", \"\\uc6b4\\ub3d9\", \"\\uc6b4\\ub3d9\", \"\\uc6b4\\ub3d9\", \"\\uc6b4\\ub3d9\", \"\\uc6b4\\ub3d9\", \"\\uc6b4\\ub3d9\", \"\\uc6b4\\ub3d9\", \"\\uc6b4\\ub3d9\", \"\\uc6b4\\ub3d9\", \"\\uc6b4\\ub3d9\", \"\\uc6b4\\ub3d9\", \"\\uc774\", \"\\uc774\", \"\\uc774\", \"\\uc774\", \"\\uc774\", \"\\uc774\", \"\\uc774\", \"\\uc774\", \"\\uc774\", \"\\uc774\", \"\\uc774\", \"\\uc774\", \"\\uc774\", \"\\uc774\", \"\\uc774\", \"\\uc774\", \"\\uc774\", \"\\uc774\", \"\\uc774\", \"\\uc774\", \"\\uc774\", \"\\uc774\", \"\\uc774\", \"\\uc774\", \"\\uc774\", \"\\uc774\", \"\\uc774\", \"\\uc774\", \"\\uc774\", \"\\uc774\", \"\\uc774\", \"\\uc774\", \"\\uc774\", \"\\uc774\", \"\\uc774\", \"\\uc774\", \"\\uc774\", \"\\uc774\", \"\\uc774\", \"\\uc774\", \"\\uc774\", \"\\uc774\", \"\\uc774\", \"\\uc774\", \"\\uc774\", \"\\uc774\", \"\\uc774\", \"\\uc788\", \"\\uc788\", \"\\uc788\", \"\\uc788\", \"\\uc788\", \"\\uc788\", \"\\uc788\", \"\\uc788\", \"\\uc788\", \"\\uc788\", \"\\uc788\", \"\\uc788\", \"\\uc788\", \"\\uc788\", \"\\uc788\", \"\\uc788\", \"\\uc788\", \"\\uc788\", \"\\uc788\", \"\\uc788\", \"\\uc788\", \"\\uc788\", \"\\uc788\", \"\\uc788\", \"\\uc788\", \"\\uc788\", \"\\uc788\", \"\\uc788\", \"\\uc788\", \"\\uc788\", \"\\uc788\", \"\\uc788\", \"\\uc788\", \"\\uc788\", \"\\uc788\", \"\\uc788\", \"\\uc788\", \"\\uc788\", \"\\uc788\", \"\\uc788\", \"\\uc788\", \"\\uc788\", \"\\uc788\", \"\\uc788\", \"\\uc7a1\", \"\\uc7a1\", \"\\uc7a1\", \"\\uc7a1\", \"\\uc7a1\", \"\\uc7a1\", \"\\uc7a1\", \"\\uc7a1\", \"\\uc7a1\", \"\\uc7a1\", \"\\uc7a1\", \"\\uc7a1\", \"\\uc7a1\", \"\\uc7a1\", \"\\uc7a1\", \"\\uc7a1\", \"\\uc7a1\", \"\\uc7a1\", \"\\uc7a1\", \"\\uc7a1\", \"\\uc7a1\", \"\\uc7a1\", \"\\uc7a1\", \"\\uc7a1\", \"\\uc7a1\", \"\\uc7a1\", \"\\uc7a1\", \"\\uc7a1\", \"\\uc7a1\", \"\\uc7a1\", \"\\uc7a1\", \"\\uc7a1\", \"\\uc7a1\", \"\\uc7a1\", \"\\uc7a1\", \"\\uc7a1\", \"\\uc7a1\", \"\\uc81c\\ud488\", \"\\uc81c\\ud488\", \"\\uc81c\\ud488\", \"\\uc81c\\ud488\", \"\\uc81c\\ud488\", \"\\uc81c\\ud488\", \"\\uc81c\\ud488\", \"\\uc81c\\ud488\", \"\\uc81c\\ud488\", \"\\uc81c\\ud488\", \"\\uc81c\\ud488\", \"\\uc81c\\ud488\", \"\\uc81c\\ud488\", \"\\uc81c\\ud488\", \"\\uc81c\\ud488\", \"\\uc81c\\ud488\", \"\\uc81c\\ud488\", \"\\uc81c\\ud488\", \"\\uc81c\\ud488\", \"\\uc81c\\ud488\", \"\\uc81c\\ud488\", \"\\uc88b\", \"\\uc88b\", \"\\uc88b\", \"\\uc88b\", \"\\uc88b\", \"\\uc88b\", \"\\uc88b\", \"\\uc88b\", \"\\uc88b\", \"\\uc88b\", \"\\uc88b\", \"\\uc88b\", \"\\uc88b\", \"\\uc88b\", \"\\uc88b\", \"\\uc88b\", \"\\uc88b\", \"\\uc88b\", \"\\uc88b\", \"\\uc88b\", \"\\uc88b\", \"\\uc88b\", \"\\uc88b\", \"\\uc88b\", \"\\uc88b\", \"\\uc88b\", \"\\uc88b\", \"\\uc88b\", \"\\uc88b\", \"\\uc88b\", \"\\uc88b\", \"\\uc88b\", \"\\uc88b\", \"\\uc88b\", \"\\uc88b\", \"\\uc88b\", \"\\uc88b\", \"\\uc88b\", \"\\uc88b\", \"\\uc88b\", \"\\uc88b\", \"\\uc88b\", \"\\uc88b\", \"\\uc88b\", \"\\uc88b\", \"\\uc88b\", \"\\uc88b\", \"\\uc88b\", \"\\uc88b\", \"\\uc88b\", \"\\uc88b\", \"\\uc88b\", \"\\uc88b\", \"\\uc88b\", \"\\uc8fc\", \"\\uc8fc\", \"\\uc8fc\", \"\\uc8fc\", \"\\uc8fc\", \"\\uc8fc\", \"\\uc8fc\", \"\\uc8fc\", \"\\uc8fc\", \"\\uc8fc\", \"\\uc8fc\", \"\\uc8fc\", \"\\uc8fc\", \"\\uc8fc\", \"\\uc8fc\", \"\\uc8fc\", \"\\uc8fc\", \"\\uc8fc\", \"\\uc8fc\", \"\\uc8fc\", \"\\uc8fc\", \"\\uc8fc\", \"\\uc8fc\", \"\\uc8fc\", \"\\uc8fc\", \"\\uc8fc\", \"\\uc8fc\", \"\\uc8fc\", \"\\uc8fc\", \"\\uc8fc\", \"\\uc8fc\", \"\\uc8fc\", \"\\uc8fc\", \"\\uc8fc\", \"\\uc8fc\", \"\\uc8fc\", \"\\uc8fc\", \"\\uc8fc\", \"\\uc8fc\", \"\\uc8fc\", \"\\uc8fc\", \"\\uc8fc\", \"\\uc8fc\", \"\\uc8fc\", \"\\uc8fc\", \"\\uc8fc\", \"\\uc8fc\\ubb38\", \"\\uc8fc\\ubb38\", \"\\uc8fc\\ubb38\", \"\\uc8fc\\ubb38\", \"\\uc8fc\\ubb38\", \"\\uc8fc\\ubb38\", \"\\uc8fc\\ubb38\", \"\\uc8fc\\ubb38\", \"\\uc8fc\\ubb38\", \"\\uc8fc\\ubb38\", \"\\uc8fc\\ubb38\", \"\\uc911\", \"\\uc911\", \"\\uc911\", \"\\uc911\", \"\\uc911\", \"\\uc911\", \"\\uc911\", \"\\uc911\", \"\\uc911\", \"\\uc9c0\", \"\\uc9c0\", \"\\uc9c0\", \"\\uc9c0\", \"\\uc9c0\", \"\\uc9c0\", \"\\uc9c0\", \"\\uc9c0\", \"\\uc9c0\", \"\\uc9c0\", \"\\uc9f1\\uc9f1\", \"\\uc9f1\\uc9f1\", \"\\uc9f1\\uc9f1\", \"\\uc9f1\\uc9f1\", \"\\uc9f1\\uc9f1\", \"\\uc9f1\\uc9f1\", \"\\uc9f1\\uc9f1\", \"\\uc9f1\\uc9f1\", \"\\uc9f1\\uc9f1\", \"\\ucc29\\uc6a9\", \"\\ucc29\\uc6a9\", \"\\ucc29\\uc6a9\", \"\\ucc29\\uc6a9\", \"\\ucc29\\uc6a9\", \"\\ucc29\\uc6a9\", \"\\ucc29\\uc6a9\", \"\\ucc29\\uc6a9\", \"\\ucc29\\uc6a9\", \"\\ucc29\\uc6a9\", \"\\ucc29\\uc6a9\", \"\\ucc29\\uc6a9\", \"\\ucc29\\uc6a9\", \"\\ucc29\\uc6a9\", \"\\ucc29\\uc6a9\", \"\\ucc29\\uc6a9\", \"\\ucc29\\uc6a9\", \"\\ucc29\\uc6a9\", \"\\ucc29\\uc6a9\", \"\\ucc29\\uc6a9\", \"\\ucc29\\uc6a9\", \"\\ucc29\\uc6a9\", \"\\ucc29\\uc6a9\", \"\\ucc29\\uc6a9\", \"\\ucc29\\uc6a9\", \"\\ucc29\\uc6a9\", \"\\ucc29\\uc6a9\", \"\\ucc29\\uc6a9\", \"\\ucc29\\uc6a9\", \"\\ucc29\\uc6a9\", \"\\ucc29\\uc6a9\", \"\\ucc29\\uc6a9\", \"\\ucc29\\uc6a9\", \"\\ucc29\\uc6a9\", \"\\ucc29\\uc6a9\", \"\\ucc29\\uc6a9\", \"\\ucc29\\uc6a9\", \"\\ucc29\\uc6a9\", \"\\ucc29\\uc6a9\", \"\\ucc29\\uc6a9\", \"\\ucc29\\uc6a9\", \"\\ucd94\\ucc9c\", \"\\ucd94\\ucc9c\", \"\\ucd94\\ucc9c\", \"\\ucd94\\ucc9c\", \"\\ucd94\\ucc9c\", \"\\ucd94\\ucc9c\", \"\\ucd94\\ucc9c\", \"\\ucd94\\ucc9c\", \"\\ucd94\\ucc9c\", \"\\ucd94\\ucc9c\", \"\\ucd94\\ucc9c\", \"\\ud1b5\\uc99d\", \"\\ud1b5\\uc99d\", \"\\ud1b5\\uc99d\", \"\\ud1b5\\uc99d\", \"\\ud1b5\\uc99d\", \"\\ud1b5\\uc99d\", \"\\ud1b5\\uc99d\", \"\\ud1b5\\uc99d\", \"\\ud1b5\\uc99d\", \"\\ud1b5\\uc99d\", \"\\ud3b8\\ud558\", \"\\ud3b8\\ud558\", \"\\ud3b8\\ud558\", \"\\ud3b8\\ud558\", \"\\ud3b8\\ud558\", \"\\ud3b8\\ud558\", \"\\ud3b8\\ud558\", \"\\ud3b8\\ud558\", \"\\ud558\", \"\\ud558\", \"\\ud558\", \"\\ud558\", \"\\ud558\", \"\\ud558\", \"\\ud558\", \"\\ud558\", \"\\ud558\", \"\\ud558\", \"\\ud558\", \"\\ud558\", \"\\ud558\", \"\\ud558\", \"\\ud558\", \"\\ud558\", \"\\ud558\", \"\\ud558\", \"\\ud558\", \"\\ud558\", \"\\ud558\", \"\\ud558\", \"\\ud558\", \"\\ud558\", \"\\ud558\", \"\\ud558\", \"\\ud558\", \"\\ud558\", \"\\ud558\", \"\\ud558\", \"\\ud558\", \"\\ud558\", \"\\ud558\", \"\\ud558\", \"\\ud558\", \"\\ud558\", \"\\ud558\", \"\\ud558\", \"\\ud558\", \"\\ud558\", \"\\ud558\", \"\\ud558\", \"\\ud558\", \"\\ud558\", \"\\ud558\", \"\\ud558\", \"\\ud558\\ub098\", \"\\ud558\\ub098\", \"\\ud558\\ub098\", \"\\ud558\\ub098\", \"\\ud558\\ub098\", \"\\ud558\\ub098\", \"\\ud558\\ub098\", \"\\ud558\\ub098\", \"\\ud558\\ub098\", \"\\ud6a8\\uacfc\", \"\\ud6a8\\uacfc\", \"\\ud6a8\\uacfc\", \"\\ud6a8\\uacfc\", \"\\ud6a8\\uacfc\", \"\\ud6a8\\uacfc\", \"\\ud6c4\", \"\\ud6c4\", \"\\ud6c4\", \"\\ud6c4\", \"\\ud6c4\", \"\\ud6c4\", \"\\ud6c4\", \"\\ud6c4\", \"\\ud6c4\", \"\\ud6c4\", \"\\ud6c4\", \"\\ud6c4\", \"\\ud6c4\", \"\\ud6c4\", \"\\ud788\", \"\\ud788\", \"\\ud788\", \"\\ud788\", \"\\ud788\", \"\\ud788\"]}, \"R\": 30, \"lambda.step\": 0.01, \"plot.opts\": {\"xlab\": \"PC1\", \"ylab\": \"PC2\"}, \"topic.order\": [1, 2, 3, 4, 5, 6, 7, 8, 9, 10, 11, 12, 13, 14, 15, 16, 17, 18, 19, 20, 21, 22, 23, 24, 25, 26, 27, 28, 29, 30, 31, 32, 33, 34, 35, 36, 37, 38, 39, 40, 41, 42, 43, 44, 45, 46, 47, 48, 49, 50, 51, 52, 53, 54, 55, 56, 57, 58, 59, 60, 61, 62, 63, 64, 65, 66, 67, 68, 69, 70, 71, 72, 73, 74, 75, 76, 77, 78, 79, 80, 81, 82, 83, 84, 85, 86, 87, 88, 89, 90, 91, 92, 93, 94, 95, 96, 97, 98, 99, 100]};\n",
       "\n",
       "function LDAvis_load_lib(url, callback){\n",
       "  var s = document.createElement('script');\n",
       "  s.src = url;\n",
       "  s.async = true;\n",
       "  s.onreadystatechange = s.onload = callback;\n",
       "  s.onerror = function(){console.warn(\"failed to load library \" + url);};\n",
       "  document.getElementsByTagName(\"head\")[0].appendChild(s);\n",
       "}\n",
       "\n",
       "if(typeof(LDAvis) !== \"undefined\"){\n",
       "   // already loaded: just create the visualization\n",
       "   !function(LDAvis){\n",
       "       new LDAvis(\"#\" + \"ldavis_el172428113237433601230393511\", ldavis_el172428113237433601230393511_data);\n",
       "   }(LDAvis);\n",
       "}else if(typeof define === \"function\" && define.amd){\n",
       "   // require.js is available: use it to load d3/LDAvis\n",
       "   require.config({paths: {d3: \"https://cdnjs.cloudflare.com/ajax/libs/d3/3.5.5/d3.min\"}});\n",
       "   require([\"d3\"], function(d3){\n",
       "      window.d3 = d3;\n",
       "      LDAvis_load_lib(\"https://cdn.rawgit.com/bmabey/pyLDAvis/files/ldavis.v1.0.0.js\", function(){\n",
       "        new LDAvis(\"#\" + \"ldavis_el172428113237433601230393511\", ldavis_el172428113237433601230393511_data);\n",
       "      });\n",
       "    });\n",
       "}else{\n",
       "    // require.js not available: dynamically load d3 & LDAvis\n",
       "    LDAvis_load_lib(\"https://cdnjs.cloudflare.com/ajax/libs/d3/3.5.5/d3.min.js\", function(){\n",
       "         LDAvis_load_lib(\"https://cdn.rawgit.com/bmabey/pyLDAvis/files/ldavis.v1.0.0.js\", function(){\n",
       "                 new LDAvis(\"#\" + \"ldavis_el172428113237433601230393511\", ldavis_el172428113237433601230393511_data);\n",
       "            })\n",
       "         });\n",
       "}\n",
       "</script>"
      ],
      "text/plain": [
       "<IPython.core.display.HTML object>"
      ]
     },
     "execution_count": 83,
     "metadata": {},
     "output_type": "execute_result"
    }
   ],
   "source": [
    "pyLDAvis.display(p)"
   ]
  },
  {
   "cell_type": "markdown",
   "metadata": {},
   "source": [
    "## 응집도 계산"
   ]
  },
  {
   "cell_type": "code",
   "execution_count": 84,
   "metadata": {},
   "outputs": [
    {
     "name": "stderr",
     "output_type": "stream",
     "text": [
      "C:\\ProgramData\\Anaconda3\\lib\\site-packages\\ipykernel\\ipkernel.py:287: DeprecationWarning: `should_run_async` will not call `transform_cell` automatically in the future. Please pass the result to `transformed_cell` argument and any exception that happen during thetransform in `preprocessing_exc_tuple` in IPython 7.17 and above.\n",
      "  and should_run_async(code)\n"
     ]
    }
   ],
   "source": [
    "from gensim.models import CoherenceModel"
   ]
  },
  {
   "cell_type": "code",
   "execution_count": 85,
   "metadata": {},
   "outputs": [
    {
     "name": "stderr",
     "output_type": "stream",
     "text": [
      "C:\\ProgramData\\Anaconda3\\lib\\site-packages\\ipykernel\\ipkernel.py:287: DeprecationWarning: `should_run_async` will not call `transform_cell` automatically in the future. Please pass the result to `transformed_cell` argument and any exception that happen during thetransform in `preprocessing_exc_tuple` in IPython 7.17 and above.\n",
      "  and should_run_async(code)\n"
     ]
    },
    {
     "data": {
      "text/plain": [
       "0.33554623812106527"
      ]
     },
     "execution_count": 85,
     "metadata": {},
     "output_type": "execute_result"
    }
   ],
   "source": [
    "coh = CoherenceModel(model=model, corpus=corpus, texts=docs, dictionary=dic, coherence='c_v')\n",
    "coh.get_coherence()\n",
    "#응집도는 높으면 좋음, 주제 100개와 50개로 비교했을때 뭐가 응집도가 더 높은지 확인해서 주제 개수를 "
   ]
  },
  {
   "cell_type": "code",
   "execution_count": null,
   "metadata": {},
   "outputs": [],
   "source": []
  }
 ],
 "metadata": {
  "kernelspec": {
   "display_name": "Python 3 (ipykernel)",
   "language": "python",
   "name": "python3"
  },
  "language_info": {
   "codemirror_mode": {
    "name": "ipython",
    "version": 3
   },
   "file_extension": ".py",
   "mimetype": "text/x-python",
   "name": "python",
   "nbconvert_exporter": "python",
   "pygments_lexer": "ipython3",
   "version": "3.11.7"
  }
 },
 "nbformat": 4,
 "nbformat_minor": 4
}
