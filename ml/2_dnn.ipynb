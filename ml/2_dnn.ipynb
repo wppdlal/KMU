{
 "cells": [
  {
   "cell_type": "code",
   "execution_count": 1,
   "metadata": {},
   "outputs": [],
   "source": [
    "import tensorflow as tf\n",
    "from tensorflow import keras"
   ]
  },
  {
   "cell_type": "code",
   "execution_count": 2,
   "metadata": {},
   "outputs": [],
   "source": [
    "import pandas as pd\n",
    "import numpy as np\n",
    "import random\n",
    "import os\n",
    "import gc\n",
    "import warnings; warnings.filterwarnings(\"ignore\")\n",
    "from sklearn.impute import SimpleImputer "
   ]
  },
  {
   "cell_type": "code",
   "execution_count": 3,
   "metadata": {},
   "outputs": [
    {
     "name": "stdout",
     "output_type": "stream",
     "text": [
      "WARNING:tensorflow:From C:\\Users\\wpdlal\\AppData\\Local\\Temp\\ipykernel_21736\\1824057213.py:10: The name tf.set_random_seed is deprecated. Please use tf.compat.v1.set_random_seed instead.\n",
      "\n",
      "RANDOM SEEDS RESET\n"
     ]
    }
   ],
   "source": [
    "def reset_seeds(reset_graph_with_backend=None):\n",
    "    if reset_graph_with_backend is not None:\n",
    "        K = reset_graph_with_backend\n",
    "        K.clear_session()\n",
    "        tf.compat.v1.reset_default_graph()\n",
    "        print(\"KERAS AND TENSORFLOW GRAPHS RESET\")  # optional\n",
    "\n",
    "    np.random.seed(1)\n",
    "    random.seed(2)\n",
    "    tf.compat.v1.set_random_seed(3)\n",
    "    os.environ['CUDA_VISIBLE_DEVICES'] = ''  # for GPU\n",
    "    print(\"RANDOM SEEDS RESET\")  # optional\n",
    "   \n",
    "reset_seeds()"
   ]
  },
  {
   "cell_type": "code",
   "execution_count": 4,
   "metadata": {},
   "outputs": [],
   "source": [
    "panel = pd.read_csv(os.path.abspath(\"../input\")+'/panel.csv')\n",
    "survey = pd.read_csv(os.path.abspath(\"../input\")+'/survey.csv')\n",
    "response_train = pd.read_csv(os.path.abspath(\"../input\")+'/response_train.csv')\n",
    "response_test = pd.read_csv(os.path.abspath(\"../input\")+'/response_test.csv')"
   ]
  },
  {
   "cell_type": "code",
   "execution_count": 5,
   "metadata": {},
   "outputs": [],
   "source": [
    "# panel조사 분류별 응답률 피처 생성\n",
    "SQ = ['SQ1', 'SQ2', 'SQ3', 'SQ4', 'SQ5', 'SQ6', 'SQ7', 'SQ8'] # 개인정보\n",
    "A = ['A1'] # 신규구입/렌트 가전\n",
    "B = ['B1', 'B2', 'B3', 'B4', 'B5'] # 통신\n",
    "C = ['C1', 'C2', 'C3'] # 보험/금융\n",
    "D = ['DQ1', 'DQ2', 'DQ3', 'DQ4', 'DQ5', 'DQ6', 'DQ7'] # 직업\n",
    "F = ['F1', 'F2'] # 이용마트\n",
    "H = ['H1'] # 음용주류\n",
    "T = ['T1'] # 담배\n",
    "X = ['X1', 'X2', 'X3', 'X4'] # 자동차\n",
    "\n",
    "panel['SQ_R'] = 1 - panel[SQ].isnull().mean(axis=1)\n",
    "panel['A_R'] = 1 - panel[A].isnull().mean(axis=1)\n",
    "panel['B_R'] = 1 - panel[B].isnull().mean(axis=1)\n",
    "panel['C_R'] = 1 - panel[C].isnull().mean(axis=1)\n",
    "panel['D_R'] = 1 - panel[D].isnull().mean(axis=1)\n",
    "panel['F_R'] = 1 - panel[F].isnull().mean(axis=1)\n",
    "panel['H_R'] = 1 - panel[H].isnull().mean(axis=1)\n",
    "panel['T_R'] = 1 - panel[T].isnull().mean(axis=1)\n",
    "panel['X_R'] = 1 - panel[X].isnull().mean(axis=1)\n",
    "# panel 조사 전체 응답률\n",
    "panel['ALL_R'] = 1 - panel[SQ+A+B+C+D+F+H+T+X].isnull().mean(axis=1)"
   ]
  },
  {
   "cell_type": "code",
   "execution_count": 6,
   "metadata": {},
   "outputs": [],
   "source": [
    "train = response_train.merge(panel).merge(survey)\n",
    "test = response_test.merge(panel).merge(survey).sort_values(by='ID')"
   ]
  },
  {
   "cell_type": "code",
   "execution_count": 7,
   "metadata": {},
   "outputs": [
    {
     "data": {
      "text/plain": [
       "0"
      ]
     },
     "execution_count": 7,
     "metadata": {},
     "output_type": "execute_result"
    }
   ],
   "source": [
    "del panel, survey, response_train, response_test\n",
    "gc.collect()"
   ]
  },
  {
   "cell_type": "markdown",
   "metadata": {},
   "source": [
    "설문조사 칼럼 값 다듬기"
   ]
  },
  {
   "cell_type": "code",
   "execution_count": 9,
   "metadata": {},
   "outputs": [],
   "source": [
    "def handle_profile_SQ4(x):\n",
    "    if x in ['1', '2', '3', '4', '5', '6']:\n",
    "        return int(x)\n",
    "    elif x in ['1,', '2,', '3,', '4,', '5,', '6,']:\n",
    "        return int(x[0])\n",
    "    else:\n",
    "        return 99\n",
    "\n",
    "train.SQ4 = train.SQ4.apply(handle_profile_SQ4)\n",
    "test.SQ4 = test.SQ4.apply(handle_profile_SQ4)"
   ]
  },
  {
   "cell_type": "code",
   "execution_count": 10,
   "metadata": {},
   "outputs": [],
   "source": [
    "def handle_profile_SQ5(x):\n",
    "    if x in ['1', '2', '3', '4']:\n",
    "        return int(x)\n",
    "    elif x in ['1.0', '2.0', '3.0', '4.0']:\n",
    "        return int(x[0])\n",
    "    else:\n",
    "        return 99\n",
    "\n",
    "train.SQ5 = train.SQ5.apply(handle_profile_SQ5)\n",
    "test.SQ5 = test.SQ5.apply(handle_profile_SQ5)"
   ]
  },
  {
   "cell_type": "code",
   "execution_count": 11,
   "metadata": {},
   "outputs": [],
   "source": [
    "def handle_profile_SQ6(x):\n",
    "    if x in ['1', '2']:\n",
    "        return int(x)\n",
    "    elif x in ['1,', '2,']:\n",
    "        return int(x[0])\n",
    "    else:\n",
    "        return 99\n",
    "\n",
    "train.SQ6 = train.SQ6.apply(handle_profile_SQ6)\n",
    "test.SQ6 = test.SQ6.apply(handle_profile_SQ6)"
   ]
  },
  {
   "cell_type": "code",
   "execution_count": 12,
   "metadata": {},
   "outputs": [],
   "source": [
    "value1 = pd.Series(range(1,17)).apply(lambda x: str(x)).tolist()\n",
    "value2 = pd.Series(np.arange(1.0,17.0)).apply(lambda x: str(x)).tolist()\n",
    "def handle_profile_SQ7(x):\n",
    "    if x in value1:\n",
    "        return int(x)\n",
    "    elif x in value2:\n",
    "        return int(x[0])\n",
    "    else:\n",
    "        return 99\n",
    "\n",
    "train.SQ7 = train.SQ7.apply(handle_profile_SQ7)\n",
    "test.SQ7 = test.SQ7.apply(handle_profile_SQ7)"
   ]
  },
  {
   "cell_type": "code",
   "execution_count": 13,
   "metadata": {},
   "outputs": [],
   "source": [
    "def handle_profile_SQ8(x):\n",
    "    if x in ['1', '2', '3', '4', '5']:\n",
    "        return int(x)\n",
    "    else:\n",
    "        return 99\n",
    "\n",
    "train.SQ8 = train.SQ8.apply(handle_profile_SQ8)\n",
    "test.SQ8 = test.SQ8.apply(handle_profile_SQ8)"
   ]
  },
  {
   "cell_type": "code",
   "execution_count": 14,
   "metadata": {},
   "outputs": [],
   "source": [
    "values = pd.Series(range(1,23)).apply(lambda x: str(x)).tolist() # [1,2,...,22]\n",
    "def handle_profile_A1(x):    \n",
    "    if x in values:\n",
    "        return int(x)\n",
    "    else:\n",
    "        return 99\n",
    "\n",
    "train.A1 = train.A1.apply(handle_profile_A1)\n",
    "test.A1 = test.A1.apply(handle_profile_A1)"
   ]
  },
  {
   "cell_type": "code",
   "execution_count": 15,
   "metadata": {},
   "outputs": [],
   "source": [
    "def handle_profile_B1(x):    \n",
    "    if x in ['1']:\n",
    "        return 2\n",
    "    elif x in ['2', '3']:\n",
    "        return 3\n",
    "    elif x in ['4', '5', '6', '7']:\n",
    "        return 4\n",
    "    elif x in ['8']:\n",
    "        return 5\n",
    "    else:\n",
    "        return 99\n",
    "\n",
    "train.B1 = train.B1.apply(handle_profile_B1)\n",
    "test.B1 = test.B1.apply(handle_profile_B1)"
   ]
  },
  {
   "cell_type": "code",
   "execution_count": 16,
   "metadata": {},
   "outputs": [],
   "source": [
    "def handle_profile_B2(x):\n",
    "    if x in ['1', '2', '3', '4', '5', '6']:\n",
    "        return int(x)\n",
    "    else:\n",
    "        return 99\n",
    "\n",
    "train.B2 = train.B2.apply(handle_profile_B2)\n",
    "test.B2 = test.B2.apply(handle_profile_B2)"
   ]
  },
  {
   "cell_type": "code",
   "execution_count": 17,
   "metadata": {},
   "outputs": [],
   "source": [
    "def handle_profile_B3(x):    \n",
    "    if x in ['1', '2', '3']:\n",
    "        return int(x)\n",
    "    elif x in ['1,', '2,', '3,']:\n",
    "        return int(x[0])\n",
    "    elif x in ['99', '99,']:\n",
    "        return 99\n",
    "    else:\n",
    "        return 4  # 기타 제조사\n",
    "\n",
    "train.B3 = train.B3.apply(handle_profile_B3)\n",
    "test.B3 = test.B3.apply(handle_profile_B3)"
   ]
  },
  {
   "cell_type": "code",
   "execution_count": 18,
   "metadata": {},
   "outputs": [],
   "source": [
    "import re\n",
    "\n",
    "# 해당 단어가 얼마나 자주 등장하는지에 대한 점수\n",
    "word_counts = {}\n",
    "def count_word(x): #status=1인 데이터의 title에서 한글 단어 빈도 계산\n",
    "    if x['STATUS'] == 1:\n",
    "        for w in re.sub(r'[^ ㄱ-ㅣ가-힣]', '', x['TITLE']).split():\n",
    "            # 문자열에서 한글이 아닌 문자 제거\n",
    "            word_counts[w] = word_counts.get(w, 0) + 1 # 한글단어 출현 빈도 저장\n",
    "def score_word(x): # 빈도 기반으로 title을 인코딩 \n",
    "    score = 0\n",
    "    for w in re.sub(r'[^ ㄱ-ㅣ가-힣]', '', x['TITLE']).split():\n",
    "        score += word_counts.get(w, 0) # 단어 빈도 합산\n",
    "    return score    \n",
    "            \n",
    "train.apply(count_word, axis=1)\n",
    "train.TITLE = train.apply(score_word, axis=1)\n",
    "test.TITLE = test.apply(score_word, axis=1)"
   ]
  },
  {
   "cell_type": "code",
   "execution_count": 19,
   "metadata": {},
   "outputs": [],
   "source": [
    "train.TIME = train.TIME.astype('datetime64[s]')\n",
    "test.TIME = test.TIME.astype('datetime64[s]')"
   ]
  },
  {
   "cell_type": "code",
   "execution_count": 20,
   "metadata": {},
   "outputs": [],
   "source": [
    "train['TIME_hour'] = train.TIME.dt.hour\n",
    "train['TIME_min'] = train.TIME.dt.minute\n",
    "train['dayofweek'] = train.TIME.dt.dayofweek\n",
    "\n",
    "test['TIME_hour'] = test.TIME.dt.hour\n",
    "test['TIME_min'] = test.TIME.dt.minute\n",
    "test['dayofweek'] = test.TIME.dt.dayofweek"
   ]
  },
  {
   "cell_type": "code",
   "execution_count": 21,
   "metadata": {},
   "outputs": [],
   "source": [
    "y_train = train['STATUS']\n",
    "test_id = test.ID\n",
    "# 중복 + 결측치 비율이 30% 이상인 칼럼 삭제\n",
    "X_train = train.drop(['userID','surveyID','TIME','STATUS',\n",
    "                     'TYPE','SQ1','SQ2','SQ3','B4','B5',\n",
    "                     'C1','C2','C3','F1','F2','H1',\n",
    "                     'T1','X1','X2','X3','X4','DQ1','DQ2','DQ3',\n",
    "                     'DQ4','DQ5','DQ6','DQ7','CATEGORIES'], axis = 1)\n",
    "X_test = test.drop(['userID','ID','surveyID','TIME',\n",
    "                   'TYPE','SQ1','SQ2','SQ3','B4','B5',\n",
    "                     'C1','C2','C3','F1','F2','H1',\n",
    "                     'T1','X1','X2','X3','X4','DQ1','DQ2','DQ3',\n",
    "                     'DQ4','DQ5','DQ6','DQ7','CATEGORIES'], axis = 1)"
   ]
  },
  {
   "cell_type": "code",
   "execution_count": 22,
   "metadata": {},
   "outputs": [
    {
     "data": {
      "text/plain": [
       "44"
      ]
     },
     "execution_count": 22,
     "metadata": {},
     "output_type": "execute_result"
    }
   ],
   "source": [
    "del train, test\n",
    "gc.collect()"
   ]
  },
  {
   "cell_type": "code",
   "execution_count": 23,
   "metadata": {},
   "outputs": [],
   "source": [
    "# 범주형 변수와 수치형 변수를 분리\n",
    "cat_features = ['GENDER','dayofweek','REGION','SQ4','SQ5','SQ6','SQ7',\n",
    "                'SQ8','A1','B1','B2','B3']\n",
    "num_features = list(set(X_train.columns) - set(cat_features))"
   ]
  },
  {
   "cell_type": "code",
   "execution_count": 24,
   "metadata": {},
   "outputs": [],
   "source": [
    "num_na = ['BIRTH']\n",
    "cat_na = ['GENDER', 'REGION']"
   ]
  },
  {
   "cell_type": "code",
   "execution_count": 25,
   "metadata": {},
   "outputs": [],
   "source": [
    "from sklearn.impute import SimpleImputer \n",
    "\n",
    "if len(num_na) > 0:\n",
    "    imp = SimpleImputer(strategy='mean')\n",
    "    X_train[num_na] = imp.fit_transform(X_train[num_na])\n",
    "    X_test[num_na] = imp.transform(X_test[num_na])\n",
    "if len(cat_na) > 0:  \n",
    "    imp = SimpleImputer(strategy=\"most_frequent\")\n",
    "    X_train[cat_na] = imp.fit_transform(X_train[cat_na])\n",
    "    X_test[cat_na] = imp.transform(X_test[cat_na])"
   ]
  },
  {
   "cell_type": "code",
   "execution_count": 26,
   "metadata": {},
   "outputs": [],
   "source": [
    "# 데이터 스케일링\n",
    "from sklearn.preprocessing import StandardScaler\n",
    "\n",
    "scaler = StandardScaler()\n",
    "X_train[num_features] = scaler.fit_transform(X_train[num_features])\n",
    "X_test[num_features] = scaler.transform(X_test[num_features])"
   ]
  },
  {
   "cell_type": "code",
   "execution_count": 27,
   "metadata": {},
   "outputs": [],
   "source": [
    "from sklearn.preprocessing import OneHotEncoder"
   ]
  },
  {
   "cell_type": "code",
   "execution_count": 28,
   "metadata": {},
   "outputs": [],
   "source": [
    "# 원 핫 인코딩\n",
    "for i in cat_features:\n",
    "    ohe = OneHotEncoder(sparse=False)\n",
    "    \n",
    "    # 변환된 데이터\n",
    "    a = ohe.fit_transform(X_train[[i]])\n",
    "    b = ohe.transform(X_test[[i]])\n",
    "    \n",
    "    # 새로운 컬럼명 생성 (컬럼명_값 형태)\n",
    "    new_columns = [f\"{i}_{val}\" for val in ohe.categories_[0]]\n",
    "    \n",
    "    # 데이터프레임으로 변환\n",
    "    c = pd.DataFrame(a, columns=new_columns, index=X_train.index)\n",
    "    d = pd.DataFrame(b, columns=new_columns, index=X_test.index)\n",
    "    \n",
    "    # 기존 카테고리 변수 제거 후 새로운 컬럼 추가\n",
    "    X_train = pd.concat([X_train.drop(columns=[i]), c], axis=1)\n",
    "    X_test = pd.concat([X_test.drop(columns=[i]), d], axis=1)"
   ]
  },
  {
   "cell_type": "code",
   "execution_count": 32,
   "metadata": {},
   "outputs": [],
   "source": [
    "#X_train = X_train.astype(float)\n",
    "#X_test = X_test.astype(float)"
   ]
  },
  {
   "cell_type": "code",
   "execution_count": 30,
   "metadata": {},
   "outputs": [],
   "source": [
    "import shap\n",
    "from lightgbm import LGBMClassifier"
   ]
  },
  {
   "cell_type": "code",
   "execution_count": 42,
   "metadata": {},
   "outputs": [
    {
     "name": "stdout",
     "output_type": "stream",
     "text": [
      "[LightGBM] [Info] Number of positive: 417654, number of negative: 752891\n",
      "[LightGBM] [Info] Auto-choosing row-wise multi-threading, the overhead of testing was 0.076496 seconds.\n",
      "You can set `force_row_wise=true` to remove the overhead.\n",
      "And if memory is not enough, you can set `force_col_wise=true`.\n",
      "[LightGBM] [Info] Total Bins 589\n",
      "[LightGBM] [Info] Number of data points in the train set: 1170545, number of used features: 121\n",
      "[LightGBM] [Info] [binary:BoostFromScore]: pavg=0.356803 -> initscore=-0.589267\n",
      "[LightGBM] [Info] Start training from score -0.589267\n"
     ]
    },
    {
     "data": {
      "image/png": "[encoded data removed]",
      "text/plain": [
       "<Figure size 800x950 with 1 Axes>"
      ]
     },
     "metadata": {},
     "output_type": "display_data"
    },
    {
     "data": {
      "text/html": [
       "<div>\n",
       "<style scoped>\n",
       "    .dataframe tbody tr th:only-of-type {\n",
       "        vertical-align: middle;\n",
       "    }\n",
       "\n",
       "    .dataframe tbody tr th {\n",
       "        vertical-align: top;\n",
       "    }\n",
       "\n",
       "    .dataframe thead th {\n",
       "        text-align: right;\n",
       "    }\n",
       "</style>\n",
       "<table border=\"1\" class=\"dataframe\">\n",
       "  <thead>\n",
       "    <tr style=\"text-align: right;\">\n",
       "      <th></th>\n",
       "      <th>column_name</th>\n",
       "      <th>shap_importance</th>\n",
       "    </tr>\n",
       "  </thead>\n",
       "  <tbody>\n",
       "    <tr>\n",
       "      <th>103</th>\n",
       "      <td>A1_99</td>\n",
       "      <td>0.731154</td>\n",
       "    </tr>\n",
       "    <tr>\n",
       "      <th>5</th>\n",
       "      <td>D_R</td>\n",
       "      <td>0.337415</td>\n",
       "    </tr>\n",
       "    <tr>\n",
       "      <th>0</th>\n",
       "      <td>BIRTH</td>\n",
       "      <td>0.305397</td>\n",
       "    </tr>\n",
       "    <tr>\n",
       "      <th>11</th>\n",
       "      <td>TITLE</td>\n",
       "      <td>0.198286</td>\n",
       "    </tr>\n",
       "    <tr>\n",
       "      <th>14</th>\n",
       "      <td>CPI</td>\n",
       "      <td>0.190871</td>\n",
       "    </tr>\n",
       "    <tr>\n",
       "      <th>...</th>\n",
       "      <td>...</td>\n",
       "      <td>...</td>\n",
       "    </tr>\n",
       "    <tr>\n",
       "      <th>114</th>\n",
       "      <td>B2_6</td>\n",
       "      <td>0.0</td>\n",
       "    </tr>\n",
       "    <tr>\n",
       "      <th>94</th>\n",
       "      <td>A1_14</td>\n",
       "      <td>0.0</td>\n",
       "    </tr>\n",
       "    <tr>\n",
       "      <th>91</th>\n",
       "      <td>A1_11</td>\n",
       "      <td>0.0</td>\n",
       "    </tr>\n",
       "    <tr>\n",
       "      <th>85</th>\n",
       "      <td>A1_5</td>\n",
       "      <td>0.0</td>\n",
       "    </tr>\n",
       "    <tr>\n",
       "      <th>10</th>\n",
       "      <td>ALL_R</td>\n",
       "      <td>0.0</td>\n",
       "    </tr>\n",
       "  </tbody>\n",
       "</table>\n",
       "<p>121 rows × 2 columns</p>\n",
       "</div>"
      ],
      "text/plain": [
       "    column_name shap_importance\n",
       "103       A1_99        0.731154\n",
       "5           D_R        0.337415\n",
       "0         BIRTH        0.305397\n",
       "11        TITLE        0.198286\n",
       "14          CPI        0.190871\n",
       "..          ...             ...\n",
       "114        B2_6             0.0\n",
       "94        A1_14             0.0\n",
       "91        A1_11             0.0\n",
       "85         A1_5             0.0\n",
       "10        ALL_R             0.0\n",
       "\n",
       "[121 rows x 2 columns]"
      ]
     },
     "execution_count": 42,
     "metadata": {},
     "output_type": "execute_result"
    }
   ],
   "source": [
    "# DF, based on which importance is checked\n",
    "X_importance = X_test\n",
    "\n",
    "# Explain model predictions using shap library:\n",
    "model = LGBMClassifier(random_state=0).fit(X_train, y_train)\n",
    "explainer = shap.TreeExplainer(model)\n",
    "shap_values = explainer.shap_values(X_importance)\n",
    "# Plot summary_plot as barplot:\n",
    "shap.summary_plot(shap_values, X_importance, plot_type='bar')\n",
    "\n",
    "\n",
    "feature_names = X_importance.columns.tolist()\n",
    "## 변수 중요도\n",
    "a = []\n",
    "b = []\n",
    "for i in range(X_importance.shape[1]):\n",
    "    feature_imp = np.mean(np.abs(shap_values[:, i]))\n",
    "    a.append(feature_names[i])\n",
    "    b.append(feature_imp)\n",
    "\n",
    "importance_df = pd.DataFrame([a, b]).T\n",
    "importance_df.columns = ['column_name', 'shap_importance']\n",
    "importance_df = importance_df.sort_values('shap_importance', ascending=False)\n",
    "importance_df"
   ]
  },
  {
   "cell_type": "code",
   "execution_count": 43,
   "metadata": {},
   "outputs": [],
   "source": [
    "features_selected = importance_df.query('shap_importance > 0').column_name.tolist()"
   ]
  },
  {
   "cell_type": "code",
   "execution_count": 44,
   "metadata": {},
   "outputs": [
    {
     "data": {
      "text/plain": [
       "['A1_99',\n",
       " 'D_R',\n",
       " 'BIRTH',\n",
       " 'TITLE',\n",
       " 'CPI',\n",
       " 'SQ5_99',\n",
       " 'LOI',\n",
       " 'TIME_min',\n",
       " 'TIME_hour',\n",
       " 'GENDER_1.0',\n",
       " 'SQ6_1',\n",
       " 'SQ5_3',\n",
       " 'IR',\n",
       " 'B1_4',\n",
       " 'B3_1',\n",
       " 'SQ6_99',\n",
       " 'SQ_R',\n",
       " 'B1_2',\n",
       " 'REGION_2.0',\n",
       " 'dayofweek_6',\n",
       " 'B_R',\n",
       " 'C_R',\n",
       " 'dayofweek_5',\n",
       " 'SQ8_99',\n",
       " 'B3_4',\n",
       " 'dayofweek_4',\n",
       " 'B3_99',\n",
       " 'SQ7_99',\n",
       " 'B1_5',\n",
       " 'H_R',\n",
       " 'SQ5_2',\n",
       " 'B1_99',\n",
       " 'X_R',\n",
       " 'REGION_512.0',\n",
       " 'SQ8_3',\n",
       " 'B2_99',\n",
       " 'F_R',\n",
       " 'dayofweek_3',\n",
       " 'SQ7_3',\n",
       " 'SQ4_99',\n",
       " 'dayofweek_0',\n",
       " 'SQ4_3',\n",
       " 'dayofweek_1',\n",
       " 'A1_1',\n",
       " 'SQ4_2',\n",
       " 'SQ7_1',\n",
       " 'B3_2',\n",
       " 'SQ5_1',\n",
       " 'B2_1',\n",
       " 'T_R',\n",
       " 'dayofweek_2',\n",
       " 'SQ8_1',\n",
       " 'SQ7_2',\n",
       " 'SQ4_1',\n",
       " 'B3_3',\n",
       " 'REGION_1024.0',\n",
       " 'A_R',\n",
       " 'A1_3',\n",
       " 'REGION_16384.0',\n",
       " 'B2_2',\n",
       " 'SQ8_4',\n",
       " 'SQ7_8',\n",
       " 'SQ7_16',\n",
       " 'SQ7_13',\n",
       " 'REGION_64.0',\n",
       " 'SQ7_11',\n",
       " 'REGION_32.0',\n",
       " 'SQ8_2',\n",
       " 'REGION_16.0',\n",
       " 'REGION_4.0',\n",
       " 'REGION_65536.0',\n",
       " 'SQ5_4',\n",
       " 'REGION_128.0',\n",
       " 'B2_3',\n",
       " 'B2_4',\n",
       " 'A1_13',\n",
       " 'REGION_32768.0',\n",
       " 'B1_3',\n",
       " 'A1_2',\n",
       " 'REGION_8.0',\n",
       " 'SQ7_12',\n",
       " 'REGION_256.0',\n",
       " 'SQ4_4',\n",
       " 'A1_7',\n",
       " 'REGION_2048.0',\n",
       " 'SQ4_5',\n",
       " 'SQ7_6',\n",
       " 'A1_17',\n",
       " 'SQ7_5',\n",
       " 'A1_20',\n",
       " 'B2_5',\n",
       " 'SQ6_2',\n",
       " 'REGION_4096.0',\n",
       " 'REGION_8192.0',\n",
       " 'SQ7_14',\n",
       " 'A1_10',\n",
       " 'A1_21',\n",
       " 'SQ4_6',\n",
       " 'A1_18',\n",
       " 'SQ7_7',\n",
       " 'SQ8_5',\n",
       " 'A1_16',\n",
       " 'REGION_131072.0',\n",
       " 'SQ7_4',\n",
       " 'SQ7_15',\n",
       " 'SQ7_9',\n",
       " 'A1_4',\n",
       " 'A1_8',\n",
       " 'A1_6',\n",
       " 'SQ7_10',\n",
       " 'A1_12',\n",
       " 'A1_15',\n",
       " 'A1_19',\n",
       " 'A1_9']"
      ]
     },
     "execution_count": 44,
     "metadata": {},
     "output_type": "execute_result"
    }
   ],
   "source": [
    "features_selected"
   ]
  },
  {
   "cell_type": "code",
   "execution_count": 30,
   "metadata": {},
   "outputs": [
    {
     "data": {
      "text/plain": [
       "\"\\nfeatures_selected = ['A1_99','D_R','BIRTH','TITLE','CPI','SQ5_99','LOI','TIME_min','TIME_hour','GENDER_1.0',\\n 'SQ6_1','SQ5_3','IR','B1_4','B3_1','SQ6_99','SQ_R','B1_2','REGION_2.0','dayofweek_6','B_R','C_R','dayofweek_5',\\n 'SQ8_99','B3_4','dayofweek_4','B3_99','SQ7_99','B1_5','H_R','SQ5_2','B1_99','X_R','REGION_512.0','SQ8_3',\\n 'B2_99','F_R','dayofweek_3','SQ7_3','SQ4_99','dayofweek_0','SQ4_3','dayofweek_1','A1_1','SQ4_2','SQ7_1','B3_2','SQ5_1',\\n 'B2_1','T_R','dayofweek_2','SQ8_1','SQ7_2','SQ4_1','B3_3','REGION_1024.0','A_R','A1_3','REGION_16384.0','B2_2','SQ8_4','SQ7_8','SQ7_16',\\n 'SQ7_13','REGION_64.0','SQ7_11','REGION_32.0','SQ8_2','REGION_16.0','REGION_4.0','REGION_65536.0','SQ5_4','REGION_128.0','B2_3','B2_4',\\n 'A1_13','REGION_32768.0','B1_3','A1_2','REGION_8.0','SQ7_12','REGION_256.0','SQ4_4','A1_7','REGION_2048.0','SQ4_5','SQ7_6',\\n 'A1_17','SQ7_5','A1_20','B2_5','SQ6_2','REGION_4096.0','REGION_8192.0','SQ7_14','A1_10','A1_21','SQ4_6','A1_18','SQ7_7','SQ8_5',\\n 'A1_16','REGION_131072.0','SQ7_4','SQ7_15','SQ7_9','A1_4','A1_8','A1_6','SQ7_10','A1_12','A1_15','A1_19','A1_9']\\n\""
      ]
     },
     "execution_count": 30,
     "metadata": {},
     "output_type": "execute_result"
    }
   ],
   "source": [
    "'''\n",
    "features_selected = ['A1_99','D_R','BIRTH','TITLE','CPI','SQ5_99','LOI','TIME_min','TIME_hour','GENDER_1.0',\n",
    " 'SQ6_1','SQ5_3','IR','B1_4','B3_1','SQ6_99','SQ_R','B1_2','REGION_2.0','dayofweek_6','B_R','C_R','dayofweek_5',\n",
    " 'SQ8_99','B3_4','dayofweek_4','B3_99','SQ7_99','B1_5','H_R','SQ5_2','B1_99','X_R','REGION_512.0','SQ8_3',\n",
    " 'B2_99','F_R','dayofweek_3','SQ7_3','SQ4_99','dayofweek_0','SQ4_3','dayofweek_1','A1_1','SQ4_2','SQ7_1','B3_2','SQ5_1',\n",
    " 'B2_1','T_R','dayofweek_2','SQ8_1','SQ7_2','SQ4_1','B3_3','REGION_1024.0','A_R','A1_3','REGION_16384.0','B2_2','SQ8_4','SQ7_8','SQ7_16',\n",
    " 'SQ7_13','REGION_64.0','SQ7_11','REGION_32.0','SQ8_2','REGION_16.0','REGION_4.0','REGION_65536.0','SQ5_4','REGION_128.0','B2_3','B2_4',\n",
    " 'A1_13','REGION_32768.0','B1_3','A1_2','REGION_8.0','SQ7_12','REGION_256.0','SQ4_4','A1_7','REGION_2048.0','SQ4_5','SQ7_6',\n",
    " 'A1_17','SQ7_5','A1_20','B2_5','SQ6_2','REGION_4096.0','REGION_8192.0','SQ7_14','A1_10','A1_21','SQ4_6','A1_18','SQ7_7','SQ8_5',\n",
    " 'A1_16','REGION_131072.0','SQ7_4','SQ7_15','SQ7_9','A1_4','A1_8','A1_6','SQ7_10','A1_12','A1_15','A1_19','A1_9']\n",
    "'''"
   ]
  },
  {
   "cell_type": "code",
   "execution_count": 31,
   "metadata": {},
   "outputs": [],
   "source": [
    "X_train = X_train[features_selected]\n",
    "X_test = X_test[features_selected]"
   ]
  },
  {
   "cell_type": "code",
   "execution_count": 32,
   "metadata": {},
   "outputs": [],
   "source": [
    "from sklearn.model_selection import train_test_split"
   ]
  },
  {
   "cell_type": "code",
   "execution_count": 33,
   "metadata": {},
   "outputs": [],
   "source": [
    "train_X, valid_X, train_y, valid_y = train_test_split(X_train, y_train, test_size=0.3, random_state=42)"
   ]
  },
  {
   "cell_type": "markdown",
   "metadata": {},
   "source": [
    "tensorflow keras"
   ]
  },
  {
   "cell_type": "code",
   "execution_count": 80,
   "metadata": {},
   "outputs": [],
   "source": [
    "from keras.callbacks import ModelCheckpoint"
   ]
  },
  {
   "cell_type": "code",
   "execution_count": 81,
   "metadata": {},
   "outputs": [
    {
     "data": {
      "text/html": [
       "<pre style=\"white-space:pre;overflow-x:auto;line-height:normal;font-family:Menlo,'DejaVu Sans Mono',consolas,'Courier New',monospace\"><span style=\"font-weight: bold\">Model: \"functional_1\"</span>\n",
       "</pre>\n"
      ],
      "text/plain": [
       "\u001b[1mModel: \"functional_1\"\u001b[0m\n"
      ]
     },
     "metadata": {},
     "output_type": "display_data"
    },
    {
     "data": {
      "text/html": [
       "<pre style=\"white-space:pre;overflow-x:auto;line-height:normal;font-family:Menlo,'DejaVu Sans Mono',consolas,'Courier New',monospace\">┏━━━━━━━━━━━━━━━━━━━━━━━━━━━━━━━━━┳━━━━━━━━━━━━━━━━━━━━━━━━┳━━━━━━━━━━━━━━━┓\n",
       "┃<span style=\"font-weight: bold\"> Layer (type)                    </span>┃<span style=\"font-weight: bold\"> Output Shape           </span>┃<span style=\"font-weight: bold\">       Param # </span>┃\n",
       "┡━━━━━━━━━━━━━━━━━━━━━━━━━━━━━━━━━╇━━━━━━━━━━━━━━━━━━━━━━━━╇━━━━━━━━━━━━━━━┩\n",
       "│ input_layer_1 (<span style=\"color: #0087ff; text-decoration-color: #0087ff\">InputLayer</span>)      │ (<span style=\"color: #00d7ff; text-decoration-color: #00d7ff\">None</span>, <span style=\"color: #00af00; text-decoration-color: #00af00\">114</span>)            │             <span style=\"color: #00af00; text-decoration-color: #00af00\">0</span> │\n",
       "├─────────────────────────────────┼────────────────────────┼───────────────┤\n",
       "│ dense_2 (<span style=\"color: #0087ff; text-decoration-color: #0087ff\">Dense</span>)                 │ (<span style=\"color: #00d7ff; text-decoration-color: #00d7ff\">None</span>, <span style=\"color: #00af00; text-decoration-color: #00af00\">128</span>)            │        <span style=\"color: #00af00; text-decoration-color: #00af00\">14,720</span> │\n",
       "├─────────────────────────────────┼────────────────────────┼───────────────┤\n",
       "│ dense_3 (<span style=\"color: #0087ff; text-decoration-color: #0087ff\">Dense</span>)                 │ (<span style=\"color: #00d7ff; text-decoration-color: #00d7ff\">None</span>, <span style=\"color: #00af00; text-decoration-color: #00af00\">1</span>)              │           <span style=\"color: #00af00; text-decoration-color: #00af00\">129</span> │\n",
       "└─────────────────────────────────┴────────────────────────┴───────────────┘\n",
       "</pre>\n"
      ],
      "text/plain": [
       "┏━━━━━━━━━━━━━━━━━━━━━━━━━━━━━━━━━┳━━━━━━━━━━━━━━━━━━━━━━━━┳━━━━━━━━━━━━━━━┓\n",
       "┃\u001b[1m \u001b[0m\u001b[1mLayer (type)                   \u001b[0m\u001b[1m \u001b[0m┃\u001b[1m \u001b[0m\u001b[1mOutput Shape          \u001b[0m\u001b[1m \u001b[0m┃\u001b[1m \u001b[0m\u001b[1m      Param #\u001b[0m\u001b[1m \u001b[0m┃\n",
       "┡━━━━━━━━━━━━━━━━━━━━━━━━━━━━━━━━━╇━━━━━━━━━━━━━━━━━━━━━━━━╇━━━━━━━━━━━━━━━┩\n",
       "│ input_layer_1 (\u001b[38;5;33mInputLayer\u001b[0m)      │ (\u001b[38;5;45mNone\u001b[0m, \u001b[38;5;34m114\u001b[0m)            │             \u001b[38;5;34m0\u001b[0m │\n",
       "├─────────────────────────────────┼────────────────────────┼───────────────┤\n",
       "│ dense_2 (\u001b[38;5;33mDense\u001b[0m)                 │ (\u001b[38;5;45mNone\u001b[0m, \u001b[38;5;34m128\u001b[0m)            │        \u001b[38;5;34m14,720\u001b[0m │\n",
       "├─────────────────────────────────┼────────────────────────┼───────────────┤\n",
       "│ dense_3 (\u001b[38;5;33mDense\u001b[0m)                 │ (\u001b[38;5;45mNone\u001b[0m, \u001b[38;5;34m1\u001b[0m)              │           \u001b[38;5;34m129\u001b[0m │\n",
       "└─────────────────────────────────┴────────────────────────┴───────────────┘\n"
      ]
     },
     "metadata": {},
     "output_type": "display_data"
    },
    {
     "data": {
      "text/html": [
       "<pre style=\"white-space:pre;overflow-x:auto;line-height:normal;font-family:Menlo,'DejaVu Sans Mono',consolas,'Courier New',monospace\"><span style=\"font-weight: bold\"> Total params: </span><span style=\"color: #00af00; text-decoration-color: #00af00\">14,849</span> (58.00 KB)\n",
       "</pre>\n"
      ],
      "text/plain": [
       "\u001b[1m Total params: \u001b[0m\u001b[38;5;34m14,849\u001b[0m (58.00 KB)\n"
      ]
     },
     "metadata": {},
     "output_type": "display_data"
    },
    {
     "data": {
      "text/html": [
       "<pre style=\"white-space:pre;overflow-x:auto;line-height:normal;font-family:Menlo,'DejaVu Sans Mono',consolas,'Courier New',monospace\"><span style=\"font-weight: bold\"> Trainable params: </span><span style=\"color: #00af00; text-decoration-color: #00af00\">14,849</span> (58.00 KB)\n",
       "</pre>\n"
      ],
      "text/plain": [
       "\u001b[1m Trainable params: \u001b[0m\u001b[38;5;34m14,849\u001b[0m (58.00 KB)\n"
      ]
     },
     "metadata": {},
     "output_type": "display_data"
    },
    {
     "data": {
      "text/html": [
       "<pre style=\"white-space:pre;overflow-x:auto;line-height:normal;font-family:Menlo,'DejaVu Sans Mono',consolas,'Courier New',monospace\"><span style=\"font-weight: bold\"> Non-trainable params: </span><span style=\"color: #00af00; text-decoration-color: #00af00\">0</span> (0.00 B)\n",
       "</pre>\n"
      ],
      "text/plain": [
       "\u001b[1m Non-trainable params: \u001b[0m\u001b[38;5;34m0\u001b[0m (0.00 B)\n"
      ]
     },
     "metadata": {},
     "output_type": "display_data"
    },
    {
     "name": "stdout",
     "output_type": "stream",
     "text": [
      "Epoch 1/15\n"
     ]
    },
    {
     "name": "stderr",
     "output_type": "stream",
     "text": [
      "WARNING:absl:You are saving your model as an HDF5 file via `model.save()` or `keras.saving.save_model(model)`. This file format is considered legacy. We recommend using instead the native Keras format, e.g. `model.save('my_model.keras')` or `keras.saving.save_model(model, 'my_model.keras')`. \n"
     ]
    },
    {
     "name": "stdout",
     "output_type": "stream",
     "text": [
      "801/801 - 4s - 5ms/step - acc: 0.7598 - auc_1: 0.8340 - loss: 0.4743 - val_acc: 0.7726 - val_auc_1: 0.8481 - val_loss: 0.4573\n",
      "Epoch 2/15\n"
     ]
    },
    {
     "name": "stderr",
     "output_type": "stream",
     "text": [
      "WARNING:absl:You are saving your model as an HDF5 file via `model.save()` or `keras.saving.save_model(model)`. This file format is considered legacy. We recommend using instead the native Keras format, e.g. `model.save('my_model.keras')` or `keras.saving.save_model(model, 'my_model.keras')`. \n"
     ]
    },
    {
     "name": "stdout",
     "output_type": "stream",
     "text": [
      "801/801 - 2s - 3ms/step - acc: 0.7773 - auc_1: 0.8530 - loss: 0.4509 - val_acc: 0.7817 - val_auc_1: 0.8578 - val_loss: 0.4447\n",
      "Epoch 3/15\n"
     ]
    },
    {
     "name": "stderr",
     "output_type": "stream",
     "text": [
      "WARNING:absl:You are saving your model as an HDF5 file via `model.save()` or `keras.saving.save_model(model)`. This file format is considered legacy. We recommend using instead the native Keras format, e.g. `model.save('my_model.keras')` or `keras.saving.save_model(model, 'my_model.keras')`. \n"
     ]
    },
    {
     "name": "stdout",
     "output_type": "stream",
     "text": [
      "801/801 - 2s - 3ms/step - acc: 0.7851 - auc_1: 0.8614 - loss: 0.4398 - val_acc: 0.7880 - val_auc_1: 0.8647 - val_loss: 0.4354\n",
      "Epoch 4/15\n"
     ]
    },
    {
     "name": "stderr",
     "output_type": "stream",
     "text": [
      "WARNING:absl:You are saving your model as an HDF5 file via `model.save()` or `keras.saving.save_model(model)`. This file format is considered legacy. We recommend using instead the native Keras format, e.g. `model.save('my_model.keras')` or `keras.saving.save_model(model, 'my_model.keras')`. \n"
     ]
    },
    {
     "name": "stdout",
     "output_type": "stream",
     "text": [
      "801/801 - 2s - 3ms/step - acc: 0.7910 - auc_1: 0.8677 - loss: 0.4310 - val_acc: 0.7931 - val_auc_1: 0.8698 - val_loss: 0.4282\n",
      "Epoch 5/15\n"
     ]
    },
    {
     "name": "stderr",
     "output_type": "stream",
     "text": [
      "WARNING:absl:You are saving your model as an HDF5 file via `model.save()` or `keras.saving.save_model(model)`. This file format is considered legacy. We recommend using instead the native Keras format, e.g. `model.save('my_model.keras')` or `keras.saving.save_model(model, 'my_model.keras')`. \n"
     ]
    },
    {
     "name": "stdout",
     "output_type": "stream",
     "text": [
      "801/801 - 2s - 3ms/step - acc: 0.7959 - auc_1: 0.8727 - loss: 0.4238 - val_acc: 0.7967 - val_auc_1: 0.8737 - val_loss: 0.4225\n",
      "Epoch 6/15\n"
     ]
    },
    {
     "name": "stderr",
     "output_type": "stream",
     "text": [
      "WARNING:absl:You are saving your model as an HDF5 file via `model.save()` or `keras.saving.save_model(model)`. This file format is considered legacy. We recommend using instead the native Keras format, e.g. `model.save('my_model.keras')` or `keras.saving.save_model(model, 'my_model.keras')`. \n"
     ]
    },
    {
     "name": "stdout",
     "output_type": "stream",
     "text": [
      "801/801 - 2s - 3ms/step - acc: 0.7996 - auc_1: 0.8766 - loss: 0.4180 - val_acc: 0.7999 - val_auc_1: 0.8770 - val_loss: 0.4176\n",
      "Epoch 7/15\n"
     ]
    },
    {
     "name": "stderr",
     "output_type": "stream",
     "text": [
      "WARNING:absl:You are saving your model as an HDF5 file via `model.save()` or `keras.saving.save_model(model)`. This file format is considered legacy. We recommend using instead the native Keras format, e.g. `model.save('my_model.keras')` or `keras.saving.save_model(model, 'my_model.keras')`. \n"
     ]
    },
    {
     "name": "stdout",
     "output_type": "stream",
     "text": [
      "801/801 - 2s - 3ms/step - acc: 0.8027 - auc_1: 0.8799 - loss: 0.4131 - val_acc: 0.8025 - val_auc_1: 0.8797 - val_loss: 0.4136\n",
      "Epoch 8/15\n"
     ]
    },
    {
     "name": "stderr",
     "output_type": "stream",
     "text": [
      "WARNING:absl:You are saving your model as an HDF5 file via `model.save()` or `keras.saving.save_model(model)`. This file format is considered legacy. We recommend using instead the native Keras format, e.g. `model.save('my_model.keras')` or `keras.saving.save_model(model, 'my_model.keras')`. \n"
     ]
    },
    {
     "name": "stdout",
     "output_type": "stream",
     "text": [
      "801/801 - 2s - 3ms/step - acc: 0.8056 - auc_1: 0.8826 - loss: 0.4088 - val_acc: 0.8048 - val_auc_1: 0.8820 - val_loss: 0.4101\n",
      "Epoch 9/15\n"
     ]
    },
    {
     "name": "stderr",
     "output_type": "stream",
     "text": [
      "WARNING:absl:You are saving your model as an HDF5 file via `model.save()` or `keras.saving.save_model(model)`. This file format is considered legacy. We recommend using instead the native Keras format, e.g. `model.save('my_model.keras')` or `keras.saving.save_model(model, 'my_model.keras')`. \n"
     ]
    },
    {
     "name": "stdout",
     "output_type": "stream",
     "text": [
      "801/801 - 2s - 3ms/step - acc: 0.8079 - auc_1: 0.8850 - loss: 0.4050 - val_acc: 0.8064 - val_auc_1: 0.8838 - val_loss: 0.4073\n",
      "Epoch 10/15\n"
     ]
    },
    {
     "name": "stderr",
     "output_type": "stream",
     "text": [
      "WARNING:absl:You are saving your model as an HDF5 file via `model.save()` or `keras.saving.save_model(model)`. This file format is considered legacy. We recommend using instead the native Keras format, e.g. `model.save('my_model.keras')` or `keras.saving.save_model(model, 'my_model.keras')`. \n"
     ]
    },
    {
     "name": "stdout",
     "output_type": "stream",
     "text": [
      "801/801 - 2s - 3ms/step - acc: 0.8099 - auc_1: 0.8871 - loss: 0.4017 - val_acc: 0.8080 - val_auc_1: 0.8856 - val_loss: 0.4044\n",
      "Epoch 11/15\n"
     ]
    },
    {
     "name": "stderr",
     "output_type": "stream",
     "text": [
      "WARNING:absl:You are saving your model as an HDF5 file via `model.save()` or `keras.saving.save_model(model)`. This file format is considered legacy. We recommend using instead the native Keras format, e.g. `model.save('my_model.keras')` or `keras.saving.save_model(model, 'my_model.keras')`. \n"
     ]
    },
    {
     "name": "stdout",
     "output_type": "stream",
     "text": [
      "801/801 - 2s - 3ms/step - acc: 0.8117 - auc_1: 0.8889 - loss: 0.3987 - val_acc: 0.8092 - val_auc_1: 0.8870 - val_loss: 0.4021\n",
      "Epoch 12/15\n"
     ]
    },
    {
     "name": "stderr",
     "output_type": "stream",
     "text": [
      "WARNING:absl:You are saving your model as an HDF5 file via `model.save()` or `keras.saving.save_model(model)`. This file format is considered legacy. We recommend using instead the native Keras format, e.g. `model.save('my_model.keras')` or `keras.saving.save_model(model, 'my_model.keras')`. \n"
     ]
    },
    {
     "name": "stdout",
     "output_type": "stream",
     "text": [
      "801/801 - 2s - 3ms/step - acc: 0.8132 - auc_1: 0.8905 - loss: 0.3961 - val_acc: 0.8104 - val_auc_1: 0.8883 - val_loss: 0.4001\n",
      "Epoch 13/15\n"
     ]
    },
    {
     "name": "stderr",
     "output_type": "stream",
     "text": [
      "WARNING:absl:You are saving your model as an HDF5 file via `model.save()` or `keras.saving.save_model(model)`. This file format is considered legacy. We recommend using instead the native Keras format, e.g. `model.save('my_model.keras')` or `keras.saving.save_model(model, 'my_model.keras')`. \n"
     ]
    },
    {
     "name": "stdout",
     "output_type": "stream",
     "text": [
      "801/801 - 2s - 3ms/step - acc: 0.8145 - auc_1: 0.8919 - loss: 0.3938 - val_acc: 0.8116 - val_auc_1: 0.8894 - val_loss: 0.3983\n",
      "Epoch 14/15\n"
     ]
    },
    {
     "name": "stderr",
     "output_type": "stream",
     "text": [
      "WARNING:absl:You are saving your model as an HDF5 file via `model.save()` or `keras.saving.save_model(model)`. This file format is considered legacy. We recommend using instead the native Keras format, e.g. `model.save('my_model.keras')` or `keras.saving.save_model(model, 'my_model.keras')`. \n"
     ]
    },
    {
     "name": "stdout",
     "output_type": "stream",
     "text": [
      "801/801 - 2s - 3ms/step - acc: 0.8156 - auc_1: 0.8931 - loss: 0.3918 - val_acc: 0.8125 - val_auc_1: 0.8904 - val_loss: 0.3967\n",
      "Epoch 15/15\n"
     ]
    },
    {
     "name": "stderr",
     "output_type": "stream",
     "text": [
      "WARNING:absl:You are saving your model as an HDF5 file via `model.save()` or `keras.saving.save_model(model)`. This file format is considered legacy. We recommend using instead the native Keras format, e.g. `model.save('my_model.keras')` or `keras.saving.save_model(model, 'my_model.keras')`. \n"
     ]
    },
    {
     "name": "stdout",
     "output_type": "stream",
     "text": [
      "801/801 - 2s - 3ms/step - acc: 0.8168 - auc_1: 0.8942 - loss: 0.3900 - val_acc: 0.8135 - val_auc_1: 0.8913 - val_loss: 0.3954\n"
     ]
    }
   ],
   "source": [
    "input = keras.Input(shape=(train_X.shape[1],))\n",
    "\n",
    "x = keras.layers.Dense(128, activation='relu')(input)# input을 128차원 벡터로 변환, 활성화함수 relu \n",
    "output = keras.layers.Dense(1, activation='sigmoid')(x)# 출력층, 이진 분류로 1개 뉴런, 시그모이드 함수로 이진 분류 확률 반환\n",
    "\n",
    "DEEP = keras.Model(input, output) # 모델 정의\n",
    "\n",
    "DEEP.summary() # 모델 구조 출력\n",
    "\n",
    "#Image(keras.utils.model_to_dot(DEEP,show_shapes=True,show_layer_names=False, dpi=100).create(prog='dot', format='png'))\n",
    "\n",
    "DEEP.compile(loss='binary_crossentropy', optimizer='adam', metrics=['acc', keras.metrics.AUC()])\n",
    "\n",
    "callbacks = [keras.callbacks.EarlyStopping(monitor='val_loss', patience = 5),] # 5번의 epoch동안 검증 손실의 개선 없으면 학습 종료\n",
    "\n",
    "mc = ModelCheckpoint('best_model.h5', monitor='val_loss', mode='min', save_best_only=True)# 검증 손실기준으로 모델 개선 될때 마다 모델 저장\n",
    "\n",
    "hist = DEEP.fit(train_X, train_y, validation_data=(valid_X, valid_y), \n",
    "                 batch_size=1024, epochs=15, callbacks=[callbacks, mc], shuffle=False, verbose=2)\n",
    "# 1024개의 샘플로 한번의 학습 진행, 전체 데이터를 15번 반복학습"
   ]
  },
  {
   "cell_type": "code",
   "execution_count": null,
   "metadata": {},
   "outputs": [],
   "source": [
    "pd.DataFrame({'ID': test_id, 'STATUS': DEEP.predict(X_test).flatten()}).to_csv(os.path.abspath(\"../submission\") + \"/deeplearning.csv\", index=False)"
   ]
  },
  {
   "cell_type": "markdown",
   "metadata": {},
   "source": [
    "keras tuner"
   ]
  },
  {
   "cell_type": "code",
   "execution_count": 34,
   "metadata": {},
   "outputs": [],
   "source": [
    "def model_fn(hp):\n",
    "    inputs = keras.Input(shape=(train_X.shape[1],))\n",
    "    x = keras.layers.Dense(hp.Int('unit', 16, 32, step=16), hp.Choice('activation', ['relu', 'elu']))(inputs)\n",
    "    x = keras.layers.Dropout(hp.Float('dropout', 0, 0.25, step=0.25, default=0.25))(x)\n",
    "    outputs = keras.layers.Dense(1, activation='sigmoid')(x)\n",
    "    model = keras.Model(inputs, outputs)\n",
    "    model.compile(loss='binary_crossentropy', \n",
    "                  optimizer=tf.keras.optimizers.Adam(hp.Choice('learning_rate', [1e-2, 1e-3])), \n",
    "                  metrics=[keras.metrics.AUC()])\n",
    "    return model"
   ]
  },
  {
   "cell_type": "code",
   "execution_count": 35,
   "metadata": {},
   "outputs": [
    {
     "name": "stdout",
     "output_type": "stream",
     "text": [
      "Trial 20 Complete [00h 05m 56s]\n",
      "val_auc: 0.8569934964179993\n",
      "\n",
      "Best val_auc So Far: 0.8670629858970642\n",
      "Total elapsed time: 01h 16m 53s\n"
     ]
    }
   ],
   "source": [
    "import kerastuner as kt\n",
    "tuner = kt.Hyperband(model_fn,\n",
    "                     objective='val_auc', \n",
    "                     max_epochs=5,\n",
    "                     hyperband_iterations=2,\n",
    "                     overwrite=True,\n",
    "                     directory='tuning')\n",
    "\n",
    "tuner.search(train_X, train_y, validation_data=(valid_X, valid_y), \n",
    "             callbacks=[tf.keras.callbacks.EarlyStopping(patience=1)])"
   ]
  },
  {
   "cell_type": "code",
   "execution_count": 36,
   "metadata": {},
   "outputs": [
    {
     "data": {
      "text/html": [
       "<pre style=\"white-space:pre;overflow-x:auto;line-height:normal;font-family:Menlo,'DejaVu Sans Mono',consolas,'Courier New',monospace\"><span style=\"font-weight: bold\">Model: \"functional\"</span>\n",
       "</pre>\n"
      ],
      "text/plain": [
       "\u001b[1mModel: \"functional\"\u001b[0m\n"
      ]
     },
     "metadata": {},
     "output_type": "display_data"
    },
    {
     "data": {
      "text/html": [
       "<pre style=\"white-space:pre;overflow-x:auto;line-height:normal;font-family:Menlo,'DejaVu Sans Mono',consolas,'Courier New',monospace\">┏━━━━━━━━━━━━━━━━━━━━━━━━━━━━━━━━━┳━━━━━━━━━━━━━━━━━━━━━━━━┳━━━━━━━━━━━━━━━┓\n",
       "┃<span style=\"font-weight: bold\"> Layer (type)                    </span>┃<span style=\"font-weight: bold\"> Output Shape           </span>┃<span style=\"font-weight: bold\">       Param # </span>┃\n",
       "┡━━━━━━━━━━━━━━━━━━━━━━━━━━━━━━━━━╇━━━━━━━━━━━━━━━━━━━━━━━━╇━━━━━━━━━━━━━━━┩\n",
       "│ input_layer (<span style=\"color: #0087ff; text-decoration-color: #0087ff\">InputLayer</span>)        │ (<span style=\"color: #00d7ff; text-decoration-color: #00d7ff\">None</span>, <span style=\"color: #00af00; text-decoration-color: #00af00\">114</span>)            │             <span style=\"color: #00af00; text-decoration-color: #00af00\">0</span> │\n",
       "├─────────────────────────────────┼────────────────────────┼───────────────┤\n",
       "│ dense (<span style=\"color: #0087ff; text-decoration-color: #0087ff\">Dense</span>)                   │ (<span style=\"color: #00d7ff; text-decoration-color: #00d7ff\">None</span>, <span style=\"color: #00af00; text-decoration-color: #00af00\">32</span>)             │         <span style=\"color: #00af00; text-decoration-color: #00af00\">3,680</span> │\n",
       "├─────────────────────────────────┼────────────────────────┼───────────────┤\n",
       "│ dropout (<span style=\"color: #0087ff; text-decoration-color: #0087ff\">Dropout</span>)               │ (<span style=\"color: #00d7ff; text-decoration-color: #00d7ff\">None</span>, <span style=\"color: #00af00; text-decoration-color: #00af00\">32</span>)             │             <span style=\"color: #00af00; text-decoration-color: #00af00\">0</span> │\n",
       "├─────────────────────────────────┼────────────────────────┼───────────────┤\n",
       "│ dense_1 (<span style=\"color: #0087ff; text-decoration-color: #0087ff\">Dense</span>)                 │ (<span style=\"color: #00d7ff; text-decoration-color: #00d7ff\">None</span>, <span style=\"color: #00af00; text-decoration-color: #00af00\">1</span>)              │            <span style=\"color: #00af00; text-decoration-color: #00af00\">33</span> │\n",
       "└─────────────────────────────────┴────────────────────────┴───────────────┘\n",
       "</pre>\n"
      ],
      "text/plain": [
       "┏━━━━━━━━━━━━━━━━━━━━━━━━━━━━━━━━━┳━━━━━━━━━━━━━━━━━━━━━━━━┳━━━━━━━━━━━━━━━┓\n",
       "┃\u001b[1m \u001b[0m\u001b[1mLayer (type)                   \u001b[0m\u001b[1m \u001b[0m┃\u001b[1m \u001b[0m\u001b[1mOutput Shape          \u001b[0m\u001b[1m \u001b[0m┃\u001b[1m \u001b[0m\u001b[1m      Param #\u001b[0m\u001b[1m \u001b[0m┃\n",
       "┡━━━━━━━━━━━━━━━━━━━━━━━━━━━━━━━━━╇━━━━━━━━━━━━━━━━━━━━━━━━╇━━━━━━━━━━━━━━━┩\n",
       "│ input_layer (\u001b[38;5;33mInputLayer\u001b[0m)        │ (\u001b[38;5;45mNone\u001b[0m, \u001b[38;5;34m114\u001b[0m)            │             \u001b[38;5;34m0\u001b[0m │\n",
       "├─────────────────────────────────┼────────────────────────┼───────────────┤\n",
       "│ dense (\u001b[38;5;33mDense\u001b[0m)                   │ (\u001b[38;5;45mNone\u001b[0m, \u001b[38;5;34m32\u001b[0m)             │         \u001b[38;5;34m3,680\u001b[0m │\n",
       "├─────────────────────────────────┼────────────────────────┼───────────────┤\n",
       "│ dropout (\u001b[38;5;33mDropout\u001b[0m)               │ (\u001b[38;5;45mNone\u001b[0m, \u001b[38;5;34m32\u001b[0m)             │             \u001b[38;5;34m0\u001b[0m │\n",
       "├─────────────────────────────────┼────────────────────────┼───────────────┤\n",
       "│ dense_1 (\u001b[38;5;33mDense\u001b[0m)                 │ (\u001b[38;5;45mNone\u001b[0m, \u001b[38;5;34m1\u001b[0m)              │            \u001b[38;5;34m33\u001b[0m │\n",
       "└─────────────────────────────────┴────────────────────────┴───────────────┘\n"
      ]
     },
     "metadata": {},
     "output_type": "display_data"
    },
    {
     "data": {
      "text/html": [
       "<pre style=\"white-space:pre;overflow-x:auto;line-height:normal;font-family:Menlo,'DejaVu Sans Mono',consolas,'Courier New',monospace\"><span style=\"font-weight: bold\"> Total params: </span><span style=\"color: #00af00; text-decoration-color: #00af00\">3,713</span> (14.50 KB)\n",
       "</pre>\n"
      ],
      "text/plain": [
       "\u001b[1m Total params: \u001b[0m\u001b[38;5;34m3,713\u001b[0m (14.50 KB)\n"
      ]
     },
     "metadata": {},
     "output_type": "display_data"
    },
    {
     "data": {
      "text/html": [
       "<pre style=\"white-space:pre;overflow-x:auto;line-height:normal;font-family:Menlo,'DejaVu Sans Mono',consolas,'Courier New',monospace\"><span style=\"font-weight: bold\"> Trainable params: </span><span style=\"color: #00af00; text-decoration-color: #00af00\">3,713</span> (14.50 KB)\n",
       "</pre>\n"
      ],
      "text/plain": [
       "\u001b[1m Trainable params: \u001b[0m\u001b[38;5;34m3,713\u001b[0m (14.50 KB)\n"
      ]
     },
     "metadata": {},
     "output_type": "display_data"
    },
    {
     "data": {
      "text/html": [
       "<pre style=\"white-space:pre;overflow-x:auto;line-height:normal;font-family:Menlo,'DejaVu Sans Mono',consolas,'Courier New',monospace\"><span style=\"font-weight: bold\"> Non-trainable params: </span><span style=\"color: #00af00; text-decoration-color: #00af00\">0</span> (0.00 B)\n",
       "</pre>\n"
      ],
      "text/plain": [
       "\u001b[1m Non-trainable params: \u001b[0m\u001b[38;5;34m0\u001b[0m (0.00 B)\n"
      ]
     },
     "metadata": {},
     "output_type": "display_data"
    }
   ],
   "source": [
    "model = tuner.get_best_models(1)[0]\n",
    "model.summary()"
   ]
  },
  {
   "cell_type": "code",
   "execution_count": null,
   "metadata": {},
   "outputs": [],
   "source": [
    "tuner.results_summary(1)t = pd.Timestamp.now()\n",
    "fname = f\"dnn_tuned_submission_{t.month:02}{t.day:02}_{t.hour:02}{t.minute:02}.csv\"\n",
    "pd.DataFrame({'ID': test_id, 'STATUS': model.predict(X_test).flatten()}).to_csv(fname, index=False)"
   ]
  }
 ],
 "metadata": {
  "kernelspec": {
   "display_name": "Python 3 (ipykernel)",
   "language": "python",
   "name": "python3"
  },
  "language_info": {
   "codemirror_mode": {
    "name": "ipython",
    "version": 3
   },
   "file_extension": ".py",
   "mimetype": "text/x-python",
   "name": "python",
   "nbconvert_exporter": "python",
   "pygments_lexer": "ipython3",
   "version": "3.11.7"
  }
 },
 "nbformat": 4,
 "nbformat_minor": 4
}
