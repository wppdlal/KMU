{
 "cells": [
  {
   "cell_type": "markdown",
   "metadata": {},
   "source": [
    "## XGBOOST"
   ]
  },
  {
   "cell_type": "code",
   "execution_count": 1,
   "metadata": {},
   "outputs": [],
   "source": [
    "# Data Wrangling\n",
    "import pandas as pd\n",
    "from pandas import Series, DataFrame\n",
    "import numpy as np\n",
    "\n",
    "# Visualization\n",
    "import matplotlib.pylab as plt\n",
    "from matplotlib import font_manager, rc\n",
    "import seaborn as sns\n",
    "%matplotlib inline\n",
    "\n",
    "\n",
    "# Preprocessing & Feature Engineering\n",
    "from sklearn.model_selection import train_test_split\n",
    "from sklearn.preprocessing import MinMaxScaler\n",
    "from sklearn.impute import SimpleImputer \n",
    "from sklearn.preprocessing import StandardScaler\n",
    "from sklearn.preprocessing import PowerTransformer\n",
    "from sklearn.preprocessing import LabelEncoder\n",
    "from sklearn.feature_selection import SelectPercentile\n",
    "from sklearn import model_selection\n",
    "\n",
    "# Hyperparameter Optimization\n",
    "import optuna\n",
    "\n",
    "# Modeling\n",
    "from xgboost import XGBClassifier\n",
    "from lightgbm import LGBMClassifier\n",
    "\n",
    "# Evaluation\n",
    "from sklearn.metrics import *\n",
    "from sklearn.metrics import roc_auc_score\n",
    "from sklearn.model_selection import cross_val_score\n",
    "\n",
    "# Utility\n",
    "import os\n",
    "import time\n",
    "import random\n",
    "import warnings; warnings.filterwarnings(\"ignore\")\n",
    "from IPython.display import Image\n",
    "import pickle\n",
    "from tqdm import tqdm, tqdm_notebook\n",
    "import platform\n",
    "from itertools import combinations\n",
    "from scipy.stats.mstats import gmean\n",
    "import gc\n",
    "import bisect"
   ]
  },
  {
   "cell_type": "code",
   "execution_count": 46,
   "metadata": {},
   "outputs": [],
   "source": [
    "panel = pd.read_csv(os.path.abspath(\"../input\")+'/panel.csv')\n",
    "survey = pd.read_csv(os.path.abspath(\"../input\")+'/survey.csv')\n",
    "response_train = pd.read_csv(os.path.abspath(\"../input\")+'/response_train.csv')\n",
    "response_test = pd.read_csv(os.path.abspath(\"../input\")+'/response_test.csv')"
   ]
  },
  {
   "cell_type": "code",
   "execution_count": 47,
   "metadata": {},
   "outputs": [],
   "source": [
    "# panel조사 분류별 응답율 피처 생성\n",
    "SQ = ['SQ1', 'SQ2', 'SQ3', 'SQ4', 'SQ5', 'SQ6', 'SQ7', 'SQ8'] # 개인정보\n",
    "A = ['A1'] # 신규구입/렌트 가전\n",
    "B = ['B1', 'B2', 'B3', 'B4', 'B5'] # 통신\n",
    "C = ['C1', 'C2', 'C3'] # 보험/금융\n",
    "D = ['DQ1', 'DQ2', 'DQ3', 'DQ4', 'DQ5', 'DQ6', 'DQ7'] # 직업\n",
    "F = ['F1', 'F2'] # 이용마트\n",
    "H = ['H1'] # 음용주류\n",
    "T = ['T1'] # 담배\n",
    "X = ['X1', 'X2', 'X3', 'X4'] # 자동차\n",
    "\n",
    "# 결측치가 아닌 값의 비율\n",
    "panel['SQ_R'] = 1 - panel[SQ].isnull().mean(axis=1)\n",
    "panel['A_R'] = 1 - panel[A].isnull().mean(axis=1)\n",
    "panel['B_R'] = 1 - panel[B].isnull().mean(axis=1)\n",
    "panel['C_R'] = 1 - panel[C].isnull().mean(axis=1)\n",
    "panel['D_R'] = 1 - panel[D].isnull().mean(axis=1)\n",
    "panel['F_R'] = 1 - panel[F].isnull().mean(axis=1)\n",
    "panel['H_R'] = 1 - panel[H].isnull().mean(axis=1)\n",
    "panel['T_R'] = 1 - panel[T].isnull().mean(axis=1)\n",
    "panel['X_R'] = 1 - panel[X].isnull().mean(axis=1)\n",
    "# panel 조사 전체 응답율\n",
    "panel['ALL_R'] = 1 - panel[SQ+A+B+C+D+F+H+T+X].isnull().mean(axis=1)"
   ]
  },
  {
   "cell_type": "code",
   "execution_count": 48,
   "metadata": {},
   "outputs": [],
   "source": [
    "# # 대상지역 생성, TITLE에 해외 단어 포함되어있으면 해외 아니면 기타\n",
    "survey['대상지역'] = np.where(survey['TITLE'].str.contains('해외'), '해외', '기타')\n",
    "# # 대상자유형\n",
    "survey['대상자유형'] = '기타'\n",
    "survey['대상자유형'] = np.where(survey['TITLE'].str.contains('일반인'), '일반인', survey['대상자유형'])\n",
    "survey['대상자유형'] = np.where(survey['TITLE'].str.contains('소비자'), '소비자', survey['대상자유형'])"
   ]
  },
  {
   "cell_type": "code",
   "execution_count": 49,
   "metadata": {},
   "outputs": [],
   "source": [
    "# train, test데이터 셋\n",
    "train = response_train.merge(panel).merge(survey)\n",
    "test = response_test.merge(panel).merge(survey).sort_values(by='ID')"
   ]
  },
  {
   "cell_type": "code",
   "execution_count": 50,
   "metadata": {
    "scrolled": false
   },
   "outputs": [
    {
     "data": {
      "text/plain": [
       "5439"
      ]
     },
     "execution_count": 50,
     "metadata": {},
     "output_type": "execute_result"
    }
   ],
   "source": [
    "del panel, survey, response_train, response_test\n",
    "gc.collect()"
   ]
  },
  {
   "cell_type": "code",
   "execution_count": 11,
   "metadata": {},
   "outputs": [
    {
     "name": "stdout",
     "output_type": "stream",
     "text": [
      "Index(['userID', 'surveyID', 'TIME', 'STATUS', 'BIRTH', 'GENDER', 'REGION',\n",
      "       'TYPE', 'SQ1', 'SQ2', 'SQ3', 'SQ4', 'SQ5', 'SQ6', 'SQ7', 'SQ8', 'A1',\n",
      "       'B1', 'B2', 'B3', 'B4', 'B5', 'C1', 'C2', 'C3', 'F1', 'F2', 'H1', 'T1',\n",
      "       'X1', 'X2', 'X3', 'X4', 'DQ1', 'DQ2', 'DQ3', 'DQ4', 'DQ5', 'DQ6', 'DQ7',\n",
      "       'SQ_R', 'A_R', 'B_R', 'C_R', 'D_R', 'F_R', 'H_R', 'T_R', 'X_R', 'ALL_R',\n",
      "       'TITLE', 'IR', 'LOI', 'CATEGORIES', 'CPI', '대상지역', '대상자유형'],\n",
      "      dtype='object')\n",
      "(4904549, 57)\n"
     ]
    }
   ],
   "source": [
    "print(train.columns)\n",
    "print(train.shape)"
   ]
  },
  {
   "cell_type": "markdown",
   "metadata": {},
   "source": [
    "- SQ1 ~ DQ7: 패널 가입 시 설문조사 데이터\n",
    "- IR: 설문 응답 가능성 최대값 100\n",
    "- LOI: 설문하는데 걸리는 시간(분)\n",
    "- CPI: 패널 응답 리워드 포인트"
   ]
  },
  {
   "cell_type": "code",
   "execution_count": 12,
   "metadata": {},
   "outputs": [
    {
     "name": "stdout",
     "output_type": "stream",
     "text": [
      "userID \t 0.0\n",
      "surveyID \t 0.0\n",
      "TIME \t 0.0\n",
      "STATUS \t 0.0\n",
      "BIRTH \t 5.219644048820799e-05\n",
      "GENDER \t 5.219644048820799e-05\n",
      "REGION \t 0.000293808870091827\n",
      "TYPE \t 0.0\n",
      "SQ1 \t 0.0012832984235655511\n",
      "SQ2 \t 0.0019506380709011166\n",
      "SQ3 \t 0.11090948423596135\n",
      "SQ4 \t 0.11132257012826256\n",
      "SQ5 \t 0.17909251187010264\n",
      "SQ6 \t 0.17948785912833168\n",
      "SQ7 \t 0.22174006213415343\n",
      "SQ8 \t 0.22244919971234867\n",
      "A1 \t 0.2513170935798582\n",
      "B1 \t 0.2574271355021634\n",
      "B2 \t 0.28851643647560665\n",
      "B3 \t 0.2945434942132294\n",
      "B4 \t 0.30725332747210804\n",
      "B5 \t 0.31235756845328694\n",
      "C1 \t 0.3676189186814119\n",
      "C2 \t 0.4768152994291626\n",
      "C3 \t 0.4900189599492227\n",
      "F1 \t 0.5184415529338171\n",
      "F2 \t 0.5308465671359385\n",
      "H1 \t 0.5505268680157951\n",
      "T1 \t 0.5577016357671215\n",
      "X1 \t 0.5768157276030885\n",
      "X2 \t 0.585550475691037\n",
      "X3 \t 0.6033249948160371\n",
      "X4 \t 0.6351536094348329\n",
      "DQ1 \t 0.6571886630146829\n",
      "DQ2 \t 0.6632379450179823\n",
      "DQ3 \t 0.6718214049854533\n",
      "DQ4 \t 0.6740004024834904\n",
      "DQ5 \t 0.6802221774112156\n",
      "DQ6 \t 0.6811341878733397\n",
      "DQ7 \t 0.6852760569830172\n",
      "SQ_R \t 0.0\n",
      "A_R \t 0.0\n",
      "B_R \t 0.0\n",
      "C_R \t 0.0\n",
      "D_R \t 0.0\n",
      "F_R \t 0.0\n",
      "H_R \t 0.0\n",
      "T_R \t 0.0\n",
      "X_R \t 0.0\n",
      "ALL_R \t 0.0\n",
      "TITLE \t 0.0\n",
      "IR \t 0.0\n",
      "LOI \t 0.0\n",
      "CATEGORIES \t 0.8198574425497634\n",
      "CPI \t 0.0\n",
      "대상지역 \t 0.0\n",
      "대상자유형 \t 0.0\n"
     ]
    }
   ],
   "source": [
    "# 결측치 비율\n",
    "for i in train.columns:\n",
    "    print(i,'\\t', train[i].isnull().sum()/train.shape[0])"
   ]
  },
  {
   "cell_type": "code",
   "execution_count": 52,
   "metadata": {},
   "outputs": [],
   "source": [
    "train.TIME = train.TIME.astype('datetime64[s]')\n",
    "test.TIME = test.TIME.astype('datetime64[s]')"
   ]
  },
  {
   "cell_type": "code",
   "execution_count": 53,
   "metadata": {},
   "outputs": [],
   "source": [
    "train['TIME_hour'] = train.TIME.dt.hour\n",
    "train['TIME_min'] = train.TIME.dt.minute\n",
    "train['dayofweek'] = train.TIME.dt.dayofweek\n",
    "\n",
    "test['TIME_hour'] = test.TIME.dt.hour\n",
    "test['TIME_min'] = test.TIME.dt.minute\n",
    "test['dayofweek'] = test.TIME.dt.dayofweek"
   ]
  },
  {
   "cell_type": "code",
   "execution_count": 54,
   "metadata": {},
   "outputs": [],
   "source": [
    "y_train = train['STATUS']\n",
    "test_id = test.ID\n",
    "# 쓸모 없는 칼럼 삭제 \n",
    "X_train = train.drop(['userID','surveyID','TIME','STATUS',\n",
    "                      'SQ1','SQ2','SQ3', 'DQ5', 'DQ6', 'DQ7'], axis = 1)\n",
    "X_test = test.drop(['userID','ID','surveyID','TIME',\n",
    "                    'SQ1','SQ2','SQ3', 'DQ5', 'DQ6', 'DQ7'], axis = 1)"
   ]
  },
  {
   "cell_type": "code",
   "execution_count": 55,
   "metadata": {},
   "outputs": [
    {
     "data": {
      "text/plain": [
       "47"
      ]
     },
     "execution_count": 55,
     "metadata": {},
     "output_type": "execute_result"
    }
   ],
   "source": [
    "del train, test \n",
    "gc.collect()"
   ]
  },
  {
   "cell_type": "code",
   "execution_count": 17,
   "metadata": {},
   "outputs": [
    {
     "data": {
      "text/plain": [
       "Index(['BIRTH', 'GENDER', 'REGION', 'TYPE', 'SQ4', 'SQ5', 'SQ6', 'SQ7', 'SQ8',\n",
       "       'A1', 'B1', 'B2', 'B3', 'B4', 'B5', 'C1', 'C2', 'C3', 'F1', 'F2', 'H1',\n",
       "       'T1', 'X1', 'X2', 'X3', 'X4', 'DQ1', 'DQ2', 'DQ3', 'DQ4', 'SQ_R', 'A_R',\n",
       "       'B_R', 'C_R', 'D_R', 'F_R', 'H_R', 'T_R', 'X_R', 'ALL_R', 'TITLE', 'IR',\n",
       "       'LOI', 'CATEGORIES', 'CPI', '대상지역', '대상자유형', 'TIME_hour', 'TIME_min',\n",
       "       'dayofweek'],\n",
       "      dtype='object')"
      ]
     },
     "execution_count": 17,
     "metadata": {},
     "output_type": "execute_result"
    }
   ],
   "source": [
    "X_train.columns"
   ]
  },
  {
   "cell_type": "code",
   "execution_count": 56,
   "metadata": {},
   "outputs": [],
   "source": [
    "num_features = ['BIRTH','IR','LOI','CPI','TIME_hour','TIME_min']\n",
    "cat_features = list(set(X_train.columns) - set(num_features))"
   ]
  },
  {
   "cell_type": "code",
   "execution_count": 57,
   "metadata": {},
   "outputs": [],
   "source": [
    "# 대부분의 값 결측치 0으로 채움\n",
    "na_0 = ['SQ4', 'SQ5', 'SQ6', 'SQ7', 'SQ8',\n",
    "       'A1', 'B1', 'B2', 'B3', 'B4', 'B5', 'C1', 'C2', 'C3', 'F1', 'F2', 'H1',\n",
    "       'T1', 'X1', 'X2', 'X3', 'X4', 'DQ1', 'DQ2', 'DQ3', 'DQ4','CATEGORIES']"
   ]
  },
  {
   "cell_type": "code",
   "execution_count": 58,
   "metadata": {},
   "outputs": [],
   "source": [
    "for i in na_0:\n",
    "    X_train[i]=X_train[i].fillna(0)"
   ]
  },
  {
   "cell_type": "code",
   "execution_count": 59,
   "metadata": {},
   "outputs": [],
   "source": [
    "for i in na_0:\n",
    "    X_test[i]=X_test[i].fillna(0)"
   ]
  },
  {
   "cell_type": "code",
   "execution_count": 60,
   "metadata": {},
   "outputs": [],
   "source": [
    "num_na = ['BIRTH']\n",
    "cat_na = ['GENDER', 'REGION']"
   ]
  },
  {
   "cell_type": "code",
   "execution_count": 61,
   "metadata": {},
   "outputs": [],
   "source": [
    "# 결측치 비율 낮은 칼럼들은 평균값이나 최빈값으로 채움\n",
    "from sklearn.impute import SimpleImputer \n",
    "\n",
    "if len(num_na) > 0:\n",
    "    imp = SimpleImputer(strategy='mean')\n",
    "    X_train[num_na] = imp.fit_transform(X_train[num_na])\n",
    "    X_test[num_na] = imp.transform(X_test[num_na])\n",
    "if len(cat_na) > 0:  \n",
    "    imp = SimpleImputer(strategy=\"most_frequent\")\n",
    "    X_train[cat_na] = imp.fit_transform(X_train[cat_na])\n",
    "    X_test[cat_na] = imp.transform(X_test[cat_na])"
   ]
  },
  {
   "cell_type": "code",
   "execution_count": 62,
   "metadata": {},
   "outputs": [],
   "source": [
    "X_train.GENDER=X_train.GENDER.astype('int') \n",
    "X_train.BIRTH=X_train.BIRTH.astype('int') \n",
    "X_train.REGION=X_train.REGION.astype('int') \n",
    "X_train.IR=X_train.IR.astype('int') \n",
    "X_train.LOI=X_train.LOI.astype('int') \n",
    "X_train.CPI=X_train.CPI.astype('int') "
   ]
  },
  {
   "cell_type": "code",
   "execution_count": 63,
   "metadata": {},
   "outputs": [],
   "source": [
    "X_test.GENDER=X_test.GENDER.astype('int') \n",
    "X_test.BIRTH=X_test.BIRTH.astype('int') \n",
    "X_test.REGION=X_test.REGION.astype('int') \n",
    "X_test.IR=X_test.IR.astype('int') \n",
    "X_test.LOI=X_test.LOI.astype('int') \n",
    "X_test.CPI=X_test.CPI.astype('int') "
   ]
  },
  {
   "cell_type": "code",
   "execution_count": 64,
   "metadata": {},
   "outputs": [
    {
     "name": "stderr",
     "output_type": "stream",
     "text": [
      "Encoding features: 100%|██████████| 44/44 [00:54<00:00,  1.24s/it]\n"
     ]
    }
   ],
   "source": [
    "# LabelEncoder\n",
    "encoders = {}\n",
    "\n",
    "for feature in tqdm(cat_features, desc=\"Encoding features\"):\n",
    "    le = LabelEncoder()\n",
    "    X_train[feature] = le.fit_transform(X_train[feature].astype(str))\n",
    "    le_classes_set = set(le.classes_)\n",
    "    X_test[feature] = X_test[feature].map(lambda s: '-1' if s not in le_classes_set else s)\n",
    "    le_classes = le.classes_.tolist()\n",
    "    bisect.insort_left(le_classes, '-1')\n",
    "    le.classes_ = np.array(le_classes)\n",
    "    X_test[feature] = le.transform(X_test[feature].astype(str))\n",
    "    encoders[feature] = le"
   ]
  },
  {
   "cell_type": "code",
   "execution_count": 41,
   "metadata": {
    "scrolled": true
   },
   "outputs": [
    {
     "name": "stdout",
     "output_type": "stream",
     "text": [
      "[LightGBM] [Info] Number of positive: 1658035, number of negative: 3246514\n",
      "[LightGBM] [Info] Auto-choosing row-wise multi-threading, the overhead of testing was 0.293948 seconds.\n",
      "You can set `force_row_wise=true` to remove the overhead.\n",
      "And if memory is not enough, you can set `force_col_wise=true`.\n",
      "[LightGBM] [Info] Total Bins 4291\n",
      "[LightGBM] [Info] Number of data points in the train set: 4904549, number of used features: 50\n",
      "[LightGBM] [Info] [binary:BoostFromScore]: pavg=0.338061 -> initscore=-0.671949\n",
      "[LightGBM] [Info] Start training from score -0.671949\n"
     ]
    },
    {
     "data": {
      "image/png": "[encoded data removed]",
      "text/plain": [
       "<Figure size 800x950 with 1 Axes>"
      ]
     },
     "metadata": {},
     "output_type": "display_data"
    },
    {
     "data": {
      "text/html": [
       "<div>\n",
       "<style scoped>\n",
       "    .dataframe tbody tr th:only-of-type {\n",
       "        vertical-align: middle;\n",
       "    }\n",
       "\n",
       "    .dataframe tbody tr th {\n",
       "        vertical-align: top;\n",
       "    }\n",
       "\n",
       "    .dataframe thead th {\n",
       "        text-align: right;\n",
       "    }\n",
       "</style>\n",
       "<table border=\"1\" class=\"dataframe\">\n",
       "  <thead>\n",
       "    <tr style=\"text-align: right;\">\n",
       "      <th></th>\n",
       "      <th>column_name</th>\n",
       "      <th>shap_importance</th>\n",
       "    </tr>\n",
       "  </thead>\n",
       "  <tbody>\n",
       "    <tr>\n",
       "      <th>40</th>\n",
       "      <td>TITLE</td>\n",
       "      <td>0.497029</td>\n",
       "    </tr>\n",
       "    <tr>\n",
       "      <th>0</th>\n",
       "      <td>BIRTH</td>\n",
       "      <td>0.213442</td>\n",
       "    </tr>\n",
       "    <tr>\n",
       "      <th>3</th>\n",
       "      <td>TYPE</td>\n",
       "      <td>0.156119</td>\n",
       "    </tr>\n",
       "    <tr>\n",
       "      <th>16</th>\n",
       "      <td>C2</td>\n",
       "      <td>0.109505</td>\n",
       "    </tr>\n",
       "    <tr>\n",
       "      <th>47</th>\n",
       "      <td>TIME_hour</td>\n",
       "      <td>0.103823</td>\n",
       "    </tr>\n",
       "    <tr>\n",
       "      <th>4</th>\n",
       "      <td>SQ4</td>\n",
       "      <td>0.100665</td>\n",
       "    </tr>\n",
       "    <tr>\n",
       "      <th>48</th>\n",
       "      <td>TIME_min</td>\n",
       "      <td>0.098672</td>\n",
       "    </tr>\n",
       "    <tr>\n",
       "      <th>6</th>\n",
       "      <td>SQ6</td>\n",
       "      <td>0.098054</td>\n",
       "    </tr>\n",
       "    <tr>\n",
       "      <th>1</th>\n",
       "      <td>GENDER</td>\n",
       "      <td>0.089179</td>\n",
       "    </tr>\n",
       "    <tr>\n",
       "      <th>8</th>\n",
       "      <td>SQ8</td>\n",
       "      <td>0.088764</td>\n",
       "    </tr>\n",
       "    <tr>\n",
       "      <th>7</th>\n",
       "      <td>SQ7</td>\n",
       "      <td>0.081122</td>\n",
       "    </tr>\n",
       "    <tr>\n",
       "      <th>18</th>\n",
       "      <td>F1</td>\n",
       "      <td>0.06911</td>\n",
       "    </tr>\n",
       "    <tr>\n",
       "      <th>41</th>\n",
       "      <td>IR</td>\n",
       "      <td>0.064414</td>\n",
       "    </tr>\n",
       "    <tr>\n",
       "      <th>10</th>\n",
       "      <td>B1</td>\n",
       "      <td>0.054414</td>\n",
       "    </tr>\n",
       "    <tr>\n",
       "      <th>49</th>\n",
       "      <td>dayofweek</td>\n",
       "      <td>0.054244</td>\n",
       "    </tr>\n",
       "    <tr>\n",
       "      <th>5</th>\n",
       "      <td>SQ5</td>\n",
       "      <td>0.053775</td>\n",
       "    </tr>\n",
       "    <tr>\n",
       "      <th>44</th>\n",
       "      <td>CPI</td>\n",
       "      <td>0.053343</td>\n",
       "    </tr>\n",
       "    <tr>\n",
       "      <th>27</th>\n",
       "      <td>DQ2</td>\n",
       "      <td>0.047865</td>\n",
       "    </tr>\n",
       "    <tr>\n",
       "      <th>42</th>\n",
       "      <td>LOI</td>\n",
       "      <td>0.040061</td>\n",
       "    </tr>\n",
       "    <tr>\n",
       "      <th>2</th>\n",
       "      <td>REGION</td>\n",
       "      <td>0.035946</td>\n",
       "    </tr>\n",
       "    <tr>\n",
       "      <th>13</th>\n",
       "      <td>B4</td>\n",
       "      <td>0.032616</td>\n",
       "    </tr>\n",
       "    <tr>\n",
       "      <th>12</th>\n",
       "      <td>B3</td>\n",
       "      <td>0.029097</td>\n",
       "    </tr>\n",
       "    <tr>\n",
       "      <th>20</th>\n",
       "      <td>H1</td>\n",
       "      <td>0.029075</td>\n",
       "    </tr>\n",
       "    <tr>\n",
       "      <th>17</th>\n",
       "      <td>C3</td>\n",
       "      <td>0.028677</td>\n",
       "    </tr>\n",
       "    <tr>\n",
       "      <th>43</th>\n",
       "      <td>CATEGORIES</td>\n",
       "      <td>0.025068</td>\n",
       "    </tr>\n",
       "    <tr>\n",
       "      <th>15</th>\n",
       "      <td>C1</td>\n",
       "      <td>0.019008</td>\n",
       "    </tr>\n",
       "    <tr>\n",
       "      <th>46</th>\n",
       "      <td>대상자유형</td>\n",
       "      <td>0.017931</td>\n",
       "    </tr>\n",
       "    <tr>\n",
       "      <th>9</th>\n",
       "      <td>A1</td>\n",
       "      <td>0.016253</td>\n",
       "    </tr>\n",
       "    <tr>\n",
       "      <th>21</th>\n",
       "      <td>T1</td>\n",
       "      <td>0.016165</td>\n",
       "    </tr>\n",
       "    <tr>\n",
       "      <th>29</th>\n",
       "      <td>DQ4</td>\n",
       "      <td>0.015018</td>\n",
       "    </tr>\n",
       "    <tr>\n",
       "      <th>24</th>\n",
       "      <td>X3</td>\n",
       "      <td>0.014365</td>\n",
       "    </tr>\n",
       "    <tr>\n",
       "      <th>22</th>\n",
       "      <td>X1</td>\n",
       "      <td>0.013373</td>\n",
       "    </tr>\n",
       "    <tr>\n",
       "      <th>19</th>\n",
       "      <td>F2</td>\n",
       "      <td>0.009448</td>\n",
       "    </tr>\n",
       "    <tr>\n",
       "      <th>14</th>\n",
       "      <td>B5</td>\n",
       "      <td>0.009243</td>\n",
       "    </tr>\n",
       "    <tr>\n",
       "      <th>23</th>\n",
       "      <td>X2</td>\n",
       "      <td>0.008271</td>\n",
       "    </tr>\n",
       "    <tr>\n",
       "      <th>26</th>\n",
       "      <td>DQ1</td>\n",
       "      <td>0.00823</td>\n",
       "    </tr>\n",
       "    <tr>\n",
       "      <th>30</th>\n",
       "      <td>SQ_R</td>\n",
       "      <td>0.004763</td>\n",
       "    </tr>\n",
       "    <tr>\n",
       "      <th>25</th>\n",
       "      <td>X4</td>\n",
       "      <td>0.004277</td>\n",
       "    </tr>\n",
       "    <tr>\n",
       "      <th>45</th>\n",
       "      <td>대상지역</td>\n",
       "      <td>0.004025</td>\n",
       "    </tr>\n",
       "    <tr>\n",
       "      <th>11</th>\n",
       "      <td>B2</td>\n",
       "      <td>0.00345</td>\n",
       "    </tr>\n",
       "    <tr>\n",
       "      <th>28</th>\n",
       "      <td>DQ3</td>\n",
       "      <td>0.002265</td>\n",
       "    </tr>\n",
       "    <tr>\n",
       "      <th>38</th>\n",
       "      <td>X_R</td>\n",
       "      <td>0.0</td>\n",
       "    </tr>\n",
       "    <tr>\n",
       "      <th>39</th>\n",
       "      <td>ALL_R</td>\n",
       "      <td>0.0</td>\n",
       "    </tr>\n",
       "    <tr>\n",
       "      <th>37</th>\n",
       "      <td>T_R</td>\n",
       "      <td>0.0</td>\n",
       "    </tr>\n",
       "    <tr>\n",
       "      <th>36</th>\n",
       "      <td>H_R</td>\n",
       "      <td>0.0</td>\n",
       "    </tr>\n",
       "    <tr>\n",
       "      <th>35</th>\n",
       "      <td>F_R</td>\n",
       "      <td>0.0</td>\n",
       "    </tr>\n",
       "    <tr>\n",
       "      <th>34</th>\n",
       "      <td>D_R</td>\n",
       "      <td>0.0</td>\n",
       "    </tr>\n",
       "    <tr>\n",
       "      <th>33</th>\n",
       "      <td>C_R</td>\n",
       "      <td>0.0</td>\n",
       "    </tr>\n",
       "    <tr>\n",
       "      <th>31</th>\n",
       "      <td>A_R</td>\n",
       "      <td>0.0</td>\n",
       "    </tr>\n",
       "    <tr>\n",
       "      <th>32</th>\n",
       "      <td>B_R</td>\n",
       "      <td>0.0</td>\n",
       "    </tr>\n",
       "  </tbody>\n",
       "</table>\n",
       "</div>"
      ],
      "text/plain": [
       "   column_name shap_importance\n",
       "40       TITLE        0.497029\n",
       "0        BIRTH        0.213442\n",
       "3         TYPE        0.156119\n",
       "16          C2        0.109505\n",
       "47   TIME_hour        0.103823\n",
       "4          SQ4        0.100665\n",
       "48    TIME_min        0.098672\n",
       "6          SQ6        0.098054\n",
       "1       GENDER        0.089179\n",
       "8          SQ8        0.088764\n",
       "7          SQ7        0.081122\n",
       "18          F1         0.06911\n",
       "41          IR        0.064414\n",
       "10          B1        0.054414\n",
       "49   dayofweek        0.054244\n",
       "5          SQ5        0.053775\n",
       "44         CPI        0.053343\n",
       "27         DQ2        0.047865\n",
       "42         LOI        0.040061\n",
       "2       REGION        0.035946\n",
       "13          B4        0.032616\n",
       "12          B3        0.029097\n",
       "20          H1        0.029075\n",
       "17          C3        0.028677\n",
       "43  CATEGORIES        0.025068\n",
       "15          C1        0.019008\n",
       "46       대상자유형        0.017931\n",
       "9           A1        0.016253\n",
       "21          T1        0.016165\n",
       "29         DQ4        0.015018\n",
       "24          X3        0.014365\n",
       "22          X1        0.013373\n",
       "19          F2        0.009448\n",
       "14          B5        0.009243\n",
       "23          X2        0.008271\n",
       "26         DQ1         0.00823\n",
       "30        SQ_R        0.004763\n",
       "25          X4        0.004277\n",
       "45        대상지역        0.004025\n",
       "11          B2         0.00345\n",
       "28         DQ3        0.002265\n",
       "38         X_R             0.0\n",
       "39       ALL_R             0.0\n",
       "37         T_R             0.0\n",
       "36         H_R             0.0\n",
       "35         F_R             0.0\n",
       "34         D_R             0.0\n",
       "33         C_R             0.0\n",
       "31         A_R             0.0\n",
       "32         B_R             0.0"
      ]
     },
     "execution_count": 41,
     "metadata": {},
     "output_type": "execute_result"
    }
   ],
   "source": [
    "# Method: Using SHAP values\n",
    "import shap\n",
    "\n",
    "# DF, based on which importance is checked\n",
    "X_importance = X_test\n",
    "\n",
    "# Explain model predictions using shap library:\n",
    "model = LGBMClassifier(random_state=0).fit(X_train, y_train)\n",
    "explainer = shap.TreeExplainer(model)\n",
    "shap_values = explainer.shap_values(X_importance)\n",
    "# Plot summary_plot as barplot:\n",
    "shap.summary_plot(shap_values, X_importance, plot_type='bar')\n",
    "\n",
    "\n",
    "feature_names = X_importance.columns.tolist()\n",
    "## 변수 중요도\n",
    "a = []\n",
    "b = []\n",
    "for i in range(X_importance.shape[1]):\n",
    "    feature_imp = np.mean(np.abs(shap_values[:, i]))\n",
    "    a.append(feature_names[i])\n",
    "    b.append(feature_imp)\n",
    "\n",
    "importance_df = pd.DataFrame([a, b]).T\n",
    "importance_df.columns = ['column_name', 'shap_importance']\n",
    "importance_df = importance_df.sort_values('shap_importance', ascending=False)\n",
    "importance_df"
   ]
  },
  {
   "cell_type": "code",
   "execution_count": 42,
   "metadata": {},
   "outputs": [
    {
     "name": "stdout",
     "output_type": "stream",
     "text": [
      "(4904549, 41)\n"
     ]
    }
   ],
   "source": [
    "# feature 중요도가 0 이상만 선택하기\n",
    "features_selected = importance_df.query('shap_importance > 0').column_name.tolist()\n",
    "X_train = X_train[features_selected]\n",
    "X_test = X_test[features_selected]\n",
    "print(X_train.shape)"
   ]
  },
  {
   "cell_type": "code",
   "execution_count": 68,
   "metadata": {},
   "outputs": [],
   "source": [
    "train_X, valid_X, train_y, valid_y = train_test_split(X_train, y_train, test_size=0.3, random_state=42)"
   ]
  },
  {
   "cell_type": "code",
   "execution_count": 70,
   "metadata": {},
   "outputs": [
    {
     "name": "stderr",
     "output_type": "stream",
     "text": [
      "[I 2025-02-04 22:00:18,842] A new study created in memory with name: no-name-4ed42d04-9e10-4309-91df-aa3653cb49e4\n",
      "[I 2025-02-04 22:01:55,105] Trial 0 finished with value: 0.8720565370309098 and parameters: {'n_estimators': 172, 'learning_rate': 0.01, 'max_depth': 11, 'subsample': 0.8, 'colsample': 0.8}. Best is trial 0 with value: 0.8720565370309098.\n",
      "[I 2025-02-04 22:03:10,289] Trial 1 finished with value: 0.932273581892199 and parameters: {'n_estimators': 133, 'learning_rate': 0.16000000000000003, 'max_depth': 12, 'subsample': 0.9, 'colsample': 0.6}. Best is trial 1 with value: 0.932273581892199.\n",
      "[I 2025-02-04 22:03:54,172] Trial 2 finished with value: 0.9063943760594466 and parameters: {'n_estimators': 106, 'learning_rate': 0.11, 'max_depth': 9, 'subsample': 0.6, 'colsample': 1.0}. Best is trial 1 with value: 0.932273581892199.\n",
      "[I 2025-02-04 22:05:06,983] Trial 3 finished with value: 0.8534243195787766 and parameters: {'n_estimators': 163, 'learning_rate': 0.01, 'max_depth': 9, 'subsample': 0.6, 'colsample': 0.7}. Best is trial 1 with value: 0.932273581892199.\n",
      "[I 2025-02-04 22:06:47,133] Trial 4 finished with value: 0.9283280794215856 and parameters: {'n_estimators': 212, 'learning_rate': 0.26, 'max_depth': 11, 'subsample': 0.6, 'colsample': 0.6}. Best is trial 1 with value: 0.932273581892199.\n",
      "[I 2025-02-04 22:09:41,305] Trial 5 finished with value: 0.9331436492524714 and parameters: {'n_estimators': 307, 'learning_rate': 0.16000000000000003, 'max_depth': 12, 'subsample': 0.7, 'colsample': 0.8}. Best is trial 5 with value: 0.9331436492524714.\n",
      "[I 2025-02-04 22:10:10,221] Trial 6 finished with value: 0.8686304206767398 and parameters: {'n_estimators': 95, 'learning_rate': 0.11, 'max_depth': 6, 'subsample': 0.8, 'colsample': 1.0}. Best is trial 5 with value: 0.9331436492524714.\n",
      "[I 2025-02-04 22:11:27,472] Trial 7 finished with value: 0.9299414589668518 and parameters: {'n_estimators': 135, 'learning_rate': 0.16000000000000003, 'max_depth': 12, 'subsample': 0.6, 'colsample': 0.7}. Best is trial 5 with value: 0.9331436492524714.\n",
      "[I 2025-02-04 22:11:57,941] Trial 8 finished with value: 0.8260417475533505 and parameters: {'n_estimators': 111, 'learning_rate': 0.01, 'max_depth': 6, 'subsample': 1.0, 'colsample': 1.0}. Best is trial 5 with value: 0.9331436492524714.\n",
      "[I 2025-02-04 22:13:27,213] Trial 9 finished with value: 0.929245771743209 and parameters: {'n_estimators': 190, 'learning_rate': 0.21000000000000002, 'max_depth': 11, 'subsample': 0.6, 'colsample': 0.9}. Best is trial 5 with value: 0.9331436492524714.\n",
      "[I 2025-02-04 22:15:02,727] Trial 10 finished with value: 0.9255395447669788 and parameters: {'n_estimators': 321, 'learning_rate': 0.26, 'max_depth': 8, 'subsample': 0.7, 'colsample': 0.8}. Best is trial 5 with value: 0.9331436492524714.\n",
      "[I 2025-02-04 22:17:17,145] Trial 11 finished with value: 0.9357969557605348 and parameters: {'n_estimators': 287, 'learning_rate': 0.16000000000000003, 'max_depth': 12, 'subsample': 1.0, 'colsample': 0.6}. Best is trial 11 with value: 0.9357969557605348.\n",
      "[I 2025-02-04 22:18:51,721] Trial 12 finished with value: 0.9328109005858677 and parameters: {'n_estimators': 292, 'learning_rate': 0.21000000000000002, 'max_depth': 10, 'subsample': 1.0, 'colsample': 0.7}. Best is trial 11 with value: 0.9357969557605348.\n",
      "[I 2025-02-04 22:21:17,871] Trial 13 finished with value: 0.9348664200253598 and parameters: {'n_estimators': 265, 'learning_rate': 0.11, 'max_depth': 12, 'subsample': 0.9, 'colsample': 0.9}. Best is trial 11 with value: 0.9357969557605348.\n",
      "[I 2025-02-04 22:23:09,421] Trial 14 finished with value: 0.9214137143462505 and parameters: {'n_estimators': 266, 'learning_rate': 0.060000000000000005, 'max_depth': 10, 'subsample': 0.9, 'colsample': 0.9}. Best is trial 11 with value: 0.9357969557605348.\n",
      "[I 2025-02-04 22:24:57,267] Trial 15 finished with value: 0.9092914103325469 and parameters: {'n_estimators': 348, 'learning_rate': 0.060000000000000005, 'max_depth': 8, 'subsample': 0.9, 'colsample': 0.9}. Best is trial 11 with value: 0.9357969557605348.\n",
      "[I 2025-02-04 22:26:24,961] Trial 16 finished with value: 0.9275662623789062 and parameters: {'n_estimators': 244, 'learning_rate': 0.11, 'max_depth': 10, 'subsample': 1.0, 'colsample': 0.6}. Best is trial 11 with value: 0.9357969557605348.\n",
      "[I 2025-02-04 22:28:39,446] Trial 17 finished with value: 0.9340849526784283 and parameters: {'n_estimators': 251, 'learning_rate': 0.21000000000000002, 'max_depth': 12, 'subsample': 0.9, 'colsample': 0.9}. Best is trial 11 with value: 0.9357969557605348.\n",
      "[I 2025-02-04 22:30:40,852] Trial 18 finished with value: 0.9274118928026921 and parameters: {'n_estimators': 276, 'learning_rate': 0.060000000000000005, 'max_depth': 11, 'subsample': 1.0, 'colsample': 0.8}. Best is trial 11 with value: 0.9357969557605348.\n",
      "[I 2025-02-04 22:31:44,578] Trial 19 finished with value: 0.9097152431609278 and parameters: {'n_estimators': 227, 'learning_rate': 0.16000000000000003, 'max_depth': 7, 'subsample': 0.8, 'colsample': 0.7}. Best is trial 11 with value: 0.9357969557605348.\n",
      "[I 2025-02-04 22:33:57,109] Trial 20 finished with value: 0.9310142608397488 and parameters: {'n_estimators': 341, 'learning_rate': 0.11, 'max_depth': 10, 'subsample': 0.9, 'colsample': 0.9}. Best is trial 11 with value: 0.9357969557605348.\n",
      "[I 2025-02-04 22:36:11,508] Trial 21 finished with value: 0.9340689928496657 and parameters: {'n_estimators': 254, 'learning_rate': 0.21000000000000002, 'max_depth': 12, 'subsample': 0.9, 'colsample': 0.9}. Best is trial 11 with value: 0.9357969557605348.\n",
      "[I 2025-02-04 22:38:24,802] Trial 22 finished with value: 0.9349399915818651 and parameters: {'n_estimators': 288, 'learning_rate': 0.21000000000000002, 'max_depth': 12, 'subsample': 1.0, 'colsample': 0.9}. Best is trial 11 with value: 0.9357969557605348.\n",
      "[I 2025-02-04 22:40:16,729] Trial 23 finished with value: 0.9343516644945182 and parameters: {'n_estimators': 285, 'learning_rate': 0.16000000000000003, 'max_depth': 11, 'subsample': 1.0, 'colsample': 1.0}. Best is trial 11 with value: 0.9357969557605348.\n",
      "[I 2025-02-04 22:42:42,713] Trial 24 finished with value: 0.933836001853684 and parameters: {'n_estimators': 315, 'learning_rate': 0.26, 'max_depth': 12, 'subsample': 1.0, 'colsample': 0.9}. Best is trial 11 with value: 0.9357969557605348.\n",
      "[I 2025-02-04 22:44:15,861] Trial 25 finished with value: 0.9339398756797982 and parameters: {'n_estimators': 231, 'learning_rate': 0.21000000000000002, 'max_depth': 11, 'subsample': 1.0, 'colsample': 0.8}. Best is trial 11 with value: 0.9357969557605348.\n",
      "[I 2025-02-04 22:46:56,235] Trial 26 finished with value: 0.9353300881224694 and parameters: {'n_estimators': 297, 'learning_rate': 0.11, 'max_depth': 12, 'subsample': 0.9, 'colsample': 1.0}. Best is trial 11 with value: 0.9357969557605348.\n",
      "[I 2025-02-04 22:48:55,197] Trial 27 finished with value: 0.9346167972012516 and parameters: {'n_estimators': 304, 'learning_rate': 0.16000000000000003, 'max_depth': 11, 'subsample': 1.0, 'colsample': 1.0}. Best is trial 11 with value: 0.9357969557605348.\n",
      "[I 2025-02-04 22:52:01,961] Trial 28 finished with value: 0.9331181253599155 and parameters: {'n_estimators': 326, 'learning_rate': 0.060000000000000005, 'max_depth': 12, 'subsample': 0.8, 'colsample': 1.0}. Best is trial 11 with value: 0.9357969557605348.\n",
      "[I 2025-02-04 22:53:23,993] Trial 29 finished with value: 0.9305795780955121 and parameters: {'n_estimators': 208, 'learning_rate': 0.21000000000000002, 'max_depth': 10, 'subsample': 0.9, 'colsample': 1.0}. Best is trial 11 with value: 0.9357969557605348.\n",
      "[I 2025-02-04 22:55:19,692] Trial 30 finished with value: 0.9339311579327225 and parameters: {'n_estimators': 297, 'learning_rate': 0.26, 'max_depth': 11, 'subsample': 1.0, 'colsample': 0.6}. Best is trial 11 with value: 0.9357969557605348.\n",
      "[I 2025-02-04 22:57:48,063] Trial 31 finished with value: 0.9349230024857349 and parameters: {'n_estimators': 269, 'learning_rate': 0.11, 'max_depth': 12, 'subsample': 0.9, 'colsample': 0.9}. Best is trial 11 with value: 0.9357969557605348.\n",
      "[I 2025-02-04 23:00:16,834] Trial 32 finished with value: 0.934947117695309 and parameters: {'n_estimators': 271, 'learning_rate': 0.11, 'max_depth': 12, 'subsample': 0.9, 'colsample': 0.8}. Best is trial 11 with value: 0.9357969557605348.\n"
     ]
    },
    {
     "name": "stderr",
     "output_type": "stream",
     "text": [
      "[I 2025-02-04 23:02:55,815] Trial 33 finished with value: 0.9342623723705461 and parameters: {'n_estimators': 286, 'learning_rate': 0.16000000000000003, 'max_depth': 12, 'subsample': 0.8, 'colsample': 0.7}. Best is trial 11 with value: 0.9357969557605348.\n",
      "[I 2025-02-04 23:05:09,849] Trial 34 finished with value: 0.9338058268072947 and parameters: {'n_estimators': 331, 'learning_rate': 0.11, 'max_depth': 11, 'subsample': 1.0, 'colsample': 0.8}. Best is trial 11 with value: 0.9357969557605348.\n",
      "[I 2025-02-04 23:07:18,935] Trial 35 finished with value: 0.9348320024159076 and parameters: {'n_estimators': 239, 'learning_rate': 0.16000000000000003, 'max_depth': 12, 'subsample': 0.9, 'colsample': 0.6}. Best is trial 11 with value: 0.9357969557605348.\n",
      "[I 2025-02-04 23:09:50,744] Trial 36 finished with value: 0.9286705598474508 and parameters: {'n_estimators': 309, 'learning_rate': 0.060000000000000005, 'max_depth': 11, 'subsample': 0.7, 'colsample': 0.8}. Best is trial 11 with value: 0.9357969557605348.\n",
      "[I 2025-02-04 23:11:27,784] Trial 37 finished with value: 0.9239242075427778 and parameters: {'n_estimators': 281, 'learning_rate': 0.11, 'max_depth': 9, 'subsample': 0.9, 'colsample': 1.0}. Best is trial 11 with value: 0.9357969557605348.\n",
      "[I 2025-02-04 23:12:48,806] Trial 38 finished with value: 0.9338983713948934 and parameters: {'n_estimators': 160, 'learning_rate': 0.16000000000000003, 'max_depth': 12, 'subsample': 1.0, 'colsample': 0.7}. Best is trial 11 with value: 0.9357969557605348.\n",
      "[I 2025-02-04 23:15:46,824] Trial 39 finished with value: 0.8935812832117029 and parameters: {'n_estimators': 258, 'learning_rate': 0.01, 'max_depth': 12, 'subsample': 0.8, 'colsample': 0.6}. Best is trial 11 with value: 0.9357969557605348.\n",
      "[I 2025-02-04 23:17:41,145] Trial 40 finished with value: 0.926232395304312 and parameters: {'n_estimators': 337, 'learning_rate': 0.11, 'max_depth': 9, 'subsample': 0.9, 'colsample': 0.8}. Best is trial 11 with value: 0.9357969557605348.\n",
      "[I 2025-02-04 23:20:10,049] Trial 41 finished with value: 0.9350152308991044 and parameters: {'n_estimators': 275, 'learning_rate': 0.11, 'max_depth': 12, 'subsample': 0.9, 'colsample': 0.9}. Best is trial 11 with value: 0.9357969557605348.\n",
      "[I 2025-02-04 23:22:29,125] Trial 42 finished with value: 0.9327854856038158 and parameters: {'n_estimators': 296, 'learning_rate': 0.11, 'max_depth': 11, 'subsample': 0.8, 'colsample': 1.0}. Best is trial 11 with value: 0.9357969557605348.\n",
      "[I 2025-02-04 23:25:01,790] Trial 43 finished with value: 0.9350670046434111 and parameters: {'n_estimators': 278, 'learning_rate': 0.11, 'max_depth': 12, 'subsample': 0.9, 'colsample': 0.8}. Best is trial 11 with value: 0.9357969557605348.\n",
      "[I 2025-02-04 23:27:12,667] Trial 44 finished with value: 0.9297450256833042 and parameters: {'n_estimators': 220, 'learning_rate': 0.060000000000000005, 'max_depth': 12, 'subsample': 0.9, 'colsample': 0.8}. Best is trial 11 with value: 0.9357969557605348.\n",
      "[I 2025-02-04 23:29:29,837] Trial 45 finished with value: 0.932751097808243 and parameters: {'n_estimators': 274, 'learning_rate': 0.11, 'max_depth': 11, 'subsample': 0.9, 'colsample': 0.7}. Best is trial 11 with value: 0.9357969557605348.\n",
      "[I 2025-02-04 23:32:30,748] Trial 46 finished with value: 0.9347294242168802 and parameters: {'n_estimators': 300, 'learning_rate': 0.11, 'max_depth': 12, 'subsample': 0.8, 'colsample': 0.8}. Best is trial 11 with value: 0.9357969557605348.\n",
      "[I 2025-02-04 23:35:30,175] Trial 47 finished with value: 0.9351649359188047 and parameters: {'n_estimators': 320, 'learning_rate': 0.16000000000000003, 'max_depth': 12, 'subsample': 0.9, 'colsample': 0.7}. Best is trial 11 with value: 0.9357969557605348.\n",
      "[I 2025-02-04 23:37:59,830] Trial 48 finished with value: 0.9324109946909793 and parameters: {'n_estimators': 317, 'learning_rate': 0.16000000000000003, 'max_depth': 11, 'subsample': 0.7, 'colsample': 0.7}. Best is trial 11 with value: 0.9357969557605348.\n",
      "[I 2025-02-04 23:41:08,195] Trial 49 finished with value: 0.9351308164454812 and parameters: {'n_estimators': 349, 'learning_rate': 0.16000000000000003, 'max_depth': 12, 'subsample': 0.9, 'colsample': 0.6}. Best is trial 11 with value: 0.9357969557605348.\n",
      "[I 2025-02-04 23:43:37,251] Trial 50 finished with value: 0.9336273602490783 and parameters: {'n_estimators': 324, 'learning_rate': 0.16000000000000003, 'max_depth': 11, 'subsample': 0.8, 'colsample': 0.6}. Best is trial 11 with value: 0.9357969557605348.\n",
      "[I 2025-02-04 23:46:42,307] Trial 51 finished with value: 0.9351399185874941 and parameters: {'n_estimators': 345, 'learning_rate': 0.16000000000000003, 'max_depth': 12, 'subsample': 0.9, 'colsample': 0.6}. Best is trial 11 with value: 0.9357969557605348.\n",
      "[I 2025-02-04 23:49:49,416] Trial 52 finished with value: 0.9351319198570914 and parameters: {'n_estimators': 350, 'learning_rate': 0.16000000000000003, 'max_depth': 12, 'subsample': 0.9, 'colsample': 0.6}. Best is trial 11 with value: 0.9357969557605348.\n",
      "[I 2025-02-04 23:52:59,195] Trial 53 finished with value: 0.9351383615707543 and parameters: {'n_estimators': 348, 'learning_rate': 0.16000000000000003, 'max_depth': 12, 'subsample': 0.9, 'colsample': 0.6}. Best is trial 11 with value: 0.9357969557605348.\n",
      "[I 2025-02-04 23:54:30,163] Trial 54 finished with value: 0.9164420338484988 and parameters: {'n_estimators': 339, 'learning_rate': 0.16000000000000003, 'max_depth': 7, 'subsample': 0.9, 'colsample': 0.6}. Best is trial 11 with value: 0.9357969557605348.\n",
      "[I 2025-02-04 23:57:36,075] Trial 55 finished with value: 0.9351453465754004 and parameters: {'n_estimators': 332, 'learning_rate': 0.16000000000000003, 'max_depth': 12, 'subsample': 0.9, 'colsample': 0.6}. Best is trial 11 with value: 0.9357969557605348.\n",
      "[I 2025-02-05 00:00:18,897] Trial 56 finished with value: 0.9349683820872345 and parameters: {'n_estimators': 332, 'learning_rate': 0.21000000000000002, 'max_depth': 12, 'subsample': 1.0, 'colsample': 0.6}. Best is trial 11 with value: 0.9357969557605348.\n",
      "[I 2025-02-05 00:02:42,857] Trial 57 finished with value: 0.9342321704745575 and parameters: {'n_estimators': 313, 'learning_rate': 0.16000000000000003, 'max_depth': 11, 'subsample': 0.9, 'colsample': 0.6}. Best is trial 11 with value: 0.9357969557605348.\n",
      "[I 2025-02-05 00:04:24,207] Trial 58 finished with value: 0.9255050746055101 and parameters: {'n_estimators': 323, 'learning_rate': 0.21000000000000002, 'max_depth': 8, 'subsample': 0.8, 'colsample': 0.6}. Best is trial 11 with value: 0.9357969557605348.\n",
      "[I 2025-02-05 00:07:05,656] Trial 59 finished with value: 0.9344589559652178 and parameters: {'n_estimators': 342, 'learning_rate': 0.16000000000000003, 'max_depth': 11, 'subsample': 0.9, 'colsample': 0.7}. Best is trial 11 with value: 0.9357969557605348.\n",
      "[I 2025-02-05 00:09:33,033] Trial 60 finished with value: 0.9358480951392849 and parameters: {'n_estimators': 310, 'learning_rate': 0.16000000000000003, 'max_depth': 12, 'subsample': 1.0, 'colsample': 0.7}. Best is trial 60 with value: 0.9358480951392849.\n",
      "[I 2025-02-05 00:11:58,459] Trial 61 finished with value: 0.9358457094558513 and parameters: {'n_estimators': 307, 'learning_rate': 0.16000000000000003, 'max_depth': 12, 'subsample': 1.0, 'colsample': 0.7}. Best is trial 60 with value: 0.9358480951392849.\n",
      "[I 2025-02-05 00:14:21,452] Trial 62 finished with value: 0.9349453366629022 and parameters: {'n_estimators': 309, 'learning_rate': 0.21000000000000002, 'max_depth': 12, 'subsample': 1.0, 'colsample': 0.7}. Best is trial 60 with value: 0.9358480951392849.\n",
      "[I 2025-02-05 00:17:01,246] Trial 63 finished with value: 0.9358978493436705 and parameters: {'n_estimators': 328, 'learning_rate': 0.16000000000000003, 'max_depth': 12, 'subsample': 1.0, 'colsample': 0.7}. Best is trial 63 with value: 0.9358978493436705.\n",
      "[I 2025-02-05 00:19:30,436] Trial 64 finished with value: 0.9358265404026577 and parameters: {'n_estimators': 295, 'learning_rate': 0.16000000000000003, 'max_depth': 12, 'subsample': 1.0, 'colsample': 0.7}. Best is trial 63 with value: 0.9358978493436705.\n",
      "[I 2025-02-05 00:22:00,761] Trial 65 finished with value: 0.9358258558160681 and parameters: {'n_estimators': 303, 'learning_rate': 0.16000000000000003, 'max_depth': 12, 'subsample': 1.0, 'colsample': 0.7}. Best is trial 63 with value: 0.9358978493436705.\n"
     ]
    },
    {
     "name": "stderr",
     "output_type": "stream",
     "text": [
      "[I 2025-02-05 00:24:30,573] Trial 66 finished with value: 0.9358156266507228 and parameters: {'n_estimators': 292, 'learning_rate': 0.16000000000000003, 'max_depth': 12, 'subsample': 1.0, 'colsample': 0.7}. Best is trial 63 with value: 0.9358978493436705.\n",
      "[I 2025-02-05 00:26:29,767] Trial 67 finished with value: 0.9344399679505999 and parameters: {'n_estimators': 292, 'learning_rate': 0.16000000000000003, 'max_depth': 11, 'subsample': 1.0, 'colsample': 0.7}. Best is trial 63 with value: 0.9358978493436705.\n",
      "[I 2025-02-05 00:28:12,302] Trial 68 finished with value: 0.9329461902007447 and parameters: {'n_estimators': 306, 'learning_rate': 0.21000000000000002, 'max_depth': 10, 'subsample': 1.0, 'colsample': 0.7}. Best is trial 63 with value: 0.9358978493436705.\n",
      "[I 2025-02-05 00:29:49,077] Trial 69 finished with value: 0.934644028850369 and parameters: {'n_estimators': 191, 'learning_rate': 0.16000000000000003, 'max_depth': 12, 'subsample': 1.0, 'colsample': 0.7}. Best is trial 63 with value: 0.9358978493436705.\n",
      "[I 2025-02-05 00:31:54,297] Trial 70 finished with value: 0.9355280691314259 and parameters: {'n_estimators': 260, 'learning_rate': 0.16000000000000003, 'max_depth': 12, 'subsample': 1.0, 'colsample': 0.7}. Best is trial 63 with value: 0.9358978493436705.\n",
      "[I 2025-02-05 00:34:00,259] Trial 71 finished with value: 0.9355280691314259 and parameters: {'n_estimators': 260, 'learning_rate': 0.16000000000000003, 'max_depth': 12, 'subsample': 1.0, 'colsample': 0.7}. Best is trial 63 with value: 0.9358978493436705.\n"
     ]
    }
   ],
   "source": [
    "# 하이퍼 파라미터 튜닝\n",
    "def objective_xgbm(trial, X, y):\n",
    "    \n",
    "    param_bo = {\n",
    "        'n_estimators': trial.suggest_int(\"n_estimators\", 80, 350),\n",
    "        'learning_rate': trial.suggest_float(\"learning_rate\", 0.01, 0.3, step=0.05),\n",
    "        'max_depth': trial.suggest_int(\"max_depth\", 6, 12),\n",
    "        'subsample': trial.suggest_float(\"subsample\", 0.6, 1, step=0.1),\n",
    "        'colsample': trial.suggest_float(\"colsample\", 0.6, 1, step=0.1),\n",
    "    }\n",
    "\n",
    "    model = XGBClassifier(**param_bo,tree_method='hist', random_state=0) # 데이터가 많아 hist 방식 사용\n",
    "    # 히스토그램(bin) 단위로 데이터를 압축하여 저장하므로 메모리 사용량이 줄어듦.\n",
    "    score = model_selection.cross_val_score(model, X, y, cv=5, n_jobs=-1, scoring='roc_auc')\n",
    "    return score.mean()\n",
    "\n",
    "study_xgbm = optuna.create_study(direction=\"maximize\")\n",
    "study_xgbm.optimize(lambda trial: objective_xgbm(trial, train_X, train_y), n_trials=72)"
   ]
  },
  {
   "cell_type": "code",
   "execution_count": 71,
   "metadata": {},
   "outputs": [
    {
     "data": {
      "text/plain": [
       "{'n_estimators': 328,\n",
       " 'learning_rate': 0.16000000000000003,\n",
       " 'max_depth': 12,\n",
       " 'subsample': 1.0,\n",
       " 'colsample': 0.7}"
      ]
     },
     "execution_count": 71,
     "metadata": {},
     "output_type": "execute_result"
    }
   ],
   "source": [
    "study_xgbm.best_params"
   ]
  },
  {
   "cell_type": "code",
   "execution_count": 72,
   "metadata": {},
   "outputs": [
    {
     "data": {
      "text/html": [
       "<style>#sk-container-id-1 {color: black;background-color: white;}#sk-container-id-1 pre{padding: 0;}#sk-container-id-1 div.sk-toggleable {background-color: white;}#sk-container-id-1 label.sk-toggleable__label {cursor: pointer;display: block;width: 100%;margin-bottom: 0;padding: 0.3em;box-sizing: border-box;text-align: center;}#sk-container-id-1 label.sk-toggleable__label-arrow:before {content: \"▸\";float: left;margin-right: 0.25em;color: #696969;}#sk-container-id-1 label.sk-toggleable__label-arrow:hover:before {color: black;}#sk-container-id-1 div.sk-estimator:hover label.sk-toggleable__label-arrow:before {color: black;}#sk-container-id-1 div.sk-toggleable__content {max-height: 0;max-width: 0;overflow: hidden;text-align: left;background-color: #f0f8ff;}#sk-container-id-1 div.sk-toggleable__content pre {margin: 0.2em;color: black;border-radius: 0.25em;background-color: #f0f8ff;}#sk-container-id-1 input.sk-toggleable__control:checked~div.sk-toggleable__content {max-height: 200px;max-width: 100%;overflow: auto;}#sk-container-id-1 input.sk-toggleable__control:checked~label.sk-toggleable__label-arrow:before {content: \"▾\";}#sk-container-id-1 div.sk-estimator input.sk-toggleable__control:checked~label.sk-toggleable__label {background-color: #d4ebff;}#sk-container-id-1 div.sk-label input.sk-toggleable__control:checked~label.sk-toggleable__label {background-color: #d4ebff;}#sk-container-id-1 input.sk-hidden--visually {border: 0;clip: rect(1px 1px 1px 1px);clip: rect(1px, 1px, 1px, 1px);height: 1px;margin: -1px;overflow: hidden;padding: 0;position: absolute;width: 1px;}#sk-container-id-1 div.sk-estimator {font-family: monospace;background-color: #f0f8ff;border: 1px dotted black;border-radius: 0.25em;box-sizing: border-box;margin-bottom: 0.5em;}#sk-container-id-1 div.sk-estimator:hover {background-color: #d4ebff;}#sk-container-id-1 div.sk-parallel-item::after {content: \"\";width: 100%;border-bottom: 1px solid gray;flex-grow: 1;}#sk-container-id-1 div.sk-label:hover label.sk-toggleable__label {background-color: #d4ebff;}#sk-container-id-1 div.sk-serial::before {content: \"\";position: absolute;border-left: 1px solid gray;box-sizing: border-box;top: 0;bottom: 0;left: 50%;z-index: 0;}#sk-container-id-1 div.sk-serial {display: flex;flex-direction: column;align-items: center;background-color: white;padding-right: 0.2em;padding-left: 0.2em;position: relative;}#sk-container-id-1 div.sk-item {position: relative;z-index: 1;}#sk-container-id-1 div.sk-parallel {display: flex;align-items: stretch;justify-content: center;background-color: white;position: relative;}#sk-container-id-1 div.sk-item::before, #sk-container-id-1 div.sk-parallel-item::before {content: \"\";position: absolute;border-left: 1px solid gray;box-sizing: border-box;top: 0;bottom: 0;left: 50%;z-index: -1;}#sk-container-id-1 div.sk-parallel-item {display: flex;flex-direction: column;z-index: 1;position: relative;background-color: white;}#sk-container-id-1 div.sk-parallel-item:first-child::after {align-self: flex-end;width: 50%;}#sk-container-id-1 div.sk-parallel-item:last-child::after {align-self: flex-start;width: 50%;}#sk-container-id-1 div.sk-parallel-item:only-child::after {width: 0;}#sk-container-id-1 div.sk-dashed-wrapped {border: 1px dashed gray;margin: 0 0.4em 0.5em 0.4em;box-sizing: border-box;padding-bottom: 0.4em;background-color: white;}#sk-container-id-1 div.sk-label label {font-family: monospace;font-weight: bold;display: inline-block;line-height: 1.2em;}#sk-container-id-1 div.sk-label-container {text-align: center;}#sk-container-id-1 div.sk-container {/* jupyter's `normalize.less` sets `[hidden] { display: none; }` but bootstrap.min.css set `[hidden] { display: none !important; }` so we also need the `!important` here to be able to override the default hidden behavior on the sphinx rendered scikit-learn.org. See: https://github.com/scikit-learn/scikit-learn/issues/21755 */display: inline-block !important;position: relative;}#sk-container-id-1 div.sk-text-repr-fallback {display: none;}</style><div id=\"sk-container-id-1\" class=\"sk-top-container\"><div class=\"sk-text-repr-fallback\"><pre>XGBClassifier(base_score=None, booster=None, callbacks=None, colsample=0.7,\n",
       "              colsample_bylevel=None, colsample_bynode=None,\n",
       "              colsample_bytree=None, device=None, early_stopping_rounds=None,\n",
       "              enable_categorical=False, eval_metric=None, feature_types=None,\n",
       "              gamma=None, grow_policy=None, importance_type=None,\n",
       "              interaction_constraints=None, learning_rate=0.16, max_bin=None,\n",
       "              max_cat_threshold=None, max_cat_to_onehot=None,\n",
       "              max_delta_step=None, max_depth=12, max_leaves=None,\n",
       "              min_child_weight=None, missing=nan, monotone_constraints=None,\n",
       "              multi_strategy=None, n_estimators=328, n_jobs=None,\n",
       "              num_parallel_tree=None, ...)</pre><b>In a Jupyter environment, please rerun this cell to show the HTML representation or trust the notebook. <br />On GitHub, the HTML representation is unable to render, please try loading this page with nbviewer.org.</b></div><div class=\"sk-container\" hidden><div class=\"sk-item\"><div class=\"sk-estimator sk-toggleable\"><input class=\"sk-toggleable__control sk-hidden--visually\" id=\"sk-estimator-id-1\" type=\"checkbox\" checked><label for=\"sk-estimator-id-1\" class=\"sk-toggleable__label sk-toggleable__label-arrow\">XGBClassifier</label><div class=\"sk-toggleable__content\"><pre>XGBClassifier(base_score=None, booster=None, callbacks=None, colsample=0.7,\n",
       "              colsample_bylevel=None, colsample_bynode=None,\n",
       "              colsample_bytree=None, device=None, early_stopping_rounds=None,\n",
       "              enable_categorical=False, eval_metric=None, feature_types=None,\n",
       "              gamma=None, grow_policy=None, importance_type=None,\n",
       "              interaction_constraints=None, learning_rate=0.16, max_bin=None,\n",
       "              max_cat_threshold=None, max_cat_to_onehot=None,\n",
       "              max_delta_step=None, max_depth=12, max_leaves=None,\n",
       "              min_child_weight=None, missing=nan, monotone_constraints=None,\n",
       "              multi_strategy=None, n_estimators=328, n_jobs=None,\n",
       "              num_parallel_tree=None, ...)</pre></div></div></div></div></div>"
      ],
      "text/plain": [
       "XGBClassifier(base_score=None, booster=None, callbacks=None, colsample=0.7,\n",
       "              colsample_bylevel=None, colsample_bynode=None,\n",
       "              colsample_bytree=None, device=None, early_stopping_rounds=None,\n",
       "              enable_categorical=False, eval_metric=None, feature_types=None,\n",
       "              gamma=None, grow_policy=None, importance_type=None,\n",
       "              interaction_constraints=None, learning_rate=0.16, max_bin=None,\n",
       "              max_cat_threshold=None, max_cat_to_onehot=None,\n",
       "              max_delta_step=None, max_depth=12, max_leaves=None,\n",
       "              min_child_weight=None, missing=nan, monotone_constraints=None,\n",
       "              multi_strategy=None, n_estimators=328, n_jobs=None,\n",
       "              num_parallel_tree=None, ...)"
      ]
     },
     "execution_count": 72,
     "metadata": {},
     "output_type": "execute_result"
    }
   ],
   "source": [
    "a = XGBClassifier(tree_method='hist',n_estimators= 328,learning_rate= 0.16,\n",
    "                  max_depth= 12,subsample= 1.0,colsample= 0.7, random_state=0)\n",
    "a.fit(train_X, train_y)"
   ]
  },
  {
   "cell_type": "code",
   "execution_count": 73,
   "metadata": {},
   "outputs": [],
   "source": [
    "pred = a.predict(valid_X)\n",
    "pred_proba = a.predict_proba(valid_X)[:,1]"
   ]
  },
  {
   "cell_type": "code",
   "execution_count": 74,
   "metadata": {},
   "outputs": [],
   "source": [
    "from sklearn.metrics import *"
   ]
  },
  {
   "cell_type": "code",
   "execution_count": 79,
   "metadata": {},
   "outputs": [
    {
     "name": "stdout",
     "output_type": "stream",
     "text": [
      "accuracy: 0.8634272667268343, precision: 0.8257788790202903, recall: 0.815163979499813, f1: 0.8204370965313875, roc_auc: 0.9380694763637805\n"
     ]
    }
   ],
   "source": [
    "accuracy = accuracy_score(valid_y, pred) \n",
    "precision = precision_score(valid_y, pred) \n",
    "recall = recall_score(valid_y, pred) \n",
    "f1 = f1_score(valid_y, pred) \n",
    "# ROC AUC \n",
    "roc_auc = roc_auc_score(valid_y, pred_proba) \n",
    "\n",
    "print(f'accuracy: {accuracy}, precision: {precision}, recall: {recall}, f1: {f1}, roc_auc: {roc_auc}')"
   ]
  },
  {
   "cell_type": "code",
   "execution_count": 50,
   "metadata": {},
   "outputs": [
    {
     "name": "stdout",
     "output_type": "stream",
     "text": [
      "'xgboost_submission_1214_1746.csv' is ready to submit.\n"
     ]
    }
   ],
   "source": [
    "t = pd.Timestamp.now()\n",
    "fname = f\"xgboost_submission_{t.month:02}{t.day:02}_{t.hour:02}{t.minute:02}.csv\"\n",
    "pd.DataFrame({'ID': test_id, 'STATUS': a.predict_proba(X_test)[:,1]}).to_csv(fname, index=False)\n",
    "print(f\"'{fname}' is ready to submit.\")"
   ]
  },
  {
   "cell_type": "code",
   "execution_count": null,
   "metadata": {},
   "outputs": [],
   "source": [
    "del X_train,X_test\n",
    "gc.collect()"
   ]
  },
  {
   "cell_type": "markdown",
   "metadata": {},
   "source": [
    "## 앙상블(0.90137)"
   ]
  },
  {
   "cell_type": "code",
   "execution_count": null,
   "metadata": {},
   "outputs": [],
   "source": [
    "c01 = pd.read_csv(os.path.abspath(\"../input\")+'/xgboost0.89661.csv')\n",
    "c02 = pd.read_csv(os.path.abspath(\"../input\")+'/dnn_0.89418.csv')"
   ]
  },
  {
   "cell_type": "code",
   "execution_count": null,
   "metadata": {},
   "outputs": [],
   "source": [
    "sub = pd.read_csv(\"../input\")+'/sample_submission.csv')"
   ]
  },
  {
   "cell_type": "code",
   "execution_count": null,
   "metadata": {},
   "outputs": [],
   "source": [
    "b = c01.copy()"
   ]
  },
  {
   "cell_type": "code",
   "execution_count": null,
   "metadata": {},
   "outputs": [],
   "source": [
    "b.STATUS=0.5*c01.STATUS + 0.5*c02.STATUS"
   ]
  },
  {
   "cell_type": "code",
   "execution_count": null,
   "metadata": {},
   "outputs": [],
   "source": [
    "sub.STATUS=b.STATUS"
   ]
  },
  {
   "cell_type": "code",
   "execution_count": null,
   "metadata": {},
   "outputs": [],
   "source": [
    "sub.to_csv('0.90137.csv', index=False)"
   ]
  }
 ],
 "metadata": {
  "kernelspec": {
   "display_name": "Python 3 (ipykernel)",
   "language": "python",
   "name": "python3"
  },
  "language_info": {
   "codemirror_mode": {
    "name": "ipython",
    "version": 3
   },
   "file_extension": ".py",
   "mimetype": "text/x-python",
   "name": "python",
   "nbconvert_exporter": "python",
   "pygments_lexer": "ipython3",
   "version": "3.11.7"
  }
 },
 "nbformat": 4,
 "nbformat_minor": 4
}
